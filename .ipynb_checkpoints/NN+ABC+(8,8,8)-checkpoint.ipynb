{
 "cells": [
  {
   "cell_type": "code",
   "execution_count": 1,
   "id": "8bd9dba7",
   "metadata": {},
   "outputs": [],
   "source": [
    "import random\n",
    "import numpy as np\n",
    "import pandas as pd\n",
    "import copy\n",
    "import time\n",
    "from sklearn.preprocessing import StandardScaler"
   ]
  },
  {
   "cell_type": "code",
   "execution_count": 2,
   "id": "59e74f03",
   "metadata": {},
   "outputs": [],
   "source": [
    "class Network(object):\n",
    "\n",
    "    def __init__(self, sizes):\n",
    "        self.num_layers = len(sizes)\n",
    "        self.sizes = sizes\n",
    "        self.biases = [np.random.randn(y, 1) for y in sizes[1:]]\n",
    "        self.weights = [np.random.randn(y, x) for x, y in zip(sizes[:-1], sizes[1:])]\n",
    "        \n",
    "        # helper variables\n",
    "        self.bias_nitem = sum(sizes[1:])\n",
    "        self.weight_nitem = sum([self.weights[i].size for i in range(self.num_layers-2)])\n",
    "        self.counter = 0\n",
    "\n",
    "    def feedforward(self, a):\n",
    "        for b, w in zip(self.biases, self.weights):\n",
    "            a = self.sigmoid(np.dot(w,a)+b)\n",
    "        return a\n",
    "\n",
    "    def sigmoid(self, z):\n",
    "        return 1.0/(1.0+np.exp(-z))\n",
    "\n",
    "    def score(self, X, y):\n",
    "        total_score=0\n",
    "        for i in range(X.shape[0]):\n",
    "            predicted = self.feedforward(X[i].reshape(-1,1))\n",
    "            actual = y[i].reshape(-1,1)\n",
    "            total_score += np.sum(np.power(predicted-actual,2))  # mean-squared error\n",
    "        return total_score/X.shape[0]\n",
    "    \n",
    "    def score_vector(self, X, y):\n",
    "        total_score=0\n",
    "        for i in range(X.shape[0]):\n",
    "            predicted = self.feedforward(X[i].reshape(-1,1))\n",
    "            actual = y[i].reshape(-1,1)\n",
    "            total_score += np.sum(np.power(predicted-actual,2))  # mean-squared error\n",
    "        total_score=total_score/X.shape[0]\n",
    "        return (1/(1+total_score))\n",
    "\n",
    "    def accuracy(self, X, y):\n",
    "        accuracy = 0\n",
    "        for i in range(X.shape[0]):\n",
    "            output = (self.feedforward(X[i].reshape(-1,1))).reshape(-1)\n",
    "            condition = True\n",
    "            for j in range(len(output)):\n",
    "                output[j] = round(output[j])\n",
    "            for j in range(len(output)):\n",
    "                if(output[j]!=y[i][j]):\n",
    "                    condition = False\n",
    "                    break\n",
    "            if condition:\n",
    "                accuracy += 1\n",
    "        return accuracy / X.shape[0] * 100\n",
    "\n",
    "    def __str__(self):\n",
    "        s = \"\\nBias:\\n\\n\" + str(self.biases)\n",
    "        s += \"\\nWeights:\\n\\n\" + str(self.weights)\n",
    "        s += \"\\n\\n\"\n",
    "        return s"
   ]
  },
  {
   "cell_type": "code",
   "execution_count": 3,
   "id": "f7b28a81",
   "metadata": {},
   "outputs": [],
   "source": [
    "class NN_ABC_Algo:\n",
    "\n",
    "    def __init__(self, n_pops, net_size, X, y):\n",
    "        self.n_pops = n_pops\n",
    "        self.net_size = net_size\n",
    "        self.nets = [Network(self.net_size) for i in range(self.n_pops)]\n",
    "        self.X = X[:]\n",
    "        self.y = y[:]\n",
    "        self.limit = n_pops\n",
    "        self.best = Network(self.net_size)\n",
    "    \n",
    "    def get_random_point(self, type):\n",
    "        nn = self.nets[0]\n",
    "        layer_index, point_index = random.randint(0, nn.num_layers-2), 0\n",
    "        if type == 'weight':\n",
    "            row = random.randint(0,nn.weights[layer_index].shape[0]-1)\n",
    "            col = random.randint(0,nn.weights[layer_index].shape[1]-1)\n",
    "            point_index = (row, col)\n",
    "        elif type == 'bias':\n",
    "            point_index = random.randint(0,nn.biases[layer_index].size-1)\n",
    "        return (layer_index, point_index)\n",
    "\n",
    "    def get_all_scores(self):\n",
    "        return [net.score(self.X, self.y) for net in self.nets]\n",
    "\n",
    "    def get_all_scores_vector(self):\n",
    "        return [net.score_vector(self.X, self.y) for net in self.nets]\n",
    "\n",
    "    def get_all_accuracy(self):\n",
    "        return [net.accuracy(self.X, self.y) for net in self.nets]\n",
    "    def initialization_phase(self):\n",
    "        for i in range(self.n_pops):\n",
    "            weight = copy.deepcopy(self.nets[i].weights)\n",
    "            for x in range(len(weight)):\n",
    "                for y in range(len(weight[x])):\n",
    "                    for z in range(len(weight[x][y])):\n",
    "                        weight[x][y][z]=self.nets[i].weights[x][y].min() + np.random.rand()*(self.nets[i].weights[x][y].max()-self.nets[i].weights[x][y].min())\n",
    "            self.nets[i].weights = copy.deepcopy(weight)\n",
    "            biases = copy.deepcopy(self.nets[i].biases)\n",
    "            for x in range(len(biases)):\n",
    "                for y in range(len(biases[x])):\n",
    "                    for z in range(len(biases[x][y])):\n",
    "                        biases[x][y][z]=self.nets[i].biases[x].min() + np.random.rand()*(self.nets[i].biases[x].max()-self.nets[i].biases[x].min())\n",
    "            self.nets[i].biases = copy.deepcopy(biases)\n",
    "\n",
    "    def employeed_phase(self):\n",
    "        nets = copy.deepcopy(self.nets)\n",
    "        for i in range(self.n_pops):\n",
    "            r = list(range(0,i)) + list(range(i+1,self.n_pops))\n",
    "            coceg = random.choice(r)\n",
    "            fi1 = random.uniform(-1,1)\n",
    "            fi2 = random.uniform(-1,1)\n",
    "            nn = copy.deepcopy(self.nets[i])\n",
    "            for t in range(1):\n",
    "                # get some random points\n",
    "                layer1, point1 = self.get_random_point('bias')\n",
    "                # replace genetic (bias) with mother's value\n",
    "                nn.biases[layer1][point1] = nn.biases[layer1][point1] + fi1*(nn.biases[layer1][point1]-self.nets[coceg].biases[layer1][point1])\n",
    "                layer2, point2 = self.get_random_point('weight')\n",
    "                # replace genetic (weights) with mother's value\n",
    "                nn.weights[layer2][point2] = nn.weights[layer2][point2] + fi2*(nn.weights[layer2][point2]-self.nets[coceg].weights[layer2][point2])\n",
    "            if(nn.score_vector(self.X,self.y)>nets[i].score_vector(self.X,self.y)):\n",
    "                nn.counter = 0\n",
    "                nets[i] = copy.deepcopy(nn)\n",
    "            else:\n",
    "                nets[i].counter += 1\n",
    "        self.nets = copy.deepcopy(nets)\n",
    "        \n",
    "    def onlooked_phase(self):\n",
    "        all_scores_vector = self.get_all_scores_vector()\n",
    "        sum = np.sum(all_scores_vector)\n",
    "        probability = all_scores_vector/sum\n",
    "        nets = copy.deepcopy(self.nets)\n",
    "        for i in range(self.n_pops):\n",
    "            index_solution = np.random.choice(list(range(self.n_pops)),p=probability)\n",
    "            r = list(range(0,index_solution)) + list(range(index_solution+1,self.n_pops))\n",
    "            coceg = random.choice(r)\n",
    "            fi1 = random.uniform(-1,1)\n",
    "            fi2 = random.uniform(-1,1)\n",
    "            nn = copy.deepcopy(self.nets[index_solution])\n",
    "            for t in range(1):\n",
    "                # get some random points\n",
    "                layer1, point1 = self.get_random_point('bias')\n",
    "                # replace genetic (bias) with mother's value\n",
    "                nn.biases[layer1][point1] = nn.biases[layer1][point1] + fi1*(nn.biases[layer1][point1]-self.nets[coceg].biases[layer1][point1])\n",
    "                layer2, point2 = self.get_random_point('weight')\n",
    "                # replace genetic (weights) with mother's value\n",
    "                nn.weights[layer2][point2] = nn.weights[layer2][point2] + fi2*(nn.weights[layer2][point2]-self.nets[coceg].weights[layer2][point2])\n",
    "            if(nn.score_vector(self.X,self.y)>nets[index_solution].score_vector(self.X,self.y)):\n",
    "                nn.counter = 0\n",
    "                nets[index_solution] = copy.deepcopy(nn)\n",
    "            else:\n",
    "                nets[index_solution].counter += 1\n",
    "        self.nets = copy.deepcopy(nets)\n",
    "\n",
    "    def scout_phase(self):\n",
    "        for i in range(self.n_pops):\n",
    "            if self.nets[i].counter > self.limit:\n",
    "                weight = copy.deepcopy(self.nets[i].weights)\n",
    "                for x in range(len(weight)):\n",
    "                    for y in range(len(weight[x])):\n",
    "                        for z in range(len(weight[x][y])):\n",
    "                            weight[x][y][z]=self.nets[i].weights[x][y].min() + np.random.rand()*(self.nets[i].weights[x][y].max()-self.nets[i].weights[x][y].min())\n",
    "                self.nets[i].weights = copy.deepcopy(weight)\n",
    "                biases = copy.deepcopy(self.nets[i].biases)\n",
    "                for x in range(len(biases)):\n",
    "                    for y in range(len(biases[x])):\n",
    "                        for z in range(len(biases[x][y])):\n",
    "                            biases[x][y][z]=self.nets[i].biases[x].min() + np.random.rand()*(self.nets[i].biases[x].max()-self.nets[i].biases[x].min())\n",
    "                self.nets[i].biases = copy.deepcopy(biases)\n",
    "                self.nets[i].counter = 0\n",
    "    def sort_nets(self):\n",
    "        # calculate score for each population of neural-net\n",
    "        score_list = list(zip(self.nets, self.get_all_scores()))\n",
    "\n",
    "        # sort the network using its score\n",
    "        score_list.sort(key=lambda x: x[1])\n",
    "\n",
    "        # exclude score as it is not needed anymore\n",
    "        score_list = [obj[0] for obj in score_list]\n",
    "        self.nets = copy.deepcopy(score_list)\n",
    "        if(self.best.accuracy(self.X,self.y)<self.nets[0].accuracy(self.X,self.y)):\n",
    "            self.best = copy.deepcopy(self.nets[0])\n",
    "\n",
    "    def evolve(self):\n",
    "        start_time = time.time()\n",
    "        self.initialization_phase()\n",
    "        for i in range(500):\n",
    "            if (i+1) % 10 == 0:\n",
    "                print(\"Current iteration : {}\".format(i+1))\n",
    "                print(\"Time taken by far : %.1f seconds\" % (time.time() - start_time))\n",
    "                print(\"Current top member's network score: %.5f \" % self.best.score(self.X,self.y))\n",
    "                print(\"Current top member's network accuracy: %.2f%%\\n\" % self.best.accuracy(self.X,self.y))\n",
    "            self.employeed_phase()\n",
    "            self.onlooked_phase()\n",
    "            self.scout_phase()\n",
    "            self.sort_nets()"
   ]
  },
  {
   "cell_type": "code",
   "execution_count": 4,
   "id": "d9af22f4",
   "metadata": {},
   "outputs": [],
   "source": [
    "df = pd.read_csv(\"data_(8-8).csv\")"
   ]
  },
  {
   "cell_type": "code",
   "execution_count": 5,
   "id": "d0904ac4",
   "metadata": {},
   "outputs": [],
   "source": [
    "X = df.iloc[:1000, :8].values\n",
    "y = df.iloc[:1000, 8:16].values\n",
    "sc = StandardScaler()\n",
    "X = sc.fit_transform(X)"
   ]
  },
  {
   "cell_type": "code",
   "execution_count": 6,
   "id": "399abdd5",
   "metadata": {},
   "outputs": [],
   "source": [
    "N_POPS = 100\n",
    "NET_SIZE = [8,8,8]"
   ]
  },
  {
   "cell_type": "code",
   "execution_count": 7,
   "id": "4830da61",
   "metadata": {},
   "outputs": [],
   "source": [
    "nnabc = NN_ABC_Algo(N_POPS, NET_SIZE, X, y)"
   ]
  },
  {
   "cell_type": "code",
   "execution_count": 8,
   "id": "f839a6dd",
   "metadata": {},
   "outputs": [
    {
     "ename": "KeyboardInterrupt",
     "evalue": "",
     "output_type": "error",
     "traceback": [
      "\u001b[1;31m---------------------------------------------------------------------------\u001b[0m",
      "\u001b[1;31mKeyboardInterrupt\u001b[0m                         Traceback (most recent call last)",
      "\u001b[1;32m~\\AppData\\Local\\Temp/ipykernel_2768/3701774004.py\u001b[0m in \u001b[0;36m<module>\u001b[1;34m\u001b[0m\n\u001b[1;32m----> 1\u001b[1;33m \u001b[0mnnabc\u001b[0m\u001b[1;33m.\u001b[0m\u001b[0mevolve\u001b[0m\u001b[1;33m(\u001b[0m\u001b[1;33m)\u001b[0m\u001b[1;33m\u001b[0m\u001b[1;33m\u001b[0m\u001b[0m\n\u001b[0m",
      "\u001b[1;32m~\\AppData\\Local\\Temp/ipykernel_2768/60628782.py\u001b[0m in \u001b[0;36mevolve\u001b[1;34m(self)\u001b[0m\n\u001b[0;32m    132\u001b[0m                 \u001b[0mprint\u001b[0m\u001b[1;33m(\u001b[0m\u001b[1;34m\"Current top member's network score: %.5f \"\u001b[0m \u001b[1;33m%\u001b[0m \u001b[0mself\u001b[0m\u001b[1;33m.\u001b[0m\u001b[0mbest\u001b[0m\u001b[1;33m.\u001b[0m\u001b[0mscore\u001b[0m\u001b[1;33m(\u001b[0m\u001b[0mself\u001b[0m\u001b[1;33m.\u001b[0m\u001b[0mX\u001b[0m\u001b[1;33m,\u001b[0m\u001b[0mself\u001b[0m\u001b[1;33m.\u001b[0m\u001b[0my\u001b[0m\u001b[1;33m)\u001b[0m\u001b[1;33m)\u001b[0m\u001b[1;33m\u001b[0m\u001b[1;33m\u001b[0m\u001b[0m\n\u001b[0;32m    133\u001b[0m                 \u001b[0mprint\u001b[0m\u001b[1;33m(\u001b[0m\u001b[1;34m\"Current top member's network accuracy: %.2f%%\\n\"\u001b[0m \u001b[1;33m%\u001b[0m \u001b[0mself\u001b[0m\u001b[1;33m.\u001b[0m\u001b[0mbest\u001b[0m\u001b[1;33m.\u001b[0m\u001b[0maccuracy\u001b[0m\u001b[1;33m(\u001b[0m\u001b[0mself\u001b[0m\u001b[1;33m.\u001b[0m\u001b[0mX\u001b[0m\u001b[1;33m,\u001b[0m\u001b[0mself\u001b[0m\u001b[1;33m.\u001b[0m\u001b[0my\u001b[0m\u001b[1;33m)\u001b[0m\u001b[1;33m)\u001b[0m\u001b[1;33m\u001b[0m\u001b[1;33m\u001b[0m\u001b[0m\n\u001b[1;32m--> 134\u001b[1;33m             \u001b[0mself\u001b[0m\u001b[1;33m.\u001b[0m\u001b[0memployeed_phase\u001b[0m\u001b[1;33m(\u001b[0m\u001b[1;33m)\u001b[0m\u001b[1;33m\u001b[0m\u001b[1;33m\u001b[0m\u001b[0m\n\u001b[0m\u001b[0;32m    135\u001b[0m             \u001b[0mself\u001b[0m\u001b[1;33m.\u001b[0m\u001b[0monlooked_phase\u001b[0m\u001b[1;33m(\u001b[0m\u001b[1;33m)\u001b[0m\u001b[1;33m\u001b[0m\u001b[1;33m\u001b[0m\u001b[0m\n\u001b[0;32m    136\u001b[0m             \u001b[0mself\u001b[0m\u001b[1;33m.\u001b[0m\u001b[0mscout_phase\u001b[0m\u001b[1;33m(\u001b[0m\u001b[1;33m)\u001b[0m\u001b[1;33m\u001b[0m\u001b[1;33m\u001b[0m\u001b[0m\n",
      "\u001b[1;32m~\\AppData\\Local\\Temp/ipykernel_2768/60628782.py\u001b[0m in \u001b[0;36memployeed_phase\u001b[1;34m(self)\u001b[0m\n\u001b[0;32m     60\u001b[0m                 \u001b[1;31m# replace genetic (weights) with mother's value\u001b[0m\u001b[1;33m\u001b[0m\u001b[1;33m\u001b[0m\u001b[1;33m\u001b[0m\u001b[0m\n\u001b[0;32m     61\u001b[0m                 \u001b[0mnn\u001b[0m\u001b[1;33m.\u001b[0m\u001b[0mweights\u001b[0m\u001b[1;33m[\u001b[0m\u001b[0mlayer2\u001b[0m\u001b[1;33m]\u001b[0m\u001b[1;33m[\u001b[0m\u001b[0mpoint2\u001b[0m\u001b[1;33m]\u001b[0m \u001b[1;33m=\u001b[0m \u001b[0mnn\u001b[0m\u001b[1;33m.\u001b[0m\u001b[0mweights\u001b[0m\u001b[1;33m[\u001b[0m\u001b[0mlayer2\u001b[0m\u001b[1;33m]\u001b[0m\u001b[1;33m[\u001b[0m\u001b[0mpoint2\u001b[0m\u001b[1;33m]\u001b[0m \u001b[1;33m+\u001b[0m \u001b[0mfi2\u001b[0m\u001b[1;33m*\u001b[0m\u001b[1;33m(\u001b[0m\u001b[0mnn\u001b[0m\u001b[1;33m.\u001b[0m\u001b[0mweights\u001b[0m\u001b[1;33m[\u001b[0m\u001b[0mlayer2\u001b[0m\u001b[1;33m]\u001b[0m\u001b[1;33m[\u001b[0m\u001b[0mpoint2\u001b[0m\u001b[1;33m]\u001b[0m\u001b[1;33m-\u001b[0m\u001b[0mself\u001b[0m\u001b[1;33m.\u001b[0m\u001b[0mnets\u001b[0m\u001b[1;33m[\u001b[0m\u001b[0mcoceg\u001b[0m\u001b[1;33m]\u001b[0m\u001b[1;33m.\u001b[0m\u001b[0mweights\u001b[0m\u001b[1;33m[\u001b[0m\u001b[0mlayer2\u001b[0m\u001b[1;33m]\u001b[0m\u001b[1;33m[\u001b[0m\u001b[0mpoint2\u001b[0m\u001b[1;33m]\u001b[0m\u001b[1;33m)\u001b[0m\u001b[1;33m\u001b[0m\u001b[1;33m\u001b[0m\u001b[0m\n\u001b[1;32m---> 62\u001b[1;33m             \u001b[1;32mif\u001b[0m\u001b[1;33m(\u001b[0m\u001b[0mnn\u001b[0m\u001b[1;33m.\u001b[0m\u001b[0mscore_vector\u001b[0m\u001b[1;33m(\u001b[0m\u001b[0mself\u001b[0m\u001b[1;33m.\u001b[0m\u001b[0mX\u001b[0m\u001b[1;33m,\u001b[0m\u001b[0mself\u001b[0m\u001b[1;33m.\u001b[0m\u001b[0my\u001b[0m\u001b[1;33m)\u001b[0m\u001b[1;33m>\u001b[0m\u001b[0mnets\u001b[0m\u001b[1;33m[\u001b[0m\u001b[0mi\u001b[0m\u001b[1;33m]\u001b[0m\u001b[1;33m.\u001b[0m\u001b[0mscore_vector\u001b[0m\u001b[1;33m(\u001b[0m\u001b[0mself\u001b[0m\u001b[1;33m.\u001b[0m\u001b[0mX\u001b[0m\u001b[1;33m,\u001b[0m\u001b[0mself\u001b[0m\u001b[1;33m.\u001b[0m\u001b[0my\u001b[0m\u001b[1;33m)\u001b[0m\u001b[1;33m)\u001b[0m\u001b[1;33m:\u001b[0m\u001b[1;33m\u001b[0m\u001b[1;33m\u001b[0m\u001b[0m\n\u001b[0m\u001b[0;32m     63\u001b[0m                 \u001b[0mnn\u001b[0m\u001b[1;33m.\u001b[0m\u001b[0mcounter\u001b[0m \u001b[1;33m=\u001b[0m \u001b[1;36m0\u001b[0m\u001b[1;33m\u001b[0m\u001b[1;33m\u001b[0m\u001b[0m\n\u001b[0;32m     64\u001b[0m                 \u001b[0mnets\u001b[0m\u001b[1;33m[\u001b[0m\u001b[0mi\u001b[0m\u001b[1;33m]\u001b[0m \u001b[1;33m=\u001b[0m \u001b[0mcopy\u001b[0m\u001b[1;33m.\u001b[0m\u001b[0mdeepcopy\u001b[0m\u001b[1;33m(\u001b[0m\u001b[0mnn\u001b[0m\u001b[1;33m)\u001b[0m\u001b[1;33m\u001b[0m\u001b[1;33m\u001b[0m\u001b[0m\n",
      "\u001b[1;32m~\\AppData\\Local\\Temp/ipykernel_2768/2898042224.py\u001b[0m in \u001b[0;36mscore_vector\u001b[1;34m(self, X, y)\u001b[0m\n\u001b[0;32m     31\u001b[0m         \u001b[0mtotal_score\u001b[0m\u001b[1;33m=\u001b[0m\u001b[1;36m0\u001b[0m\u001b[1;33m\u001b[0m\u001b[1;33m\u001b[0m\u001b[0m\n\u001b[0;32m     32\u001b[0m         \u001b[1;32mfor\u001b[0m \u001b[0mi\u001b[0m \u001b[1;32min\u001b[0m \u001b[0mrange\u001b[0m\u001b[1;33m(\u001b[0m\u001b[0mX\u001b[0m\u001b[1;33m.\u001b[0m\u001b[0mshape\u001b[0m\u001b[1;33m[\u001b[0m\u001b[1;36m0\u001b[0m\u001b[1;33m]\u001b[0m\u001b[1;33m)\u001b[0m\u001b[1;33m:\u001b[0m\u001b[1;33m\u001b[0m\u001b[1;33m\u001b[0m\u001b[0m\n\u001b[1;32m---> 33\u001b[1;33m             \u001b[0mpredicted\u001b[0m \u001b[1;33m=\u001b[0m \u001b[0mself\u001b[0m\u001b[1;33m.\u001b[0m\u001b[0mfeedforward\u001b[0m\u001b[1;33m(\u001b[0m\u001b[0mX\u001b[0m\u001b[1;33m[\u001b[0m\u001b[0mi\u001b[0m\u001b[1;33m]\u001b[0m\u001b[1;33m.\u001b[0m\u001b[0mreshape\u001b[0m\u001b[1;33m(\u001b[0m\u001b[1;33m-\u001b[0m\u001b[1;36m1\u001b[0m\u001b[1;33m,\u001b[0m\u001b[1;36m1\u001b[0m\u001b[1;33m)\u001b[0m\u001b[1;33m)\u001b[0m\u001b[1;33m\u001b[0m\u001b[1;33m\u001b[0m\u001b[0m\n\u001b[0m\u001b[0;32m     34\u001b[0m             \u001b[0mactual\u001b[0m \u001b[1;33m=\u001b[0m \u001b[0my\u001b[0m\u001b[1;33m[\u001b[0m\u001b[0mi\u001b[0m\u001b[1;33m]\u001b[0m\u001b[1;33m.\u001b[0m\u001b[0mreshape\u001b[0m\u001b[1;33m(\u001b[0m\u001b[1;33m-\u001b[0m\u001b[1;36m1\u001b[0m\u001b[1;33m,\u001b[0m\u001b[1;36m1\u001b[0m\u001b[1;33m)\u001b[0m\u001b[1;33m\u001b[0m\u001b[1;33m\u001b[0m\u001b[0m\n\u001b[0;32m     35\u001b[0m             \u001b[0mtotal_score\u001b[0m \u001b[1;33m+=\u001b[0m \u001b[0mnp\u001b[0m\u001b[1;33m.\u001b[0m\u001b[0msum\u001b[0m\u001b[1;33m(\u001b[0m\u001b[0mnp\u001b[0m\u001b[1;33m.\u001b[0m\u001b[0mpower\u001b[0m\u001b[1;33m(\u001b[0m\u001b[0mpredicted\u001b[0m\u001b[1;33m-\u001b[0m\u001b[0mactual\u001b[0m\u001b[1;33m,\u001b[0m\u001b[1;36m2\u001b[0m\u001b[1;33m)\u001b[0m\u001b[1;33m)\u001b[0m  \u001b[1;31m# mean-squared error\u001b[0m\u001b[1;33m\u001b[0m\u001b[1;33m\u001b[0m\u001b[0m\n",
      "\u001b[1;32m~\\AppData\\Local\\Temp/ipykernel_2768/2898042224.py\u001b[0m in \u001b[0;36mfeedforward\u001b[1;34m(self, a)\u001b[0m\n\u001b[0;32m     14\u001b[0m     \u001b[1;32mdef\u001b[0m \u001b[0mfeedforward\u001b[0m\u001b[1;33m(\u001b[0m\u001b[0mself\u001b[0m\u001b[1;33m,\u001b[0m \u001b[0ma\u001b[0m\u001b[1;33m)\u001b[0m\u001b[1;33m:\u001b[0m\u001b[1;33m\u001b[0m\u001b[1;33m\u001b[0m\u001b[0m\n\u001b[0;32m     15\u001b[0m         \u001b[1;32mfor\u001b[0m \u001b[0mb\u001b[0m\u001b[1;33m,\u001b[0m \u001b[0mw\u001b[0m \u001b[1;32min\u001b[0m \u001b[0mzip\u001b[0m\u001b[1;33m(\u001b[0m\u001b[0mself\u001b[0m\u001b[1;33m.\u001b[0m\u001b[0mbiases\u001b[0m\u001b[1;33m,\u001b[0m \u001b[0mself\u001b[0m\u001b[1;33m.\u001b[0m\u001b[0mweights\u001b[0m\u001b[1;33m)\u001b[0m\u001b[1;33m:\u001b[0m\u001b[1;33m\u001b[0m\u001b[1;33m\u001b[0m\u001b[0m\n\u001b[1;32m---> 16\u001b[1;33m             \u001b[0ma\u001b[0m \u001b[1;33m=\u001b[0m \u001b[0mself\u001b[0m\u001b[1;33m.\u001b[0m\u001b[0msigmoid\u001b[0m\u001b[1;33m(\u001b[0m\u001b[0mnp\u001b[0m\u001b[1;33m.\u001b[0m\u001b[0mdot\u001b[0m\u001b[1;33m(\u001b[0m\u001b[0mw\u001b[0m\u001b[1;33m,\u001b[0m\u001b[0ma\u001b[0m\u001b[1;33m)\u001b[0m\u001b[1;33m+\u001b[0m\u001b[0mb\u001b[0m\u001b[1;33m)\u001b[0m\u001b[1;33m\u001b[0m\u001b[1;33m\u001b[0m\u001b[0m\n\u001b[0m\u001b[0;32m     17\u001b[0m         \u001b[1;32mreturn\u001b[0m \u001b[0ma\u001b[0m\u001b[1;33m\u001b[0m\u001b[1;33m\u001b[0m\u001b[0m\n\u001b[0;32m     18\u001b[0m \u001b[1;33m\u001b[0m\u001b[0m\n",
      "\u001b[1;32m<__array_function__ internals>\u001b[0m in \u001b[0;36mdot\u001b[1;34m(*args, **kwargs)\u001b[0m\n",
      "\u001b[1;31mKeyboardInterrupt\u001b[0m: "
     ]
    }
   ],
   "source": [
    "nnabc.evolve()"
   ]
  },
  {
   "cell_type": "code",
   "execution_count": null,
   "id": "6aea86e4",
   "metadata": {},
   "outputs": [],
   "source": [
    "nnabc.best.accuracy(X,y)"
   ]
  },
  {
   "cell_type": "code",
   "execution_count": null,
   "id": "af0c5fb4",
   "metadata": {},
   "outputs": [],
   "source": [
    "X[10].reshape(-1,1)"
   ]
  },
  {
   "cell_type": "code",
   "execution_count": null,
   "id": "562dbd16",
   "metadata": {},
   "outputs": [],
   "source": [
    "pred = nnabc.best.feedforward(X[10].reshape(-1,1)).reshape(-1)"
   ]
  },
  {
   "cell_type": "code",
   "execution_count": null,
   "id": "94e334ce",
   "metadata": {},
   "outputs": [],
   "source": [
    "for j in range(len(pred)):\n",
    "    pred[j] = round(pred[j])"
   ]
  },
  {
   "cell_type": "code",
   "execution_count": null,
   "id": "093695b6",
   "metadata": {},
   "outputs": [],
   "source": [
    "pred"
   ]
  },
  {
   "cell_type": "code",
   "execution_count": null,
   "id": "ec5e481f",
   "metadata": {},
   "outputs": [],
   "source": [
    "y[10]"
   ]
  },
  {
   "cell_type": "code",
   "execution_count": null,
   "id": "e58d4594",
   "metadata": {},
   "outputs": [],
   "source": [
    "X_test = df.iloc[5000:6000, :8].values\n",
    "y_test = df.iloc[5000:6000, 8:16].values\n",
    "sc = StandardScaler()\n",
    "X_test = sc.fit_transform(X_test)"
   ]
  },
  {
   "cell_type": "code",
   "execution_count": null,
   "id": "6f83e6e6",
   "metadata": {},
   "outputs": [],
   "source": [
    "acc = nnabc.best.accuracy(X_test,y_test)"
   ]
  },
  {
   "cell_type": "code",
   "execution_count": null,
   "id": "b55becf4",
   "metadata": {},
   "outputs": [],
   "source": [
    "acc"
   ]
  }
 ],
 "metadata": {
  "kernelspec": {
   "display_name": "Python 3 (ipykernel)",
   "language": "python",
   "name": "python3"
  },
  "language_info": {
   "codemirror_mode": {
    "name": "ipython",
    "version": 3
   },
   "file_extension": ".py",
   "mimetype": "text/x-python",
   "name": "python",
   "nbconvert_exporter": "python",
   "pygments_lexer": "ipython3",
   "version": "3.8.10"
  }
 },
 "nbformat": 4,
 "nbformat_minor": 5
}
