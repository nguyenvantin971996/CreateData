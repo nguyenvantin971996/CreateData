{
 "cells": [
  {
   "cell_type": "code",
   "execution_count": 1,
   "id": "8bd9dba7",
   "metadata": {},
   "outputs": [],
   "source": [
    "import random\n",
    "import numpy as np\n",
    "import pandas as pd\n",
    "import copy\n",
    "import time\n",
    "from sklearn.preprocessing import StandardScaler"
   ]
  },
  {
   "cell_type": "code",
   "execution_count": 2,
   "id": "59e74f03",
   "metadata": {},
   "outputs": [],
   "source": [
    "class Network(object):\n",
    "\n",
    "    def __init__(self, sizes):\n",
    "        self.num_layers = len(sizes)\n",
    "        self.sizes = sizes\n",
    "        self.biases = [np.random.randn(y, 1) for y in sizes[1:]]\n",
    "        self.weights = [np.random.randn(y, x) for x, y in zip(sizes[:-1], sizes[1:])]\n",
    "        \n",
    "        # helper variables\n",
    "        self.bias_nitem = sum(sizes[1:])\n",
    "        self.weight_nitem = sum([self.weights[i].size for i in range(self.num_layers-2)])\n",
    "\n",
    "    def feedforward(self, a):\n",
    "        for b, w in zip(self.biases, self.weights):\n",
    "            a = self.sigmoid(np.dot(w,a)+b)\n",
    "        return a\n",
    "\n",
    "    def sigmoid(self, z):\n",
    "        return 1.0/(1.0+np.exp(-z))\n",
    "\n",
    "    def score(self, X, y):\n",
    "        total_score=0\n",
    "        for i in range(X.shape[0]):\n",
    "            predicted = self.feedforward(X[i].reshape(-1,1))\n",
    "            actual = y[i].reshape(-1,1)\n",
    "            total_score += np.sum(np.power(predicted-actual,2)/2)  # mean-squared error\n",
    "        return total_score\n",
    "\n",
    "    def accuracy(self, X, y):\n",
    "        accuracy = 0\n",
    "        for i in range(X.shape[0]):\n",
    "            output = (self.feedforward(X[i].reshape(-1,1))).reshape(-1)\n",
    "            condition = True\n",
    "            for j in range(len(output)):\n",
    "                output[j] = round(output[j])\n",
    "            for j in range(len(output)):\n",
    "                if(output[j]!=y[i][j]):\n",
    "                    condition = False\n",
    "                    break\n",
    "            if condition:\n",
    "                accuracy += 1\n",
    "        return accuracy / X.shape[0] * 100\n",
    "\n",
    "    def __str__(self):\n",
    "        s = \"\\nBias:\\n\\n\" + str(self.biases)\n",
    "        s += \"\\nWeights:\\n\\n\" + str(self.weights)\n",
    "        s += \"\\n\\n\"\n",
    "        return s"
   ]
  },
  {
   "cell_type": "code",
   "execution_count": 3,
   "id": "f7b28a81",
   "metadata": {},
   "outputs": [],
   "source": [
    "class NNGeneticAlgo:\n",
    "\n",
    "    def __init__(self, n_pops, net_size, mutation_rate, crossover_rate, X, y):\n",
    "        self.n_pops = n_pops\n",
    "        self.net_size = net_size\n",
    "        self.nets = [Network(self.net_size) for i in range(self.n_pops)]\n",
    "        self.mutation_rate = mutation_rate\n",
    "        self.crossover_rate = crossover_rate\n",
    "        self.X = X[:]\n",
    "        self.y = y[:]\n",
    "    \n",
    "    def get_random_point(self, type):\n",
    "        nn = self.nets[0]\n",
    "        layer_index, point_index = random.randint(0, nn.num_layers-2), 0\n",
    "        if type == 'weight':\n",
    "            row = random.randint(0,nn.weights[layer_index].shape[0]-1)\n",
    "            col = random.randint(0,nn.weights[layer_index].shape[1]-1)\n",
    "            point_index = (row, col)\n",
    "        elif type == 'bias':\n",
    "            point_index = random.randint(0,nn.biases[layer_index].size-1)\n",
    "        return (layer_index, point_index)\n",
    "\n",
    "    def get_all_scores(self):\n",
    "        return [net.score(self.X, self.y) for net in self.nets]\n",
    "\n",
    "    def get_all_accuracy(self):\n",
    "        return [net.accuracy(self.X, self.y) for net in self.nets]\n",
    "\n",
    "    def crossover(self):\n",
    "        for i in range(self.n_pops):\n",
    "            if random.uniform(0,1) < self.crossover_rate:\n",
    "                father = random.randint(0,self.n_pops-1)\n",
    "                mother = random.randint(0,self.n_pops-1)\n",
    "                # make a copy of father 'genetic' weights & biases information\n",
    "                nn_1 = copy.deepcopy(self.nets[father])\n",
    "                nn_2 = copy.deepcopy(self.nets[mother])\n",
    "                # cross-over bias\n",
    "                k_1 = random.randint(int(0.5*self.nets[0].bias_nitem),self.nets[0].bias_nitem)\n",
    "                for _ in range(k_1):\n",
    "                    # get some random points\n",
    "                    layer, point = self.get_random_point('bias')\n",
    "                    # replace genetic (bias) with mother's value\n",
    "                    nn_1.biases[layer][point] = self.nets[mother].biases[layer][point]\n",
    "                    nn_2.biases[layer][point] = self.nets[father].biases[layer][point]\n",
    "\n",
    "                # cross-over weight\n",
    "                k_2 = random.randint(int(0.5*self.nets[0].weight_nitem),self.nets[0].weight_nitem)\n",
    "                for _ in range(k_2):\n",
    "                    # get some random points\n",
    "                    layer, point = self.get_random_point('weight')\n",
    "                    # replace genetic (weight) with mother's value\n",
    "                    nn_1.weights[layer][point] = self.nets[mother].weights[layer][point]\n",
    "                    nn_2.weights[layer][point] = self.nets[father].weights[layer][point]\n",
    "                self.nets[father] = copy.deepcopy(nn_1)\n",
    "                self.nets[mother] = copy.deepcopy(nn_2)\n",
    "        \n",
    "    def mutation(self):\n",
    "        for i in range(self.n_pops):\n",
    "            if random.uniform(0,1) < self.mutation_rate:\n",
    "                origin = random.randint(0,self.n_pops-1)\n",
    "                nn = copy.deepcopy(self.nets[origin])\n",
    "\n",
    "                # mutate bias\n",
    "                k_1 = random.randint(int(0.5*self.nets[0].bias_nitem),self.nets[0].bias_nitem)\n",
    "                for _ in range(k_1):\n",
    "                    # get some random points\n",
    "                    layer, point = self.get_random_point('bias')\n",
    "                    # add some random value between -0.5 and 0.5\n",
    "                    nn.biases[layer][point] += random.uniform(-0.5, 0.5)\n",
    "\n",
    "                # mutate weight\n",
    "                k_2 = random.randint(int(0.5*self.nets[0].weight_nitem),self.nets[0].weight_nitem)\n",
    "                for _ in range(k_2):\n",
    "                    # get some random points\n",
    "                    layer, point = self.get_random_point('weight')\n",
    "                    # add some random value between -0.5 and 0.5\n",
    "                    nn.weights[layer][point[0], point[1]] += random.uniform(-0.5, 0.5)\n",
    "                self.nets[origin] = copy.deepcopy(nn)\n",
    "        \n",
    "    def selection(self):\n",
    "        nets_new=[]\n",
    "        for i in range(self.n_pops):\n",
    "            k_1 = random.randint(0,self.n_pops-1)\n",
    "            k_2 = random.randint(0,self.n_pops-1)\n",
    "            if(self.nets[k_1].accuracy(self.X,self.y)>self.nets[k_2].accuracy(self.X,self.y)):\n",
    "                nets_new.append(self.nets[k_1])\n",
    "            else:\n",
    "                nets_new.append(self.nets[k_2])\n",
    "        self.nets = copy.deepcopy(nets_new)\n",
    "    \n",
    "    def sort_nets(self):\n",
    "        # calculate score for each population of neural-net\n",
    "        score_list = list(zip(self.nets, self.get_all_accuracy()))\n",
    "\n",
    "        # sort the network using its score\n",
    "        score_list.sort(key=lambda x: x[1])\n",
    "        \n",
    "        # exclude score as it is not needed anymore\n",
    "        score_list = [obj[0] for obj in score_list]\n",
    "        score_list.reverse()\n",
    "        self.nets = copy.deepcopy(score_list)\n",
    "\n",
    "    def evolve(self):\n",
    "        self.crossover()\n",
    "        self.mutation()\n",
    "        self.selection()\n",
    "        self.sort_nets()"
   ]
  },
  {
   "cell_type": "code",
   "execution_count": 4,
   "id": "d9af22f4",
   "metadata": {},
   "outputs": [],
   "source": [
    "df = pd.read_csv(\"data_(8-8).csv\")"
   ]
  },
  {
   "cell_type": "code",
   "execution_count": 5,
   "id": "d0904ac4",
   "metadata": {},
   "outputs": [],
   "source": [
    "X = df.iloc[:1000, :8].values\n",
    "y = df.iloc[:1000, 8:16].values\n",
    "sc = StandardScaler()\n",
    "X = sc.fit_transform(X)"
   ]
  },
  {
   "cell_type": "code",
   "execution_count": 6,
   "id": "399abdd5",
   "metadata": {},
   "outputs": [],
   "source": [
    "N_POPS = 50\n",
    "NET_SIZE = [8,8,8,8]\n",
    "MUTATION_RATE = 0.1\n",
    "CROSSOVER_RATE = 0.7"
   ]
  },
  {
   "cell_type": "code",
   "execution_count": 7,
   "id": "4830da61",
   "metadata": {},
   "outputs": [],
   "source": [
    "nnga = NNGeneticAlgo(N_POPS, NET_SIZE, MUTATION_RATE, CROSSOVER_RATE, X, y)"
   ]
  },
  {
   "cell_type": "code",
   "execution_count": 8,
   "id": "695c7949",
   "metadata": {},
   "outputs": [],
   "source": [
    "start_time = time.time()"
   ]
  },
  {
   "cell_type": "code",
   "execution_count": 9,
   "id": "f839a6dd",
   "metadata": {},
   "outputs": [
    {
     "name": "stdout",
     "output_type": "stream",
     "text": [
      "Current iteration : 1\n",
      "Time taken by far : 0.0 seconds\n",
      "Current top member's network accuracy: 0.40%\n",
      "\n"
     ]
    },
    {
     "ename": "KeyboardInterrupt",
     "evalue": "",
     "output_type": "error",
     "traceback": [
      "\u001b[1;31m---------------------------------------------------------------------------\u001b[0m",
      "\u001b[1;31mKeyboardInterrupt\u001b[0m                         Traceback (most recent call last)",
      "\u001b[1;32m~\\AppData\\Local\\Temp/ipykernel_9992/293839058.py\u001b[0m in \u001b[0;36m<module>\u001b[1;34m\u001b[0m\n\u001b[0;32m      4\u001b[0m         \u001b[0mprint\u001b[0m\u001b[1;33m(\u001b[0m\u001b[1;34m\"Time taken by far : %.1f seconds\"\u001b[0m \u001b[1;33m%\u001b[0m \u001b[1;33m(\u001b[0m\u001b[0mtime\u001b[0m\u001b[1;33m.\u001b[0m\u001b[0mtime\u001b[0m\u001b[1;33m(\u001b[0m\u001b[1;33m)\u001b[0m \u001b[1;33m-\u001b[0m \u001b[0mstart_time\u001b[0m\u001b[1;33m)\u001b[0m\u001b[1;33m)\u001b[0m\u001b[1;33m\u001b[0m\u001b[1;33m\u001b[0m\u001b[0m\n\u001b[0;32m      5\u001b[0m         \u001b[0mprint\u001b[0m\u001b[1;33m(\u001b[0m\u001b[1;34m\"Current top member's network accuracy: %.2f%%\\n\"\u001b[0m \u001b[1;33m%\u001b[0m \u001b[0mnnga\u001b[0m\u001b[1;33m.\u001b[0m\u001b[0mget_all_accuracy\u001b[0m\u001b[1;33m(\u001b[0m\u001b[1;33m)\u001b[0m\u001b[1;33m[\u001b[0m\u001b[1;36m0\u001b[0m\u001b[1;33m]\u001b[0m\u001b[1;33m)\u001b[0m\u001b[1;33m\u001b[0m\u001b[1;33m\u001b[0m\u001b[0m\n\u001b[1;32m----> 6\u001b[1;33m     \u001b[0mnnga\u001b[0m\u001b[1;33m.\u001b[0m\u001b[0mevolve\u001b[0m\u001b[1;33m(\u001b[0m\u001b[1;33m)\u001b[0m\u001b[1;33m\u001b[0m\u001b[1;33m\u001b[0m\u001b[0m\n\u001b[0m",
      "\u001b[1;32m~\\AppData\\Local\\Temp/ipykernel_9992/1863740552.py\u001b[0m in \u001b[0;36mevolve\u001b[1;34m(self)\u001b[0m\n\u001b[0;32m    104\u001b[0m         \u001b[0mself\u001b[0m\u001b[1;33m.\u001b[0m\u001b[0mcrossover\u001b[0m\u001b[1;33m(\u001b[0m\u001b[1;33m)\u001b[0m\u001b[1;33m\u001b[0m\u001b[1;33m\u001b[0m\u001b[0m\n\u001b[0;32m    105\u001b[0m         \u001b[0mself\u001b[0m\u001b[1;33m.\u001b[0m\u001b[0mmutation\u001b[0m\u001b[1;33m(\u001b[0m\u001b[1;33m)\u001b[0m\u001b[1;33m\u001b[0m\u001b[1;33m\u001b[0m\u001b[0m\n\u001b[1;32m--> 106\u001b[1;33m         \u001b[0mself\u001b[0m\u001b[1;33m.\u001b[0m\u001b[0mselection\u001b[0m\u001b[1;33m(\u001b[0m\u001b[1;33m)\u001b[0m\u001b[1;33m\u001b[0m\u001b[1;33m\u001b[0m\u001b[0m\n\u001b[0m\u001b[0;32m    107\u001b[0m         \u001b[0mself\u001b[0m\u001b[1;33m.\u001b[0m\u001b[0msort_nets\u001b[0m\u001b[1;33m(\u001b[0m\u001b[1;33m)\u001b[0m\u001b[1;33m\u001b[0m\u001b[1;33m\u001b[0m\u001b[0m\n",
      "\u001b[1;32m~\\AppData\\Local\\Temp/ipykernel_9992/1863740552.py\u001b[0m in \u001b[0;36mselection\u001b[1;34m(self)\u001b[0m\n\u001b[0;32m     83\u001b[0m             \u001b[0mk_1\u001b[0m \u001b[1;33m=\u001b[0m \u001b[0mrandom\u001b[0m\u001b[1;33m.\u001b[0m\u001b[0mrandint\u001b[0m\u001b[1;33m(\u001b[0m\u001b[1;36m0\u001b[0m\u001b[1;33m,\u001b[0m\u001b[0mself\u001b[0m\u001b[1;33m.\u001b[0m\u001b[0mn_pops\u001b[0m\u001b[1;33m-\u001b[0m\u001b[1;36m1\u001b[0m\u001b[1;33m)\u001b[0m\u001b[1;33m\u001b[0m\u001b[1;33m\u001b[0m\u001b[0m\n\u001b[0;32m     84\u001b[0m             \u001b[0mk_2\u001b[0m \u001b[1;33m=\u001b[0m \u001b[0mrandom\u001b[0m\u001b[1;33m.\u001b[0m\u001b[0mrandint\u001b[0m\u001b[1;33m(\u001b[0m\u001b[1;36m0\u001b[0m\u001b[1;33m,\u001b[0m\u001b[0mself\u001b[0m\u001b[1;33m.\u001b[0m\u001b[0mn_pops\u001b[0m\u001b[1;33m-\u001b[0m\u001b[1;36m1\u001b[0m\u001b[1;33m)\u001b[0m\u001b[1;33m\u001b[0m\u001b[1;33m\u001b[0m\u001b[0m\n\u001b[1;32m---> 85\u001b[1;33m             \u001b[1;32mif\u001b[0m\u001b[1;33m(\u001b[0m\u001b[0mself\u001b[0m\u001b[1;33m.\u001b[0m\u001b[0mnets\u001b[0m\u001b[1;33m[\u001b[0m\u001b[0mk_1\u001b[0m\u001b[1;33m]\u001b[0m\u001b[1;33m.\u001b[0m\u001b[0maccuracy\u001b[0m\u001b[1;33m(\u001b[0m\u001b[0mself\u001b[0m\u001b[1;33m.\u001b[0m\u001b[0mX\u001b[0m\u001b[1;33m,\u001b[0m\u001b[0mself\u001b[0m\u001b[1;33m.\u001b[0m\u001b[0my\u001b[0m\u001b[1;33m)\u001b[0m\u001b[1;33m>\u001b[0m\u001b[0mself\u001b[0m\u001b[1;33m.\u001b[0m\u001b[0mnets\u001b[0m\u001b[1;33m[\u001b[0m\u001b[0mk_2\u001b[0m\u001b[1;33m]\u001b[0m\u001b[1;33m.\u001b[0m\u001b[0maccuracy\u001b[0m\u001b[1;33m(\u001b[0m\u001b[0mself\u001b[0m\u001b[1;33m.\u001b[0m\u001b[0mX\u001b[0m\u001b[1;33m,\u001b[0m\u001b[0mself\u001b[0m\u001b[1;33m.\u001b[0m\u001b[0my\u001b[0m\u001b[1;33m)\u001b[0m\u001b[1;33m)\u001b[0m\u001b[1;33m:\u001b[0m\u001b[1;33m\u001b[0m\u001b[1;33m\u001b[0m\u001b[0m\n\u001b[0m\u001b[0;32m     86\u001b[0m                 \u001b[0mnets_new\u001b[0m\u001b[1;33m.\u001b[0m\u001b[0mappend\u001b[0m\u001b[1;33m(\u001b[0m\u001b[0mself\u001b[0m\u001b[1;33m.\u001b[0m\u001b[0mnets\u001b[0m\u001b[1;33m[\u001b[0m\u001b[0mk_1\u001b[0m\u001b[1;33m]\u001b[0m\u001b[1;33m)\u001b[0m\u001b[1;33m\u001b[0m\u001b[1;33m\u001b[0m\u001b[0m\n\u001b[0;32m     87\u001b[0m             \u001b[1;32melse\u001b[0m\u001b[1;33m:\u001b[0m\u001b[1;33m\u001b[0m\u001b[1;33m\u001b[0m\u001b[0m\n",
      "\u001b[1;32m~\\AppData\\Local\\Temp/ipykernel_9992/1608664245.py\u001b[0m in \u001b[0;36maccuracy\u001b[1;34m(self, X, y)\u001b[0m\n\u001b[0;32m     30\u001b[0m         \u001b[0maccuracy\u001b[0m \u001b[1;33m=\u001b[0m \u001b[1;36m0\u001b[0m\u001b[1;33m\u001b[0m\u001b[1;33m\u001b[0m\u001b[0m\n\u001b[0;32m     31\u001b[0m         \u001b[1;32mfor\u001b[0m \u001b[0mi\u001b[0m \u001b[1;32min\u001b[0m \u001b[0mrange\u001b[0m\u001b[1;33m(\u001b[0m\u001b[0mX\u001b[0m\u001b[1;33m.\u001b[0m\u001b[0mshape\u001b[0m\u001b[1;33m[\u001b[0m\u001b[1;36m0\u001b[0m\u001b[1;33m]\u001b[0m\u001b[1;33m)\u001b[0m\u001b[1;33m:\u001b[0m\u001b[1;33m\u001b[0m\u001b[1;33m\u001b[0m\u001b[0m\n\u001b[1;32m---> 32\u001b[1;33m             \u001b[0moutput\u001b[0m \u001b[1;33m=\u001b[0m \u001b[1;33m(\u001b[0m\u001b[0mself\u001b[0m\u001b[1;33m.\u001b[0m\u001b[0mfeedforward\u001b[0m\u001b[1;33m(\u001b[0m\u001b[0mX\u001b[0m\u001b[1;33m[\u001b[0m\u001b[0mi\u001b[0m\u001b[1;33m]\u001b[0m\u001b[1;33m.\u001b[0m\u001b[0mreshape\u001b[0m\u001b[1;33m(\u001b[0m\u001b[1;33m-\u001b[0m\u001b[1;36m1\u001b[0m\u001b[1;33m,\u001b[0m\u001b[1;36m1\u001b[0m\u001b[1;33m)\u001b[0m\u001b[1;33m)\u001b[0m\u001b[1;33m)\u001b[0m\u001b[1;33m.\u001b[0m\u001b[0mreshape\u001b[0m\u001b[1;33m(\u001b[0m\u001b[1;33m-\u001b[0m\u001b[1;36m1\u001b[0m\u001b[1;33m)\u001b[0m\u001b[1;33m\u001b[0m\u001b[1;33m\u001b[0m\u001b[0m\n\u001b[0m\u001b[0;32m     33\u001b[0m             \u001b[0mcondition\u001b[0m \u001b[1;33m=\u001b[0m \u001b[1;32mTrue\u001b[0m\u001b[1;33m\u001b[0m\u001b[1;33m\u001b[0m\u001b[0m\n\u001b[0;32m     34\u001b[0m             \u001b[1;32mfor\u001b[0m \u001b[0mj\u001b[0m \u001b[1;32min\u001b[0m \u001b[0mrange\u001b[0m\u001b[1;33m(\u001b[0m\u001b[0mlen\u001b[0m\u001b[1;33m(\u001b[0m\u001b[0moutput\u001b[0m\u001b[1;33m)\u001b[0m\u001b[1;33m)\u001b[0m\u001b[1;33m:\u001b[0m\u001b[1;33m\u001b[0m\u001b[1;33m\u001b[0m\u001b[0m\n",
      "\u001b[1;32m~\\AppData\\Local\\Temp/ipykernel_9992/1608664245.py\u001b[0m in \u001b[0;36mfeedforward\u001b[1;34m(self, a)\u001b[0m\n\u001b[0;32m     13\u001b[0m     \u001b[1;32mdef\u001b[0m \u001b[0mfeedforward\u001b[0m\u001b[1;33m(\u001b[0m\u001b[0mself\u001b[0m\u001b[1;33m,\u001b[0m \u001b[0ma\u001b[0m\u001b[1;33m)\u001b[0m\u001b[1;33m:\u001b[0m\u001b[1;33m\u001b[0m\u001b[1;33m\u001b[0m\u001b[0m\n\u001b[0;32m     14\u001b[0m         \u001b[1;32mfor\u001b[0m \u001b[0mb\u001b[0m\u001b[1;33m,\u001b[0m \u001b[0mw\u001b[0m \u001b[1;32min\u001b[0m \u001b[0mzip\u001b[0m\u001b[1;33m(\u001b[0m\u001b[0mself\u001b[0m\u001b[1;33m.\u001b[0m\u001b[0mbiases\u001b[0m\u001b[1;33m,\u001b[0m \u001b[0mself\u001b[0m\u001b[1;33m.\u001b[0m\u001b[0mweights\u001b[0m\u001b[1;33m)\u001b[0m\u001b[1;33m:\u001b[0m\u001b[1;33m\u001b[0m\u001b[1;33m\u001b[0m\u001b[0m\n\u001b[1;32m---> 15\u001b[1;33m             \u001b[0ma\u001b[0m \u001b[1;33m=\u001b[0m \u001b[0mself\u001b[0m\u001b[1;33m.\u001b[0m\u001b[0msigmoid\u001b[0m\u001b[1;33m(\u001b[0m\u001b[0mnp\u001b[0m\u001b[1;33m.\u001b[0m\u001b[0mdot\u001b[0m\u001b[1;33m(\u001b[0m\u001b[0mw\u001b[0m\u001b[1;33m,\u001b[0m\u001b[0ma\u001b[0m\u001b[1;33m)\u001b[0m\u001b[1;33m+\u001b[0m\u001b[0mb\u001b[0m\u001b[1;33m)\u001b[0m\u001b[1;33m\u001b[0m\u001b[1;33m\u001b[0m\u001b[0m\n\u001b[0m\u001b[0;32m     16\u001b[0m         \u001b[1;32mreturn\u001b[0m \u001b[0ma\u001b[0m\u001b[1;33m\u001b[0m\u001b[1;33m\u001b[0m\u001b[0m\n\u001b[0;32m     17\u001b[0m \u001b[1;33m\u001b[0m\u001b[0m\n",
      "\u001b[1;32m<__array_function__ internals>\u001b[0m in \u001b[0;36mdot\u001b[1;34m(*args, **kwargs)\u001b[0m\n",
      "\u001b[1;31mKeyboardInterrupt\u001b[0m: "
     ]
    }
   ],
   "source": [
    "for i in range(500):\n",
    "    if i % 10 == 0:\n",
    "        print(\"Current iteration : {}\".format(i+1))\n",
    "        print(\"Time taken by far : %.1f seconds\" % (time.time() - start_time))\n",
    "        print(\"Current top member's network accuracy: %.2f%%\\n\" % nnga.nets[0].accuracy(X,y))\n",
    "    nnga.evolve()"
   ]
  },
  {
   "cell_type": "code",
   "execution_count": null,
   "id": "df51d631",
   "metadata": {},
   "outputs": [],
   "source": [
    "nnga.get_all_accuracy()[0]"
   ]
  },
  {
   "cell_type": "code",
   "execution_count": null,
   "id": "af0c5fb4",
   "metadata": {},
   "outputs": [],
   "source": [
    "X[10].reshape(-1,1)"
   ]
  },
  {
   "cell_type": "code",
   "execution_count": null,
   "id": "562dbd16",
   "metadata": {},
   "outputs": [],
   "source": [
    "pred = nnga.nets[0].feedforward(X[10].reshape(-1,1)).reshape(-1)"
   ]
  },
  {
   "cell_type": "code",
   "execution_count": null,
   "id": "94e334ce",
   "metadata": {},
   "outputs": [],
   "source": [
    "for j in range(len(pred)):\n",
    "    pred[j] = round(pred[j])"
   ]
  },
  {
   "cell_type": "code",
   "execution_count": null,
   "id": "093695b6",
   "metadata": {},
   "outputs": [],
   "source": [
    "pred"
   ]
  },
  {
   "cell_type": "code",
   "execution_count": null,
   "id": "ec5e481f",
   "metadata": {},
   "outputs": [],
   "source": [
    "y[10]"
   ]
  },
  {
   "cell_type": "code",
   "execution_count": null,
   "id": "e58d4594",
   "metadata": {},
   "outputs": [],
   "source": [
    "X_test = df.iloc[5000:6000, :8].values\n",
    "y_test = df.iloc[5000:6000, 8:16].values\n",
    "sc = StandardScaler()\n",
    "X_test = sc.fit_transform(X_test)"
   ]
  },
  {
   "cell_type": "code",
   "execution_count": null,
   "id": "6f83e6e6",
   "metadata": {},
   "outputs": [],
   "source": [
    "acc = nnga.nets[0].accuracy(X_test,y_test)"
   ]
  },
  {
   "cell_type": "code",
   "execution_count": null,
   "id": "b55becf4",
   "metadata": {},
   "outputs": [],
   "source": [
    "acc"
   ]
  },
  {
   "cell_type": "code",
   "execution_count": null,
   "id": "18c24095",
   "metadata": {},
   "outputs": [],
   "source": []
  }
 ],
 "metadata": {
  "kernelspec": {
   "display_name": "Python 3 (ipykernel)",
   "language": "python",
   "name": "python3"
  },
  "language_info": {
   "codemirror_mode": {
    "name": "ipython",
    "version": 3
   },
   "file_extension": ".py",
   "mimetype": "text/x-python",
   "name": "python",
   "nbconvert_exporter": "python",
   "pygments_lexer": "ipython3",
   "version": "3.8.10"
  }
 },
 "nbformat": 4,
 "nbformat_minor": 5
}
