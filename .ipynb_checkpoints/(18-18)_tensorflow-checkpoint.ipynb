{
 "cells": [
  {
   "cell_type": "code",
   "execution_count": 1,
   "id": "6e0b208e",
   "metadata": {},
   "outputs": [
    {
     "data": {
      "text/html": [
       "<div>\n",
       "<style scoped>\n",
       "    .dataframe tbody tr th:only-of-type {\n",
       "        vertical-align: middle;\n",
       "    }\n",
       "\n",
       "    .dataframe tbody tr th {\n",
       "        vertical-align: top;\n",
       "    }\n",
       "\n",
       "    .dataframe thead th {\n",
       "        text-align: right;\n",
       "    }\n",
       "</style>\n",
       "<table border=\"1\" class=\"dataframe\">\n",
       "  <thead>\n",
       "    <tr style=\"text-align: right;\">\n",
       "      <th></th>\n",
       "      <th>X(1, 2)</th>\n",
       "      <th>X(1, 3)</th>\n",
       "      <th>X(1, 4)</th>\n",
       "      <th>X(2, 4)</th>\n",
       "      <th>X(2, 5)</th>\n",
       "      <th>X(3, 4)</th>\n",
       "      <th>X(3, 7)</th>\n",
       "      <th>X(4, 5)</th>\n",
       "      <th>X(4, 6)</th>\n",
       "      <th>X(4, 7)</th>\n",
       "      <th>...</th>\n",
       "      <th>Y(4, 6)</th>\n",
       "      <th>Y(4, 7)</th>\n",
       "      <th>Y(5, 6)</th>\n",
       "      <th>Y(5, 8)</th>\n",
       "      <th>Y(5, 9)</th>\n",
       "      <th>Y(6, 7)</th>\n",
       "      <th>Y(6, 8)</th>\n",
       "      <th>Y(7, 8)</th>\n",
       "      <th>Y(7, 9)</th>\n",
       "      <th>Y(8, 9)</th>\n",
       "    </tr>\n",
       "  </thead>\n",
       "  <tbody>\n",
       "    <tr>\n",
       "      <th>0</th>\n",
       "      <td>20</td>\n",
       "      <td>20</td>\n",
       "      <td>10</td>\n",
       "      <td>40</td>\n",
       "      <td>30</td>\n",
       "      <td>60</td>\n",
       "      <td>70</td>\n",
       "      <td>80</td>\n",
       "      <td>50</td>\n",
       "      <td>30</td>\n",
       "      <td>...</td>\n",
       "      <td>0</td>\n",
       "      <td>1</td>\n",
       "      <td>0</td>\n",
       "      <td>0</td>\n",
       "      <td>0</td>\n",
       "      <td>0</td>\n",
       "      <td>0</td>\n",
       "      <td>0</td>\n",
       "      <td>1</td>\n",
       "      <td>0</td>\n",
       "    </tr>\n",
       "    <tr>\n",
       "      <th>1</th>\n",
       "      <td>50</td>\n",
       "      <td>50</td>\n",
       "      <td>50</td>\n",
       "      <td>10</td>\n",
       "      <td>60</td>\n",
       "      <td>40</td>\n",
       "      <td>50</td>\n",
       "      <td>70</td>\n",
       "      <td>30</td>\n",
       "      <td>50</td>\n",
       "      <td>...</td>\n",
       "      <td>0</td>\n",
       "      <td>0</td>\n",
       "      <td>0</td>\n",
       "      <td>0</td>\n",
       "      <td>0</td>\n",
       "      <td>0</td>\n",
       "      <td>0</td>\n",
       "      <td>0</td>\n",
       "      <td>1</td>\n",
       "      <td>0</td>\n",
       "    </tr>\n",
       "    <tr>\n",
       "      <th>2</th>\n",
       "      <td>60</td>\n",
       "      <td>70</td>\n",
       "      <td>70</td>\n",
       "      <td>30</td>\n",
       "      <td>50</td>\n",
       "      <td>50</td>\n",
       "      <td>50</td>\n",
       "      <td>60</td>\n",
       "      <td>30</td>\n",
       "      <td>20</td>\n",
       "      <td>...</td>\n",
       "      <td>0</td>\n",
       "      <td>1</td>\n",
       "      <td>0</td>\n",
       "      <td>0</td>\n",
       "      <td>0</td>\n",
       "      <td>0</td>\n",
       "      <td>0</td>\n",
       "      <td>1</td>\n",
       "      <td>0</td>\n",
       "      <td>1</td>\n",
       "    </tr>\n",
       "    <tr>\n",
       "      <th>3</th>\n",
       "      <td>80</td>\n",
       "      <td>70</td>\n",
       "      <td>30</td>\n",
       "      <td>40</td>\n",
       "      <td>30</td>\n",
       "      <td>60</td>\n",
       "      <td>20</td>\n",
       "      <td>10</td>\n",
       "      <td>80</td>\n",
       "      <td>60</td>\n",
       "      <td>...</td>\n",
       "      <td>0</td>\n",
       "      <td>0</td>\n",
       "      <td>0</td>\n",
       "      <td>0</td>\n",
       "      <td>1</td>\n",
       "      <td>0</td>\n",
       "      <td>0</td>\n",
       "      <td>0</td>\n",
       "      <td>0</td>\n",
       "      <td>0</td>\n",
       "    </tr>\n",
       "    <tr>\n",
       "      <th>4</th>\n",
       "      <td>50</td>\n",
       "      <td>50</td>\n",
       "      <td>50</td>\n",
       "      <td>30</td>\n",
       "      <td>80</td>\n",
       "      <td>10</td>\n",
       "      <td>80</td>\n",
       "      <td>10</td>\n",
       "      <td>50</td>\n",
       "      <td>40</td>\n",
       "      <td>...</td>\n",
       "      <td>0</td>\n",
       "      <td>0</td>\n",
       "      <td>0</td>\n",
       "      <td>0</td>\n",
       "      <td>1</td>\n",
       "      <td>0</td>\n",
       "      <td>0</td>\n",
       "      <td>0</td>\n",
       "      <td>0</td>\n",
       "      <td>0</td>\n",
       "    </tr>\n",
       "  </tbody>\n",
       "</table>\n",
       "<p>5 rows × 36 columns</p>\n",
       "</div>"
      ],
      "text/plain": [
       "   X(1, 2)  X(1, 3)  X(1, 4)  X(2, 4)  X(2, 5)  X(3, 4)  X(3, 7)  X(4, 5)  \\\n",
       "0       20       20       10       40       30       60       70       80   \n",
       "1       50       50       50       10       60       40       50       70   \n",
       "2       60       70       70       30       50       50       50       60   \n",
       "3       80       70       30       40       30       60       20       10   \n",
       "4       50       50       50       30       80       10       80       10   \n",
       "\n",
       "   X(4, 6)  X(4, 7)  ...  Y(4, 6)  Y(4, 7)  Y(5, 6)  Y(5, 8)  Y(5, 9)  \\\n",
       "0       50       30  ...        0        1        0        0        0   \n",
       "1       30       50  ...        0        0        0        0        0   \n",
       "2       30       20  ...        0        1        0        0        0   \n",
       "3       80       60  ...        0        0        0        0        1   \n",
       "4       50       40  ...        0        0        0        0        1   \n",
       "\n",
       "   Y(6, 7)  Y(6, 8)  Y(7, 8)  Y(7, 9)  Y(8, 9)  \n",
       "0        0        0        0        1        0  \n",
       "1        0        0        0        1        0  \n",
       "2        0        0        1        0        1  \n",
       "3        0        0        0        0        0  \n",
       "4        0        0        0        0        0  \n",
       "\n",
       "[5 rows x 36 columns]"
      ]
     },
     "execution_count": 1,
     "metadata": {},
     "output_type": "execute_result"
    }
   ],
   "source": [
    "import numpy as np\n",
    "import pandas as pd\n",
    "#dataset import\n",
    "dataset = pd.read_csv(\"data_(18-18).csv\") #You need to change #directory accordingly\n",
    "dataset.head()"
   ]
  },
  {
   "cell_type": "code",
   "execution_count": 2,
   "id": "4fc511a4",
   "metadata": {},
   "outputs": [],
   "source": [
    "X = dataset.iloc[:,:18].values\n",
    "y = dataset.iloc[:,18:36].values"
   ]
  },
  {
   "cell_type": "code",
   "execution_count": 3,
   "id": "9b16f10f",
   "metadata": {},
   "outputs": [
    {
     "data": {
      "text/plain": [
       "(100000, 18)"
      ]
     },
     "execution_count": 3,
     "metadata": {},
     "output_type": "execute_result"
    }
   ],
   "source": [
    "X.shape"
   ]
  },
  {
   "cell_type": "code",
   "execution_count": 4,
   "id": "a6a95eb2",
   "metadata": {},
   "outputs": [],
   "source": [
    "from sklearn.preprocessing import StandardScaler\n",
    "sc = StandardScaler()\n",
    "X = sc.fit_transform(X)"
   ]
  },
  {
   "cell_type": "code",
   "execution_count": 5,
   "id": "a62cb901",
   "metadata": {},
   "outputs": [
    {
     "data": {
      "text/plain": [
       "array([-2.44666995e-03, -1.23868845e-04, -1.20138883e-03, -1.55513717e+00,\n",
       "        3.88015717e-01, -3.83833713e-01,  1.08772637e-03,  7.75497978e-01,\n",
       "       -7.72082031e-01, -1.53306146e-03,  7.73999611e-01,  7.73441584e-01,\n",
       "        1.16131374e+00, -1.15976095e+00,  7.72786728e-01,  3.85793434e-01,\n",
       "       -1.15997320e+00, -1.54590251e+00])"
      ]
     },
     "execution_count": 5,
     "metadata": {},
     "output_type": "execute_result"
    }
   ],
   "source": [
    "X[1,:]"
   ]
  },
  {
   "cell_type": "code",
   "execution_count": 6,
   "id": "6617a6fb",
   "metadata": {},
   "outputs": [
    {
     "data": {
      "text/plain": [
       "array([0, 1, 0, 0, 0, 0, 1, 0, 0, 0, 0, 0, 0, 0, 0, 0, 1, 0], dtype=int64)"
      ]
     },
     "execution_count": 6,
     "metadata": {},
     "output_type": "execute_result"
    }
   ],
   "source": [
    "y[1,:]"
   ]
  },
  {
   "cell_type": "code",
   "execution_count": 7,
   "id": "e0d7dfc9",
   "metadata": {},
   "outputs": [],
   "source": [
    "from sklearn.model_selection import train_test_split\n",
    "X_train,X_test,y_train,y_test = train_test_split(X,y,test_size = 0.01)"
   ]
  },
  {
   "cell_type": "code",
   "execution_count": 8,
   "id": "72c0fe51",
   "metadata": {},
   "outputs": [
    {
     "data": {
      "text/plain": [
       "array([-3.89577992e-01,  3.86966270e-01, -1.55138052e+00, -8.70389398e-04,\n",
       "        3.88015717e-01,  1.55124117e+00, -7.73094744e-01, -7.74103336e-01,\n",
       "        1.55487972e+00, -1.54617937e+00, -9.45432954e-04, -3.92011951e-01,\n",
       "        3.87349668e-01,  5.68561461e-04, -1.55583102e+00,  1.54932884e+00,\n",
       "        7.73773122e-01,  3.90813873e-01])"
      ]
     },
     "execution_count": 8,
     "metadata": {},
     "output_type": "execute_result"
    }
   ],
   "source": [
    "X_test[1,:]"
   ]
  },
  {
   "cell_type": "code",
   "execution_count": 9,
   "id": "75cf1df7",
   "metadata": {},
   "outputs": [
    {
     "data": {
      "text/plain": [
       "array([0, 0, 1, 0, 0, 0, 0, 0, 0, 1, 0, 0, 0, 0, 0, 0, 1, 0], dtype=int64)"
      ]
     },
     "execution_count": 9,
     "metadata": {},
     "output_type": "execute_result"
    }
   ],
   "source": [
    "y_test[1,:]"
   ]
  },
  {
   "cell_type": "code",
   "execution_count": 168,
   "id": "9481c5aa",
   "metadata": {},
   "outputs": [],
   "source": [
    "#Dependencies\n",
    "import keras\n",
    "from keras.models import Sequential\n",
    "from keras.layers import Dense,Dropout\n",
    "# Neural network\n",
    "model = Sequential()\n",
    "model.add(Dense(18, input_dim=18, activation=\"relu\"))\n",
    "model.add(Dropout(0.5))\n",
    "model.add(Dense(100, activation=\"relu\"))\n",
    "model.add(Dropout(0.5))\n",
    "model.add(Dense(18, activation=\"sigmoid\"))"
   ]
  },
  {
   "cell_type": "code",
   "execution_count": 169,
   "id": "52646bd6",
   "metadata": {},
   "outputs": [],
   "source": [
    "model.compile(loss='binary_crossentropy', optimizer='adam',\n",
    "              metrics=[\"accuracy\", \"binary_accuracy\"])"
   ]
  },
  {
   "cell_type": "code",
   "execution_count": 170,
   "id": "14f80e09",
   "metadata": {},
   "outputs": [
    {
     "name": "stdout",
     "output_type": "stream",
     "text": [
      "Epoch 1/10\n",
      "1547/1547 [==============================] - 2s 1ms/step - loss: 0.3020 - accuracy: 0.3794 - binary_accuracy: 0.8785\n",
      "Epoch 2/10\n",
      "1547/1547 [==============================] - 2s 1ms/step - loss: 0.2326 - accuracy: 0.5277 - binary_accuracy: 0.9157\n",
      "Epoch 3/10\n",
      "1547/1547 [==============================] - 2s 1ms/step - loss: 0.2259 - accuracy: 0.5368 - binary_accuracy: 0.9192\n",
      "Epoch 4/10\n",
      "1547/1547 [==============================] - 2s 1ms/step - loss: 0.2231 - accuracy: 0.5450 - binary_accuracy: 0.9202\n",
      "Epoch 5/10\n",
      "1547/1547 [==============================] - 2s 1ms/step - loss: 0.2203 - accuracy: 0.5494 - binary_accuracy: 0.9218\n",
      "Epoch 6/10\n",
      "1547/1547 [==============================] - 2s 1ms/step - loss: 0.2194 - accuracy: 0.5536 - binary_accuracy: 0.9221\n",
      "Epoch 7/10\n",
      "1547/1547 [==============================] - 2s 1ms/step - loss: 0.2176 - accuracy: 0.5527 - binary_accuracy: 0.9228\n",
      "Epoch 8/10\n",
      "1547/1547 [==============================] - 2s 1ms/step - loss: 0.2178 - accuracy: 0.5535 - binary_accuracy: 0.9228\n",
      "Epoch 9/10\n",
      "1547/1547 [==============================] - 2s 1ms/step - loss: 0.2179 - accuracy: 0.5522 - binary_accuracy: 0.9227\n",
      "Epoch 10/10\n",
      "1547/1547 [==============================] - 2s 1ms/step - loss: 0.2160 - accuracy: 0.5590 - binary_accuracy: 0.9234\n"
     ]
    },
    {
     "data": {
      "text/plain": [
       "<keras.callbacks.History at 0x23f25b746d0>"
      ]
     },
     "execution_count": 170,
     "metadata": {},
     "output_type": "execute_result"
    }
   ],
   "source": [
    "model.fit(X_train, y_train, epochs=10, batch_size=64)"
   ]
  },
  {
   "cell_type": "code",
   "execution_count": 171,
   "id": "13001fcd",
   "metadata": {},
   "outputs": [
    {
     "name": "stdout",
     "output_type": "stream",
     "text": [
      "32/32 [==============================] - 0s 1ms/step - loss: 0.1955 - accuracy: 0.6000 - binary_accuracy: 0.9375\n"
     ]
    }
   ],
   "source": [
    "loss_and_metrics = model.evaluate(X_test, y_test)"
   ]
  },
  {
   "cell_type": "code",
   "execution_count": 172,
   "id": "4fd86215",
   "metadata": {},
   "outputs": [
    {
     "name": "stdout",
     "output_type": "stream",
     "text": [
      "3094/3094 [==============================] - 2s 742us/step - loss: 0.1888 - accuracy: 0.6286 - binary_accuracy: 0.94061s - los\n"
     ]
    }
   ],
   "source": [
    "loss_and_metrics_2 = model.evaluate(X_train, y_train)"
   ]
  },
  {
   "cell_type": "code",
   "execution_count": 173,
   "id": "511d340c",
   "metadata": {},
   "outputs": [],
   "source": [
    "pred = model.predict(X_test)"
   ]
  },
  {
   "cell_type": "code",
   "execution_count": 174,
   "id": "b18604e7",
   "metadata": {},
   "outputs": [
    {
     "data": {
      "text/plain": [
       "array([0.12988624, 0.57311636, 0.36301142, 0.07600251, 0.04207757,\n",
       "       0.1517303 , 0.53962624, 0.03733698, 0.07251719, 0.36777693,\n",
       "       0.01929563, 0.0180445 , 0.05650115, 0.04824322, 0.01926902,\n",
       "       0.04475534, 0.85916185, 0.0666731 ], dtype=float32)"
      ]
     },
     "execution_count": 174,
     "metadata": {},
     "output_type": "execute_result"
    }
   ],
   "source": [
    "pred[900]"
   ]
  },
  {
   "cell_type": "code",
   "execution_count": 175,
   "id": "5429bf63",
   "metadata": {},
   "outputs": [
    {
     "data": {
      "text/plain": [
       "array([0, 1, 0, 0, 0, 0, 1, 0, 0, 0, 0, 0, 0, 0, 0, 0, 1, 0], dtype=int64)"
      ]
     },
     "execution_count": 175,
     "metadata": {},
     "output_type": "execute_result"
    }
   ],
   "source": [
    "y_test[900]"
   ]
  },
  {
   "cell_type": "code",
   "execution_count": null,
   "id": "be0eb9ed",
   "metadata": {},
   "outputs": [],
   "source": []
  }
 ],
 "metadata": {
  "kernelspec": {
   "display_name": "Python 3 (ipykernel)",
   "language": "python",
   "name": "python3"
  },
  "language_info": {
   "codemirror_mode": {
    "name": "ipython",
    "version": 3
   },
   "file_extension": ".py",
   "mimetype": "text/x-python",
   "name": "python",
   "nbconvert_exporter": "python",
   "pygments_lexer": "ipython3",
   "version": "3.8.10"
  }
 },
 "nbformat": 4,
 "nbformat_minor": 5
}
