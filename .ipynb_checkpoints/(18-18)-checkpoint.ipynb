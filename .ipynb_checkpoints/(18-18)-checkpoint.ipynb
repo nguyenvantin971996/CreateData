{
 "cells": [
  {
   "cell_type": "code",
   "execution_count": 87,
   "id": "6e0b208e",
   "metadata": {},
   "outputs": [
    {
     "data": {
      "text/html": [
       "<div>\n",
       "<style scoped>\n",
       "    .dataframe tbody tr th:only-of-type {\n",
       "        vertical-align: middle;\n",
       "    }\n",
       "\n",
       "    .dataframe tbody tr th {\n",
       "        vertical-align: top;\n",
       "    }\n",
       "\n",
       "    .dataframe thead th {\n",
       "        text-align: right;\n",
       "    }\n",
       "</style>\n",
       "<table border=\"1\" class=\"dataframe\">\n",
       "  <thead>\n",
       "    <tr style=\"text-align: right;\">\n",
       "      <th></th>\n",
       "      <th>X(1, 2)</th>\n",
       "      <th>X(1, 3)</th>\n",
       "      <th>X(1, 4)</th>\n",
       "      <th>X(2, 4)</th>\n",
       "      <th>X(2, 5)</th>\n",
       "      <th>X(3, 4)</th>\n",
       "      <th>X(3, 5)</th>\n",
       "      <th>X(4, 5)</th>\n",
       "      <th>Y(1, 2)</th>\n",
       "      <th>Y(1, 3)</th>\n",
       "      <th>Y(1, 4)</th>\n",
       "      <th>Y(2, 4)</th>\n",
       "      <th>Y(2, 5)</th>\n",
       "      <th>Y(3, 4)</th>\n",
       "      <th>Y(3, 5)</th>\n",
       "      <th>Y(4, 5)</th>\n",
       "    </tr>\n",
       "  </thead>\n",
       "  <tbody>\n",
       "    <tr>\n",
       "      <th>0</th>\n",
       "      <td>90</td>\n",
       "      <td>40</td>\n",
       "      <td>20</td>\n",
       "      <td>70</td>\n",
       "      <td>10</td>\n",
       "      <td>60</td>\n",
       "      <td>60</td>\n",
       "      <td>70</td>\n",
       "      <td>0</td>\n",
       "      <td>0</td>\n",
       "      <td>1</td>\n",
       "      <td>0</td>\n",
       "      <td>0</td>\n",
       "      <td>0</td>\n",
       "      <td>0</td>\n",
       "      <td>1</td>\n",
       "    </tr>\n",
       "    <tr>\n",
       "      <th>1</th>\n",
       "      <td>50</td>\n",
       "      <td>70</td>\n",
       "      <td>60</td>\n",
       "      <td>60</td>\n",
       "      <td>80</td>\n",
       "      <td>50</td>\n",
       "      <td>20</td>\n",
       "      <td>40</td>\n",
       "      <td>0</td>\n",
       "      <td>1</td>\n",
       "      <td>0</td>\n",
       "      <td>0</td>\n",
       "      <td>0</td>\n",
       "      <td>0</td>\n",
       "      <td>1</td>\n",
       "      <td>0</td>\n",
       "    </tr>\n",
       "    <tr>\n",
       "      <th>2</th>\n",
       "      <td>50</td>\n",
       "      <td>90</td>\n",
       "      <td>80</td>\n",
       "      <td>20</td>\n",
       "      <td>60</td>\n",
       "      <td>70</td>\n",
       "      <td>40</td>\n",
       "      <td>50</td>\n",
       "      <td>1</td>\n",
       "      <td>0</td>\n",
       "      <td>0</td>\n",
       "      <td>0</td>\n",
       "      <td>1</td>\n",
       "      <td>0</td>\n",
       "      <td>0</td>\n",
       "      <td>0</td>\n",
       "    </tr>\n",
       "    <tr>\n",
       "      <th>3</th>\n",
       "      <td>20</td>\n",
       "      <td>90</td>\n",
       "      <td>60</td>\n",
       "      <td>60</td>\n",
       "      <td>40</td>\n",
       "      <td>70</td>\n",
       "      <td>30</td>\n",
       "      <td>50</td>\n",
       "      <td>1</td>\n",
       "      <td>0</td>\n",
       "      <td>0</td>\n",
       "      <td>0</td>\n",
       "      <td>1</td>\n",
       "      <td>0</td>\n",
       "      <td>0</td>\n",
       "      <td>0</td>\n",
       "    </tr>\n",
       "    <tr>\n",
       "      <th>4</th>\n",
       "      <td>70</td>\n",
       "      <td>70</td>\n",
       "      <td>70</td>\n",
       "      <td>50</td>\n",
       "      <td>40</td>\n",
       "      <td>40</td>\n",
       "      <td>20</td>\n",
       "      <td>60</td>\n",
       "      <td>0</td>\n",
       "      <td>1</td>\n",
       "      <td>0</td>\n",
       "      <td>0</td>\n",
       "      <td>0</td>\n",
       "      <td>0</td>\n",
       "      <td>1</td>\n",
       "      <td>0</td>\n",
       "    </tr>\n",
       "  </tbody>\n",
       "</table>\n",
       "</div>"
      ],
      "text/plain": [
       "   X(1, 2)  X(1, 3)  X(1, 4)  X(2, 4)  X(2, 5)  X(3, 4)  X(3, 5)  X(4, 5)  \\\n",
       "0       90       40       20       70       10       60       60       70   \n",
       "1       50       70       60       60       80       50       20       40   \n",
       "2       50       90       80       20       60       70       40       50   \n",
       "3       20       90       60       60       40       70       30       50   \n",
       "4       70       70       70       50       40       40       20       60   \n",
       "\n",
       "   Y(1, 2)  Y(1, 3)  Y(1, 4)  Y(2, 4)  Y(2, 5)  Y(3, 4)  Y(3, 5)  Y(4, 5)  \n",
       "0        0        0        1        0        0        0        0        1  \n",
       "1        0        1        0        0        0        0        1        0  \n",
       "2        1        0        0        0        1        0        0        0  \n",
       "3        1        0        0        0        1        0        0        0  \n",
       "4        0        1        0        0        0        0        1        0  "
      ]
     },
     "execution_count": 87,
     "metadata": {},
     "output_type": "execute_result"
    }
   ],
   "source": [
    "import numpy as np\n",
    "import pandas as pd\n",
    "#dataset import\n",
    "dataset = pd.read_csv(\"data_(8-8).csv\") #You need to change #directory accordingly\n",
    "dataset.head()"
   ]
  },
  {
   "cell_type": "code",
   "execution_count": 88,
   "id": "4fc511a4",
   "metadata": {},
   "outputs": [],
   "source": [
    "X = dataset.iloc[:,:8].values\n",
    "y = dataset.iloc[:,8:16].values"
   ]
  },
  {
   "cell_type": "code",
   "execution_count": 89,
   "id": "9b16f10f",
   "metadata": {},
   "outputs": [
    {
     "data": {
      "text/plain": [
       "(100000, 8)"
      ]
     },
     "execution_count": 89,
     "metadata": {},
     "output_type": "execute_result"
    }
   ],
   "source": [
    "X.shape"
   ]
  },
  {
   "cell_type": "code",
   "execution_count": 90,
   "id": "a6a95eb2",
   "metadata": {},
   "outputs": [],
   "source": [
    "from sklearn.preprocessing import StandardScaler\n",
    "sc = StandardScaler()\n",
    "X = sc.fit_transform(X)"
   ]
  },
  {
   "cell_type": "code",
   "execution_count": 91,
   "id": "a62cb901",
   "metadata": {},
   "outputs": [
    {
     "data": {
      "text/plain": [
       "array([ 0.0029868 ,  0.77637624,  0.39127709,  0.38487583,  1.15719413,\n",
       "        0.0025869 , -1.16100287, -0.38334669])"
      ]
     },
     "execution_count": 91,
     "metadata": {},
     "output_type": "execute_result"
    }
   ],
   "source": [
    "X[1,:]"
   ]
  },
  {
   "cell_type": "code",
   "execution_count": 92,
   "id": "6617a6fb",
   "metadata": {},
   "outputs": [
    {
     "data": {
      "text/plain": [
       "array([0, 1, 0, 0, 0, 0, 1, 0], dtype=int64)"
      ]
     },
     "execution_count": 92,
     "metadata": {},
     "output_type": "execute_result"
    }
   ],
   "source": [
    "y[1,:]"
   ]
  },
  {
   "cell_type": "code",
   "execution_count": 93,
   "id": "e0d7dfc9",
   "metadata": {},
   "outputs": [],
   "source": [
    "from sklearn.model_selection import train_test_split\n",
    "X_train,X_test,y_train,y_test = train_test_split(X,y,test_size = 0.1)"
   ]
  },
  {
   "cell_type": "code",
   "execution_count": 94,
   "id": "72c0fe51",
   "metadata": {},
   "outputs": [
    {
     "data": {
      "text/plain": [
       "array([-1.54658732e+00, -7.72944493e-01,  3.91277094e-01, -8.71789610e-04,\n",
       "        1.15719413e+00,  2.58690285e-03,  1.16137445e+00, -1.15714353e+00])"
      ]
     },
     "execution_count": 94,
     "metadata": {},
     "output_type": "execute_result"
    }
   ],
   "source": [
    "X_test[1,:]"
   ]
  },
  {
   "cell_type": "code",
   "execution_count": 95,
   "id": "75cf1df7",
   "metadata": {},
   "outputs": [
    {
     "data": {
      "text/plain": [
       "array([0, 0, 1, 0, 0, 0, 0, 1], dtype=int64)"
      ]
     },
     "execution_count": 95,
     "metadata": {},
     "output_type": "execute_result"
    }
   ],
   "source": [
    "y_test[1,:]"
   ]
  },
  {
   "cell_type": "code",
   "execution_count": 121,
   "id": "9481c5aa",
   "metadata": {},
   "outputs": [],
   "source": [
    "#Dependencies\n",
    "import keras\n",
    "from keras.models import Sequential\n",
    "from keras.layers import Dense,Dropout\n",
    "# Neural network\n",
    "model = Sequential()\n",
    "model.add(Dense(160, input_dim=8, activation=\"relu\"))\n",
    "model.add(Dropout(0.2))\n",
    "# model.add(Dense(50, activation=\"relu\"))\n",
    "# model.add(Dropout(0.2))\n",
    "model.add(Dense(8, activation=\"sigmoid\"))"
   ]
  },
  {
   "cell_type": "code",
   "execution_count": 122,
   "id": "52646bd6",
   "metadata": {},
   "outputs": [],
   "source": [
    "model.compile(loss='binary_crossentropy', optimizer='adam', metrics=['accuracy'])"
   ]
  },
  {
   "cell_type": "code",
   "execution_count": 123,
   "id": "14f80e09",
   "metadata": {},
   "outputs": [
    {
     "name": "stdout",
     "output_type": "stream",
     "text": [
      "Epoch 1/15\n",
      "1407/1407 [==============================] - 3s 1ms/step - loss: 0.1592 - accuracy: 0.6093\n",
      "Epoch 2/15\n",
      "1407/1407 [==============================] - 2s 2ms/step - loss: 0.0925 - accuracy: 0.7443\n",
      "Epoch 3/15\n",
      "1407/1407 [==============================] - 2s 2ms/step - loss: 0.0807 - accuracy: 0.7844\n",
      "Epoch 4/15\n",
      "1407/1407 [==============================] - 2s 2ms/step - loss: 0.0725 - accuracy: 0.8001\n",
      "Epoch 5/15\n",
      "1407/1407 [==============================] - 2s 2ms/step - loss: 0.0659 - accuracy: 0.8098\n",
      "Epoch 6/15\n",
      "1407/1407 [==============================] - 2s 2ms/step - loss: 0.0606 - accuracy: 0.8193\n",
      "Epoch 7/15\n",
      "1407/1407 [==============================] - 2s 1ms/step - loss: 0.0567 - accuracy: 0.8237\n",
      "Epoch 8/15\n",
      "1407/1407 [==============================] - 2s 1ms/step - loss: 0.0536 - accuracy: 0.8283\n",
      "Epoch 9/15\n",
      "1407/1407 [==============================] - 2s 2ms/step - loss: 0.0512 - accuracy: 0.8336\n",
      "Epoch 10/15\n",
      "1407/1407 [==============================] - 2s 2ms/step - loss: 0.0494 - accuracy: 0.8376\n",
      "Epoch 11/15\n",
      "1407/1407 [==============================] - 2s 2ms/step - loss: 0.0482 - accuracy: 0.8407\n",
      "Epoch 12/15\n",
      "1407/1407 [==============================] - 2s 2ms/step - loss: 0.0472 - accuracy: 0.8479\n",
      "Epoch 13/15\n",
      "1407/1407 [==============================] - 2s 2ms/step - loss: 0.0457 - accuracy: 0.8486\n",
      "Epoch 14/15\n",
      "1407/1407 [==============================] - 2s 2ms/step - loss: 0.0457 - accuracy: 0.8462\n",
      "Epoch 15/15\n",
      "1407/1407 [==============================] - 2s 1ms/step - loss: 0.0444 - accuracy: 0.8462\n"
     ]
    }
   ],
   "source": [
    "history = model.fit(X_train, y_train, epochs=15, batch_size=64)"
   ]
  },
  {
   "cell_type": "code",
   "execution_count": 116,
   "id": "6fbc145f",
   "metadata": {},
   "outputs": [],
   "source": [
    "y_pred = model.predict(X_test)"
   ]
  },
  {
   "cell_type": "code",
   "execution_count": 117,
   "id": "0b47baec",
   "metadata": {},
   "outputs": [
    {
     "data": {
      "text/plain": [
       "array([6.1779755e-01, 4.4026971e-04, 4.7993746e-01, 7.9036057e-02,\n",
       "       4.8607230e-02, 1.8805265e-03, 4.2918324e-04, 8.5991931e-01],\n",
       "      dtype=float32)"
      ]
     },
     "execution_count": 117,
     "metadata": {},
     "output_type": "execute_result"
    }
   ],
   "source": [
    "y_pred[1,:]"
   ]
  },
  {
   "cell_type": "code",
   "execution_count": 118,
   "id": "6ea1f13f",
   "metadata": {},
   "outputs": [],
   "source": [
    "for i in range(len(y_pred)):\n",
    "    for j in range(len(y_pred[i])):\n",
    "        y_pred[i,j] = round(y_pred[i,j])"
   ]
  },
  {
   "cell_type": "code",
   "execution_count": 119,
   "id": "873fad5d",
   "metadata": {},
   "outputs": [
    {
     "data": {
      "text/plain": [
       "array([1., 0., 0., 0., 0., 0., 0., 1.], dtype=float32)"
      ]
     },
     "execution_count": 119,
     "metadata": {},
     "output_type": "execute_result"
    }
   ],
   "source": [
    "y_pred[1,:]"
   ]
  },
  {
   "cell_type": "code",
   "execution_count": 120,
   "id": "96723ed5",
   "metadata": {},
   "outputs": [
    {
     "name": "stdout",
     "output_type": "stream",
     "text": [
      "Accuracy is: 95.49\n"
     ]
    }
   ],
   "source": [
    "from sklearn.metrics import accuracy_score\n",
    "a = accuracy_score(y_pred,y_test)\n",
    "print('Accuracy is:', a*100)"
   ]
  },
  {
   "cell_type": "code",
   "execution_count": null,
   "id": "ecff2241",
   "metadata": {},
   "outputs": [],
   "source": []
  }
 ],
 "metadata": {
  "kernelspec": {
   "display_name": "Python 3 (ipykernel)",
   "language": "python",
   "name": "python3"
  },
  "language_info": {
   "codemirror_mode": {
    "name": "ipython",
    "version": 3
   },
   "file_extension": ".py",
   "mimetype": "text/x-python",
   "name": "python",
   "nbconvert_exporter": "python",
   "pygments_lexer": "ipython3",
   "version": "3.8.10"
  }
 },
 "nbformat": 4,
 "nbformat_minor": 5
}
