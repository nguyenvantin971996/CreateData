{
 "cells": [
  {
   "cell_type": "code",
   "execution_count": 1,
   "id": "6e0b208e",
   "metadata": {},
   "outputs": [
    {
     "data": {
      "text/html": [
       "<div>\n",
       "<style scoped>\n",
       "    .dataframe tbody tr th:only-of-type {\n",
       "        vertical-align: middle;\n",
       "    }\n",
       "\n",
       "    .dataframe tbody tr th {\n",
       "        vertical-align: top;\n",
       "    }\n",
       "\n",
       "    .dataframe thead th {\n",
       "        text-align: right;\n",
       "    }\n",
       "</style>\n",
       "<table border=\"1\" class=\"dataframe\">\n",
       "  <thead>\n",
       "    <tr style=\"text-align: right;\">\n",
       "      <th></th>\n",
       "      <th>X(1, 2)</th>\n",
       "      <th>X(1, 5)</th>\n",
       "      <th>X(1, 8)</th>\n",
       "      <th>X(2, 3)</th>\n",
       "      <th>X(2, 8)</th>\n",
       "      <th>X(3, 4)</th>\n",
       "      <th>X(3, 8)</th>\n",
       "      <th>X(3, 9)</th>\n",
       "      <th>X(4, 9)</th>\n",
       "      <th>X(4, 10)</th>\n",
       "      <th>...</th>\n",
       "      <th>Y4(4, 10)</th>\n",
       "      <th>Y4(5, 6)</th>\n",
       "      <th>Y4(5, 8)</th>\n",
       "      <th>Y4(6, 7)</th>\n",
       "      <th>Y4(6, 8)</th>\n",
       "      <th>Y4(6, 9)</th>\n",
       "      <th>Y4(7, 9)</th>\n",
       "      <th>Y4(7, 10)</th>\n",
       "      <th>Y4(8, 9)</th>\n",
       "      <th>Y4(9, 10)</th>\n",
       "    </tr>\n",
       "  </thead>\n",
       "  <tbody>\n",
       "    <tr>\n",
       "      <th>0</th>\n",
       "      <td>60</td>\n",
       "      <td>60</td>\n",
       "      <td>10</td>\n",
       "      <td>70</td>\n",
       "      <td>80</td>\n",
       "      <td>60</td>\n",
       "      <td>60</td>\n",
       "      <td>80</td>\n",
       "      <td>90</td>\n",
       "      <td>50</td>\n",
       "      <td>...</td>\n",
       "      <td>1</td>\n",
       "      <td>0</td>\n",
       "      <td>0</td>\n",
       "      <td>0</td>\n",
       "      <td>0</td>\n",
       "      <td>0</td>\n",
       "      <td>0</td>\n",
       "      <td>0</td>\n",
       "      <td>1</td>\n",
       "      <td>0</td>\n",
       "    </tr>\n",
       "    <tr>\n",
       "      <th>1</th>\n",
       "      <td>10</td>\n",
       "      <td>80</td>\n",
       "      <td>20</td>\n",
       "      <td>50</td>\n",
       "      <td>30</td>\n",
       "      <td>40</td>\n",
       "      <td>60</td>\n",
       "      <td>30</td>\n",
       "      <td>90</td>\n",
       "      <td>40</td>\n",
       "      <td>...</td>\n",
       "      <td>0</td>\n",
       "      <td>0</td>\n",
       "      <td>0</td>\n",
       "      <td>0</td>\n",
       "      <td>0</td>\n",
       "      <td>0</td>\n",
       "      <td>0</td>\n",
       "      <td>0</td>\n",
       "      <td>0</td>\n",
       "      <td>1</td>\n",
       "    </tr>\n",
       "    <tr>\n",
       "      <th>2</th>\n",
       "      <td>10</td>\n",
       "      <td>90</td>\n",
       "      <td>80</td>\n",
       "      <td>40</td>\n",
       "      <td>70</td>\n",
       "      <td>80</td>\n",
       "      <td>40</td>\n",
       "      <td>80</td>\n",
       "      <td>80</td>\n",
       "      <td>70</td>\n",
       "      <td>...</td>\n",
       "      <td>0</td>\n",
       "      <td>0</td>\n",
       "      <td>1</td>\n",
       "      <td>0</td>\n",
       "      <td>0</td>\n",
       "      <td>0</td>\n",
       "      <td>0</td>\n",
       "      <td>0</td>\n",
       "      <td>1</td>\n",
       "      <td>1</td>\n",
       "    </tr>\n",
       "    <tr>\n",
       "      <th>3</th>\n",
       "      <td>50</td>\n",
       "      <td>60</td>\n",
       "      <td>30</td>\n",
       "      <td>90</td>\n",
       "      <td>40</td>\n",
       "      <td>40</td>\n",
       "      <td>50</td>\n",
       "      <td>60</td>\n",
       "      <td>20</td>\n",
       "      <td>20</td>\n",
       "      <td>...</td>\n",
       "      <td>1</td>\n",
       "      <td>1</td>\n",
       "      <td>0</td>\n",
       "      <td>0</td>\n",
       "      <td>0</td>\n",
       "      <td>1</td>\n",
       "      <td>0</td>\n",
       "      <td>0</td>\n",
       "      <td>0</td>\n",
       "      <td>0</td>\n",
       "    </tr>\n",
       "    <tr>\n",
       "      <th>4</th>\n",
       "      <td>50</td>\n",
       "      <td>50</td>\n",
       "      <td>20</td>\n",
       "      <td>10</td>\n",
       "      <td>80</td>\n",
       "      <td>60</td>\n",
       "      <td>70</td>\n",
       "      <td>10</td>\n",
       "      <td>60</td>\n",
       "      <td>40</td>\n",
       "      <td>...</td>\n",
       "      <td>1</td>\n",
       "      <td>0</td>\n",
       "      <td>0</td>\n",
       "      <td>0</td>\n",
       "      <td>0</td>\n",
       "      <td>0</td>\n",
       "      <td>0</td>\n",
       "      <td>0</td>\n",
       "      <td>0</td>\n",
       "      <td>0</td>\n",
       "    </tr>\n",
       "  </tbody>\n",
       "</table>\n",
       "<p>5 rows × 95 columns</p>\n",
       "</div>"
      ],
      "text/plain": [
       "   X(1, 2)  X(1, 5)  X(1, 8)  X(2, 3)  X(2, 8)  X(3, 4)  X(3, 8)  X(3, 9)  \\\n",
       "0       60       60       10       70       80       60       60       80   \n",
       "1       10       80       20       50       30       40       60       30   \n",
       "2       10       90       80       40       70       80       40       80   \n",
       "3       50       60       30       90       40       40       50       60   \n",
       "4       50       50       20       10       80       60       70       10   \n",
       "\n",
       "   X(4, 9)  X(4, 10)  ...  Y4(4, 10)  Y4(5, 6)  Y4(5, 8)  Y4(6, 7)  Y4(6, 8)  \\\n",
       "0       90        50  ...          1         0         0         0         0   \n",
       "1       90        40  ...          0         0         0         0         0   \n",
       "2       80        70  ...          0         0         1         0         0   \n",
       "3       20        20  ...          1         1         0         0         0   \n",
       "4       60        40  ...          1         0         0         0         0   \n",
       "\n",
       "   Y4(6, 9)  Y4(7, 9)  Y4(7, 10)  Y4(8, 9)  Y4(9, 10)  \n",
       "0         0         0          0         1          0  \n",
       "1         0         0          0         0          1  \n",
       "2         0         0          0         1          1  \n",
       "3         1         0          0         0          0  \n",
       "4         0         0          0         0          0  \n",
       "\n",
       "[5 rows x 95 columns]"
      ]
     },
     "execution_count": 1,
     "metadata": {},
     "output_type": "execute_result"
    }
   ],
   "source": [
    "import numpy as np\n",
    "import pandas as pd\n",
    "#dataset import\n",
    "df = pd.read_csv(\"../Data/data_10_nodes_yen.csv\") #You need to change #directory accordingly\n",
    "df.head()"
   ]
  },
  {
   "cell_type": "code",
   "execution_count": 2,
   "id": "4fc511a4",
   "metadata": {},
   "outputs": [],
   "source": [
    "X = df.iloc[:,:19].values\n",
    "y = df.iloc[:,19:].values"
   ]
  },
  {
   "cell_type": "code",
   "execution_count": 3,
   "id": "4ee9d464",
   "metadata": {},
   "outputs": [
    {
     "data": {
      "text/plain": [
       "(200000, 19)"
      ]
     },
     "execution_count": 3,
     "metadata": {},
     "output_type": "execute_result"
    }
   ],
   "source": [
    "X.shape"
   ]
  },
  {
   "cell_type": "code",
   "execution_count": 4,
   "id": "a810522a",
   "metadata": {},
   "outputs": [
    {
     "data": {
      "text/plain": [
       "(200000, 76)"
      ]
     },
     "execution_count": 4,
     "metadata": {},
     "output_type": "execute_result"
    }
   ],
   "source": [
    "y.shape"
   ]
  },
  {
   "cell_type": "code",
   "execution_count": 5,
   "id": "e0d7dfc9",
   "metadata": {},
   "outputs": [],
   "source": [
    "from sklearn.model_selection import train_test_split\n",
    "X1,X2,y_train,y_test = train_test_split(X,y,test_size = 0.1)"
   ]
  },
  {
   "cell_type": "code",
   "execution_count": 6,
   "id": "72c0fe51",
   "metadata": {},
   "outputs": [
    {
     "data": {
      "text/plain": [
       "array([70, 80, 10, 40, 60, 30, 70, 30, 70, 60, 90, 40, 80, 30, 10, 10, 50,\n",
       "       40, 20], dtype=int64)"
      ]
     },
     "execution_count": 6,
     "metadata": {},
     "output_type": "execute_result"
    }
   ],
   "source": [
    "X2[1]"
   ]
  },
  {
   "cell_type": "code",
   "execution_count": 7,
   "id": "75cf1df7",
   "metadata": {},
   "outputs": [
    {
     "data": {
      "text/plain": [
       "array([0, 0, 1, 0, 0, 0, 0, 0, 0, 0, 0, 0, 0, 0, 0, 0, 0, 1, 1, 0, 0, 1,\n",
       "       0, 0, 0, 0, 0, 0, 0, 0, 0, 0, 1, 1, 0, 0, 0, 1, 0, 0, 1, 0, 0, 0,\n",
       "       0, 0, 0, 0, 0, 0, 0, 0, 0, 1, 1, 1, 0, 0, 0, 1, 0, 0, 0, 0, 0, 0,\n",
       "       0, 0, 0, 0, 1, 1, 1, 1, 0, 0], dtype=int64)"
      ]
     },
     "execution_count": 7,
     "metadata": {},
     "output_type": "execute_result"
    }
   ],
   "source": [
    "y_test[1]"
   ]
  },
  {
   "cell_type": "code",
   "execution_count": 8,
   "id": "a6a95eb2",
   "metadata": {},
   "outputs": [],
   "source": [
    "from sklearn.preprocessing import StandardScaler\n",
    "sc = StandardScaler()\n",
    "X_train = sc.fit_transform(X1)\n",
    "X_test= sc.fit_transform(X2)"
   ]
  },
  {
   "cell_type": "code",
   "execution_count": 9,
   "id": "eae2b4c6",
   "metadata": {},
   "outputs": [
    {
     "data": {
      "text/plain": [
       "(180000, 4, 19)"
      ]
     },
     "execution_count": 9,
     "metadata": {},
     "output_type": "execute_result"
    }
   ],
   "source": [
    "X_train = np.repeat(X_train[:, np.newaxis, : ], 4, axis=1)\n",
    "X_train.shape"
   ]
  },
  {
   "cell_type": "code",
   "execution_count": 10,
   "id": "ff4381ab",
   "metadata": {},
   "outputs": [
    {
     "data": {
      "text/plain": [
       "(20000, 4, 19)"
      ]
     },
     "execution_count": 10,
     "metadata": {},
     "output_type": "execute_result"
    }
   ],
   "source": [
    "X_test = np.repeat(X_test[:, np.newaxis, : ], 4, axis=1)\n",
    "X_test.shape"
   ]
  },
  {
   "cell_type": "code",
   "execution_count": 11,
   "id": "7ea0aaf7",
   "metadata": {},
   "outputs": [
    {
     "data": {
      "text/plain": [
       "array([0, 1, 0, 0, 0, 0, 0, 0, 0, 0, 0, 1, 0, 0, 0, 0, 0, 1, 1, 0, 1, 0,\n",
       "       0, 0, 0, 0, 0, 0, 0, 1, 0, 0, 0, 1, 0, 0, 0, 1, 0, 0, 1, 0, 0, 0,\n",
       "       0, 0, 0, 0, 0, 0, 0, 0, 0, 0, 0, 1, 1, 0, 1, 0, 0, 0, 1, 1, 0, 0,\n",
       "       1, 0, 1, 0, 0, 0, 0, 0, 0, 0], dtype=int64)"
      ]
     },
     "execution_count": 11,
     "metadata": {},
     "output_type": "execute_result"
    }
   ],
   "source": [
    "y_train[0]"
   ]
  },
  {
   "cell_type": "code",
   "execution_count": 12,
   "id": "ab424219",
   "metadata": {},
   "outputs": [
    {
     "data": {
      "text/plain": [
       "(180000, 4, 19)"
      ]
     },
     "execution_count": 12,
     "metadata": {},
     "output_type": "execute_result"
    }
   ],
   "source": [
    "y_train_2 = np.reshape(y_train,(y_train.shape[0], 4, 19))\n",
    "y_train_2.shape"
   ]
  },
  {
   "cell_type": "code",
   "execution_count": 13,
   "id": "022dba58",
   "metadata": {},
   "outputs": [
    {
     "data": {
      "text/plain": [
       "array([[0, 1, 0, 0, 0, 0, 0, 0, 0, 0, 0, 1, 0, 0, 0, 0, 0, 1, 1],\n",
       "       [0, 1, 0, 0, 0, 0, 0, 0, 0, 0, 1, 0, 0, 0, 1, 0, 0, 0, 1],\n",
       "       [0, 0, 1, 0, 0, 0, 0, 0, 0, 0, 0, 0, 0, 0, 0, 0, 0, 1, 1],\n",
       "       [0, 1, 0, 0, 0, 1, 1, 0, 0, 1, 0, 1, 0, 0, 0, 0, 0, 0, 0]],\n",
       "      dtype=int64)"
      ]
     },
     "execution_count": 13,
     "metadata": {},
     "output_type": "execute_result"
    }
   ],
   "source": [
    "y_train_2[0]"
   ]
  },
  {
   "cell_type": "code",
   "execution_count": 14,
   "id": "b1c2ac26",
   "metadata": {},
   "outputs": [
    {
     "data": {
      "text/plain": [
       "(20000, 4, 19)"
      ]
     },
     "execution_count": 14,
     "metadata": {},
     "output_type": "execute_result"
    }
   ],
   "source": [
    "y_test_2 = np.reshape(y_test,(y_test.shape[0], 4, 19))\n",
    "y_test_2.shape"
   ]
  },
  {
   "cell_type": "code",
   "execution_count": 15,
   "id": "ce578d21",
   "metadata": {},
   "outputs": [
    {
     "data": {
      "text/plain": [
       "array([70, 80, 10, 40, 60, 30, 70, 30, 70, 60, 90, 40, 80, 30, 10, 10, 50,\n",
       "       40, 20], dtype=int64)"
      ]
     },
     "execution_count": 15,
     "metadata": {},
     "output_type": "execute_result"
    }
   ],
   "source": [
    "X2[1,:]"
   ]
  },
  {
   "cell_type": "code",
   "execution_count": 16,
   "id": "9481c5aa",
   "metadata": {},
   "outputs": [],
   "source": [
    "#Dependencies\n",
    "import keras\n",
    "from keras.models import Sequential\n",
    "from keras.layers import Dense,Dropout,SimpleRNN,TimeDistributed\n",
    "# Neural network\n",
    "model = Sequential()\n",
    "model.add(SimpleRNN(128, input_shape=(4, 19), \n",
    "                    return_sequences=True))\n",
    "model.add(SimpleRNN(128, return_sequences=True))\n",
    "model.add(SimpleRNN(128, return_sequences=True))\n",
    "model.add(SimpleRNN(128, return_sequences=True))\n",
    "model.add(TimeDistributed(Dense(128, activation='relu')))\n",
    "model.add(Dense(19, activation='sigmoid'))"
   ]
  },
  {
   "cell_type": "code",
   "execution_count": 17,
   "id": "52646bd6",
   "metadata": {},
   "outputs": [],
   "source": [
    "model.compile(loss='BinaryCrossentropy', optimizer='adam')"
   ]
  },
  {
   "cell_type": "code",
   "execution_count": 18,
   "id": "14f80e09",
   "metadata": {},
   "outputs": [
    {
     "name": "stdout",
     "output_type": "stream",
     "text": [
      "Epoch 1/100\n",
      "2813/2813 [==============================] - 22s 7ms/step - loss: 0.2830\n",
      "Epoch 2/100\n",
      "2813/2813 [==============================] - 20s 7ms/step - loss: 0.2336\n",
      "Epoch 3/100\n",
      "2813/2813 [==============================] - 20s 7ms/step - loss: 0.2138\n",
      "Epoch 4/100\n",
      "2813/2813 [==============================] - 20s 7ms/step - loss: 0.2000\n",
      "Epoch 5/100\n",
      "2813/2813 [==============================] - 20s 7ms/step - loss: 0.1898\n",
      "Epoch 6/100\n",
      "2813/2813 [==============================] - 21s 8ms/step - loss: 0.1824\n",
      "Epoch 7/100\n",
      "2813/2813 [==============================] - 20s 7ms/step - loss: 0.1762\n",
      "Epoch 8/100\n",
      "2813/2813 [==============================] - 19s 7ms/step - loss: 0.1710\n",
      "Epoch 9/100\n",
      "2813/2813 [==============================] - 19s 7ms/step - loss: 0.1662\n",
      "Epoch 10/100\n",
      "2813/2813 [==============================] - 20s 7ms/step - loss: 0.1625\n",
      "Epoch 11/100\n",
      "2813/2813 [==============================] - 20s 7ms/step - loss: 0.1586\n",
      "Epoch 12/100\n",
      "2813/2813 [==============================] - 20s 7ms/step - loss: 0.1552\n",
      "Epoch 13/100\n",
      "2813/2813 [==============================] - 21s 8ms/step - loss: 0.1526\n",
      "Epoch 14/100\n",
      "2813/2813 [==============================] - 20s 7ms/step - loss: 0.1498\n",
      "Epoch 15/100\n",
      "2813/2813 [==============================] - 20s 7ms/step - loss: 0.1480\n",
      "Epoch 16/100\n",
      "2813/2813 [==============================] - 20s 7ms/step - loss: 0.1457\n",
      "Epoch 17/100\n",
      "2813/2813 [==============================] - 20s 7ms/step - loss: 0.1436\n",
      "Epoch 18/100\n",
      "2813/2813 [==============================] - 21s 7ms/step - loss: 0.1419\n",
      "Epoch 19/100\n",
      "2813/2813 [==============================] - 21s 8ms/step - loss: 0.1408\n",
      "Epoch 20/100\n",
      "2813/2813 [==============================] - 20s 7ms/step - loss: 0.1392\n",
      "Epoch 21/100\n",
      "2813/2813 [==============================] - 20s 7ms/step - loss: 0.1381\n",
      "Epoch 22/100\n",
      "2813/2813 [==============================] - 22s 8ms/step - loss: 0.1366\n",
      "Epoch 23/100\n",
      "2813/2813 [==============================] - 21s 8ms/step - loss: 0.1354\n",
      "Epoch 24/100\n",
      "2813/2813 [==============================] - 23s 8ms/step - loss: 0.1344\n",
      "Epoch 25/100\n",
      "2813/2813 [==============================] - 24s 8ms/step - loss: 0.1336\n",
      "Epoch 26/100\n",
      "2813/2813 [==============================] - 23s 8ms/step - loss: 0.1326\n",
      "Epoch 27/100\n",
      "2813/2813 [==============================] - 19s 7ms/step - loss: 0.1319\n",
      "Epoch 28/100\n",
      "2813/2813 [==============================] - 18s 7ms/step - loss: 0.1309\n",
      "Epoch 29/100\n",
      "2813/2813 [==============================] - 18s 6ms/step - loss: 0.1297\n",
      "Epoch 30/100\n",
      "2813/2813 [==============================] - 18s 6ms/step - loss: 0.1293\n",
      "Epoch 31/100\n",
      "2813/2813 [==============================] - 18s 6ms/step - loss: 0.1285\n",
      "Epoch 32/100\n",
      "2813/2813 [==============================] - 18s 6ms/step - loss: 0.1287\n",
      "Epoch 33/100\n",
      "2813/2813 [==============================] - 18s 6ms/step - loss: 0.1274\n",
      "Epoch 34/100\n",
      "2813/2813 [==============================] - 18s 6ms/step - loss: 0.1268\n",
      "Epoch 35/100\n",
      "2813/2813 [==============================] - 18s 6ms/step - loss: 0.1266\n",
      "Epoch 36/100\n",
      "2813/2813 [==============================] - 18s 6ms/step - loss: 0.1254\n",
      "Epoch 37/100\n",
      "2813/2813 [==============================] - 19s 7ms/step - loss: 0.1253\n",
      "Epoch 38/100\n",
      "2813/2813 [==============================] - 18s 6ms/step - loss: 0.1246\n",
      "Epoch 39/100\n",
      "2813/2813 [==============================] - 18s 6ms/step - loss: 0.1239\n",
      "Epoch 40/100\n",
      "2813/2813 [==============================] - 18s 6ms/step - loss: 0.1234\n",
      "Epoch 41/100\n",
      "2813/2813 [==============================] - 18s 6ms/step - loss: 0.1235\n",
      "Epoch 42/100\n",
      "2813/2813 [==============================] - 18s 6ms/step - loss: 0.1226\n",
      "Epoch 43/100\n",
      "2813/2813 [==============================] - 18s 6ms/step - loss: 0.1224\n",
      "Epoch 44/100\n",
      "2813/2813 [==============================] - 18s 6ms/step - loss: 0.1219\n",
      "Epoch 45/100\n",
      "2813/2813 [==============================] - 18s 6ms/step - loss: 0.1215\n",
      "Epoch 46/100\n",
      "2813/2813 [==============================] - 18s 6ms/step - loss: 0.1218\n",
      "Epoch 47/100\n",
      "2813/2813 [==============================] - 18s 6ms/step - loss: 0.1209\n",
      "Epoch 48/100\n",
      "2813/2813 [==============================] - 18s 6ms/step - loss: 0.1207\n",
      "Epoch 49/100\n",
      "2813/2813 [==============================] - 20s 7ms/step - loss: 0.1205\n",
      "Epoch 50/100\n",
      "2813/2813 [==============================] - 20s 7ms/step - loss: 0.1203\n",
      "Epoch 51/100\n",
      "2813/2813 [==============================] - 20s 7ms/step - loss: 0.1195\n",
      "Epoch 52/100\n",
      "2813/2813 [==============================] - 22s 8ms/step - loss: 0.1194\n",
      "Epoch 53/100\n",
      "2813/2813 [==============================] - 25s 9ms/step - loss: 0.1188\n",
      "Epoch 54/100\n",
      "2813/2813 [==============================] - 20s 7ms/step - loss: 0.1195\n",
      "Epoch 55/100\n",
      "2813/2813 [==============================] - 21s 7ms/step - loss: 0.1185\n",
      "Epoch 56/100\n",
      "2813/2813 [==============================] - 20s 7ms/step - loss: 0.1186\n",
      "Epoch 57/100\n",
      "2813/2813 [==============================] - 19s 7ms/step - loss: 0.1179\n",
      "Epoch 58/100\n",
      "2813/2813 [==============================] - 19s 7ms/step - loss: 0.1176\n",
      "Epoch 59/100\n",
      "2813/2813 [==============================] - 19s 7ms/step - loss: 0.1177\n",
      "Epoch 60/100\n",
      "2813/2813 [==============================] - 20s 7ms/step - loss: 0.1177\n",
      "Epoch 61/100\n",
      "2813/2813 [==============================] - 19s 7ms/step - loss: 0.1176\n",
      "Epoch 62/100\n",
      "2813/2813 [==============================] - 19s 7ms/step - loss: 0.1178\n",
      "Epoch 63/100\n",
      "2813/2813 [==============================] - 19s 7ms/step - loss: 0.1171\n",
      "Epoch 64/100\n",
      "2813/2813 [==============================] - 19s 7ms/step - loss: 0.1171\n",
      "Epoch 65/100\n",
      "2813/2813 [==============================] - 20s 7ms/step - loss: 0.1170\n",
      "Epoch 66/100\n",
      "2813/2813 [==============================] - 20s 7ms/step - loss: 0.1161\n",
      "Epoch 67/100\n",
      "2813/2813 [==============================] - 20s 7ms/step - loss: 0.1159\n",
      "Epoch 68/100\n",
      "2813/2813 [==============================] - 19s 7ms/step - loss: 0.1159\n",
      "Epoch 69/100\n",
      "2813/2813 [==============================] - 20s 7ms/step - loss: 0.1160\n",
      "Epoch 70/100\n",
      "2813/2813 [==============================] - 19s 7ms/step - loss: 0.1156\n",
      "Epoch 71/100\n",
      "2813/2813 [==============================] - 20s 7ms/step - loss: 0.1159\n",
      "Epoch 72/100\n",
      "2813/2813 [==============================] - 20s 7ms/step - loss: 0.1156\n",
      "Epoch 73/100\n",
      "2813/2813 [==============================] - 20s 7ms/step - loss: 0.1155\n",
      "Epoch 74/100\n",
      "2813/2813 [==============================] - 20s 7ms/step - loss: 0.1156\n",
      "Epoch 75/100\n",
      "2813/2813 [==============================] - 20s 7ms/step - loss: 0.1153\n",
      "Epoch 76/100\n",
      "2813/2813 [==============================] - 20s 7ms/step - loss: 0.1152\n",
      "Epoch 77/100\n",
      "2813/2813 [==============================] - 20s 7ms/step - loss: 0.1155\n",
      "Epoch 78/100\n",
      "2813/2813 [==============================] - 20s 7ms/step - loss: 0.1151\n",
      "Epoch 79/100\n",
      "2813/2813 [==============================] - 21s 7ms/step - loss: 0.1148\n",
      "Epoch 80/100\n",
      "2813/2813 [==============================] - 20s 7ms/step - loss: 0.1150\n",
      "Epoch 81/100\n",
      "2813/2813 [==============================] - 20s 7ms/step - loss: 0.1146\n",
      "Epoch 82/100\n",
      "2813/2813 [==============================] - 20s 7ms/step - loss: 0.1151\n",
      "Epoch 83/100\n",
      "2813/2813 [==============================] - 20s 7ms/step - loss: 0.1147\n",
      "Epoch 84/100\n",
      "2813/2813 [==============================] - 23s 8ms/step - loss: 0.1146\n",
      "Epoch 85/100\n",
      "2813/2813 [==============================] - 20s 7ms/step - loss: 0.1142\n",
      "Epoch 86/100\n",
      "2813/2813 [==============================] - 21s 7ms/step - loss: 0.1141\n",
      "Epoch 87/100\n",
      "2813/2813 [==============================] - 20s 7ms/step - loss: 0.1149\n",
      "Epoch 88/100\n",
      "2813/2813 [==============================] - 20s 7ms/step - loss: 0.1143\n",
      "Epoch 89/100\n",
      "2813/2813 [==============================] - 20s 7ms/step - loss: 0.1141\n",
      "Epoch 90/100\n",
      "2813/2813 [==============================] - 21s 8ms/step - loss: 0.1141\n",
      "Epoch 91/100\n",
      "2813/2813 [==============================] - 20s 7ms/step - loss: 0.1139\n",
      "Epoch 92/100\n",
      "2813/2813 [==============================] - 20s 7ms/step - loss: 0.1141\n",
      "Epoch 93/100\n",
      "2813/2813 [==============================] - 20s 7ms/step - loss: 0.1140\n",
      "Epoch 94/100\n",
      "2813/2813 [==============================] - 22s 8ms/step - loss: 0.1137\n",
      "Epoch 95/100\n",
      "2813/2813 [==============================] - 20s 7ms/step - loss: 0.1130\n",
      "Epoch 96/100\n"
     ]
    },
    {
     "name": "stdout",
     "output_type": "stream",
     "text": [
      "2813/2813 [==============================] - 20s 7ms/step - loss: 0.1142\n",
      "Epoch 97/100\n",
      "2813/2813 [==============================] - 20s 7ms/step - loss: 0.1137\n",
      "Epoch 98/100\n",
      "2813/2813 [==============================] - 20s 7ms/step - loss: 0.1137\n",
      "Epoch 99/100\n",
      "2813/2813 [==============================] - 20s 7ms/step - loss: 0.1136\n",
      "Epoch 100/100\n",
      "2813/2813 [==============================] - 20s 7ms/step - loss: 0.1133\n"
     ]
    },
    {
     "data": {
      "text/plain": [
       "<keras.callbacks.History at 0x208fb117970>"
      ]
     },
     "execution_count": 18,
     "metadata": {},
     "output_type": "execute_result"
    }
   ],
   "source": [
    "model.fit(X_train, y_train_2, epochs=100, batch_size=64)"
   ]
  },
  {
   "cell_type": "code",
   "execution_count": 19,
   "id": "31eb413d",
   "metadata": {},
   "outputs": [
    {
     "data": {
      "text/plain": [
       "6"
      ]
     },
     "execution_count": 19,
     "metadata": {},
     "output_type": "execute_result"
    }
   ],
   "source": [
    "len(model.layers)"
   ]
  },
  {
   "cell_type": "code",
   "execution_count": 20,
   "id": "2e5a66d7",
   "metadata": {},
   "outputs": [
    {
     "name": "stdout",
     "output_type": "stream",
     "text": [
      "5625/5625 [==============================] - 13s 2ms/step\n"
     ]
    }
   ],
   "source": [
    "pred=model.predict(X_train)"
   ]
  },
  {
   "cell_type": "code",
   "execution_count": 21,
   "id": "5a0fafbc",
   "metadata": {},
   "outputs": [
    {
     "data": {
      "text/plain": [
       "(180000, 4, 19)"
      ]
     },
     "execution_count": 21,
     "metadata": {},
     "output_type": "execute_result"
    }
   ],
   "source": [
    "pred.shape"
   ]
  },
  {
   "cell_type": "code",
   "execution_count": 22,
   "id": "6d1b1859",
   "metadata": {},
   "outputs": [
    {
     "data": {
      "text/plain": [
       "array([[5.5958481e-06, 9.9990660e-01, 4.7544298e-05, 1.3357044e-06,\n",
       "        1.2887036e-06, 3.4789216e-06, 5.5792648e-06, 1.4110283e-06,\n",
       "        1.9613432e-05, 5.1316779e-06, 3.6437114e-04, 9.9978328e-01,\n",
       "        6.1008100e-06, 8.1010265e-05, 2.1543815e-04, 6.9390298e-06,\n",
       "        6.6444454e-07, 9.9979872e-01, 9.9998623e-01],\n",
       "       [3.4444402e-05, 9.9973273e-01, 9.4547519e-05, 1.6753840e-05,\n",
       "        2.9001626e-06, 2.6980231e-06, 1.0374409e-05, 1.0687628e-05,\n",
       "        4.9137661e-06, 4.1573926e-06, 9.9906170e-01, 9.2079432e-04,\n",
       "        1.7177027e-04, 9.8750925e-06, 9.9873555e-01, 2.6300101e-04,\n",
       "        8.8342422e-05, 9.8016148e-04, 9.9983126e-01],\n",
       "       [8.5917237e-04, 6.8147634e-03, 9.9136126e-01, 1.8508814e-03,\n",
       "        2.1921140e-04, 1.5846170e-02, 1.7170247e-02, 3.4858105e-03,\n",
       "        1.0020202e-03, 7.7726478e-03, 6.2460611e-03, 9.1869291e-03,\n",
       "        3.3574313e-04, 4.2451755e-03, 7.2921868e-03, 6.7478773e-04,\n",
       "        2.4933473e-04, 9.8228365e-01, 9.9398524e-01],\n",
       "       [9.7394641e-04, 8.5101318e-01, 1.2353399e-01, 1.3253619e-03,\n",
       "        5.5072422e-04, 9.8641580e-01, 9.8446536e-01, 7.8585548e-03,\n",
       "        7.0488785e-04, 9.8725253e-01, 4.6891449e-03, 8.2238948e-01,\n",
       "        7.0804439e-04, 3.9802850e-03, 6.6449926e-03, 1.9121842e-04,\n",
       "        4.3706372e-04, 2.3908908e-02, 1.9608608e-02]], dtype=float32)"
      ]
     },
     "execution_count": 22,
     "metadata": {},
     "output_type": "execute_result"
    }
   ],
   "source": [
    "pred[0]"
   ]
  },
  {
   "cell_type": "code",
   "execution_count": 23,
   "id": "2834b5d4",
   "metadata": {},
   "outputs": [
    {
     "data": {
      "text/plain": [
       "array([[0, 1, 0, 0, 0, 0, 0, 0, 0, 0, 0, 1, 0, 0, 0, 0, 0, 1, 1],\n",
       "       [0, 1, 0, 0, 0, 0, 0, 0, 0, 0, 1, 0, 0, 0, 1, 0, 0, 0, 1],\n",
       "       [0, 0, 1, 0, 0, 0, 0, 0, 0, 0, 0, 0, 0, 0, 0, 0, 0, 1, 1],\n",
       "       [0, 1, 0, 0, 0, 1, 1, 0, 0, 1, 0, 1, 0, 0, 0, 0, 0, 0, 0]],\n",
       "      dtype=int64)"
      ]
     },
     "execution_count": 23,
     "metadata": {},
     "output_type": "execute_result"
    }
   ],
   "source": [
    "y_train_2[0]"
   ]
  },
  {
   "cell_type": "code",
   "execution_count": 24,
   "id": "d4b582aa",
   "metadata": {},
   "outputs": [],
   "source": [
    "edges = [[1, 2], [1, 5], [1, 8], [2, 3], [2, 8], [3, 4], [3, 8], [3, 9], [4, 9], [4, 10], [5, 6], [5, 8], [6, 7], [6, 8], [6, 9], [7, 9], [7, 10], [8, 9],[9, 10]]"
   ]
  },
  {
   "cell_type": "code",
   "execution_count": 25,
   "id": "95838411",
   "metadata": {},
   "outputs": [],
   "source": [
    "import copy\n",
    "def cost_path(x,y):\n",
    "    cost = 0\n",
    "    path = []\n",
    "    for i in range(19):\n",
    "        if y[i]==1:\n",
    "            path.append(edges[i])\n",
    "            cost+= x[i]\n",
    "    if(len(path)!=0):\n",
    "        path_2 = copy.deepcopy(path)\n",
    "        path_nodes = [1]\n",
    "        if(path[0][0]!=1):\n",
    "            cost = 0\n",
    "        else:\n",
    "            path_nodes.append(path[0][1])\n",
    "            del path_2[0]\n",
    "            condition = True\n",
    "            while(len(path_2)!=0 and condition):\n",
    "                condition = False\n",
    "                for i in range(len(path_2)):\n",
    "                    if(path_nodes[-1] in path_2[i]):\n",
    "                        path_2[i].remove(path_nodes[-1])\n",
    "                        path_nodes.append(path_2[i][0])\n",
    "                        path_2.pop(i)\n",
    "                        condition = True\n",
    "                        break\n",
    "        if(path_nodes[-1]!=10 or len(path_2)!=0):\n",
    "            cost = 0\n",
    "    else:\n",
    "        cost = 0\n",
    "    return cost"
   ]
  },
  {
   "cell_type": "code",
   "execution_count": 26,
   "id": "b0fbc804",
   "metadata": {},
   "outputs": [
    {
     "data": {
      "text/plain": [
       "80"
      ]
     },
     "execution_count": 26,
     "metadata": {},
     "output_type": "execute_result"
    }
   ],
   "source": [
    "cost_path(X1[1],y_train[1])"
   ]
  },
  {
   "cell_type": "code",
   "execution_count": 38,
   "id": "b6e0b965",
   "metadata": {},
   "outputs": [
    {
     "name": "stdout",
     "output_type": "stream",
     "text": [
      "[0. 0. 1. 0. 0. 0. 0. 0. 0. 0. 0. 0. 0. 0. 0. 0. 0. 1. 1.] 180\n",
      "[1. 0. 0. 1. 0. 1. 0. 0. 0. 1. 0. 0. 0. 0. 0. 0. 0. 0. 0.] 150\n",
      "[0. 1. 0. 0. 0. 0. 0. 0. 0. 0. 0. 1. 0. 0. 0. 0. 1. 1. 0.] 0\n",
      "[1. 0. 0. 1. 0. 0. 0. 1. 0. 0. 0. 0. 0. 0. 0. 0. 0. 0. 1.] 120\n",
      "[0. 1. 0. 0. 0. 0. 0. 0. 0. 0. 0. 1. 0. 0. 0. 0. 0. 1. 1.] 140\n",
      "[0. 0. 1. 0. 0. 0. 0. 0. 0. 0. 0. 0. 0. 1. 1. 0. 0. 0. 1.] 110\n",
      "[0. 0. 1. 0. 0. 0. 0. 0. 0. 0. 0. 0. 0. 1. 1. 0. 0. 0. 1.] 160\n",
      "[0. 0. 1. 0. 0. 0. 0. 0. 0. 0. 0. 0. 0. 0. 0. 1. 1. 1. 0.] 170\n",
      "[0. 0. 1. 0. 0. 1. 1. 0. 0. 1. 0. 0. 0. 0. 0. 0. 0. 0. 0.] 140\n",
      "[0. 1. 0. 0. 0. 0. 0. 0. 0. 0. 1. 0. 0. 0. 0. 0. 0. 0. 1.] 0\n",
      "[1. 0. 0. 0. 1. 0. 0. 0. 1. 1. 0. 0. 0. 0. 0. 0. 0. 1. 0.] 140\n",
      "[0. 1. 0. 0. 0. 0. 0. 0. 0. 0. 1. 0. 0. 0. 1. 0. 0. 0. 1.] 130\n",
      "[0. 1. 0. 0. 0. 0. 0. 0. 0. 0. 0. 1. 0. 0. 0. 0. 0. 1. 1.] 130\n",
      "[1. 0. 0. 0. 1. 0. 0. 0. 0. 0. 0. 0. 0. 0. 0. 0. 0. 1. 1.] 150\n",
      "[0. 0. 1. 0. 0. 0. 0. 0. 0. 0. 1. 1. 1. 0. 0. 0. 1. 0. 0.] 150\n",
      "[1. 0. 0. 1. 0. 1. 0. 0. 0. 0. 0. 0. 0. 0. 0. 0. 0. 0. 1.] 0\n",
      "[0. 1. 0. 0. 0. 0. 0. 0. 0. 0. 1. 0. 0. 0. 0. 0. 1. 0. 0.] 0\n",
      "[0. 1. 0. 0. 0. 0. 0. 0. 1. 1. 0. 1. 0. 0. 0. 0. 0. 1. 0.] 150\n"
     ]
    },
    {
     "data": {
      "text/plain": [
       "78.6288888888889"
      ]
     },
     "execution_count": 38,
     "metadata": {},
     "output_type": "execute_result"
    }
   ],
   "source": [
    "accuracy = 0\n",
    "for i in range(pred.shape[0]):\n",
    "    output = copy.deepcopy(pred[i][2])\n",
    "    condition = True\n",
    "    for j in range(len(output)):\n",
    "        output[j] = round(output[j])\n",
    "    if(i%10000 == 0):\n",
    "        print(output, cost_path(X1[i],output))\n",
    "    if(cost_path(X1[i],output) != cost_path(X1[i],y_train_2[i][2])):\n",
    "        condition = False\n",
    "    if condition:\n",
    "        accuracy += 1\n",
    "accuracy / pred.shape[0] * 100"
   ]
  },
  {
   "cell_type": "code",
   "execution_count": 39,
   "id": "3f7012a5",
   "metadata": {},
   "outputs": [
    {
     "name": "stdout",
     "output_type": "stream",
     "text": [
      "625/625 [==============================] - 2s 3ms/step\n"
     ]
    }
   ],
   "source": [
    "pred_test=model.predict(X_test)"
   ]
  },
  {
   "cell_type": "code",
   "execution_count": 40,
   "id": "a59247fc",
   "metadata": {},
   "outputs": [
    {
     "data": {
      "text/plain": [
       "75.19500000000001"
      ]
     },
     "execution_count": 40,
     "metadata": {},
     "output_type": "execute_result"
    }
   ],
   "source": [
    "accuracy_test = 0\n",
    "for i in range(pred_test.shape[0]):\n",
    "    output = copy.deepcopy(pred_test[i][2])\n",
    "    condition = True\n",
    "    for j in range(len(output)):\n",
    "        output[j] = round(output[j])\n",
    "    if(cost_path(X2[i],output)!=cost_path(X2[i],y_test_2[i][2])):\n",
    "        condition = False\n",
    "    if condition:\n",
    "        accuracy_test += 1\n",
    "accuracy_test / pred_test.shape[0] * 100"
   ]
  },
  {
   "cell_type": "code",
   "execution_count": 41,
   "id": "78cac25e",
   "metadata": {},
   "outputs": [
    {
     "name": "stdout",
     "output_type": "stream",
     "text": [
      "Model: \"sequential\"\n",
      "_________________________________________________________________\n",
      " Layer (type)                Output Shape              Param #   \n",
      "=================================================================\n",
      " simple_rnn (SimpleRNN)      (None, 4, 128)            18944     \n",
      "                                                                 \n",
      " simple_rnn_1 (SimpleRNN)    (None, 4, 128)            32896     \n",
      "                                                                 \n",
      " simple_rnn_2 (SimpleRNN)    (None, 4, 128)            32896     \n",
      "                                                                 \n",
      " simple_rnn_3 (SimpleRNN)    (None, 4, 128)            32896     \n",
      "                                                                 \n",
      " time_distributed (TimeDistr  (None, 4, 128)           16512     \n",
      " ibuted)                                                         \n",
      "                                                                 \n",
      " dense_1 (Dense)             (None, 4, 19)             2451      \n",
      "                                                                 \n",
      "=================================================================\n",
      "Total params: 136,595\n",
      "Trainable params: 136,595\n",
      "Non-trainable params: 0\n",
      "_________________________________________________________________\n"
     ]
    }
   ],
   "source": [
    "model.summary()"
   ]
  },
  {
   "cell_type": "code",
   "execution_count": null,
   "id": "a8a4ab37",
   "metadata": {},
   "outputs": [],
   "source": []
  }
 ],
 "metadata": {
  "kernelspec": {
   "display_name": "Python 3 (ipykernel)",
   "language": "python",
   "name": "python3"
  },
  "language_info": {
   "codemirror_mode": {
    "name": "ipython",
    "version": 3
   },
   "file_extension": ".py",
   "mimetype": "text/x-python",
   "name": "python",
   "nbconvert_exporter": "python",
   "pygments_lexer": "ipython3",
   "version": "3.8.10"
  }
 },
 "nbformat": 4,
 "nbformat_minor": 5
}
