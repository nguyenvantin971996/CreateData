{
 "cells": [
  {
   "cell_type": "code",
   "execution_count": null,
   "id": "6e0b208e",
   "metadata": {},
   "outputs": [],
   "source": [
    "import numpy as np\n",
    "import pandas as pd\n",
    "#dataset import\n",
    "df = pd.read_csv(\"../Data/data_8_nodes_yen.csv\") #You need to change #directory accordingly\n",
    "df.head()"
   ]
  },
  {
   "cell_type": "code",
   "execution_count": 2,
   "id": "d4b582aa",
   "metadata": {},
   "outputs": [],
   "source": [
    "edges = [[1, 2], [1, 3], [2, 4], [2, 5], [3, 4], [3, 7], [4, 6], [5, 6], [5, 8], [6, 7], [7, 8]]"
   ]
  },
  {
   "cell_type": "code",
   "execution_count": 3,
   "id": "91a6fe1f",
   "metadata": {},
   "outputs": [],
   "source": [
    "number_edges = 11\n",
    "number_steps = 4\n",
    "start_node = 1\n",
    "end_node = 8"
   ]
  },
  {
   "cell_type": "code",
   "execution_count": 4,
   "id": "4fc511a4",
   "metadata": {},
   "outputs": [],
   "source": [
    "X = df.iloc[:,:number_edges].values\n",
    "y = df.iloc[:,number_edges:].values"
   ]
  },
  {
   "cell_type": "code",
   "execution_count": 5,
   "id": "4ee9d464",
   "metadata": {},
   "outputs": [
    {
     "data": {
      "text/plain": [
       "(100000, 11)"
      ]
     },
     "execution_count": 5,
     "metadata": {},
     "output_type": "execute_result"
    }
   ],
   "source": [
    "X.shape"
   ]
  },
  {
   "cell_type": "code",
   "execution_count": 6,
   "id": "a810522a",
   "metadata": {},
   "outputs": [
    {
     "data": {
      "text/plain": [
       "(100000, 44)"
      ]
     },
     "execution_count": 6,
     "metadata": {},
     "output_type": "execute_result"
    }
   ],
   "source": [
    "y.shape"
   ]
  },
  {
   "cell_type": "code",
   "execution_count": 7,
   "id": "e0d7dfc9",
   "metadata": {},
   "outputs": [],
   "source": [
    "from sklearn.model_selection import train_test_split\n",
    "X1,X2,y_train,y_test = train_test_split(X,y,test_size = 0.1)"
   ]
  },
  {
   "cell_type": "code",
   "execution_count": 8,
   "id": "72c0fe51",
   "metadata": {},
   "outputs": [
    {
     "data": {
      "text/plain": [
       "array([40, 10, 50, 80, 90, 20, 60, 80, 20, 70, 70], dtype=int64)"
      ]
     },
     "execution_count": 8,
     "metadata": {},
     "output_type": "execute_result"
    }
   ],
   "source": [
    "X2[1]"
   ]
  },
  {
   "cell_type": "code",
   "execution_count": 9,
   "id": "75cf1df7",
   "metadata": {},
   "outputs": [
    {
     "data": {
      "text/plain": [
       "array([0, 1, 0, 0, 0, 1, 0, 0, 0, 0, 1, 1, 0, 0, 1, 0, 0, 0, 0, 1, 0, 0,\n",
       "       0, 1, 0, 0, 0, 1, 0, 1, 1, 1, 0, 0, 1, 1, 1, 1, 0, 0, 0, 1, 0, 0],\n",
       "      dtype=int64)"
      ]
     },
     "execution_count": 9,
     "metadata": {},
     "output_type": "execute_result"
    }
   ],
   "source": [
    "y_test[1]"
   ]
  },
  {
   "cell_type": "code",
   "execution_count": 10,
   "id": "a6a95eb2",
   "metadata": {},
   "outputs": [],
   "source": [
    "from sklearn.preprocessing import StandardScaler\n",
    "sc = StandardScaler()\n",
    "X_train = sc.fit_transform(X1)\n",
    "X_test= sc.fit_transform(X2)"
   ]
  },
  {
   "cell_type": "code",
   "execution_count": 11,
   "id": "eae2b4c6",
   "metadata": {},
   "outputs": [
    {
     "data": {
      "text/plain": [
       "(90000, 4, 11)"
      ]
     },
     "execution_count": 11,
     "metadata": {},
     "output_type": "execute_result"
    }
   ],
   "source": [
    "X_train = np.repeat(X_train[:, np.newaxis, : ], number_steps, axis=1)\n",
    "X_train.shape"
   ]
  },
  {
   "cell_type": "code",
   "execution_count": 12,
   "id": "ff4381ab",
   "metadata": {},
   "outputs": [
    {
     "data": {
      "text/plain": [
       "(10000, 4, 11)"
      ]
     },
     "execution_count": 12,
     "metadata": {},
     "output_type": "execute_result"
    }
   ],
   "source": [
    "X_test = np.repeat(X_test[:, np.newaxis, : ], number_steps, axis=1)\n",
    "X_test.shape"
   ]
  },
  {
   "cell_type": "code",
   "execution_count": 13,
   "id": "7ea0aaf7",
   "metadata": {},
   "outputs": [
    {
     "data": {
      "text/plain": [
       "array([0, 1, 0, 0, 0, 1, 0, 0, 0, 0, 1, 1, 0, 0, 1, 0, 0, 0, 0, 1, 0, 0,\n",
       "       0, 1, 0, 0, 1, 0, 1, 1, 1, 0, 0, 1, 0, 1, 0, 1, 1, 0, 0, 0, 0, 1],\n",
       "      dtype=int64)"
      ]
     },
     "execution_count": 13,
     "metadata": {},
     "output_type": "execute_result"
    }
   ],
   "source": [
    "y_train[0]"
   ]
  },
  {
   "cell_type": "code",
   "execution_count": 14,
   "id": "ab424219",
   "metadata": {},
   "outputs": [
    {
     "data": {
      "text/plain": [
       "(90000, 4, 11)"
      ]
     },
     "execution_count": 14,
     "metadata": {},
     "output_type": "execute_result"
    }
   ],
   "source": [
    "y_train_2 = np.reshape(y_train,(y_train.shape[0], number_steps, number_edges))\n",
    "y_train_2.shape"
   ]
  },
  {
   "cell_type": "code",
   "execution_count": 15,
   "id": "022dba58",
   "metadata": {},
   "outputs": [
    {
     "data": {
      "text/plain": [
       "array([[0, 1, 0, 0, 0, 1, 0, 0, 0, 0, 1],\n",
       "       [1, 0, 0, 1, 0, 0, 0, 0, 1, 0, 0],\n",
       "       [0, 1, 0, 0, 1, 0, 1, 1, 1, 0, 0],\n",
       "       [1, 0, 1, 0, 1, 1, 0, 0, 0, 0, 1]], dtype=int64)"
      ]
     },
     "execution_count": 15,
     "metadata": {},
     "output_type": "execute_result"
    }
   ],
   "source": [
    "y_train_2[0]"
   ]
  },
  {
   "cell_type": "code",
   "execution_count": 16,
   "id": "b1c2ac26",
   "metadata": {},
   "outputs": [
    {
     "data": {
      "text/plain": [
       "(10000, 4, 11)"
      ]
     },
     "execution_count": 16,
     "metadata": {},
     "output_type": "execute_result"
    }
   ],
   "source": [
    "y_test_2 = np.reshape(y_test,(y_test.shape[0], number_steps, number_edges))\n",
    "y_test_2.shape"
   ]
  },
  {
   "cell_type": "code",
   "execution_count": 17,
   "id": "ce578d21",
   "metadata": {},
   "outputs": [
    {
     "data": {
      "text/plain": [
       "array([40, 10, 50, 80, 90, 20, 60, 80, 20, 70, 70], dtype=int64)"
      ]
     },
     "execution_count": 17,
     "metadata": {},
     "output_type": "execute_result"
    }
   ],
   "source": [
    "X2[1,:]"
   ]
  },
  {
   "cell_type": "code",
   "execution_count": 44,
   "id": "9481c5aa",
   "metadata": {},
   "outputs": [],
   "source": [
    "#Dependencies\n",
    "import keras\n",
    "from keras.models import Sequential\n",
    "from keras.layers import Dense,Dropout,TimeDistributed,LSTM\n",
    "# Neural network\n",
    "model = Sequential()\n",
    "model.add(LSTM(64, input_shape=(number_steps, number_edges), \n",
    "                    return_sequences=True))\n",
    "model.add(TimeDistributed(Dense(number_edges, activation='sigmoid')))"
   ]
  },
  {
   "cell_type": "code",
   "execution_count": 45,
   "id": "78cac25e",
   "metadata": {},
   "outputs": [
    {
     "name": "stdout",
     "output_type": "stream",
     "text": [
      "Model: \"sequential_4\"\n",
      "_________________________________________________________________\n",
      " Layer (type)                Output Shape              Param #   \n",
      "=================================================================\n",
      " lstm_7 (LSTM)               (None, 4, 16)             1792      \n",
      "                                                                 \n",
      " lstm_8 (LSTM)               (None, 4, 16)             2112      \n",
      "                                                                 \n",
      " time_distributed_4 (TimeDis  (None, 4, 11)            187       \n",
      " tributed)                                                       \n",
      "                                                                 \n",
      "=================================================================\n",
      "Total params: 4,091\n",
      "Trainable params: 4,091\n",
      "Non-trainable params: 0\n",
      "_________________________________________________________________\n"
     ]
    }
   ],
   "source": [
    "model.summary()"
   ]
  },
  {
   "cell_type": "code",
   "execution_count": 20,
   "id": "52646bd6",
   "metadata": {},
   "outputs": [],
   "source": [
    "model.compile(loss='BinaryCrossentropy', optimizer='adam')"
   ]
  },
  {
   "cell_type": "code",
   "execution_count": 21,
   "id": "14f80e09",
   "metadata": {},
   "outputs": [
    {
     "name": "stdout",
     "output_type": "stream",
     "text": [
      "Epoch 1/100\n",
      "1407/1407 [==============================] - 9s 5ms/step - loss: 0.3921\n",
      "Epoch 2/100\n",
      "1407/1407 [==============================] - 6s 5ms/step - loss: 0.2202\n",
      "Epoch 3/100\n",
      "1407/1407 [==============================] - 6s 5ms/step - loss: 0.1745\n",
      "Epoch 4/100\n",
      "1407/1407 [==============================] - 7s 5ms/step - loss: 0.1499\n",
      "Epoch 5/100\n",
      "1407/1407 [==============================] - 6s 5ms/step - loss: 0.1330\n",
      "Epoch 6/100\n",
      "1407/1407 [==============================] - 7s 5ms/step - loss: 0.1208\n",
      "Epoch 7/100\n",
      "1407/1407 [==============================] - 7s 5ms/step - loss: 0.1114\n",
      "Epoch 8/100\n",
      "1407/1407 [==============================] - 7s 5ms/step - loss: 0.1039\n",
      "Epoch 9/100\n",
      "1407/1407 [==============================] - 7s 5ms/step - loss: 0.0977\n",
      "Epoch 10/100\n",
      "1407/1407 [==============================] - 7s 5ms/step - loss: 0.0924\n",
      "Epoch 11/100\n",
      "1407/1407 [==============================] - 7s 5ms/step - loss: 0.0881\n",
      "Epoch 12/100\n",
      "1407/1407 [==============================] - 7s 5ms/step - loss: 0.0844\n",
      "Epoch 13/100\n",
      "1407/1407 [==============================] - 7s 5ms/step - loss: 0.0808\n",
      "Epoch 14/100\n",
      "1407/1407 [==============================] - 6s 5ms/step - loss: 0.0776\n",
      "Epoch 15/100\n",
      "1407/1407 [==============================] - 7s 5ms/step - loss: 0.0748\n",
      "Epoch 16/100\n",
      "1407/1407 [==============================] - 7s 5ms/step - loss: 0.0724\n",
      "Epoch 17/100\n",
      "1407/1407 [==============================] - 7s 5ms/step - loss: 0.0701\n",
      "Epoch 18/100\n",
      "1407/1407 [==============================] - 7s 5ms/step - loss: 0.0681\n",
      "Epoch 19/100\n",
      "1407/1407 [==============================] - 7s 5ms/step - loss: 0.0660\n",
      "Epoch 20/100\n",
      "1407/1407 [==============================] - 7s 5ms/step - loss: 0.0644\n",
      "Epoch 21/100\n",
      "1407/1407 [==============================] - 6s 5ms/step - loss: 0.0628\n",
      "Epoch 22/100\n",
      "1407/1407 [==============================] - 7s 5ms/step - loss: 0.0614\n",
      "Epoch 23/100\n",
      "1407/1407 [==============================] - 7s 5ms/step - loss: 0.0601\n",
      "Epoch 24/100\n",
      "1407/1407 [==============================] - 7s 5ms/step - loss: 0.0585\n",
      "Epoch 25/100\n",
      "1407/1407 [==============================] - 7s 5ms/step - loss: 0.0574\n",
      "Epoch 26/100\n",
      "1407/1407 [==============================] - 7s 5ms/step - loss: 0.0562\n",
      "Epoch 27/100\n",
      "1407/1407 [==============================] - 7s 5ms/step - loss: 0.0551\n",
      "Epoch 28/100\n",
      "1407/1407 [==============================] - 7s 5ms/step - loss: 0.0544\n",
      "Epoch 29/100\n",
      "1407/1407 [==============================] - 7s 5ms/step - loss: 0.0532\n",
      "Epoch 30/100\n",
      "1407/1407 [==============================] - 7s 5ms/step - loss: 0.0525\n",
      "Epoch 31/100\n",
      "1407/1407 [==============================] - 7s 5ms/step - loss: 0.0517\n",
      "Epoch 32/100\n",
      "1407/1407 [==============================] - 7s 5ms/step - loss: 0.0505\n",
      "Epoch 33/100\n",
      "1407/1407 [==============================] - 7s 5ms/step - loss: 0.0500\n",
      "Epoch 34/100\n",
      "1407/1407 [==============================] - 7s 5ms/step - loss: 0.0492\n",
      "Epoch 35/100\n",
      "1407/1407 [==============================] - 7s 5ms/step - loss: 0.0485\n",
      "Epoch 36/100\n",
      "1407/1407 [==============================] - 7s 5ms/step - loss: 0.0477\n",
      "Epoch 37/100\n",
      "1407/1407 [==============================] - 7s 5ms/step - loss: 0.0470\n",
      "Epoch 38/100\n",
      "1407/1407 [==============================] - 7s 5ms/step - loss: 0.0465\n",
      "Epoch 39/100\n",
      "1407/1407 [==============================] - 7s 5ms/step - loss: 0.0458\n",
      "Epoch 40/100\n",
      "1407/1407 [==============================] - 7s 5ms/step - loss: 0.0453\n",
      "Epoch 41/100\n",
      "1407/1407 [==============================] - 7s 5ms/step - loss: 0.0448\n",
      "Epoch 42/100\n",
      "1407/1407 [==============================] - 7s 5ms/step - loss: 0.0442\n",
      "Epoch 43/100\n",
      "1407/1407 [==============================] - 7s 5ms/step - loss: 0.0436\n",
      "Epoch 44/100\n",
      "1407/1407 [==============================] - 7s 5ms/step - loss: 0.0432\n",
      "Epoch 45/100\n",
      "1407/1407 [==============================] - 7s 5ms/step - loss: 0.0427\n",
      "Epoch 46/100\n",
      "1407/1407 [==============================] - 7s 5ms/step - loss: 0.0423\n",
      "Epoch 47/100\n",
      "1407/1407 [==============================] - 7s 5ms/step - loss: 0.0420\n",
      "Epoch 48/100\n",
      "1407/1407 [==============================] - 7s 5ms/step - loss: 0.0411\n",
      "Epoch 49/100\n",
      "1407/1407 [==============================] - 7s 5ms/step - loss: 0.0411\n",
      "Epoch 50/100\n",
      "1407/1407 [==============================] - 7s 5ms/step - loss: 0.0405\n",
      "Epoch 51/100\n",
      "1407/1407 [==============================] - 7s 5ms/step - loss: 0.0402\n",
      "Epoch 52/100\n",
      "1407/1407 [==============================] - 7s 5ms/step - loss: 0.0397\n",
      "Epoch 53/100\n",
      "1407/1407 [==============================] - 7s 5ms/step - loss: 0.0393\n",
      "Epoch 54/100\n",
      "1407/1407 [==============================] - 7s 5ms/step - loss: 0.0391\n",
      "Epoch 55/100\n",
      "1407/1407 [==============================] - 7s 5ms/step - loss: 0.0386\n",
      "Epoch 56/100\n",
      "1407/1407 [==============================] - 7s 5ms/step - loss: 0.0384\n",
      "Epoch 57/100\n",
      "1407/1407 [==============================] - 7s 5ms/step - loss: 0.0379\n",
      "Epoch 58/100\n",
      "1407/1407 [==============================] - 7s 5ms/step - loss: 0.0376\n",
      "Epoch 59/100\n",
      "1407/1407 [==============================] - 7s 5ms/step - loss: 0.0372\n",
      "Epoch 60/100\n",
      "1407/1407 [==============================] - 7s 5ms/step - loss: 0.0370\n",
      "Epoch 61/100\n",
      "1407/1407 [==============================] - 7s 5ms/step - loss: 0.0367\n",
      "Epoch 62/100\n",
      "1407/1407 [==============================] - 7s 5ms/step - loss: 0.0364\n",
      "Epoch 63/100\n",
      "1407/1407 [==============================] - 7s 5ms/step - loss: 0.0363\n",
      "Epoch 64/100\n",
      "1407/1407 [==============================] - 7s 5ms/step - loss: 0.0358\n",
      "Epoch 65/100\n",
      "1407/1407 [==============================] - 7s 5ms/step - loss: 0.0357\n",
      "Epoch 66/100\n",
      "1407/1407 [==============================] - 7s 5ms/step - loss: 0.0351\n",
      "Epoch 67/100\n",
      "1407/1407 [==============================] - 7s 5ms/step - loss: 0.0348\n",
      "Epoch 68/100\n",
      "1407/1407 [==============================] - 7s 5ms/step - loss: 0.0347\n",
      "Epoch 69/100\n",
      "1407/1407 [==============================] - 7s 5ms/step - loss: 0.0345\n",
      "Epoch 70/100\n",
      "1407/1407 [==============================] - 6s 5ms/step - loss: 0.0337\n",
      "Epoch 71/100\n",
      "1407/1407 [==============================] - 7s 5ms/step - loss: 0.0336\n",
      "Epoch 72/100\n",
      "1407/1407 [==============================] - 7s 5ms/step - loss: 0.0337\n",
      "Epoch 73/100\n",
      "1407/1407 [==============================] - 7s 5ms/step - loss: 0.0331\n",
      "Epoch 74/100\n",
      "1407/1407 [==============================] - 7s 5ms/step - loss: 0.0331\n",
      "Epoch 75/100\n",
      "1407/1407 [==============================] - 7s 5ms/step - loss: 0.0324\n",
      "Epoch 76/100\n",
      "1407/1407 [==============================] - 7s 5ms/step - loss: 0.0327\n",
      "Epoch 77/100\n",
      "1407/1407 [==============================] - 7s 5ms/step - loss: 0.0321\n",
      "Epoch 78/100\n",
      "1407/1407 [==============================] - 7s 5ms/step - loss: 0.0318\n",
      "Epoch 79/100\n",
      "1407/1407 [==============================] - 7s 5ms/step - loss: 0.0320\n",
      "Epoch 80/100\n",
      "1407/1407 [==============================] - 7s 5ms/step - loss: 0.0315\n",
      "Epoch 81/100\n",
      "1407/1407 [==============================] - 7s 5ms/step - loss: 0.0312\n",
      "Epoch 82/100\n",
      "1407/1407 [==============================] - 7s 5ms/step - loss: 0.0313\n",
      "Epoch 83/100\n",
      "1407/1407 [==============================] - 7s 5ms/step - loss: 0.0309\n",
      "Epoch 84/100\n",
      "1407/1407 [==============================] - 7s 5ms/step - loss: 0.0306\n",
      "Epoch 85/100\n",
      "1407/1407 [==============================] - 7s 5ms/step - loss: 0.0303\n",
      "Epoch 86/100\n",
      "1407/1407 [==============================] - 7s 5ms/step - loss: 0.0303\n",
      "Epoch 87/100\n",
      "1407/1407 [==============================] - 7s 5ms/step - loss: 0.0300\n",
      "Epoch 88/100\n",
      "1407/1407 [==============================] - 7s 5ms/step - loss: 0.0300\n",
      "Epoch 89/100\n",
      "1407/1407 [==============================] - 7s 5ms/step - loss: 0.0297\n",
      "Epoch 90/100\n",
      "1407/1407 [==============================] - 7s 5ms/step - loss: 0.0294\n",
      "Epoch 91/100\n",
      "1407/1407 [==============================] - 7s 5ms/step - loss: 0.0292\n",
      "Epoch 92/100\n",
      "1407/1407 [==============================] - 7s 5ms/step - loss: 0.0291\n",
      "Epoch 93/100\n",
      "1407/1407 [==============================] - 7s 5ms/step - loss: 0.0290\n",
      "Epoch 94/100\n",
      "1407/1407 [==============================] - 7s 5ms/step - loss: 0.0286\n",
      "Epoch 95/100\n",
      "1407/1407 [==============================] - 7s 5ms/step - loss: 0.0288\n",
      "Epoch 96/100\n",
      "1407/1407 [==============================] - 7s 5ms/step - loss: 0.0286\n",
      "Epoch 97/100\n",
      "1407/1407 [==============================] - 7s 5ms/step - loss: 0.0281\n",
      "Epoch 98/100\n",
      "1407/1407 [==============================] - 7s 5ms/step - loss: 0.0282\n",
      "Epoch 99/100\n",
      "1407/1407 [==============================] - 7s 5ms/step - loss: 0.0280\n",
      "Epoch 100/100\n",
      "1407/1407 [==============================] - 8s 5ms/step - loss: 0.0279\n"
     ]
    },
    {
     "data": {
      "text/plain": [
       "<keras.callbacks.History at 0x216defd4c10>"
      ]
     },
     "execution_count": 21,
     "metadata": {},
     "output_type": "execute_result"
    }
   ],
   "source": [
    "model.fit(X_train, y_train_2, epochs=100, batch_size=64)"
   ]
  },
  {
   "cell_type": "code",
   "execution_count": 22,
   "id": "31eb413d",
   "metadata": {},
   "outputs": [
    {
     "data": {
      "text/plain": [
       "2"
      ]
     },
     "execution_count": 22,
     "metadata": {},
     "output_type": "execute_result"
    }
   ],
   "source": [
    "len(model.layers)"
   ]
  },
  {
   "cell_type": "code",
   "execution_count": 23,
   "id": "2e5a66d7",
   "metadata": {},
   "outputs": [
    {
     "name": "stdout",
     "output_type": "stream",
     "text": [
      "2813/2813 [==============================] - 7s 2ms/step\n"
     ]
    }
   ],
   "source": [
    "pred=model.predict(X_train)"
   ]
  },
  {
   "cell_type": "code",
   "execution_count": 24,
   "id": "5a0fafbc",
   "metadata": {},
   "outputs": [
    {
     "data": {
      "text/plain": [
       "(90000, 4, 11)"
      ]
     },
     "execution_count": 24,
     "metadata": {},
     "output_type": "execute_result"
    }
   ],
   "source": [
    "pred.shape"
   ]
  },
  {
   "cell_type": "code",
   "execution_count": 25,
   "id": "6d1b1859",
   "metadata": {},
   "outputs": [
    {
     "data": {
      "text/plain": [
       "array([[1.66848011e-08, 1.00000000e+00, 2.51634816e-07, 2.74103104e-06,\n",
       "        9.63925295e-09, 1.00000000e+00, 1.45449714e-08, 1.75827665e-07,\n",
       "        1.04180096e-07, 9.56406666e-07, 9.99999881e-01],\n",
       "       [1.00000000e+00, 2.42374121e-09, 4.00963188e-07, 1.00000000e+00,\n",
       "        5.70977505e-08, 1.75098251e-07, 1.05815445e-07, 6.92162866e-05,\n",
       "        1.00000000e+00, 5.26519102e-07, 4.57886742e-08],\n",
       "       [1.16222720e-04, 9.99884009e-01, 8.28899192e-06, 4.86805011e-03,\n",
       "        9.97083962e-01, 4.49986663e-03, 9.98889208e-01, 9.81513858e-01,\n",
       "        9.13979411e-01, 4.67248932e-02, 8.60761106e-02],\n",
       "       [9.99698639e-01, 3.01117165e-04, 9.94641304e-01, 2.01759644e-06,\n",
       "        1.00000000e+00, 9.94924128e-01, 6.38708333e-03, 1.17461877e-06,\n",
       "        3.65377559e-07, 9.72201233e-04, 9.99999642e-01]], dtype=float32)"
      ]
     },
     "execution_count": 25,
     "metadata": {},
     "output_type": "execute_result"
    }
   ],
   "source": [
    "pred[0]"
   ]
  },
  {
   "cell_type": "code",
   "execution_count": 26,
   "id": "2834b5d4",
   "metadata": {},
   "outputs": [
    {
     "data": {
      "text/plain": [
       "array([[0, 1, 0, 0, 0, 1, 0, 0, 0, 0, 1],\n",
       "       [1, 0, 0, 1, 0, 0, 0, 0, 1, 0, 0],\n",
       "       [0, 1, 0, 0, 1, 0, 1, 1, 1, 0, 0],\n",
       "       [1, 0, 1, 0, 1, 1, 0, 0, 0, 0, 1]], dtype=int64)"
      ]
     },
     "execution_count": 26,
     "metadata": {},
     "output_type": "execute_result"
    }
   ],
   "source": [
    "y_train_2[0]"
   ]
  },
  {
   "cell_type": "code",
   "execution_count": 27,
   "id": "95838411",
   "metadata": {},
   "outputs": [],
   "source": [
    "import copy\n",
    "def cost_path(x,y):\n",
    "    cost = 0\n",
    "    path = []\n",
    "    for i in range(number_edges):\n",
    "        if y[i]==1:\n",
    "            path.append(edges[i])\n",
    "            cost+= x[i]\n",
    "    if(len(path)!=0):\n",
    "        path_2 = copy.deepcopy(path)\n",
    "        path_nodes = [start_node]\n",
    "        if(path[0][0]!=start_node):\n",
    "            cost = 0\n",
    "        else:\n",
    "            path_nodes.append(path[0][1])\n",
    "            del path_2[0]\n",
    "            condition = True\n",
    "            while(len(path_2)!=0 and condition):\n",
    "                condition = False\n",
    "                for i in range(len(path_2)):\n",
    "                    if(path_nodes[-1] in path_2[i]):\n",
    "                        path_2[i].remove(path_nodes[-1])\n",
    "                        path_nodes.append(path_2[i][0])\n",
    "                        path_2.pop(i)\n",
    "                        condition = True\n",
    "                        break\n",
    "        if(path_nodes[-1]!=end_node or len(path_2)!=0):\n",
    "            cost = 0\n",
    "    else:\n",
    "        cost = 0\n",
    "    return cost"
   ]
  },
  {
   "cell_type": "code",
   "execution_count": 28,
   "id": "b0fbc804",
   "metadata": {},
   "outputs": [
    {
     "data": {
      "text/plain": [
       "90"
      ]
     },
     "execution_count": 28,
     "metadata": {},
     "output_type": "execute_result"
    }
   ],
   "source": [
    "cost_path(X1[1],y_train[1])"
   ]
  },
  {
   "cell_type": "code",
   "execution_count": 29,
   "id": "9703501f",
   "metadata": {},
   "outputs": [
    {
     "data": {
      "text/plain": [
       "array([95.39, 94.98, 96.18, 94.81, 86.05])"
      ]
     },
     "execution_count": 29,
     "metadata": {},
     "output_type": "execute_result"
    }
   ],
   "source": [
    "accuracy = np.zeros(number_steps+1)\n",
    "for i in range(pred.shape[0]):\n",
    "    condition_1 = True\n",
    "    for t in range(number_steps):\n",
    "        output = copy.deepcopy(pred[i][t])\n",
    "        condition_2 = True\n",
    "        for j in range(len(output)):\n",
    "            output[j] = round(output[j])\n",
    "        if(cost_path(X1[i],output) != cost_path(X1[i],y_train_2[i][t])):\n",
    "            condition_2 = False\n",
    "            condition_1 = False\n",
    "        if condition_2:\n",
    "            accuracy[t] += 1\n",
    "    if condition_1:\n",
    "        accuracy[number_steps] += 1\n",
    "accuracy = np.round(accuracy / pred.shape[0] * 100,2)\n",
    "accuracy"
   ]
  },
  {
   "cell_type": "code",
   "execution_count": 30,
   "id": "3f7012a5",
   "metadata": {},
   "outputs": [
    {
     "name": "stdout",
     "output_type": "stream",
     "text": [
      "313/313 [==============================] - 1s 2ms/step\n"
     ]
    }
   ],
   "source": [
    "pred_test=model.predict(X_test)"
   ]
  },
  {
   "cell_type": "code",
   "execution_count": 31,
   "id": "a59247fc",
   "metadata": {},
   "outputs": [
    {
     "data": {
      "text/plain": [
       "array([95.24, 94.3 , 94.86, 91.87, 83.11])"
      ]
     },
     "execution_count": 31,
     "metadata": {},
     "output_type": "execute_result"
    }
   ],
   "source": [
    "accuracy_test = np.zeros(number_steps+1)\n",
    "for i in range(pred_test.shape[0]):\n",
    "    condition_1 = True\n",
    "    for t in range(number_steps):\n",
    "        output = copy.deepcopy(pred_test[i][t])\n",
    "        condition_2 = True\n",
    "        for j in range(len(output)):\n",
    "            output[j] = round(output[j])\n",
    "        if(cost_path(X1[i],output) != cost_path(X1[i],y_test_2[i][t])):\n",
    "            condition_2 = False\n",
    "            condition_1 = False\n",
    "        if condition_2:\n",
    "            accuracy_test[t] += 1\n",
    "    if condition_1:\n",
    "        accuracy_test[number_steps] += 1\n",
    "accuracy_test = np.round(accuracy_test / pred_test.shape[0] * 100,2)\n",
    "accuracy_test"
   ]
  },
  {
   "cell_type": "code",
   "execution_count": 37,
   "id": "73c49a82",
   "metadata": {},
   "outputs": [
    {
     "name": "stdout",
     "output_type": "stream",
     "text": [
      "Model: \"sequential\"\n",
      "_________________________________________________________________\n",
      " Layer (type)                Output Shape              Param #   \n",
      "=================================================================\n",
      " lstm (LSTM)                 (None, 4, 64)             19456     \n",
      "                                                                 \n",
      " time_distributed (TimeDistr  (None, 4, 11)            715       \n",
      " ibuted)                                                         \n",
      "                                                                 \n",
      "=================================================================\n",
      "Total params: 20,171\n",
      "Trainable params: 20,171\n",
      "Non-trainable params: 0\n",
      "_________________________________________________________________\n",
      "[95.39 94.98 96.18 94.81 86.05]\n",
      "[95.24 94.3  94.86 91.87 83.11]\n"
     ]
    }
   ],
   "source": [
    "model.summary()\n",
    "print(accuracy)\n",
    "print(accuracy_test)"
   ]
  },
  {
   "cell_type": "code",
   "execution_count": null,
   "id": "f571bc21",
   "metadata": {},
   "outputs": [],
   "source": []
  }
 ],
 "metadata": {
  "kernelspec": {
   "display_name": "Python 3 (ipykernel)",
   "language": "python",
   "name": "python3"
  },
  "language_info": {
   "codemirror_mode": {
    "name": "ipython",
    "version": 3
   },
   "file_extension": ".py",
   "mimetype": "text/x-python",
   "name": "python",
   "nbconvert_exporter": "python",
   "pygments_lexer": "ipython3",
   "version": "3.8.10"
  }
 },
 "nbformat": 4,
 "nbformat_minor": 5
}
