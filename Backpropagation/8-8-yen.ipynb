{
 "cells": [
  {
   "cell_type": "code",
   "execution_count": 1,
   "id": "6e0b208e",
   "metadata": {},
   "outputs": [
    {
     "data": {
      "text/html": [
       "<div>\n",
       "<style scoped>\n",
       "    .dataframe tbody tr th:only-of-type {\n",
       "        vertical-align: middle;\n",
       "    }\n",
       "\n",
       "    .dataframe tbody tr th {\n",
       "        vertical-align: top;\n",
       "    }\n",
       "\n",
       "    .dataframe thead th {\n",
       "        text-align: right;\n",
       "    }\n",
       "</style>\n",
       "<table border=\"1\" class=\"dataframe\">\n",
       "  <thead>\n",
       "    <tr style=\"text-align: right;\">\n",
       "      <th></th>\n",
       "      <th>X(1, 2)</th>\n",
       "      <th>X(1, 3)</th>\n",
       "      <th>X(1, 4)</th>\n",
       "      <th>X(2, 4)</th>\n",
       "      <th>X(2, 5)</th>\n",
       "      <th>X(3, 4)</th>\n",
       "      <th>X(3, 5)</th>\n",
       "      <th>X(4, 5)</th>\n",
       "      <th>Y1(1, 2)</th>\n",
       "      <th>Y1(1, 3)</th>\n",
       "      <th>...</th>\n",
       "      <th>Y2(3, 5)</th>\n",
       "      <th>Y2(4, 5)</th>\n",
       "      <th>Y3(1, 2)</th>\n",
       "      <th>Y3(1, 3)</th>\n",
       "      <th>Y3(1, 4)</th>\n",
       "      <th>Y3(2, 4)</th>\n",
       "      <th>Y3(2, 5)</th>\n",
       "      <th>Y3(3, 4)</th>\n",
       "      <th>Y3(3, 5)</th>\n",
       "      <th>Y3(4, 5)</th>\n",
       "    </tr>\n",
       "  </thead>\n",
       "  <tbody>\n",
       "    <tr>\n",
       "      <th>0</th>\n",
       "      <td>10</td>\n",
       "      <td>50</td>\n",
       "      <td>10</td>\n",
       "      <td>30</td>\n",
       "      <td>10</td>\n",
       "      <td>80</td>\n",
       "      <td>10</td>\n",
       "      <td>30</td>\n",
       "      <td>1</td>\n",
       "      <td>0</td>\n",
       "      <td>...</td>\n",
       "      <td>0</td>\n",
       "      <td>1</td>\n",
       "      <td>0</td>\n",
       "      <td>1</td>\n",
       "      <td>0</td>\n",
       "      <td>0</td>\n",
       "      <td>0</td>\n",
       "      <td>0</td>\n",
       "      <td>1</td>\n",
       "      <td>0</td>\n",
       "    </tr>\n",
       "    <tr>\n",
       "      <th>1</th>\n",
       "      <td>90</td>\n",
       "      <td>50</td>\n",
       "      <td>20</td>\n",
       "      <td>80</td>\n",
       "      <td>80</td>\n",
       "      <td>50</td>\n",
       "      <td>80</td>\n",
       "      <td>60</td>\n",
       "      <td>0</td>\n",
       "      <td>0</td>\n",
       "      <td>...</td>\n",
       "      <td>1</td>\n",
       "      <td>0</td>\n",
       "      <td>1</td>\n",
       "      <td>0</td>\n",
       "      <td>0</td>\n",
       "      <td>0</td>\n",
       "      <td>1</td>\n",
       "      <td>0</td>\n",
       "      <td>0</td>\n",
       "      <td>0</td>\n",
       "    </tr>\n",
       "    <tr>\n",
       "      <th>2</th>\n",
       "      <td>70</td>\n",
       "      <td>90</td>\n",
       "      <td>40</td>\n",
       "      <td>40</td>\n",
       "      <td>30</td>\n",
       "      <td>90</td>\n",
       "      <td>50</td>\n",
       "      <td>70</td>\n",
       "      <td>1</td>\n",
       "      <td>0</td>\n",
       "      <td>...</td>\n",
       "      <td>0</td>\n",
       "      <td>1</td>\n",
       "      <td>0</td>\n",
       "      <td>1</td>\n",
       "      <td>0</td>\n",
       "      <td>0</td>\n",
       "      <td>0</td>\n",
       "      <td>0</td>\n",
       "      <td>1</td>\n",
       "      <td>0</td>\n",
       "    </tr>\n",
       "    <tr>\n",
       "      <th>3</th>\n",
       "      <td>60</td>\n",
       "      <td>20</td>\n",
       "      <td>80</td>\n",
       "      <td>40</td>\n",
       "      <td>10</td>\n",
       "      <td>30</td>\n",
       "      <td>40</td>\n",
       "      <td>30</td>\n",
       "      <td>0</td>\n",
       "      <td>1</td>\n",
       "      <td>...</td>\n",
       "      <td>0</td>\n",
       "      <td>0</td>\n",
       "      <td>0</td>\n",
       "      <td>0</td>\n",
       "      <td>1</td>\n",
       "      <td>0</td>\n",
       "      <td>0</td>\n",
       "      <td>0</td>\n",
       "      <td>0</td>\n",
       "      <td>1</td>\n",
       "    </tr>\n",
       "    <tr>\n",
       "      <th>4</th>\n",
       "      <td>20</td>\n",
       "      <td>20</td>\n",
       "      <td>40</td>\n",
       "      <td>50</td>\n",
       "      <td>50</td>\n",
       "      <td>60</td>\n",
       "      <td>50</td>\n",
       "      <td>40</td>\n",
       "      <td>1</td>\n",
       "      <td>0</td>\n",
       "      <td>...</td>\n",
       "      <td>1</td>\n",
       "      <td>0</td>\n",
       "      <td>0</td>\n",
       "      <td>0</td>\n",
       "      <td>1</td>\n",
       "      <td>0</td>\n",
       "      <td>0</td>\n",
       "      <td>0</td>\n",
       "      <td>0</td>\n",
       "      <td>1</td>\n",
       "    </tr>\n",
       "  </tbody>\n",
       "</table>\n",
       "<p>5 rows × 32 columns</p>\n",
       "</div>"
      ],
      "text/plain": [
       "   X(1, 2)  X(1, 3)  X(1, 4)  X(2, 4)  X(2, 5)  X(3, 4)  X(3, 5)  X(4, 5)  \\\n",
       "0       10       50       10       30       10       80       10       30   \n",
       "1       90       50       20       80       80       50       80       60   \n",
       "2       70       90       40       40       30       90       50       70   \n",
       "3       60       20       80       40       10       30       40       30   \n",
       "4       20       20       40       50       50       60       50       40   \n",
       "\n",
       "   Y1(1, 2)  Y1(1, 3)  ...  Y2(3, 5)  Y2(4, 5)  Y3(1, 2)  Y3(1, 3)  Y3(1, 4)  \\\n",
       "0         1         0  ...         0         1         0         1         0   \n",
       "1         0         0  ...         1         0         1         0         0   \n",
       "2         1         0  ...         0         1         0         1         0   \n",
       "3         0         1  ...         0         0         0         0         1   \n",
       "4         1         0  ...         1         0         0         0         1   \n",
       "\n",
       "   Y3(2, 4)  Y3(2, 5)  Y3(3, 4)  Y3(3, 5)  Y3(4, 5)  \n",
       "0         0         0         0         1         0  \n",
       "1         0         1         0         0         0  \n",
       "2         0         0         0         1         0  \n",
       "3         0         0         0         0         1  \n",
       "4         0         0         0         0         1  \n",
       "\n",
       "[5 rows x 32 columns]"
      ]
     },
     "execution_count": 1,
     "metadata": {},
     "output_type": "execute_result"
    }
   ],
   "source": [
    "import numpy as np\n",
    "import pandas as pd\n",
    "#dataset import\n",
    "dataset = pd.read_csv(\"../Data/data_8_8_yen.csv\") #You need to change #directory accordingly\n",
    "dataset.head()"
   ]
  },
  {
   "cell_type": "code",
   "execution_count": 2,
   "id": "4fc511a4",
   "metadata": {},
   "outputs": [],
   "source": [
    "X = dataset.iloc[:,:8].values\n",
    "y = dataset.iloc[:,8:32].values"
   ]
  },
  {
   "cell_type": "code",
   "execution_count": 3,
   "id": "9b16f10f",
   "metadata": {},
   "outputs": [
    {
     "data": {
      "text/plain": [
       "(10000, 8)"
      ]
     },
     "execution_count": 3,
     "metadata": {},
     "output_type": "execute_result"
    }
   ],
   "source": [
    "X.shape"
   ]
  },
  {
   "cell_type": "code",
   "execution_count": 4,
   "id": "b588da2e",
   "metadata": {},
   "outputs": [
    {
     "data": {
      "text/plain": [
       "(10000, 24)"
      ]
     },
     "execution_count": 4,
     "metadata": {},
     "output_type": "execute_result"
    }
   ],
   "source": [
    "y.shape"
   ]
  },
  {
   "cell_type": "code",
   "execution_count": 5,
   "id": "bbb4ea48",
   "metadata": {},
   "outputs": [
    {
     "data": {
      "text/plain": [
       "24"
      ]
     },
     "execution_count": 5,
     "metadata": {},
     "output_type": "execute_result"
    }
   ],
   "source": [
    "y[0].shape[0]"
   ]
  },
  {
   "cell_type": "code",
   "execution_count": 6,
   "id": "a6a95eb2",
   "metadata": {},
   "outputs": [],
   "source": [
    "from sklearn.preprocessing import StandardScaler\n",
    "sc = StandardScaler()\n",
    "X = sc.fit_transform(X)"
   ]
  },
  {
   "cell_type": "code",
   "execution_count": 7,
   "id": "a62cb901",
   "metadata": {},
   "outputs": [
    {
     "data": {
      "text/plain": [
       "array([ 1.55208494,  0.00845373, -1.12581085,  1.1564365 ,  1.15423307,\n",
       "        0.01570705,  1.16769522,  0.39676295])"
      ]
     },
     "execution_count": 7,
     "metadata": {},
     "output_type": "execute_result"
    }
   ],
   "source": [
    "X[1,:]"
   ]
  },
  {
   "cell_type": "code",
   "execution_count": 8,
   "id": "6617a6fb",
   "metadata": {},
   "outputs": [
    {
     "data": {
      "text/plain": [
       "array([0, 0, 1, 0, 0, 0, 0, 1, 0, 1, 0, 0, 0, 0, 1, 0, 1, 0, 0, 0, 1, 0,\n",
       "       0, 0], dtype=int64)"
      ]
     },
     "execution_count": 8,
     "metadata": {},
     "output_type": "execute_result"
    }
   ],
   "source": [
    "y[1,:]"
   ]
  },
  {
   "cell_type": "code",
   "execution_count": 9,
   "id": "e0d7dfc9",
   "metadata": {},
   "outputs": [],
   "source": [
    "from sklearn.model_selection import train_test_split\n",
    "X_train,X_test,y_train,y_test = train_test_split(X,y,test_size = 0.1)"
   ]
  },
  {
   "cell_type": "code",
   "execution_count": 10,
   "id": "72c0fe51",
   "metadata": {},
   "outputs": [
    {
     "data": {
      "text/plain": [
       "array([-0.77023667, -0.37933184, -0.74169305, -1.5647735 ,  0.38335678,\n",
       "        0.79136361,  0.78002707, -1.15188246])"
      ]
     },
     "execution_count": 10,
     "metadata": {},
     "output_type": "execute_result"
    }
   ],
   "source": [
    "X_test[1,:]"
   ]
  },
  {
   "cell_type": "code",
   "execution_count": 11,
   "id": "75cf1df7",
   "metadata": {},
   "outputs": [
    {
     "data": {
      "text/plain": [
       "array([0, 0, 1, 0, 0, 0, 0, 1, 1, 0, 0, 1, 0, 0, 0, 1, 0, 1, 0, 0, 0, 0,\n",
       "       1, 0], dtype=int64)"
      ]
     },
     "execution_count": 11,
     "metadata": {},
     "output_type": "execute_result"
    }
   ],
   "source": [
    "y_test[1,:]"
   ]
  },
  {
   "cell_type": "code",
   "execution_count": 12,
   "id": "9481c5aa",
   "metadata": {},
   "outputs": [],
   "source": [
    "#Dependencies\n",
    "import keras\n",
    "from keras.models import Sequential\n",
    "from keras.layers import Dense,Dropout\n",
    "# Neural network\n",
    "model = Sequential()\n",
    "model.add(Dense(8, input_dim=8, activation=\"relu\"))\n",
    "model.add(Dense(100, activation=\"relu\"))\n",
    "model.add(Dense(100, activation=\"relu\"))\n",
    "model.add(Dense(24, activation=\"sigmoid\"))"
   ]
  },
  {
   "cell_type": "code",
   "execution_count": 13,
   "id": "52646bd6",
   "metadata": {},
   "outputs": [],
   "source": [
    "model.compile(loss='binary_crossentropy', optimizer='adam', metrics=['accuracy'])"
   ]
  },
  {
   "cell_type": "code",
   "execution_count": 14,
   "id": "14f80e09",
   "metadata": {},
   "outputs": [
    {
     "name": "stdout",
     "output_type": "stream",
     "text": [
      "Epoch 1/200\n",
      "563/563 [==============================] - 1s 1ms/step - loss: 0.3714 - accuracy: 0.2524\n",
      "Epoch 2/200\n",
      "563/563 [==============================] - 1s 1ms/step - loss: 0.2446 - accuracy: 0.4404\n",
      "Epoch 3/200\n",
      "563/563 [==============================] - 1s 1ms/step - loss: 0.2193 - accuracy: 0.4569\n",
      "Epoch 4/200\n",
      "563/563 [==============================] - 1s 1ms/step - loss: 0.2048 - accuracy: 0.4363\n",
      "Epoch 5/200\n",
      "563/563 [==============================] - 1s 1ms/step - loss: 0.1926 - accuracy: 0.4074\n",
      "Epoch 6/200\n",
      "563/563 [==============================] - 1s 1ms/step - loss: 0.1803 - accuracy: 0.4102\n",
      "Epoch 7/200\n",
      "563/563 [==============================] - 1s 1ms/step - loss: 0.1703 - accuracy: 0.4061\n",
      "Epoch 8/200\n",
      "563/563 [==============================] - 1s 1ms/step - loss: 0.1600 - accuracy: 0.4202\n",
      "Epoch 9/200\n",
      "563/563 [==============================] - 1s 1ms/step - loss: 0.1499 - accuracy: 0.4052\n",
      "Epoch 10/200\n",
      "563/563 [==============================] - 1s 1ms/step - loss: 0.1401 - accuracy: 0.3922\n",
      "Epoch 11/200\n",
      "563/563 [==============================] - 1s 1ms/step - loss: 0.1315 - accuracy: 0.3987\n",
      "Epoch 12/200\n",
      "563/563 [==============================] - 1s 1ms/step - loss: 0.1242 - accuracy: 0.4134\n",
      "Epoch 13/200\n",
      "563/563 [==============================] - 1s 1ms/step - loss: 0.1165 - accuracy: 0.4222\n",
      "Epoch 14/200\n",
      "563/563 [==============================] - 1s 1ms/step - loss: 0.1095 - accuracy: 0.4366\n",
      "Epoch 15/200\n",
      "563/563 [==============================] - 1s 1ms/step - loss: 0.1045 - accuracy: 0.4460\n",
      "Epoch 16/200\n",
      "563/563 [==============================] - 1s 1ms/step - loss: 0.0992 - accuracy: 0.4528\n",
      "Epoch 17/200\n",
      "563/563 [==============================] - 1s 1ms/step - loss: 0.0953 - accuracy: 0.4551\n",
      "Epoch 18/200\n",
      "563/563 [==============================] - 1s 1ms/step - loss: 0.0912 - accuracy: 0.4589\n",
      "Epoch 19/200\n",
      "563/563 [==============================] - 1s 1ms/step - loss: 0.0870 - accuracy: 0.4601\n",
      "Epoch 20/200\n",
      "563/563 [==============================] - 1s 1ms/step - loss: 0.0832 - accuracy: 0.4720\n",
      "Epoch 21/200\n",
      "563/563 [==============================] - 1s 1ms/step - loss: 0.0809 - accuracy: 0.4773\n",
      "Epoch 22/200\n",
      "563/563 [==============================] - 1s 1ms/step - loss: 0.0769 - accuracy: 0.4699\n",
      "Epoch 23/200\n",
      "563/563 [==============================] - 1s 1ms/step - loss: 0.0746 - accuracy: 0.4768\n",
      "Epoch 24/200\n",
      "563/563 [==============================] - 1s 1ms/step - loss: 0.0727 - accuracy: 0.4776\n",
      "Epoch 25/200\n",
      "563/563 [==============================] - 1s 1ms/step - loss: 0.0690 - accuracy: 0.4802\n",
      "Epoch 26/200\n",
      "563/563 [==============================] - 1s 1ms/step - loss: 0.0681 - accuracy: 0.4801\n",
      "Epoch 27/200\n",
      "563/563 [==============================] - 1s 1ms/step - loss: 0.0657 - accuracy: 0.4766\n",
      "Epoch 28/200\n",
      "563/563 [==============================] - 1s 1ms/step - loss: 0.0625 - accuracy: 0.4841\n",
      "Epoch 29/200\n",
      "563/563 [==============================] - 1s 1ms/step - loss: 0.0615 - accuracy: 0.4829\n",
      "Epoch 30/200\n",
      "563/563 [==============================] - 1s 1ms/step - loss: 0.0594 - accuracy: 0.4768\n",
      "Epoch 31/200\n",
      "563/563 [==============================] - 1s 1ms/step - loss: 0.0571 - accuracy: 0.4803\n",
      "Epoch 32/200\n",
      "563/563 [==============================] - 1s 1ms/step - loss: 0.0554 - accuracy: 0.4794\n",
      "Epoch 33/200\n",
      "563/563 [==============================] - 1s 1ms/step - loss: 0.0554 - accuracy: 0.4839\n",
      "Epoch 34/200\n",
      "563/563 [==============================] - 1s 1ms/step - loss: 0.0535 - accuracy: 0.4854\n",
      "Epoch 35/200\n",
      "563/563 [==============================] - 1s 1ms/step - loss: 0.0516 - accuracy: 0.4810\n",
      "Epoch 36/200\n",
      "563/563 [==============================] - 1s 1ms/step - loss: 0.0506 - accuracy: 0.4840\n",
      "Epoch 37/200\n",
      "563/563 [==============================] - 1s 1ms/step - loss: 0.0491 - accuracy: 0.4816\n",
      "Epoch 38/200\n",
      "563/563 [==============================] - 1s 1ms/step - loss: 0.0480 - accuracy: 0.4784\n",
      "Epoch 39/200\n",
      "563/563 [==============================] - 1s 1ms/step - loss: 0.0491 - accuracy: 0.4839\n",
      "Epoch 40/200\n",
      "563/563 [==============================] - 1s 1ms/step - loss: 0.0458 - accuracy: 0.4781\n",
      "Epoch 41/200\n",
      "563/563 [==============================] - 1s 1ms/step - loss: 0.0467 - accuracy: 0.4801\n",
      "Epoch 42/200\n",
      "563/563 [==============================] - 1s 1ms/step - loss: 0.0446 - accuracy: 0.4789\n",
      "Epoch 43/200\n",
      "563/563 [==============================] - 1s 1ms/step - loss: 0.0433 - accuracy: 0.4763\n",
      "Epoch 44/200\n",
      "563/563 [==============================] - 1s 1ms/step - loss: 0.0417 - accuracy: 0.4761\n",
      "Epoch 45/200\n",
      "563/563 [==============================] - 1s 1ms/step - loss: 0.0404 - accuracy: 0.4736\n",
      "Epoch 46/200\n",
      "563/563 [==============================] - 1s 1ms/step - loss: 0.0405 - accuracy: 0.4767\n",
      "Epoch 47/200\n",
      "563/563 [==============================] - 1s 1ms/step - loss: 0.0410 - accuracy: 0.4796\n",
      "Epoch 48/200\n",
      "563/563 [==============================] - 1s 1ms/step - loss: 0.0401 - accuracy: 0.4733\n",
      "Epoch 49/200\n",
      "563/563 [==============================] - 1s 1ms/step - loss: 0.0380 - accuracy: 0.4688\n",
      "Epoch 50/200\n",
      "563/563 [==============================] - 1s 1ms/step - loss: 0.0378 - accuracy: 0.4679\n",
      "Epoch 51/200\n",
      "563/563 [==============================] - 1s 1ms/step - loss: 0.0371 - accuracy: 0.4733\n",
      "Epoch 52/200\n",
      "563/563 [==============================] - 1s 1ms/step - loss: 0.0364 - accuracy: 0.4711\n",
      "Epoch 53/200\n",
      "563/563 [==============================] - 1s 1ms/step - loss: 0.0354 - accuracy: 0.4688\n",
      "Epoch 54/200\n",
      "563/563 [==============================] - 1s 1ms/step - loss: 0.0358 - accuracy: 0.4728\n",
      "Epoch 55/200\n",
      "563/563 [==============================] - 1s 1ms/step - loss: 0.0340 - accuracy: 0.4672\n",
      "Epoch 56/200\n",
      "563/563 [==============================] - 1s 1ms/step - loss: 0.0348 - accuracy: 0.4753\n",
      "Epoch 57/200\n",
      "563/563 [==============================] - 1s 1ms/step - loss: 0.0343 - accuracy: 0.4778\n",
      "Epoch 58/200\n",
      "563/563 [==============================] - 1s 1ms/step - loss: 0.0320 - accuracy: 0.4729\n",
      "Epoch 59/200\n",
      "563/563 [==============================] - 1s 1ms/step - loss: 0.0326 - accuracy: 0.4711\n",
      "Epoch 60/200\n",
      "563/563 [==============================] - 1s 1ms/step - loss: 0.0307 - accuracy: 0.4683\n",
      "Epoch 61/200\n",
      "563/563 [==============================] - 1s 1ms/step - loss: 0.0316 - accuracy: 0.4720\n",
      "Epoch 62/200\n",
      "563/563 [==============================] - 1s 1ms/step - loss: 0.0321 - accuracy: 0.4666\n",
      "Epoch 63/200\n",
      "563/563 [==============================] - 1s 1ms/step - loss: 0.0299 - accuracy: 0.4701\n",
      "Epoch 64/200\n",
      "563/563 [==============================] - 1s 1ms/step - loss: 0.0309 - accuracy: 0.4740\n",
      "Epoch 65/200\n",
      "563/563 [==============================] - 1s 1ms/step - loss: 0.0279 - accuracy: 0.4722\n",
      "Epoch 66/200\n",
      "563/563 [==============================] - 1s 1ms/step - loss: 0.0311 - accuracy: 0.4722\n",
      "Epoch 67/200\n",
      "563/563 [==============================] - 1s 1ms/step - loss: 0.0268 - accuracy: 0.4722\n",
      "Epoch 68/200\n",
      "563/563 [==============================] - 1s 1ms/step - loss: 0.0292 - accuracy: 0.4781\n",
      "Epoch 69/200\n",
      "563/563 [==============================] - 1s 1ms/step - loss: 0.0269 - accuracy: 0.4673\n",
      "Epoch 70/200\n",
      "563/563 [==============================] - 1s 1ms/step - loss: 0.0298 - accuracy: 0.4707\n",
      "Epoch 71/200\n",
      "563/563 [==============================] - 1s 1ms/step - loss: 0.0287 - accuracy: 0.4594\n",
      "Epoch 72/200\n",
      "563/563 [==============================] - 1s 1ms/step - loss: 0.0263 - accuracy: 0.4649\n",
      "Epoch 73/200\n",
      "563/563 [==============================] - 1s 1ms/step - loss: 0.0246 - accuracy: 0.4590\n",
      "Epoch 74/200\n",
      "563/563 [==============================] - 1s 1ms/step - loss: 0.0270 - accuracy: 0.4677\n",
      "Epoch 75/200\n",
      "563/563 [==============================] - 1s 1ms/step - loss: 0.0258 - accuracy: 0.4647\n",
      "Epoch 76/200\n",
      "563/563 [==============================] - 1s 1ms/step - loss: 0.0254 - accuracy: 0.4643\n",
      "Epoch 77/200\n",
      "563/563 [==============================] - 1s 1ms/step - loss: 0.0242 - accuracy: 0.4572\n",
      "Epoch 78/200\n",
      "563/563 [==============================] - 1s 1ms/step - loss: 0.0261 - accuracy: 0.4558\n",
      "Epoch 79/200\n",
      "563/563 [==============================] - 1s 1ms/step - loss: 0.0270 - accuracy: 0.4539\n",
      "Epoch 80/200\n",
      "563/563 [==============================] - 1s 1ms/step - loss: 0.0236 - accuracy: 0.4576\n",
      "Epoch 81/200\n",
      "563/563 [==============================] - 1s 1ms/step - loss: 0.0238 - accuracy: 0.4592\n",
      "Epoch 82/200\n",
      "563/563 [==============================] - 1s 1ms/step - loss: 0.0233 - accuracy: 0.4591\n",
      "Epoch 83/200\n",
      "563/563 [==============================] - 1s 1ms/step - loss: 0.0249 - accuracy: 0.4591\n",
      "Epoch 84/200\n",
      "563/563 [==============================] - 1s 1ms/step - loss: 0.0243 - accuracy: 0.4602\n",
      "Epoch 85/200\n",
      "563/563 [==============================] - 1s 1ms/step - loss: 0.0224 - accuracy: 0.4617\n",
      "Epoch 86/200\n",
      "563/563 [==============================] - 1s 1ms/step - loss: 0.0226 - accuracy: 0.4603\n",
      "Epoch 87/200\n",
      "563/563 [==============================] - 1s 1ms/step - loss: 0.0234 - accuracy: 0.4653\n",
      "Epoch 88/200\n",
      "563/563 [==============================] - 1s 1ms/step - loss: 0.0215 - accuracy: 0.4643\n",
      "Epoch 89/200\n",
      "563/563 [==============================] - 1s 1ms/step - loss: 0.0226 - accuracy: 0.4621\n",
      "Epoch 90/200\n",
      "563/563 [==============================] - 1s 1ms/step - loss: 0.0208 - accuracy: 0.4493\n",
      "Epoch 91/200\n",
      "563/563 [==============================] - 1s 1ms/step - loss: 0.0217 - accuracy: 0.4642\n",
      "Epoch 92/200\n",
      "563/563 [==============================] - 1s 1ms/step - loss: 0.0208 - accuracy: 0.4662\n",
      "Epoch 93/200\n",
      "563/563 [==============================] - 1s 1ms/step - loss: 0.0217 - accuracy: 0.4620\n",
      "Epoch 94/200\n",
      "563/563 [==============================] - 1s 1ms/step - loss: 0.0211 - accuracy: 0.4508\n",
      "Epoch 95/200\n",
      "563/563 [==============================] - 1s 1ms/step - loss: 0.0210 - accuracy: 0.4522\n",
      "Epoch 96/200\n",
      "563/563 [==============================] - 1s 1ms/step - loss: 0.0200 - accuracy: 0.4567\n",
      "Epoch 97/200\n",
      "563/563 [==============================] - 1s 1ms/step - loss: 0.0207 - accuracy: 0.4502\n",
      "Epoch 98/200\n",
      "563/563 [==============================] - 1s 1ms/step - loss: 0.0201 - accuracy: 0.4563\n",
      "Epoch 99/200\n",
      "563/563 [==============================] - 1s 1ms/step - loss: 0.0202 - accuracy: 0.4566\n",
      "Epoch 100/200\n",
      "563/563 [==============================] - 1s 1ms/step - loss: 0.0201 - accuracy: 0.4552\n",
      "Epoch 101/200\n",
      "563/563 [==============================] - 1s 1ms/step - loss: 0.0208 - accuracy: 0.4596\n",
      "Epoch 102/200\n",
      "563/563 [==============================] - 1s 1ms/step - loss: 0.0195 - accuracy: 0.4606\n",
      "Epoch 103/200\n",
      "563/563 [==============================] - 1s 1ms/step - loss: 0.0197 - accuracy: 0.4623\n",
      "Epoch 104/200\n",
      "563/563 [==============================] - 1s 1ms/step - loss: 0.0185 - accuracy: 0.4544\n",
      "Epoch 105/200\n",
      "563/563 [==============================] - 1s 1ms/step - loss: 0.0188 - accuracy: 0.4640\n",
      "Epoch 106/200\n",
      "563/563 [==============================] - 1s 1ms/step - loss: 0.0193 - accuracy: 0.4619\n",
      "Epoch 107/200\n",
      "563/563 [==============================] - 1s 1ms/step - loss: 0.0203 - accuracy: 0.4634\n",
      "Epoch 108/200\n",
      "563/563 [==============================] - 1s 1ms/step - loss: 0.0178 - accuracy: 0.4583\n",
      "Epoch 109/200\n",
      "563/563 [==============================] - 1s 1ms/step - loss: 0.0187 - accuracy: 0.4576\n",
      "Epoch 110/200\n",
      "563/563 [==============================] - 1s 1ms/step - loss: 0.0196 - accuracy: 0.4676\n",
      "Epoch 111/200\n",
      "563/563 [==============================] - 1s 1ms/step - loss: 0.0191 - accuracy: 0.4569\n",
      "Epoch 112/200\n",
      "563/563 [==============================] - 1s 1ms/step - loss: 0.0166 - accuracy: 0.4539\n",
      "Epoch 113/200\n",
      "563/563 [==============================] - 1s 1ms/step - loss: 0.0166 - accuracy: 0.4502\n",
      "Epoch 114/200\n",
      "563/563 [==============================] - 1s 1ms/step - loss: 0.0199 - accuracy: 0.4554\n",
      "Epoch 115/200\n",
      "563/563 [==============================] - 1s 1ms/step - loss: 0.0196 - accuracy: 0.4580\n",
      "Epoch 116/200\n",
      "563/563 [==============================] - 1s 1ms/step - loss: 0.0173 - accuracy: 0.4607\n",
      "Epoch 117/200\n",
      "563/563 [==============================] - 1s 1ms/step - loss: 0.0154 - accuracy: 0.4578\n",
      "Epoch 118/200\n",
      "563/563 [==============================] - 1s 1ms/step - loss: 0.0175 - accuracy: 0.4589\n",
      "Epoch 119/200\n",
      "563/563 [==============================] - 1s 1ms/step - loss: 0.0182 - accuracy: 0.4608\n",
      "Epoch 120/200\n",
      "563/563 [==============================] - 1s 1ms/step - loss: 0.0181 - accuracy: 0.4671\n",
      "Epoch 121/200\n",
      "563/563 [==============================] - 1s 1ms/step - loss: 0.0161 - accuracy: 0.4658\n",
      "Epoch 122/200\n",
      "563/563 [==============================] - 1s 1ms/step - loss: 0.0199 - accuracy: 0.4469\n",
      "Epoch 123/200\n",
      "563/563 [==============================] - 1s 1ms/step - loss: 0.0154 - accuracy: 0.4538\n",
      "Epoch 124/200\n",
      "563/563 [==============================] - 1s 1ms/step - loss: 0.0159 - accuracy: 0.4501\n",
      "Epoch 125/200\n",
      "563/563 [==============================] - 1s 1ms/step - loss: 0.0168 - accuracy: 0.4552\n",
      "Epoch 126/200\n",
      "563/563 [==============================] - 1s 1ms/step - loss: 0.0148 - accuracy: 0.4542\n",
      "Epoch 127/200\n",
      "563/563 [==============================] - 1s 1ms/step - loss: 0.0161 - accuracy: 0.4537\n",
      "Epoch 128/200\n",
      "563/563 [==============================] - 1s 1ms/step - loss: 0.0150 - accuracy: 0.4569\n",
      "Epoch 129/200\n",
      "563/563 [==============================] - 1s 1ms/step - loss: 0.0164 - accuracy: 0.4492\n",
      "Epoch 130/200\n",
      "563/563 [==============================] - 1s 1ms/step - loss: 0.0155 - accuracy: 0.4484\n",
      "Epoch 131/200\n",
      "563/563 [==============================] - 1s 1ms/step - loss: 0.0179 - accuracy: 0.4462\n",
      "Epoch 132/200\n",
      "563/563 [==============================] - 1s 1ms/step - loss: 0.0165 - accuracy: 0.4526\n",
      "Epoch 133/200\n",
      "563/563 [==============================] - 1s 1ms/step - loss: 0.0152 - accuracy: 0.4513\n",
      "Epoch 134/200\n",
      "563/563 [==============================] - 1s 1ms/step - loss: 0.0162 - accuracy: 0.4547\n",
      "Epoch 135/200\n",
      "563/563 [==============================] - 1s 2ms/step - loss: 0.0159 - accuracy: 0.4517\n",
      "Epoch 136/200\n",
      "563/563 [==============================] - 1s 2ms/step - loss: 0.0135 - accuracy: 0.4498: 0s - loss: 0.0128 - \n",
      "Epoch 137/200\n",
      "563/563 [==============================] - 1s 2ms/step - loss: 0.0145 - accuracy: 0.4498\n",
      "Epoch 138/200\n",
      "563/563 [==============================] - 1s 1ms/step - loss: 0.0133 - accuracy: 0.4540\n",
      "Epoch 139/200\n",
      "563/563 [==============================] - 1s 1ms/step - loss: 0.0160 - accuracy: 0.4616\n",
      "Epoch 140/200\n",
      "563/563 [==============================] - 1s 1ms/step - loss: 0.0146 - accuracy: 0.4481\n",
      "Epoch 141/200\n",
      "563/563 [==============================] - 1s 1ms/step - loss: 0.0148 - accuracy: 0.4458\n",
      "Epoch 142/200\n",
      "563/563 [==============================] - 1s 1ms/step - loss: 0.0155 - accuracy: 0.4446: 0s - loss: 0.0142 - ac\n",
      "Epoch 143/200\n",
      "563/563 [==============================] - 1s 927us/step - loss: 0.0138 - accuracy: 0.4467\n",
      "Epoch 144/200\n",
      "563/563 [==============================] - 1s 980us/step - loss: 0.0139 - accuracy: 0.4430\n",
      "Epoch 145/200\n",
      "563/563 [==============================] - 1s 943us/step - loss: 0.0163 - accuracy: 0.4419\n",
      "Epoch 146/200\n",
      "563/563 [==============================] - 1s 892us/step - loss: 0.0134 - accuracy: 0.4512\n",
      "Epoch 147/200\n",
      "563/563 [==============================] - 1s 958us/step - loss: 0.0158 - accuracy: 0.4522\n",
      "Epoch 148/200\n",
      "563/563 [==============================] - 1s 981us/step - loss: 0.0139 - accuracy: 0.4490\n",
      "Epoch 149/200\n",
      "563/563 [==============================] - 1s 904us/step - loss: 0.0131 - accuracy: 0.4514\n",
      "Epoch 150/200\n",
      "563/563 [==============================] - 1s 890us/step - loss: 0.0167 - accuracy: 0.4512\n",
      "Epoch 151/200\n",
      "563/563 [==============================] - 1s 982us/step - loss: 0.0122 - accuracy: 0.4469\n",
      "Epoch 152/200\n",
      "563/563 [==============================] - 1s 940us/step - loss: 0.0144 - accuracy: 0.4430\n",
      "Epoch 153/200\n",
      "563/563 [==============================] - 1s 989us/step - loss: 0.0124 - accuracy: 0.4480\n",
      "Epoch 154/200\n",
      "563/563 [==============================] - 1s 910us/step - loss: 0.0142 - accuracy: 0.4454\n",
      "Epoch 155/200\n",
      "563/563 [==============================] - 1s 892us/step - loss: 0.0164 - accuracy: 0.4588\n",
      "Epoch 156/200\n",
      "563/563 [==============================] - 1s 926us/step - loss: 0.0143 - accuracy: 0.4478\n",
      "Epoch 157/200\n",
      "563/563 [==============================] - 1s 910us/step - loss: 0.0137 - accuracy: 0.4500\n",
      "Epoch 158/200\n",
      "563/563 [==============================] - 1s 907us/step - loss: 0.0115 - accuracy: 0.4669\n",
      "Epoch 159/200\n",
      "563/563 [==============================] - 1s 914us/step - loss: 0.0118 - accuracy: 0.4653\n",
      "Epoch 160/200\n"
     ]
    },
    {
     "name": "stdout",
     "output_type": "stream",
     "text": [
      "563/563 [==============================] - 1s 896us/step - loss: 0.0171 - accuracy: 0.4553\n",
      "Epoch 161/200\n",
      "563/563 [==============================] - 1s 912us/step - loss: 0.0115 - accuracy: 0.4588\n",
      "Epoch 162/200\n",
      "563/563 [==============================] - 1s 1ms/step - loss: 0.0124 - accuracy: 0.4601\n",
      "Epoch 163/200\n",
      "563/563 [==============================] - 1s 2ms/step - loss: 0.0127 - accuracy: 0.4527\n",
      "Epoch 164/200\n",
      "563/563 [==============================] - 1s 2ms/step - loss: 0.0124 - accuracy: 0.4558\n",
      "Epoch 165/200\n",
      "563/563 [==============================] - 1s 901us/step - loss: 0.0105 - accuracy: 0.4550\n",
      "Epoch 166/200\n",
      "563/563 [==============================] - 1s 900us/step - loss: 0.0143 - accuracy: 0.4508\n",
      "Epoch 167/200\n",
      "563/563 [==============================] - 1s 902us/step - loss: 0.0123 - accuracy: 0.4499\n",
      "Epoch 168/200\n",
      "563/563 [==============================] - 1s 902us/step - loss: 0.0092 - accuracy: 0.4571\n",
      "Epoch 169/200\n",
      "563/563 [==============================] - 1s 895us/step - loss: 0.0157 - accuracy: 0.4587\n",
      "Epoch 170/200\n",
      "563/563 [==============================] - 1s 876us/step - loss: 0.0140 - accuracy: 0.4583\n",
      "Epoch 171/200\n",
      "563/563 [==============================] - 1s 921us/step - loss: 0.0101 - accuracy: 0.4497\n",
      "Epoch 172/200\n",
      "563/563 [==============================] - 1s 1ms/step - loss: 0.0117 - accuracy: 0.4493\n",
      "Epoch 173/200\n",
      "563/563 [==============================] - 1s 912us/step - loss: 0.0133 - accuracy: 0.4534\n",
      "Epoch 174/200\n",
      "563/563 [==============================] - 0s 881us/step - loss: 0.0153 - accuracy: 0.4534\n",
      "Epoch 175/200\n",
      "563/563 [==============================] - 1s 874us/step - loss: 0.0115 - accuracy: 0.4487\n",
      "Epoch 176/200\n",
      "563/563 [==============================] - 1s 891us/step - loss: 0.0101 - accuracy: 0.4442\n",
      "Epoch 177/200\n",
      "563/563 [==============================] - 1s 902us/step - loss: 0.0153 - accuracy: 0.4498\n",
      "Epoch 178/200\n",
      "563/563 [==============================] - 1s 960us/step - loss: 0.0101 - accuracy: 0.4533\n",
      "Epoch 179/200\n",
      "563/563 [==============================] - 1s 964us/step - loss: 0.0126 - accuracy: 0.4488\n",
      "Epoch 180/200\n",
      "563/563 [==============================] - 1s 874us/step - loss: 0.0117 - accuracy: 0.4428\n",
      "Epoch 181/200\n",
      "563/563 [==============================] - 0s 871us/step - loss: 0.0104 - accuracy: 0.4366\n",
      "Epoch 182/200\n",
      "563/563 [==============================] - 1s 908us/step - loss: 0.0140 - accuracy: 0.4397\n",
      "Epoch 183/200\n",
      "563/563 [==============================] - 1s 896us/step - loss: 0.0108 - accuracy: 0.4418\n",
      "Epoch 184/200\n",
      "563/563 [==============================] - 1s 990us/step - loss: 0.0120 - accuracy: 0.4359\n",
      "Epoch 185/200\n",
      "563/563 [==============================] - 1s 1ms/step - loss: 0.0105 - accuracy: 0.4483\n",
      "Epoch 186/200\n",
      "563/563 [==============================] - 1s 2ms/step - loss: 0.0117 - accuracy: 0.4511\n",
      "Epoch 187/200\n",
      "563/563 [==============================] - 1s 2ms/step - loss: 0.0096 - accuracy: 0.4559\n",
      "Epoch 188/200\n",
      "563/563 [==============================] - 1s 1ms/step - loss: 0.0151 - accuracy: 0.4500\n",
      "Epoch 189/200\n",
      "563/563 [==============================] - 1s 1ms/step - loss: 0.0095 - accuracy: 0.4511\n",
      "Epoch 190/200\n",
      "563/563 [==============================] - 1s 1ms/step - loss: 0.0132 - accuracy: 0.4454\n",
      "Epoch 191/200\n",
      "563/563 [==============================] - 1s 1ms/step - loss: 0.0130 - accuracy: 0.4447\n",
      "Epoch 192/200\n",
      "563/563 [==============================] - 1s 1ms/step - loss: 0.0083 - accuracy: 0.4460\n",
      "Epoch 193/200\n",
      "563/563 [==============================] - 1s 1ms/step - loss: 0.0142 - accuracy: 0.4453\n",
      "Epoch 194/200\n",
      "563/563 [==============================] - 1s 1ms/step - loss: 0.0090 - accuracy: 0.4428\n",
      "Epoch 195/200\n",
      "563/563 [==============================] - 1s 1ms/step - loss: 0.0097 - accuracy: 0.4339\n",
      "Epoch 196/200\n",
      "563/563 [==============================] - 1s 1ms/step - loss: 0.0098 - accuracy: 0.4382: 0s - loss: 0.0104 - accuracy: 0.\n",
      "Epoch 197/200\n",
      "563/563 [==============================] - 1s 1ms/step - loss: 0.0127 - accuracy: 0.4426\n",
      "Epoch 198/200\n",
      "563/563 [==============================] - 1s 1ms/step - loss: 0.0091 - accuracy: 0.4469\n",
      "Epoch 199/200\n",
      "563/563 [==============================] - 1s 1ms/step - loss: 0.0113 - accuracy: 0.4452\n",
      "Epoch 200/200\n",
      "563/563 [==============================] - 1s 1ms/step - loss: 0.0134 - accuracy: 0.4443\n"
     ]
    },
    {
     "data": {
      "text/plain": [
       "<keras.callbacks.History at 0x26e465031f0>"
      ]
     },
     "execution_count": 14,
     "metadata": {},
     "output_type": "execute_result"
    }
   ],
   "source": [
    "model.fit(X_train, y_train, epochs=200, batch_size=16)"
   ]
  },
  {
   "cell_type": "code",
   "execution_count": 15,
   "id": "33a57e47",
   "metadata": {},
   "outputs": [
    {
     "name": "stdout",
     "output_type": "stream",
     "text": [
      "32/32 [==============================] - 0s 2ms/step - loss: 0.0302 - accuracy: 0.4370\n"
     ]
    }
   ],
   "source": [
    "loss_and_metrics = model.evaluate(X_test, y_test)"
   ]
  },
  {
   "cell_type": "code",
   "execution_count": 16,
   "id": "ac70b6cb",
   "metadata": {},
   "outputs": [
    {
     "name": "stdout",
     "output_type": "stream",
     "text": [
      "282/282 [==============================] - 0s 807us/step - loss: 0.0087 - accuracy: 0.4394\n"
     ]
    }
   ],
   "source": [
    "loss_and_metrics_2 = model.evaluate(X_train, y_train)"
   ]
  },
  {
   "cell_type": "code",
   "execution_count": 17,
   "id": "31eb413d",
   "metadata": {},
   "outputs": [
    {
     "data": {
      "text/plain": [
       "4"
      ]
     },
     "execution_count": 17,
     "metadata": {},
     "output_type": "execute_result"
    }
   ],
   "source": [
    "len(model.layers)"
   ]
  },
  {
   "cell_type": "code",
   "execution_count": 18,
   "id": "f72ca5a6",
   "metadata": {},
   "outputs": [
    {
     "data": {
      "text/plain": [
       "array([-0.38318306,  1.17181041,  0.02654254, -1.5647735 ,  1.53967122,\n",
       "       -0.75994952,  0.78002707, -0.76472111])"
      ]
     },
     "execution_count": 18,
     "metadata": {},
     "output_type": "execute_result"
    }
   ],
   "source": [
    "X_train[0]"
   ]
  },
  {
   "cell_type": "code",
   "execution_count": 19,
   "id": "257cea90",
   "metadata": {},
   "outputs": [
    {
     "data": {
      "text/plain": [
       "array([[ 0.77797774, -0.7671174 ,  0.41066034, -0.78728493, -1.54383395,\n",
       "        -0.37212124, -0.38297736,  1.55824701]])"
      ]
     },
     "execution_count": 19,
     "metadata": {},
     "output_type": "execute_result"
    }
   ],
   "source": [
    "X_test[2].reshape(1,len(X_test[2]))"
   ]
  },
  {
   "cell_type": "code",
   "execution_count": 20,
   "id": "d1953160",
   "metadata": {},
   "outputs": [],
   "source": [
    "pr=model.predict(X_test[1:2,:])"
   ]
  },
  {
   "cell_type": "code",
   "execution_count": 21,
   "id": "1de87c25",
   "metadata": {},
   "outputs": [
    {
     "data": {
      "text/plain": [
       "array([[1.9063653e-12, 2.5564140e-24, 1.0000000e+00, 4.8224882e-11,\n",
       "        0.0000000e+00, 2.5222413e-15, 1.8514984e-34, 1.0000000e+00,\n",
       "        1.0000000e+00, 7.3827202e-29, 1.5794985e-08, 1.0000000e+00,\n",
       "        2.5023893e-26, 6.1326446e-36, 1.9185103e-25, 1.0000000e+00,\n",
       "        3.7786212e-26, 1.0000000e+00, 1.6533386e-29, 7.4619993e-29,\n",
       "        0.0000000e+00, 4.8377850e-17, 1.0000000e+00, 1.2606470e-14]],\n",
       "      dtype=float32)"
      ]
     },
     "execution_count": 21,
     "metadata": {},
     "output_type": "execute_result"
    }
   ],
   "source": [
    "pr"
   ]
  },
  {
   "cell_type": "code",
   "execution_count": 22,
   "id": "c16e6932",
   "metadata": {},
   "outputs": [
    {
     "data": {
      "text/plain": [
       "array([[0, 0, 1, 0, 0, 0, 0, 1, 1, 0, 0, 1, 0, 0, 0, 1, 0, 1, 0, 0, 0, 0,\n",
       "        1, 0]], dtype=int64)"
      ]
     },
     "execution_count": 22,
     "metadata": {},
     "output_type": "execute_result"
    }
   ],
   "source": [
    "y_test[1:2,:]"
   ]
  },
  {
   "cell_type": "code",
   "execution_count": 23,
   "id": "2e5a66d7",
   "metadata": {},
   "outputs": [],
   "source": [
    "pred=model.predict(X_train)"
   ]
  },
  {
   "cell_type": "code",
   "execution_count": 24,
   "id": "5a0fafbc",
   "metadata": {},
   "outputs": [
    {
     "data": {
      "text/plain": [
       "9000"
      ]
     },
     "execution_count": 24,
     "metadata": {},
     "output_type": "execute_result"
    }
   ],
   "source": [
    "pred.shape[0]"
   ]
  },
  {
   "cell_type": "code",
   "execution_count": 25,
   "id": "6d1b1859",
   "metadata": {},
   "outputs": [
    {
     "data": {
      "text/plain": [
       "array([8.60929489e-04, 9.18903929e-12, 9.92746651e-01, 9.74732637e-03,\n",
       "       0.00000000e+00, 1.96779024e-06, 1.11952966e-35, 1.00000000e+00,\n",
       "       9.36893106e-01, 4.95475080e-20, 7.44694471e-03, 9.82033014e-01,\n",
       "       0.00000000e+00, 6.12254071e-23, 1.42810392e-27, 1.00000000e+00,\n",
       "       7.22534565e-25, 1.00000000e+00, 5.93989216e-18, 1.21875168e-21,\n",
       "       0.00000000e+00, 9.98530030e-01, 3.33765149e-03, 9.25188899e-01],\n",
       "      dtype=float32)"
      ]
     },
     "execution_count": 25,
     "metadata": {},
     "output_type": "execute_result"
    }
   ],
   "source": [
    "pred[0]"
   ]
  },
  {
   "cell_type": "code",
   "execution_count": 26,
   "id": "2834b5d4",
   "metadata": {},
   "outputs": [
    {
     "data": {
      "text/plain": [
       "array([0, 0, 1, 0, 0, 0, 0, 1, 1, 0, 0, 1, 0, 0, 0, 1, 0, 1, 0, 0, 0, 1,\n",
       "       0, 1], dtype=int64)"
      ]
     },
     "execution_count": 26,
     "metadata": {},
     "output_type": "execute_result"
    }
   ],
   "source": [
    "y_train[0]"
   ]
  },
  {
   "cell_type": "code",
   "execution_count": 27,
   "id": "b6e0b965",
   "metadata": {},
   "outputs": [
    {
     "data": {
      "text/plain": [
       "96.73333333333333"
      ]
     },
     "execution_count": 27,
     "metadata": {},
     "output_type": "execute_result"
    }
   ],
   "source": [
    "accuracy = 0\n",
    "for i in range(pred.shape[0]):\n",
    "    output = pred[i]\n",
    "    condition = True\n",
    "    for j in range(len(output)):\n",
    "        output[j] = round(output[j])\n",
    "    for j in range(len(output)):\n",
    "        if(output[j]!=y_train[i][j]):\n",
    "            condition = False\n",
    "            break\n",
    "    if condition:\n",
    "        accuracy += 1\n",
    "accuracy / pred.shape[0] * 100"
   ]
  },
  {
   "cell_type": "code",
   "execution_count": 28,
   "id": "3f7012a5",
   "metadata": {},
   "outputs": [],
   "source": [
    "pred_test=model.predict(X_test)"
   ]
  },
  {
   "cell_type": "code",
   "execution_count": 29,
   "id": "a59247fc",
   "metadata": {},
   "outputs": [
    {
     "data": {
      "text/plain": [
       "92.5"
      ]
     },
     "execution_count": 29,
     "metadata": {},
     "output_type": "execute_result"
    }
   ],
   "source": [
    "accuracy_test = 0\n",
    "for i in range(pred_test.shape[0]):\n",
    "    output = pred_test[i]\n",
    "    condition = True\n",
    "    for j in range(len(output)):\n",
    "        output[j] = round(output[j])\n",
    "    for j in range(len(output)):\n",
    "        if(output[j]!=y_test[i][j]):\n",
    "            condition = False\n",
    "            break\n",
    "    if condition:\n",
    "        accuracy_test += 1\n",
    "accuracy_test / pred_test.shape[0] * 100"
   ]
  },
  {
   "cell_type": "code",
   "execution_count": null,
   "id": "08abeefc",
   "metadata": {},
   "outputs": [],
   "source": []
  }
 ],
 "metadata": {
  "kernelspec": {
   "display_name": "Python 3 (ipykernel)",
   "language": "python",
   "name": "python3"
  },
  "language_info": {
   "codemirror_mode": {
    "name": "ipython",
    "version": 3
   },
   "file_extension": ".py",
   "mimetype": "text/x-python",
   "name": "python",
   "nbconvert_exporter": "python",
   "pygments_lexer": "ipython3",
   "version": "3.8.10"
  }
 },
 "nbformat": 4,
 "nbformat_minor": 5
}
