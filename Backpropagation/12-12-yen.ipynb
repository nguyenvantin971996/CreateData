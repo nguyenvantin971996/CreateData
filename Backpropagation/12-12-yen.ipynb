{
 "cells": [
  {
   "cell_type": "code",
   "execution_count": 1,
   "id": "6e0b208e",
   "metadata": {},
   "outputs": [
    {
     "data": {
      "text/html": [
       "<div>\n",
       "<style scoped>\n",
       "    .dataframe tbody tr th:only-of-type {\n",
       "        vertical-align: middle;\n",
       "    }\n",
       "\n",
       "    .dataframe tbody tr th {\n",
       "        vertical-align: top;\n",
       "    }\n",
       "\n",
       "    .dataframe thead th {\n",
       "        text-align: right;\n",
       "    }\n",
       "</style>\n",
       "<table border=\"1\" class=\"dataframe\">\n",
       "  <thead>\n",
       "    <tr style=\"text-align: right;\">\n",
       "      <th></th>\n",
       "      <th>X(1, 2)</th>\n",
       "      <th>X(1, 3)</th>\n",
       "      <th>X(1, 4)</th>\n",
       "      <th>X(2, 4)</th>\n",
       "      <th>X(2, 5)</th>\n",
       "      <th>X(3, 4)</th>\n",
       "      <th>X(3, 6)</th>\n",
       "      <th>X(4, 5)</th>\n",
       "      <th>X(4, 6)</th>\n",
       "      <th>X(4, 7)</th>\n",
       "      <th>...</th>\n",
       "      <th>Y4(1, 4)</th>\n",
       "      <th>Y4(2, 4)</th>\n",
       "      <th>Y4(2, 5)</th>\n",
       "      <th>Y4(3, 4)</th>\n",
       "      <th>Y4(3, 6)</th>\n",
       "      <th>Y4(4, 5)</th>\n",
       "      <th>Y4(4, 6)</th>\n",
       "      <th>Y4(4, 7)</th>\n",
       "      <th>Y4(5, 7)</th>\n",
       "      <th>Y4(6, 7)</th>\n",
       "    </tr>\n",
       "  </thead>\n",
       "  <tbody>\n",
       "    <tr>\n",
       "      <th>0</th>\n",
       "      <td>20</td>\n",
       "      <td>10</td>\n",
       "      <td>90</td>\n",
       "      <td>40</td>\n",
       "      <td>50</td>\n",
       "      <td>50</td>\n",
       "      <td>90</td>\n",
       "      <td>30</td>\n",
       "      <td>70</td>\n",
       "      <td>90</td>\n",
       "      <td>...</td>\n",
       "      <td>1</td>\n",
       "      <td>0</td>\n",
       "      <td>0</td>\n",
       "      <td>0</td>\n",
       "      <td>0</td>\n",
       "      <td>1</td>\n",
       "      <td>0</td>\n",
       "      <td>0</td>\n",
       "      <td>0</td>\n",
       "      <td>0</td>\n",
       "    </tr>\n",
       "    <tr>\n",
       "      <th>1</th>\n",
       "      <td>10</td>\n",
       "      <td>10</td>\n",
       "      <td>60</td>\n",
       "      <td>30</td>\n",
       "      <td>40</td>\n",
       "      <td>70</td>\n",
       "      <td>50</td>\n",
       "      <td>70</td>\n",
       "      <td>70</td>\n",
       "      <td>90</td>\n",
       "      <td>...</td>\n",
       "      <td>1</td>\n",
       "      <td>0</td>\n",
       "      <td>0</td>\n",
       "      <td>0</td>\n",
       "      <td>0</td>\n",
       "      <td>1</td>\n",
       "      <td>0</td>\n",
       "      <td>0</td>\n",
       "      <td>0</td>\n",
       "      <td>0</td>\n",
       "    </tr>\n",
       "    <tr>\n",
       "      <th>2</th>\n",
       "      <td>40</td>\n",
       "      <td>90</td>\n",
       "      <td>40</td>\n",
       "      <td>80</td>\n",
       "      <td>40</td>\n",
       "      <td>60</td>\n",
       "      <td>50</td>\n",
       "      <td>40</td>\n",
       "      <td>50</td>\n",
       "      <td>50</td>\n",
       "      <td>...</td>\n",
       "      <td>0</td>\n",
       "      <td>1</td>\n",
       "      <td>0</td>\n",
       "      <td>0</td>\n",
       "      <td>0</td>\n",
       "      <td>1</td>\n",
       "      <td>0</td>\n",
       "      <td>0</td>\n",
       "      <td>0</td>\n",
       "      <td>0</td>\n",
       "    </tr>\n",
       "    <tr>\n",
       "      <th>3</th>\n",
       "      <td>30</td>\n",
       "      <td>20</td>\n",
       "      <td>10</td>\n",
       "      <td>20</td>\n",
       "      <td>20</td>\n",
       "      <td>90</td>\n",
       "      <td>80</td>\n",
       "      <td>60</td>\n",
       "      <td>30</td>\n",
       "      <td>50</td>\n",
       "      <td>...</td>\n",
       "      <td>1</td>\n",
       "      <td>0</td>\n",
       "      <td>0</td>\n",
       "      <td>0</td>\n",
       "      <td>0</td>\n",
       "      <td>0</td>\n",
       "      <td>0</td>\n",
       "      <td>1</td>\n",
       "      <td>1</td>\n",
       "      <td>0</td>\n",
       "    </tr>\n",
       "    <tr>\n",
       "      <th>4</th>\n",
       "      <td>10</td>\n",
       "      <td>40</td>\n",
       "      <td>70</td>\n",
       "      <td>40</td>\n",
       "      <td>20</td>\n",
       "      <td>30</td>\n",
       "      <td>70</td>\n",
       "      <td>50</td>\n",
       "      <td>80</td>\n",
       "      <td>70</td>\n",
       "      <td>...</td>\n",
       "      <td>0</td>\n",
       "      <td>0</td>\n",
       "      <td>0</td>\n",
       "      <td>1</td>\n",
       "      <td>0</td>\n",
       "      <td>1</td>\n",
       "      <td>0</td>\n",
       "      <td>0</td>\n",
       "      <td>0</td>\n",
       "      <td>0</td>\n",
       "    </tr>\n",
       "  </tbody>\n",
       "</table>\n",
       "<p>5 rows × 60 columns</p>\n",
       "</div>"
      ],
      "text/plain": [
       "   X(1, 2)  X(1, 3)  X(1, 4)  X(2, 4)  X(2, 5)  X(3, 4)  X(3, 6)  X(4, 5)  \\\n",
       "0       20       10       90       40       50       50       90       30   \n",
       "1       10       10       60       30       40       70       50       70   \n",
       "2       40       90       40       80       40       60       50       40   \n",
       "3       30       20       10       20       20       90       80       60   \n",
       "4       10       40       70       40       20       30       70       50   \n",
       "\n",
       "   X(4, 6)  X(4, 7)  ...  Y4(1, 4)  Y4(2, 4)  Y4(2, 5)  Y4(3, 4)  Y4(3, 6)  \\\n",
       "0       70       90  ...         1         0         0         0         0   \n",
       "1       70       90  ...         1         0         0         0         0   \n",
       "2       50       50  ...         0         1         0         0         0   \n",
       "3       30       50  ...         1         0         0         0         0   \n",
       "4       80       70  ...         0         0         0         1         0   \n",
       "\n",
       "   Y4(4, 5)  Y4(4, 6)  Y4(4, 7)  Y4(5, 7)  Y4(6, 7)  \n",
       "0         1         0         0         0         0  \n",
       "1         1         0         0         0         0  \n",
       "2         1         0         0         0         0  \n",
       "3         0         0         1         1         0  \n",
       "4         1         0         0         0         0  \n",
       "\n",
       "[5 rows x 60 columns]"
      ]
     },
     "execution_count": 1,
     "metadata": {},
     "output_type": "execute_result"
    }
   ],
   "source": [
    "import numpy as np\n",
    "import pandas as pd\n",
    "#dataset import\n",
    "dataset = pd.read_csv(\"../Data/data_12_12_yen.csv\") #You need to change #directory accordingly\n",
    "dataset.head()"
   ]
  },
  {
   "cell_type": "code",
   "execution_count": 2,
   "id": "4fc511a4",
   "metadata": {},
   "outputs": [],
   "source": [
    "X = dataset.iloc[:,:12].values\n",
    "y = dataset.iloc[:,12:60].values"
   ]
  },
  {
   "cell_type": "code",
   "execution_count": 3,
   "id": "9b16f10f",
   "metadata": {},
   "outputs": [
    {
     "data": {
      "text/plain": [
       "(100000, 12)"
      ]
     },
     "execution_count": 3,
     "metadata": {},
     "output_type": "execute_result"
    }
   ],
   "source": [
    "X.shape"
   ]
  },
  {
   "cell_type": "code",
   "execution_count": 4,
   "id": "b588da2e",
   "metadata": {},
   "outputs": [
    {
     "data": {
      "text/plain": [
       "(100000, 48)"
      ]
     },
     "execution_count": 4,
     "metadata": {},
     "output_type": "execute_result"
    }
   ],
   "source": [
    "y.shape"
   ]
  },
  {
   "cell_type": "code",
   "execution_count": 5,
   "id": "bbb4ea48",
   "metadata": {},
   "outputs": [
    {
     "data": {
      "text/plain": [
       "48"
      ]
     },
     "execution_count": 5,
     "metadata": {},
     "output_type": "execute_result"
    }
   ],
   "source": [
    "y[0].shape[0]"
   ]
  },
  {
   "cell_type": "code",
   "execution_count": 6,
   "id": "a6a95eb2",
   "metadata": {},
   "outputs": [],
   "source": [
    "from sklearn.preprocessing import StandardScaler\n",
    "sc = StandardScaler()\n",
    "X = sc.fit_transform(X)"
   ]
  },
  {
   "cell_type": "code",
   "execution_count": 7,
   "id": "a62cb901",
   "metadata": {},
   "outputs": [
    {
     "data": {
      "text/plain": [
       "array([-1.55013727, -1.55235664,  0.38954234, -0.76772508, -0.38633749,\n",
       "        0.77444228,  0.00211055,  0.7803807 ,  0.77406685,  1.55269907,\n",
       "       -1.55541596, -1.16284333])"
      ]
     },
     "execution_count": 7,
     "metadata": {},
     "output_type": "execute_result"
    }
   ],
   "source": [
    "X[1,:]"
   ]
  },
  {
   "cell_type": "code",
   "execution_count": 8,
   "id": "6617a6fb",
   "metadata": {},
   "outputs": [
    {
     "data": {
      "text/plain": [
       "array([1, 0, 0, 0, 1, 0, 0, 0, 0, 0, 0, 0, 0, 1, 0, 0, 0, 0, 1, 0, 0, 0,\n",
       "       1, 1, 1, 0, 0, 1, 0, 0, 0, 1, 0, 0, 0, 0, 0, 0, 1, 0, 0, 0, 0, 1,\n",
       "       0, 0, 0, 0], dtype=int64)"
      ]
     },
     "execution_count": 8,
     "metadata": {},
     "output_type": "execute_result"
    }
   ],
   "source": [
    "y[1,:]"
   ]
  },
  {
   "cell_type": "code",
   "execution_count": 9,
   "id": "e0d7dfc9",
   "metadata": {},
   "outputs": [],
   "source": [
    "from sklearn.model_selection import train_test_split\n",
    "X_train,X_test,y_train,y_test = train_test_split(X,y,test_size = 0.1)"
   ]
  },
  {
   "cell_type": "code",
   "execution_count": 10,
   "id": "72c0fe51",
   "metadata": {},
   "outputs": [
    {
     "data": {
      "text/plain": [
       "array([-0.00156019, -1.55235664,  1.549539  , -1.54194197,  1.55447177,\n",
       "        1.55144478, -1.15966128, -0.76800138,  0.38686499, -0.38409298,\n",
       "       -1.16750846,  1.16059733])"
      ]
     },
     "execution_count": 10,
     "metadata": {},
     "output_type": "execute_result"
    }
   ],
   "source": [
    "X_test[1,:]"
   ]
  },
  {
   "cell_type": "code",
   "execution_count": 11,
   "id": "75cf1df7",
   "metadata": {},
   "outputs": [
    {
     "data": {
      "text/plain": [
       "array([1, 0, 0, 1, 0, 0, 0, 1, 0, 0, 0, 0, 0, 0, 1, 0, 0, 0, 0, 1, 0, 0,\n",
       "       0, 0, 1, 0, 0, 1, 0, 0, 0, 0, 0, 1, 1, 0, 0, 1, 0, 0, 0, 0, 1, 1,\n",
       "       1, 0, 0, 0], dtype=int64)"
      ]
     },
     "execution_count": 11,
     "metadata": {},
     "output_type": "execute_result"
    }
   ],
   "source": [
    "y_test[1,:]"
   ]
  },
  {
   "cell_type": "code",
   "execution_count": 12,
   "id": "9481c5aa",
   "metadata": {},
   "outputs": [],
   "source": [
    "#Dependencies\n",
    "import keras\n",
    "from keras.models import Sequential\n",
    "from keras.layers import Dense,Dropout\n",
    "# Neural network\n",
    "model = Sequential()\n",
    "model.add(Dense(100, input_dim=12, activation=\"relu\"))\n",
    "model.add(Dense(100, activation=\"relu\"))\n",
    "model.add(Dense(100, activation=\"relu\"))\n",
    "model.add(Dense(100, activation=\"relu\"))\n",
    "model.add(Dense(48, activation=\"sigmoid\"))"
   ]
  },
  {
   "cell_type": "code",
   "execution_count": 13,
   "id": "52646bd6",
   "metadata": {},
   "outputs": [],
   "source": [
    "model.compile(loss='binary_crossentropy', optimizer='adam', metrics=['accuracy'])"
   ]
  },
  {
   "cell_type": "code",
   "execution_count": 14,
   "id": "14f80e09",
   "metadata": {},
   "outputs": [
    {
     "name": "stdout",
     "output_type": "stream",
     "text": [
      "Epoch 1/200\n",
      "1407/1407 [==============================] - 3s 2ms/step - loss: 0.2760 - accuracy: 0.5001\n",
      "Epoch 2/200\n",
      "1407/1407 [==============================] - 2s 2ms/step - loss: 0.1827 - accuracy: 0.6369\n",
      "Epoch 3/200\n",
      "1407/1407 [==============================] - 2s 2ms/step - loss: 0.1496 - accuracy: 0.6525\n",
      "Epoch 4/200\n",
      "1407/1407 [==============================] - 2s 2ms/step - loss: 0.1295 - accuracy: 0.6367\n",
      "Epoch 5/200\n",
      "1407/1407 [==============================] - 2s 2ms/step - loss: 0.1169 - accuracy: 0.6399\n",
      "Epoch 6/200\n",
      "1407/1407 [==============================] - 2s 2ms/step - loss: 0.1082 - accuracy: 0.6404\n",
      "Epoch 7/200\n",
      "1407/1407 [==============================] - 2s 2ms/step - loss: 0.1010 - accuracy: 0.6493\n",
      "Epoch 8/200\n",
      "1407/1407 [==============================] - 2s 2ms/step - loss: 0.0961 - accuracy: 0.6325\n",
      "Epoch 9/200\n",
      "1407/1407 [==============================] - 2s 2ms/step - loss: 0.0908 - accuracy: 0.6160\n",
      "Epoch 10/200\n",
      "1407/1407 [==============================] - 2s 2ms/step - loss: 0.0876 - accuracy: 0.6439\n",
      "Epoch 11/200\n",
      "1407/1407 [==============================] - 2s 2ms/step - loss: 0.0835 - accuracy: 0.6170\n",
      "Epoch 12/200\n",
      "1407/1407 [==============================] - 2s 2ms/step - loss: 0.0810 - accuracy: 0.6348\n",
      "Epoch 13/200\n",
      "1407/1407 [==============================] - 2s 2ms/step - loss: 0.0784 - accuracy: 0.5917\n",
      "Epoch 14/200\n",
      "1407/1407 [==============================] - 2s 2ms/step - loss: 0.0762 - accuracy: 0.5991\n",
      "Epoch 15/200\n",
      "1407/1407 [==============================] - 2s 2ms/step - loss: 0.0738 - accuracy: 0.6061\n",
      "Epoch 16/200\n",
      "1407/1407 [==============================] - 2s 2ms/step - loss: 0.0723 - accuracy: 0.5800\n",
      "Epoch 17/200\n",
      "1407/1407 [==============================] - 2s 2ms/step - loss: 0.0705 - accuracy: 0.5757\n",
      "Epoch 18/200\n",
      "1407/1407 [==============================] - 2s 2ms/step - loss: 0.0688 - accuracy: 0.5798\n",
      "Epoch 19/200\n",
      "1407/1407 [==============================] - 2s 2ms/step - loss: 0.0672 - accuracy: 0.5712\n",
      "Epoch 20/200\n",
      "1407/1407 [==============================] - 2s 2ms/step - loss: 0.0658 - accuracy: 0.5510\n",
      "Epoch 21/200\n",
      "1407/1407 [==============================] - 2s 2ms/step - loss: 0.0644 - accuracy: 0.5665\n",
      "Epoch 22/200\n",
      "1407/1407 [==============================] - 2s 2ms/step - loss: 0.0631 - accuracy: 0.5608\n",
      "Epoch 23/200\n",
      "1407/1407 [==============================] - 2s 2ms/step - loss: 0.0614 - accuracy: 0.5487\n",
      "Epoch 24/200\n",
      "1407/1407 [==============================] - 2s 2ms/step - loss: 0.0605 - accuracy: 0.5799\n",
      "Epoch 25/200\n",
      "1407/1407 [==============================] - 2s 2ms/step - loss: 0.0595 - accuracy: 0.5523\n",
      "Epoch 26/200\n",
      "1407/1407 [==============================] - 2s 2ms/step - loss: 0.0582 - accuracy: 0.5261\n",
      "Epoch 27/200\n",
      "1407/1407 [==============================] - 2s 2ms/step - loss: 0.0572 - accuracy: 0.5527\n",
      "Epoch 28/200\n",
      "1407/1407 [==============================] - 2s 2ms/step - loss: 0.0562 - accuracy: 0.5118\n",
      "Epoch 29/200\n",
      "1407/1407 [==============================] - 2s 2ms/step - loss: 0.0555 - accuracy: 0.5037\n",
      "Epoch 30/200\n",
      "1407/1407 [==============================] - 2s 2ms/step - loss: 0.0541 - accuracy: 0.5248\n",
      "Epoch 31/200\n",
      "1407/1407 [==============================] - 2s 2ms/step - loss: 0.0538 - accuracy: 0.5115\n",
      "Epoch 32/200\n",
      "1407/1407 [==============================] - 2s 2ms/step - loss: 0.0527 - accuracy: 0.4739\n",
      "Epoch 33/200\n",
      "1407/1407 [==============================] - 2s 2ms/step - loss: 0.0524 - accuracy: 0.4853\n",
      "Epoch 34/200\n",
      "1407/1407 [==============================] - 2s 2ms/step - loss: 0.0510 - accuracy: 0.4884\n",
      "Epoch 35/200\n",
      "1407/1407 [==============================] - 2s 2ms/step - loss: 0.0506 - accuracy: 0.4953\n",
      "Epoch 36/200\n",
      "1407/1407 [==============================] - 2s 2ms/step - loss: 0.0497 - accuracy: 0.4707\n",
      "Epoch 37/200\n",
      "1407/1407 [==============================] - 2s 2ms/step - loss: 0.0496 - accuracy: 0.4845\n",
      "Epoch 38/200\n",
      "1407/1407 [==============================] - 2s 2ms/step - loss: 0.0481 - accuracy: 0.4820\n",
      "Epoch 39/200\n",
      "1407/1407 [==============================] - 2s 2ms/step - loss: 0.0481 - accuracy: 0.4790\n",
      "Epoch 40/200\n",
      "1407/1407 [==============================] - 2s 2ms/step - loss: 0.0466 - accuracy: 0.4711\n",
      "Epoch 41/200\n",
      "1407/1407 [==============================] - 2s 2ms/step - loss: 0.0468 - accuracy: 0.4642\n",
      "Epoch 42/200\n",
      "1407/1407 [==============================] - 2s 2ms/step - loss: 0.0462 - accuracy: 0.4285\n",
      "Epoch 43/200\n",
      "1407/1407 [==============================] - 2s 2ms/step - loss: 0.0453 - accuracy: 0.4359\n",
      "Epoch 44/200\n",
      "1407/1407 [==============================] - 2s 2ms/step - loss: 0.0444 - accuracy: 0.4741\n",
      "Epoch 45/200\n",
      "1407/1407 [==============================] - 2s 2ms/step - loss: 0.0443 - accuracy: 0.4593\n",
      "Epoch 46/200\n",
      "1407/1407 [==============================] - 2s 2ms/step - loss: 0.0439 - accuracy: 0.4329\n",
      "Epoch 47/200\n",
      "1407/1407 [==============================] - 2s 2ms/step - loss: 0.0430 - accuracy: 0.4255\n",
      "Epoch 48/200\n",
      "1407/1407 [==============================] - 2s 2ms/step - loss: 0.0426 - accuracy: 0.4542\n",
      "Epoch 49/200\n",
      "1407/1407 [==============================] - 2s 2ms/step - loss: 0.0420 - accuracy: 0.4777\n",
      "Epoch 50/200\n",
      "1407/1407 [==============================] - 2s 2ms/step - loss: 0.0415 - accuracy: 0.4494\n",
      "Epoch 51/200\n",
      "1407/1407 [==============================] - 2s 2ms/step - loss: 0.0411 - accuracy: 0.4233\n",
      "Epoch 52/200\n",
      "1407/1407 [==============================] - 2s 2ms/step - loss: 0.0403 - accuracy: 0.4260\n",
      "Epoch 53/200\n",
      "1407/1407 [==============================] - 2s 2ms/step - loss: 0.0402 - accuracy: 0.4091\n",
      "Epoch 54/200\n",
      "1407/1407 [==============================] - 2s 2ms/step - loss: 0.0392 - accuracy: 0.3758\n",
      "Epoch 55/200\n",
      "1407/1407 [==============================] - 2s 2ms/step - loss: 0.0390 - accuracy: 0.3586\n",
      "Epoch 56/200\n",
      "1407/1407 [==============================] - 2s 2ms/step - loss: 0.0391 - accuracy: 0.3354\n",
      "Epoch 57/200\n",
      "1407/1407 [==============================] - 2s 2ms/step - loss: 0.0384 - accuracy: 0.3654\n",
      "Epoch 58/200\n",
      "1407/1407 [==============================] - 2s 2ms/step - loss: 0.0381 - accuracy: 0.3541\n",
      "Epoch 59/200\n",
      "1407/1407 [==============================] - 2s 2ms/step - loss: 0.0377 - accuracy: 0.3460\n",
      "Epoch 60/200\n",
      "1407/1407 [==============================] - 2s 2ms/step - loss: 0.0369 - accuracy: 0.3478\n",
      "Epoch 61/200\n",
      "1407/1407 [==============================] - 2s 2ms/step - loss: 0.0366 - accuracy: 0.3375\n",
      "Epoch 62/200\n",
      "1407/1407 [==============================] - 2s 2ms/step - loss: 0.0367 - accuracy: 0.3290\n",
      "Epoch 63/200\n",
      "1407/1407 [==============================] - 2s 2ms/step - loss: 0.0361 - accuracy: 0.3280\n",
      "Epoch 64/200\n",
      "1407/1407 [==============================] - 2s 2ms/step - loss: 0.0361 - accuracy: 0.3027\n",
      "Epoch 65/200\n",
      "1407/1407 [==============================] - 2s 2ms/step - loss: 0.0354 - accuracy: 0.3291\n",
      "Epoch 66/200\n",
      "1407/1407 [==============================] - 2s 2ms/step - loss: 0.0351 - accuracy: 0.3402\n",
      "Epoch 67/200\n",
      "1407/1407 [==============================] - 2s 2ms/step - loss: 0.0352 - accuracy: 0.3396\n",
      "Epoch 68/200\n",
      "1407/1407 [==============================] - 2s 2ms/step - loss: 0.0349 - accuracy: 0.3191\n",
      "Epoch 69/200\n",
      "1407/1407 [==============================] - 2s 2ms/step - loss: 0.0345 - accuracy: 0.3230\n",
      "Epoch 70/200\n",
      "1407/1407 [==============================] - 2s 2ms/step - loss: 0.0348 - accuracy: 0.3174\n",
      "Epoch 71/200\n",
      "1407/1407 [==============================] - 2s 2ms/step - loss: 0.0339 - accuracy: 0.3145\n",
      "Epoch 72/200\n",
      "1407/1407 [==============================] - 2s 2ms/step - loss: 0.0337 - accuracy: 0.3132\n",
      "Epoch 73/200\n",
      "1407/1407 [==============================] - 2s 2ms/step - loss: 0.0336 - accuracy: 0.3107\n",
      "Epoch 74/200\n",
      "1407/1407 [==============================] - 2s 2ms/step - loss: 0.0336 - accuracy: 0.3277\n",
      "Epoch 75/200\n",
      "1407/1407 [==============================] - 2s 2ms/step - loss: 0.0330 - accuracy: 0.3230\n",
      "Epoch 76/200\n",
      "1407/1407 [==============================] - 2s 2ms/step - loss: 0.0333 - accuracy: 0.2984\n",
      "Epoch 77/200\n",
      "1407/1407 [==============================] - 2s 2ms/step - loss: 0.0325 - accuracy: 0.2873\n",
      "Epoch 78/200\n",
      "1407/1407 [==============================] - 2s 2ms/step - loss: 0.0329 - accuracy: 0.3180\n",
      "Epoch 79/200\n"
     ]
    },
    {
     "name": "stdout",
     "output_type": "stream",
     "text": [
      "1407/1407 [==============================] - 2s 2ms/step - loss: 0.0318 - accuracy: 0.3067\n",
      "Epoch 80/200\n",
      "1407/1407 [==============================] - 2s 1ms/step - loss: 0.0326 - accuracy: 0.2972\n",
      "Epoch 81/200\n",
      "1407/1407 [==============================] - 2s 1ms/step - loss: 0.0320 - accuracy: 0.2879\n",
      "Epoch 82/200\n",
      "1407/1407 [==============================] - 2s 1ms/step - loss: 0.0312 - accuracy: 0.2811\n",
      "Epoch 83/200\n",
      "1407/1407 [==============================] - 2s 1ms/step - loss: 0.0315 - accuracy: 0.2829\n",
      "Epoch 84/200\n",
      "1407/1407 [==============================] - 2s 1ms/step - loss: 0.0316 - accuracy: 0.2923\n",
      "Epoch 85/200\n",
      "1407/1407 [==============================] - 2s 1ms/step - loss: 0.0313 - accuracy: 0.2917\n",
      "Epoch 86/200\n",
      "1407/1407 [==============================] - 2s 1ms/step - loss: 0.0309 - accuracy: 0.2967\n",
      "Epoch 87/200\n",
      "1407/1407 [==============================] - 2s 1ms/step - loss: 0.0310 - accuracy: 0.2881\n",
      "Epoch 88/200\n",
      "1407/1407 [==============================] - 2s 1ms/step - loss: 0.0308 - accuracy: 0.2987\n",
      "Epoch 89/200\n",
      "1407/1407 [==============================] - 2s 2ms/step - loss: 0.0310 - accuracy: 0.2817\n",
      "Epoch 90/200\n",
      "1407/1407 [==============================] - 2s 1ms/step - loss: 0.0302 - accuracy: 0.2949\n",
      "Epoch 91/200\n",
      "1407/1407 [==============================] - 2s 1ms/step - loss: 0.0300 - accuracy: 0.3065\n",
      "Epoch 92/200\n",
      "1407/1407 [==============================] - 2s 2ms/step - loss: 0.0301 - accuracy: 0.2971\n",
      "Epoch 93/200\n",
      "1407/1407 [==============================] - 2s 1ms/step - loss: 0.0302 - accuracy: 0.2851\n",
      "Epoch 94/200\n",
      "1407/1407 [==============================] - 2s 1ms/step - loss: 0.0299 - accuracy: 0.2736\n",
      "Epoch 95/200\n",
      "1407/1407 [==============================] - 2s 1ms/step - loss: 0.0298 - accuracy: 0.2851\n",
      "Epoch 96/200\n",
      "1407/1407 [==============================] - 2s 2ms/step - loss: 0.0295 - accuracy: 0.2879\n",
      "Epoch 97/200\n",
      "1407/1407 [==============================] - 3s 2ms/step - loss: 0.0296 - accuracy: 0.2906: 0s -\n",
      "Epoch 98/200\n",
      "1407/1407 [==============================] - 2s 2ms/step - loss: 0.0293 - accuracy: 0.2905\n",
      "Epoch 99/200\n",
      "1407/1407 [==============================] - 2s 2ms/step - loss: 0.0291 - accuracy: 0.3034\n",
      "Epoch 100/200\n",
      "1407/1407 [==============================] - 2s 2ms/step - loss: 0.0285 - accuracy: 0.3067\n",
      "Epoch 101/200\n",
      "1407/1407 [==============================] - 2s 2ms/step - loss: 0.0293 - accuracy: 0.2841\n",
      "Epoch 102/200\n",
      "1407/1407 [==============================] - 2s 2ms/step - loss: 0.0283 - accuracy: 0.2912\n",
      "Epoch 103/200\n",
      "1407/1407 [==============================] - 2s 2ms/step - loss: 0.0289 - accuracy: 0.2805\n",
      "Epoch 104/200\n",
      "1407/1407 [==============================] - 2s 2ms/step - loss: 0.0281 - accuracy: 0.2622\n",
      "Epoch 105/200\n",
      "1407/1407 [==============================] - 2s 2ms/step - loss: 0.0294 - accuracy: 0.2660\n",
      "Epoch 106/200\n",
      "1407/1407 [==============================] - 2s 2ms/step - loss: 0.0279 - accuracy: 0.2627\n",
      "Epoch 107/200\n",
      "1407/1407 [==============================] - 2s 2ms/step - loss: 0.0277 - accuracy: 0.2641\n",
      "Epoch 108/200\n",
      "1407/1407 [==============================] - 2s 2ms/step - loss: 0.0285 - accuracy: 0.2584\n",
      "Epoch 109/200\n",
      "1407/1407 [==============================] - 2s 2ms/step - loss: 0.0278 - accuracy: 0.2608\n",
      "Epoch 110/200\n",
      "1407/1407 [==============================] - 2s 2ms/step - loss: 0.0278 - accuracy: 0.2741\n",
      "Epoch 111/200\n",
      "1407/1407 [==============================] - 2s 2ms/step - loss: 0.0277 - accuracy: 0.2657\n",
      "Epoch 112/200\n",
      "1407/1407 [==============================] - 2s 2ms/step - loss: 0.0275 - accuracy: 0.2704\n",
      "Epoch 113/200\n",
      "1407/1407 [==============================] - 2s 2ms/step - loss: 0.0270 - accuracy: 0.2616\n",
      "Epoch 114/200\n",
      "1407/1407 [==============================] - 2s 2ms/step - loss: 0.0275 - accuracy: 0.2703: 0s - loss: 0.0273 - accura\n",
      "Epoch 115/200\n",
      "1407/1407 [==============================] - 2s 2ms/step - loss: 0.0270 - accuracy: 0.2777\n",
      "Epoch 116/200\n",
      "1407/1407 [==============================] - 2s 2ms/step - loss: 0.0272 - accuracy: 0.2796\n",
      "Epoch 117/200\n",
      "1407/1407 [==============================] - 2s 2ms/step - loss: 0.0266 - accuracy: 0.2718\n",
      "Epoch 118/200\n",
      "1407/1407 [==============================] - 2s 2ms/step - loss: 0.0276 - accuracy: 0.2700\n",
      "Epoch 119/200\n",
      "1407/1407 [==============================] - 2s 2ms/step - loss: 0.0259 - accuracy: 0.2757\n",
      "Epoch 120/200\n",
      "1407/1407 [==============================] - 2s 2ms/step - loss: 0.0274 - accuracy: 0.2735\n",
      "Epoch 121/200\n",
      "1407/1407 [==============================] - 2s 2ms/step - loss: 0.0269 - accuracy: 0.2816\n",
      "Epoch 122/200\n",
      "1407/1407 [==============================] - 2s 2ms/step - loss: 0.0268 - accuracy: 0.2649\n",
      "Epoch 123/200\n",
      "1407/1407 [==============================] - 2s 2ms/step - loss: 0.0258 - accuracy: 0.2631\n",
      "Epoch 124/200\n",
      "1407/1407 [==============================] - 2s 2ms/step - loss: 0.0261 - accuracy: 0.2607\n",
      "Epoch 125/200\n",
      "1407/1407 [==============================] - 2s 2ms/step - loss: 0.0269 - accuracy: 0.2624\n",
      "Epoch 126/200\n",
      "1407/1407 [==============================] - 2s 2ms/step - loss: 0.0261 - accuracy: 0.2645\n",
      "Epoch 127/200\n",
      "1407/1407 [==============================] - 2s 2ms/step - loss: 0.0259 - accuracy: 0.2570\n",
      "Epoch 128/200\n",
      "1407/1407 [==============================] - 2s 2ms/step - loss: 0.0266 - accuracy: 0.2687\n",
      "Epoch 129/200\n",
      "1407/1407 [==============================] - 2s 2ms/step - loss: 0.0255 - accuracy: 0.2675\n",
      "Epoch 130/200\n",
      "1407/1407 [==============================] - 2s 2ms/step - loss: 0.0267 - accuracy: 0.2657\n",
      "Epoch 131/200\n",
      "1407/1407 [==============================] - 2s 2ms/step - loss: 0.0254 - accuracy: 0.2778\n",
      "Epoch 132/200\n",
      "1407/1407 [==============================] - 2s 2ms/step - loss: 0.0255 - accuracy: 0.2834\n",
      "Epoch 133/200\n",
      "1407/1407 [==============================] - 2s 2ms/step - loss: 0.0258 - accuracy: 0.2691\n",
      "Epoch 134/200\n",
      "1407/1407 [==============================] - 2s 2ms/step - loss: 0.0261 - accuracy: 0.2769\n",
      "Epoch 135/200\n",
      "1407/1407 [==============================] - 2s 2ms/step - loss: 0.0249 - accuracy: 0.2792: 0s - loss: 0.0243 \n",
      "Epoch 136/200\n",
      "1407/1407 [==============================] - 2s 2ms/step - loss: 0.0260 - accuracy: 0.2651\n",
      "Epoch 137/200\n",
      "1407/1407 [==============================] - 2s 2ms/step - loss: 0.0248 - accuracy: 0.2518\n",
      "Epoch 138/200\n",
      "1407/1407 [==============================] - 2s 2ms/step - loss: 0.0252 - accuracy: 0.2671\n",
      "Epoch 139/200\n",
      "1407/1407 [==============================] - 2s 2ms/step - loss: 0.0254 - accuracy: 0.2587\n",
      "Epoch 140/200\n",
      "1407/1407 [==============================] - 2s 2ms/step - loss: 0.0258 - accuracy: 0.2475\n",
      "Epoch 141/200\n",
      "1407/1407 [==============================] - 2s 2ms/step - loss: 0.0246 - accuracy: 0.2443\n",
      "Epoch 142/200\n",
      "1407/1407 [==============================] - 2s 2ms/step - loss: 0.0261 - accuracy: 0.2533\n",
      "Epoch 143/200\n",
      "1407/1407 [==============================] - 2s 2ms/step - loss: 0.0240 - accuracy: 0.2565\n",
      "Epoch 144/200\n",
      "1407/1407 [==============================] - 2s 2ms/step - loss: 0.0250 - accuracy: 0.2542\n",
      "Epoch 145/200\n",
      "1407/1407 [==============================] - 2s 2ms/step - loss: 0.0241 - accuracy: 0.2574\n",
      "Epoch 146/200\n",
      "1407/1407 [==============================] - 2s 2ms/step - loss: 0.0255 - accuracy: 0.2716\n",
      "Epoch 147/200\n",
      "1407/1407 [==============================] - 2s 2ms/step - loss: 0.0249 - accuracy: 0.2670\n",
      "Epoch 148/200\n",
      "1407/1407 [==============================] - 2s 2ms/step - loss: 0.0252 - accuracy: 0.2548\n",
      "Epoch 149/200\n",
      "1407/1407 [==============================] - 2s 2ms/step - loss: 0.0242 - accuracy: 0.2572\n",
      "Epoch 150/200\n",
      "1407/1407 [==============================] - 2s 2ms/step - loss: 0.0240 - accuracy: 0.2559\n",
      "Epoch 151/200\n",
      "1407/1407 [==============================] - 2s 2ms/step - loss: 0.0246 - accuracy: 0.2542\n",
      "Epoch 152/200\n",
      "1407/1407 [==============================] - 2s 2ms/step - loss: 0.0239 - accuracy: 0.2417\n",
      "Epoch 153/200\n",
      "1407/1407 [==============================] - 2s 2ms/step - loss: 0.0242 - accuracy: 0.2589\n",
      "Epoch 154/200\n",
      "1407/1407 [==============================] - 2s 2ms/step - loss: 0.0245 - accuracy: 0.2575\n",
      "Epoch 155/200\n",
      "1407/1407 [==============================] - 2s 2ms/step - loss: 0.0242 - accuracy: 0.2569\n",
      "Epoch 156/200\n"
     ]
    },
    {
     "name": "stdout",
     "output_type": "stream",
     "text": [
      "1407/1407 [==============================] - 2s 1ms/step - loss: 0.0247 - accuracy: 0.2569\n",
      "Epoch 157/200\n",
      "1407/1407 [==============================] - 2s 2ms/step - loss: 0.0235 - accuracy: 0.2626\n",
      "Epoch 158/200\n",
      "1407/1407 [==============================] - 2s 2ms/step - loss: 0.0244 - accuracy: 0.2644\n",
      "Epoch 159/200\n",
      "1407/1407 [==============================] - 2s 2ms/step - loss: 0.0245 - accuracy: 0.2652\n",
      "Epoch 160/200\n",
      "1407/1407 [==============================] - 2s 1ms/step - loss: 0.0241 - accuracy: 0.2797\n",
      "Epoch 161/200\n",
      "1407/1407 [==============================] - 2s 1ms/step - loss: 0.0237 - accuracy: 0.2711\n",
      "Epoch 162/200\n",
      "1407/1407 [==============================] - 2s 2ms/step - loss: 0.0236 - accuracy: 0.2622\n",
      "Epoch 163/200\n",
      "1407/1407 [==============================] - 2s 2ms/step - loss: 0.0245 - accuracy: 0.2632\n",
      "Epoch 164/200\n",
      "1407/1407 [==============================] - 2s 2ms/step - loss: 0.0232 - accuracy: 0.2652\n",
      "Epoch 165/200\n",
      "1407/1407 [==============================] - 2s 2ms/step - loss: 0.0233 - accuracy: 0.2682\n",
      "Epoch 166/200\n",
      "1407/1407 [==============================] - 2s 2ms/step - loss: 0.0235 - accuracy: 0.2671\n",
      "Epoch 167/200\n",
      "1407/1407 [==============================] - 2s 2ms/step - loss: 0.0231 - accuracy: 0.2746\n",
      "Epoch 168/200\n",
      "1407/1407 [==============================] - 2s 2ms/step - loss: 0.0234 - accuracy: 0.2779\n",
      "Epoch 169/200\n",
      "1407/1407 [==============================] - 2s 2ms/step - loss: 0.0234 - accuracy: 0.2729\n",
      "Epoch 170/200\n",
      "1407/1407 [==============================] - 2s 2ms/step - loss: 0.0227 - accuracy: 0.2637\n",
      "Epoch 171/200\n",
      "1407/1407 [==============================] - 2s 2ms/step - loss: 0.0234 - accuracy: 0.2826\n",
      "Epoch 172/200\n",
      "1407/1407 [==============================] - 2s 2ms/step - loss: 0.0223 - accuracy: 0.2810\n",
      "Epoch 173/200\n",
      "1407/1407 [==============================] - 2s 2ms/step - loss: 0.0243 - accuracy: 0.2788\n",
      "Epoch 174/200\n",
      "1407/1407 [==============================] - 2s 2ms/step - loss: 0.0228 - accuracy: 0.2670\n",
      "Epoch 175/200\n",
      "1407/1407 [==============================] - 2s 2ms/step - loss: 0.0222 - accuracy: 0.2705\n",
      "Epoch 176/200\n",
      "1407/1407 [==============================] - 2s 2ms/step - loss: 0.0232 - accuracy: 0.2545\n",
      "Epoch 177/200\n",
      "1407/1407 [==============================] - 2s 2ms/step - loss: 0.0230 - accuracy: 0.2574\n",
      "Epoch 178/200\n",
      "1407/1407 [==============================] - 2s 2ms/step - loss: 0.0223 - accuracy: 0.2492\n",
      "Epoch 179/200\n",
      "1407/1407 [==============================] - 2s 2ms/step - loss: 0.0229 - accuracy: 0.2568\n",
      "Epoch 180/200\n",
      "1407/1407 [==============================] - 2s 2ms/step - loss: 0.0236 - accuracy: 0.2704\n",
      "Epoch 181/200\n",
      "1407/1407 [==============================] - 2s 2ms/step - loss: 0.0222 - accuracy: 0.2536\n",
      "Epoch 182/200\n",
      "1407/1407 [==============================] - 2s 2ms/step - loss: 0.0225 - accuracy: 0.2600\n",
      "Epoch 183/200\n",
      "1407/1407 [==============================] - 2s 2ms/step - loss: 0.0239 - accuracy: 0.2746\n",
      "Epoch 184/200\n",
      "1407/1407 [==============================] - 2s 2ms/step - loss: 0.0223 - accuracy: 0.2646\n",
      "Epoch 185/200\n",
      "1407/1407 [==============================] - 2s 2ms/step - loss: 0.0221 - accuracy: 0.2657\n",
      "Epoch 186/200\n",
      "1407/1407 [==============================] - 2s 2ms/step - loss: 0.0224 - accuracy: 0.2568\n",
      "Epoch 187/200\n",
      "1407/1407 [==============================] - 2s 2ms/step - loss: 0.0222 - accuracy: 0.2567\n",
      "Epoch 188/200\n",
      "1407/1407 [==============================] - 2s 2ms/step - loss: 0.0220 - accuracy: 0.2684\n",
      "Epoch 189/200\n",
      "1407/1407 [==============================] - 2s 2ms/step - loss: 0.0225 - accuracy: 0.2596\n",
      "Epoch 190/200\n",
      "1407/1407 [==============================] - 2s 2ms/step - loss: 0.0224 - accuracy: 0.2612\n",
      "Epoch 191/200\n",
      "1407/1407 [==============================] - 2s 2ms/step - loss: 0.0226 - accuracy: 0.2612\n",
      "Epoch 192/200\n",
      "1407/1407 [==============================] - 2s 2ms/step - loss: 0.0211 - accuracy: 0.2857\n",
      "Epoch 193/200\n",
      "1407/1407 [==============================] - 2s 2ms/step - loss: 0.0220 - accuracy: 0.2574\n",
      "Epoch 194/200\n",
      "1407/1407 [==============================] - 2s 2ms/step - loss: 0.0223 - accuracy: 0.2647\n",
      "Epoch 195/200\n",
      "1407/1407 [==============================] - 2s 2ms/step - loss: 0.0221 - accuracy: 0.2568\n",
      "Epoch 196/200\n",
      "1407/1407 [==============================] - 2s 2ms/step - loss: 0.0224 - accuracy: 0.2575\n",
      "Epoch 197/200\n",
      "1407/1407 [==============================] - 2s 2ms/step - loss: 0.0221 - accuracy: 0.2931\n",
      "Epoch 198/200\n",
      "1407/1407 [==============================] - 2s 2ms/step - loss: 0.0217 - accuracy: 0.2754\n",
      "Epoch 199/200\n",
      "1407/1407 [==============================] - 2s 2ms/step - loss: 0.0223 - accuracy: 0.2495\n",
      "Epoch 200/200\n",
      "1407/1407 [==============================] - 2s 2ms/step - loss: 0.0215 - accuracy: 0.2693\n"
     ]
    },
    {
     "data": {
      "text/plain": [
       "<keras.callbacks.History at 0x227c98cc160>"
      ]
     },
     "execution_count": 14,
     "metadata": {},
     "output_type": "execute_result"
    }
   ],
   "source": [
    "model.fit(X_train, y_train, epochs=200, batch_size=64)"
   ]
  },
  {
   "cell_type": "code",
   "execution_count": 15,
   "id": "33a57e47",
   "metadata": {},
   "outputs": [
    {
     "name": "stdout",
     "output_type": "stream",
     "text": [
      "313/313 [==============================] - 0s 964us/step - loss: 0.0458 - accuracy: 0.2702\n"
     ]
    }
   ],
   "source": [
    "loss_and_metrics = model.evaluate(X_test, y_test)"
   ]
  },
  {
   "cell_type": "code",
   "execution_count": 16,
   "id": "ac70b6cb",
   "metadata": {},
   "outputs": [
    {
     "name": "stdout",
     "output_type": "stream",
     "text": [
      "2813/2813 [==============================] - 3s 895us/step - loss: 0.0211 - accuracy: 0.2699\n"
     ]
    }
   ],
   "source": [
    "loss_and_metrics_2 = model.evaluate(X_train, y_train)"
   ]
  },
  {
   "cell_type": "code",
   "execution_count": 17,
   "id": "31eb413d",
   "metadata": {},
   "outputs": [
    {
     "data": {
      "text/plain": [
       "5"
      ]
     },
     "execution_count": 17,
     "metadata": {},
     "output_type": "execute_result"
    }
   ],
   "source": [
    "len(model.layers)"
   ]
  },
  {
   "cell_type": "code",
   "execution_count": 18,
   "id": "f72ca5a6",
   "metadata": {},
   "outputs": [
    {
     "data": {
      "text/plain": [
       "array([-1.55013727,  0.77396831, -1.15711987,  0.39360025,  1.16630992,\n",
       "       -0.39106147, -0.77240401,  0.39328518,  0.38686499, -1.54616821,\n",
       "        0.77202901, -0.77560322])"
      ]
     },
     "execution_count": 18,
     "metadata": {},
     "output_type": "execute_result"
    }
   ],
   "source": [
    "X_train[0]"
   ]
  },
  {
   "cell_type": "code",
   "execution_count": 19,
   "id": "257cea90",
   "metadata": {},
   "outputs": [
    {
     "data": {
      "text/plain": [
       "array([[-0.38870446, -1.55235664, -0.38378876,  1.55492558, -1.16266119,\n",
       "        -1.55656523, -1.54691856, -0.38090586,  0.38686499,  0.77798225,\n",
       "         1.15993651, -1.16284333]])"
      ]
     },
     "execution_count": 19,
     "metadata": {},
     "output_type": "execute_result"
    }
   ],
   "source": [
    "X_test[2].reshape(1,len(X_test[2]))"
   ]
  },
  {
   "cell_type": "code",
   "execution_count": 20,
   "id": "d1953160",
   "metadata": {},
   "outputs": [],
   "source": [
    "pr=model.predict(X_test[1:2,:])"
   ]
  },
  {
   "cell_type": "code",
   "execution_count": 21,
   "id": "1de87c25",
   "metadata": {},
   "outputs": [
    {
     "data": {
      "text/plain": [
       "array([[9.99998927e-01, 9.71750893e-08, 1.22828608e-15, 9.99998927e-01,\n",
       "        6.74291467e-09, 4.15555235e-09, 1.09781828e-11, 1.00000000e+00,\n",
       "        3.76446548e-14, 1.23795147e-17, 4.64015937e-10, 3.38957716e-11,\n",
       "        2.26169825e-03, 9.97106552e-01, 8.70296359e-02, 1.56891983e-05,\n",
       "        4.92560863e-02, 9.29367542e-03, 9.80995893e-01, 4.72643137e-01,\n",
       "        6.16997480e-04, 7.48109378e-05, 2.58463621e-03, 3.69081497e-02,\n",
       "        2.23750770e-01, 8.70749354e-03, 1.68637037e-02, 4.64074016e-02,\n",
       "        1.25408173e-04, 1.69249518e-06, 2.69451737e-03, 9.51798558e-01,\n",
       "        1.04013085e-03, 1.34639740e-02, 1.10693514e-01, 4.09293175e-03,\n",
       "        7.36230254e-01, 2.24955887e-01, 8.90721679e-02, 5.83939552e-01,\n",
       "        3.27881962e-01, 2.75347829e-02, 3.07660878e-01, 1.92712456e-01,\n",
       "        9.56735909e-02, 8.65709424e-01, 4.27281082e-01, 9.90217924e-03]],\n",
       "      dtype=float32)"
      ]
     },
     "execution_count": 21,
     "metadata": {},
     "output_type": "execute_result"
    }
   ],
   "source": [
    "pr"
   ]
  },
  {
   "cell_type": "code",
   "execution_count": 22,
   "id": "c16e6932",
   "metadata": {},
   "outputs": [
    {
     "data": {
      "text/plain": [
       "array([[1, 0, 0, 1, 0, 0, 0, 1, 0, 0, 0, 0, 0, 0, 1, 0, 0, 0, 0, 1, 0, 0,\n",
       "        0, 0, 1, 0, 0, 1, 0, 0, 0, 0, 0, 1, 1, 0, 0, 1, 0, 0, 0, 0, 1, 1,\n",
       "        1, 0, 0, 0]], dtype=int64)"
      ]
     },
     "execution_count": 22,
     "metadata": {},
     "output_type": "execute_result"
    }
   ],
   "source": [
    "y_test[1:2,:]"
   ]
  },
  {
   "cell_type": "code",
   "execution_count": 23,
   "id": "2e5a66d7",
   "metadata": {},
   "outputs": [],
   "source": [
    "pred=model.predict(X_train)"
   ]
  },
  {
   "cell_type": "code",
   "execution_count": 24,
   "id": "5a0fafbc",
   "metadata": {},
   "outputs": [
    {
     "data": {
      "text/plain": [
       "90000"
      ]
     },
     "execution_count": 24,
     "metadata": {},
     "output_type": "execute_result"
    }
   ],
   "source": [
    "pred.shape[0]"
   ]
  },
  {
   "cell_type": "code",
   "execution_count": 25,
   "id": "6d1b1859",
   "metadata": {},
   "outputs": [
    {
     "data": {
      "text/plain": [
       "array([7.8823711e-11, 0.0000000e+00, 1.0000000e+00, 3.5343978e-37,\n",
       "       4.0818657e-17, 0.0000000e+00, 0.0000000e+00, 1.0000000e+00,\n",
       "       0.0000000e+00, 0.0000000e+00, 3.5526181e-30, 0.0000000e+00,\n",
       "       1.0000000e+00, 0.0000000e+00, 1.1055895e-10, 7.8523322e-14,\n",
       "       1.0000000e+00, 0.0000000e+00, 0.0000000e+00, 8.0908893e-18,\n",
       "       0.0000000e+00, 2.6043915e-15, 1.6492433e-15, 0.0000000e+00,\n",
       "       3.5972920e-16, 0.0000000e+00, 1.0000000e+00, 2.1313370e-20,\n",
       "       1.5016875e-15, 2.2939435e-38, 5.1733312e-37, 2.5355131e-17,\n",
       "       2.4858548e-25, 1.0000000e+00, 1.0000000e+00, 7.8889532e-31,\n",
       "       1.0000000e+00, 3.3979933e-14, 1.0520653e-10, 1.0000000e+00,\n",
       "       5.7968619e-11, 5.7228688e-12, 3.7140587e-13, 1.0000000e+00,\n",
       "       2.4488957e-12, 6.1932637e-10, 6.7764754e-09, 1.5030029e-11],\n",
       "      dtype=float32)"
      ]
     },
     "execution_count": 25,
     "metadata": {},
     "output_type": "execute_result"
    }
   ],
   "source": [
    "pred[0]"
   ]
  },
  {
   "cell_type": "code",
   "execution_count": 26,
   "id": "2834b5d4",
   "metadata": {},
   "outputs": [
    {
     "data": {
      "text/plain": [
       "array([0, 0, 1, 0, 0, 0, 0, 1, 0, 0, 0, 0, 1, 0, 0, 0, 1, 0, 0, 0, 0, 0,\n",
       "       0, 0, 0, 0, 1, 0, 0, 0, 0, 0, 0, 1, 1, 0, 1, 0, 0, 1, 0, 0, 0, 1,\n",
       "       0, 0, 0, 0], dtype=int64)"
      ]
     },
     "execution_count": 26,
     "metadata": {},
     "output_type": "execute_result"
    }
   ],
   "source": [
    "y_train[0]"
   ]
  },
  {
   "cell_type": "code",
   "execution_count": 27,
   "id": "b6e0b965",
   "metadata": {},
   "outputs": [
    {
     "data": {
      "text/plain": [
       "85.74444444444444"
      ]
     },
     "execution_count": 27,
     "metadata": {},
     "output_type": "execute_result"
    }
   ],
   "source": [
    "accuracy = 0\n",
    "for i in range(pred.shape[0]):\n",
    "    output = pred[i]\n",
    "    condition = True\n",
    "    for j in range(len(output)):\n",
    "        output[j] = round(output[j])\n",
    "    for j in range(len(output)):\n",
    "        if(output[j]!=y_train[i][j]):\n",
    "            condition = False\n",
    "            break\n",
    "    if condition:\n",
    "        accuracy += 1\n",
    "accuracy / pred.shape[0] * 100"
   ]
  },
  {
   "cell_type": "code",
   "execution_count": 28,
   "id": "3f7012a5",
   "metadata": {},
   "outputs": [],
   "source": [
    "pred_test=model.predict(X_test)"
   ]
  },
  {
   "cell_type": "code",
   "execution_count": 29,
   "id": "a59247fc",
   "metadata": {},
   "outputs": [
    {
     "data": {
      "text/plain": [
       "81.37"
      ]
     },
     "execution_count": 29,
     "metadata": {},
     "output_type": "execute_result"
    }
   ],
   "source": [
    "accuracy_test = 0\n",
    "for i in range(pred_test.shape[0]):\n",
    "    output = pred_test[i]\n",
    "    condition = True\n",
    "    for j in range(len(output)):\n",
    "        output[j] = round(output[j])\n",
    "    for j in range(len(output)):\n",
    "        if(output[j]!=y_test[i][j]):\n",
    "            condition = False\n",
    "            break\n",
    "    if condition:\n",
    "        accuracy_test += 1\n",
    "accuracy_test / pred_test.shape[0] * 100"
   ]
  },
  {
   "cell_type": "code",
   "execution_count": null,
   "id": "08abeefc",
   "metadata": {},
   "outputs": [],
   "source": []
  }
 ],
 "metadata": {
  "kernelspec": {
   "display_name": "Python 3 (ipykernel)",
   "language": "python",
   "name": "python3"
  },
  "language_info": {
   "codemirror_mode": {
    "name": "ipython",
    "version": 3
   },
   "file_extension": ".py",
   "mimetype": "text/x-python",
   "name": "python",
   "nbconvert_exporter": "python",
   "pygments_lexer": "ipython3",
   "version": "3.8.10"
  }
 },
 "nbformat": 4,
 "nbformat_minor": 5
}
