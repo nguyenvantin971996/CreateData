{
 "cells": [
  {
   "cell_type": "code",
   "execution_count": 1,
   "id": "6e0b208e",
   "metadata": {},
   "outputs": [
    {
     "data": {
      "text/html": [
       "<div>\n",
       "<style scoped>\n",
       "    .dataframe tbody tr th:only-of-type {\n",
       "        vertical-align: middle;\n",
       "    }\n",
       "\n",
       "    .dataframe tbody tr th {\n",
       "        vertical-align: top;\n",
       "    }\n",
       "\n",
       "    .dataframe thead th {\n",
       "        text-align: right;\n",
       "    }\n",
       "</style>\n",
       "<table border=\"1\" class=\"dataframe\">\n",
       "  <thead>\n",
       "    <tr style=\"text-align: right;\">\n",
       "      <th></th>\n",
       "      <th>X(1, 2)</th>\n",
       "      <th>X(1, 3)</th>\n",
       "      <th>X(2, 4)</th>\n",
       "      <th>X(2, 5)</th>\n",
       "      <th>X(3, 4)</th>\n",
       "      <th>X(3, 7)</th>\n",
       "      <th>X(4, 6)</th>\n",
       "      <th>X(5, 6)</th>\n",
       "      <th>X(5, 8)</th>\n",
       "      <th>X(6, 7)</th>\n",
       "      <th>...</th>\n",
       "      <th>Y4(1, 3)</th>\n",
       "      <th>Y4(2, 4)</th>\n",
       "      <th>Y4(2, 5)</th>\n",
       "      <th>Y4(3, 4)</th>\n",
       "      <th>Y4(3, 7)</th>\n",
       "      <th>Y4(4, 6)</th>\n",
       "      <th>Y4(5, 6)</th>\n",
       "      <th>Y4(5, 8)</th>\n",
       "      <th>Y4(6, 7)</th>\n",
       "      <th>Y4(7, 8)</th>\n",
       "    </tr>\n",
       "  </thead>\n",
       "  <tbody>\n",
       "    <tr>\n",
       "      <th>0</th>\n",
       "      <td>10</td>\n",
       "      <td>40</td>\n",
       "      <td>30</td>\n",
       "      <td>50</td>\n",
       "      <td>30</td>\n",
       "      <td>20</td>\n",
       "      <td>20</td>\n",
       "      <td>10</td>\n",
       "      <td>90</td>\n",
       "      <td>70</td>\n",
       "      <td>...</td>\n",
       "      <td>0</td>\n",
       "      <td>1</td>\n",
       "      <td>0</td>\n",
       "      <td>0</td>\n",
       "      <td>0</td>\n",
       "      <td>1</td>\n",
       "      <td>0</td>\n",
       "      <td>0</td>\n",
       "      <td>1</td>\n",
       "      <td>1</td>\n",
       "    </tr>\n",
       "    <tr>\n",
       "      <th>1</th>\n",
       "      <td>90</td>\n",
       "      <td>50</td>\n",
       "      <td>50</td>\n",
       "      <td>30</td>\n",
       "      <td>30</td>\n",
       "      <td>80</td>\n",
       "      <td>80</td>\n",
       "      <td>30</td>\n",
       "      <td>30</td>\n",
       "      <td>80</td>\n",
       "      <td>...</td>\n",
       "      <td>1</td>\n",
       "      <td>0</td>\n",
       "      <td>0</td>\n",
       "      <td>1</td>\n",
       "      <td>0</td>\n",
       "      <td>1</td>\n",
       "      <td>1</td>\n",
       "      <td>1</td>\n",
       "      <td>0</td>\n",
       "      <td>0</td>\n",
       "    </tr>\n",
       "    <tr>\n",
       "      <th>2</th>\n",
       "      <td>10</td>\n",
       "      <td>60</td>\n",
       "      <td>80</td>\n",
       "      <td>50</td>\n",
       "      <td>40</td>\n",
       "      <td>50</td>\n",
       "      <td>30</td>\n",
       "      <td>90</td>\n",
       "      <td>80</td>\n",
       "      <td>30</td>\n",
       "      <td>...</td>\n",
       "      <td>1</td>\n",
       "      <td>0</td>\n",
       "      <td>0</td>\n",
       "      <td>1</td>\n",
       "      <td>0</td>\n",
       "      <td>1</td>\n",
       "      <td>0</td>\n",
       "      <td>0</td>\n",
       "      <td>1</td>\n",
       "      <td>1</td>\n",
       "    </tr>\n",
       "    <tr>\n",
       "      <th>3</th>\n",
       "      <td>80</td>\n",
       "      <td>20</td>\n",
       "      <td>40</td>\n",
       "      <td>60</td>\n",
       "      <td>50</td>\n",
       "      <td>80</td>\n",
       "      <td>90</td>\n",
       "      <td>60</td>\n",
       "      <td>80</td>\n",
       "      <td>80</td>\n",
       "      <td>...</td>\n",
       "      <td>1</td>\n",
       "      <td>0</td>\n",
       "      <td>0</td>\n",
       "      <td>1</td>\n",
       "      <td>0</td>\n",
       "      <td>1</td>\n",
       "      <td>1</td>\n",
       "      <td>1</td>\n",
       "      <td>0</td>\n",
       "      <td>0</td>\n",
       "    </tr>\n",
       "    <tr>\n",
       "      <th>4</th>\n",
       "      <td>20</td>\n",
       "      <td>70</td>\n",
       "      <td>50</td>\n",
       "      <td>40</td>\n",
       "      <td>20</td>\n",
       "      <td>70</td>\n",
       "      <td>80</td>\n",
       "      <td>80</td>\n",
       "      <td>10</td>\n",
       "      <td>10</td>\n",
       "      <td>...</td>\n",
       "      <td>0</td>\n",
       "      <td>1</td>\n",
       "      <td>0</td>\n",
       "      <td>0</td>\n",
       "      <td>0</td>\n",
       "      <td>1</td>\n",
       "      <td>1</td>\n",
       "      <td>1</td>\n",
       "      <td>0</td>\n",
       "      <td>0</td>\n",
       "    </tr>\n",
       "  </tbody>\n",
       "</table>\n",
       "<p>5 rows × 55 columns</p>\n",
       "</div>"
      ],
      "text/plain": [
       "   X(1, 2)  X(1, 3)  X(2, 4)  X(2, 5)  X(3, 4)  X(3, 7)  X(4, 6)  X(5, 6)  \\\n",
       "0       10       40       30       50       30       20       20       10   \n",
       "1       90       50       50       30       30       80       80       30   \n",
       "2       10       60       80       50       40       50       30       90   \n",
       "3       80       20       40       60       50       80       90       60   \n",
       "4       20       70       50       40       20       70       80       80   \n",
       "\n",
       "   X(5, 8)  X(6, 7)  ...  Y4(1, 3)  Y4(2, 4)  Y4(2, 5)  Y4(3, 4)  Y4(3, 7)  \\\n",
       "0       90       70  ...         0         1         0         0         0   \n",
       "1       30       80  ...         1         0         0         1         0   \n",
       "2       80       30  ...         1         0         0         1         0   \n",
       "3       80       80  ...         1         0         0         1         0   \n",
       "4       10       10  ...         0         1         0         0         0   \n",
       "\n",
       "   Y4(4, 6)  Y4(5, 6)  Y4(5, 8)  Y4(6, 7)  Y4(7, 8)  \n",
       "0         1         0         0         1         1  \n",
       "1         1         1         1         0         0  \n",
       "2         1         0         0         1         1  \n",
       "3         1         1         1         0         0  \n",
       "4         1         1         1         0         0  \n",
       "\n",
       "[5 rows x 55 columns]"
      ]
     },
     "execution_count": 1,
     "metadata": {},
     "output_type": "execute_result"
    }
   ],
   "source": [
    "import numpy as np\n",
    "import pandas as pd\n",
    "#dataset import\n",
    "df = pd.read_csv(\"../Data/data_8_nodes_yen.csv\") #You need to change #directory accordingly\n",
    "df.head()"
   ]
  },
  {
   "cell_type": "code",
   "execution_count": 2,
   "id": "d4b582aa",
   "metadata": {},
   "outputs": [],
   "source": [
    "edges = [[1, 2], [1, 3], [2, 4], [2, 5], [3, 4], [3, 7], [4, 6], [5, 6], [5, 8], [6, 7], [7, 8]]"
   ]
  },
  {
   "cell_type": "code",
   "execution_count": 3,
   "id": "a0670cfa",
   "metadata": {},
   "outputs": [],
   "source": [
    "number_edges = 11\n",
    "number_steps = 4\n",
    "start_node = 1\n",
    "end_node = 8"
   ]
  },
  {
   "cell_type": "code",
   "execution_count": 4,
   "id": "4fc511a4",
   "metadata": {},
   "outputs": [],
   "source": [
    "X = df.iloc[:,:number_edges].values\n",
    "y = df.iloc[:,number_edges:].values"
   ]
  },
  {
   "cell_type": "code",
   "execution_count": 5,
   "id": "4ee9d464",
   "metadata": {},
   "outputs": [
    {
     "data": {
      "text/plain": [
       "(100000, 11)"
      ]
     },
     "execution_count": 5,
     "metadata": {},
     "output_type": "execute_result"
    }
   ],
   "source": [
    "X.shape"
   ]
  },
  {
   "cell_type": "code",
   "execution_count": 6,
   "id": "a810522a",
   "metadata": {},
   "outputs": [
    {
     "data": {
      "text/plain": [
       "(100000, 44)"
      ]
     },
     "execution_count": 6,
     "metadata": {},
     "output_type": "execute_result"
    }
   ],
   "source": [
    "y.shape"
   ]
  },
  {
   "cell_type": "code",
   "execution_count": 7,
   "id": "e0d7dfc9",
   "metadata": {},
   "outputs": [],
   "source": [
    "from sklearn.model_selection import train_test_split\n",
    "X1,X2,y_train,y_test = train_test_split(X,y,test_size = 0.1)"
   ]
  },
  {
   "cell_type": "code",
   "execution_count": 8,
   "id": "72c0fe51",
   "metadata": {},
   "outputs": [
    {
     "data": {
      "text/plain": [
       "array([30, 20, 60, 80, 90, 70, 80, 50, 40, 70, 50], dtype=int64)"
      ]
     },
     "execution_count": 8,
     "metadata": {},
     "output_type": "execute_result"
    }
   ],
   "source": [
    "X2[1]"
   ]
  },
  {
   "cell_type": "code",
   "execution_count": 9,
   "id": "75cf1df7",
   "metadata": {},
   "outputs": [
    {
     "data": {
      "text/plain": [
       "array([0, 1, 0, 0, 0, 1, 0, 0, 0, 0, 1, 1, 0, 0, 1, 0, 0, 0, 0, 1, 0, 0,\n",
       "       0, 1, 0, 0, 0, 1, 0, 1, 1, 1, 0, 1, 0, 1, 0, 0, 0, 1, 1, 1, 0, 0],\n",
       "      dtype=int64)"
      ]
     },
     "execution_count": 9,
     "metadata": {},
     "output_type": "execute_result"
    }
   ],
   "source": [
    "y_test[1]"
   ]
  },
  {
   "cell_type": "code",
   "execution_count": 10,
   "id": "a6a95eb2",
   "metadata": {},
   "outputs": [],
   "source": [
    "from sklearn.preprocessing import StandardScaler\n",
    "sc = StandardScaler()\n",
    "X_train = sc.fit_transform(X1)\n",
    "X_test= sc.fit_transform(X2)"
   ]
  },
  {
   "cell_type": "code",
   "execution_count": 11,
   "id": "7ea0aaf7",
   "metadata": {},
   "outputs": [
    {
     "data": {
      "text/plain": [
       "array([1, 0, 0, 1, 0, 0, 0, 0, 1, 0, 0, 0, 1, 0, 0, 0, 1, 0, 0, 0, 0, 1,\n",
       "       0, 1, 0, 0, 1, 0, 1, 0, 0, 1, 1, 0, 1, 0, 0, 0, 1, 0, 1, 1, 1, 0],\n",
       "      dtype=int64)"
      ]
     },
     "execution_count": 11,
     "metadata": {},
     "output_type": "execute_result"
    }
   ],
   "source": [
    "y_train[0]"
   ]
  },
  {
   "cell_type": "code",
   "execution_count": 12,
   "id": "ce578d21",
   "metadata": {},
   "outputs": [
    {
     "data": {
      "text/plain": [
       "array([30, 20, 60, 80, 90, 70, 80, 50, 40, 70, 50], dtype=int64)"
      ]
     },
     "execution_count": 12,
     "metadata": {},
     "output_type": "execute_result"
    }
   ],
   "source": [
    "X2[1,:]"
   ]
  },
  {
   "cell_type": "code",
   "execution_count": 13,
   "id": "9481c5aa",
   "metadata": {},
   "outputs": [],
   "source": [
    "#Dependencies\n",
    "import keras\n",
    "from keras.models import Sequential\n",
    "from keras.layers import Dense,Dropout\n",
    "# Neural network\n",
    "model = Sequential()\n",
    "model.add(Dense(256, input_dim=number_edges, activation=\"relu\"))\n",
    "model.add(Dense(256, activation=\"relu\"))\n",
    "model.add(Dense(number_steps*number_edges, activation=\"sigmoid\"))"
   ]
  },
  {
   "cell_type": "code",
   "execution_count": 14,
   "id": "78cac25e",
   "metadata": {},
   "outputs": [
    {
     "name": "stdout",
     "output_type": "stream",
     "text": [
      "Model: \"sequential\"\n",
      "_________________________________________________________________\n",
      " Layer (type)                Output Shape              Param #   \n",
      "=================================================================\n",
      " dense (Dense)               (None, 256)               3072      \n",
      "                                                                 \n",
      " dense_1 (Dense)             (None, 256)               65792     \n",
      "                                                                 \n",
      " dense_2 (Dense)             (None, 44)                11308     \n",
      "                                                                 \n",
      "=================================================================\n",
      "Total params: 80,172\n",
      "Trainable params: 80,172\n",
      "Non-trainable params: 0\n",
      "_________________________________________________________________\n"
     ]
    }
   ],
   "source": [
    "model.summary()"
   ]
  },
  {
   "cell_type": "code",
   "execution_count": 15,
   "id": "52646bd6",
   "metadata": {},
   "outputs": [],
   "source": [
    "model.compile(loss='BinaryCrossentropy', optimizer='adam')"
   ]
  },
  {
   "cell_type": "code",
   "execution_count": 16,
   "id": "14f80e09",
   "metadata": {},
   "outputs": [
    {
     "name": "stdout",
     "output_type": "stream",
     "text": [
      "Epoch 1/100\n",
      "1407/1407 [==============================] - 3s 2ms/step - loss: 0.3310\n",
      "Epoch 2/100\n",
      "1407/1407 [==============================] - 3s 2ms/step - loss: 0.2333\n",
      "Epoch 3/100\n",
      "1407/1407 [==============================] - 3s 2ms/step - loss: 0.1994\n",
      "Epoch 4/100\n",
      "1407/1407 [==============================] - 3s 2ms/step - loss: 0.1798\n",
      "Epoch 5/100\n",
      "1407/1407 [==============================] - 3s 2ms/step - loss: 0.1659\n",
      "Epoch 6/100\n",
      "1407/1407 [==============================] - 3s 2ms/step - loss: 0.1559\n",
      "Epoch 7/100\n",
      "1407/1407 [==============================] - 3s 2ms/step - loss: 0.1478\n",
      "Epoch 8/100\n",
      "1407/1407 [==============================] - 3s 2ms/step - loss: 0.1412\n",
      "Epoch 9/100\n",
      "1407/1407 [==============================] - 3s 2ms/step - loss: 0.1358\n",
      "Epoch 10/100\n",
      "1407/1407 [==============================] - 3s 2ms/step - loss: 0.1308\n",
      "Epoch 11/100\n",
      "1407/1407 [==============================] - 3s 2ms/step - loss: 0.1269\n",
      "Epoch 12/100\n",
      "1407/1407 [==============================] - 3s 2ms/step - loss: 0.1234\n",
      "Epoch 13/100\n",
      "1407/1407 [==============================] - 3s 2ms/step - loss: 0.1201\n",
      "Epoch 14/100\n",
      "1407/1407 [==============================] - 3s 2ms/step - loss: 0.1173\n",
      "Epoch 15/100\n",
      "1407/1407 [==============================] - 3s 2ms/step - loss: 0.1147\n",
      "Epoch 16/100\n",
      "1407/1407 [==============================] - 3s 2ms/step - loss: 0.1119\n",
      "Epoch 17/100\n",
      "1407/1407 [==============================] - 3s 2ms/step - loss: 0.1100\n",
      "Epoch 18/100\n",
      "1407/1407 [==============================] - 3s 2ms/step - loss: 0.1081\n",
      "Epoch 19/100\n",
      "1407/1407 [==============================] - 3s 2ms/step - loss: 0.1055\n",
      "Epoch 20/100\n",
      "1407/1407 [==============================] - 3s 2ms/step - loss: 0.1041\n",
      "Epoch 21/100\n",
      "1407/1407 [==============================] - 3s 2ms/step - loss: 0.1026\n",
      "Epoch 22/100\n",
      "1407/1407 [==============================] - 3s 2ms/step - loss: 0.1009\n",
      "Epoch 23/100\n",
      "1407/1407 [==============================] - 3s 2ms/step - loss: 0.0995\n",
      "Epoch 24/100\n",
      "1407/1407 [==============================] - 3s 2ms/step - loss: 0.0979\n",
      "Epoch 25/100\n",
      "1407/1407 [==============================] - 3s 2ms/step - loss: 0.0964\n",
      "Epoch 26/100\n",
      "1407/1407 [==============================] - 3s 2ms/step - loss: 0.0957\n",
      "Epoch 27/100\n",
      "1407/1407 [==============================] - 3s 2ms/step - loss: 0.0943\n",
      "Epoch 28/100\n",
      "1407/1407 [==============================] - 3s 2ms/step - loss: 0.0929\n",
      "Epoch 29/100\n",
      "1407/1407 [==============================] - 3s 2ms/step - loss: 0.0917\n",
      "Epoch 30/100\n",
      "1407/1407 [==============================] - 3s 2ms/step - loss: 0.0909\n",
      "Epoch 31/100\n",
      "1407/1407 [==============================] - 3s 2ms/step - loss: 0.0898\n",
      "Epoch 32/100\n",
      "1407/1407 [==============================] - 3s 2ms/step - loss: 0.0890\n",
      "Epoch 33/100\n",
      "1407/1407 [==============================] - 3s 2ms/step - loss: 0.0880\n",
      "Epoch 34/100\n",
      "1407/1407 [==============================] - 3s 2ms/step - loss: 0.0870\n",
      "Epoch 35/100\n",
      "1407/1407 [==============================] - 3s 2ms/step - loss: 0.0862\n",
      "Epoch 36/100\n",
      "1407/1407 [==============================] - 3s 2ms/step - loss: 0.0853\n",
      "Epoch 37/100\n",
      "1407/1407 [==============================] - 3s 2ms/step - loss: 0.0844\n",
      "Epoch 38/100\n",
      "1407/1407 [==============================] - 3s 2ms/step - loss: 0.0835\n",
      "Epoch 39/100\n",
      "1407/1407 [==============================] - 3s 2ms/step - loss: 0.0825\n",
      "Epoch 40/100\n",
      "1407/1407 [==============================] - 3s 2ms/step - loss: 0.0821\n",
      "Epoch 41/100\n",
      "1407/1407 [==============================] - 3s 2ms/step - loss: 0.0813\n",
      "Epoch 42/100\n",
      "1407/1407 [==============================] - 3s 2ms/step - loss: 0.0805\n",
      "Epoch 43/100\n",
      "1407/1407 [==============================] - 3s 2ms/step - loss: 0.0799\n",
      "Epoch 44/100\n",
      "1407/1407 [==============================] - 3s 2ms/step - loss: 0.0791\n",
      "Epoch 45/100\n",
      "1407/1407 [==============================] - 3s 2ms/step - loss: 0.0787\n",
      "Epoch 46/100\n",
      "1407/1407 [==============================] - 3s 2ms/step - loss: 0.0778\n",
      "Epoch 47/100\n",
      "1407/1407 [==============================] - 3s 2ms/step - loss: 0.0775\n",
      "Epoch 48/100\n",
      "1407/1407 [==============================] - 3s 2ms/step - loss: 0.0767\n",
      "Epoch 49/100\n",
      "1407/1407 [==============================] - 2s 2ms/step - loss: 0.0761\n",
      "Epoch 50/100\n",
      "1407/1407 [==============================] - 2s 2ms/step - loss: 0.0755\n",
      "Epoch 51/100\n",
      "1407/1407 [==============================] - 2s 2ms/step - loss: 0.0751\n",
      "Epoch 52/100\n",
      "1407/1407 [==============================] - 2s 2ms/step - loss: 0.0748\n",
      "Epoch 53/100\n",
      "1407/1407 [==============================] - 2s 2ms/step - loss: 0.0739\n",
      "Epoch 54/100\n",
      "1407/1407 [==============================] - 2s 2ms/step - loss: 0.0732\n",
      "Epoch 55/100\n",
      "1407/1407 [==============================] - 2s 2ms/step - loss: 0.0730\n",
      "Epoch 56/100\n",
      "1407/1407 [==============================] - 2s 2ms/step - loss: 0.0722\n",
      "Epoch 57/100\n",
      "1407/1407 [==============================] - 2s 2ms/step - loss: 0.0720\n",
      "Epoch 58/100\n",
      "1407/1407 [==============================] - 2s 2ms/step - loss: 0.0714\n",
      "Epoch 59/100\n",
      "1407/1407 [==============================] - 3s 2ms/step - loss: 0.0707\n",
      "Epoch 60/100\n",
      "1407/1407 [==============================] - 2s 2ms/step - loss: 0.0703\n",
      "Epoch 61/100\n",
      "1407/1407 [==============================] - 2s 2ms/step - loss: 0.0699\n",
      "Epoch 62/100\n",
      "1407/1407 [==============================] - 2s 2ms/step - loss: 0.0698\n",
      "Epoch 63/100\n",
      "1407/1407 [==============================] - 2s 2ms/step - loss: 0.0690\n",
      "Epoch 64/100\n",
      "1407/1407 [==============================] - 2s 2ms/step - loss: 0.0689\n",
      "Epoch 65/100\n",
      "1407/1407 [==============================] - 2s 2ms/step - loss: 0.0686\n",
      "Epoch 66/100\n",
      "1407/1407 [==============================] - 2s 2ms/step - loss: 0.0684\n",
      "Epoch 67/100\n",
      "1407/1407 [==============================] - 3s 2ms/step - loss: 0.0677\n",
      "Epoch 68/100\n",
      "1407/1407 [==============================] - 2s 2ms/step - loss: 0.0670\n",
      "Epoch 69/100\n",
      "1407/1407 [==============================] - 2s 2ms/step - loss: 0.0667\n",
      "Epoch 70/100\n",
      "1407/1407 [==============================] - 3s 2ms/step - loss: 0.0659\n",
      "Epoch 71/100\n",
      "1407/1407 [==============================] - 2s 2ms/step - loss: 0.0662\n",
      "Epoch 72/100\n",
      "1407/1407 [==============================] - 2s 2ms/step - loss: 0.0656\n",
      "Epoch 73/100\n",
      "1407/1407 [==============================] - 2s 2ms/step - loss: 0.0651\n",
      "Epoch 74/100\n",
      "1407/1407 [==============================] - 2s 2ms/step - loss: 0.0646\n",
      "Epoch 75/100\n",
      "1407/1407 [==============================] - 2s 2ms/step - loss: 0.0647\n",
      "Epoch 76/100\n",
      "1407/1407 [==============================] - 2s 2ms/step - loss: 0.0644\n",
      "Epoch 77/100\n",
      "1407/1407 [==============================] - 2s 2ms/step - loss: 0.0638\n",
      "Epoch 78/100\n",
      "1407/1407 [==============================] - 2s 2ms/step - loss: 0.0634\n",
      "Epoch 79/100\n",
      "1407/1407 [==============================] - 2s 2ms/step - loss: 0.0630\n",
      "Epoch 80/100\n",
      "1407/1407 [==============================] - 2s 2ms/step - loss: 0.0627\n",
      "Epoch 81/100\n",
      "1407/1407 [==============================] - 2s 2ms/step - loss: 0.0622\n",
      "Epoch 82/100\n",
      "1407/1407 [==============================] - 2s 2ms/step - loss: 0.0619\n",
      "Epoch 83/100\n",
      "1407/1407 [==============================] - 2s 2ms/step - loss: 0.0619\n",
      "Epoch 84/100\n",
      "1407/1407 [==============================] - 2s 2ms/step - loss: 0.0612\n",
      "Epoch 85/100\n",
      "1407/1407 [==============================] - 2s 2ms/step - loss: 0.0611\n",
      "Epoch 86/100\n",
      "1407/1407 [==============================] - 2s 2ms/step - loss: 0.0607\n",
      "Epoch 87/100\n",
      "1407/1407 [==============================] - 2s 2ms/step - loss: 0.0604\n",
      "Epoch 88/100\n",
      "1407/1407 [==============================] - 2s 2ms/step - loss: 0.0600\n",
      "Epoch 89/100\n",
      "1407/1407 [==============================] - 2s 2ms/step - loss: 0.0598\n",
      "Epoch 90/100\n",
      "1407/1407 [==============================] - 2s 2ms/step - loss: 0.0600\n",
      "Epoch 91/100\n",
      "1407/1407 [==============================] - 2s 2ms/step - loss: 0.0593\n",
      "Epoch 92/100\n",
      "1407/1407 [==============================] - 2s 2ms/step - loss: 0.0587\n",
      "Epoch 93/100\n",
      "1407/1407 [==============================] - 2s 2ms/step - loss: 0.0587\n",
      "Epoch 94/100\n",
      "1407/1407 [==============================] - 2s 2ms/step - loss: 0.0588\n",
      "Epoch 95/100\n",
      "1407/1407 [==============================] - 2s 2ms/step - loss: 0.0583\n",
      "Epoch 96/100\n",
      "1407/1407 [==============================] - 2s 2ms/step - loss: 0.0577\n",
      "Epoch 97/100\n"
     ]
    },
    {
     "name": "stdout",
     "output_type": "stream",
     "text": [
      "1407/1407 [==============================] - 2s 2ms/step - loss: 0.0578\n",
      "Epoch 98/100\n",
      "1407/1407 [==============================] - 3s 2ms/step - loss: 0.0574\n",
      "Epoch 99/100\n",
      "1407/1407 [==============================] - 2s 2ms/step - loss: 0.0572\n",
      "Epoch 100/100\n",
      "1407/1407 [==============================] - 2s 2ms/step - loss: 0.0565\n"
     ]
    },
    {
     "data": {
      "text/plain": [
       "<keras.callbacks.History at 0x1d303ed6be0>"
      ]
     },
     "execution_count": 16,
     "metadata": {},
     "output_type": "execute_result"
    }
   ],
   "source": [
    "model.fit(X_train, y_train, epochs=100, batch_size=64)"
   ]
  },
  {
   "cell_type": "code",
   "execution_count": 17,
   "id": "31eb413d",
   "metadata": {},
   "outputs": [
    {
     "data": {
      "text/plain": [
       "3"
      ]
     },
     "execution_count": 17,
     "metadata": {},
     "output_type": "execute_result"
    }
   ],
   "source": [
    "len(model.layers)"
   ]
  },
  {
   "cell_type": "code",
   "execution_count": 18,
   "id": "2e5a66d7",
   "metadata": {},
   "outputs": [
    {
     "name": "stdout",
     "output_type": "stream",
     "text": [
      "2813/2813 [==============================] - 3s 1ms/step\n"
     ]
    }
   ],
   "source": [
    "pred=model.predict(X_train)"
   ]
  },
  {
   "cell_type": "code",
   "execution_count": 19,
   "id": "5a0fafbc",
   "metadata": {},
   "outputs": [
    {
     "data": {
      "text/plain": [
       "(90000, 44)"
      ]
     },
     "execution_count": 19,
     "metadata": {},
     "output_type": "execute_result"
    }
   ],
   "source": [
    "pred.shape"
   ]
  },
  {
   "cell_type": "code",
   "execution_count": 20,
   "id": "457ea9c2",
   "metadata": {},
   "outputs": [],
   "source": [
    "y_train_2 = np.reshape(y_train,(y_train.shape[0], number_steps, number_edges))"
   ]
  },
  {
   "cell_type": "code",
   "execution_count": 21,
   "id": "9a7c9a89",
   "metadata": {},
   "outputs": [
    {
     "data": {
      "text/plain": [
       "(90000, 4, 11)"
      ]
     },
     "execution_count": 21,
     "metadata": {},
     "output_type": "execute_result"
    }
   ],
   "source": [
    "y_train_2.shape"
   ]
  },
  {
   "cell_type": "code",
   "execution_count": 22,
   "id": "498ef561",
   "metadata": {},
   "outputs": [],
   "source": [
    "pred = np.reshape(pred,(pred.shape[0], number_steps, number_edges))"
   ]
  },
  {
   "cell_type": "code",
   "execution_count": 23,
   "id": "6d1b1859",
   "metadata": {},
   "outputs": [
    {
     "data": {
      "text/plain": [
       "array([[1.00000000e+00, 0.00000000e+00, 0.00000000e+00, 1.00000000e+00,\n",
       "        0.00000000e+00, 7.48834169e-38, 0.00000000e+00, 0.00000000e+00,\n",
       "        1.00000000e+00, 0.00000000e+00, 3.54312192e-35],\n",
       "       [2.08717521e-18, 1.00000000e+00, 0.00000000e+00, 2.37860044e-15,\n",
       "        8.68379646e-34, 1.00000000e+00, 0.00000000e+00, 0.00000000e+00,\n",
       "        8.22406850e-19, 0.00000000e+00, 1.00000000e+00],\n",
       "       [2.44776110e-08, 1.00000000e+00, 1.18226936e-07, 6.21325356e-08,\n",
       "        9.95813072e-01, 4.91354056e-03, 9.99908805e-01, 6.93278313e-02,\n",
       "        9.15567577e-02, 9.99987602e-01, 9.07983005e-01],\n",
       "       [2.11808674e-05, 9.99979556e-01, 1.02367976e-05, 1.26179145e-03,\n",
       "        5.78261986e-02, 9.62252200e-01, 2.31817588e-02, 8.91174853e-01,\n",
       "        9.09329772e-01, 9.99918580e-01, 9.55360159e-02]], dtype=float32)"
      ]
     },
     "execution_count": 23,
     "metadata": {},
     "output_type": "execute_result"
    }
   ],
   "source": [
    "pred[0]"
   ]
  },
  {
   "cell_type": "code",
   "execution_count": 24,
   "id": "95838411",
   "metadata": {},
   "outputs": [],
   "source": [
    "import copy\n",
    "def cost_path(x,y):\n",
    "    cost = 0\n",
    "    path = []\n",
    "    for i in range(number_edges):\n",
    "        if y[i]==1:\n",
    "            path.append(edges[i])\n",
    "            cost+= x[i]\n",
    "    if(len(path)!=0):\n",
    "        path_2 = copy.deepcopy(path)\n",
    "        path_nodes = [start_node]\n",
    "        if(path[0][0]!=start_node):\n",
    "            cost = 0\n",
    "        else:\n",
    "            path_nodes.append(path[0][1])\n",
    "            del path_2[0]\n",
    "            condition = True\n",
    "            while(len(path_2)!=0 and condition):\n",
    "                condition = False\n",
    "                for i in range(len(path_2)):\n",
    "                    if(path_nodes[-1] in path_2[i]):\n",
    "                        path_2[i].remove(path_nodes[-1])\n",
    "                        path_nodes.append(path_2[i][0])\n",
    "                        path_2.pop(i)\n",
    "                        condition = True\n",
    "                        break\n",
    "        if(path_nodes[-1]!=end_node or len(path_2)!=0):\n",
    "            cost = 0\n",
    "    else:\n",
    "        cost = 0\n",
    "    return cost"
   ]
  },
  {
   "cell_type": "code",
   "execution_count": 25,
   "id": "b0fbc804",
   "metadata": {},
   "outputs": [
    {
     "data": {
      "text/plain": [
       "120"
      ]
     },
     "execution_count": 25,
     "metadata": {},
     "output_type": "execute_result"
    }
   ],
   "source": [
    "cost_path(X1[1],y_train[1])"
   ]
  },
  {
   "cell_type": "code",
   "execution_count": 26,
   "id": "9703501f",
   "metadata": {},
   "outputs": [
    {
     "data": {
      "text/plain": [
       "array([99.67, 95.85, 87.55, 71.98, 65.87])"
      ]
     },
     "execution_count": 26,
     "metadata": {},
     "output_type": "execute_result"
    }
   ],
   "source": [
    "accuracy = np.zeros(number_steps+1)\n",
    "for i in range(pred.shape[0]):\n",
    "    condition_1 = True\n",
    "    for t in range(number_steps):\n",
    "        output = copy.deepcopy(pred[i][t])\n",
    "        condition_2 = True\n",
    "        for j in range(len(output)):\n",
    "            output[j] = round(output[j])\n",
    "        if(cost_path(X1[i],output) != cost_path(X1[i],y_train_2[i][t])):\n",
    "            condition_2 = False\n",
    "            condition_1 = False\n",
    "        if condition_2:\n",
    "            accuracy[t] += 1\n",
    "    if condition_1:\n",
    "        accuracy[number_steps] += 1\n",
    "accuracy = np.round(accuracy / pred.shape[0] * 100,2)\n",
    "accuracy"
   ]
  },
  {
   "cell_type": "code",
   "execution_count": 27,
   "id": "3f7012a5",
   "metadata": {},
   "outputs": [
    {
     "name": "stdout",
     "output_type": "stream",
     "text": [
      "313/313 [==============================] - 0s 1ms/step\n"
     ]
    }
   ],
   "source": [
    "pred_test=model.predict(X_test)"
   ]
  },
  {
   "cell_type": "code",
   "execution_count": 28,
   "id": "ae08dd4f",
   "metadata": {},
   "outputs": [
    {
     "data": {
      "text/plain": [
       "(10000, 4, 11)"
      ]
     },
     "execution_count": 28,
     "metadata": {},
     "output_type": "execute_result"
    }
   ],
   "source": [
    "y_test_2 = np.reshape(y_test,(y_test.shape[0], number_steps, number_edges))\n",
    "y_test_2.shape"
   ]
  },
  {
   "cell_type": "code",
   "execution_count": 29,
   "id": "5b0ece4f",
   "metadata": {},
   "outputs": [],
   "source": [
    "pred_test = np.reshape(pred_test,(pred_test.shape[0], number_steps, number_edges))"
   ]
  },
  {
   "cell_type": "code",
   "execution_count": 30,
   "id": "a59247fc",
   "metadata": {},
   "outputs": [
    {
     "data": {
      "text/plain": [
       "array([99.16, 94.1 , 84.76, 68.52, 61.74])"
      ]
     },
     "execution_count": 30,
     "metadata": {},
     "output_type": "execute_result"
    }
   ],
   "source": [
    "accuracy_test = np.zeros(number_steps+1)\n",
    "for i in range(pred_test.shape[0]):\n",
    "    condition_1 = True\n",
    "    for t in range(number_steps):\n",
    "        output = copy.deepcopy(pred_test[i][t])\n",
    "        condition_2 = True\n",
    "        for j in range(len(output)):\n",
    "            output[j] = round(output[j])\n",
    "        if(cost_path(X1[i],output) != cost_path(X1[i],y_test_2[i][t])):\n",
    "            condition_2 = False\n",
    "            condition_1 = False\n",
    "        if condition_2:\n",
    "            accuracy_test[t] += 1\n",
    "    if condition_1:\n",
    "        accuracy_test[number_steps] += 1\n",
    "accuracy_test = np.round(accuracy_test / pred_test.shape[0] * 100,2)\n",
    "accuracy_test"
   ]
  },
  {
   "cell_type": "code",
   "execution_count": 31,
   "id": "6868df3a",
   "metadata": {},
   "outputs": [
    {
     "name": "stdout",
     "output_type": "stream",
     "text": [
      "Model: \"sequential\"\n",
      "_________________________________________________________________\n",
      " Layer (type)                Output Shape              Param #   \n",
      "=================================================================\n",
      " dense (Dense)               (None, 256)               3072      \n",
      "                                                                 \n",
      " dense_1 (Dense)             (None, 256)               65792     \n",
      "                                                                 \n",
      " dense_2 (Dense)             (None, 44)                11308     \n",
      "                                                                 \n",
      "=================================================================\n",
      "Total params: 80,172\n",
      "Trainable params: 80,172\n",
      "Non-trainable params: 0\n",
      "_________________________________________________________________\n",
      "[99.67 95.85 87.55 71.98 65.87]\n",
      "[99.16 94.1  84.76 68.52 61.74]\n"
     ]
    }
   ],
   "source": [
    "model.summary()\n",
    "print(accuracy)\n",
    "print(accuracy_test)"
   ]
  },
  {
   "cell_type": "code",
   "execution_count": null,
   "id": "e3697062",
   "metadata": {},
   "outputs": [],
   "source": []
  }
 ],
 "metadata": {
  "kernelspec": {
   "display_name": "Python 3 (ipykernel)",
   "language": "python",
   "name": "python3"
  },
  "language_info": {
   "codemirror_mode": {
    "name": "ipython",
    "version": 3
   },
   "file_extension": ".py",
   "mimetype": "text/x-python",
   "name": "python",
   "nbconvert_exporter": "python",
   "pygments_lexer": "ipython3",
   "version": "3.8.10"
  }
 },
 "nbformat": 4,
 "nbformat_minor": 5
}
