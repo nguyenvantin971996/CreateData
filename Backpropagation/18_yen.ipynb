{
 "cells": [
  {
   "cell_type": "code",
   "execution_count": 1,
   "id": "6e0b208e",
   "metadata": {},
   "outputs": [
    {
     "data": {
      "text/html": [
       "<div>\n",
       "<style scoped>\n",
       "    .dataframe tbody tr th:only-of-type {\n",
       "        vertical-align: middle;\n",
       "    }\n",
       "\n",
       "    .dataframe tbody tr th {\n",
       "        vertical-align: top;\n",
       "    }\n",
       "\n",
       "    .dataframe thead th {\n",
       "        text-align: right;\n",
       "    }\n",
       "</style>\n",
       "<table border=\"1\" class=\"dataframe\">\n",
       "  <thead>\n",
       "    <tr style=\"text-align: right;\">\n",
       "      <th></th>\n",
       "      <th>X(1, 2)</th>\n",
       "      <th>X(1, 3)</th>\n",
       "      <th>X(1, 4)</th>\n",
       "      <th>X(2, 4)</th>\n",
       "      <th>X(2, 5)</th>\n",
       "      <th>X(3, 4)</th>\n",
       "      <th>X(3, 7)</th>\n",
       "      <th>X(4, 5)</th>\n",
       "      <th>X(4, 6)</th>\n",
       "      <th>X(4, 7)</th>\n",
       "      <th>...</th>\n",
       "      <th>Y4(5, 9)</th>\n",
       "      <th>Y4(6, 7)</th>\n",
       "      <th>Y4(6, 8)</th>\n",
       "      <th>Y4(7, 8)</th>\n",
       "      <th>Y4(7, 9)</th>\n",
       "      <th>Y4(8, 9)</th>\n",
       "      <th>Y1</th>\n",
       "      <th>Y2</th>\n",
       "      <th>Y3</th>\n",
       "      <th>Y4</th>\n",
       "    </tr>\n",
       "  </thead>\n",
       "  <tbody>\n",
       "    <tr>\n",
       "      <th>0</th>\n",
       "      <td>30</td>\n",
       "      <td>70</td>\n",
       "      <td>70</td>\n",
       "      <td>10</td>\n",
       "      <td>90</td>\n",
       "      <td>10</td>\n",
       "      <td>60</td>\n",
       "      <td>60</td>\n",
       "      <td>90</td>\n",
       "      <td>30</td>\n",
       "      <td>...</td>\n",
       "      <td>0</td>\n",
       "      <td>0</td>\n",
       "      <td>0</td>\n",
       "      <td>0</td>\n",
       "      <td>1</td>\n",
       "      <td>0</td>\n",
       "      <td>147714</td>\n",
       "      <td>33026</td>\n",
       "      <td>153602</td>\n",
       "      <td>69890</td>\n",
       "    </tr>\n",
       "    <tr>\n",
       "      <th>1</th>\n",
       "      <td>10</td>\n",
       "      <td>80</td>\n",
       "      <td>30</td>\n",
       "      <td>10</td>\n",
       "      <td>80</td>\n",
       "      <td>30</td>\n",
       "      <td>20</td>\n",
       "      <td>50</td>\n",
       "      <td>30</td>\n",
       "      <td>70</td>\n",
       "      <td>...</td>\n",
       "      <td>0</td>\n",
       "      <td>0</td>\n",
       "      <td>1</td>\n",
       "      <td>0</td>\n",
       "      <td>0</td>\n",
       "      <td>1</td>\n",
       "      <td>147977</td>\n",
       "      <td>153602</td>\n",
       "      <td>147982</td>\n",
       "      <td>33289</td>\n",
       "    </tr>\n",
       "    <tr>\n",
       "      <th>2</th>\n",
       "      <td>90</td>\n",
       "      <td>40</td>\n",
       "      <td>30</td>\n",
       "      <td>10</td>\n",
       "      <td>70</td>\n",
       "      <td>60</td>\n",
       "      <td>30</td>\n",
       "      <td>10</td>\n",
       "      <td>40</td>\n",
       "      <td>50</td>\n",
       "      <td>...</td>\n",
       "      <td>1</td>\n",
       "      <td>0</td>\n",
       "      <td>0</td>\n",
       "      <td>0</td>\n",
       "      <td>0</td>\n",
       "      <td>0</td>\n",
       "      <td>33824</td>\n",
       "      <td>33857</td>\n",
       "      <td>70688</td>\n",
       "      <td>57376</td>\n",
       "    </tr>\n",
       "    <tr>\n",
       "      <th>3</th>\n",
       "      <td>30</td>\n",
       "      <td>40</td>\n",
       "      <td>90</td>\n",
       "      <td>20</td>\n",
       "      <td>50</td>\n",
       "      <td>20</td>\n",
       "      <td>10</td>\n",
       "      <td>50</td>\n",
       "      <td>10</td>\n",
       "      <td>80</td>\n",
       "      <td>...</td>\n",
       "      <td>1</td>\n",
       "      <td>0</td>\n",
       "      <td>0</td>\n",
       "      <td>0</td>\n",
       "      <td>0</td>\n",
       "      <td>0</td>\n",
       "      <td>67586</td>\n",
       "      <td>139296</td>\n",
       "      <td>153602</td>\n",
       "      <td>148512</td>\n",
       "    </tr>\n",
       "    <tr>\n",
       "      <th>4</th>\n",
       "      <td>20</td>\n",
       "      <td>60</td>\n",
       "      <td>20</td>\n",
       "      <td>40</td>\n",
       "      <td>10</td>\n",
       "      <td>50</td>\n",
       "      <td>60</td>\n",
       "      <td>50</td>\n",
       "      <td>20</td>\n",
       "      <td>80</td>\n",
       "      <td>...</td>\n",
       "      <td>0</td>\n",
       "      <td>0</td>\n",
       "      <td>1</td>\n",
       "      <td>0</td>\n",
       "      <td>0</td>\n",
       "      <td>1</td>\n",
       "      <td>139296</td>\n",
       "      <td>33824</td>\n",
       "      <td>57376</td>\n",
       "      <td>33289</td>\n",
       "    </tr>\n",
       "  </tbody>\n",
       "</table>\n",
       "<p>5 rows × 94 columns</p>\n",
       "</div>"
      ],
      "text/plain": [
       "   X(1, 2)  X(1, 3)  X(1, 4)  X(2, 4)  X(2, 5)  X(3, 4)  X(3, 7)  X(4, 5)  \\\n",
       "0       30       70       70       10       90       10       60       60   \n",
       "1       10       80       30       10       80       30       20       50   \n",
       "2       90       40       30       10       70       60       30       10   \n",
       "3       30       40       90       20       50       20       10       50   \n",
       "4       20       60       20       40       10       50       60       50   \n",
       "\n",
       "   X(4, 6)  X(4, 7)  ...  Y4(5, 9)  Y4(6, 7)  Y4(6, 8)  Y4(7, 8)  Y4(7, 9)  \\\n",
       "0       90       30  ...         0         0         0         0         1   \n",
       "1       30       70  ...         0         0         1         0         0   \n",
       "2       40       50  ...         1         0         0         0         0   \n",
       "3       10       80  ...         1         0         0         0         0   \n",
       "4       20       80  ...         0         0         1         0         0   \n",
       "\n",
       "   Y4(8, 9)      Y1      Y2      Y3      Y4  \n",
       "0         0  147714   33026  153602   69890  \n",
       "1         1  147977  153602  147982   33289  \n",
       "2         0   33824   33857   70688   57376  \n",
       "3         0   67586  139296  153602  148512  \n",
       "4         1  139296   33824   57376   33289  \n",
       "\n",
       "[5 rows x 94 columns]"
      ]
     },
     "execution_count": 1,
     "metadata": {},
     "output_type": "execute_result"
    }
   ],
   "source": [
    "import numpy as np\n",
    "import pandas as pd\n",
    "#dataset import\n",
    "dataset = pd.read_csv(\"../Data/data_18_yen.csv\") #You need to change #directory accordingly\n",
    "dataset.head()"
   ]
  },
  {
   "cell_type": "code",
   "execution_count": 2,
   "id": "4e1ac1e9",
   "metadata": {},
   "outputs": [],
   "source": [
    "# t = 18\n",
    "# dataset[\"Y1\"] = (pow(2,t-1)*dataset.iloc[:,t]+pow(2,t-2)*dataset.iloc[:,t+1]+pow(2,t-3)*dataset.iloc[:,t+2]\n",
    "# +pow(2,t-4)*dataset.iloc[:,t+3]+pow(2,t-5)*dataset.iloc[:,t+4]+pow(2,t-6)*dataset.iloc[:,t+5]\n",
    "# +pow(2,t-7)*dataset.iloc[:,t+6]+pow(2,t-8)*dataset.iloc[:,t+7]+pow(2,t-9)*dataset.iloc[:,t+8]\n",
    "# +pow(2,t-10)*dataset.iloc[:,t+9]+pow(2,t-11)*dataset.iloc[:,t+10]+pow(2,t-12)*dataset.iloc[:,t+11]\n",
    "# +pow(2,t-13)*dataset.iloc[:,t+12]+pow(2,t-14)*dataset.iloc[:,t+13]+pow(2,t-15)*dataset.iloc[:,t+14]\n",
    "# +pow(2,t-16)*dataset.iloc[:,t+15]+pow(2,t-17)*dataset.iloc[:,t+16]+pow(2,t-18)*dataset.iloc[:,t+17])\n",
    "# dataset[\"Y1\"]"
   ]
  },
  {
   "cell_type": "code",
   "execution_count": 3,
   "id": "5074a771",
   "metadata": {},
   "outputs": [],
   "source": [
    "# t = 36\n",
    "# t1 = 18\n",
    "# dataset[\"Y2\"] = (pow(2,t1-1)*dataset.iloc[:,t]+pow(2,t1-2)*dataset.iloc[:,t+1]+pow(2,t1-3)*dataset.iloc[:,t+2]\n",
    "# +pow(2,t1-4)*dataset.iloc[:,t+3]+pow(2,t1-5)*dataset.iloc[:,t+4]+pow(2,t1-6)*dataset.iloc[:,t+5]\n",
    "# +pow(2,t1-7)*dataset.iloc[:,t+6]+pow(2,t1-8)*dataset.iloc[:,t+7]+pow(2,t1-9)*dataset.iloc[:,t+8]\n",
    "# +pow(2,t1-10)*dataset.iloc[:,t+9]+pow(2,t1-11)*dataset.iloc[:,t+10]+pow(2,t1-12)*dataset.iloc[:,t+11]\n",
    "# +pow(2,t1-13)*dataset.iloc[:,t+12]+pow(2,t1-14)*dataset.iloc[:,t+13]+pow(2,t1-15)*dataset.iloc[:,t+14]\n",
    "# +pow(2,t1-16)*dataset.iloc[:,t+15]+pow(2,t1-17)*dataset.iloc[:,t+16]+pow(2,t1-18)*dataset.iloc[:,t+17])\n",
    "# dataset[\"Y2\"]"
   ]
  },
  {
   "cell_type": "code",
   "execution_count": 4,
   "id": "470079e7",
   "metadata": {},
   "outputs": [],
   "source": [
    "# t = 54\n",
    "# t1 = 18\n",
    "# dataset[\"Y3\"] = (pow(2,t1-1)*dataset.iloc[:,t]+pow(2,t1-2)*dataset.iloc[:,t+1]+pow(2,t1-3)*dataset.iloc[:,t+2]\n",
    "# +pow(2,t1-4)*dataset.iloc[:,t+3]+pow(2,t1-5)*dataset.iloc[:,t+4]+pow(2,t1-6)*dataset.iloc[:,t+5]\n",
    "# +pow(2,t1-7)*dataset.iloc[:,t+6]+pow(2,t1-8)*dataset.iloc[:,t+7]+pow(2,t1-9)*dataset.iloc[:,t+8]\n",
    "# +pow(2,t1-10)*dataset.iloc[:,t+9]+pow(2,t1-11)*dataset.iloc[:,t+10]+pow(2,t1-12)*dataset.iloc[:,t+11]\n",
    "# +pow(2,t1-13)*dataset.iloc[:,t+12]+pow(2,t1-14)*dataset.iloc[:,t+13]+pow(2,t1-15)*dataset.iloc[:,t+14]\n",
    "# +pow(2,t1-16)*dataset.iloc[:,t+15]+pow(2,t1-17)*dataset.iloc[:,t+16]+pow(2,t1-18)*dataset.iloc[:,t+17])\n",
    "# dataset[\"Y3\"]"
   ]
  },
  {
   "cell_type": "code",
   "execution_count": 5,
   "id": "b8d57f0d",
   "metadata": {},
   "outputs": [],
   "source": [
    "# t = 72\n",
    "# t1 = 18\n",
    "# dataset[\"Y4\"] = (pow(2,t1-1)*dataset.iloc[:,t]+pow(2,t1-2)*dataset.iloc[:,t+1]+pow(2,t1-3)*dataset.iloc[:,t+2]\n",
    "# +pow(2,t1-4)*dataset.iloc[:,t+3]+pow(2,t1-5)*dataset.iloc[:,t+4]+pow(2,t1-6)*dataset.iloc[:,t+5]\n",
    "# +pow(2,t1-7)*dataset.iloc[:,t+6]+pow(2,t1-8)*dataset.iloc[:,t+7]+pow(2,t1-9)*dataset.iloc[:,t+8]\n",
    "# +pow(2,t1-10)*dataset.iloc[:,t+9]+pow(2,t1-11)*dataset.iloc[:,t+10]+pow(2,t1-12)*dataset.iloc[:,t+11]\n",
    "# +pow(2,t1-13)*dataset.iloc[:,t+12]+pow(2,t1-14)*dataset.iloc[:,t+13]+pow(2,t1-15)*dataset.iloc[:,t+14]\n",
    "# +pow(2,t1-16)*dataset.iloc[:,t+15]+pow(2,t1-17)*dataset.iloc[:,t+16]+pow(2,t1-18)*dataset.iloc[:,t+17])\n",
    "# dataset[\"Y4\"]"
   ]
  },
  {
   "cell_type": "code",
   "execution_count": 6,
   "id": "4fc511a4",
   "metadata": {},
   "outputs": [],
   "source": [
    "X = dataset.iloc[:,:18].values\n",
    "y = dataset.iloc[:,18:90].values"
   ]
  },
  {
   "cell_type": "code",
   "execution_count": 7,
   "id": "9b16f10f",
   "metadata": {},
   "outputs": [
    {
     "data": {
      "text/plain": [
       "(200000, 18)"
      ]
     },
     "execution_count": 7,
     "metadata": {},
     "output_type": "execute_result"
    }
   ],
   "source": [
    "X.shape"
   ]
  },
  {
   "cell_type": "code",
   "execution_count": 8,
   "id": "b588da2e",
   "metadata": {},
   "outputs": [
    {
     "data": {
      "text/plain": [
       "(200000, 72)"
      ]
     },
     "execution_count": 8,
     "metadata": {},
     "output_type": "execute_result"
    }
   ],
   "source": [
    "y.shape"
   ]
  },
  {
   "cell_type": "code",
   "execution_count": 9,
   "id": "bbb4ea48",
   "metadata": {},
   "outputs": [
    {
     "data": {
      "text/plain": [
       "72"
      ]
     },
     "execution_count": 9,
     "metadata": {},
     "output_type": "execute_result"
    }
   ],
   "source": [
    "y[0].shape[0]"
   ]
  },
  {
   "cell_type": "code",
   "execution_count": 10,
   "id": "a6a95eb2",
   "metadata": {},
   "outputs": [],
   "source": [
    "from sklearn.preprocessing import StandardScaler\n",
    "sc = StandardScaler()\n",
    "X = sc.fit_transform(X)"
   ]
  },
  {
   "cell_type": "code",
   "execution_count": 11,
   "id": "a62cb901",
   "metadata": {},
   "outputs": [
    {
     "data": {
      "text/plain": [
       "array([-1.54856409e+00,  1.16335885e+00, -7.71235704e-01, -1.55127599e+00,\n",
       "        1.15961027e+00, -7.75380349e-01, -1.16593451e+00,  7.71184836e-04,\n",
       "       -7.72775321e-01,  7.75331179e-01,  1.54601773e+00, -7.75959711e-01,\n",
       "        1.16135131e+00, -3.85585178e-01, -1.54919761e+00, -1.54849659e+00,\n",
       "       -7.72386858e-01, -3.87602375e-01])"
      ]
     },
     "execution_count": 11,
     "metadata": {},
     "output_type": "execute_result"
    }
   ],
   "source": [
    "X[1,:]"
   ]
  },
  {
   "cell_type": "code",
   "execution_count": 12,
   "id": "6617a6fb",
   "metadata": {},
   "outputs": [
    {
     "data": {
      "text/plain": [
       "array([1, 0, 0, 1, 0, 0, 0, 0, 1, 0, 0, 0, 0, 0, 1, 0, 0, 1, 1, 0, 0, 1,\n",
       "       0, 1, 1, 0, 0, 0, 0, 0, 0, 0, 0, 0, 1, 0, 1, 0, 0, 1, 0, 0, 0, 0,\n",
       "       1, 0, 0, 0, 0, 0, 1, 1, 1, 0, 0, 0, 1, 0, 0, 0, 0, 0, 1, 0, 0, 0,\n",
       "       0, 0, 1, 0, 0, 1], dtype=int64)"
      ]
     },
     "execution_count": 12,
     "metadata": {},
     "output_type": "execute_result"
    }
   ],
   "source": [
    "y[1,:]"
   ]
  },
  {
   "cell_type": "code",
   "execution_count": 13,
   "id": "e0d7dfc9",
   "metadata": {},
   "outputs": [],
   "source": [
    "from sklearn.model_selection import train_test_split\n",
    "X_train,X_test,y_train,y_test = train_test_split(X,y,test_size = 0.1)"
   ]
  },
  {
   "cell_type": "code",
   "execution_count": 14,
   "id": "72c0fe51",
   "metadata": {},
   "outputs": [
    {
     "data": {
      "text/plain": [
       "array([-0.38667481, -0.77307134, -1.5449861 , -0.3873054 , -0.00358069,\n",
       "       -1.16294844, -1.55352897, -0.77428895, -1.16057554,  1.16260369,\n",
       "       -0.00386696, -1.55119651, -0.77507332,  0.77585677,  1.16398057,\n",
       "       -0.38561531, -1.1595055 , -0.38760238])"
      ]
     },
     "execution_count": 14,
     "metadata": {},
     "output_type": "execute_result"
    }
   ],
   "source": [
    "X_test[1,:]"
   ]
  },
  {
   "cell_type": "code",
   "execution_count": 15,
   "id": "75cf1df7",
   "metadata": {},
   "outputs": [
    {
     "data": {
      "text/plain": [
       "array([0, 1, 0, 0, 0, 0, 1, 0, 0, 0, 0, 0, 0, 0, 0, 0, 1, 0, 0, 0, 1, 0,\n",
       "       0, 1, 1, 0, 0, 0, 0, 0, 0, 0, 0, 0, 1, 0, 0, 0, 1, 0, 0, 0, 0, 1,\n",
       "       0, 0, 0, 0, 1, 0, 0, 0, 0, 0, 0, 0, 1, 0, 0, 0, 0, 1, 0, 0, 0, 1,\n",
       "       0, 0, 0, 0, 0, 1], dtype=int64)"
      ]
     },
     "execution_count": 15,
     "metadata": {},
     "output_type": "execute_result"
    }
   ],
   "source": [
    "y_test[1,:]"
   ]
  },
  {
   "cell_type": "code",
   "execution_count": 16,
   "id": "9481c5aa",
   "metadata": {},
   "outputs": [],
   "source": [
    "#Dependencies\n",
    "import keras\n",
    "from keras.models import Sequential\n",
    "from keras.layers import Dense,Dropout\n",
    "# Neural network\n",
    "model = Sequential()\n",
    "model.add(Dense(128, input_dim=18, activation=\"relu\"))\n",
    "model.add(Dropout(0.2))\n",
    "model.add(Dense(256, activation=\"relu\"))\n",
    "model.add(Dense(1024, activation=\"relu\"))\n",
    "model.add(Dropout(0.2))\n",
    "model.add(Dense(256, activation=\"relu\"))\n",
    "model.add(Dropout(0.2))\n",
    "model.add(Dense(72, activation=\"sigmoid\"))"
   ]
  },
  {
   "cell_type": "code",
   "execution_count": 17,
   "id": "52646bd6",
   "metadata": {},
   "outputs": [],
   "source": [
    "model.compile(loss='mse', optimizer='adam', metrics=['accuracy'])"
   ]
  },
  {
   "cell_type": "code",
   "execution_count": 18,
   "id": "14f80e09",
   "metadata": {},
   "outputs": [
    {
     "name": "stdout",
     "output_type": "stream",
     "text": [
      "Epoch 1/100\n",
      "2813/2813 [==============================] - 19s 7ms/step - loss: 0.0978 - accuracy: 0.3676\n",
      "Epoch 2/100\n",
      "2813/2813 [==============================] - 18s 7ms/step - loss: 0.0845 - accuracy: 0.3430\n",
      "Epoch 3/100\n",
      "2813/2813 [==============================] - 19s 7ms/step - loss: 0.0796 - accuracy: 0.3257\n",
      "Epoch 4/100\n",
      "2813/2813 [==============================] - 19s 7ms/step - loss: 0.0766 - accuracy: 0.3279\n",
      "Epoch 5/100\n",
      "2813/2813 [==============================] - 18s 7ms/step - loss: 0.0743 - accuracy: 0.3405\n",
      "Epoch 6/100\n",
      "2813/2813 [==============================] - 18s 7ms/step - loss: 0.0725 - accuracy: 0.3423\n",
      "Epoch 7/100\n",
      "2813/2813 [==============================] - 19s 7ms/step - loss: 0.0709 - accuracy: 0.3429\n",
      "Epoch 8/100\n",
      "2813/2813 [==============================] - 17s 6ms/step - loss: 0.0696 - accuracy: 0.3245\n",
      "Epoch 9/100\n",
      "2813/2813 [==============================] - 17s 6ms/step - loss: 0.0684 - accuracy: 0.3301\n",
      "Epoch 10/100\n",
      "2813/2813 [==============================] - 19s 7ms/step - loss: 0.0675 - accuracy: 0.3131\n",
      "Epoch 11/100\n",
      "2813/2813 [==============================] - 19s 7ms/step - loss: 0.0665 - accuracy: 0.3307\n",
      "Epoch 12/100\n",
      "2813/2813 [==============================] - 19s 7ms/step - loss: 0.0659 - accuracy: 0.3344\n",
      "Epoch 13/100\n",
      "2813/2813 [==============================] - 19s 7ms/step - loss: 0.0653 - accuracy: 0.3219\n",
      "Epoch 14/100\n",
      "2813/2813 [==============================] - 19s 7ms/step - loss: 0.0645 - accuracy: 0.3365\n",
      "Epoch 15/100\n",
      "2813/2813 [==============================] - 19s 7ms/step - loss: 0.0640 - accuracy: 0.3545\n",
      "Epoch 16/100\n",
      "2813/2813 [==============================] - 19s 7ms/step - loss: 0.0635 - accuracy: 0.3681\n",
      "Epoch 17/100\n",
      "2813/2813 [==============================] - 18s 7ms/step - loss: 0.0630 - accuracy: 0.3611\n",
      "Epoch 18/100\n",
      "2813/2813 [==============================] - 19s 7ms/step - loss: 0.0626 - accuracy: 0.3804\n",
      "Epoch 19/100\n",
      "2813/2813 [==============================] - 19s 7ms/step - loss: 0.0621 - accuracy: 0.3858\n",
      "Epoch 20/100\n",
      "2813/2813 [==============================] - 19s 7ms/step - loss: 0.0616 - accuracy: 0.3916\n",
      "Epoch 21/100\n",
      "2813/2813 [==============================] - 19s 7ms/step - loss: 0.0612 - accuracy: 0.3898\n",
      "Epoch 22/100\n",
      "2813/2813 [==============================] - 19s 7ms/step - loss: 0.0609 - accuracy: 0.3884\n",
      "Epoch 23/100\n",
      "2813/2813 [==============================] - 19s 7ms/step - loss: 0.0606 - accuracy: 0.3809\n",
      "Epoch 24/100\n",
      "2813/2813 [==============================] - 19s 7ms/step - loss: 0.0603 - accuracy: 0.3837\n",
      "Epoch 25/100\n",
      "2813/2813 [==============================] - 20s 7ms/step - loss: 0.0599 - accuracy: 0.3962\n",
      "Epoch 26/100\n",
      "2813/2813 [==============================] - 19s 7ms/step - loss: 0.0596 - accuracy: 0.4010\n",
      "Epoch 27/100\n",
      "2813/2813 [==============================] - 19s 7ms/step - loss: 0.0594 - accuracy: 0.4026\n",
      "Epoch 28/100\n",
      "2813/2813 [==============================] - 19s 7ms/step - loss: 0.0591 - accuracy: 0.4248\n",
      "Epoch 29/100\n",
      "2813/2813 [==============================] - 19s 7ms/step - loss: 0.0590 - accuracy: 0.4313\n",
      "Epoch 30/100\n",
      "2813/2813 [==============================] - 19s 7ms/step - loss: 0.0587 - accuracy: 0.4303\n",
      "Epoch 31/100\n",
      "2813/2813 [==============================] - 19s 7ms/step - loss: 0.0584 - accuracy: 0.4259\n",
      "Epoch 32/100\n",
      "2813/2813 [==============================] - 19s 7ms/step - loss: 0.0581 - accuracy: 0.4300\n",
      "Epoch 33/100\n",
      "2813/2813 [==============================] - 19s 7ms/step - loss: 0.0580 - accuracy: 0.4452\n",
      "Epoch 34/100\n",
      "2813/2813 [==============================] - 19s 7ms/step - loss: 0.0578 - accuracy: 0.4473\n",
      "Epoch 35/100\n",
      "2813/2813 [==============================] - 19s 7ms/step - loss: 0.0576 - accuracy: 0.4629\n",
      "Epoch 36/100\n",
      "2813/2813 [==============================] - 19s 7ms/step - loss: 0.0572 - accuracy: 0.4699\n",
      "Epoch 37/100\n",
      "2813/2813 [==============================] - 19s 7ms/step - loss: 0.0571 - accuracy: 0.4679\n",
      "Epoch 38/100\n",
      "2813/2813 [==============================] - 19s 7ms/step - loss: 0.0568 - accuracy: 0.4710\n",
      "Epoch 39/100\n",
      "2813/2813 [==============================] - 19s 7ms/step - loss: 0.0568 - accuracy: 0.4757\n",
      "Epoch 40/100\n",
      "2813/2813 [==============================] - 19s 7ms/step - loss: 0.0566 - accuracy: 0.4974\n",
      "Epoch 41/100\n",
      "2813/2813 [==============================] - 19s 7ms/step - loss: 0.0563 - accuracy: 0.5238\n",
      "Epoch 42/100\n",
      "2813/2813 [==============================] - 20s 7ms/step - loss: 0.0561 - accuracy: 0.5020\n",
      "Epoch 43/100\n",
      "2813/2813 [==============================] - 19s 7ms/step - loss: 0.0560 - accuracy: 0.5159\n",
      "Epoch 44/100\n",
      "2813/2813 [==============================] - 19s 7ms/step - loss: 0.0558 - accuracy: 0.5330\n",
      "Epoch 45/100\n",
      "2813/2813 [==============================] - 19s 7ms/step - loss: 0.0558 - accuracy: 0.5236\n",
      "Epoch 46/100\n",
      "2813/2813 [==============================] - 19s 7ms/step - loss: 0.0556 - accuracy: 0.5100\n",
      "Epoch 47/100\n",
      "2813/2813 [==============================] - 19s 7ms/step - loss: 0.0554 - accuracy: 0.5222\n",
      "Epoch 48/100\n",
      "2813/2813 [==============================] - 19s 7ms/step - loss: 0.0551 - accuracy: 0.5187\n",
      "Epoch 49/100\n",
      "2813/2813 [==============================] - 19s 7ms/step - loss: 0.0552 - accuracy: 0.5471\n",
      "Epoch 50/100\n",
      "2813/2813 [==============================] - 19s 7ms/step - loss: 0.0549 - accuracy: 0.5559\n",
      "Epoch 51/100\n",
      "2813/2813 [==============================] - 19s 7ms/step - loss: 0.0549 - accuracy: 0.5456\n",
      "Epoch 52/100\n",
      "2813/2813 [==============================] - 19s 7ms/step - loss: 0.0546 - accuracy: 0.5552\n",
      "Epoch 53/100\n",
      "2813/2813 [==============================] - 19s 7ms/step - loss: 0.0544 - accuracy: 0.5518\n",
      "Epoch 54/100\n",
      "2813/2813 [==============================] - 18s 7ms/step - loss: 0.0545 - accuracy: 0.5597\n",
      "Epoch 55/100\n",
      "2813/2813 [==============================] - 19s 7ms/step - loss: 0.0543 - accuracy: 0.5669\n",
      "Epoch 56/100\n",
      "2813/2813 [==============================] - 18s 7ms/step - loss: 0.0542 - accuracy: 0.5676\n",
      "Epoch 57/100\n",
      "2813/2813 [==============================] - 19s 7ms/step - loss: 0.0541 - accuracy: 0.5641\n",
      "Epoch 58/100\n",
      "2813/2813 [==============================] - 19s 7ms/step - loss: 0.0539 - accuracy: 0.5748\n",
      "Epoch 59/100\n",
      "2813/2813 [==============================] - 18s 7ms/step - loss: 0.0538 - accuracy: 0.5616\n",
      "Epoch 60/100\n",
      "2813/2813 [==============================] - 19s 7ms/step - loss: 0.0537 - accuracy: 0.5801\n",
      "Epoch 61/100\n",
      "2813/2813 [==============================] - 18s 7ms/step - loss: 0.0537 - accuracy: 0.5857\n",
      "Epoch 62/100\n",
      "2813/2813 [==============================] - 18s 7ms/step - loss: 0.0533 - accuracy: 0.6173\n",
      "Epoch 63/100\n",
      "2813/2813 [==============================] - 18s 7ms/step - loss: 0.0534 - accuracy: 0.6101\n",
      "Epoch 64/100\n",
      "2813/2813 [==============================] - 19s 7ms/step - loss: 0.0531 - accuracy: 0.6053\n",
      "Epoch 65/100\n",
      "2813/2813 [==============================] - 18s 7ms/step - loss: 0.0532 - accuracy: 0.6187\n",
      "Epoch 66/100\n",
      "2813/2813 [==============================] - 18s 7ms/step - loss: 0.0531 - accuracy: 0.6049\n",
      "Epoch 67/100\n",
      "2813/2813 [==============================] - 19s 7ms/step - loss: 0.0530 - accuracy: 0.6153\n",
      "Epoch 68/100\n",
      "2813/2813 [==============================] - 19s 7ms/step - loss: 0.0529 - accuracy: 0.6260\n",
      "Epoch 69/100\n",
      "2813/2813 [==============================] - 18s 7ms/step - loss: 0.0528 - accuracy: 0.6186\n",
      "Epoch 70/100\n",
      "2813/2813 [==============================] - 18s 7ms/step - loss: 0.0528 - accuracy: 0.6152\n",
      "Epoch 71/100\n",
      "2813/2813 [==============================] - 19s 7ms/step - loss: 0.0526 - accuracy: 0.6235\n",
      "Epoch 72/100\n",
      "2813/2813 [==============================] - 18s 7ms/step - loss: 0.0526 - accuracy: 0.6311\n",
      "Epoch 73/100\n",
      "2813/2813 [==============================] - 18s 7ms/step - loss: 0.0524 - accuracy: 0.6465\n",
      "Epoch 74/100\n",
      "2813/2813 [==============================] - 19s 7ms/step - loss: 0.0523 - accuracy: 0.6413\n",
      "Epoch 75/100\n",
      "2813/2813 [==============================] - 18s 7ms/step - loss: 0.0523 - accuracy: 0.6355\n",
      "Epoch 76/100\n",
      "2813/2813 [==============================] - 18s 7ms/step - loss: 0.0523 - accuracy: 0.6541\n",
      "Epoch 77/100\n",
      "2813/2813 [==============================] - 18s 7ms/step - loss: 0.0522 - accuracy: 0.6474\n",
      "Epoch 78/100\n"
     ]
    },
    {
     "name": "stdout",
     "output_type": "stream",
     "text": [
      "2813/2813 [==============================] - 18s 7ms/step - loss: 0.0521 - accuracy: 0.6617\n",
      "Epoch 79/100\n",
      "2813/2813 [==============================] - 18s 6ms/step - loss: 0.0519 - accuracy: 0.6691\n",
      "Epoch 80/100\n",
      "2813/2813 [==============================] - 18s 6ms/step - loss: 0.0520 - accuracy: 0.6694\n",
      "Epoch 81/100\n",
      "2813/2813 [==============================] - 18s 7ms/step - loss: 0.0520 - accuracy: 0.6572\n",
      "Epoch 82/100\n",
      "2813/2813 [==============================] - 18s 7ms/step - loss: 0.0518 - accuracy: 0.6642\n",
      "Epoch 83/100\n",
      "2813/2813 [==============================] - 18s 6ms/step - loss: 0.0517 - accuracy: 0.6674\n",
      "Epoch 84/100\n",
      "2813/2813 [==============================] - 18s 6ms/step - loss: 0.0517 - accuracy: 0.6711\n",
      "Epoch 85/100\n",
      "2813/2813 [==============================] - 18s 7ms/step - loss: 0.0516 - accuracy: 0.6796\n",
      "Epoch 86/100\n",
      "2813/2813 [==============================] - 18s 6ms/step - loss: 0.0516 - accuracy: 0.6790\n",
      "Epoch 87/100\n",
      "2813/2813 [==============================] - 18s 7ms/step - loss: 0.0514 - accuracy: 0.6770\n",
      "Epoch 88/100\n",
      "2813/2813 [==============================] - 19s 7ms/step - loss: 0.0515 - accuracy: 0.6849\n",
      "Epoch 89/100\n",
      "2813/2813 [==============================] - 24s 9ms/step - loss: 0.0514 - accuracy: 0.7060\n",
      "Epoch 90/100\n",
      "2813/2813 [==============================] - 23s 8ms/step - loss: 0.0513 - accuracy: 0.6986\n",
      "Epoch 91/100\n",
      "2813/2813 [==============================] - 22s 8ms/step - loss: 0.0513 - accuracy: 0.7027\n",
      "Epoch 92/100\n",
      "2813/2813 [==============================] - 24s 8ms/step - loss: 0.0513 - accuracy: 0.6973\n",
      "Epoch 93/100\n",
      "2813/2813 [==============================] - 23s 8ms/step - loss: 0.0513 - accuracy: 0.7015\n",
      "Epoch 94/100\n",
      "2813/2813 [==============================] - 24s 8ms/step - loss: 0.0512 - accuracy: 0.7069\n",
      "Epoch 95/100\n",
      "2813/2813 [==============================] - 21s 8ms/step - loss: 0.0510 - accuracy: 0.7069\n",
      "Epoch 96/100\n",
      "2813/2813 [==============================] - 19s 7ms/step - loss: 0.0511 - accuracy: 0.7064\n",
      "Epoch 97/100\n",
      "2813/2813 [==============================] - 19s 7ms/step - loss: 0.0511 - accuracy: 0.7191\n",
      "Epoch 98/100\n",
      "2813/2813 [==============================] - 19s 7ms/step - loss: 0.0510 - accuracy: 0.7053\n",
      "Epoch 99/100\n",
      "2813/2813 [==============================] - 19s 7ms/step - loss: 0.0507 - accuracy: 0.7048\n",
      "Epoch 100/100\n",
      "2813/2813 [==============================] - 20s 7ms/step - loss: 0.0509 - accuracy: 0.7091\n"
     ]
    },
    {
     "data": {
      "text/plain": [
       "<keras.callbacks.History at 0x15920680d60>"
      ]
     },
     "execution_count": 18,
     "metadata": {},
     "output_type": "execute_result"
    }
   ],
   "source": [
    "model.fit(X_train, y_train, epochs=100, batch_size=64)"
   ]
  },
  {
   "cell_type": "code",
   "execution_count": 19,
   "id": "33a57e47",
   "metadata": {},
   "outputs": [
    {
     "name": "stdout",
     "output_type": "stream",
     "text": [
      "625/625 [==============================] - 1s 2ms/step - loss: 0.0489 - accuracy: 0.7462\n"
     ]
    }
   ],
   "source": [
    "loss_and_metrics = model.evaluate(X_test, y_test)"
   ]
  },
  {
   "cell_type": "code",
   "execution_count": 20,
   "id": "ac70b6cb",
   "metadata": {},
   "outputs": [
    {
     "name": "stdout",
     "output_type": "stream",
     "text": [
      "5625/5625 [==============================] - 10s 2ms/step - loss: 0.0438 - accuracy: 0.7467\n"
     ]
    }
   ],
   "source": [
    "loss_and_metrics_2 = model.evaluate(X_train, y_train)"
   ]
  },
  {
   "cell_type": "code",
   "execution_count": 21,
   "id": "31eb413d",
   "metadata": {},
   "outputs": [
    {
     "data": {
      "text/plain": [
       "8"
      ]
     },
     "execution_count": 21,
     "metadata": {},
     "output_type": "execute_result"
    }
   ],
   "source": [
    "len(model.layers)"
   ]
  },
  {
   "cell_type": "code",
   "execution_count": 22,
   "id": "f72ca5a6",
   "metadata": {},
   "outputs": [
    {
     "data": {
      "text/plain": [
       "array([-7.73971238e-01,  1.16335885e+00,  3.89389885e-01,  6.84802700e-04,\n",
       "        1.15961027e+00,  1.55002819e+00, -3.15114293e-03,  1.55089146e+00,\n",
       "       -1.16057554e+00,  3.88058671e-01,  1.54601773e+00, -7.75959711e-01,\n",
       "       -1.16235825e+00,  1.55015141e+00,  1.16398057e+00,  1.16489306e+00,\n",
       "        1.55032500e+00, -3.13703824e-04])"
      ]
     },
     "execution_count": 22,
     "metadata": {},
     "output_type": "execute_result"
    }
   ],
   "source": [
    "X_train[0]"
   ]
  },
  {
   "cell_type": "code",
   "execution_count": 23,
   "id": "257cea90",
   "metadata": {},
   "outputs": [
    {
     "data": {
      "text/plain": [
       "array([[-1.16126766, -0.77307134,  0.38938989,  1.1646554 , -0.00358069,\n",
       "        -0.77538035, -1.16593451,  0.77583132, -0.77277532,  0.77533118,\n",
       "         0.38360421,  1.1621323 , -0.3877884 , -0.77273249,  0.77638369,\n",
       "         0.00201178,  0.38896907,  1.54884098]])"
      ]
     },
     "execution_count": 23,
     "metadata": {},
     "output_type": "execute_result"
    }
   ],
   "source": [
    "X_test[2].reshape(1,len(X_test[2]))"
   ]
  },
  {
   "cell_type": "code",
   "execution_count": 24,
   "id": "d1953160",
   "metadata": {},
   "outputs": [],
   "source": [
    "pr=model.predict(X_test[1:2,:])"
   ]
  },
  {
   "cell_type": "code",
   "execution_count": 25,
   "id": "1de87c25",
   "metadata": {},
   "outputs": [
    {
     "data": {
      "text/plain": [
       "array([[0.00000000e+00, 9.99711156e-01, 7.48008490e-04, 0.00000000e+00,\n",
       "        0.00000000e+00, 1.72009040e-05, 9.93503213e-01, 7.05635548e-03,\n",
       "        0.00000000e+00, 3.57663688e-20, 0.00000000e+00, 4.34191627e-10,\n",
       "        2.50524282e-03, 0.00000000e+00, 0.00000000e+00, 6.39520574e-23,\n",
       "        9.90082860e-01, 2.24783912e-18, 6.12636696e-17, 4.86777037e-01,\n",
       "        8.58916044e-01, 3.17955611e-31, 6.72378752e-14, 8.39084148e-01,\n",
       "        8.92377019e-01, 1.61233634e-01, 1.17564165e-33, 9.41847915e-08,\n",
       "        3.37563518e-37, 1.45885348e-03, 5.25960922e-02, 1.14680393e-21,\n",
       "        3.56331345e-30, 7.39822070e-08, 9.61729884e-01, 1.10120745e-05,\n",
       "        7.83743872e-06, 4.26428020e-02, 9.69470739e-01, 1.41847236e-08,\n",
       "        4.63122979e-06, 6.46185994e-01, 4.42971230e-01, 3.52908432e-01,\n",
       "        1.29273906e-06, 1.61725879e-02, 1.54013685e-06, 6.36595488e-03,\n",
       "        4.08874840e-01, 1.82796302e-05, 3.99373675e-06, 1.79802179e-02,\n",
       "        6.12428546e-01, 1.13237798e-02, 1.88276172e-03, 3.92497182e-02,\n",
       "        9.61977124e-01, 6.40183687e-04, 6.11001253e-03, 1.13383502e-01,\n",
       "        1.08601689e-01, 7.40507543e-01, 1.93643570e-03, 6.08769357e-02,\n",
       "        8.79436731e-04, 8.18574727e-01, 4.96115386e-02, 2.52604485e-03,\n",
       "        4.65229154e-03, 1.39925033e-01, 1.92026854e-01, 8.07480812e-01]],\n",
       "      dtype=float32)"
      ]
     },
     "execution_count": 25,
     "metadata": {},
     "output_type": "execute_result"
    }
   ],
   "source": [
    "pr"
   ]
  },
  {
   "cell_type": "code",
   "execution_count": 26,
   "id": "c16e6932",
   "metadata": {},
   "outputs": [
    {
     "data": {
      "text/plain": [
       "array([[0, 1, 0, 0, 0, 0, 1, 0, 0, 0, 0, 0, 0, 0, 0, 0, 1, 0, 0, 0, 1, 0,\n",
       "        0, 1, 1, 0, 0, 0, 0, 0, 0, 0, 0, 0, 1, 0, 0, 0, 1, 0, 0, 0, 0, 1,\n",
       "        0, 0, 0, 0, 1, 0, 0, 0, 0, 0, 0, 0, 1, 0, 0, 0, 0, 1, 0, 0, 0, 1,\n",
       "        0, 0, 0, 0, 0, 1]], dtype=int64)"
      ]
     },
     "execution_count": 26,
     "metadata": {},
     "output_type": "execute_result"
    }
   ],
   "source": [
    "y_test[1:2,:]"
   ]
  },
  {
   "cell_type": "code",
   "execution_count": 27,
   "id": "2e5a66d7",
   "metadata": {},
   "outputs": [],
   "source": [
    "pred=model.predict(X_train)"
   ]
  },
  {
   "cell_type": "code",
   "execution_count": 28,
   "id": "5a0fafbc",
   "metadata": {},
   "outputs": [
    {
     "data": {
      "text/plain": [
       "180000"
      ]
     },
     "execution_count": 28,
     "metadata": {},
     "output_type": "execute_result"
    }
   ],
   "source": [
    "pred.shape[0]"
   ]
  },
  {
   "cell_type": "code",
   "execution_count": 29,
   "id": "6d1b1859",
   "metadata": {},
   "outputs": [
    {
     "data": {
      "text/plain": [
       "array([1.0000000e+00, 0.0000000e+00, 6.3312077e-12, 8.4273812e-28,\n",
       "       1.0000000e+00, 0.0000000e+00, 0.0000000e+00, 1.5193414e-09,\n",
       "       0.0000000e+00, 0.0000000e+00, 0.0000000e+00, 2.6746520e-35,\n",
       "       1.0000000e+00, 0.0000000e+00, 0.0000000e+00, 0.0000000e+00,\n",
       "       1.1201331e-18, 6.4969648e-28, 7.0022511e-06, 3.8049057e-17,\n",
       "       9.9999571e-01, 2.3245127e-06, 5.1253996e-06, 0.0000000e+00,\n",
       "       2.7333355e-17, 9.9998957e-01, 2.3177073e-18, 5.1957585e-22,\n",
       "       3.3926093e-23, 4.8740494e-06, 9.9990082e-01, 2.5266007e-25,\n",
       "       2.3289145e-29, 5.9832650e-24, 1.8340439e-08, 5.1541359e-05,\n",
       "       9.8524845e-01, 3.0242888e-06, 1.8646866e-02, 9.3005991e-01,\n",
       "       1.4574242e-01, 5.8074942e-12, 9.6438418e-07, 8.6226356e-01,\n",
       "       5.7604909e-04, 2.0131713e-05, 5.1343441e-04, 1.4178243e-01,\n",
       "       9.3913120e-01, 4.8765811e-05, 3.3272492e-05, 3.0115247e-04,\n",
       "       2.3838878e-04, 8.3205312e-02, 8.2299972e-01, 1.3390481e-03,\n",
       "       3.2953545e-01, 1.6385874e-01, 8.1371665e-01, 4.4669778e-05,\n",
       "       6.3532591e-04, 3.7979811e-02, 7.6382220e-02, 5.7335198e-03,\n",
       "       4.9474746e-02, 6.9473821e-01, 3.4532785e-01, 3.5638511e-03,\n",
       "       1.1726111e-02, 1.5717924e-02, 9.7993612e-03, 5.9702104e-01],\n",
       "      dtype=float32)"
      ]
     },
     "execution_count": 29,
     "metadata": {},
     "output_type": "execute_result"
    }
   ],
   "source": [
    "pred[0]"
   ]
  },
  {
   "cell_type": "code",
   "execution_count": 30,
   "id": "c09ab3d6",
   "metadata": {},
   "outputs": [
    {
     "data": {
      "text/plain": [
       "array([0.0000000e+00, 0.0000000e+00, 6.3312077e-12, 8.4273812e-28,\n",
       "       1.0000000e+00, 0.0000000e+00, 0.0000000e+00, 1.5193414e-09,\n",
       "       0.0000000e+00, 0.0000000e+00, 0.0000000e+00, 2.6746520e-35,\n",
       "       1.0000000e+00, 0.0000000e+00, 0.0000000e+00, 0.0000000e+00,\n",
       "       1.1201331e-18, 6.4969648e-28, 7.0022511e-06, 3.8049057e-17,\n",
       "       9.9999571e-01, 2.3245127e-06, 5.1253996e-06, 0.0000000e+00,\n",
       "       2.7333355e-17, 9.9998957e-01, 2.3177073e-18, 5.1957585e-22,\n",
       "       3.3926093e-23, 4.8740494e-06, 9.9990082e-01, 2.5266007e-25,\n",
       "       2.3289145e-29, 5.9832650e-24, 1.8340439e-08, 5.1541359e-05,\n",
       "       9.8524845e-01, 3.0242888e-06, 1.8646866e-02, 9.3005991e-01,\n",
       "       1.4574242e-01, 5.8074942e-12, 9.6438418e-07, 8.6226356e-01,\n",
       "       5.7604909e-04, 2.0131713e-05, 5.1343441e-04, 1.4178243e-01,\n",
       "       9.3913120e-01, 4.8765811e-05, 3.3272492e-05, 3.0115247e-04,\n",
       "       2.3838878e-04, 8.3205312e-02, 8.2299972e-01, 1.3390481e-03,\n",
       "       3.2953545e-01, 1.6385874e-01, 8.1371665e-01, 4.4669778e-05,\n",
       "       6.3532591e-04, 3.7979811e-02, 7.6382220e-02, 5.7335198e-03,\n",
       "       4.9474746e-02, 6.9473821e-01, 3.4532785e-01, 3.5638511e-03,\n",
       "       1.1726111e-02, 1.5717924e-02, 9.7993612e-03, 5.9702104e-01],\n",
       "      dtype=float32)"
      ]
     },
     "execution_count": 30,
     "metadata": {},
     "output_type": "execute_result"
    }
   ],
   "source": [
    "t = pred[0].copy()\n",
    "t[0] = 0\n",
    "t"
   ]
  },
  {
   "cell_type": "code",
   "execution_count": 31,
   "id": "e64096d9",
   "metadata": {},
   "outputs": [
    {
     "data": {
      "text/plain": [
       "array([1.0000000e+00, 0.0000000e+00, 6.3312077e-12, 8.4273812e-28,\n",
       "       1.0000000e+00, 0.0000000e+00, 0.0000000e+00, 1.5193414e-09,\n",
       "       0.0000000e+00, 0.0000000e+00, 0.0000000e+00, 2.6746520e-35,\n",
       "       1.0000000e+00, 0.0000000e+00, 0.0000000e+00, 0.0000000e+00,\n",
       "       1.1201331e-18, 6.4969648e-28, 7.0022511e-06, 3.8049057e-17,\n",
       "       9.9999571e-01, 2.3245127e-06, 5.1253996e-06, 0.0000000e+00,\n",
       "       2.7333355e-17, 9.9998957e-01, 2.3177073e-18, 5.1957585e-22,\n",
       "       3.3926093e-23, 4.8740494e-06, 9.9990082e-01, 2.5266007e-25,\n",
       "       2.3289145e-29, 5.9832650e-24, 1.8340439e-08, 5.1541359e-05,\n",
       "       9.8524845e-01, 3.0242888e-06, 1.8646866e-02, 9.3005991e-01,\n",
       "       1.4574242e-01, 5.8074942e-12, 9.6438418e-07, 8.6226356e-01,\n",
       "       5.7604909e-04, 2.0131713e-05, 5.1343441e-04, 1.4178243e-01,\n",
       "       9.3913120e-01, 4.8765811e-05, 3.3272492e-05, 3.0115247e-04,\n",
       "       2.3838878e-04, 8.3205312e-02, 8.2299972e-01, 1.3390481e-03,\n",
       "       3.2953545e-01, 1.6385874e-01, 8.1371665e-01, 4.4669778e-05,\n",
       "       6.3532591e-04, 3.7979811e-02, 7.6382220e-02, 5.7335198e-03,\n",
       "       4.9474746e-02, 6.9473821e-01, 3.4532785e-01, 3.5638511e-03,\n",
       "       1.1726111e-02, 1.5717924e-02, 9.7993612e-03, 5.9702104e-01],\n",
       "      dtype=float32)"
      ]
     },
     "execution_count": 31,
     "metadata": {},
     "output_type": "execute_result"
    }
   ],
   "source": [
    "pred[0]"
   ]
  },
  {
   "cell_type": "code",
   "execution_count": 32,
   "id": "2834b5d4",
   "metadata": {},
   "outputs": [
    {
     "data": {
      "text/plain": [
       "array([1, 0, 0, 0, 1, 0, 0, 0, 0, 0, 0, 0, 1, 0, 0, 0, 0, 0, 0, 0, 1, 0,\n",
       "       0, 0, 0, 1, 0, 0, 0, 0, 1, 0, 0, 0, 0, 0, 1, 0, 0, 1, 0, 0, 0, 1,\n",
       "       0, 0, 0, 0, 1, 0, 0, 0, 0, 0, 1, 0, 0, 0, 1, 0, 0, 0, 0, 0, 0, 1,\n",
       "       0, 0, 0, 0, 0, 1], dtype=int64)"
      ]
     },
     "execution_count": 32,
     "metadata": {},
     "output_type": "execute_result"
    }
   ],
   "source": [
    "y_train[0]"
   ]
  },
  {
   "cell_type": "code",
   "execution_count": 33,
   "id": "b6e0b965",
   "metadata": {},
   "outputs": [
    {
     "data": {
      "text/plain": [
       "28.363333333333333"
      ]
     },
     "execution_count": 33,
     "metadata": {},
     "output_type": "execute_result"
    }
   ],
   "source": [
    "accuracy = 0\n",
    "for i in range(pred.shape[0]):\n",
    "    output = pred[i].copy()\n",
    "    condition = True\n",
    "    for j in range(len(output)):\n",
    "        output[j] = round(output[j])\n",
    "    for j in range(len(output)):\n",
    "        if(output[j]!=y_train[i][j]):\n",
    "            condition = False\n",
    "            break\n",
    "    if condition:\n",
    "        accuracy += 1\n",
    "accuracy / pred.shape[0] * 100"
   ]
  },
  {
   "cell_type": "code",
   "execution_count": 34,
   "id": "3f7012a5",
   "metadata": {},
   "outputs": [],
   "source": [
    "pred_test=model.predict(X_test)"
   ]
  },
  {
   "cell_type": "code",
   "execution_count": 35,
   "id": "a59247fc",
   "metadata": {},
   "outputs": [
    {
     "data": {
      "text/plain": [
       "25.195"
      ]
     },
     "execution_count": 35,
     "metadata": {},
     "output_type": "execute_result"
    }
   ],
   "source": [
    "accuracy_test = 0\n",
    "for i in range(pred_test.shape[0]):\n",
    "    output = pred_test[i].copy()\n",
    "    condition = True\n",
    "    for j in range(len(output)):\n",
    "        output[j] = round(output[j])\n",
    "    for j in range(len(output)):\n",
    "        if(output[j]!=y_test[i][j]):\n",
    "            condition = False\n",
    "            break\n",
    "    if condition:\n",
    "        accuracy_test += 1\n",
    "accuracy_test / pred_test.shape[0] * 100"
   ]
  },
  {
   "cell_type": "code",
   "execution_count": null,
   "id": "78cac25e",
   "metadata": {},
   "outputs": [],
   "source": []
  }
 ],
 "metadata": {
  "kernelspec": {
   "display_name": "Python 3 (ipykernel)",
   "language": "python",
   "name": "python3"
  },
  "language_info": {
   "codemirror_mode": {
    "name": "ipython",
    "version": 3
   },
   "file_extension": ".py",
   "mimetype": "text/x-python",
   "name": "python",
   "nbconvert_exporter": "python",
   "pygments_lexer": "ipython3",
   "version": "3.8.10"
  }
 },
 "nbformat": 4,
 "nbformat_minor": 5
}
