{
  "nbformat": 4,
  "nbformat_minor": 0,
  "metadata": {
    "colab": {
      "provenance": [],
      "authorship_tag": "ABX9TyPYrbQvzy4NKCfFi+PAUQAU",
      "include_colab_link": true
    },
    "kernelspec": {
      "name": "python3",
      "display_name": "Python 3"
    },
    "language_info": {
      "name": "python"
    },
    "accelerator": "GPU",
    "gpuClass": "standard"
  },
  "cells": [
    {
      "cell_type": "markdown",
      "metadata": {
        "id": "view-in-github",
        "colab_type": "text"
      },
      "source": [
        "<a href=\"https://colab.research.google.com/github/nguyenvantin971996/CreateData/blob/main/Backpropagation/8_nodes_LSTM.ipynb\" target=\"_parent\"><img src=\"https://colab.research.google.com/assets/colab-badge.svg\" alt=\"Open In Colab\"/></a>"
      ]
    },
    {
      "cell_type": "code",
      "execution_count": 2,
      "metadata": {
        "colab": {
          "base_uri": "https://localhost:8080/",
          "height": 253
        },
        "id": "GdJjRFf8RoNt",
        "outputId": "fe6a9801-0664-4494-e553-78280d593dc6"
      },
      "outputs": [
        {
          "output_type": "stream",
          "name": "stdout",
          "text": [
            "Mounted at /content/gdrive\n"
          ]
        },
        {
          "output_type": "execute_result",
          "data": {
            "text/plain": [
              "   X(1, 2)  X(1, 3)  X(2, 4)  X(2, 5)  X(3, 4)  X(3, 7)  X(4, 6)  X(5, 6)  \\\n",
              "0       10       40       30       50       30       20       20       10   \n",
              "1       90       50       50       30       30       80       80       30   \n",
              "2       10       60       80       50       40       50       30       90   \n",
              "3       80       20       40       60       50       80       90       60   \n",
              "4       20       70       50       40       20       70       80       80   \n",
              "\n",
              "   X(5, 8)  X(6, 7)  ...  Y4(1, 3)  Y4(2, 4)  Y4(2, 5)  Y4(3, 4)  Y4(3, 7)  \\\n",
              "0       90       70  ...         0         1         0         0         0   \n",
              "1       30       80  ...         1         0         0         1         0   \n",
              "2       80       30  ...         1         0         0         1         0   \n",
              "3       80       80  ...         1         0         0         1         0   \n",
              "4       10       10  ...         0         1         0         0         0   \n",
              "\n",
              "   Y4(4, 6)  Y4(5, 6)  Y4(5, 8)  Y4(6, 7)  Y4(7, 8)  \n",
              "0         1         0         0         1         1  \n",
              "1         1         1         1         0         0  \n",
              "2         1         0         0         1         1  \n",
              "3         1         1         1         0         0  \n",
              "4         1         1         1         0         0  \n",
              "\n",
              "[5 rows x 55 columns]"
            ],
            "text/html": [
              "\n",
              "  <div id=\"df-07c6c597-b208-4458-99ae-72dc4a6086ff\">\n",
              "    <div class=\"colab-df-container\">\n",
              "      <div>\n",
              "<style scoped>\n",
              "    .dataframe tbody tr th:only-of-type {\n",
              "        vertical-align: middle;\n",
              "    }\n",
              "\n",
              "    .dataframe tbody tr th {\n",
              "        vertical-align: top;\n",
              "    }\n",
              "\n",
              "    .dataframe thead th {\n",
              "        text-align: right;\n",
              "    }\n",
              "</style>\n",
              "<table border=\"1\" class=\"dataframe\">\n",
              "  <thead>\n",
              "    <tr style=\"text-align: right;\">\n",
              "      <th></th>\n",
              "      <th>X(1, 2)</th>\n",
              "      <th>X(1, 3)</th>\n",
              "      <th>X(2, 4)</th>\n",
              "      <th>X(2, 5)</th>\n",
              "      <th>X(3, 4)</th>\n",
              "      <th>X(3, 7)</th>\n",
              "      <th>X(4, 6)</th>\n",
              "      <th>X(5, 6)</th>\n",
              "      <th>X(5, 8)</th>\n",
              "      <th>X(6, 7)</th>\n",
              "      <th>...</th>\n",
              "      <th>Y4(1, 3)</th>\n",
              "      <th>Y4(2, 4)</th>\n",
              "      <th>Y4(2, 5)</th>\n",
              "      <th>Y4(3, 4)</th>\n",
              "      <th>Y4(3, 7)</th>\n",
              "      <th>Y4(4, 6)</th>\n",
              "      <th>Y4(5, 6)</th>\n",
              "      <th>Y4(5, 8)</th>\n",
              "      <th>Y4(6, 7)</th>\n",
              "      <th>Y4(7, 8)</th>\n",
              "    </tr>\n",
              "  </thead>\n",
              "  <tbody>\n",
              "    <tr>\n",
              "      <th>0</th>\n",
              "      <td>10</td>\n",
              "      <td>40</td>\n",
              "      <td>30</td>\n",
              "      <td>50</td>\n",
              "      <td>30</td>\n",
              "      <td>20</td>\n",
              "      <td>20</td>\n",
              "      <td>10</td>\n",
              "      <td>90</td>\n",
              "      <td>70</td>\n",
              "      <td>...</td>\n",
              "      <td>0</td>\n",
              "      <td>1</td>\n",
              "      <td>0</td>\n",
              "      <td>0</td>\n",
              "      <td>0</td>\n",
              "      <td>1</td>\n",
              "      <td>0</td>\n",
              "      <td>0</td>\n",
              "      <td>1</td>\n",
              "      <td>1</td>\n",
              "    </tr>\n",
              "    <tr>\n",
              "      <th>1</th>\n",
              "      <td>90</td>\n",
              "      <td>50</td>\n",
              "      <td>50</td>\n",
              "      <td>30</td>\n",
              "      <td>30</td>\n",
              "      <td>80</td>\n",
              "      <td>80</td>\n",
              "      <td>30</td>\n",
              "      <td>30</td>\n",
              "      <td>80</td>\n",
              "      <td>...</td>\n",
              "      <td>1</td>\n",
              "      <td>0</td>\n",
              "      <td>0</td>\n",
              "      <td>1</td>\n",
              "      <td>0</td>\n",
              "      <td>1</td>\n",
              "      <td>1</td>\n",
              "      <td>1</td>\n",
              "      <td>0</td>\n",
              "      <td>0</td>\n",
              "    </tr>\n",
              "    <tr>\n",
              "      <th>2</th>\n",
              "      <td>10</td>\n",
              "      <td>60</td>\n",
              "      <td>80</td>\n",
              "      <td>50</td>\n",
              "      <td>40</td>\n",
              "      <td>50</td>\n",
              "      <td>30</td>\n",
              "      <td>90</td>\n",
              "      <td>80</td>\n",
              "      <td>30</td>\n",
              "      <td>...</td>\n",
              "      <td>1</td>\n",
              "      <td>0</td>\n",
              "      <td>0</td>\n",
              "      <td>1</td>\n",
              "      <td>0</td>\n",
              "      <td>1</td>\n",
              "      <td>0</td>\n",
              "      <td>0</td>\n",
              "      <td>1</td>\n",
              "      <td>1</td>\n",
              "    </tr>\n",
              "    <tr>\n",
              "      <th>3</th>\n",
              "      <td>80</td>\n",
              "      <td>20</td>\n",
              "      <td>40</td>\n",
              "      <td>60</td>\n",
              "      <td>50</td>\n",
              "      <td>80</td>\n",
              "      <td>90</td>\n",
              "      <td>60</td>\n",
              "      <td>80</td>\n",
              "      <td>80</td>\n",
              "      <td>...</td>\n",
              "      <td>1</td>\n",
              "      <td>0</td>\n",
              "      <td>0</td>\n",
              "      <td>1</td>\n",
              "      <td>0</td>\n",
              "      <td>1</td>\n",
              "      <td>1</td>\n",
              "      <td>1</td>\n",
              "      <td>0</td>\n",
              "      <td>0</td>\n",
              "    </tr>\n",
              "    <tr>\n",
              "      <th>4</th>\n",
              "      <td>20</td>\n",
              "      <td>70</td>\n",
              "      <td>50</td>\n",
              "      <td>40</td>\n",
              "      <td>20</td>\n",
              "      <td>70</td>\n",
              "      <td>80</td>\n",
              "      <td>80</td>\n",
              "      <td>10</td>\n",
              "      <td>10</td>\n",
              "      <td>...</td>\n",
              "      <td>0</td>\n",
              "      <td>1</td>\n",
              "      <td>0</td>\n",
              "      <td>0</td>\n",
              "      <td>0</td>\n",
              "      <td>1</td>\n",
              "      <td>1</td>\n",
              "      <td>1</td>\n",
              "      <td>0</td>\n",
              "      <td>0</td>\n",
              "    </tr>\n",
              "  </tbody>\n",
              "</table>\n",
              "<p>5 rows × 55 columns</p>\n",
              "</div>\n",
              "      <button class=\"colab-df-convert\" onclick=\"convertToInteractive('df-07c6c597-b208-4458-99ae-72dc4a6086ff')\"\n",
              "              title=\"Convert this dataframe to an interactive table.\"\n",
              "              style=\"display:none;\">\n",
              "        \n",
              "  <svg xmlns=\"http://www.w3.org/2000/svg\" height=\"24px\"viewBox=\"0 0 24 24\"\n",
              "       width=\"24px\">\n",
              "    <path d=\"M0 0h24v24H0V0z\" fill=\"none\"/>\n",
              "    <path d=\"M18.56 5.44l.94 2.06.94-2.06 2.06-.94-2.06-.94-.94-2.06-.94 2.06-2.06.94zm-11 1L8.5 8.5l.94-2.06 2.06-.94-2.06-.94L8.5 2.5l-.94 2.06-2.06.94zm10 10l.94 2.06.94-2.06 2.06-.94-2.06-.94-.94-2.06-.94 2.06-2.06.94z\"/><path d=\"M17.41 7.96l-1.37-1.37c-.4-.4-.92-.59-1.43-.59-.52 0-1.04.2-1.43.59L10.3 9.45l-7.72 7.72c-.78.78-.78 2.05 0 2.83L4 21.41c.39.39.9.59 1.41.59.51 0 1.02-.2 1.41-.59l7.78-7.78 2.81-2.81c.8-.78.8-2.07 0-2.86zM5.41 20L4 18.59l7.72-7.72 1.47 1.35L5.41 20z\"/>\n",
              "  </svg>\n",
              "      </button>\n",
              "      \n",
              "  <style>\n",
              "    .colab-df-container {\n",
              "      display:flex;\n",
              "      flex-wrap:wrap;\n",
              "      gap: 12px;\n",
              "    }\n",
              "\n",
              "    .colab-df-convert {\n",
              "      background-color: #E8F0FE;\n",
              "      border: none;\n",
              "      border-radius: 50%;\n",
              "      cursor: pointer;\n",
              "      display: none;\n",
              "      fill: #1967D2;\n",
              "      height: 32px;\n",
              "      padding: 0 0 0 0;\n",
              "      width: 32px;\n",
              "    }\n",
              "\n",
              "    .colab-df-convert:hover {\n",
              "      background-color: #E2EBFA;\n",
              "      box-shadow: 0px 1px 2px rgba(60, 64, 67, 0.3), 0px 1px 3px 1px rgba(60, 64, 67, 0.15);\n",
              "      fill: #174EA6;\n",
              "    }\n",
              "\n",
              "    [theme=dark] .colab-df-convert {\n",
              "      background-color: #3B4455;\n",
              "      fill: #D2E3FC;\n",
              "    }\n",
              "\n",
              "    [theme=dark] .colab-df-convert:hover {\n",
              "      background-color: #434B5C;\n",
              "      box-shadow: 0px 1px 3px 1px rgba(0, 0, 0, 0.15);\n",
              "      filter: drop-shadow(0px 1px 2px rgba(0, 0, 0, 0.3));\n",
              "      fill: #FFFFFF;\n",
              "    }\n",
              "  </style>\n",
              "\n",
              "      <script>\n",
              "        const buttonEl =\n",
              "          document.querySelector('#df-07c6c597-b208-4458-99ae-72dc4a6086ff button.colab-df-convert');\n",
              "        buttonEl.style.display =\n",
              "          google.colab.kernel.accessAllowed ? 'block' : 'none';\n",
              "\n",
              "        async function convertToInteractive(key) {\n",
              "          const element = document.querySelector('#df-07c6c597-b208-4458-99ae-72dc4a6086ff');\n",
              "          const dataTable =\n",
              "            await google.colab.kernel.invokeFunction('convertToInteractive',\n",
              "                                                     [key], {});\n",
              "          if (!dataTable) return;\n",
              "\n",
              "          const docLinkHtml = 'Like what you see? Visit the ' +\n",
              "            '<a target=\"_blank\" href=https://colab.research.google.com/notebooks/data_table.ipynb>data table notebook</a>'\n",
              "            + ' to learn more about interactive tables.';\n",
              "          element.innerHTML = '';\n",
              "          dataTable['output_type'] = 'display_data';\n",
              "          await google.colab.output.renderOutput(dataTable, element);\n",
              "          const docLink = document.createElement('div');\n",
              "          docLink.innerHTML = docLinkHtml;\n",
              "          element.appendChild(docLink);\n",
              "        }\n",
              "      </script>\n",
              "    </div>\n",
              "  </div>\n",
              "  "
            ]
          },
          "metadata": {},
          "execution_count": 2
        }
      ],
      "source": [
        "import numpy as np\n",
        "import pandas as pd\n",
        "from google.colab import drive\n",
        "drive.mount('/content/gdrive')\n",
        "df=pd.read_csv('gdrive/My Drive/Colab Notebooks/data_8_nodes_yen.csv')\n",
        "df.head()"
      ]
    },
    {
      "cell_type": "code",
      "source": [
        "edges = [[1, 2], [1, 3], [2, 4], [2, 5], [3, 4], [3, 7], [4, 6], [5, 6], [5, 8], [6, 7], [7, 8]]\n",
        "number_edges = len(edges)\n",
        "number_steps = 4\n",
        "start_node = 1\n",
        "end_node = 8"
      ],
      "metadata": {
        "id": "011ACPy5S1IU"
      },
      "execution_count": 3,
      "outputs": []
    },
    {
      "cell_type": "code",
      "source": [
        "X = df.iloc[:,:number_edges].values\n",
        "y = df.iloc[:,number_edges:].values"
      ],
      "metadata": {
        "id": "JWSlm-1ATGVi"
      },
      "execution_count": 4,
      "outputs": []
    },
    {
      "cell_type": "code",
      "source": [
        "print(X.shape, y.shape)"
      ],
      "metadata": {
        "colab": {
          "base_uri": "https://localhost:8080/"
        },
        "id": "TLYW1dMnTJfa",
        "outputId": "feb23810-64e4-4de6-e944-51fa3fa30d37"
      },
      "execution_count": 5,
      "outputs": [
        {
          "output_type": "stream",
          "name": "stdout",
          "text": [
            "(100000, 11) (100000, 44)\n"
          ]
        }
      ]
    },
    {
      "cell_type": "code",
      "source": [
        "from sklearn.model_selection import train_test_split\n",
        "X1,X2,y_train,y_test = train_test_split(X,y,test_size = 0.1)"
      ],
      "metadata": {
        "id": "1my108FRTTWs"
      },
      "execution_count": 6,
      "outputs": []
    },
    {
      "cell_type": "code",
      "source": [
        "from sklearn.preprocessing import StandardScaler\n",
        "sc = StandardScaler()\n",
        "X_train = sc.fit_transform(X1)\n",
        "X_test= sc.fit_transform(X2)"
      ],
      "metadata": {
        "id": "OYk6_egHTaVi"
      },
      "execution_count": 7,
      "outputs": []
    },
    {
      "cell_type": "code",
      "source": [
        "X_train = np.repeat(X_train[:, np.newaxis, : ], number_steps, axis=1)\n",
        "X_test = np.repeat(X_test[:, np.newaxis, : ], number_steps, axis=1)\n",
        "y_train_2 = np.reshape(y_train,(y_train.shape[0], number_steps, number_edges))\n",
        "y_test_2 = np.reshape(y_test,(y_test.shape[0], number_steps, number_edges))"
      ],
      "metadata": {
        "id": "3KR7P-h2TchT"
      },
      "execution_count": 8,
      "outputs": []
    },
    {
      "cell_type": "code",
      "source": [
        "print(X_train.shape, y_train_2.shape)"
      ],
      "metadata": {
        "colab": {
          "base_uri": "https://localhost:8080/"
        },
        "id": "n4Ui1_0DTnBq",
        "outputId": "0415a6b3-4f49-46fe-8fb9-9f1cb771ec6c"
      },
      "execution_count": 9,
      "outputs": [
        {
          "output_type": "stream",
          "name": "stdout",
          "text": [
            "(90000, 4, 11) (90000, 4, 11)\n"
          ]
        }
      ]
    },
    {
      "cell_type": "code",
      "source": [
        "import keras\n",
        "from keras.models import Sequential\n",
        "from keras.layers import Dense,Dropout,TimeDistributed,LSTM\n",
        "model = Sequential()\n",
        "model.add(LSTM(32, input_shape=(number_steps, number_edges), return_sequences=True))\n",
        "model.add(LSTM(32, return_sequences=True))\n",
        "model.add(TimeDistributed(Dense(number_edges, activation='sigmoid')))\n",
        "model.summary()"
      ],
      "metadata": {
        "colab": {
          "base_uri": "https://localhost:8080/"
        },
        "id": "YCXRcUunT03S",
        "outputId": "1296c1da-be87-4a6d-b149-5d23923cad85"
      },
      "execution_count": 11,
      "outputs": [
        {
          "output_type": "stream",
          "name": "stdout",
          "text": [
            "Model: \"sequential_1\"\n",
            "_________________________________________________________________\n",
            " Layer (type)                Output Shape              Param #   \n",
            "=================================================================\n",
            " lstm_2 (LSTM)               (None, 4, 32)             5632      \n",
            "                                                                 \n",
            " lstm_3 (LSTM)               (None, 4, 32)             8320      \n",
            "                                                                 \n",
            " time_distributed_1 (TimeDis  (None, 4, 11)            363       \n",
            " tributed)                                                       \n",
            "                                                                 \n",
            "=================================================================\n",
            "Total params: 14,315\n",
            "Trainable params: 14,315\n",
            "Non-trainable params: 0\n",
            "_________________________________________________________________\n"
          ]
        }
      ]
    },
    {
      "cell_type": "code",
      "source": [
        "model.compile(loss='BinaryCrossentropy', optimizer='adam')\n",
        "model.fit(X_train, y_train_2, epochs=100, batch_size=64)"
      ],
      "metadata": {
        "colab": {
          "base_uri": "https://localhost:8080/"
        },
        "id": "fCinwrJ6T_1D",
        "outputId": "a5199c3d-d4e0-4397-9950-ed2cc822b6f9"
      },
      "execution_count": 12,
      "outputs": [
        {
          "output_type": "stream",
          "name": "stdout",
          "text": [
            "Epoch 1/100\n",
            "1407/1407 [==============================] - 16s 6ms/step - loss: 0.4250\n",
            "Epoch 2/100\n",
            "1407/1407 [==============================] - 8s 5ms/step - loss: 0.2184\n",
            "Epoch 3/100\n",
            "1407/1407 [==============================] - 7s 5ms/step - loss: 0.1647\n",
            "Epoch 4/100\n",
            "1407/1407 [==============================] - 8s 6ms/step - loss: 0.1375\n",
            "Epoch 5/100\n",
            "1407/1407 [==============================] - 8s 6ms/step - loss: 0.1204\n",
            "Epoch 6/100\n",
            "1407/1407 [==============================] - 8s 5ms/step - loss: 0.1083\n",
            "Epoch 7/100\n",
            "1407/1407 [==============================] - 14s 10ms/step - loss: 0.0992\n",
            "Epoch 8/100\n",
            "1407/1407 [==============================] - 7s 5ms/step - loss: 0.0922\n",
            "Epoch 9/100\n",
            "1407/1407 [==============================] - 10s 7ms/step - loss: 0.0861\n",
            "Epoch 10/100\n",
            "1407/1407 [==============================] - 10s 7ms/step - loss: 0.0812\n",
            "Epoch 11/100\n",
            "1407/1407 [==============================] - 7s 5ms/step - loss: 0.0770\n",
            "Epoch 12/100\n",
            "1407/1407 [==============================] - 7s 5ms/step - loss: 0.0733\n",
            "Epoch 13/100\n",
            "1407/1407 [==============================] - 7s 5ms/step - loss: 0.0700\n",
            "Epoch 14/100\n",
            "1407/1407 [==============================] - 7s 5ms/step - loss: 0.0676\n",
            "Epoch 15/100\n",
            "1407/1407 [==============================] - 7s 5ms/step - loss: 0.0648\n",
            "Epoch 16/100\n",
            "1407/1407 [==============================] - 7s 5ms/step - loss: 0.0626\n",
            "Epoch 17/100\n",
            "1407/1407 [==============================] - 7s 5ms/step - loss: 0.0606\n",
            "Epoch 18/100\n",
            "1407/1407 [==============================] - 7s 5ms/step - loss: 0.0588\n",
            "Epoch 19/100\n",
            "1407/1407 [==============================] - 7s 5ms/step - loss: 0.0572\n",
            "Epoch 20/100\n",
            "1407/1407 [==============================] - 7s 5ms/step - loss: 0.0558\n",
            "Epoch 21/100\n",
            "1407/1407 [==============================] - 7s 5ms/step - loss: 0.0543\n",
            "Epoch 22/100\n",
            "1407/1407 [==============================] - 7s 5ms/step - loss: 0.0525\n",
            "Epoch 23/100\n",
            "1407/1407 [==============================] - 8s 5ms/step - loss: 0.0515\n",
            "Epoch 24/100\n",
            "1407/1407 [==============================] - 7s 5ms/step - loss: 0.0504\n",
            "Epoch 25/100\n",
            "1407/1407 [==============================] - 7s 5ms/step - loss: 0.0493\n",
            "Epoch 26/100\n",
            "1407/1407 [==============================] - 7s 5ms/step - loss: 0.0482\n",
            "Epoch 27/100\n",
            "1407/1407 [==============================] - 7s 5ms/step - loss: 0.0470\n",
            "Epoch 28/100\n",
            "1407/1407 [==============================] - 7s 5ms/step - loss: 0.0465\n",
            "Epoch 29/100\n",
            "1407/1407 [==============================] - 7s 5ms/step - loss: 0.0457\n",
            "Epoch 30/100\n",
            "1407/1407 [==============================] - 7s 5ms/step - loss: 0.0443\n",
            "Epoch 31/100\n",
            "1407/1407 [==============================] - 7s 5ms/step - loss: 0.0437\n",
            "Epoch 32/100\n",
            "1407/1407 [==============================] - 7s 5ms/step - loss: 0.0432\n",
            "Epoch 33/100\n",
            "1407/1407 [==============================] - 7s 5ms/step - loss: 0.0425\n",
            "Epoch 34/100\n",
            "1407/1407 [==============================] - 7s 5ms/step - loss: 0.0416\n",
            "Epoch 35/100\n",
            "1407/1407 [==============================] - 8s 5ms/step - loss: 0.0413\n",
            "Epoch 36/100\n",
            "1407/1407 [==============================] - 7s 5ms/step - loss: 0.0403\n",
            "Epoch 37/100\n",
            "1407/1407 [==============================] - 7s 5ms/step - loss: 0.0399\n",
            "Epoch 38/100\n",
            "1407/1407 [==============================] - 7s 5ms/step - loss: 0.0396\n",
            "Epoch 39/100\n",
            "1407/1407 [==============================] - 7s 5ms/step - loss: 0.0387\n",
            "Epoch 40/100\n",
            "1407/1407 [==============================] - 7s 5ms/step - loss: 0.0384\n",
            "Epoch 41/100\n",
            "1407/1407 [==============================] - 7s 5ms/step - loss: 0.0379\n",
            "Epoch 42/100\n",
            "1407/1407 [==============================] - 7s 5ms/step - loss: 0.0372\n",
            "Epoch 43/100\n",
            "1407/1407 [==============================] - 7s 5ms/step - loss: 0.0370\n",
            "Epoch 44/100\n",
            "1407/1407 [==============================] - 7s 5ms/step - loss: 0.0363\n",
            "Epoch 45/100\n",
            "1407/1407 [==============================] - 7s 5ms/step - loss: 0.0360\n",
            "Epoch 46/100\n",
            "1407/1407 [==============================] - 7s 5ms/step - loss: 0.0352\n",
            "Epoch 47/100\n",
            "1407/1407 [==============================] - 7s 5ms/step - loss: 0.0349\n",
            "Epoch 48/100\n",
            "1407/1407 [==============================] - 7s 5ms/step - loss: 0.0348\n",
            "Epoch 49/100\n",
            "1407/1407 [==============================] - 7s 5ms/step - loss: 0.0342\n",
            "Epoch 50/100\n",
            "1407/1407 [==============================] - 7s 5ms/step - loss: 0.0339\n",
            "Epoch 51/100\n",
            "1407/1407 [==============================] - 7s 5ms/step - loss: 0.0332\n",
            "Epoch 52/100\n",
            "1407/1407 [==============================] - 7s 5ms/step - loss: 0.0329\n",
            "Epoch 53/100\n",
            "1407/1407 [==============================] - 7s 5ms/step - loss: 0.0325\n",
            "Epoch 54/100\n",
            "1407/1407 [==============================] - 7s 5ms/step - loss: 0.0325\n",
            "Epoch 55/100\n",
            "1407/1407 [==============================] - 7s 5ms/step - loss: 0.0321\n",
            "Epoch 56/100\n",
            "1407/1407 [==============================] - 7s 5ms/step - loss: 0.0318\n",
            "Epoch 57/100\n",
            "1407/1407 [==============================] - 9s 6ms/step - loss: 0.0313\n",
            "Epoch 58/100\n",
            "1407/1407 [==============================] - 9s 7ms/step - loss: 0.0312\n",
            "Epoch 59/100\n",
            "1407/1407 [==============================] - 7s 5ms/step - loss: 0.0308\n",
            "Epoch 60/100\n",
            "1407/1407 [==============================] - 7s 5ms/step - loss: 0.0306\n",
            "Epoch 61/100\n",
            "1407/1407 [==============================] - 7s 5ms/step - loss: 0.0302\n",
            "Epoch 62/100\n",
            "1407/1407 [==============================] - 7s 5ms/step - loss: 0.0300\n",
            "Epoch 63/100\n",
            "1407/1407 [==============================] - 7s 5ms/step - loss: 0.0296\n",
            "Epoch 64/100\n",
            "1407/1407 [==============================] - 7s 5ms/step - loss: 0.0298\n",
            "Epoch 65/100\n",
            "1407/1407 [==============================] - 7s 5ms/step - loss: 0.0289\n",
            "Epoch 66/100\n",
            "1407/1407 [==============================] - 7s 5ms/step - loss: 0.0295\n",
            "Epoch 67/100\n",
            "1407/1407 [==============================] - 7s 5ms/step - loss: 0.0282\n",
            "Epoch 68/100\n",
            "1407/1407 [==============================] - 7s 5ms/step - loss: 0.0284\n",
            "Epoch 69/100\n",
            "1407/1407 [==============================] - 7s 5ms/step - loss: 0.0284\n",
            "Epoch 70/100\n",
            "1407/1407 [==============================] - 7s 5ms/step - loss: 0.0280\n",
            "Epoch 71/100\n",
            "1407/1407 [==============================] - 7s 5ms/step - loss: 0.0280\n",
            "Epoch 72/100\n",
            "1407/1407 [==============================] - 7s 5ms/step - loss: 0.0278\n",
            "Epoch 73/100\n",
            "1407/1407 [==============================] - 7s 5ms/step - loss: 0.0276\n",
            "Epoch 74/100\n",
            "1407/1407 [==============================] - 7s 5ms/step - loss: 0.0275\n",
            "Epoch 75/100\n",
            "1407/1407 [==============================] - 7s 5ms/step - loss: 0.0273\n",
            "Epoch 76/100\n",
            "1407/1407 [==============================] - 7s 5ms/step - loss: 0.0269\n",
            "Epoch 77/100\n",
            "1407/1407 [==============================] - 7s 5ms/step - loss: 0.0270\n",
            "Epoch 78/100\n",
            "1407/1407 [==============================] - 7s 5ms/step - loss: 0.0266\n",
            "Epoch 79/100\n",
            "1407/1407 [==============================] - 7s 5ms/step - loss: 0.0262\n",
            "Epoch 80/100\n",
            "1407/1407 [==============================] - 7s 5ms/step - loss: 0.0262\n",
            "Epoch 81/100\n",
            "1407/1407 [==============================] - 7s 5ms/step - loss: 0.0263\n",
            "Epoch 82/100\n",
            "1407/1407 [==============================] - 7s 5ms/step - loss: 0.0260\n",
            "Epoch 83/100\n",
            "1407/1407 [==============================] - 7s 5ms/step - loss: 0.0255\n",
            "Epoch 84/100\n",
            "1407/1407 [==============================] - 7s 5ms/step - loss: 0.0254\n",
            "Epoch 85/100\n",
            "1407/1407 [==============================] - 7s 5ms/step - loss: 0.0251\n",
            "Epoch 86/100\n",
            "1407/1407 [==============================] - 7s 5ms/step - loss: 0.0253\n",
            "Epoch 87/100\n",
            "1407/1407 [==============================] - 7s 5ms/step - loss: 0.0252\n",
            "Epoch 88/100\n",
            "1407/1407 [==============================] - 7s 5ms/step - loss: 0.0252\n",
            "Epoch 89/100\n",
            "1407/1407 [==============================] - 7s 5ms/step - loss: 0.0247\n",
            "Epoch 90/100\n",
            "1407/1407 [==============================] - 7s 5ms/step - loss: 0.0245\n",
            "Epoch 91/100\n",
            "1407/1407 [==============================] - 7s 5ms/step - loss: 0.0242\n",
            "Epoch 92/100\n",
            "1407/1407 [==============================] - 7s 5ms/step - loss: 0.0243\n",
            "Epoch 93/100\n",
            "1407/1407 [==============================] - 7s 5ms/step - loss: 0.0239\n",
            "Epoch 94/100\n",
            "1407/1407 [==============================] - 7s 5ms/step - loss: 0.0240\n",
            "Epoch 95/100\n",
            "1407/1407 [==============================] - 7s 5ms/step - loss: 0.0247\n",
            "Epoch 96/100\n",
            "1407/1407 [==============================] - 7s 5ms/step - loss: 0.0232\n",
            "Epoch 97/100\n",
            "1407/1407 [==============================] - 7s 5ms/step - loss: 0.0241\n",
            "Epoch 98/100\n",
            "1407/1407 [==============================] - 7s 5ms/step - loss: 0.0233\n",
            "Epoch 99/100\n",
            "1407/1407 [==============================] - 7s 5ms/step - loss: 0.0230\n",
            "Epoch 100/100\n",
            "1407/1407 [==============================] - 7s 5ms/step - loss: 0.0233\n"
          ]
        },
        {
          "output_type": "execute_result",
          "data": {
            "text/plain": [
              "<keras.callbacks.History at 0x7f44cc3e3c10>"
            ]
          },
          "metadata": {},
          "execution_count": 12
        }
      ]
    },
    {
      "cell_type": "code",
      "source": [
        "pred=model.predict(X_train)\n",
        "pred_test=model.predict(X_test)"
      ],
      "metadata": {
        "colab": {
          "base_uri": "https://localhost:8080/"
        },
        "id": "nMNSflRXUGel",
        "outputId": "57177923-0dd8-4321-a74a-7942de53469b"
      },
      "execution_count": 13,
      "outputs": [
        {
          "output_type": "stream",
          "name": "stdout",
          "text": [
            "2813/2813 [==============================] - 8s 2ms/step\n",
            "313/313 [==============================] - 1s 2ms/step\n"
          ]
        }
      ]
    },
    {
      "cell_type": "code",
      "source": [
        "import copy\n",
        "def cost_path(x,y):\n",
        "    cost = 0\n",
        "    path = []\n",
        "    for i in range(number_edges):\n",
        "        if y[i]==1:\n",
        "            path.append(edges[i])\n",
        "            cost+= x[i]\n",
        "    if(len(path)!=0):\n",
        "        path_2 = copy.deepcopy(path)\n",
        "        path_nodes = [start_node]\n",
        "        if(path[0][0]!=start_node):\n",
        "            cost = 0\n",
        "        else:\n",
        "            path_nodes.append(path[0][1])\n",
        "            del path_2[0]\n",
        "            condition = True\n",
        "            while(len(path_2)!=0 and condition):\n",
        "                condition = False\n",
        "                for i in range(len(path_2)):\n",
        "                    if(path_nodes[-1] in path_2[i]):\n",
        "                        path_2[i].remove(path_nodes[-1])\n",
        "                        path_nodes.append(path_2[i][0])\n",
        "                        path_2.pop(i)\n",
        "                        condition = True\n",
        "                        break\n",
        "        if(path_nodes[-1]!=end_node or len(path_2)!=0):\n",
        "            cost = 0\n",
        "    else:\n",
        "        cost = 0\n",
        "    return cost"
      ],
      "metadata": {
        "id": "IfYLXEJ3UNty"
      },
      "execution_count": 14,
      "outputs": []
    },
    {
      "cell_type": "code",
      "source": [
        "accuracy = np.zeros(number_steps+1)\n",
        "for i in range(pred.shape[0]):\n",
        "    condition_1 = True\n",
        "    for t in range(number_steps):\n",
        "        output = copy.deepcopy(pred[i][t])\n",
        "        condition_2 = True\n",
        "        for j in range(len(output)):\n",
        "            output[j] = round(output[j])\n",
        "        if(cost_path(X1[i],output) != cost_path(X1[i],y_train_2[i][t])):\n",
        "            condition_2 = False\n",
        "            condition_1 = False\n",
        "        if condition_2:\n",
        "            accuracy[t] += 1\n",
        "    if condition_1:\n",
        "        accuracy[number_steps] += 1\n",
        "accuracy = np.round(accuracy / pred.shape[0] * 100,2)\n",
        "accuracy"
      ],
      "metadata": {
        "colab": {
          "base_uri": "https://localhost:8080/"
        },
        "id": "M-0k7vjuUT_a",
        "outputId": "35710c47-9639-4eaf-c21c-beb37d8d785d"
      },
      "execution_count": 15,
      "outputs": [
        {
          "output_type": "execute_result",
          "data": {
            "text/plain": [
              "array([98.31, 97.33, 97.  , 94.08, 89.56])"
            ]
          },
          "metadata": {},
          "execution_count": 15
        }
      ]
    },
    {
      "cell_type": "code",
      "source": [
        "accuracy_test = np.zeros(number_steps+1)\n",
        "for i in range(pred_test.shape[0]):\n",
        "    condition_1 = True\n",
        "    for t in range(number_steps):\n",
        "        output = copy.deepcopy(pred_test[i][t])\n",
        "        condition_2 = True\n",
        "        for j in range(len(output)):\n",
        "            output[j] = round(output[j])\n",
        "        if(cost_path(X1[i],output) != cost_path(X1[i],y_test_2[i][t])):\n",
        "            condition_2 = False\n",
        "            condition_1 = False\n",
        "        if condition_2:\n",
        "            accuracy_test[t] += 1\n",
        "    if condition_1:\n",
        "        accuracy_test[number_steps] += 1\n",
        "accuracy_test = np.round(accuracy_test / pred_test.shape[0] * 100,2)\n",
        "accuracy_test"
      ],
      "metadata": {
        "colab": {
          "base_uri": "https://localhost:8080/"
        },
        "id": "yUynDtAgUX4F",
        "outputId": "a920e6cf-cf93-45c9-9442-af949197eb28"
      },
      "execution_count": 16,
      "outputs": [
        {
          "output_type": "execute_result",
          "data": {
            "text/plain": [
              "array([97.9 , 96.51, 95.53, 91.46, 86.5 ])"
            ]
          },
          "metadata": {},
          "execution_count": 16
        }
      ]
    },
    {
      "cell_type": "code",
      "source": [
        "model.summary()\n",
        "print(accuracy)\n",
        "print(accuracy_test)"
      ],
      "metadata": {
        "colab": {
          "base_uri": "https://localhost:8080/"
        },
        "id": "SwN6KiPeUakU",
        "outputId": "8d24caae-41c7-417c-da51-1d22bf1eaeab"
      },
      "execution_count": 17,
      "outputs": [
        {
          "output_type": "stream",
          "name": "stdout",
          "text": [
            "Model: \"sequential_1\"\n",
            "_________________________________________________________________\n",
            " Layer (type)                Output Shape              Param #   \n",
            "=================================================================\n",
            " lstm_2 (LSTM)               (None, 4, 32)             5632      \n",
            "                                                                 \n",
            " lstm_3 (LSTM)               (None, 4, 32)             8320      \n",
            "                                                                 \n",
            " time_distributed_1 (TimeDis  (None, 4, 11)            363       \n",
            " tributed)                                                       \n",
            "                                                                 \n",
            "=================================================================\n",
            "Total params: 14,315\n",
            "Trainable params: 14,315\n",
            "Non-trainable params: 0\n",
            "_________________________________________________________________\n",
            "[98.31 97.33 97.   94.08 89.56]\n",
            "[97.9  96.51 95.53 91.46 86.5 ]\n"
          ]
        }
      ]
    }
  ]
}