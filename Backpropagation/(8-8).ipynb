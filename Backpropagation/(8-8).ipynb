{
 "cells": [
  {
   "cell_type": "code",
   "execution_count": 1,
   "id": "6e0b208e",
   "metadata": {},
   "outputs": [
    {
     "data": {
      "text/html": [
       "<div>\n",
       "<style scoped>\n",
       "    .dataframe tbody tr th:only-of-type {\n",
       "        vertical-align: middle;\n",
       "    }\n",
       "\n",
       "    .dataframe tbody tr th {\n",
       "        vertical-align: top;\n",
       "    }\n",
       "\n",
       "    .dataframe thead th {\n",
       "        text-align: right;\n",
       "    }\n",
       "</style>\n",
       "<table border=\"1\" class=\"dataframe\">\n",
       "  <thead>\n",
       "    <tr style=\"text-align: right;\">\n",
       "      <th></th>\n",
       "      <th>X(1, 2)</th>\n",
       "      <th>X(1, 3)</th>\n",
       "      <th>X(1, 4)</th>\n",
       "      <th>X(2, 4)</th>\n",
       "      <th>X(2, 5)</th>\n",
       "      <th>X(3, 4)</th>\n",
       "      <th>X(3, 5)</th>\n",
       "      <th>X(4, 5)</th>\n",
       "      <th>Y(1, 2)</th>\n",
       "      <th>Y(1, 3)</th>\n",
       "      <th>Y(1, 4)</th>\n",
       "      <th>Y(2, 4)</th>\n",
       "      <th>Y(2, 5)</th>\n",
       "      <th>Y(3, 4)</th>\n",
       "      <th>Y(3, 5)</th>\n",
       "      <th>Y(4, 5)</th>\n",
       "    </tr>\n",
       "  </thead>\n",
       "  <tbody>\n",
       "    <tr>\n",
       "      <th>0</th>\n",
       "      <td>90</td>\n",
       "      <td>40</td>\n",
       "      <td>20</td>\n",
       "      <td>70</td>\n",
       "      <td>10</td>\n",
       "      <td>60</td>\n",
       "      <td>60</td>\n",
       "      <td>70</td>\n",
       "      <td>0</td>\n",
       "      <td>0</td>\n",
       "      <td>1</td>\n",
       "      <td>0</td>\n",
       "      <td>0</td>\n",
       "      <td>0</td>\n",
       "      <td>0</td>\n",
       "      <td>1</td>\n",
       "    </tr>\n",
       "    <tr>\n",
       "      <th>1</th>\n",
       "      <td>50</td>\n",
       "      <td>70</td>\n",
       "      <td>60</td>\n",
       "      <td>60</td>\n",
       "      <td>80</td>\n",
       "      <td>50</td>\n",
       "      <td>20</td>\n",
       "      <td>40</td>\n",
       "      <td>0</td>\n",
       "      <td>1</td>\n",
       "      <td>0</td>\n",
       "      <td>0</td>\n",
       "      <td>0</td>\n",
       "      <td>0</td>\n",
       "      <td>1</td>\n",
       "      <td>0</td>\n",
       "    </tr>\n",
       "    <tr>\n",
       "      <th>2</th>\n",
       "      <td>50</td>\n",
       "      <td>90</td>\n",
       "      <td>80</td>\n",
       "      <td>20</td>\n",
       "      <td>60</td>\n",
       "      <td>70</td>\n",
       "      <td>40</td>\n",
       "      <td>50</td>\n",
       "      <td>1</td>\n",
       "      <td>0</td>\n",
       "      <td>0</td>\n",
       "      <td>0</td>\n",
       "      <td>1</td>\n",
       "      <td>0</td>\n",
       "      <td>0</td>\n",
       "      <td>0</td>\n",
       "    </tr>\n",
       "    <tr>\n",
       "      <th>3</th>\n",
       "      <td>20</td>\n",
       "      <td>90</td>\n",
       "      <td>60</td>\n",
       "      <td>60</td>\n",
       "      <td>40</td>\n",
       "      <td>70</td>\n",
       "      <td>30</td>\n",
       "      <td>50</td>\n",
       "      <td>1</td>\n",
       "      <td>0</td>\n",
       "      <td>0</td>\n",
       "      <td>0</td>\n",
       "      <td>1</td>\n",
       "      <td>0</td>\n",
       "      <td>0</td>\n",
       "      <td>0</td>\n",
       "    </tr>\n",
       "    <tr>\n",
       "      <th>4</th>\n",
       "      <td>70</td>\n",
       "      <td>70</td>\n",
       "      <td>70</td>\n",
       "      <td>50</td>\n",
       "      <td>40</td>\n",
       "      <td>40</td>\n",
       "      <td>20</td>\n",
       "      <td>60</td>\n",
       "      <td>0</td>\n",
       "      <td>1</td>\n",
       "      <td>0</td>\n",
       "      <td>0</td>\n",
       "      <td>0</td>\n",
       "      <td>0</td>\n",
       "      <td>1</td>\n",
       "      <td>0</td>\n",
       "    </tr>\n",
       "  </tbody>\n",
       "</table>\n",
       "</div>"
      ],
      "text/plain": [
       "   X(1, 2)  X(1, 3)  X(1, 4)  X(2, 4)  X(2, 5)  X(3, 4)  X(3, 5)  X(4, 5)  \\\n",
       "0       90       40       20       70       10       60       60       70   \n",
       "1       50       70       60       60       80       50       20       40   \n",
       "2       50       90       80       20       60       70       40       50   \n",
       "3       20       90       60       60       40       70       30       50   \n",
       "4       70       70       70       50       40       40       20       60   \n",
       "\n",
       "   Y(1, 2)  Y(1, 3)  Y(1, 4)  Y(2, 4)  Y(2, 5)  Y(3, 4)  Y(3, 5)  Y(4, 5)  \n",
       "0        0        0        1        0        0        0        0        1  \n",
       "1        0        1        0        0        0        0        1        0  \n",
       "2        1        0        0        0        1        0        0        0  \n",
       "3        1        0        0        0        1        0        0        0  \n",
       "4        0        1        0        0        0        0        1        0  "
      ]
     },
     "execution_count": 1,
     "metadata": {},
     "output_type": "execute_result"
    }
   ],
   "source": [
    "import numpy as np\n",
    "import pandas as pd\n",
    "#dataset import\n",
    "dataset = pd.read_csv(\"../Data/data_(8-8).csv\") #You need to change #directory accordingly\n",
    "dataset.head()"
   ]
  },
  {
   "cell_type": "code",
   "execution_count": 2,
   "id": "4fc511a4",
   "metadata": {},
   "outputs": [],
   "source": [
    "X = dataset.iloc[:,:8].values\n",
    "y = dataset.iloc[:,8:16].values"
   ]
  },
  {
   "cell_type": "code",
   "execution_count": 3,
   "id": "9b16f10f",
   "metadata": {},
   "outputs": [
    {
     "data": {
      "text/plain": [
       "(100000, 8)"
      ]
     },
     "execution_count": 3,
     "metadata": {},
     "output_type": "execute_result"
    }
   ],
   "source": [
    "X.shape"
   ]
  },
  {
   "cell_type": "code",
   "execution_count": 4,
   "id": "b588da2e",
   "metadata": {},
   "outputs": [
    {
     "data": {
      "text/plain": [
       "(100000, 8)"
      ]
     },
     "execution_count": 4,
     "metadata": {},
     "output_type": "execute_result"
    }
   ],
   "source": [
    "y.shape"
   ]
  },
  {
   "cell_type": "code",
   "execution_count": 5,
   "id": "bbb4ea48",
   "metadata": {},
   "outputs": [
    {
     "data": {
      "text/plain": [
       "8"
      ]
     },
     "execution_count": 5,
     "metadata": {},
     "output_type": "execute_result"
    }
   ],
   "source": [
    "y[0].shape[0]"
   ]
  },
  {
   "cell_type": "code",
   "execution_count": 6,
   "id": "a6a95eb2",
   "metadata": {},
   "outputs": [],
   "source": [
    "from sklearn.preprocessing import StandardScaler\n",
    "sc = StandardScaler()\n",
    "X = sc.fit_transform(X)"
   ]
  },
  {
   "cell_type": "code",
   "execution_count": 7,
   "id": "a62cb901",
   "metadata": {},
   "outputs": [
    {
     "data": {
      "text/plain": [
       "array([ 0.0029868 ,  0.77637624,  0.39127709,  0.38487583,  1.15719413,\n",
       "        0.0025869 , -1.16100287, -0.38334669])"
      ]
     },
     "execution_count": 7,
     "metadata": {},
     "output_type": "execute_result"
    }
   ],
   "source": [
    "X[1,:]"
   ]
  },
  {
   "cell_type": "code",
   "execution_count": 8,
   "id": "6617a6fb",
   "metadata": {},
   "outputs": [
    {
     "data": {
      "text/plain": [
       "array([0, 1, 0, 0, 0, 0, 1, 0], dtype=int64)"
      ]
     },
     "execution_count": 8,
     "metadata": {},
     "output_type": "execute_result"
    }
   ],
   "source": [
    "y[1,:]"
   ]
  },
  {
   "cell_type": "code",
   "execution_count": 9,
   "id": "e0d7dfc9",
   "metadata": {},
   "outputs": [],
   "source": [
    "from sklearn.model_selection import train_test_split\n",
    "X_train,X_test,y_train,y_test = train_test_split(X,y,test_size = 0.1)"
   ]
  },
  {
   "cell_type": "code",
   "execution_count": 10,
   "id": "72c0fe51",
   "metadata": {},
   "outputs": [
    {
     "data": {
      "text/plain": [
       "array([-1.54658732e+00, -1.54760486e+00, -1.15984021e+00, -1.54386225e+00,\n",
       "       -4.98964234e-03,  1.16436962e+00,  1.85790185e-04,  1.16424698e+00])"
      ]
     },
     "execution_count": 10,
     "metadata": {},
     "output_type": "execute_result"
    }
   ],
   "source": [
    "X_test[1,:]"
   ]
  },
  {
   "cell_type": "code",
   "execution_count": 11,
   "id": "75cf1df7",
   "metadata": {},
   "outputs": [
    {
     "data": {
      "text/plain": [
       "array([1, 0, 0, 0, 1, 0, 0, 0], dtype=int64)"
      ]
     },
     "execution_count": 11,
     "metadata": {},
     "output_type": "execute_result"
    }
   ],
   "source": [
    "y_test[1,:]"
   ]
  },
  {
   "cell_type": "code",
   "execution_count": 12,
   "id": "9481c5aa",
   "metadata": {},
   "outputs": [],
   "source": [
    "#Dependencies\n",
    "import keras\n",
    "from keras.models import Sequential\n",
    "from keras.layers import Dense,Dropout\n",
    "# Neural network\n",
    "model = Sequential()\n",
    "model.add(Dense(8, input_dim=8, activation=\"relu\"))\n",
    "model.add(Dense(8, activation=\"sigmoid\"))"
   ]
  },
  {
   "cell_type": "code",
   "execution_count": 13,
   "id": "52646bd6",
   "metadata": {},
   "outputs": [],
   "source": [
    "model.compile(loss='binary_crossentropy', optimizer='adam', metrics=['accuracy', \"binary_accuracy\"])"
   ]
  },
  {
   "cell_type": "code",
   "execution_count": 14,
   "id": "14f80e09",
   "metadata": {},
   "outputs": [
    {
     "name": "stdout",
     "output_type": "stream",
     "text": [
      "Epoch 1/10\n",
      "1407/1407 [==============================] - 2s 981us/step - loss: 0.3210 - accuracy: 0.3270 - binary_accuracy: 0.8699\n",
      "Epoch 2/10\n",
      "1407/1407 [==============================] - 1s 981us/step - loss: 0.1409 - accuracy: 0.5046 - binary_accuracy: 0.9545\n",
      "Epoch 3/10\n",
      "1407/1407 [==============================] - 1s 1ms/step - loss: 0.1235 - accuracy: 0.6581 - binary_accuracy: 0.9573\n",
      "Epoch 4/10\n",
      "1407/1407 [==============================] - 1s 1ms/step - loss: 0.1149 - accuracy: 0.7165 - binary_accuracy: 0.9588\n",
      "Epoch 5/10\n",
      "1407/1407 [==============================] - 1s 910us/step - loss: 0.1096 - accuracy: 0.7536 - binary_accuracy: 0.9601\n",
      "Epoch 6/10\n",
      "1407/1407 [==============================] - 1s 950us/step - loss: 0.1060 - accuracy: 0.7715 - binary_accuracy: 0.9611\n",
      "Epoch 7/10\n",
      "1407/1407 [==============================] - 1s 863us/step - loss: 0.1032 - accuracy: 0.7865 - binary_accuracy: 0.9622\n",
      "Epoch 8/10\n",
      "1407/1407 [==============================] - 1s 977us/step - loss: 0.1009 - accuracy: 0.7948 - binary_accuracy: 0.9629\n",
      "Epoch 9/10\n",
      "1407/1407 [==============================] - 1s 1ms/step - loss: 0.0988 - accuracy: 0.7961 - binary_accuracy: 0.9632\n",
      "Epoch 10/10\n",
      "1407/1407 [==============================] - 1s 949us/step - loss: 0.0969 - accuracy: 0.7983 - binary_accuracy: 0.9641\n"
     ]
    },
    {
     "data": {
      "text/plain": [
       "<keras.callbacks.History at 0x1c05bd49d30>"
      ]
     },
     "execution_count": 14,
     "metadata": {},
     "output_type": "execute_result"
    }
   ],
   "source": [
    "model.fit(X_train, y_train, epochs=10, batch_size=64)"
   ]
  },
  {
   "cell_type": "code",
   "execution_count": 15,
   "id": "33a57e47",
   "metadata": {},
   "outputs": [
    {
     "name": "stdout",
     "output_type": "stream",
     "text": [
      "313/313 [==============================] - 0s 757us/step - loss: 0.0948 - accuracy: 0.7949 - binary_accuracy: 0.9632\n"
     ]
    }
   ],
   "source": [
    "loss_and_metrics = model.evaluate(X_test, y_test)"
   ]
  },
  {
   "cell_type": "code",
   "execution_count": 16,
   "id": "ac70b6cb",
   "metadata": {},
   "outputs": [
    {
     "name": "stdout",
     "output_type": "stream",
     "text": [
      "2813/2813 [==============================] - 2s 789us/step - loss: 0.0959 - accuracy: 0.7974 - binary_accuracy: 0.9638\n"
     ]
    }
   ],
   "source": [
    "loss_and_metrics_2 = model.evaluate(X_train, y_train)"
   ]
  },
  {
   "cell_type": "code",
   "execution_count": 17,
   "id": "31eb413d",
   "metadata": {},
   "outputs": [
    {
     "data": {
      "text/plain": [
       "2"
      ]
     },
     "execution_count": 17,
     "metadata": {},
     "output_type": "execute_result"
    }
   ],
   "source": [
    "len(model.layers)"
   ]
  },
  {
   "cell_type": "code",
   "execution_count": 34,
   "id": "f72ca5a6",
   "metadata": {},
   "outputs": [
    {
     "data": {
      "text/plain": [
       "array([ 0.0029868 ,  0.00171587,  1.16683574,  0.77062344, -0.77977883,\n",
       "       -1.54645672,  1.16137445,  0.77734857])"
      ]
     },
     "execution_count": 34,
     "metadata": {},
     "output_type": "execute_result"
    }
   ],
   "source": [
    "X_train[0]"
   ]
  },
  {
   "cell_type": "code",
   "execution_count": 30,
   "id": "257cea90",
   "metadata": {},
   "outputs": [
    {
     "data": {
      "text/plain": [
       "array([[ 0.0029868 ,  0.00171587,  0.77905642,  0.38487583, -0.00498964,\n",
       "        -0.77193491, -1.54806575,  0.39045015]])"
      ]
     },
     "execution_count": 30,
     "metadata": {},
     "output_type": "execute_result"
    }
   ],
   "source": [
    "X_test[2].reshape(1,len(X_test[2]))"
   ]
  },
  {
   "cell_type": "code",
   "execution_count": 33,
   "id": "2e5a66d7",
   "metadata": {},
   "outputs": [],
   "source": [
    "pred=model.predict(X_test)"
   ]
  },
  {
   "cell_type": "code",
   "execution_count": 18,
   "id": "1a66e778",
   "metadata": {},
   "outputs": [
    {
     "name": "stdout",
     "output_type": "stream",
     "text": [
      "[array([[ 0.73005176,  0.7322488 ,  0.5753645 ,  0.354886  ,  0.71824694,\n",
      "         1.049316  , -1.7278045 , -1.8260151 ],\n",
      "       [-1.2593274 ,  0.28394455,  1.0146409 , -1.1311109 , -1.8310947 ,\n",
      "         0.70149297,  0.7042009 ,  0.89697605],\n",
      "       [ 0.60521746, -1.1924655 , -1.5803285 ,  0.8255628 ,  1.0894659 ,\n",
      "        -1.70878   ,  0.90460855,  0.9870482 ],\n",
      "       [ 0.47412872,  0.81316555,  0.21848397,  0.08191466,  0.24382232,\n",
      "        -0.29796907,  0.6710351 , -0.1762534 ],\n",
      "       [ 0.78835964,  0.7636138 ,  0.6557957 ,  0.24416491,  0.5155286 ,\n",
      "         0.01962298, -1.8263258 , -1.1091017 ],\n",
      "       [-0.36841023, -0.16618289,  0.55654645, -1.4582374 ,  0.521393  ,\n",
      "        -0.18264048,  0.24080896,  0.3183276 ],\n",
      "       [-1.5537378 , -0.03996497,  1.1256343 ,  0.73723763, -1.3490105 ,\n",
      "         0.09635422,  0.6941578 ,  0.7782305 ],\n",
      "       [ 0.87423563, -0.850796  , -1.8497336 , -0.92430854,  0.70489144,\n",
      "        -0.15601553,  1.03843   ,  0.33033726]], dtype=float32), array([ 0.2632181 ,  0.64697105,  0.04601574, -2.966836  ,  0.0415149 ,\n",
      "       -0.1308041 ,  0.15547362,  0.07256801], dtype=float32)]\n",
      "[array([[-1.0978224 ,  0.7177781 , -0.68382275, -0.8465603 , -1.1109166 ,\n",
      "         0.5072881 ,  0.95494556, -1.2933613 ],\n",
      "       [-0.71853215, -0.23819026,  0.52065825, -3.0874557 , -1.1691431 ,\n",
      "         0.49298674, -0.09209517,  1.0189387 ],\n",
      "       [-1.5953685 , -2.2424827 ,  1.7731512 , -0.06634853, -1.3489922 ,\n",
      "        -1.8887044 , -2.2220018 ,  1.263623  ],\n",
      "       [-1.44438   ,  2.1620054 , -1.7375988 , -0.04221898, -1.1987062 ,\n",
      "         2.754669  , -2.4867961 ,  2.261183  ],\n",
      "       [-2.2409205 ,  2.6282182 , -2.3408995 , -0.5066277 , -1.6070156 ,\n",
      "        -1.9952395 ,  1.8559982 , -1.2265995 ],\n",
      "       [-1.6921523 , -1.388861  ,  1.274673  ,  1.0821282 ,  0.27011877,\n",
      "         0.487463  , -0.30587867, -0.16137092],\n",
      "       [ 1.74288   , -1.6839045 , -1.203437  , -1.4836657 ,  1.9892707 ,\n",
      "        -0.48303217, -1.3821945 , -1.9868498 ],\n",
      "       [ 1.5352832 , -2.088046  , -1.9314816 ,  0.59472203,  0.35522908,\n",
      "        -0.95832026, -1.5878762 , -0.02430252]], dtype=float32), array([ 0.5511207 ,  0.11503969, -0.24078254, -1.0310762 ,  0.18348126,\n",
      "       -2.411402  ,  0.09964429, -0.48410138], dtype=float32)]\n"
     ]
    }
   ],
   "source": [
    "for layer in model.layers:\n",
    "    print(layer.get_weights())"
   ]
  },
  {
   "cell_type": "code",
   "execution_count": 19,
   "id": "67b71bc9",
   "metadata": {},
   "outputs": [],
   "source": [
    "import numpy\n",
    "w=numpy.array([1,2,3])"
   ]
  },
  {
   "cell_type": "code",
   "execution_count": 20,
   "id": "60b8afbb",
   "metadata": {},
   "outputs": [
    {
     "data": {
      "text/plain": [
       "3"
      ]
     },
     "execution_count": 20,
     "metadata": {},
     "output_type": "execute_result"
    }
   ],
   "source": [
    "w.size"
   ]
  },
  {
   "cell_type": "code",
   "execution_count": null,
   "id": "ac30bc68",
   "metadata": {},
   "outputs": [],
   "source": []
  }
 ],
 "metadata": {
  "kernelspec": {
   "display_name": "Python 3 (ipykernel)",
   "language": "python",
   "name": "python3"
  },
  "language_info": {
   "codemirror_mode": {
    "name": "ipython",
    "version": 3
   },
   "file_extension": ".py",
   "mimetype": "text/x-python",
   "name": "python",
   "nbconvert_exporter": "python",
   "pygments_lexer": "ipython3",
   "version": "3.8.10"
  }
 },
 "nbformat": 4,
 "nbformat_minor": 5
}
