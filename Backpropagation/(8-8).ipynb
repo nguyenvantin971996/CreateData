{
 "cells": [
  {
   "cell_type": "code",
   "execution_count": 1,
   "id": "6e0b208e",
   "metadata": {},
   "outputs": [
    {
     "data": {
      "text/html": [
       "<div>\n",
       "<style scoped>\n",
       "    .dataframe tbody tr th:only-of-type {\n",
       "        vertical-align: middle;\n",
       "    }\n",
       "\n",
       "    .dataframe tbody tr th {\n",
       "        vertical-align: top;\n",
       "    }\n",
       "\n",
       "    .dataframe thead th {\n",
       "        text-align: right;\n",
       "    }\n",
       "</style>\n",
       "<table border=\"1\" class=\"dataframe\">\n",
       "  <thead>\n",
       "    <tr style=\"text-align: right;\">\n",
       "      <th></th>\n",
       "      <th>X(1, 2)</th>\n",
       "      <th>X(1, 3)</th>\n",
       "      <th>X(1, 4)</th>\n",
       "      <th>X(2, 4)</th>\n",
       "      <th>X(2, 5)</th>\n",
       "      <th>X(3, 4)</th>\n",
       "      <th>X(3, 5)</th>\n",
       "      <th>X(4, 5)</th>\n",
       "      <th>Y(1, 2)</th>\n",
       "      <th>Y(1, 3)</th>\n",
       "      <th>Y(1, 4)</th>\n",
       "      <th>Y(2, 4)</th>\n",
       "      <th>Y(2, 5)</th>\n",
       "      <th>Y(3, 4)</th>\n",
       "      <th>Y(3, 5)</th>\n",
       "      <th>Y(4, 5)</th>\n",
       "    </tr>\n",
       "  </thead>\n",
       "  <tbody>\n",
       "    <tr>\n",
       "      <th>0</th>\n",
       "      <td>90</td>\n",
       "      <td>40</td>\n",
       "      <td>20</td>\n",
       "      <td>70</td>\n",
       "      <td>10</td>\n",
       "      <td>60</td>\n",
       "      <td>60</td>\n",
       "      <td>70</td>\n",
       "      <td>0</td>\n",
       "      <td>0</td>\n",
       "      <td>1</td>\n",
       "      <td>0</td>\n",
       "      <td>0</td>\n",
       "      <td>0</td>\n",
       "      <td>0</td>\n",
       "      <td>1</td>\n",
       "    </tr>\n",
       "    <tr>\n",
       "      <th>1</th>\n",
       "      <td>50</td>\n",
       "      <td>70</td>\n",
       "      <td>60</td>\n",
       "      <td>60</td>\n",
       "      <td>80</td>\n",
       "      <td>50</td>\n",
       "      <td>20</td>\n",
       "      <td>40</td>\n",
       "      <td>0</td>\n",
       "      <td>1</td>\n",
       "      <td>0</td>\n",
       "      <td>0</td>\n",
       "      <td>0</td>\n",
       "      <td>0</td>\n",
       "      <td>1</td>\n",
       "      <td>0</td>\n",
       "    </tr>\n",
       "    <tr>\n",
       "      <th>2</th>\n",
       "      <td>50</td>\n",
       "      <td>90</td>\n",
       "      <td>80</td>\n",
       "      <td>20</td>\n",
       "      <td>60</td>\n",
       "      <td>70</td>\n",
       "      <td>40</td>\n",
       "      <td>50</td>\n",
       "      <td>1</td>\n",
       "      <td>0</td>\n",
       "      <td>0</td>\n",
       "      <td>0</td>\n",
       "      <td>1</td>\n",
       "      <td>0</td>\n",
       "      <td>0</td>\n",
       "      <td>0</td>\n",
       "    </tr>\n",
       "    <tr>\n",
       "      <th>3</th>\n",
       "      <td>20</td>\n",
       "      <td>90</td>\n",
       "      <td>60</td>\n",
       "      <td>60</td>\n",
       "      <td>40</td>\n",
       "      <td>70</td>\n",
       "      <td>30</td>\n",
       "      <td>50</td>\n",
       "      <td>1</td>\n",
       "      <td>0</td>\n",
       "      <td>0</td>\n",
       "      <td>0</td>\n",
       "      <td>1</td>\n",
       "      <td>0</td>\n",
       "      <td>0</td>\n",
       "      <td>0</td>\n",
       "    </tr>\n",
       "    <tr>\n",
       "      <th>4</th>\n",
       "      <td>70</td>\n",
       "      <td>70</td>\n",
       "      <td>70</td>\n",
       "      <td>50</td>\n",
       "      <td>40</td>\n",
       "      <td>40</td>\n",
       "      <td>20</td>\n",
       "      <td>60</td>\n",
       "      <td>0</td>\n",
       "      <td>1</td>\n",
       "      <td>0</td>\n",
       "      <td>0</td>\n",
       "      <td>0</td>\n",
       "      <td>0</td>\n",
       "      <td>1</td>\n",
       "      <td>0</td>\n",
       "    </tr>\n",
       "  </tbody>\n",
       "</table>\n",
       "</div>"
      ],
      "text/plain": [
       "   X(1, 2)  X(1, 3)  X(1, 4)  X(2, 4)  X(2, 5)  X(3, 4)  X(3, 5)  X(4, 5)  \\\n",
       "0       90       40       20       70       10       60       60       70   \n",
       "1       50       70       60       60       80       50       20       40   \n",
       "2       50       90       80       20       60       70       40       50   \n",
       "3       20       90       60       60       40       70       30       50   \n",
       "4       70       70       70       50       40       40       20       60   \n",
       "\n",
       "   Y(1, 2)  Y(1, 3)  Y(1, 4)  Y(2, 4)  Y(2, 5)  Y(3, 4)  Y(3, 5)  Y(4, 5)  \n",
       "0        0        0        1        0        0        0        0        1  \n",
       "1        0        1        0        0        0        0        1        0  \n",
       "2        1        0        0        0        1        0        0        0  \n",
       "3        1        0        0        0        1        0        0        0  \n",
       "4        0        1        0        0        0        0        1        0  "
      ]
     },
     "execution_count": 1,
     "metadata": {},
     "output_type": "execute_result"
    }
   ],
   "source": [
    "import numpy as np\n",
    "import pandas as pd\n",
    "#dataset import\n",
    "dataset = pd.read_csv(\"../Data/data_(8-8).csv\") #You need to change #directory accordingly\n",
    "dataset.head()"
   ]
  },
  {
   "cell_type": "code",
   "execution_count": 2,
   "id": "4fc511a4",
   "metadata": {},
   "outputs": [],
   "source": [
    "X = dataset.iloc[:,:8].values\n",
    "y = dataset.iloc[:,8:16].values"
   ]
  },
  {
   "cell_type": "code",
   "execution_count": 3,
   "id": "9b16f10f",
   "metadata": {},
   "outputs": [
    {
     "data": {
      "text/plain": [
       "(100000, 8)"
      ]
     },
     "execution_count": 3,
     "metadata": {},
     "output_type": "execute_result"
    }
   ],
   "source": [
    "X.shape"
   ]
  },
  {
   "cell_type": "code",
   "execution_count": 4,
   "id": "b588da2e",
   "metadata": {},
   "outputs": [
    {
     "data": {
      "text/plain": [
       "(100000, 8)"
      ]
     },
     "execution_count": 4,
     "metadata": {},
     "output_type": "execute_result"
    }
   ],
   "source": [
    "y.shape"
   ]
  },
  {
   "cell_type": "code",
   "execution_count": 5,
   "id": "bbb4ea48",
   "metadata": {},
   "outputs": [
    {
     "data": {
      "text/plain": [
       "8"
      ]
     },
     "execution_count": 5,
     "metadata": {},
     "output_type": "execute_result"
    }
   ],
   "source": [
    "y[0].shape[0]"
   ]
  },
  {
   "cell_type": "code",
   "execution_count": 6,
   "id": "a6a95eb2",
   "metadata": {},
   "outputs": [],
   "source": [
    "from sklearn.preprocessing import StandardScaler\n",
    "sc = StandardScaler()\n",
    "X = sc.fit_transform(X)"
   ]
  },
  {
   "cell_type": "code",
   "execution_count": 7,
   "id": "a62cb901",
   "metadata": {},
   "outputs": [
    {
     "data": {
      "text/plain": [
       "array([ 0.0029868 ,  0.77637624,  0.39127709,  0.38487583,  1.15719413,\n",
       "        0.0025869 , -1.16100287, -0.38334669])"
      ]
     },
     "execution_count": 7,
     "metadata": {},
     "output_type": "execute_result"
    }
   ],
   "source": [
    "X[1,:]"
   ]
  },
  {
   "cell_type": "code",
   "execution_count": 8,
   "id": "6617a6fb",
   "metadata": {},
   "outputs": [
    {
     "data": {
      "text/plain": [
       "array([0, 1, 0, 0, 0, 0, 1, 0], dtype=int64)"
      ]
     },
     "execution_count": 8,
     "metadata": {},
     "output_type": "execute_result"
    }
   ],
   "source": [
    "y[1,:]"
   ]
  },
  {
   "cell_type": "code",
   "execution_count": 9,
   "id": "e0d7dfc9",
   "metadata": {},
   "outputs": [],
   "source": [
    "from sklearn.model_selection import train_test_split\n",
    "X_train,X_test,y_train,y_test = train_test_split(X,y,test_size = 0.1)"
   ]
  },
  {
   "cell_type": "code",
   "execution_count": 10,
   "id": "72c0fe51",
   "metadata": {},
   "outputs": [
    {
     "data": {
      "text/plain": [
       "array([ 7.77773868e-01,  3.89046056e-01, -3.84281555e-01, -1.15811463e+00,\n",
       "       -1.55456801e+00,  7.77108716e-01,  1.85790185e-04,  1.16424698e+00])"
      ]
     },
     "execution_count": 10,
     "metadata": {},
     "output_type": "execute_result"
    }
   ],
   "source": [
    "X_test[1,:]"
   ]
  },
  {
   "cell_type": "code",
   "execution_count": 11,
   "id": "75cf1df7",
   "metadata": {},
   "outputs": [
    {
     "data": {
      "text/plain": [
       "array([0, 0, 1, 1, 1, 0, 0, 0], dtype=int64)"
      ]
     },
     "execution_count": 11,
     "metadata": {},
     "output_type": "execute_result"
    }
   ],
   "source": [
    "y_test[1,:]"
   ]
  },
  {
   "cell_type": "code",
   "execution_count": 12,
   "id": "9481c5aa",
   "metadata": {},
   "outputs": [],
   "source": [
    "#Dependencies\n",
    "import keras\n",
    "from keras.models import Sequential\n",
    "from keras.layers import Dense,Dropout\n",
    "# Neural network\n",
    "model = Sequential()\n",
    "model.add(Dense(8, input_dim=8, activation=\"relu\"))\n",
    "model.add(Dense(8, activation=\"sigmoid\"))"
   ]
  },
  {
   "cell_type": "code",
   "execution_count": 13,
   "id": "52646bd6",
   "metadata": {},
   "outputs": [],
   "source": [
    "model.compile(loss='binary_crossentropy', optimizer='adam', metrics=['accuracy', \"binary_accuracy\"])"
   ]
  },
  {
   "cell_type": "code",
   "execution_count": 14,
   "id": "14f80e09",
   "metadata": {},
   "outputs": [
    {
     "name": "stdout",
     "output_type": "stream",
     "text": [
      "Epoch 1/10\n",
      "1407/1407 [==============================] - 2s 969us/step - loss: 0.3399 - accuracy: 0.4805 - binary_accuracy: 0.85200s - loss: 0.4493 - accuracy: 0.3612 - b\n",
      "Epoch 2/10\n",
      "1407/1407 [==============================] - 1s 876us/step - loss: 0.1392 - accuracy: 0.6944 - binary_accuracy: 0.9543\n",
      "Epoch 3/10\n",
      "1407/1407 [==============================] - 1s 921us/step - loss: 0.1250 - accuracy: 0.7078 - binary_accuracy: 0.95640s - loss: 0.1267 - accuracy: 0.6958\n",
      "Epoch 4/10\n",
      "1407/1407 [==============================] - 1s 864us/step - loss: 0.1193 - accuracy: 0.7358 - binary_accuracy: 0.9566\n",
      "Epoch 5/10\n",
      "1407/1407 [==============================] - 1s 848us/step - loss: 0.1164 - accuracy: 0.7572 - binary_accuracy: 0.9567\n",
      "Epoch 6/10\n",
      "1407/1407 [==============================] - 1s 890us/step - loss: 0.1146 - accuracy: 0.7654 - binary_accuracy: 0.9567\n",
      "Epoch 7/10\n",
      "1407/1407 [==============================] - 1s 922us/step - loss: 0.1132 - accuracy: 0.7761 - binary_accuracy: 0.9570\n",
      "Epoch 8/10\n",
      "1407/1407 [==============================] - 1s 983us/step - loss: 0.1120 - accuracy: 0.7754 - binary_accuracy: 0.9571\n",
      "Epoch 9/10\n",
      "1407/1407 [==============================] - 1s 892us/step - loss: 0.1108 - accuracy: 0.7772 - binary_accuracy: 0.9572\n",
      "Epoch 10/10\n",
      "1407/1407 [==============================] - 1s 875us/step - loss: 0.1095 - accuracy: 0.7767 - binary_accuracy: 0.9576\n"
     ]
    },
    {
     "data": {
      "text/plain": [
       "<keras.callbacks.History at 0x2eb375d1580>"
      ]
     },
     "execution_count": 14,
     "metadata": {},
     "output_type": "execute_result"
    }
   ],
   "source": [
    "model.fit(X_train, y_train, epochs=10, batch_size=64)"
   ]
  },
  {
   "cell_type": "code",
   "execution_count": 15,
   "id": "33a57e47",
   "metadata": {},
   "outputs": [
    {
     "name": "stdout",
     "output_type": "stream",
     "text": [
      "313/313 [==============================] - 0s 929us/step - loss: 0.1123 - accuracy: 0.7849 - binary_accuracy: 0.9578\n"
     ]
    }
   ],
   "source": [
    "loss_and_metrics = model.evaluate(X_test, y_test)"
   ]
  },
  {
   "cell_type": "code",
   "execution_count": 16,
   "id": "ac70b6cb",
   "metadata": {},
   "outputs": [
    {
     "name": "stdout",
     "output_type": "stream",
     "text": [
      "2813/2813 [==============================] - 2s 674us/step - loss: 0.1088 - accuracy: 0.7816 - binary_accuracy: 0.9579\n"
     ]
    }
   ],
   "source": [
    "loss_and_metrics_2 = model.evaluate(X_train, y_train)"
   ]
  },
  {
   "cell_type": "code",
   "execution_count": 17,
   "id": "31eb413d",
   "metadata": {},
   "outputs": [
    {
     "data": {
      "text/plain": [
       "2"
      ]
     },
     "execution_count": 17,
     "metadata": {},
     "output_type": "execute_result"
    }
   ],
   "source": [
    "len(model.layers)"
   ]
  },
  {
   "cell_type": "code",
   "execution_count": 18,
   "id": "f72ca5a6",
   "metadata": {},
   "outputs": [
    {
     "data": {
      "text/plain": [
       "array([-1.15919379e+00,  1.16370642e+00, -7.72060880e-01, -8.71789610e-04,\n",
       "        7.69799541e-01,  2.58690285e-03, -1.16100287e+00, -1.54404195e+00])"
      ]
     },
     "execution_count": 18,
     "metadata": {},
     "output_type": "execute_result"
    }
   ],
   "source": [
    "X_train[0]"
   ]
  },
  {
   "cell_type": "code",
   "execution_count": 19,
   "id": "257cea90",
   "metadata": {},
   "outputs": [
    {
     "data": {
      "text/plain": [
       "array([[-1.54658732e+00,  1.55103660e+00,  7.79056419e-01,\n",
       "        -8.71789610e-04, -4.98964234e-03,  1.55163053e+00,\n",
       "         7.74311560e-01,  7.77348565e-01]])"
      ]
     },
     "execution_count": 19,
     "metadata": {},
     "output_type": "execute_result"
    }
   ],
   "source": [
    "X_test[2].reshape(1,len(X_test[2]))"
   ]
  },
  {
   "cell_type": "code",
   "execution_count": 24,
   "id": "d1953160",
   "metadata": {},
   "outputs": [],
   "source": [
    "pr=model.predict(X_test[0:1,:])"
   ]
  },
  {
   "cell_type": "code",
   "execution_count": 25,
   "id": "1de87c25",
   "metadata": {},
   "outputs": [
    {
     "data": {
      "text/plain": [
       "array([[9.99988973e-01, 1.28199845e-05, 3.70271773e-05, 6.70975487e-06,\n",
       "        9.99965191e-01, 9.36141610e-03, 2.15858221e-04, 1.68681145e-04]],\n",
       "      dtype=float32)"
      ]
     },
     "execution_count": 25,
     "metadata": {},
     "output_type": "execute_result"
    }
   ],
   "source": [
    "pr"
   ]
  },
  {
   "cell_type": "code",
   "execution_count": 26,
   "id": "c16e6932",
   "metadata": {},
   "outputs": [
    {
     "data": {
      "text/plain": [
       "array([[1, 0, 0, 0, 1, 0, 0, 0]], dtype=int64)"
      ]
     },
     "execution_count": 26,
     "metadata": {},
     "output_type": "execute_result"
    }
   ],
   "source": [
    "y_test[0:1,:]"
   ]
  },
  {
   "cell_type": "code",
   "execution_count": 20,
   "id": "2e5a66d7",
   "metadata": {},
   "outputs": [],
   "source": [
    "pred=model.predict(X_test)"
   ]
  },
  {
   "cell_type": "code",
   "execution_count": 21,
   "id": "1a66e778",
   "metadata": {},
   "outputs": [
    {
     "name": "stdout",
     "output_type": "stream",
     "text": [
      "[array([[-1.9033229 ,  0.9783429 ,  0.62644327, -1.6258036 ,  0.5520173 ,\n",
      "        -0.48361787,  0.0826516 ,  0.9012289 ],\n",
      "       [ 0.8588601 ,  0.67512876,  1.0092334 ,  0.4941129 , -1.5357367 ,\n",
      "         0.58988   ,  0.3686411 , -1.9620153 ],\n",
      "       [ 1.1022907 , -1.709366  , -1.7898502 ,  0.9673996 ,  0.88152426,\n",
      "        -0.07643665, -0.44492608,  1.1179835 ],\n",
      "       [-0.04658457,  0.6548294 ,  0.23367724,  0.9729392 ,  0.22004955,\n",
      "        -0.5918461 , -0.15742148,  0.47825235],\n",
      "       [-1.113156  ,  0.9783498 ,  0.39213467, -1.6136272 ,  0.5709271 ,\n",
      "        -1.3712053 ,  0.58711255,  0.731779  ],\n",
      "       [ 0.30050892, -0.27665222,  0.9271285 ,  0.21178448,  0.6431671 ,\n",
      "         0.29705834, -0.08574794, -0.06936794],\n",
      "       [ 0.68989563,  0.12191362,  1.059512  ,  0.53922373, -1.5958815 ,\n",
      "         0.724515  ,  0.9200049 , -1.2983816 ],\n",
      "       [ 0.4132715 , -1.1292484 , -1.5533515 ,  0.9179561 ,  0.9085496 ,\n",
      "         0.6984505 , -1.4970107 ,  0.52589923]], dtype=float32), array([ 0.1757775 ,  0.08539829, -0.00719839,  0.00235287,  0.05282074,\n",
      "       -0.20729505,  0.4348143 ,  0.18348104], dtype=float32)]\n",
      "[array([[ 1.8880312 , -1.967918  , -2.0646663 ,  0.5617205 ,  1.0205767 ,\n",
      "        -0.7253215 , -1.5364885 , -0.63572985],\n",
      "       [-1.775937  , -1.5054996 ,  1.4618273 , -0.9149093 , -1.236355  ,\n",
      "         0.57862926, -0.18149796,  0.25894502],\n",
      "       [-1.2547566 , -1.440434  ,  1.2474747 , -0.27678323, -0.6455848 ,\n",
      "        -2.2001395 , -1.5058731 ,  1.168036  ],\n",
      "       [ 1.6279956 , -1.2049966 , -1.3135538 , -2.720489  ,  1.4304421 ,\n",
      "        -0.23671012, -0.90734196, -1.1065388 ],\n",
      "       [-1.3520477 ,  1.4415467 , -1.0386245 , -0.4123234 , -1.3965105 ,\n",
      "        -1.7882056 ,  1.7070853 , -1.6561261 ],\n",
      "       [-0.01223569, -1.022275  ,  0.28857625,  0.75620323,  1.0280098 ,\n",
      "        -0.5653964 , -1.1207318 , -1.3085542 ],\n",
      "       [-0.08198354, -0.13263555,  0.23527859,  0.13264862, -1.1713313 ,\n",
      "         0.02712118, -1.2865514 ,  0.9278088 ],\n",
      "       [-1.9120382 ,  1.8567129 , -2.0351243 , -0.70332944, -1.3385026 ,\n",
      "         0.43021658,  0.5940873 , -0.26835644]], dtype=float32), array([-0.28177485,  0.18836865,  0.06441557, -1.5762407 , -0.02967451,\n",
      "       -1.177166  ,  0.7603731 , -0.33554265], dtype=float32)]\n"
     ]
    }
   ],
   "source": [
    "for layer in model.layers:\n",
    "    print(layer.get_weights())"
   ]
  },
  {
   "cell_type": "code",
   "execution_count": 22,
   "id": "67b71bc9",
   "metadata": {},
   "outputs": [],
   "source": [
    "import numpy\n",
    "w=numpy.array([1,2,3])"
   ]
  },
  {
   "cell_type": "code",
   "execution_count": 23,
   "id": "60b8afbb",
   "metadata": {},
   "outputs": [
    {
     "data": {
      "text/plain": [
       "3"
      ]
     },
     "execution_count": 23,
     "metadata": {},
     "output_type": "execute_result"
    }
   ],
   "source": [
    "w.size"
   ]
  },
  {
   "cell_type": "code",
   "execution_count": null,
   "id": "ac30bc68",
   "metadata": {},
   "outputs": [],
   "source": []
  }
 ],
 "metadata": {
  "kernelspec": {
   "display_name": "Python 3 (ipykernel)",
   "language": "python",
   "name": "python3"
  },
  "language_info": {
   "codemirror_mode": {
    "name": "ipython",
    "version": 3
   },
   "file_extension": ".py",
   "mimetype": "text/x-python",
   "name": "python",
   "nbconvert_exporter": "python",
   "pygments_lexer": "ipython3",
   "version": "3.8.10"
  }
 },
 "nbformat": 4,
 "nbformat_minor": 5
}
