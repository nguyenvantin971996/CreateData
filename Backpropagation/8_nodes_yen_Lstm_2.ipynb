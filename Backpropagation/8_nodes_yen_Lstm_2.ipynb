{
 "cells": [
  {
   "cell_type": "code",
   "execution_count": 1,
   "id": "6e0b208e",
   "metadata": {},
   "outputs": [
    {
     "data": {
      "text/html": [
       "<div>\n",
       "<style scoped>\n",
       "    .dataframe tbody tr th:only-of-type {\n",
       "        vertical-align: middle;\n",
       "    }\n",
       "\n",
       "    .dataframe tbody tr th {\n",
       "        vertical-align: top;\n",
       "    }\n",
       "\n",
       "    .dataframe thead th {\n",
       "        text-align: right;\n",
       "    }\n",
       "</style>\n",
       "<table border=\"1\" class=\"dataframe\">\n",
       "  <thead>\n",
       "    <tr style=\"text-align: right;\">\n",
       "      <th></th>\n",
       "      <th>X(1, 2)</th>\n",
       "      <th>X(1, 3)</th>\n",
       "      <th>X(2, 4)</th>\n",
       "      <th>X(2, 5)</th>\n",
       "      <th>X(3, 4)</th>\n",
       "      <th>X(3, 7)</th>\n",
       "      <th>X(4, 6)</th>\n",
       "      <th>X(5, 6)</th>\n",
       "      <th>X(5, 8)</th>\n",
       "      <th>X(6, 7)</th>\n",
       "      <th>...</th>\n",
       "      <th>Y4(1, 3)</th>\n",
       "      <th>Y4(2, 4)</th>\n",
       "      <th>Y4(2, 5)</th>\n",
       "      <th>Y4(3, 4)</th>\n",
       "      <th>Y4(3, 7)</th>\n",
       "      <th>Y4(4, 6)</th>\n",
       "      <th>Y4(5, 6)</th>\n",
       "      <th>Y4(5, 8)</th>\n",
       "      <th>Y4(6, 7)</th>\n",
       "      <th>Y4(7, 8)</th>\n",
       "    </tr>\n",
       "  </thead>\n",
       "  <tbody>\n",
       "    <tr>\n",
       "      <th>0</th>\n",
       "      <td>10</td>\n",
       "      <td>40</td>\n",
       "      <td>30</td>\n",
       "      <td>50</td>\n",
       "      <td>30</td>\n",
       "      <td>20</td>\n",
       "      <td>20</td>\n",
       "      <td>10</td>\n",
       "      <td>90</td>\n",
       "      <td>70</td>\n",
       "      <td>...</td>\n",
       "      <td>0</td>\n",
       "      <td>1</td>\n",
       "      <td>0</td>\n",
       "      <td>0</td>\n",
       "      <td>0</td>\n",
       "      <td>1</td>\n",
       "      <td>0</td>\n",
       "      <td>0</td>\n",
       "      <td>1</td>\n",
       "      <td>1</td>\n",
       "    </tr>\n",
       "    <tr>\n",
       "      <th>1</th>\n",
       "      <td>90</td>\n",
       "      <td>50</td>\n",
       "      <td>50</td>\n",
       "      <td>30</td>\n",
       "      <td>30</td>\n",
       "      <td>80</td>\n",
       "      <td>80</td>\n",
       "      <td>30</td>\n",
       "      <td>30</td>\n",
       "      <td>80</td>\n",
       "      <td>...</td>\n",
       "      <td>1</td>\n",
       "      <td>0</td>\n",
       "      <td>0</td>\n",
       "      <td>1</td>\n",
       "      <td>0</td>\n",
       "      <td>1</td>\n",
       "      <td>1</td>\n",
       "      <td>1</td>\n",
       "      <td>0</td>\n",
       "      <td>0</td>\n",
       "    </tr>\n",
       "    <tr>\n",
       "      <th>2</th>\n",
       "      <td>10</td>\n",
       "      <td>60</td>\n",
       "      <td>80</td>\n",
       "      <td>50</td>\n",
       "      <td>40</td>\n",
       "      <td>50</td>\n",
       "      <td>30</td>\n",
       "      <td>90</td>\n",
       "      <td>80</td>\n",
       "      <td>30</td>\n",
       "      <td>...</td>\n",
       "      <td>1</td>\n",
       "      <td>0</td>\n",
       "      <td>0</td>\n",
       "      <td>1</td>\n",
       "      <td>0</td>\n",
       "      <td>1</td>\n",
       "      <td>0</td>\n",
       "      <td>0</td>\n",
       "      <td>1</td>\n",
       "      <td>1</td>\n",
       "    </tr>\n",
       "    <tr>\n",
       "      <th>3</th>\n",
       "      <td>80</td>\n",
       "      <td>20</td>\n",
       "      <td>40</td>\n",
       "      <td>60</td>\n",
       "      <td>50</td>\n",
       "      <td>80</td>\n",
       "      <td>90</td>\n",
       "      <td>60</td>\n",
       "      <td>80</td>\n",
       "      <td>80</td>\n",
       "      <td>...</td>\n",
       "      <td>1</td>\n",
       "      <td>0</td>\n",
       "      <td>0</td>\n",
       "      <td>1</td>\n",
       "      <td>0</td>\n",
       "      <td>1</td>\n",
       "      <td>1</td>\n",
       "      <td>1</td>\n",
       "      <td>0</td>\n",
       "      <td>0</td>\n",
       "    </tr>\n",
       "    <tr>\n",
       "      <th>4</th>\n",
       "      <td>20</td>\n",
       "      <td>70</td>\n",
       "      <td>50</td>\n",
       "      <td>40</td>\n",
       "      <td>20</td>\n",
       "      <td>70</td>\n",
       "      <td>80</td>\n",
       "      <td>80</td>\n",
       "      <td>10</td>\n",
       "      <td>10</td>\n",
       "      <td>...</td>\n",
       "      <td>0</td>\n",
       "      <td>1</td>\n",
       "      <td>0</td>\n",
       "      <td>0</td>\n",
       "      <td>0</td>\n",
       "      <td>1</td>\n",
       "      <td>1</td>\n",
       "      <td>1</td>\n",
       "      <td>0</td>\n",
       "      <td>0</td>\n",
       "    </tr>\n",
       "  </tbody>\n",
       "</table>\n",
       "<p>5 rows × 55 columns</p>\n",
       "</div>"
      ],
      "text/plain": [
       "   X(1, 2)  X(1, 3)  X(2, 4)  X(2, 5)  X(3, 4)  X(3, 7)  X(4, 6)  X(5, 6)  \\\n",
       "0       10       40       30       50       30       20       20       10   \n",
       "1       90       50       50       30       30       80       80       30   \n",
       "2       10       60       80       50       40       50       30       90   \n",
       "3       80       20       40       60       50       80       90       60   \n",
       "4       20       70       50       40       20       70       80       80   \n",
       "\n",
       "   X(5, 8)  X(6, 7)  ...  Y4(1, 3)  Y4(2, 4)  Y4(2, 5)  Y4(3, 4)  Y4(3, 7)  \\\n",
       "0       90       70  ...         0         1         0         0         0   \n",
       "1       30       80  ...         1         0         0         1         0   \n",
       "2       80       30  ...         1         0         0         1         0   \n",
       "3       80       80  ...         1         0         0         1         0   \n",
       "4       10       10  ...         0         1         0         0         0   \n",
       "\n",
       "   Y4(4, 6)  Y4(5, 6)  Y4(5, 8)  Y4(6, 7)  Y4(7, 8)  \n",
       "0         1         0         0         1         1  \n",
       "1         1         1         1         0         0  \n",
       "2         1         0         0         1         1  \n",
       "3         1         1         1         0         0  \n",
       "4         1         1         1         0         0  \n",
       "\n",
       "[5 rows x 55 columns]"
      ]
     },
     "execution_count": 1,
     "metadata": {},
     "output_type": "execute_result"
    }
   ],
   "source": [
    "import numpy as np\n",
    "import pandas as pd\n",
    "#dataset import\n",
    "df = pd.read_csv(\"../Data/data_8_nodes_yen.csv\") #You need to change #directory accordingly\n",
    "df.head()"
   ]
  },
  {
   "cell_type": "code",
   "execution_count": 2,
   "id": "d4b582aa",
   "metadata": {},
   "outputs": [],
   "source": [
    "edges = [[1, 2], [1, 3], [2, 4], [2, 5], [3, 4], [3, 7], [4, 6], [5, 6], [5, 8], [6, 7], [7, 8]]"
   ]
  },
  {
   "cell_type": "code",
   "execution_count": 3,
   "id": "91a6fe1f",
   "metadata": {},
   "outputs": [],
   "source": [
    "number_edges = 11\n",
    "number_steps = 4\n",
    "start_node = 1\n",
    "end_node = 8"
   ]
  },
  {
   "cell_type": "code",
   "execution_count": 4,
   "id": "4fc511a4",
   "metadata": {},
   "outputs": [],
   "source": [
    "X = df.iloc[:,:number_edges].values\n",
    "y = df.iloc[:,number_edges:].values"
   ]
  },
  {
   "cell_type": "code",
   "execution_count": 5,
   "id": "4ee9d464",
   "metadata": {},
   "outputs": [
    {
     "data": {
      "text/plain": [
       "(100000, 11)"
      ]
     },
     "execution_count": 5,
     "metadata": {},
     "output_type": "execute_result"
    }
   ],
   "source": [
    "X.shape"
   ]
  },
  {
   "cell_type": "code",
   "execution_count": 6,
   "id": "a810522a",
   "metadata": {},
   "outputs": [
    {
     "data": {
      "text/plain": [
       "(100000, 44)"
      ]
     },
     "execution_count": 6,
     "metadata": {},
     "output_type": "execute_result"
    }
   ],
   "source": [
    "y.shape"
   ]
  },
  {
   "cell_type": "code",
   "execution_count": 7,
   "id": "e0d7dfc9",
   "metadata": {},
   "outputs": [],
   "source": [
    "from sklearn.model_selection import train_test_split\n",
    "X1,X2,y_train,y_test = train_test_split(X,y,test_size = 0.1)"
   ]
  },
  {
   "cell_type": "code",
   "execution_count": 8,
   "id": "72c0fe51",
   "metadata": {},
   "outputs": [
    {
     "data": {
      "text/plain": [
       "array([20, 70, 20, 90, 20, 30, 50, 70, 50, 40, 10], dtype=int64)"
      ]
     },
     "execution_count": 8,
     "metadata": {},
     "output_type": "execute_result"
    }
   ],
   "source": [
    "X2[1]"
   ]
  },
  {
   "cell_type": "code",
   "execution_count": 9,
   "id": "75cf1df7",
   "metadata": {},
   "outputs": [
    {
     "data": {
      "text/plain": [
       "array([1, 0, 1, 0, 1, 1, 0, 0, 0, 0, 1, 0, 1, 0, 0, 0, 1, 0, 0, 0, 0, 1,\n",
       "       1, 0, 1, 0, 0, 0, 1, 0, 0, 1, 1, 1, 0, 0, 1, 0, 0, 0, 0, 1, 0, 0],\n",
       "      dtype=int64)"
      ]
     },
     "execution_count": 9,
     "metadata": {},
     "output_type": "execute_result"
    }
   ],
   "source": [
    "y_test[1]"
   ]
  },
  {
   "cell_type": "code",
   "execution_count": 10,
   "id": "a6a95eb2",
   "metadata": {},
   "outputs": [],
   "source": [
    "from sklearn.preprocessing import StandardScaler\n",
    "sc = StandardScaler()\n",
    "X_train = sc.fit_transform(X1)\n",
    "X_test= sc.fit_transform(X2)"
   ]
  },
  {
   "cell_type": "code",
   "execution_count": 11,
   "id": "eae2b4c6",
   "metadata": {},
   "outputs": [
    {
     "data": {
      "text/plain": [
       "(90000, 4, 11)"
      ]
     },
     "execution_count": 11,
     "metadata": {},
     "output_type": "execute_result"
    }
   ],
   "source": [
    "X_train = np.repeat(X_train[:, np.newaxis, : ], number_steps, axis=1)\n",
    "X_train.shape"
   ]
  },
  {
   "cell_type": "code",
   "execution_count": 12,
   "id": "ff4381ab",
   "metadata": {},
   "outputs": [
    {
     "data": {
      "text/plain": [
       "(10000, 4, 11)"
      ]
     },
     "execution_count": 12,
     "metadata": {},
     "output_type": "execute_result"
    }
   ],
   "source": [
    "X_test = np.repeat(X_test[:, np.newaxis, : ], number_steps, axis=1)\n",
    "X_test.shape"
   ]
  },
  {
   "cell_type": "code",
   "execution_count": 13,
   "id": "7ea0aaf7",
   "metadata": {},
   "outputs": [
    {
     "data": {
      "text/plain": [
       "array([1, 0, 0, 1, 0, 0, 0, 0, 1, 0, 0, 0, 1, 0, 0, 0, 1, 0, 0, 0, 0, 1,\n",
       "       1, 0, 1, 0, 0, 0, 1, 0, 0, 1, 1, 0, 1, 1, 1, 1, 0, 0, 0, 1, 0, 0],\n",
       "      dtype=int64)"
      ]
     },
     "execution_count": 13,
     "metadata": {},
     "output_type": "execute_result"
    }
   ],
   "source": [
    "y_train[0]"
   ]
  },
  {
   "cell_type": "code",
   "execution_count": 14,
   "id": "ab424219",
   "metadata": {},
   "outputs": [
    {
     "data": {
      "text/plain": [
       "(90000, 4, 11)"
      ]
     },
     "execution_count": 14,
     "metadata": {},
     "output_type": "execute_result"
    }
   ],
   "source": [
    "y_train_2 = np.reshape(y_train,(y_train.shape[0], number_steps, number_edges))\n",
    "y_train_2.shape"
   ]
  },
  {
   "cell_type": "code",
   "execution_count": 15,
   "id": "022dba58",
   "metadata": {},
   "outputs": [
    {
     "data": {
      "text/plain": [
       "array([[1, 0, 0, 1, 0, 0, 0, 0, 1, 0, 0],\n",
       "       [0, 1, 0, 0, 0, 1, 0, 0, 0, 0, 1],\n",
       "       [1, 0, 1, 0, 0, 0, 1, 0, 0, 1, 1],\n",
       "       [0, 1, 1, 1, 1, 0, 0, 0, 1, 0, 0]], dtype=int64)"
      ]
     },
     "execution_count": 15,
     "metadata": {},
     "output_type": "execute_result"
    }
   ],
   "source": [
    "y_train_2[0]"
   ]
  },
  {
   "cell_type": "code",
   "execution_count": 16,
   "id": "b1c2ac26",
   "metadata": {},
   "outputs": [
    {
     "data": {
      "text/plain": [
       "(10000, 4, 11)"
      ]
     },
     "execution_count": 16,
     "metadata": {},
     "output_type": "execute_result"
    }
   ],
   "source": [
    "y_test_2 = np.reshape(y_test,(y_test.shape[0], number_steps, number_edges))\n",
    "y_test_2.shape"
   ]
  },
  {
   "cell_type": "code",
   "execution_count": 17,
   "id": "ce578d21",
   "metadata": {},
   "outputs": [
    {
     "data": {
      "text/plain": [
       "array([20, 70, 20, 90, 20, 30, 50, 70, 50, 40, 10], dtype=int64)"
      ]
     },
     "execution_count": 17,
     "metadata": {},
     "output_type": "execute_result"
    }
   ],
   "source": [
    "X2[1,:]"
   ]
  },
  {
   "cell_type": "code",
   "execution_count": 18,
   "id": "9481c5aa",
   "metadata": {},
   "outputs": [],
   "source": [
    "#Dependencies\n",
    "import keras\n",
    "from keras.models import Sequential\n",
    "from keras.layers import Dense,Dropout,TimeDistributed,LSTM\n",
    "# Neural network\n",
    "model = Sequential()\n",
    "model.add(LSTM(32, input_shape=(number_steps, number_edges), \n",
    "                    return_sequences=True))\n",
    "model.add(LSTM(32, return_sequences=True))\n",
    "model.add(TimeDistributed(Dense(number_edges, activation='sigmoid')))"
   ]
  },
  {
   "cell_type": "code",
   "execution_count": 19,
   "id": "78cac25e",
   "metadata": {},
   "outputs": [
    {
     "name": "stdout",
     "output_type": "stream",
     "text": [
      "Model: \"sequential\"\n",
      "_________________________________________________________________\n",
      " Layer (type)                Output Shape              Param #   \n",
      "=================================================================\n",
      " lstm (LSTM)                 (None, 4, 32)             5632      \n",
      "                                                                 \n",
      " lstm_1 (LSTM)               (None, 4, 32)             8320      \n",
      "                                                                 \n",
      " time_distributed (TimeDistr  (None, 4, 11)            363       \n",
      " ibuted)                                                         \n",
      "                                                                 \n",
      "=================================================================\n",
      "Total params: 14,315\n",
      "Trainable params: 14,315\n",
      "Non-trainable params: 0\n",
      "_________________________________________________________________\n"
     ]
    }
   ],
   "source": [
    "model.summary()"
   ]
  },
  {
   "cell_type": "code",
   "execution_count": 20,
   "id": "52646bd6",
   "metadata": {},
   "outputs": [],
   "source": [
    "model.compile(loss='BinaryCrossentropy', optimizer='adam')"
   ]
  },
  {
   "cell_type": "code",
   "execution_count": 21,
   "id": "14f80e09",
   "metadata": {},
   "outputs": [
    {
     "name": "stdout",
     "output_type": "stream",
     "text": [
      "Epoch 1/100\n",
      "1407/1407 [==============================] - 10s 5ms/step - loss: 0.4209\n",
      "Epoch 2/100\n",
      "1407/1407 [==============================] - 6s 4ms/step - loss: 0.2137\n",
      "Epoch 3/100\n",
      "1407/1407 [==============================] - 6s 4ms/step - loss: 0.1586\n",
      "Epoch 4/100\n",
      "1407/1407 [==============================] - 6s 4ms/step - loss: 0.1301\n",
      "Epoch 5/100\n",
      "1407/1407 [==============================] - 6s 4ms/step - loss: 0.1123\n",
      "Epoch 6/100\n",
      "1407/1407 [==============================] - 6s 4ms/step - loss: 0.1000\n",
      "Epoch 7/100\n",
      "1407/1407 [==============================] - 6s 4ms/step - loss: 0.0908\n",
      "Epoch 8/100\n",
      "1407/1407 [==============================] - 6s 4ms/step - loss: 0.0838\n",
      "Epoch 9/100\n",
      "1407/1407 [==============================] - 6s 4ms/step - loss: 0.0783\n",
      "Epoch 10/100\n",
      "1407/1407 [==============================] - 6s 4ms/step - loss: 0.0735\n",
      "Epoch 11/100\n",
      "1407/1407 [==============================] - 6s 4ms/step - loss: 0.0698\n",
      "Epoch 12/100\n",
      "1407/1407 [==============================] - 6s 4ms/step - loss: 0.0664\n",
      "Epoch 13/100\n",
      "1407/1407 [==============================] - 6s 4ms/step - loss: 0.0636\n",
      "Epoch 14/100\n",
      "1407/1407 [==============================] - 6s 4ms/step - loss: 0.0609\n",
      "Epoch 15/100\n",
      "1407/1407 [==============================] - 6s 4ms/step - loss: 0.0588\n",
      "Epoch 16/100\n",
      "1407/1407 [==============================] - 6s 4ms/step - loss: 0.0566\n",
      "Epoch 17/100\n",
      "1407/1407 [==============================] - 6s 4ms/step - loss: 0.0549\n",
      "Epoch 18/100\n",
      "1407/1407 [==============================] - 6s 4ms/step - loss: 0.0527\n",
      "Epoch 19/100\n",
      "1407/1407 [==============================] - 6s 4ms/step - loss: 0.0512\n",
      "Epoch 20/100\n",
      "1407/1407 [==============================] - 6s 4ms/step - loss: 0.0498\n",
      "Epoch 21/100\n",
      "1407/1407 [==============================] - 6s 4ms/step - loss: 0.0486\n",
      "Epoch 22/100\n",
      "1407/1407 [==============================] - 6s 4ms/step - loss: 0.0472\n",
      "Epoch 23/100\n",
      "1407/1407 [==============================] - 6s 4ms/step - loss: 0.0463\n",
      "Epoch 24/100\n",
      "1407/1407 [==============================] - 6s 4ms/step - loss: 0.0452\n",
      "Epoch 25/100\n",
      "1407/1407 [==============================] - 6s 4ms/step - loss: 0.0441\n",
      "Epoch 26/100\n",
      "1407/1407 [==============================] - 6s 4ms/step - loss: 0.0428\n",
      "Epoch 27/100\n",
      "1407/1407 [==============================] - 6s 4ms/step - loss: 0.0421\n",
      "Epoch 28/100\n",
      "1407/1407 [==============================] - 6s 4ms/step - loss: 0.0415\n",
      "Epoch 29/100\n",
      "1407/1407 [==============================] - 6s 4ms/step - loss: 0.0406\n",
      "Epoch 30/100\n",
      "1407/1407 [==============================] - 6s 4ms/step - loss: 0.0402\n",
      "Epoch 31/100\n",
      "1407/1407 [==============================] - 6s 4ms/step - loss: 0.0389\n",
      "Epoch 32/100\n",
      "1407/1407 [==============================] - 6s 4ms/step - loss: 0.0384\n",
      "Epoch 33/100\n",
      "1407/1407 [==============================] - 6s 4ms/step - loss: 0.0379\n",
      "Epoch 34/100\n",
      "1407/1407 [==============================] - 6s 4ms/step - loss: 0.0369\n",
      "Epoch 35/100\n",
      "1407/1407 [==============================] - 6s 4ms/step - loss: 0.0367\n",
      "Epoch 36/100\n",
      "1407/1407 [==============================] - 6s 4ms/step - loss: 0.0356\n",
      "Epoch 37/100\n",
      "1407/1407 [==============================] - 6s 4ms/step - loss: 0.0357\n",
      "Epoch 38/100\n",
      "1407/1407 [==============================] - 6s 4ms/step - loss: 0.0345\n",
      "Epoch 39/100\n",
      "1407/1407 [==============================] - 6s 4ms/step - loss: 0.0344\n",
      "Epoch 40/100\n",
      "1407/1407 [==============================] - 6s 4ms/step - loss: 0.0342\n",
      "Epoch 41/100\n",
      "1407/1407 [==============================] - 6s 4ms/step - loss: 0.0335\n",
      "Epoch 42/100\n",
      "1407/1407 [==============================] - 6s 4ms/step - loss: 0.0332\n",
      "Epoch 43/100\n",
      "1407/1407 [==============================] - 6s 4ms/step - loss: 0.0326\n",
      "Epoch 44/100\n",
      "1407/1407 [==============================] - 6s 4ms/step - loss: 0.0321\n",
      "Epoch 45/100\n",
      "1407/1407 [==============================] - 6s 4ms/step - loss: 0.0323\n",
      "Epoch 46/100\n",
      "1407/1407 [==============================] - 6s 4ms/step - loss: 0.0316\n",
      "Epoch 47/100\n",
      "1407/1407 [==============================] - 6s 4ms/step - loss: 0.0311\n",
      "Epoch 48/100\n",
      "1407/1407 [==============================] - 6s 4ms/step - loss: 0.0311\n",
      "Epoch 49/100\n",
      "1407/1407 [==============================] - 6s 4ms/step - loss: 0.0304\n",
      "Epoch 50/100\n",
      "1407/1407 [==============================] - 6s 4ms/step - loss: 0.0302\n",
      "Epoch 51/100\n",
      "1407/1407 [==============================] - 6s 4ms/step - loss: 0.0304\n",
      "Epoch 52/100\n",
      "1407/1407 [==============================] - 6s 4ms/step - loss: 0.0292\n",
      "Epoch 53/100\n",
      "1407/1407 [==============================] - 6s 4ms/step - loss: 0.0293\n",
      "Epoch 54/100\n",
      "1407/1407 [==============================] - 6s 4ms/step - loss: 0.0286\n",
      "Epoch 55/100\n",
      "1407/1407 [==============================] - 6s 4ms/step - loss: 0.0288\n",
      "Epoch 56/100\n",
      "1407/1407 [==============================] - 6s 4ms/step - loss: 0.0285\n",
      "Epoch 57/100\n",
      "1407/1407 [==============================] - 6s 4ms/step - loss: 0.0281\n",
      "Epoch 58/100\n",
      "1407/1407 [==============================] - 6s 4ms/step - loss: 0.0280\n",
      "Epoch 59/100\n",
      "1407/1407 [==============================] - 6s 4ms/step - loss: 0.0276\n",
      "Epoch 60/100\n",
      "1407/1407 [==============================] - 6s 4ms/step - loss: 0.0275\n",
      "Epoch 61/100\n",
      "1407/1407 [==============================] - 6s 4ms/step - loss: 0.0272\n",
      "Epoch 62/100\n",
      "1407/1407 [==============================] - 6s 4ms/step - loss: 0.0271\n",
      "Epoch 63/100\n",
      "1407/1407 [==============================] - 6s 4ms/step - loss: 0.0264\n",
      "Epoch 64/100\n",
      "1407/1407 [==============================] - 6s 4ms/step - loss: 0.0264\n",
      "Epoch 65/100\n",
      "1407/1407 [==============================] - 6s 4ms/step - loss: 0.0261\n",
      "Epoch 66/100\n",
      "1407/1407 [==============================] - 6s 4ms/step - loss: 0.0262\n",
      "Epoch 67/100\n",
      "1407/1407 [==============================] - 6s 4ms/step - loss: 0.0256\n",
      "Epoch 68/100\n",
      "1407/1407 [==============================] - 6s 4ms/step - loss: 0.0254\n",
      "Epoch 69/100\n",
      "1407/1407 [==============================] - 6s 4ms/step - loss: 0.0254\n",
      "Epoch 70/100\n",
      "1407/1407 [==============================] - 7s 5ms/step - loss: 0.0249\n",
      "Epoch 71/100\n",
      "1407/1407 [==============================] - 6s 4ms/step - loss: 0.0253\n",
      "Epoch 72/100\n",
      "1407/1407 [==============================] - 6s 4ms/step - loss: 0.0249\n",
      "Epoch 73/100\n",
      "1407/1407 [==============================] - 6s 4ms/step - loss: 0.0249\n",
      "Epoch 74/100\n",
      "1407/1407 [==============================] - 6s 4ms/step - loss: 0.0245\n",
      "Epoch 75/100\n",
      "1407/1407 [==============================] - 6s 4ms/step - loss: 0.0244\n",
      "Epoch 76/100\n",
      "1407/1407 [==============================] - 6s 4ms/step - loss: 0.0240\n",
      "Epoch 77/100\n",
      "1407/1407 [==============================] - 6s 4ms/step - loss: 0.0239\n",
      "Epoch 78/100\n",
      "1407/1407 [==============================] - 6s 4ms/step - loss: 0.0237\n",
      "Epoch 79/100\n",
      "1407/1407 [==============================] - 6s 4ms/step - loss: 0.0235\n",
      "Epoch 80/100\n",
      "1407/1407 [==============================] - 6s 4ms/step - loss: 0.0234\n",
      "Epoch 81/100\n",
      "1407/1407 [==============================] - 6s 4ms/step - loss: 0.0233\n",
      "Epoch 82/100\n",
      "1407/1407 [==============================] - 6s 4ms/step - loss: 0.0231\n",
      "Epoch 83/100\n",
      "1407/1407 [==============================] - 6s 4ms/step - loss: 0.0228\n",
      "Epoch 84/100\n",
      "1407/1407 [==============================] - 6s 4ms/step - loss: 0.0230\n",
      "Epoch 85/100\n",
      "1407/1407 [==============================] - 6s 4ms/step - loss: 0.0227\n",
      "Epoch 86/100\n",
      "1407/1407 [==============================] - 6s 4ms/step - loss: 0.0230\n",
      "Epoch 87/100\n",
      "1407/1407 [==============================] - 6s 4ms/step - loss: 0.0219\n",
      "Epoch 88/100\n",
      "1407/1407 [==============================] - 6s 4ms/step - loss: 0.0219\n",
      "Epoch 89/100\n",
      "1407/1407 [==============================] - 6s 4ms/step - loss: 0.0225\n",
      "Epoch 90/100\n",
      "1407/1407 [==============================] - 6s 4ms/step - loss: 0.0219\n",
      "Epoch 91/100\n",
      "1407/1407 [==============================] - 6s 4ms/step - loss: 0.0220\n",
      "Epoch 92/100\n",
      "1407/1407 [==============================] - 6s 4ms/step - loss: 0.0216\n",
      "Epoch 93/100\n",
      "1407/1407 [==============================] - 6s 4ms/step - loss: 0.0221\n",
      "Epoch 94/100\n",
      "1407/1407 [==============================] - 6s 4ms/step - loss: 0.0215\n",
      "Epoch 95/100\n",
      "1407/1407 [==============================] - 6s 4ms/step - loss: 0.0215\n",
      "Epoch 96/100\n",
      "1407/1407 [==============================] - 6s 4ms/step - loss: 0.0211\n",
      "Epoch 97/100\n"
     ]
    },
    {
     "name": "stdout",
     "output_type": "stream",
     "text": [
      "1407/1407 [==============================] - 6s 4ms/step - loss: 0.0212\n",
      "Epoch 98/100\n",
      "1407/1407 [==============================] - 6s 4ms/step - loss: 0.0214\n",
      "Epoch 99/100\n",
      "1407/1407 [==============================] - 6s 4ms/step - loss: 0.0210\n",
      "Epoch 100/100\n",
      "1407/1407 [==============================] - 6s 4ms/step - loss: 0.0203\n"
     ]
    },
    {
     "data": {
      "text/plain": [
       "<keras.callbacks.History at 0x1e6cf50e1c0>"
      ]
     },
     "execution_count": 21,
     "metadata": {},
     "output_type": "execute_result"
    }
   ],
   "source": [
    "model.fit(X_train, y_train_2, epochs=100, batch_size=64)"
   ]
  },
  {
   "cell_type": "code",
   "execution_count": 22,
   "id": "31eb413d",
   "metadata": {},
   "outputs": [
    {
     "data": {
      "text/plain": [
       "3"
      ]
     },
     "execution_count": 22,
     "metadata": {},
     "output_type": "execute_result"
    }
   ],
   "source": [
    "len(model.layers)"
   ]
  },
  {
   "cell_type": "code",
   "execution_count": 23,
   "id": "2e5a66d7",
   "metadata": {},
   "outputs": [
    {
     "name": "stdout",
     "output_type": "stream",
     "text": [
      "2813/2813 [==============================] - 6s 2ms/step\n"
     ]
    }
   ],
   "source": [
    "pred=model.predict(X_train)"
   ]
  },
  {
   "cell_type": "code",
   "execution_count": 24,
   "id": "5a0fafbc",
   "metadata": {},
   "outputs": [
    {
     "data": {
      "text/plain": [
       "(90000, 4, 11)"
      ]
     },
     "execution_count": 24,
     "metadata": {},
     "output_type": "execute_result"
    }
   ],
   "source": [
    "pred.shape"
   ]
  },
  {
   "cell_type": "code",
   "execution_count": 25,
   "id": "6d1b1859",
   "metadata": {},
   "outputs": [
    {
     "data": {
      "text/plain": [
       "array([[1.00000000e+00, 4.72483812e-08, 7.04259890e-07, 9.99998629e-01,\n",
       "        2.62577888e-08, 1.34464808e-05, 3.79182495e-07, 6.77132775e-05,\n",
       "        9.99999642e-01, 3.07901246e-07, 3.85556177e-07],\n",
       "       [3.37459454e-07, 9.99999642e-01, 7.11686766e-07, 1.00906846e-07,\n",
       "        2.65782027e-08, 9.99996483e-01, 1.22328697e-06, 3.55765586e-08,\n",
       "        5.02607307e-08, 2.55671875e-06, 1.00000000e+00],\n",
       "       [9.99999762e-01, 2.50437779e-07, 9.99995947e-01, 2.62132608e-06,\n",
       "        1.40070897e-05, 2.00190523e-04, 9.99972522e-01, 3.20517825e-06,\n",
       "        3.99332180e-07, 9.99991477e-01, 9.99999583e-01],\n",
       "       [2.04057767e-04, 9.99796033e-01, 9.99146342e-01, 9.98162448e-01,\n",
       "        9.98092294e-01, 4.84714838e-04, 5.67043247e-03, 1.62542518e-03,\n",
       "        9.99752104e-01, 2.23621819e-03, 2.47913413e-04]], dtype=float32)"
      ]
     },
     "execution_count": 25,
     "metadata": {},
     "output_type": "execute_result"
    }
   ],
   "source": [
    "pred[0]"
   ]
  },
  {
   "cell_type": "code",
   "execution_count": 26,
   "id": "2834b5d4",
   "metadata": {},
   "outputs": [
    {
     "data": {
      "text/plain": [
       "array([[1, 0, 0, 1, 0, 0, 0, 0, 1, 0, 0],\n",
       "       [0, 1, 0, 0, 0, 1, 0, 0, 0, 0, 1],\n",
       "       [1, 0, 1, 0, 0, 0, 1, 0, 0, 1, 1],\n",
       "       [0, 1, 1, 1, 1, 0, 0, 0, 1, 0, 0]], dtype=int64)"
      ]
     },
     "execution_count": 26,
     "metadata": {},
     "output_type": "execute_result"
    }
   ],
   "source": [
    "y_train_2[0]"
   ]
  },
  {
   "cell_type": "code",
   "execution_count": 27,
   "id": "95838411",
   "metadata": {},
   "outputs": [],
   "source": [
    "import copy\n",
    "def cost_path(x,y):\n",
    "    cost = 0\n",
    "    path = []\n",
    "    for i in range(number_edges):\n",
    "        if y[i]==1:\n",
    "            path.append(edges[i])\n",
    "            cost+= x[i]\n",
    "    if(len(path)!=0):\n",
    "        path_2 = copy.deepcopy(path)\n",
    "        path_nodes = [start_node]\n",
    "        if(path[0][0]!=start_node):\n",
    "            cost = 0\n",
    "        else:\n",
    "            path_nodes.append(path[0][1])\n",
    "            del path_2[0]\n",
    "            condition = True\n",
    "            while(len(path_2)!=0 and condition):\n",
    "                condition = False\n",
    "                for i in range(len(path_2)):\n",
    "                    if(path_nodes[-1] in path_2[i]):\n",
    "                        path_2[i].remove(path_nodes[-1])\n",
    "                        path_nodes.append(path_2[i][0])\n",
    "                        path_2.pop(i)\n",
    "                        condition = True\n",
    "                        break\n",
    "        if(path_nodes[-1]!=end_node or len(path_2)!=0):\n",
    "            cost = 0\n",
    "    else:\n",
    "        cost = 0\n",
    "    return cost"
   ]
  },
  {
   "cell_type": "code",
   "execution_count": 28,
   "id": "b0fbc804",
   "metadata": {},
   "outputs": [
    {
     "data": {
      "text/plain": [
       "80"
      ]
     },
     "execution_count": 28,
     "metadata": {},
     "output_type": "execute_result"
    }
   ],
   "source": [
    "cost_path(X1[1],y_train[1])"
   ]
  },
  {
   "cell_type": "code",
   "execution_count": 29,
   "id": "9703501f",
   "metadata": {},
   "outputs": [
    {
     "data": {
      "text/plain": [
       "array([98.63, 97.85, 97.56, 95.25, 91.61])"
      ]
     },
     "execution_count": 29,
     "metadata": {},
     "output_type": "execute_result"
    }
   ],
   "source": [
    "accuracy = np.zeros(number_steps+1)\n",
    "for i in range(pred.shape[0]):\n",
    "    condition_1 = True\n",
    "    for t in range(number_steps):\n",
    "        output = copy.deepcopy(pred[i][t])\n",
    "        condition_2 = True\n",
    "        for j in range(len(output)):\n",
    "            output[j] = round(output[j])\n",
    "        if(cost_path(X1[i],output) != cost_path(X1[i],y_train_2[i][t])):\n",
    "            condition_2 = False\n",
    "            condition_1 = False\n",
    "        if condition_2:\n",
    "            accuracy[t] += 1\n",
    "    if condition_1:\n",
    "        accuracy[number_steps] += 1\n",
    "accuracy = np.round(accuracy / pred.shape[0] * 100,2)\n",
    "accuracy"
   ]
  },
  {
   "cell_type": "code",
   "execution_count": 30,
   "id": "3f7012a5",
   "metadata": {},
   "outputs": [
    {
     "name": "stdout",
     "output_type": "stream",
     "text": [
      "313/313 [==============================] - 1s 2ms/step\n"
     ]
    }
   ],
   "source": [
    "pred_test=model.predict(X_test)"
   ]
  },
  {
   "cell_type": "code",
   "execution_count": 31,
   "id": "a59247fc",
   "metadata": {},
   "outputs": [
    {
     "data": {
      "text/plain": [
       "array([98.45, 96.98, 96.37, 93.  , 88.82])"
      ]
     },
     "execution_count": 31,
     "metadata": {},
     "output_type": "execute_result"
    }
   ],
   "source": [
    "accuracy_test = np.zeros(number_steps+1)\n",
    "for i in range(pred_test.shape[0]):\n",
    "    condition_1 = True\n",
    "    for t in range(number_steps):\n",
    "        output = copy.deepcopy(pred_test[i][t])\n",
    "        condition_2 = True\n",
    "        for j in range(len(output)):\n",
    "            output[j] = round(output[j])\n",
    "        if(cost_path(X1[i],output) != cost_path(X1[i],y_test_2[i][t])):\n",
    "            condition_2 = False\n",
    "            condition_1 = False\n",
    "        if condition_2:\n",
    "            accuracy_test[t] += 1\n",
    "    if condition_1:\n",
    "        accuracy_test[number_steps] += 1\n",
    "accuracy_test = np.round(accuracy_test / pred_test.shape[0] * 100,2)\n",
    "accuracy_test"
   ]
  },
  {
   "cell_type": "code",
   "execution_count": 32,
   "id": "429bf757",
   "metadata": {},
   "outputs": [
    {
     "name": "stdout",
     "output_type": "stream",
     "text": [
      "Model: \"sequential\"\n",
      "_________________________________________________________________\n",
      " Layer (type)                Output Shape              Param #   \n",
      "=================================================================\n",
      " lstm (LSTM)                 (None, 4, 32)             5632      \n",
      "                                                                 \n",
      " lstm_1 (LSTM)               (None, 4, 32)             8320      \n",
      "                                                                 \n",
      " time_distributed (TimeDistr  (None, 4, 11)            363       \n",
      " ibuted)                                                         \n",
      "                                                                 \n",
      "=================================================================\n",
      "Total params: 14,315\n",
      "Trainable params: 14,315\n",
      "Non-trainable params: 0\n",
      "_________________________________________________________________\n",
      "[98.63 97.85 97.56 95.25 91.61]\n",
      "[98.45 96.98 96.37 93.   88.82]\n"
     ]
    }
   ],
   "source": [
    "model.summary()\n",
    "print(accuracy)\n",
    "print(accuracy_test)"
   ]
  },
  {
   "cell_type": "code",
   "execution_count": null,
   "id": "131368ee",
   "metadata": {},
   "outputs": [],
   "source": []
  }
 ],
 "metadata": {
  "kernelspec": {
   "display_name": "Python 3 (ipykernel)",
   "language": "python",
   "name": "python3"
  },
  "language_info": {
   "codemirror_mode": {
    "name": "ipython",
    "version": 3
   },
   "file_extension": ".py",
   "mimetype": "text/x-python",
   "name": "python",
   "nbconvert_exporter": "python",
   "pygments_lexer": "ipython3",
   "version": "3.8.10"
  }
 },
 "nbformat": 4,
 "nbformat_minor": 5
}
