{
 "cells": [
  {
   "cell_type": "code",
   "execution_count": 1,
   "id": "6e0b208e",
   "metadata": {},
   "outputs": [
    {
     "data": {
      "text/html": [
       "<div>\n",
       "<style scoped>\n",
       "    .dataframe tbody tr th:only-of-type {\n",
       "        vertical-align: middle;\n",
       "    }\n",
       "\n",
       "    .dataframe tbody tr th {\n",
       "        vertical-align: top;\n",
       "    }\n",
       "\n",
       "    .dataframe thead th {\n",
       "        text-align: right;\n",
       "    }\n",
       "</style>\n",
       "<table border=\"1\" class=\"dataframe\">\n",
       "  <thead>\n",
       "    <tr style=\"text-align: right;\">\n",
       "      <th></th>\n",
       "      <th>X(1, 2)</th>\n",
       "      <th>X(1, 3)</th>\n",
       "      <th>X(1, 4)</th>\n",
       "      <th>X(2, 4)</th>\n",
       "      <th>X(2, 5)</th>\n",
       "      <th>X(3, 4)</th>\n",
       "      <th>X(3, 6)</th>\n",
       "      <th>X(4, 5)</th>\n",
       "      <th>X(4, 6)</th>\n",
       "      <th>X(4, 7)</th>\n",
       "      <th>...</th>\n",
       "      <th>Y4(1, 4)</th>\n",
       "      <th>Y4(2, 4)</th>\n",
       "      <th>Y4(2, 5)</th>\n",
       "      <th>Y4(3, 4)</th>\n",
       "      <th>Y4(3, 6)</th>\n",
       "      <th>Y4(4, 5)</th>\n",
       "      <th>Y4(4, 6)</th>\n",
       "      <th>Y4(4, 7)</th>\n",
       "      <th>Y4(5, 7)</th>\n",
       "      <th>Y4(6, 7)</th>\n",
       "    </tr>\n",
       "  </thead>\n",
       "  <tbody>\n",
       "    <tr>\n",
       "      <th>0</th>\n",
       "      <td>20</td>\n",
       "      <td>10</td>\n",
       "      <td>90</td>\n",
       "      <td>40</td>\n",
       "      <td>50</td>\n",
       "      <td>50</td>\n",
       "      <td>90</td>\n",
       "      <td>30</td>\n",
       "      <td>70</td>\n",
       "      <td>90</td>\n",
       "      <td>...</td>\n",
       "      <td>1</td>\n",
       "      <td>0</td>\n",
       "      <td>0</td>\n",
       "      <td>0</td>\n",
       "      <td>0</td>\n",
       "      <td>1</td>\n",
       "      <td>0</td>\n",
       "      <td>0</td>\n",
       "      <td>0</td>\n",
       "      <td>0</td>\n",
       "    </tr>\n",
       "    <tr>\n",
       "      <th>1</th>\n",
       "      <td>10</td>\n",
       "      <td>10</td>\n",
       "      <td>60</td>\n",
       "      <td>30</td>\n",
       "      <td>40</td>\n",
       "      <td>70</td>\n",
       "      <td>50</td>\n",
       "      <td>70</td>\n",
       "      <td>70</td>\n",
       "      <td>90</td>\n",
       "      <td>...</td>\n",
       "      <td>1</td>\n",
       "      <td>0</td>\n",
       "      <td>0</td>\n",
       "      <td>0</td>\n",
       "      <td>0</td>\n",
       "      <td>1</td>\n",
       "      <td>0</td>\n",
       "      <td>0</td>\n",
       "      <td>0</td>\n",
       "      <td>0</td>\n",
       "    </tr>\n",
       "    <tr>\n",
       "      <th>2</th>\n",
       "      <td>40</td>\n",
       "      <td>90</td>\n",
       "      <td>40</td>\n",
       "      <td>80</td>\n",
       "      <td>40</td>\n",
       "      <td>60</td>\n",
       "      <td>50</td>\n",
       "      <td>40</td>\n",
       "      <td>50</td>\n",
       "      <td>50</td>\n",
       "      <td>...</td>\n",
       "      <td>0</td>\n",
       "      <td>1</td>\n",
       "      <td>0</td>\n",
       "      <td>0</td>\n",
       "      <td>0</td>\n",
       "      <td>1</td>\n",
       "      <td>0</td>\n",
       "      <td>0</td>\n",
       "      <td>0</td>\n",
       "      <td>0</td>\n",
       "    </tr>\n",
       "    <tr>\n",
       "      <th>3</th>\n",
       "      <td>30</td>\n",
       "      <td>20</td>\n",
       "      <td>10</td>\n",
       "      <td>20</td>\n",
       "      <td>20</td>\n",
       "      <td>90</td>\n",
       "      <td>80</td>\n",
       "      <td>60</td>\n",
       "      <td>30</td>\n",
       "      <td>50</td>\n",
       "      <td>...</td>\n",
       "      <td>1</td>\n",
       "      <td>0</td>\n",
       "      <td>0</td>\n",
       "      <td>0</td>\n",
       "      <td>0</td>\n",
       "      <td>0</td>\n",
       "      <td>0</td>\n",
       "      <td>1</td>\n",
       "      <td>1</td>\n",
       "      <td>0</td>\n",
       "    </tr>\n",
       "    <tr>\n",
       "      <th>4</th>\n",
       "      <td>10</td>\n",
       "      <td>40</td>\n",
       "      <td>70</td>\n",
       "      <td>40</td>\n",
       "      <td>20</td>\n",
       "      <td>30</td>\n",
       "      <td>70</td>\n",
       "      <td>50</td>\n",
       "      <td>80</td>\n",
       "      <td>70</td>\n",
       "      <td>...</td>\n",
       "      <td>0</td>\n",
       "      <td>0</td>\n",
       "      <td>0</td>\n",
       "      <td>1</td>\n",
       "      <td>0</td>\n",
       "      <td>1</td>\n",
       "      <td>0</td>\n",
       "      <td>0</td>\n",
       "      <td>0</td>\n",
       "      <td>0</td>\n",
       "    </tr>\n",
       "  </tbody>\n",
       "</table>\n",
       "<p>5 rows × 60 columns</p>\n",
       "</div>"
      ],
      "text/plain": [
       "   X(1, 2)  X(1, 3)  X(1, 4)  X(2, 4)  X(2, 5)  X(3, 4)  X(3, 6)  X(4, 5)  \\\n",
       "0       20       10       90       40       50       50       90       30   \n",
       "1       10       10       60       30       40       70       50       70   \n",
       "2       40       90       40       80       40       60       50       40   \n",
       "3       30       20       10       20       20       90       80       60   \n",
       "4       10       40       70       40       20       30       70       50   \n",
       "\n",
       "   X(4, 6)  X(4, 7)  ...  Y4(1, 4)  Y4(2, 4)  Y4(2, 5)  Y4(3, 4)  Y4(3, 6)  \\\n",
       "0       70       90  ...         1         0         0         0         0   \n",
       "1       70       90  ...         1         0         0         0         0   \n",
       "2       50       50  ...         0         1         0         0         0   \n",
       "3       30       50  ...         1         0         0         0         0   \n",
       "4       80       70  ...         0         0         0         1         0   \n",
       "\n",
       "   Y4(4, 5)  Y4(4, 6)  Y4(4, 7)  Y4(5, 7)  Y4(6, 7)  \n",
       "0         1         0         0         0         0  \n",
       "1         1         0         0         0         0  \n",
       "2         1         0         0         0         0  \n",
       "3         0         0         1         1         0  \n",
       "4         1         0         0         0         0  \n",
       "\n",
       "[5 rows x 60 columns]"
      ]
     },
     "execution_count": 1,
     "metadata": {},
     "output_type": "execute_result"
    }
   ],
   "source": [
    "import numpy as np\n",
    "import pandas as pd\n",
    "#dataset import\n",
    "dataset = pd.read_csv(\"../Data/data_12_12_yen.csv\") #You need to change #directory accordingly\n",
    "dataset.head()"
   ]
  },
  {
   "cell_type": "code",
   "execution_count": 2,
   "id": "4fc511a4",
   "metadata": {},
   "outputs": [],
   "source": [
    "X = dataset.iloc[:,:12].values\n",
    "y = dataset.iloc[:,12:60].values"
   ]
  },
  {
   "cell_type": "code",
   "execution_count": 3,
   "id": "9b16f10f",
   "metadata": {},
   "outputs": [
    {
     "data": {
      "text/plain": [
       "(100000, 12)"
      ]
     },
     "execution_count": 3,
     "metadata": {},
     "output_type": "execute_result"
    }
   ],
   "source": [
    "X.shape"
   ]
  },
  {
   "cell_type": "code",
   "execution_count": 4,
   "id": "b588da2e",
   "metadata": {},
   "outputs": [
    {
     "data": {
      "text/plain": [
       "(100000, 48)"
      ]
     },
     "execution_count": 4,
     "metadata": {},
     "output_type": "execute_result"
    }
   ],
   "source": [
    "y.shape"
   ]
  },
  {
   "cell_type": "code",
   "execution_count": 5,
   "id": "bbb4ea48",
   "metadata": {},
   "outputs": [
    {
     "data": {
      "text/plain": [
       "48"
      ]
     },
     "execution_count": 5,
     "metadata": {},
     "output_type": "execute_result"
    }
   ],
   "source": [
    "y[0].shape[0]"
   ]
  },
  {
   "cell_type": "code",
   "execution_count": 6,
   "id": "a6a95eb2",
   "metadata": {},
   "outputs": [],
   "source": [
    "from sklearn.preprocessing import StandardScaler\n",
    "sc = StandardScaler()\n",
    "X = sc.fit_transform(X)"
   ]
  },
  {
   "cell_type": "code",
   "execution_count": 7,
   "id": "a62cb901",
   "metadata": {},
   "outputs": [
    {
     "data": {
      "text/plain": [
       "array([-1.55013727, -1.55235664,  0.38954234, -0.76772508, -0.38633749,\n",
       "        0.77444228,  0.00211055,  0.7803807 ,  0.77406685,  1.55269907,\n",
       "       -1.55541596, -1.16284333])"
      ]
     },
     "execution_count": 7,
     "metadata": {},
     "output_type": "execute_result"
    }
   ],
   "source": [
    "X[1,:]"
   ]
  },
  {
   "cell_type": "code",
   "execution_count": 8,
   "id": "6617a6fb",
   "metadata": {},
   "outputs": [
    {
     "data": {
      "text/plain": [
       "array([1, 0, 0, 0, 1, 0, 0, 0, 0, 0, 0, 0, 0, 1, 0, 0, 0, 0, 1, 0, 0, 0,\n",
       "       1, 1, 1, 0, 0, 1, 0, 0, 0, 1, 0, 0, 0, 0, 0, 0, 1, 0, 0, 0, 0, 1,\n",
       "       0, 0, 0, 0], dtype=int64)"
      ]
     },
     "execution_count": 8,
     "metadata": {},
     "output_type": "execute_result"
    }
   ],
   "source": [
    "y[1,:]"
   ]
  },
  {
   "cell_type": "code",
   "execution_count": 9,
   "id": "e0d7dfc9",
   "metadata": {},
   "outputs": [],
   "source": [
    "from sklearn.model_selection import train_test_split\n",
    "X_train,X_test,y_train,y_test = train_test_split(X,y,test_size = 0.1)"
   ]
  },
  {
   "cell_type": "code",
   "execution_count": 10,
   "id": "72c0fe51",
   "metadata": {},
   "outputs": [
    {
     "data": {
      "text/plain": [
       "array([-1.16299300e+00, -1.16463581e+00,  2.87679171e-03,  3.93600252e-01,\n",
       "        1.55447177e+00,  1.16294353e+00, -1.54691856e+00,  6.18965738e-03,\n",
       "        3.86864993e-01, -3.84092979e-01, -1.16750846e+00, -1.12299632e-03])"
      ]
     },
     "execution_count": 10,
     "metadata": {},
     "output_type": "execute_result"
    }
   ],
   "source": [
    "X_test[1,:]"
   ]
  },
  {
   "cell_type": "code",
   "execution_count": 11,
   "id": "75cf1df7",
   "metadata": {},
   "outputs": [
    {
     "data": {
      "text/plain": [
       "array([0, 0, 1, 0, 0, 0, 0, 1, 0, 0, 0, 0, 0, 1, 0, 0, 0, 0, 1, 0, 0, 0,\n",
       "       1, 1, 0, 0, 1, 0, 0, 0, 0, 0, 0, 1, 1, 0, 1, 0, 0, 0, 1, 0, 0, 0,\n",
       "       0, 0, 0, 0], dtype=int64)"
      ]
     },
     "execution_count": 11,
     "metadata": {},
     "output_type": "execute_result"
    }
   ],
   "source": [
    "y_test[1,:]"
   ]
  },
  {
   "cell_type": "code",
   "execution_count": 12,
   "id": "9481c5aa",
   "metadata": {},
   "outputs": [],
   "source": [
    "#Dependencies\n",
    "import keras\n",
    "from keras.models import Sequential\n",
    "from keras.layers import Dense,Dropout\n",
    "# Neural network\n",
    "model = Sequential()\n",
    "model.add(Dense(48, input_dim=12, activation=\"relu\"))\n",
    "model.add(Dense(100, activation=\"relu\"))\n",
    "model.add(Dense(100, activation=\"relu\"))\n",
    "model.add(Dense(100, activation=\"relu\"))\n",
    "model.add(Dense(48, activation=\"sigmoid\"))"
   ]
  },
  {
   "cell_type": "code",
   "execution_count": 13,
   "id": "52646bd6",
   "metadata": {},
   "outputs": [],
   "source": [
    "model.compile(loss='binary_crossentropy', optimizer='adam', metrics=['accuracy'])"
   ]
  },
  {
   "cell_type": "code",
   "execution_count": 14,
   "id": "14f80e09",
   "metadata": {},
   "outputs": [
    {
     "name": "stdout",
     "output_type": "stream",
     "text": [
      "Epoch 1/200\n",
      "1407/1407 [==============================] - 3s 2ms/step - loss: 0.2889 - accuracy: 0.4989\n",
      "Epoch 2/200\n",
      "1407/1407 [==============================] - 2s 2ms/step - loss: 0.1943 - accuracy: 0.5538\n",
      "Epoch 3/200\n",
      "1407/1407 [==============================] - 2s 2ms/step - loss: 0.1605 - accuracy: 0.5708\n",
      "Epoch 4/200\n",
      "1407/1407 [==============================] - 2s 2ms/step - loss: 0.1406 - accuracy: 0.5463\n",
      "Epoch 5/200\n",
      "1407/1407 [==============================] - 2s 2ms/step - loss: 0.1278 - accuracy: 0.5326: 0s - loss: 0.1\n",
      "Epoch 6/200\n",
      "1407/1407 [==============================] - 3s 2ms/step - loss: 0.1190 - accuracy: 0.5432\n",
      "Epoch 7/200\n",
      "1407/1407 [==============================] - 3s 2ms/step - loss: 0.1122 - accuracy: 0.5534\n",
      "Epoch 8/200\n",
      "1407/1407 [==============================] - 2s 2ms/step - loss: 0.1064 - accuracy: 0.5668\n",
      "Epoch 9/200\n",
      "1407/1407 [==============================] - 2s 1ms/step - loss: 0.1021 - accuracy: 0.5710\n",
      "Epoch 10/200\n",
      "1407/1407 [==============================] - 2s 1ms/step - loss: 0.0978 - accuracy: 0.5623\n",
      "Epoch 11/200\n",
      "1407/1407 [==============================] - 2s 2ms/step - loss: 0.0944 - accuracy: 0.5518\n",
      "Epoch 12/200\n",
      "1407/1407 [==============================] - 2s 1ms/step - loss: 0.0914 - accuracy: 0.5628\n",
      "Epoch 13/200\n",
      "1407/1407 [==============================] - 2s 2ms/step - loss: 0.0884 - accuracy: 0.5617\n",
      "Epoch 14/200\n",
      "1407/1407 [==============================] - 2s 1ms/step - loss: 0.0863 - accuracy: 0.5598\n",
      "Epoch 15/200\n",
      "1407/1407 [==============================] - 2s 2ms/step - loss: 0.0838 - accuracy: 0.5267\n",
      "Epoch 16/200\n",
      "1407/1407 [==============================] - 2s 2ms/step - loss: 0.0817 - accuracy: 0.5439\n",
      "Epoch 17/200\n",
      "1407/1407 [==============================] - 2s 1ms/step - loss: 0.0796 - accuracy: 0.5333\n",
      "Epoch 18/200\n",
      "1407/1407 [==============================] - 2s 1ms/step - loss: 0.0778 - accuracy: 0.5322\n",
      "Epoch 19/200\n",
      "1407/1407 [==============================] - 2s 1ms/step - loss: 0.0765 - accuracy: 0.5235\n",
      "Epoch 20/200\n",
      "1407/1407 [==============================] - 2s 1ms/step - loss: 0.0746 - accuracy: 0.5159\n",
      "Epoch 21/200\n",
      "1407/1407 [==============================] - 2s 1ms/step - loss: 0.0737 - accuracy: 0.5408\n",
      "Epoch 22/200\n",
      "1407/1407 [==============================] - 2s 1ms/step - loss: 0.0721 - accuracy: 0.5373\n",
      "Epoch 23/200\n",
      "1407/1407 [==============================] - 2s 1ms/step - loss: 0.0710 - accuracy: 0.5366\n",
      "Epoch 24/200\n",
      "1407/1407 [==============================] - 2s 1ms/step - loss: 0.0698 - accuracy: 0.5218\n",
      "Epoch 25/200\n",
      "1407/1407 [==============================] - 2s 1ms/step - loss: 0.0688 - accuracy: 0.5180\n",
      "Epoch 26/200\n",
      "1407/1407 [==============================] - 2s 1ms/step - loss: 0.0676 - accuracy: 0.5259\n",
      "Epoch 27/200\n",
      "1407/1407 [==============================] - 2s 1ms/step - loss: 0.0670 - accuracy: 0.5211\n",
      "Epoch 28/200\n",
      "1407/1407 [==============================] - 2s 1ms/step - loss: 0.0662 - accuracy: 0.5220: 0s - loss: 0.0660 - ac\n",
      "Epoch 29/200\n",
      "1407/1407 [==============================] - 2s 1ms/step - loss: 0.0653 - accuracy: 0.5184\n",
      "Epoch 30/200\n",
      "1407/1407 [==============================] - 2s 2ms/step - loss: 0.0646 - accuracy: 0.5151\n",
      "Epoch 31/200\n",
      "1407/1407 [==============================] - 2s 1ms/step - loss: 0.0633 - accuracy: 0.4670: 0s - loss: 0.0633 - accura\n",
      "Epoch 32/200\n",
      "1407/1407 [==============================] - 2s 1ms/step - loss: 0.0625 - accuracy: 0.4802\n",
      "Epoch 33/200\n",
      "1407/1407 [==============================] - 2s 1ms/step - loss: 0.0619 - accuracy: 0.4619: 0s - loss: 0.0617 - ac\n",
      "Epoch 34/200\n",
      "1407/1407 [==============================] - 2s 1ms/step - loss: 0.0611 - accuracy: 0.4613\n",
      "Epoch 35/200\n",
      "1407/1407 [==============================] - 2s 1ms/step - loss: 0.0603 - accuracy: 0.4340\n",
      "Epoch 36/200\n",
      "1407/1407 [==============================] - 2s 1ms/step - loss: 0.0600 - accuracy: 0.4384\n",
      "Epoch 37/200\n",
      "1407/1407 [==============================] - 2s 1ms/step - loss: 0.0589 - accuracy: 0.4453\n",
      "Epoch 38/200\n",
      "1407/1407 [==============================] - 2s 1ms/step - loss: 0.0586 - accuracy: 0.4190\n",
      "Epoch 39/200\n",
      "1407/1407 [==============================] - 2s 2ms/step - loss: 0.0577 - accuracy: 0.4456\n",
      "Epoch 40/200\n",
      "1407/1407 [==============================] - 2s 1ms/step - loss: 0.0571 - accuracy: 0.4146\n",
      "Epoch 41/200\n",
      "1407/1407 [==============================] - 2s 1ms/step - loss: 0.0567 - accuracy: 0.4034\n",
      "Epoch 42/200\n",
      "1407/1407 [==============================] - 2s 1ms/step - loss: 0.0561 - accuracy: 0.4118\n",
      "Epoch 43/200\n",
      "1407/1407 [==============================] - 2s 1ms/step - loss: 0.0554 - accuracy: 0.4008\n",
      "Epoch 44/200\n",
      "1407/1407 [==============================] - 2s 1ms/step - loss: 0.0549 - accuracy: 0.3786\n",
      "Epoch 45/200\n",
      "1407/1407 [==============================] - 2s 1ms/step - loss: 0.0544 - accuracy: 0.4086\n",
      "Epoch 46/200\n",
      "1407/1407 [==============================] - 2s 1ms/step - loss: 0.0539 - accuracy: 0.4000\n",
      "Epoch 47/200\n",
      "1407/1407 [==============================] - 2s 2ms/step - loss: 0.0529 - accuracy: 0.3521\n",
      "Epoch 48/200\n",
      "1407/1407 [==============================] - 2s 2ms/step - loss: 0.0530 - accuracy: 0.3532\n",
      "Epoch 49/200\n",
      "1407/1407 [==============================] - 2s 1ms/step - loss: 0.0524 - accuracy: 0.3523\n",
      "Epoch 50/200\n",
      "1407/1407 [==============================] - 2s 1ms/step - loss: 0.0520 - accuracy: 0.3483\n",
      "Epoch 51/200\n",
      "1407/1407 [==============================] - 2s 1ms/step - loss: 0.0513 - accuracy: 0.3697\n",
      "Epoch 52/200\n",
      "1407/1407 [==============================] - 2s 1ms/step - loss: 0.0511 - accuracy: 0.3382\n",
      "Epoch 53/200\n",
      "1407/1407 [==============================] - 2s 1ms/step - loss: 0.0505 - accuracy: 0.3201\n",
      "Epoch 54/200\n",
      "1407/1407 [==============================] - 2s 1ms/step - loss: 0.0501 - accuracy: 0.3161\n",
      "Epoch 55/200\n",
      "1407/1407 [==============================] - 2s 1ms/step - loss: 0.0493 - accuracy: 0.3247\n",
      "Epoch 56/200\n",
      "1407/1407 [==============================] - 2s 1ms/step - loss: 0.0489 - accuracy: 0.3052\n",
      "Epoch 57/200\n",
      "1407/1407 [==============================] - 2s 1ms/step - loss: 0.0488 - accuracy: 0.2685\n",
      "Epoch 58/200\n",
      "1407/1407 [==============================] - 2s 1ms/step - loss: 0.0480 - accuracy: 0.2588\n",
      "Epoch 59/200\n",
      "1407/1407 [==============================] - 2s 1ms/step - loss: 0.0475 - accuracy: 0.2686\n",
      "Epoch 60/200\n",
      "1407/1407 [==============================] - 2s 1ms/step - loss: 0.0471 - accuracy: 0.2696\n",
      "Epoch 61/200\n",
      "1407/1407 [==============================] - 2s 1ms/step - loss: 0.0469 - accuracy: 0.2772\n",
      "Epoch 62/200\n",
      "1407/1407 [==============================] - 2s 1ms/step - loss: 0.0460 - accuracy: 0.2595\n",
      "Epoch 63/200\n",
      "1407/1407 [==============================] - 2s 1ms/step - loss: 0.0460 - accuracy: 0.2897\n",
      "Epoch 64/200\n",
      "1407/1407 [==============================] - 2s 1ms/step - loss: 0.0454 - accuracy: 0.3011\n",
      "Epoch 65/200\n",
      "1407/1407 [==============================] - 2s 1ms/step - loss: 0.0454 - accuracy: 0.2696\n",
      "Epoch 66/200\n",
      "1407/1407 [==============================] - 2s 1ms/step - loss: 0.0450 - accuracy: 0.2617: 0s - loss: 0.0450 - accuracy: 0.26\n",
      "Epoch 67/200\n",
      "1407/1407 [==============================] - 2s 1ms/step - loss: 0.0442 - accuracy: 0.2847\n",
      "Epoch 68/200\n",
      "1407/1407 [==============================] - 2s 1ms/step - loss: 0.0441 - accuracy: 0.2922\n",
      "Epoch 69/200\n",
      "1407/1407 [==============================] - 2s 1ms/step - loss: 0.0436 - accuracy: 0.2659\n",
      "Epoch 70/200\n",
      "1407/1407 [==============================] - 2s 1ms/step - loss: 0.0435 - accuracy: 0.2992\n",
      "Epoch 71/200\n",
      "1407/1407 [==============================] - 2s 1ms/step - loss: 0.0437 - accuracy: 0.2638\n",
      "Epoch 72/200\n",
      "1407/1407 [==============================] - 2s 1ms/step - loss: 0.0430 - accuracy: 0.2773\n",
      "Epoch 73/200\n",
      "1407/1407 [==============================] - 2s 1ms/step - loss: 0.0427 - accuracy: 0.2738\n",
      "Epoch 74/200\n",
      "1407/1407 [==============================] - 2s 1ms/step - loss: 0.0423 - accuracy: 0.2831\n",
      "Epoch 75/200\n",
      "1407/1407 [==============================] - 2s 1ms/step - loss: 0.0421 - accuracy: 0.2635: 0s - loss:\n",
      "Epoch 76/200\n",
      "1407/1407 [==============================] - 2s 1ms/step - loss: 0.0417 - accuracy: 0.2921: 0s - loss: 0.041\n",
      "Epoch 77/200\n",
      "1407/1407 [==============================] - 2s 1ms/step - loss: 0.0417 - accuracy: 0.2808\n",
      "Epoch 78/200\n"
     ]
    },
    {
     "name": "stdout",
     "output_type": "stream",
     "text": [
      "1407/1407 [==============================] - 2s 2ms/step - loss: 0.0413 - accuracy: 0.2816\n",
      "Epoch 79/200\n",
      "1407/1407 [==============================] - 3s 2ms/step - loss: 0.0408 - accuracy: 0.2669: 0s - loss: 0.0408 - accuracy: 0.26\n",
      "Epoch 80/200\n",
      "1407/1407 [==============================] - 2s 2ms/step - loss: 0.0410 - accuracy: 0.2722\n",
      "Epoch 81/200\n",
      "1407/1407 [==============================] - 2s 2ms/step - loss: 0.0409 - accuracy: 0.2609: 0s\n",
      "Epoch 82/200\n",
      "1407/1407 [==============================] - 3s 2ms/step - loss: 0.0402 - accuracy: 0.2855\n",
      "Epoch 83/200\n",
      "1407/1407 [==============================] - 2s 1ms/step - loss: 0.0405 - accuracy: 0.2719\n",
      "Epoch 84/200\n",
      "1407/1407 [==============================] - 2s 1ms/step - loss: 0.0399 - accuracy: 0.2799\n",
      "Epoch 85/200\n",
      "1407/1407 [==============================] - 2s 1ms/step - loss: 0.0400 - accuracy: 0.2457\n",
      "Epoch 86/200\n",
      "1407/1407 [==============================] - 2s 2ms/step - loss: 0.0396 - accuracy: 0.2656\n",
      "Epoch 87/200\n",
      "1407/1407 [==============================] - 2s 1ms/step - loss: 0.0394 - accuracy: 0.2708\n",
      "Epoch 88/200\n",
      "1407/1407 [==============================] - 2s 2ms/step - loss: 0.0391 - accuracy: 0.2518\n",
      "Epoch 89/200\n",
      "1407/1407 [==============================] - 2s 2ms/step - loss: 0.0391 - accuracy: 0.2591\n",
      "Epoch 90/200\n",
      "1407/1407 [==============================] - 2s 2ms/step - loss: 0.0388 - accuracy: 0.2497\n",
      "Epoch 91/200\n",
      "1407/1407 [==============================] - 2s 2ms/step - loss: 0.0385 - accuracy: 0.2492\n",
      "Epoch 92/200\n",
      "1407/1407 [==============================] - 2s 2ms/step - loss: 0.0380 - accuracy: 0.2733\n",
      "Epoch 93/200\n",
      "1407/1407 [==============================] - 2s 2ms/step - loss: 0.0388 - accuracy: 0.2781\n",
      "Epoch 94/200\n",
      "1407/1407 [==============================] - 2s 2ms/step - loss: 0.0380 - accuracy: 0.2740\n",
      "Epoch 95/200\n",
      "1407/1407 [==============================] - 2s 2ms/step - loss: 0.0381 - accuracy: 0.2717\n",
      "Epoch 96/200\n",
      "1407/1407 [==============================] - 2s 2ms/step - loss: 0.0377 - accuracy: 0.2550\n",
      "Epoch 97/200\n",
      "1407/1407 [==============================] - 2s 2ms/step - loss: 0.0372 - accuracy: 0.2817\n",
      "Epoch 98/200\n",
      "1407/1407 [==============================] - 2s 2ms/step - loss: 0.0369 - accuracy: 0.2850\n",
      "Epoch 99/200\n",
      "1407/1407 [==============================] - 2s 2ms/step - loss: 0.0369 - accuracy: 0.2717\n",
      "Epoch 100/200\n",
      "1407/1407 [==============================] - 2s 2ms/step - loss: 0.0372 - accuracy: 0.2789\n",
      "Epoch 101/200\n",
      "1407/1407 [==============================] - 2s 2ms/step - loss: 0.0368 - accuracy: 0.2972\n",
      "Epoch 102/200\n",
      "1407/1407 [==============================] - 2s 1ms/step - loss: 0.0365 - accuracy: 0.2871\n",
      "Epoch 103/200\n",
      "1407/1407 [==============================] - 2s 2ms/step - loss: 0.0361 - accuracy: 0.2591: 0s - loss: 0.0362 - accuracy: \n",
      "Epoch 104/200\n",
      "1407/1407 [==============================] - 3s 2ms/step - loss: 0.0365 - accuracy: 0.2532\n",
      "Epoch 105/200\n",
      "1407/1407 [==============================] - 3s 2ms/step - loss: 0.0364 - accuracy: 0.2684\n",
      "Epoch 106/200\n",
      "1407/1407 [==============================] - 2s 1ms/step - loss: 0.0364 - accuracy: 0.2659\n",
      "Epoch 107/200\n",
      "1407/1407 [==============================] - 2s 1ms/step - loss: 0.0358 - accuracy: 0.2584\n",
      "Epoch 108/200\n",
      "1407/1407 [==============================] - 2s 1ms/step - loss: 0.0354 - accuracy: 0.2533\n",
      "Epoch 109/200\n",
      "1407/1407 [==============================] - 2s 1ms/step - loss: 0.0359 - accuracy: 0.2488\n",
      "Epoch 110/200\n",
      "1407/1407 [==============================] - 2s 1ms/step - loss: 0.0350 - accuracy: 0.2851\n",
      "Epoch 111/200\n",
      "1407/1407 [==============================] - 2s 1ms/step - loss: 0.0355 - accuracy: 0.2899\n",
      "Epoch 112/200\n",
      "1407/1407 [==============================] - 2s 1ms/step - loss: 0.0360 - accuracy: 0.2623\n",
      "Epoch 113/200\n",
      "1407/1407 [==============================] - 2s 1ms/step - loss: 0.0349 - accuracy: 0.2746\n",
      "Epoch 114/200\n",
      "1407/1407 [==============================] - 2s 1ms/step - loss: 0.0354 - accuracy: 0.2694\n",
      "Epoch 115/200\n",
      "1407/1407 [==============================] - 2s 2ms/step - loss: 0.0344 - accuracy: 0.2650\n",
      "Epoch 116/200\n",
      "1407/1407 [==============================] - 2s 1ms/step - loss: 0.0345 - accuracy: 0.2595\n",
      "Epoch 117/200\n",
      "1407/1407 [==============================] - 2s 1ms/step - loss: 0.0347 - accuracy: 0.2443\n",
      "Epoch 118/200\n",
      "1407/1407 [==============================] - 2s 1ms/step - loss: 0.0347 - accuracy: 0.2335\n",
      "Epoch 119/200\n",
      "1407/1407 [==============================] - 2s 1ms/step - loss: 0.0346 - accuracy: 0.2755\n",
      "Epoch 120/200\n",
      "1407/1407 [==============================] - 2s 1ms/step - loss: 0.0340 - accuracy: 0.2261\n",
      "Epoch 121/200\n",
      "1407/1407 [==============================] - 2s 1ms/step - loss: 0.0343 - accuracy: 0.2369\n",
      "Epoch 122/200\n",
      "1407/1407 [==============================] - 2s 1ms/step - loss: 0.0341 - accuracy: 0.2513\n",
      "Epoch 123/200\n",
      "1407/1407 [==============================] - 2s 1ms/step - loss: 0.0339 - accuracy: 0.2801\n",
      "Epoch 124/200\n",
      "1407/1407 [==============================] - 2s 1ms/step - loss: 0.0339 - accuracy: 0.2860\n",
      "Epoch 125/200\n",
      "1407/1407 [==============================] - 2s 1ms/step - loss: 0.0342 - accuracy: 0.2623\n",
      "Epoch 126/200\n",
      "1407/1407 [==============================] - 2s 1ms/step - loss: 0.0329 - accuracy: 0.2970\n",
      "Epoch 127/200\n",
      "1407/1407 [==============================] - 2s 1ms/step - loss: 0.0337 - accuracy: 0.2588\n",
      "Epoch 128/200\n",
      "1407/1407 [==============================] - 2s 1ms/step - loss: 0.0337 - accuracy: 0.2388\n",
      "Epoch 129/200\n",
      "1407/1407 [==============================] - 2s 1ms/step - loss: 0.0332 - accuracy: 0.2581\n",
      "Epoch 130/200\n",
      "1407/1407 [==============================] - 2s 1ms/step - loss: 0.0335 - accuracy: 0.2627\n",
      "Epoch 131/200\n",
      "1407/1407 [==============================] - 2s 1ms/step - loss: 0.0329 - accuracy: 0.2784\n",
      "Epoch 132/200\n",
      "1407/1407 [==============================] - 2s 1ms/step - loss: 0.0327 - accuracy: 0.2531\n",
      "Epoch 133/200\n",
      "1407/1407 [==============================] - 2s 1ms/step - loss: 0.0331 - accuracy: 0.2510\n",
      "Epoch 134/200\n",
      "1407/1407 [==============================] - 2s 1ms/step - loss: 0.0327 - accuracy: 0.2337\n",
      "Epoch 135/200\n",
      "1407/1407 [==============================] - 2s 1ms/step - loss: 0.0328 - accuracy: 0.2663\n",
      "Epoch 136/200\n",
      "1407/1407 [==============================] - 2s 1ms/step - loss: 0.0326 - accuracy: 0.2979\n",
      "Epoch 137/200\n",
      "1407/1407 [==============================] - 2s 1ms/step - loss: 0.0323 - accuracy: 0.2715\n",
      "Epoch 138/200\n",
      "1407/1407 [==============================] - 2s 1ms/step - loss: 0.0325 - accuracy: 0.2520\n",
      "Epoch 139/200\n",
      "1407/1407 [==============================] - 2s 1ms/step - loss: 0.0329 - accuracy: 0.2656\n",
      "Epoch 140/200\n",
      "1407/1407 [==============================] - 2s 1ms/step - loss: 0.0317 - accuracy: 0.2812\n",
      "Epoch 141/200\n",
      "1407/1407 [==============================] - 3s 2ms/step - loss: 0.0326 - accuracy: 0.2610: 0s - loss: 0.0326 - accu\n",
      "Epoch 142/200\n",
      "1407/1407 [==============================] - 4s 3ms/step - loss: 0.0320 - accuracy: 0.2719\n",
      "Epoch 143/200\n",
      "1407/1407 [==============================] - 3s 2ms/step - loss: 0.0314 - accuracy: 0.2402\n",
      "Epoch 144/200\n",
      "1407/1407 [==============================] - 2s 2ms/step - loss: 0.0317 - accuracy: 0.3024\n",
      "Epoch 145/200\n",
      "1407/1407 [==============================] - 2s 2ms/step - loss: 0.0321 - accuracy: 0.3095\n",
      "Epoch 146/200\n",
      "1407/1407 [==============================] - 2s 2ms/step - loss: 0.0317 - accuracy: 0.2757\n",
      "Epoch 147/200\n",
      "1407/1407 [==============================] - 2s 2ms/step - loss: 0.0317 - accuracy: 0.3331\n",
      "Epoch 148/200\n",
      "1407/1407 [==============================] - 2s 2ms/step - loss: 0.0315 - accuracy: 0.2682\n",
      "Epoch 149/200\n",
      "1407/1407 [==============================] - 2s 2ms/step - loss: 0.0314 - accuracy: 0.2268\n",
      "Epoch 150/200\n",
      "1407/1407 [==============================] - 2s 2ms/step - loss: 0.0312 - accuracy: 0.2591\n",
      "Epoch 151/200\n",
      "1407/1407 [==============================] - 3s 2ms/step - loss: 0.0310 - accuracy: 0.2843\n",
      "Epoch 152/200\n",
      "1407/1407 [==============================] - 2s 2ms/step - loss: 0.0309 - accuracy: 0.2811\n",
      "Epoch 153/200\n",
      "1407/1407 [==============================] - 3s 2ms/step - loss: 0.0307 - accuracy: 0.2854\n",
      "Epoch 154/200\n",
      "1407/1407 [==============================] - 2s 2ms/step - loss: 0.0311 - accuracy: 0.2903\n",
      "Epoch 155/200\n"
     ]
    },
    {
     "name": "stdout",
     "output_type": "stream",
     "text": [
      "1407/1407 [==============================] - 2s 2ms/step - loss: 0.0300 - accuracy: 0.2546\n",
      "Epoch 156/200\n",
      "1407/1407 [==============================] - 2s 2ms/step - loss: 0.0311 - accuracy: 0.2580\n",
      "Epoch 157/200\n",
      "1407/1407 [==============================] - 2s 2ms/step - loss: 0.0305 - accuracy: 0.2360\n",
      "Epoch 158/200\n",
      "1407/1407 [==============================] - 2s 2ms/step - loss: 0.0311 - accuracy: 0.2574\n",
      "Epoch 159/200\n",
      "1407/1407 [==============================] - 2s 2ms/step - loss: 0.0307 - accuracy: 0.2515\n",
      "Epoch 160/200\n",
      "1407/1407 [==============================] - 2s 2ms/step - loss: 0.0301 - accuracy: 0.2487\n",
      "Epoch 161/200\n",
      "1407/1407 [==============================] - 2s 2ms/step - loss: 0.0305 - accuracy: 0.2805\n",
      "Epoch 162/200\n",
      "1407/1407 [==============================] - 2s 2ms/step - loss: 0.0304 - accuracy: 0.2985: 0s - loss: 0.0\n",
      "Epoch 163/200\n",
      "1407/1407 [==============================] - 2s 2ms/step - loss: 0.0306 - accuracy: 0.2697\n",
      "Epoch 164/200\n",
      "1407/1407 [==============================] - 2s 2ms/step - loss: 0.0300 - accuracy: 0.2853: 0s - loss: 0.029\n",
      "Epoch 165/200\n",
      "1407/1407 [==============================] - 2s 2ms/step - loss: 0.0307 - accuracy: 0.2534\n",
      "Epoch 166/200\n",
      "1407/1407 [==============================] - 2s 2ms/step - loss: 0.0297 - accuracy: 0.2484: 0s - loss: 0.0297 - accuracy: 0.\n",
      "Epoch 167/200\n",
      "1407/1407 [==============================] - 2s 2ms/step - loss: 0.0298 - accuracy: 0.2460\n",
      "Epoch 168/200\n",
      "1407/1407 [==============================] - 2s 2ms/step - loss: 0.0298 - accuracy: 0.2352\n",
      "Epoch 169/200\n",
      "1407/1407 [==============================] - 2s 2ms/step - loss: 0.0301 - accuracy: 0.2684\n",
      "Epoch 170/200\n",
      "1407/1407 [==============================] - 2s 2ms/step - loss: 0.0298 - accuracy: 0.2715\n",
      "Epoch 171/200\n",
      "1407/1407 [==============================] - 2s 2ms/step - loss: 0.0302 - accuracy: 0.2782\n",
      "Epoch 172/200\n",
      "1407/1407 [==============================] - 2s 2ms/step - loss: 0.0294 - accuracy: 0.2578\n",
      "Epoch 173/200\n",
      "1407/1407 [==============================] - 2s 2ms/step - loss: 0.0296 - accuracy: 0.2464: 0s - loss: 0.0296 - accuracy: \n",
      "Epoch 174/200\n",
      "1407/1407 [==============================] - 2s 2ms/step - loss: 0.0300 - accuracy: 0.2360\n",
      "Epoch 175/200\n",
      "1407/1407 [==============================] - 2s 2ms/step - loss: 0.0285 - accuracy: 0.2620\n",
      "Epoch 176/200\n",
      "1407/1407 [==============================] - 2s 2ms/step - loss: 0.0298 - accuracy: 0.2655\n",
      "Epoch 177/200\n",
      "1407/1407 [==============================] - 2s 2ms/step - loss: 0.0294 - accuracy: 0.2700\n",
      "Epoch 178/200\n",
      "1407/1407 [==============================] - 2s 2ms/step - loss: 0.0295 - accuracy: 0.2412\n",
      "Epoch 179/200\n",
      "1407/1407 [==============================] - 2s 2ms/step - loss: 0.0287 - accuracy: 0.2372\n",
      "Epoch 180/200\n",
      "1407/1407 [==============================] - 2s 2ms/step - loss: 0.0289 - accuracy: 0.2269\n",
      "Epoch 181/200\n",
      "1407/1407 [==============================] - 2s 2ms/step - loss: 0.0288 - accuracy: 0.2524: 0s - loss: 0.0287 - accuracy: \n",
      "Epoch 182/200\n",
      "1407/1407 [==============================] - 2s 2ms/step - loss: 0.0292 - accuracy: 0.2651\n",
      "Epoch 183/200\n",
      "1407/1407 [==============================] - 2s 2ms/step - loss: 0.0293 - accuracy: 0.2889: 0s - loss: 0.028 - ETA: 0s - loss: 0.0287 - \n",
      "Epoch 184/200\n",
      "1407/1407 [==============================] - 2s 2ms/step - loss: 0.0289 - accuracy: 0.2772: 0s - loss: 0.0287 - \n",
      "Epoch 185/200\n",
      "1407/1407 [==============================] - 2s 2ms/step - loss: 0.0291 - accuracy: 0.2505\n",
      "Epoch 186/200\n",
      "1407/1407 [==============================] - 2s 2ms/step - loss: 0.0283 - accuracy: 0.2706\n",
      "Epoch 187/200\n",
      "1407/1407 [==============================] - 2s 2ms/step - loss: 0.0287 - accuracy: 0.2418\n",
      "Epoch 188/200\n",
      "1407/1407 [==============================] - 2s 2ms/step - loss: 0.0282 - accuracy: 0.2592\n",
      "Epoch 189/200\n",
      "1407/1407 [==============================] - 2s 2ms/step - loss: 0.0288 - accuracy: 0.2715\n",
      "Epoch 190/200\n",
      "1407/1407 [==============================] - 2s 2ms/step - loss: 0.0283 - accuracy: 0.2758\n",
      "Epoch 191/200\n",
      "1407/1407 [==============================] - 2s 2ms/step - loss: 0.0284 - accuracy: 0.2615\n",
      "Epoch 192/200\n",
      "1407/1407 [==============================] - 2s 2ms/step - loss: 0.0290 - accuracy: 0.2607\n",
      "Epoch 193/200\n",
      "1407/1407 [==============================] - 2s 2ms/step - loss: 0.0279 - accuracy: 0.2866\n",
      "Epoch 194/200\n",
      "1407/1407 [==============================] - 2s 2ms/step - loss: 0.0281 - accuracy: 0.2327\n",
      "Epoch 195/200\n",
      "1407/1407 [==============================] - 2s 2ms/step - loss: 0.0281 - accuracy: 0.2305\n",
      "Epoch 196/200\n",
      "1407/1407 [==============================] - 2s 2ms/step - loss: 0.0280 - accuracy: 0.2549\n",
      "Epoch 197/200\n",
      "1407/1407 [==============================] - 2s 2ms/step - loss: 0.0281 - accuracy: 0.2583\n",
      "Epoch 198/200\n",
      "1407/1407 [==============================] - 2s 2ms/step - loss: 0.0275 - accuracy: 0.2526\n",
      "Epoch 199/200\n",
      "1407/1407 [==============================] - 2s 2ms/step - loss: 0.0288 - accuracy: 0.2427\n",
      "Epoch 200/200\n",
      "1407/1407 [==============================] - 2s 2ms/step - loss: 0.0271 - accuracy: 0.2361\n"
     ]
    },
    {
     "data": {
      "text/plain": [
       "<keras.callbacks.History at 0x25bae5bb160>"
      ]
     },
     "execution_count": 14,
     "metadata": {},
     "output_type": "execute_result"
    }
   ],
   "source": [
    "model.fit(X_train, y_train, epochs=200, batch_size=64)"
   ]
  },
  {
   "cell_type": "code",
   "execution_count": 15,
   "id": "33a57e47",
   "metadata": {},
   "outputs": [
    {
     "name": "stdout",
     "output_type": "stream",
     "text": [
      "313/313 [==============================] - 0s 997us/step - loss: 0.0427 - accuracy: 0.2337\n"
     ]
    }
   ],
   "source": [
    "loss_and_metrics = model.evaluate(X_test, y_test)"
   ]
  },
  {
   "cell_type": "code",
   "execution_count": 16,
   "id": "ac70b6cb",
   "metadata": {},
   "outputs": [
    {
     "name": "stdout",
     "output_type": "stream",
     "text": [
      "2813/2813 [==============================] - 3s 974us/step - loss: 0.0240 - accuracy: 0.2328\n"
     ]
    }
   ],
   "source": [
    "loss_and_metrics_2 = model.evaluate(X_train, y_train)"
   ]
  },
  {
   "cell_type": "code",
   "execution_count": 17,
   "id": "31eb413d",
   "metadata": {},
   "outputs": [
    {
     "data": {
      "text/plain": [
       "5"
      ]
     },
     "execution_count": 17,
     "metadata": {},
     "output_type": "execute_result"
    }
   ],
   "source": [
    "len(model.layers)"
   ]
  },
  {
   "cell_type": "code",
   "execution_count": 18,
   "id": "f72ca5a6",
   "metadata": {},
   "outputs": [
    {
     "data": {
      "text/plain": [
       "array([ 1.54701689, -1.16463581,  0.38954234,  0.00649181,  0.00182436,\n",
       "       -0.00256022, -1.54691856,  1.16747622,  0.77406685,  0.77798225,\n",
       "       -1.16750846,  1.16059733])"
      ]
     },
     "execution_count": 18,
     "metadata": {},
     "output_type": "execute_result"
    }
   ],
   "source": [
    "X_train[0]"
   ]
  },
  {
   "cell_type": "code",
   "execution_count": 19,
   "id": "257cea90",
   "metadata": {},
   "outputs": [
    {
     "data": {
      "text/plain": [
       "array([[ 0.77272835, -1.55235664,  0.00287679,  0.39360025, -1.55082305,\n",
       "         0.38594103, -1.15966128,  1.55457174, -0.38753872, -1.54616821,\n",
       "        -1.16750846, -1.16284333]])"
      ]
     },
     "execution_count": 19,
     "metadata": {},
     "output_type": "execute_result"
    }
   ],
   "source": [
    "X_test[2].reshape(1,len(X_test[2]))"
   ]
  },
  {
   "cell_type": "code",
   "execution_count": 20,
   "id": "d1953160",
   "metadata": {},
   "outputs": [],
   "source": [
    "pr=model.predict(X_test[1:2,:])"
   ]
  },
  {
   "cell_type": "code",
   "execution_count": 21,
   "id": "1de87c25",
   "metadata": {},
   "outputs": [
    {
     "data": {
      "text/plain": [
       "array([[3.31611432e-07, 1.74129832e-06, 9.99998271e-01, 2.24004961e-14,\n",
       "        1.22602074e-07, 4.62771303e-22, 3.47127479e-06, 9.99916852e-01,\n",
       "        0.00000000e+00, 4.03262059e-12, 1.04625378e-05, 6.89040826e-05,\n",
       "        2.04068422e-03, 9.80390489e-01, 1.55985355e-04, 2.18418052e-07,\n",
       "        4.03040648e-03, 1.57211968e-08, 9.93576646e-01, 3.45609515e-05,\n",
       "        2.91628180e-21, 7.78019428e-04, 9.87168550e-01, 9.89448190e-01,\n",
       "        8.99306536e-02, 1.04109953e-04, 9.08502579e-01, 1.59544311e-06,\n",
       "        2.85885632e-02, 5.27880017e-10, 8.87241913e-05, 1.74511806e-05,\n",
       "        1.23172272e-08, 7.64492750e-01, 9.82689023e-01, 1.06386615e-04,\n",
       "        8.49996090e-01, 1.03578568e-02, 2.26514786e-01, 3.71983647e-03,\n",
       "        2.62488991e-01, 5.07503748e-04, 3.21456492e-02, 9.81891155e-02,\n",
       "        3.77103686e-03, 4.52971578e-01, 2.12995261e-01, 9.06807184e-03]],\n",
       "      dtype=float32)"
      ]
     },
     "execution_count": 21,
     "metadata": {},
     "output_type": "execute_result"
    }
   ],
   "source": [
    "pr"
   ]
  },
  {
   "cell_type": "code",
   "execution_count": 22,
   "id": "c16e6932",
   "metadata": {},
   "outputs": [
    {
     "data": {
      "text/plain": [
       "array([[0, 0, 1, 0, 0, 0, 0, 1, 0, 0, 0, 0, 0, 1, 0, 0, 0, 0, 1, 0, 0, 0,\n",
       "        1, 1, 0, 0, 1, 0, 0, 0, 0, 0, 0, 1, 1, 0, 1, 0, 0, 0, 1, 0, 0, 0,\n",
       "        0, 0, 0, 0]], dtype=int64)"
      ]
     },
     "execution_count": 22,
     "metadata": {},
     "output_type": "execute_result"
    }
   ],
   "source": [
    "y_test[1:2,:]"
   ]
  },
  {
   "cell_type": "code",
   "execution_count": 23,
   "id": "2e5a66d7",
   "metadata": {},
   "outputs": [],
   "source": [
    "pred=model.predict(X_train)"
   ]
  },
  {
   "cell_type": "code",
   "execution_count": 24,
   "id": "5a0fafbc",
   "metadata": {},
   "outputs": [
    {
     "data": {
      "text/plain": [
       "90000"
      ]
     },
     "execution_count": 24,
     "metadata": {},
     "output_type": "execute_result"
    }
   ],
   "source": [
    "pred.shape[0]"
   ]
  },
  {
   "cell_type": "code",
   "execution_count": 25,
   "id": "6d1b1859",
   "metadata": {},
   "outputs": [
    {
     "data": {
      "text/plain": [
       "array([9.39607620e-04, 9.99650955e-01, 9.33408737e-04, 1.74031720e-06,\n",
       "       2.23089457e-02, 6.12201678e-11, 9.99657810e-01, 1.08708809e-04,\n",
       "       1.26075560e-32, 1.51198503e-06, 9.91291404e-01, 9.99798834e-01,\n",
       "       4.31627035e-04, 7.51179159e-02, 9.17991281e-01, 1.02334279e-05,\n",
       "       6.18755817e-04, 6.41448714e-05, 4.44638729e-02, 9.57667828e-01,\n",
       "       4.66769398e-14, 7.66133744e-05, 9.87351537e-02, 1.10753804e-01,\n",
       "       9.90098238e-01, 6.86544180e-03, 7.72613287e-03, 2.04280019e-03,\n",
       "       9.01114643e-01, 1.14552081e-02, 5.00011444e-03, 7.22679794e-02,\n",
       "       1.75029039e-04, 1.16217136e-03, 8.04421306e-03, 1.81620419e-02,\n",
       "       1.73333883e-02, 5.21307826e-01, 1.81886137e-01, 2.04446912e-03,\n",
       "       1.76362097e-02, 7.43617892e-01, 1.77139044e-03, 6.46441817e-01,\n",
       "       1.83737278e-03, 2.64532894e-01, 1.51792437e-01, 1.20436847e-02],\n",
       "      dtype=float32)"
      ]
     },
     "execution_count": 25,
     "metadata": {},
     "output_type": "execute_result"
    }
   ],
   "source": [
    "pred[0]"
   ]
  },
  {
   "cell_type": "code",
   "execution_count": 26,
   "id": "2834b5d4",
   "metadata": {},
   "outputs": [
    {
     "data": {
      "text/plain": [
       "array([0, 1, 0, 0, 0, 0, 1, 0, 0, 0, 1, 1, 0, 0, 1, 0, 0, 0, 0, 1, 0, 0,\n",
       "       0, 0, 1, 0, 0, 0, 1, 0, 0, 0, 0, 0, 0, 0, 0, 1, 0, 0, 0, 1, 0, 1,\n",
       "       0, 0, 0, 0], dtype=int64)"
      ]
     },
     "execution_count": 26,
     "metadata": {},
     "output_type": "execute_result"
    }
   ],
   "source": [
    "y_train[0]"
   ]
  },
  {
   "cell_type": "code",
   "execution_count": 27,
   "id": "b6e0b965",
   "metadata": {},
   "outputs": [
    {
     "data": {
      "text/plain": [
       "84.06555555555556"
      ]
     },
     "execution_count": 27,
     "metadata": {},
     "output_type": "execute_result"
    }
   ],
   "source": [
    "accuracy = 0\n",
    "for i in range(pred.shape[0]):\n",
    "    output = pred[i]\n",
    "    condition = True\n",
    "    for j in range(len(output)):\n",
    "        output[j] = round(output[j])\n",
    "    for j in range(len(output)):\n",
    "        if(output[j]!=y_train[i][j]):\n",
    "            condition = False\n",
    "            break\n",
    "    if condition:\n",
    "        accuracy += 1\n",
    "accuracy / pred.shape[0] * 100"
   ]
  },
  {
   "cell_type": "code",
   "execution_count": 28,
   "id": "3f7012a5",
   "metadata": {},
   "outputs": [],
   "source": [
    "pred_test=model.predict(X_test)"
   ]
  },
  {
   "cell_type": "code",
   "execution_count": 29,
   "id": "a59247fc",
   "metadata": {},
   "outputs": [
    {
     "data": {
      "text/plain": [
       "80.52"
      ]
     },
     "execution_count": 29,
     "metadata": {},
     "output_type": "execute_result"
    }
   ],
   "source": [
    "accuracy_test = 0\n",
    "for i in range(pred_test.shape[0]):\n",
    "    output = pred_test[i]\n",
    "    condition = True\n",
    "    for j in range(len(output)):\n",
    "        output[j] = round(output[j])\n",
    "    for j in range(len(output)):\n",
    "        if(output[j]!=y_test[i][j]):\n",
    "            condition = False\n",
    "            break\n",
    "    if condition:\n",
    "        accuracy_test += 1\n",
    "accuracy_test / pred_test.shape[0] * 100"
   ]
  },
  {
   "cell_type": "code",
   "execution_count": null,
   "id": "08abeefc",
   "metadata": {},
   "outputs": [],
   "source": []
  }
 ],
 "metadata": {
  "kernelspec": {
   "display_name": "Python 3 (ipykernel)",
   "language": "python",
   "name": "python3"
  },
  "language_info": {
   "codemirror_mode": {
    "name": "ipython",
    "version": 3
   },
   "file_extension": ".py",
   "mimetype": "text/x-python",
   "name": "python",
   "nbconvert_exporter": "python",
   "pygments_lexer": "ipython3",
   "version": "3.8.10"
  }
 },
 "nbformat": 4,
 "nbformat_minor": 5
}
