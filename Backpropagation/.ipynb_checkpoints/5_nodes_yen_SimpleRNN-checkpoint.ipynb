{
 "cells": [
  {
   "cell_type": "code",
   "execution_count": 1,
   "id": "6e0b208e",
   "metadata": {},
   "outputs": [
    {
     "data": {
      "text/html": [
       "<div>\n",
       "<style scoped>\n",
       "    .dataframe tbody tr th:only-of-type {\n",
       "        vertical-align: middle;\n",
       "    }\n",
       "\n",
       "    .dataframe tbody tr th {\n",
       "        vertical-align: top;\n",
       "    }\n",
       "\n",
       "    .dataframe thead th {\n",
       "        text-align: right;\n",
       "    }\n",
       "</style>\n",
       "<table border=\"1\" class=\"dataframe\">\n",
       "  <thead>\n",
       "    <tr style=\"text-align: right;\">\n",
       "      <th></th>\n",
       "      <th>X(1, 2)</th>\n",
       "      <th>X(1, 3)</th>\n",
       "      <th>X(2, 4)</th>\n",
       "      <th>X(2, 5)</th>\n",
       "      <th>X(3, 4)</th>\n",
       "      <th>X(3, 7)</th>\n",
       "      <th>X(4, 6)</th>\n",
       "      <th>X(5, 6)</th>\n",
       "      <th>X(5, 8)</th>\n",
       "      <th>X(6, 7)</th>\n",
       "      <th>...</th>\n",
       "      <th>Y4(1, 3)</th>\n",
       "      <th>Y4(2, 4)</th>\n",
       "      <th>Y4(2, 5)</th>\n",
       "      <th>Y4(3, 4)</th>\n",
       "      <th>Y4(3, 7)</th>\n",
       "      <th>Y4(4, 6)</th>\n",
       "      <th>Y4(5, 6)</th>\n",
       "      <th>Y4(5, 8)</th>\n",
       "      <th>Y4(6, 7)</th>\n",
       "      <th>Y4(7, 8)</th>\n",
       "    </tr>\n",
       "  </thead>\n",
       "  <tbody>\n",
       "    <tr>\n",
       "      <th>0</th>\n",
       "      <td>10</td>\n",
       "      <td>40</td>\n",
       "      <td>30</td>\n",
       "      <td>50</td>\n",
       "      <td>30</td>\n",
       "      <td>20</td>\n",
       "      <td>20</td>\n",
       "      <td>10</td>\n",
       "      <td>90</td>\n",
       "      <td>70</td>\n",
       "      <td>...</td>\n",
       "      <td>0</td>\n",
       "      <td>1</td>\n",
       "      <td>0</td>\n",
       "      <td>0</td>\n",
       "      <td>0</td>\n",
       "      <td>1</td>\n",
       "      <td>0</td>\n",
       "      <td>0</td>\n",
       "      <td>1</td>\n",
       "      <td>1</td>\n",
       "    </tr>\n",
       "    <tr>\n",
       "      <th>1</th>\n",
       "      <td>90</td>\n",
       "      <td>50</td>\n",
       "      <td>50</td>\n",
       "      <td>30</td>\n",
       "      <td>30</td>\n",
       "      <td>80</td>\n",
       "      <td>80</td>\n",
       "      <td>30</td>\n",
       "      <td>30</td>\n",
       "      <td>80</td>\n",
       "      <td>...</td>\n",
       "      <td>1</td>\n",
       "      <td>0</td>\n",
       "      <td>0</td>\n",
       "      <td>1</td>\n",
       "      <td>0</td>\n",
       "      <td>1</td>\n",
       "      <td>1</td>\n",
       "      <td>1</td>\n",
       "      <td>0</td>\n",
       "      <td>0</td>\n",
       "    </tr>\n",
       "    <tr>\n",
       "      <th>2</th>\n",
       "      <td>10</td>\n",
       "      <td>60</td>\n",
       "      <td>80</td>\n",
       "      <td>50</td>\n",
       "      <td>40</td>\n",
       "      <td>50</td>\n",
       "      <td>30</td>\n",
       "      <td>90</td>\n",
       "      <td>80</td>\n",
       "      <td>30</td>\n",
       "      <td>...</td>\n",
       "      <td>1</td>\n",
       "      <td>0</td>\n",
       "      <td>0</td>\n",
       "      <td>1</td>\n",
       "      <td>0</td>\n",
       "      <td>1</td>\n",
       "      <td>0</td>\n",
       "      <td>0</td>\n",
       "      <td>1</td>\n",
       "      <td>1</td>\n",
       "    </tr>\n",
       "    <tr>\n",
       "      <th>3</th>\n",
       "      <td>80</td>\n",
       "      <td>20</td>\n",
       "      <td>40</td>\n",
       "      <td>60</td>\n",
       "      <td>50</td>\n",
       "      <td>80</td>\n",
       "      <td>90</td>\n",
       "      <td>60</td>\n",
       "      <td>80</td>\n",
       "      <td>80</td>\n",
       "      <td>...</td>\n",
       "      <td>1</td>\n",
       "      <td>0</td>\n",
       "      <td>0</td>\n",
       "      <td>1</td>\n",
       "      <td>0</td>\n",
       "      <td>1</td>\n",
       "      <td>1</td>\n",
       "      <td>1</td>\n",
       "      <td>0</td>\n",
       "      <td>0</td>\n",
       "    </tr>\n",
       "    <tr>\n",
       "      <th>4</th>\n",
       "      <td>20</td>\n",
       "      <td>70</td>\n",
       "      <td>50</td>\n",
       "      <td>40</td>\n",
       "      <td>20</td>\n",
       "      <td>70</td>\n",
       "      <td>80</td>\n",
       "      <td>80</td>\n",
       "      <td>10</td>\n",
       "      <td>10</td>\n",
       "      <td>...</td>\n",
       "      <td>0</td>\n",
       "      <td>1</td>\n",
       "      <td>0</td>\n",
       "      <td>0</td>\n",
       "      <td>0</td>\n",
       "      <td>1</td>\n",
       "      <td>1</td>\n",
       "      <td>1</td>\n",
       "      <td>0</td>\n",
       "      <td>0</td>\n",
       "    </tr>\n",
       "  </tbody>\n",
       "</table>\n",
       "<p>5 rows × 55 columns</p>\n",
       "</div>"
      ],
      "text/plain": [
       "   X(1, 2)  X(1, 3)  X(2, 4)  X(2, 5)  X(3, 4)  X(3, 7)  X(4, 6)  X(5, 6)  \\\n",
       "0       10       40       30       50       30       20       20       10   \n",
       "1       90       50       50       30       30       80       80       30   \n",
       "2       10       60       80       50       40       50       30       90   \n",
       "3       80       20       40       60       50       80       90       60   \n",
       "4       20       70       50       40       20       70       80       80   \n",
       "\n",
       "   X(5, 8)  X(6, 7)  ...  Y4(1, 3)  Y4(2, 4)  Y4(2, 5)  Y4(3, 4)  Y4(3, 7)  \\\n",
       "0       90       70  ...         0         1         0         0         0   \n",
       "1       30       80  ...         1         0         0         1         0   \n",
       "2       80       30  ...         1         0         0         1         0   \n",
       "3       80       80  ...         1         0         0         1         0   \n",
       "4       10       10  ...         0         1         0         0         0   \n",
       "\n",
       "   Y4(4, 6)  Y4(5, 6)  Y4(5, 8)  Y4(6, 7)  Y4(7, 8)  \n",
       "0         1         0         0         1         1  \n",
       "1         1         1         1         0         0  \n",
       "2         1         0         0         1         1  \n",
       "3         1         1         1         0         0  \n",
       "4         1         1         1         0         0  \n",
       "\n",
       "[5 rows x 55 columns]"
      ]
     },
     "execution_count": 1,
     "metadata": {},
     "output_type": "execute_result"
    }
   ],
   "source": [
    "import numpy as np\n",
    "import pandas as pd\n",
    "#dataset import\n",
    "df = pd.read_csv(\"../Data/data_5_nodes_yen.csv\") #You need to change #directory accordingly\n",
    "df.head()"
   ]
  },
  {
   "cell_type": "code",
   "execution_count": 2,
   "id": "d4b582aa",
   "metadata": {},
   "outputs": [],
   "source": [
    "edges = [[1, 2], [1, 3], [1, 4], [2, 4], [2, 5], [3, 4], [3, 5], [4, 5]]"
   ]
  },
  {
   "cell_type": "code",
   "execution_count": 3,
   "id": "a0670cfa",
   "metadata": {},
   "outputs": [],
   "source": [
    "number_edges = 8\n",
    "number_steps = 4\n",
    "start_node = 1\n",
    "end_node = 5"
   ]
  },
  {
   "cell_type": "code",
   "execution_count": 4,
   "id": "4fc511a4",
   "metadata": {},
   "outputs": [],
   "source": [
    "X = df.iloc[:20000,:number_edges].values\n",
    "y = df.iloc[:20000,number_edges:].values"
   ]
  },
  {
   "cell_type": "code",
   "execution_count": 5,
   "id": "4ee9d464",
   "metadata": {},
   "outputs": [
    {
     "data": {
      "text/plain": [
       "(100000, 11)"
      ]
     },
     "execution_count": 5,
     "metadata": {},
     "output_type": "execute_result"
    }
   ],
   "source": [
    "X.shape"
   ]
  },
  {
   "cell_type": "code",
   "execution_count": 6,
   "id": "a810522a",
   "metadata": {},
   "outputs": [
    {
     "data": {
      "text/plain": [
       "(100000, 44)"
      ]
     },
     "execution_count": 6,
     "metadata": {},
     "output_type": "execute_result"
    }
   ],
   "source": [
    "y.shape"
   ]
  },
  {
   "cell_type": "code",
   "execution_count": 7,
   "id": "e0d7dfc9",
   "metadata": {},
   "outputs": [],
   "source": [
    "from sklearn.model_selection import train_test_split\n",
    "X1,X2,y_train,y_test = train_test_split(X,y,test_size = 0.1)"
   ]
  },
  {
   "cell_type": "code",
   "execution_count": 8,
   "id": "72c0fe51",
   "metadata": {},
   "outputs": [
    {
     "data": {
      "text/plain": [
       "array([70, 70, 10, 70, 80, 10, 50, 10, 40, 40, 90], dtype=int64)"
      ]
     },
     "execution_count": 8,
     "metadata": {},
     "output_type": "execute_result"
    }
   ],
   "source": [
    "X2[1]"
   ]
  },
  {
   "cell_type": "code",
   "execution_count": 9,
   "id": "75cf1df7",
   "metadata": {},
   "outputs": [
    {
     "data": {
      "text/plain": [
       "array([0, 1, 0, 0, 0, 1, 0, 0, 0, 0, 1, 0, 1, 0, 0, 0, 1, 0, 1, 1, 1, 0,\n",
       "       1, 0, 0, 1, 0, 0, 0, 0, 1, 0, 0, 1, 0, 1, 0, 0, 0, 1, 1, 1, 0, 0],\n",
       "      dtype=int64)"
      ]
     },
     "execution_count": 9,
     "metadata": {},
     "output_type": "execute_result"
    }
   ],
   "source": [
    "y_test[1]"
   ]
  },
  {
   "cell_type": "code",
   "execution_count": 10,
   "id": "a6a95eb2",
   "metadata": {},
   "outputs": [],
   "source": [
    "from sklearn.preprocessing import StandardScaler\n",
    "sc = StandardScaler()\n",
    "X_train = sc.fit_transform(X1)\n",
    "X_test= sc.fit_transform(X2)"
   ]
  },
  {
   "cell_type": "code",
   "execution_count": 11,
   "id": "eae2b4c6",
   "metadata": {},
   "outputs": [
    {
     "data": {
      "text/plain": [
       "(90000, 4, 11)"
      ]
     },
     "execution_count": 11,
     "metadata": {},
     "output_type": "execute_result"
    }
   ],
   "source": [
    "X_train = np.repeat(X_train[:, np.newaxis, : ], number_steps, axis=1)\n",
    "X_train.shape"
   ]
  },
  {
   "cell_type": "code",
   "execution_count": 12,
   "id": "ff4381ab",
   "metadata": {},
   "outputs": [
    {
     "data": {
      "text/plain": [
       "(10000, 4, 11)"
      ]
     },
     "execution_count": 12,
     "metadata": {},
     "output_type": "execute_result"
    }
   ],
   "source": [
    "X_test = np.repeat(X_test[:, np.newaxis, : ], number_steps, axis=1)\n",
    "X_test.shape"
   ]
  },
  {
   "cell_type": "code",
   "execution_count": 13,
   "id": "7ea0aaf7",
   "metadata": {},
   "outputs": [
    {
     "data": {
      "text/plain": [
       "array([0, 1, 0, 0, 0, 1, 0, 0, 0, 0, 1, 1, 0, 0, 1, 0, 0, 0, 0, 1, 0, 0,\n",
       "       0, 1, 0, 0, 1, 0, 1, 0, 0, 1, 1, 0, 1, 0, 0, 1, 0, 1, 1, 1, 0, 0],\n",
       "      dtype=int64)"
      ]
     },
     "execution_count": 13,
     "metadata": {},
     "output_type": "execute_result"
    }
   ],
   "source": [
    "y_train[0]"
   ]
  },
  {
   "cell_type": "code",
   "execution_count": 14,
   "id": "ab424219",
   "metadata": {},
   "outputs": [
    {
     "data": {
      "text/plain": [
       "(90000, 4, 11)"
      ]
     },
     "execution_count": 14,
     "metadata": {},
     "output_type": "execute_result"
    }
   ],
   "source": [
    "y_train_2 = np.reshape(y_train,(y_train.shape[0], number_steps, number_edges))\n",
    "y_train_2.shape"
   ]
  },
  {
   "cell_type": "code",
   "execution_count": 15,
   "id": "022dba58",
   "metadata": {},
   "outputs": [
    {
     "data": {
      "text/plain": [
       "array([[0, 1, 0, 0, 0, 1, 0, 0, 0, 0, 1],\n",
       "       [1, 0, 0, 1, 0, 0, 0, 0, 1, 0, 0],\n",
       "       [0, 1, 0, 0, 1, 0, 1, 0, 0, 1, 1],\n",
       "       [0, 1, 0, 0, 1, 0, 1, 1, 1, 0, 0]], dtype=int64)"
      ]
     },
     "execution_count": 15,
     "metadata": {},
     "output_type": "execute_result"
    }
   ],
   "source": [
    "y_train_2[0]"
   ]
  },
  {
   "cell_type": "code",
   "execution_count": 16,
   "id": "b1c2ac26",
   "metadata": {},
   "outputs": [
    {
     "data": {
      "text/plain": [
       "(10000, 4, 11)"
      ]
     },
     "execution_count": 16,
     "metadata": {},
     "output_type": "execute_result"
    }
   ],
   "source": [
    "y_test_2 = np.reshape(y_test,(y_test.shape[0], number_steps, number_edges))\n",
    "y_test_2.shape"
   ]
  },
  {
   "cell_type": "code",
   "execution_count": 17,
   "id": "ce578d21",
   "metadata": {},
   "outputs": [
    {
     "data": {
      "text/plain": [
       "array([70, 70, 10, 70, 80, 10, 50, 10, 40, 40, 90], dtype=int64)"
      ]
     },
     "execution_count": 17,
     "metadata": {},
     "output_type": "execute_result"
    }
   ],
   "source": [
    "X2[1,:]"
   ]
  },
  {
   "cell_type": "code",
   "execution_count": 18,
   "id": "9481c5aa",
   "metadata": {},
   "outputs": [],
   "source": [
    "#Dependencies\n",
    "import keras\n",
    "from keras.models import Sequential\n",
    "from keras.layers import Dense,Dropout,TimeDistributed,SimpleRNN\n",
    "# Neural network\n",
    "model = Sequential()\n",
    "model.add(SimpleRNN(16, input_shape=(number_steps, number_edges), \n",
    "                    return_sequences=True))\n",
    "model.add(TimeDistributed(Dense(number_edges, activation='sigmoid')))"
   ]
  },
  {
   "cell_type": "code",
   "execution_count": 19,
   "id": "78cac25e",
   "metadata": {},
   "outputs": [
    {
     "name": "stdout",
     "output_type": "stream",
     "text": [
      "Model: \"sequential\"\n",
      "_________________________________________________________________\n",
      " Layer (type)                Output Shape              Param #   \n",
      "=================================================================\n",
      " simple_rnn (SimpleRNN)      (None, 4, 64)             4864      \n",
      "                                                                 \n",
      " simple_rnn_1 (SimpleRNN)    (None, 4, 64)             8256      \n",
      "                                                                 \n",
      " time_distributed (TimeDistr  (None, 4, 11)            715       \n",
      " ibuted)                                                         \n",
      "                                                                 \n",
      "=================================================================\n",
      "Total params: 13,835\n",
      "Trainable params: 13,835\n",
      "Non-trainable params: 0\n",
      "_________________________________________________________________\n"
     ]
    }
   ],
   "source": [
    "model.summary()"
   ]
  },
  {
   "cell_type": "code",
   "execution_count": 20,
   "id": "52646bd6",
   "metadata": {},
   "outputs": [],
   "source": [
    "model.compile(loss='BinaryCrossentropy', optimizer='adam')"
   ]
  },
  {
   "cell_type": "code",
   "execution_count": 21,
   "id": "14f80e09",
   "metadata": {},
   "outputs": [
    {
     "name": "stdout",
     "output_type": "stream",
     "text": [
      "Epoch 1/100\n",
      "1407/1407 [==============================] - 7s 3ms/step - loss: 0.3529\n",
      "Epoch 2/100\n",
      "1407/1407 [==============================] - 5s 3ms/step - loss: 0.2307\n",
      "Epoch 3/100\n",
      "1407/1407 [==============================] - 5s 3ms/step - loss: 0.1829\n",
      "Epoch 4/100\n",
      "1407/1407 [==============================] - 5s 3ms/step - loss: 0.1551\n",
      "Epoch 5/100\n",
      "1407/1407 [==============================] - 5s 4ms/step - loss: 0.1368\n",
      "Epoch 6/100\n",
      "1407/1407 [==============================] - 5s 4ms/step - loss: 0.1235\n",
      "Epoch 7/100\n",
      "1407/1407 [==============================] - 5s 4ms/step - loss: 0.1135\n",
      "Epoch 8/100\n",
      "1407/1407 [==============================] - 5s 4ms/step - loss: 0.1052\n",
      "Epoch 9/100\n",
      "1407/1407 [==============================] - 6s 4ms/step - loss: 0.0986\n",
      "Epoch 10/100\n",
      "1407/1407 [==============================] - 5s 4ms/step - loss: 0.0930\n",
      "Epoch 11/100\n",
      "1407/1407 [==============================] - 5s 3ms/step - loss: 0.0883\n",
      "Epoch 12/100\n",
      "1407/1407 [==============================] - 5s 3ms/step - loss: 0.0839\n",
      "Epoch 13/100\n",
      "1407/1407 [==============================] - 5s 3ms/step - loss: 0.0805\n",
      "Epoch 14/100\n",
      "1407/1407 [==============================] - 5s 3ms/step - loss: 0.0770\n",
      "Epoch 15/100\n",
      "1407/1407 [==============================] - 6s 4ms/step - loss: 0.0743\n",
      "Epoch 16/100\n",
      "1407/1407 [==============================] - 6s 4ms/step - loss: 0.0726\n",
      "Epoch 17/100\n",
      "1407/1407 [==============================] - 5s 3ms/step - loss: 0.0688\n",
      "Epoch 18/100\n",
      "1407/1407 [==============================] - 5s 3ms/step - loss: 0.0664\n",
      "Epoch 19/100\n",
      "1407/1407 [==============================] - 5s 3ms/step - loss: 0.0659\n",
      "Epoch 20/100\n",
      "1407/1407 [==============================] - 5s 3ms/step - loss: 0.0633\n",
      "Epoch 21/100\n",
      "1407/1407 [==============================] - 5s 3ms/step - loss: 0.0625\n",
      "Epoch 22/100\n",
      "1407/1407 [==============================] - 5s 3ms/step - loss: 0.0608\n",
      "Epoch 23/100\n",
      "1407/1407 [==============================] - 5s 3ms/step - loss: 0.0585\n",
      "Epoch 24/100\n",
      "1407/1407 [==============================] - 5s 3ms/step - loss: 0.0579\n",
      "Epoch 25/100\n",
      "1407/1407 [==============================] - 5s 3ms/step - loss: 0.0565\n",
      "Epoch 26/100\n",
      "1407/1407 [==============================] - 5s 3ms/step - loss: 0.0551\n",
      "Epoch 27/100\n",
      "1407/1407 [==============================] - 5s 3ms/step - loss: 0.0543\n",
      "Epoch 28/100\n",
      "1407/1407 [==============================] - 4s 3ms/step - loss: 0.0530\n",
      "Epoch 29/100\n",
      "1407/1407 [==============================] - 5s 3ms/step - loss: 0.0524\n",
      "Epoch 30/100\n",
      "1407/1407 [==============================] - 5s 3ms/step - loss: 0.0519\n",
      "Epoch 31/100\n",
      "1407/1407 [==============================] - 5s 3ms/step - loss: 0.0505\n",
      "Epoch 32/100\n",
      "1407/1407 [==============================] - 5s 3ms/step - loss: 0.0494\n",
      "Epoch 33/100\n",
      "1407/1407 [==============================] - 5s 3ms/step - loss: 0.0494\n",
      "Epoch 34/100\n",
      "1407/1407 [==============================] - 5s 4ms/step - loss: 0.0484\n",
      "Epoch 35/100\n",
      "1407/1407 [==============================] - 5s 4ms/step - loss: 0.0479\n",
      "Epoch 36/100\n",
      "1407/1407 [==============================] - 5s 4ms/step - loss: 0.0474\n",
      "Epoch 37/100\n",
      "1407/1407 [==============================] - 5s 3ms/step - loss: 0.0464\n",
      "Epoch 38/100\n",
      "1407/1407 [==============================] - 5s 3ms/step - loss: 0.0465\n",
      "Epoch 39/100\n",
      "1407/1407 [==============================] - 5s 4ms/step - loss: 0.0450\n",
      "Epoch 40/100\n",
      "1407/1407 [==============================] - 5s 4ms/step - loss: 0.0453\n",
      "Epoch 41/100\n",
      "1407/1407 [==============================] - 6s 4ms/step - loss: 0.0439\n",
      "Epoch 42/100\n",
      "1407/1407 [==============================] - 5s 3ms/step - loss: 0.0447\n",
      "Epoch 43/100\n",
      "1407/1407 [==============================] - 5s 3ms/step - loss: 0.0433\n",
      "Epoch 44/100\n",
      "1407/1407 [==============================] - 5s 3ms/step - loss: 0.0434\n",
      "Epoch 45/100\n",
      "1407/1407 [==============================] - 5s 3ms/step - loss: 0.0423\n",
      "Epoch 46/100\n",
      "1407/1407 [==============================] - 5s 3ms/step - loss: 0.0426\n",
      "Epoch 47/100\n",
      "1407/1407 [==============================] - 5s 3ms/step - loss: 0.0422\n",
      "Epoch 48/100\n",
      "1407/1407 [==============================] - 5s 3ms/step - loss: 0.0413\n",
      "Epoch 49/100\n",
      "1407/1407 [==============================] - 5s 3ms/step - loss: 0.0410\n",
      "Epoch 50/100\n",
      "1407/1407 [==============================] - 5s 4ms/step - loss: 0.0402\n",
      "Epoch 51/100\n",
      "1407/1407 [==============================] - 5s 3ms/step - loss: 0.0411\n",
      "Epoch 52/100\n",
      "1407/1407 [==============================] - 5s 4ms/step - loss: 0.0401\n",
      "Epoch 53/100\n",
      "1407/1407 [==============================] - 6s 4ms/step - loss: 0.0398\n",
      "Epoch 54/100\n",
      "1407/1407 [==============================] - 5s 4ms/step - loss: 0.0396\n",
      "Epoch 55/100\n",
      "1407/1407 [==============================] - 5s 3ms/step - loss: 0.0390\n",
      "Epoch 56/100\n",
      "1407/1407 [==============================] - 5s 3ms/step - loss: 0.0387\n",
      "Epoch 57/100\n",
      "1407/1407 [==============================] - 5s 3ms/step - loss: 0.0392\n",
      "Epoch 58/100\n",
      "1407/1407 [==============================] - 5s 3ms/step - loss: 0.0376\n",
      "Epoch 59/100\n",
      "1407/1407 [==============================] - 5s 4ms/step - loss: 0.0383\n",
      "Epoch 60/100\n",
      "1407/1407 [==============================] - 5s 3ms/step - loss: 0.0375\n",
      "Epoch 61/100\n",
      "1407/1407 [==============================] - 5s 3ms/step - loss: 0.0381\n",
      "Epoch 62/100\n",
      "1407/1407 [==============================] - 5s 3ms/step - loss: 0.0375\n",
      "Epoch 63/100\n",
      "1407/1407 [==============================] - 5s 3ms/step - loss: 0.0381\n",
      "Epoch 64/100\n",
      "1407/1407 [==============================] - 5s 3ms/step - loss: 0.0363\n",
      "Epoch 65/100\n",
      "1407/1407 [==============================] - 5s 3ms/step - loss: 0.0365\n",
      "Epoch 66/100\n",
      "1407/1407 [==============================] - 5s 3ms/step - loss: 0.0366\n",
      "Epoch 67/100\n",
      "1407/1407 [==============================] - 5s 4ms/step - loss: 0.0362\n",
      "Epoch 68/100\n",
      "1407/1407 [==============================] - 5s 3ms/step - loss: 0.0366\n",
      "Epoch 69/100\n",
      "1407/1407 [==============================] - 5s 3ms/step - loss: 0.0355\n",
      "Epoch 70/100\n",
      "1407/1407 [==============================] - 5s 3ms/step - loss: 0.0355\n",
      "Epoch 71/100\n",
      "1407/1407 [==============================] - 5s 4ms/step - loss: 0.0355\n",
      "Epoch 72/100\n",
      "1407/1407 [==============================] - 6s 4ms/step - loss: 0.0357\n",
      "Epoch 73/100\n",
      "1407/1407 [==============================] - 6s 4ms/step - loss: 0.0348\n",
      "Epoch 74/100\n",
      "1407/1407 [==============================] - 5s 3ms/step - loss: 0.0351\n",
      "Epoch 75/100\n",
      "1407/1407 [==============================] - 5s 4ms/step - loss: 0.0347\n",
      "Epoch 76/100\n",
      "1407/1407 [==============================] - 7s 5ms/step - loss: 0.0345\n",
      "Epoch 77/100\n",
      "1407/1407 [==============================] - 6s 4ms/step - loss: 0.0345\n",
      "Epoch 78/100\n",
      "1407/1407 [==============================] - 4s 3ms/step - loss: 0.0340\n",
      "Epoch 79/100\n",
      "1407/1407 [==============================] - 4s 3ms/step - loss: 0.0347\n",
      "Epoch 80/100\n",
      "1407/1407 [==============================] - 4s 3ms/step - loss: 0.0339\n",
      "Epoch 81/100\n",
      "1407/1407 [==============================] - 3s 2ms/step - loss: 0.0331\n",
      "Epoch 82/100\n",
      "1407/1407 [==============================] - 3s 2ms/step - loss: 0.0331\n",
      "Epoch 83/100\n",
      "1407/1407 [==============================] - 3s 2ms/step - loss: 0.0334\n",
      "Epoch 84/100\n",
      "1407/1407 [==============================] - 3s 2ms/step - loss: 0.0325\n",
      "Epoch 85/100\n",
      "1407/1407 [==============================] - 4s 3ms/step - loss: 0.0328\n",
      "Epoch 86/100\n",
      "1407/1407 [==============================] - 3s 2ms/step - loss: 0.0328\n",
      "Epoch 87/100\n",
      "1407/1407 [==============================] - 3s 2ms/step - loss: 0.0329\n",
      "Epoch 88/100\n",
      "1407/1407 [==============================] - 4s 2ms/step - loss: 0.0334\n",
      "Epoch 89/100\n",
      "1407/1407 [==============================] - 4s 3ms/step - loss: 0.0323\n",
      "Epoch 90/100\n",
      "1407/1407 [==============================] - 3s 2ms/step - loss: 0.0328\n",
      "Epoch 91/100\n",
      "1407/1407 [==============================] - 4s 3ms/step - loss: 0.0318\n",
      "Epoch 92/100\n",
      "1407/1407 [==============================] - 4s 3ms/step - loss: 0.0316\n",
      "Epoch 93/100\n",
      "1407/1407 [==============================] - 4s 3ms/step - loss: 0.0316\n",
      "Epoch 94/100\n",
      "1407/1407 [==============================] - 4s 3ms/step - loss: 0.0317\n",
      "Epoch 95/100\n",
      "1407/1407 [==============================] - 4s 3ms/step - loss: 0.0319\n",
      "Epoch 96/100\n",
      "1407/1407 [==============================] - 3s 2ms/step - loss: 0.0312\n",
      "Epoch 97/100\n",
      "1407/1407 [==============================] - 4s 3ms/step - loss: 0.0319\n",
      "Epoch 98/100\n",
      "1407/1407 [==============================] - 4s 3ms/step - loss: 0.0307\n",
      "Epoch 99/100\n",
      "1407/1407 [==============================] - 3s 2ms/step - loss: 0.0316\n",
      "Epoch 100/100\n",
      "1407/1407 [==============================] - 3s 2ms/step - loss: 0.0309\n"
     ]
    },
    {
     "data": {
      "text/plain": [
       "<keras.callbacks.History at 0x217d3220670>"
      ]
     },
     "execution_count": 21,
     "metadata": {},
     "output_type": "execute_result"
    }
   ],
   "source": [
    "model.fit(X_train, y_train_2, epochs=100, batch_size=64)"
   ]
  },
  {
   "cell_type": "code",
   "execution_count": 22,
   "id": "31eb413d",
   "metadata": {},
   "outputs": [
    {
     "data": {
      "text/plain": [
       "3"
      ]
     },
     "execution_count": 22,
     "metadata": {},
     "output_type": "execute_result"
    }
   ],
   "source": [
    "len(model.layers)"
   ]
  },
  {
   "cell_type": "code",
   "execution_count": 23,
   "id": "2e5a66d7",
   "metadata": {},
   "outputs": [
    {
     "name": "stdout",
     "output_type": "stream",
     "text": [
      "2813/2813 [==============================] - 4s 1ms/step\n"
     ]
    }
   ],
   "source": [
    "pred=model.predict(X_train)"
   ]
  },
  {
   "cell_type": "code",
   "execution_count": 24,
   "id": "5a0fafbc",
   "metadata": {},
   "outputs": [
    {
     "data": {
      "text/plain": [
       "(90000, 4, 11)"
      ]
     },
     "execution_count": 24,
     "metadata": {},
     "output_type": "execute_result"
    }
   ],
   "source": [
    "pred.shape"
   ]
  },
  {
   "cell_type": "code",
   "execution_count": 25,
   "id": "6d1b1859",
   "metadata": {},
   "outputs": [
    {
     "data": {
      "text/plain": [
       "array([[6.7256667e-02, 9.3273866e-01, 2.4144470e-03, 2.8927971e-02,\n",
       "        1.6535651e-02, 9.3891895e-01, 1.7435091e-02, 2.5297089e-03,\n",
       "        3.4361303e-02, 1.3383017e-02, 9.6564072e-01],\n",
       "       [9.9981278e-01, 1.8720762e-04, 1.6735734e-05, 9.9868917e-01,\n",
       "        6.3205347e-04, 5.4342563e-05, 5.8618159e-04, 2.2199751e-05,\n",
       "        9.9975187e-01, 3.0053359e-05, 2.4812881e-04],\n",
       "       [4.9163491e-06, 9.9999511e-01, 2.4382284e-04, 6.2178919e-04,\n",
       "        9.9988484e-01, 5.4112397e-04, 9.9947423e-01, 1.5803855e-03,\n",
       "        7.0275756e-04, 9.9969375e-01, 9.9929708e-01],\n",
       "       [1.5589193e-02, 9.8441046e-01, 2.1904353e-02, 6.4901202e-03,\n",
       "        9.8153287e-01, 9.8636071e-04, 9.9742979e-01, 9.8783690e-01,\n",
       "        9.9323362e-01, 2.6435433e-02, 6.7670164e-03]], dtype=float32)"
      ]
     },
     "execution_count": 25,
     "metadata": {},
     "output_type": "execute_result"
    }
   ],
   "source": [
    "pred[0]"
   ]
  },
  {
   "cell_type": "code",
   "execution_count": 26,
   "id": "2834b5d4",
   "metadata": {},
   "outputs": [
    {
     "data": {
      "text/plain": [
       "array([[0, 1, 0, 0, 0, 1, 0, 0, 0, 0, 1],\n",
       "       [1, 0, 0, 1, 0, 0, 0, 0, 1, 0, 0],\n",
       "       [0, 1, 0, 0, 1, 0, 1, 0, 0, 1, 1],\n",
       "       [0, 1, 0, 0, 1, 0, 1, 1, 1, 0, 0]], dtype=int64)"
      ]
     },
     "execution_count": 26,
     "metadata": {},
     "output_type": "execute_result"
    }
   ],
   "source": [
    "y_train_2[0]"
   ]
  },
  {
   "cell_type": "code",
   "execution_count": 27,
   "id": "95838411",
   "metadata": {},
   "outputs": [],
   "source": [
    "import copy\n",
    "def cost_path(x,y):\n",
    "    cost = 0\n",
    "    path = []\n",
    "    for i in range(number_edges):\n",
    "        if y[i]==1:\n",
    "            path.append(edges[i])\n",
    "            cost+= x[i]\n",
    "    if(len(path)!=0):\n",
    "        path_2 = copy.deepcopy(path)\n",
    "        path_nodes = [start_node]\n",
    "        if(path[0][0]!=start_node):\n",
    "            cost = 0\n",
    "        else:\n",
    "            path_nodes.append(path[0][1])\n",
    "            del path_2[0]\n",
    "            condition = True\n",
    "            while(len(path_2)!=0 and condition):\n",
    "                condition = False\n",
    "                for i in range(len(path_2)):\n",
    "                    if(path_nodes[-1] in path_2[i]):\n",
    "                        path_2[i].remove(path_nodes[-1])\n",
    "                        path_nodes.append(path_2[i][0])\n",
    "                        path_2.pop(i)\n",
    "                        condition = True\n",
    "                        break\n",
    "        if(path_nodes[-1]!=end_node or len(path_2)!=0):\n",
    "            cost = 0\n",
    "    else:\n",
    "        cost = 0\n",
    "    return cost"
   ]
  },
  {
   "cell_type": "code",
   "execution_count": 28,
   "id": "b0fbc804",
   "metadata": {},
   "outputs": [
    {
     "data": {
      "text/plain": [
       "140"
      ]
     },
     "execution_count": 28,
     "metadata": {},
     "output_type": "execute_result"
    }
   ],
   "source": [
    "cost_path(X1[1],y_train[1])"
   ]
  },
  {
   "cell_type": "code",
   "execution_count": 29,
   "id": "9703501f",
   "metadata": {},
   "outputs": [
    {
     "data": {
      "text/plain": [
       "array([98.27, 96.84, 96.48, 94.36, 89.76])"
      ]
     },
     "execution_count": 29,
     "metadata": {},
     "output_type": "execute_result"
    }
   ],
   "source": [
    "accuracy = np.zeros(number_steps+1)\n",
    "for i in range(pred.shape[0]):\n",
    "    condition_1 = True\n",
    "    for t in range(number_steps):\n",
    "        output = copy.deepcopy(pred[i][t])\n",
    "        condition_2 = True\n",
    "        for j in range(len(output)):\n",
    "            output[j] = round(output[j])\n",
    "        if(cost_path(X1[i],output) != cost_path(X1[i],y_train_2[i][t])):\n",
    "            condition_2 = False\n",
    "            condition_1 = False\n",
    "        if condition_2:\n",
    "            accuracy[t] += 1\n",
    "    if condition_1:\n",
    "        accuracy[number_steps] += 1\n",
    "accuracy = np.round(accuracy / pred.shape[0] * 100,2)\n",
    "accuracy"
   ]
  },
  {
   "cell_type": "code",
   "execution_count": 30,
   "id": "3f7012a5",
   "metadata": {},
   "outputs": [
    {
     "name": "stdout",
     "output_type": "stream",
     "text": [
      "313/313 [==============================] - 0s 1ms/step\n"
     ]
    }
   ],
   "source": [
    "pred_test=model.predict(X_test)"
   ]
  },
  {
   "cell_type": "code",
   "execution_count": 31,
   "id": "a59247fc",
   "metadata": {},
   "outputs": [
    {
     "data": {
      "text/plain": [
       "array([97.69, 94.72, 93.6 , 90.88, 84.82])"
      ]
     },
     "execution_count": 31,
     "metadata": {},
     "output_type": "execute_result"
    }
   ],
   "source": [
    "accuracy_test = np.zeros(number_steps+1)\n",
    "for i in range(pred_test.shape[0]):\n",
    "    condition_1 = True\n",
    "    for t in range(number_steps):\n",
    "        output = copy.deepcopy(pred_test[i][t])\n",
    "        condition_2 = True\n",
    "        for j in range(len(output)):\n",
    "            output[j] = round(output[j])\n",
    "        if(cost_path(X1[i],output) != cost_path(X1[i],y_test_2[i][t])):\n",
    "            condition_2 = False\n",
    "            condition_1 = False\n",
    "        if condition_2:\n",
    "            accuracy_test[t] += 1\n",
    "    if condition_1:\n",
    "        accuracy_test[number_steps] += 1\n",
    "accuracy_test = np.round(accuracy_test / pred_test.shape[0] * 100,2)\n",
    "accuracy_test"
   ]
  },
  {
   "cell_type": "code",
   "execution_count": 33,
   "id": "6868df3a",
   "metadata": {},
   "outputs": [
    {
     "name": "stdout",
     "output_type": "stream",
     "text": [
      "Model: \"sequential\"\n",
      "_________________________________________________________________\n",
      " Layer (type)                Output Shape              Param #   \n",
      "=================================================================\n",
      " simple_rnn (SimpleRNN)      (None, 4, 64)             4864      \n",
      "                                                                 \n",
      " simple_rnn_1 (SimpleRNN)    (None, 4, 64)             8256      \n",
      "                                                                 \n",
      " time_distributed (TimeDistr  (None, 4, 11)            715       \n",
      " ibuted)                                                         \n",
      "                                                                 \n",
      "=================================================================\n",
      "Total params: 13,835\n",
      "Trainable params: 13,835\n",
      "Non-trainable params: 0\n",
      "_________________________________________________________________\n",
      "[98.27 96.84 96.48 94.36 89.76]\n",
      "[97.69 94.72 93.6  90.88 84.82]\n"
     ]
    }
   ],
   "source": [
    "model.summary()\n",
    "print(accuracy)\n",
    "print(accuracy_test)"
   ]
  },
  {
   "cell_type": "code",
   "execution_count": null,
   "id": "e3697062",
   "metadata": {},
   "outputs": [],
   "source": []
  }
 ],
 "metadata": {
  "kernelspec": {
   "display_name": "Python 3 (ipykernel)",
   "language": "python",
   "name": "python3"
  },
  "language_info": {
   "codemirror_mode": {
    "name": "ipython",
    "version": 3
   },
   "file_extension": ".py",
   "mimetype": "text/x-python",
   "name": "python",
   "nbconvert_exporter": "python",
   "pygments_lexer": "ipython3",
   "version": "3.8.10"
  }
 },
 "nbformat": 4,
 "nbformat_minor": 5
}
