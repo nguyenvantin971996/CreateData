{
 "cells": [
  {
   "cell_type": "code",
   "execution_count": 1,
   "id": "6e0b208e",
   "metadata": {},
   "outputs": [
    {
     "data": {
      "text/html": [
       "<div>\n",
       "<style scoped>\n",
       "    .dataframe tbody tr th:only-of-type {\n",
       "        vertical-align: middle;\n",
       "    }\n",
       "\n",
       "    .dataframe tbody tr th {\n",
       "        vertical-align: top;\n",
       "    }\n",
       "\n",
       "    .dataframe thead th {\n",
       "        text-align: right;\n",
       "    }\n",
       "</style>\n",
       "<table border=\"1\" class=\"dataframe\">\n",
       "  <thead>\n",
       "    <tr style=\"text-align: right;\">\n",
       "      <th></th>\n",
       "      <th>X(1, 2)</th>\n",
       "      <th>X(1, 3)</th>\n",
       "      <th>X(1, 4)</th>\n",
       "      <th>X(2, 4)</th>\n",
       "      <th>X(2, 5)</th>\n",
       "      <th>X(3, 4)</th>\n",
       "      <th>X(3, 5)</th>\n",
       "      <th>X(4, 5)</th>\n",
       "      <th>Y1(1, 2)</th>\n",
       "      <th>Y1(1, 3)</th>\n",
       "      <th>...</th>\n",
       "      <th>Y3(3, 5)</th>\n",
       "      <th>Y3(4, 5)</th>\n",
       "      <th>Y4(1, 2)</th>\n",
       "      <th>Y4(1, 3)</th>\n",
       "      <th>Y4(1, 4)</th>\n",
       "      <th>Y4(2, 4)</th>\n",
       "      <th>Y4(2, 5)</th>\n",
       "      <th>Y4(3, 4)</th>\n",
       "      <th>Y4(3, 5)</th>\n",
       "      <th>Y4(4, 5)</th>\n",
       "    </tr>\n",
       "  </thead>\n",
       "  <tbody>\n",
       "    <tr>\n",
       "      <th>0</th>\n",
       "      <td>40</td>\n",
       "      <td>30</td>\n",
       "      <td>50</td>\n",
       "      <td>40</td>\n",
       "      <td>90</td>\n",
       "      <td>90</td>\n",
       "      <td>70</td>\n",
       "      <td>70</td>\n",
       "      <td>0</td>\n",
       "      <td>1</td>\n",
       "      <td>...</td>\n",
       "      <td>0</td>\n",
       "      <td>0</td>\n",
       "      <td>1</td>\n",
       "      <td>0</td>\n",
       "      <td>0</td>\n",
       "      <td>1</td>\n",
       "      <td>0</td>\n",
       "      <td>0</td>\n",
       "      <td>0</td>\n",
       "      <td>1</td>\n",
       "    </tr>\n",
       "    <tr>\n",
       "      <th>1</th>\n",
       "      <td>10</td>\n",
       "      <td>30</td>\n",
       "      <td>20</td>\n",
       "      <td>60</td>\n",
       "      <td>70</td>\n",
       "      <td>90</td>\n",
       "      <td>80</td>\n",
       "      <td>80</td>\n",
       "      <td>1</td>\n",
       "      <td>0</td>\n",
       "      <td>...</td>\n",
       "      <td>1</td>\n",
       "      <td>0</td>\n",
       "      <td>1</td>\n",
       "      <td>0</td>\n",
       "      <td>0</td>\n",
       "      <td>1</td>\n",
       "      <td>0</td>\n",
       "      <td>0</td>\n",
       "      <td>0</td>\n",
       "      <td>1</td>\n",
       "    </tr>\n",
       "    <tr>\n",
       "      <th>2</th>\n",
       "      <td>50</td>\n",
       "      <td>60</td>\n",
       "      <td>70</td>\n",
       "      <td>80</td>\n",
       "      <td>90</td>\n",
       "      <td>90</td>\n",
       "      <td>50</td>\n",
       "      <td>10</td>\n",
       "      <td>0</td>\n",
       "      <td>0</td>\n",
       "      <td>...</td>\n",
       "      <td>0</td>\n",
       "      <td>0</td>\n",
       "      <td>1</td>\n",
       "      <td>0</td>\n",
       "      <td>0</td>\n",
       "      <td>1</td>\n",
       "      <td>0</td>\n",
       "      <td>0</td>\n",
       "      <td>0</td>\n",
       "      <td>1</td>\n",
       "    </tr>\n",
       "    <tr>\n",
       "      <th>3</th>\n",
       "      <td>30</td>\n",
       "      <td>70</td>\n",
       "      <td>20</td>\n",
       "      <td>10</td>\n",
       "      <td>70</td>\n",
       "      <td>20</td>\n",
       "      <td>70</td>\n",
       "      <td>60</td>\n",
       "      <td>0</td>\n",
       "      <td>0</td>\n",
       "      <td>...</td>\n",
       "      <td>0</td>\n",
       "      <td>0</td>\n",
       "      <td>1</td>\n",
       "      <td>0</td>\n",
       "      <td>0</td>\n",
       "      <td>1</td>\n",
       "      <td>0</td>\n",
       "      <td>0</td>\n",
       "      <td>0</td>\n",
       "      <td>1</td>\n",
       "    </tr>\n",
       "    <tr>\n",
       "      <th>4</th>\n",
       "      <td>60</td>\n",
       "      <td>80</td>\n",
       "      <td>10</td>\n",
       "      <td>10</td>\n",
       "      <td>20</td>\n",
       "      <td>40</td>\n",
       "      <td>60</td>\n",
       "      <td>60</td>\n",
       "      <td>0</td>\n",
       "      <td>0</td>\n",
       "      <td>...</td>\n",
       "      <td>0</td>\n",
       "      <td>0</td>\n",
       "      <td>0</td>\n",
       "      <td>0</td>\n",
       "      <td>1</td>\n",
       "      <td>0</td>\n",
       "      <td>0</td>\n",
       "      <td>1</td>\n",
       "      <td>1</td>\n",
       "      <td>0</td>\n",
       "    </tr>\n",
       "  </tbody>\n",
       "</table>\n",
       "<p>5 rows × 40 columns</p>\n",
       "</div>"
      ],
      "text/plain": [
       "   X(1, 2)  X(1, 3)  X(1, 4)  X(2, 4)  X(2, 5)  X(3, 4)  X(3, 5)  X(4, 5)  \\\n",
       "0       40       30       50       40       90       90       70       70   \n",
       "1       10       30       20       60       70       90       80       80   \n",
       "2       50       60       70       80       90       90       50       10   \n",
       "3       30       70       20       10       70       20       70       60   \n",
       "4       60       80       10       10       20       40       60       60   \n",
       "\n",
       "   Y1(1, 2)  Y1(1, 3)  ...  Y3(3, 5)  Y3(4, 5)  Y4(1, 2)  Y4(1, 3)  Y4(1, 4)  \\\n",
       "0         0         1  ...         0         0         1         0         0   \n",
       "1         1         0  ...         1         0         1         0         0   \n",
       "2         0         0  ...         0         0         1         0         0   \n",
       "3         0         0  ...         0         0         1         0         0   \n",
       "4         0         0  ...         0         0         0         0         1   \n",
       "\n",
       "   Y4(2, 4)  Y4(2, 5)  Y4(3, 4)  Y4(3, 5)  Y4(4, 5)  \n",
       "0         1         0         0         0         1  \n",
       "1         1         0         0         0         1  \n",
       "2         1         0         0         0         1  \n",
       "3         1         0         0         0         1  \n",
       "4         0         0         1         1         0  \n",
       "\n",
       "[5 rows x 40 columns]"
      ]
     },
     "execution_count": 1,
     "metadata": {},
     "output_type": "execute_result"
    }
   ],
   "source": [
    "import numpy as np\n",
    "import pandas as pd\n",
    "#dataset import\n",
    "df = pd.read_csv(\"../Data/data_5_nodes_yen.csv\") #You need to change #directory accordingly\n",
    "df.head()"
   ]
  },
  {
   "cell_type": "code",
   "execution_count": 2,
   "id": "4fc511a4",
   "metadata": {},
   "outputs": [],
   "source": [
    "X = df.iloc[:20000,:8].values\n",
    "y = df.iloc[:20000,8:].values"
   ]
  },
  {
   "cell_type": "code",
   "execution_count": 3,
   "id": "4ee9d464",
   "metadata": {},
   "outputs": [
    {
     "data": {
      "text/plain": [
       "(20000, 8)"
      ]
     },
     "execution_count": 3,
     "metadata": {},
     "output_type": "execute_result"
    }
   ],
   "source": [
    "X.shape"
   ]
  },
  {
   "cell_type": "code",
   "execution_count": 4,
   "id": "a810522a",
   "metadata": {},
   "outputs": [
    {
     "data": {
      "text/plain": [
       "(20000, 32)"
      ]
     },
     "execution_count": 4,
     "metadata": {},
     "output_type": "execute_result"
    }
   ],
   "source": [
    "y.shape"
   ]
  },
  {
   "cell_type": "code",
   "execution_count": 5,
   "id": "e0d7dfc9",
   "metadata": {},
   "outputs": [],
   "source": [
    "from sklearn.model_selection import train_test_split\n",
    "X1,X2,y_train,y_test = train_test_split(X,y,test_size = 0.3)"
   ]
  },
  {
   "cell_type": "code",
   "execution_count": 6,
   "id": "72c0fe51",
   "metadata": {},
   "outputs": [
    {
     "data": {
      "text/plain": [
       "array([10, 40, 50, 40, 70, 20, 40, 10], dtype=int64)"
      ]
     },
     "execution_count": 6,
     "metadata": {},
     "output_type": "execute_result"
    }
   ],
   "source": [
    "X2[1]"
   ]
  },
  {
   "cell_type": "code",
   "execution_count": 7,
   "id": "75cf1df7",
   "metadata": {},
   "outputs": [
    {
     "data": {
      "text/plain": [
       "array([0, 0, 1, 0, 0, 0, 0, 1, 1, 0, 0, 1, 0, 0, 0, 1, 0, 1, 0, 0, 0, 1,\n",
       "       0, 1, 1, 0, 0, 0, 1, 0, 0, 0], dtype=int64)"
      ]
     },
     "execution_count": 7,
     "metadata": {},
     "output_type": "execute_result"
    }
   ],
   "source": [
    "y_test[1]"
   ]
  },
  {
   "cell_type": "code",
   "execution_count": 8,
   "id": "a6a95eb2",
   "metadata": {},
   "outputs": [],
   "source": [
    "from sklearn.preprocessing import StandardScaler\n",
    "sc = StandardScaler()\n",
    "X_train = sc.fit_transform(X1)\n",
    "X_test= sc.fit_transform(X2)"
   ]
  },
  {
   "cell_type": "code",
   "execution_count": 9,
   "id": "eae2b4c6",
   "metadata": {},
   "outputs": [
    {
     "data": {
      "text/plain": [
       "(14000, 4, 8)"
      ]
     },
     "execution_count": 9,
     "metadata": {},
     "output_type": "execute_result"
    }
   ],
   "source": [
    "X_train = np.repeat(X_train[:, np.newaxis, : ], 4, axis=1)\n",
    "X_train.shape"
   ]
  },
  {
   "cell_type": "code",
   "execution_count": 10,
   "id": "ff4381ab",
   "metadata": {},
   "outputs": [
    {
     "data": {
      "text/plain": [
       "(6000, 4, 8)"
      ]
     },
     "execution_count": 10,
     "metadata": {},
     "output_type": "execute_result"
    }
   ],
   "source": [
    "X_test = np.repeat(X_test[:, np.newaxis, : ], 4, axis=1)\n",
    "X_test.shape"
   ]
  },
  {
   "cell_type": "code",
   "execution_count": 11,
   "id": "7ea0aaf7",
   "metadata": {},
   "outputs": [
    {
     "data": {
      "text/plain": [
       "array([0, 1, 0, 0, 0, 0, 1, 0, 0, 1, 0, 0, 0, 1, 0, 1, 1, 0, 0, 0, 1, 0,\n",
       "       0, 0, 1, 0, 0, 1, 0, 0, 0, 1], dtype=int64)"
      ]
     },
     "execution_count": 11,
     "metadata": {},
     "output_type": "execute_result"
    }
   ],
   "source": [
    "y_train[0]"
   ]
  },
  {
   "cell_type": "code",
   "execution_count": 12,
   "id": "ab424219",
   "metadata": {},
   "outputs": [
    {
     "data": {
      "text/plain": [
       "(14000, 4, 8)"
      ]
     },
     "execution_count": 12,
     "metadata": {},
     "output_type": "execute_result"
    }
   ],
   "source": [
    "y_train_2 = np.reshape(y_train,(y_train.shape[0], 4, 8))\n",
    "y_train_2.shape"
   ]
  },
  {
   "cell_type": "code",
   "execution_count": 13,
   "id": "022dba58",
   "metadata": {},
   "outputs": [
    {
     "data": {
      "text/plain": [
       "array([[0, 1, 0, 0, 0, 0, 1, 0],\n",
       "       [0, 1, 0, 0, 0, 1, 0, 1],\n",
       "       [1, 0, 0, 0, 1, 0, 0, 0],\n",
       "       [1, 0, 0, 1, 0, 0, 0, 1]], dtype=int64)"
      ]
     },
     "execution_count": 13,
     "metadata": {},
     "output_type": "execute_result"
    }
   ],
   "source": [
    "y_train_2[0]"
   ]
  },
  {
   "cell_type": "code",
   "execution_count": 14,
   "id": "b1c2ac26",
   "metadata": {},
   "outputs": [
    {
     "data": {
      "text/plain": [
       "(6000, 4, 8)"
      ]
     },
     "execution_count": 14,
     "metadata": {},
     "output_type": "execute_result"
    }
   ],
   "source": [
    "y_test_2 = np.reshape(y_test,(y_test.shape[0], 4, 8))\n",
    "y_test_2.shape"
   ]
  },
  {
   "cell_type": "code",
   "execution_count": 15,
   "id": "ce578d21",
   "metadata": {},
   "outputs": [
    {
     "data": {
      "text/plain": [
       "array([10, 40, 50, 40, 70, 20, 40, 10], dtype=int64)"
      ]
     },
     "execution_count": 15,
     "metadata": {},
     "output_type": "execute_result"
    }
   ],
   "source": [
    "X2[1,:]"
   ]
  },
  {
   "cell_type": "code",
   "execution_count": 16,
   "id": "9481c5aa",
   "metadata": {},
   "outputs": [],
   "source": [
    "#Dependencies\n",
    "import keras\n",
    "from keras.models import Sequential\n",
    "from keras.layers import Dense,Dropout,SimpleRNN,TimeDistributed\n",
    "# Neural network\n",
    "model = Sequential()\n",
    "model.add(SimpleRNN(64, input_shape=(4, 8), \n",
    "                    return_sequences=True))\n",
    "model.add(SimpleRNN(64, return_sequences=True))\n",
    "model.add(TimeDistributed(Dense(8, activation='sigmoid')))"
   ]
  },
  {
   "cell_type": "code",
   "execution_count": 17,
   "id": "52646bd6",
   "metadata": {},
   "outputs": [],
   "source": [
    "model.compile(loss='BinaryCrossentropy', optimizer='adam')"
   ]
  },
  {
   "cell_type": "code",
   "execution_count": 18,
   "id": "14f80e09",
   "metadata": {},
   "outputs": [
    {
     "name": "stdout",
     "output_type": "stream",
     "text": [
      "Epoch 1/100\n",
      "110/110 [==============================] - 2s 3ms/step - loss: 0.5622\n",
      "Epoch 2/100\n",
      "110/110 [==============================] - 0s 3ms/step - loss: 0.4406\n",
      "Epoch 3/100\n",
      "110/110 [==============================] - 0s 3ms/step - loss: 0.3835\n",
      "Epoch 4/100\n",
      "110/110 [==============================] - 0s 3ms/step - loss: 0.3467\n",
      "Epoch 5/100\n",
      "110/110 [==============================] - 0s 3ms/step - loss: 0.3175\n",
      "Epoch 6/100\n",
      "110/110 [==============================] - 0s 3ms/step - loss: 0.2922\n",
      "Epoch 7/100\n",
      "110/110 [==============================] - 0s 3ms/step - loss: 0.2709\n",
      "Epoch 8/100\n",
      "110/110 [==============================] - 0s 3ms/step - loss: 0.2525\n",
      "Epoch 9/100\n",
      "110/110 [==============================] - 0s 4ms/step - loss: 0.2370\n",
      "Epoch 10/100\n",
      "110/110 [==============================] - 0s 4ms/step - loss: 0.2241\n",
      "Epoch 11/100\n",
      "110/110 [==============================] - 0s 4ms/step - loss: 0.2117\n",
      "Epoch 12/100\n",
      "110/110 [==============================] - 0s 3ms/step - loss: 0.2019\n",
      "Epoch 13/100\n",
      "110/110 [==============================] - 0s 3ms/step - loss: 0.1922\n",
      "Epoch 14/100\n",
      "110/110 [==============================] - 0s 3ms/step - loss: 0.1841\n",
      "Epoch 15/100\n",
      "110/110 [==============================] - 0s 3ms/step - loss: 0.1772\n",
      "Epoch 16/100\n",
      "110/110 [==============================] - 0s 3ms/step - loss: 0.1697\n",
      "Epoch 17/100\n",
      "110/110 [==============================] - 0s 3ms/step - loss: 0.1641\n",
      "Epoch 18/100\n",
      "110/110 [==============================] - 0s 3ms/step - loss: 0.1579\n",
      "Epoch 19/100\n",
      "110/110 [==============================] - 0s 3ms/step - loss: 0.1523\n",
      "Epoch 20/100\n",
      "110/110 [==============================] - 0s 3ms/step - loss: 0.1474\n",
      "Epoch 21/100\n",
      "110/110 [==============================] - 0s 3ms/step - loss: 0.1425\n",
      "Epoch 22/100\n",
      "110/110 [==============================] - 0s 3ms/step - loss: 0.1385\n",
      "Epoch 23/100\n",
      "110/110 [==============================] - 0s 3ms/step - loss: 0.1340\n",
      "Epoch 24/100\n",
      "110/110 [==============================] - 0s 3ms/step - loss: 0.1304\n",
      "Epoch 25/100\n",
      "110/110 [==============================] - 0s 3ms/step - loss: 0.1269\n",
      "Epoch 26/100\n",
      "110/110 [==============================] - 0s 3ms/step - loss: 0.1236\n",
      "Epoch 27/100\n",
      "110/110 [==============================] - 0s 3ms/step - loss: 0.1202\n",
      "Epoch 28/100\n",
      "110/110 [==============================] - 0s 3ms/step - loss: 0.1177\n",
      "Epoch 29/100\n",
      "110/110 [==============================] - 0s 3ms/step - loss: 0.1140\n",
      "Epoch 30/100\n",
      "110/110 [==============================] - 0s 3ms/step - loss: 0.1117\n",
      "Epoch 31/100\n",
      "110/110 [==============================] - 0s 3ms/step - loss: 0.1093\n",
      "Epoch 32/100\n",
      "110/110 [==============================] - 0s 4ms/step - loss: 0.1061\n",
      "Epoch 33/100\n",
      "110/110 [==============================] - 0s 3ms/step - loss: 0.1039\n",
      "Epoch 34/100\n",
      "110/110 [==============================] - 0s 3ms/step - loss: 0.1010\n",
      "Epoch 35/100\n",
      "110/110 [==============================] - 0s 3ms/step - loss: 0.0987\n",
      "Epoch 36/100\n",
      "110/110 [==============================] - 0s 3ms/step - loss: 0.0973\n",
      "Epoch 37/100\n",
      "110/110 [==============================] - 0s 3ms/step - loss: 0.0953\n",
      "Epoch 38/100\n",
      "110/110 [==============================] - 0s 3ms/step - loss: 0.0935\n",
      "Epoch 39/100\n",
      "110/110 [==============================] - 0s 3ms/step - loss: 0.0916\n",
      "Epoch 40/100\n",
      "110/110 [==============================] - 0s 3ms/step - loss: 0.0898\n",
      "Epoch 41/100\n",
      "110/110 [==============================] - 0s 4ms/step - loss: 0.0889\n",
      "Epoch 42/100\n",
      "110/110 [==============================] - 0s 3ms/step - loss: 0.0860\n",
      "Epoch 43/100\n",
      "110/110 [==============================] - 0s 4ms/step - loss: 0.0849\n",
      "Epoch 44/100\n",
      "110/110 [==============================] - 0s 4ms/step - loss: 0.0836\n",
      "Epoch 45/100\n",
      "110/110 [==============================] - 0s 4ms/step - loss: 0.0822\n",
      "Epoch 46/100\n",
      "110/110 [==============================] - 0s 4ms/step - loss: 0.0812\n",
      "Epoch 47/100\n",
      "110/110 [==============================] - 0s 3ms/step - loss: 0.0791\n",
      "Epoch 48/100\n",
      "110/110 [==============================] - 0s 4ms/step - loss: 0.0779\n",
      "Epoch 49/100\n",
      "110/110 [==============================] - 0s 3ms/step - loss: 0.0767\n",
      "Epoch 50/100\n",
      "110/110 [==============================] - 0s 3ms/step - loss: 0.0756\n",
      "Epoch 51/100\n",
      "110/110 [==============================] - 0s 3ms/step - loss: 0.0741\n",
      "Epoch 52/100\n",
      "110/110 [==============================] - 0s 3ms/step - loss: 0.0729\n",
      "Epoch 53/100\n",
      "110/110 [==============================] - 0s 3ms/step - loss: 0.0718\n",
      "Epoch 54/100\n",
      "110/110 [==============================] - 0s 3ms/step - loss: 0.0703\n",
      "Epoch 55/100\n",
      "110/110 [==============================] - 0s 3ms/step - loss: 0.0707\n",
      "Epoch 56/100\n",
      "110/110 [==============================] - 0s 3ms/step - loss: 0.0683\n",
      "Epoch 57/100\n",
      "110/110 [==============================] - 0s 3ms/step - loss: 0.0679\n",
      "Epoch 58/100\n",
      "110/110 [==============================] - 0s 3ms/step - loss: 0.0662\n",
      "Epoch 59/100\n",
      "110/110 [==============================] - 0s 3ms/step - loss: 0.0646\n",
      "Epoch 60/100\n",
      "110/110 [==============================] - 0s 3ms/step - loss: 0.0647\n",
      "Epoch 61/100\n",
      "110/110 [==============================] - 0s 3ms/step - loss: 0.0634\n",
      "Epoch 62/100\n",
      "110/110 [==============================] - 0s 3ms/step - loss: 0.0631\n",
      "Epoch 63/100\n",
      "110/110 [==============================] - 0s 3ms/step - loss: 0.0618\n",
      "Epoch 64/100\n",
      "110/110 [==============================] - 0s 3ms/step - loss: 0.0609\n",
      "Epoch 65/100\n",
      "110/110 [==============================] - 0s 3ms/step - loss: 0.0609\n",
      "Epoch 66/100\n",
      "110/110 [==============================] - 0s 3ms/step - loss: 0.0590\n",
      "Epoch 67/100\n",
      "110/110 [==============================] - 0s 3ms/step - loss: 0.0581\n",
      "Epoch 68/100\n",
      "110/110 [==============================] - 0s 3ms/step - loss: 0.0584\n",
      "Epoch 69/100\n",
      "110/110 [==============================] - 0s 3ms/step - loss: 0.0583\n",
      "Epoch 70/100\n",
      "110/110 [==============================] - 0s 4ms/step - loss: 0.0565\n",
      "Epoch 71/100\n",
      "110/110 [==============================] - 0s 4ms/step - loss: 0.0562\n",
      "Epoch 72/100\n",
      "110/110 [==============================] - 0s 4ms/step - loss: 0.0550\n",
      "Epoch 73/100\n",
      "110/110 [==============================] - 1s 5ms/step - loss: 0.0539\n",
      "Epoch 74/100\n",
      "110/110 [==============================] - 0s 4ms/step - loss: 0.0535\n",
      "Epoch 75/100\n",
      "110/110 [==============================] - 0s 4ms/step - loss: 0.0528\n",
      "Epoch 76/100\n",
      "110/110 [==============================] - 0s 4ms/step - loss: 0.0528\n",
      "Epoch 77/100\n",
      "110/110 [==============================] - 0s 3ms/step - loss: 0.0516\n",
      "Epoch 78/100\n",
      "110/110 [==============================] - 0s 4ms/step - loss: 0.0505\n",
      "Epoch 79/100\n",
      "110/110 [==============================] - 0s 4ms/step - loss: 0.0508\n",
      "Epoch 80/100\n",
      "110/110 [==============================] - 0s 4ms/step - loss: 0.0499\n",
      "Epoch 81/100\n",
      "110/110 [==============================] - 0s 3ms/step - loss: 0.0497\n",
      "Epoch 82/100\n",
      "110/110 [==============================] - 0s 3ms/step - loss: 0.0484\n",
      "Epoch 83/100\n",
      "110/110 [==============================] - 0s 3ms/step - loss: 0.0482\n",
      "Epoch 84/100\n",
      "110/110 [==============================] - 0s 3ms/step - loss: 0.0498\n",
      "Epoch 85/100\n",
      "110/110 [==============================] - 0s 3ms/step - loss: 0.0472\n",
      "Epoch 86/100\n",
      "110/110 [==============================] - 0s 3ms/step - loss: 0.0468\n",
      "Epoch 87/100\n",
      "110/110 [==============================] - 0s 3ms/step - loss: 0.0467\n",
      "Epoch 88/100\n",
      "110/110 [==============================] - 0s 3ms/step - loss: 0.0456\n",
      "Epoch 89/100\n",
      "110/110 [==============================] - 0s 3ms/step - loss: 0.0457\n",
      "Epoch 90/100\n",
      "110/110 [==============================] - 0s 3ms/step - loss: 0.0449\n",
      "Epoch 91/100\n",
      "110/110 [==============================] - 0s 3ms/step - loss: 0.0445\n",
      "Epoch 92/100\n",
      "110/110 [==============================] - 0s 3ms/step - loss: 0.0442\n",
      "Epoch 93/100\n",
      "110/110 [==============================] - 0s 3ms/step - loss: 0.0428\n",
      "Epoch 94/100\n",
      "110/110 [==============================] - 0s 3ms/step - loss: 0.0430\n",
      "Epoch 95/100\n",
      "110/110 [==============================] - 0s 3ms/step - loss: 0.0417\n",
      "Epoch 96/100\n",
      "110/110 [==============================] - 0s 3ms/step - loss: 0.0415\n",
      "Epoch 97/100\n",
      "110/110 [==============================] - 0s 3ms/step - loss: 0.0428\n",
      "Epoch 98/100\n",
      "110/110 [==============================] - 0s 3ms/step - loss: 0.0417\n",
      "Epoch 99/100\n"
     ]
    },
    {
     "name": "stdout",
     "output_type": "stream",
     "text": [
      "110/110 [==============================] - 0s 3ms/step - loss: 0.0403\n",
      "Epoch 100/100\n",
      "110/110 [==============================] - 0s 3ms/step - loss: 0.0402\n"
     ]
    },
    {
     "data": {
      "text/plain": [
       "<keras.callbacks.History at 0x1fd73ca9e20>"
      ]
     },
     "execution_count": 18,
     "metadata": {},
     "output_type": "execute_result"
    }
   ],
   "source": [
    "model.fit(X_train, y_train_2, epochs=100, batch_size=128)"
   ]
  },
  {
   "cell_type": "code",
   "execution_count": 19,
   "id": "31eb413d",
   "metadata": {},
   "outputs": [
    {
     "data": {
      "text/plain": [
       "3"
      ]
     },
     "execution_count": 19,
     "metadata": {},
     "output_type": "execute_result"
    }
   ],
   "source": [
    "len(model.layers)"
   ]
  },
  {
   "cell_type": "code",
   "execution_count": 20,
   "id": "2e5a66d7",
   "metadata": {},
   "outputs": [
    {
     "name": "stdout",
     "output_type": "stream",
     "text": [
      "438/438 [==============================] - 1s 1ms/step\n"
     ]
    }
   ],
   "source": [
    "pred=model.predict(X_train)"
   ]
  },
  {
   "cell_type": "code",
   "execution_count": 21,
   "id": "5a0fafbc",
   "metadata": {},
   "outputs": [
    {
     "data": {
      "text/plain": [
       "(14000, 4, 8)"
      ]
     },
     "execution_count": 21,
     "metadata": {},
     "output_type": "execute_result"
    }
   ],
   "source": [
    "pred.shape"
   ]
  },
  {
   "cell_type": "code",
   "execution_count": 22,
   "id": "6d1b1859",
   "metadata": {},
   "outputs": [
    {
     "data": {
      "text/plain": [
       "array([[1.37066923e-03, 9.99561727e-01, 5.08717312e-05, 1.70270680e-04,\n",
       "        3.91734429e-05, 9.28098143e-06, 9.99580860e-01, 1.06844830e-03],\n",
       "       [4.85797584e-01, 3.04412365e-01, 4.47596540e-06, 6.99410215e-03,\n",
       "        6.12686528e-03, 6.59138680e-01, 2.52188230e-03, 7.11565971e-01],\n",
       "       [9.98652518e-01, 4.18144986e-02, 4.49467552e-06, 2.31227875e-02,\n",
       "        9.35615718e-01, 2.89773103e-03, 1.27369698e-04, 1.04616985e-01],\n",
       "       [9.92276371e-01, 3.20560252e-03, 3.39233573e-03, 9.94716704e-01,\n",
       "        2.44558696e-03, 7.46014901e-03, 7.55366962e-03, 9.98599946e-01]],\n",
       "      dtype=float32)"
      ]
     },
     "execution_count": 22,
     "metadata": {},
     "output_type": "execute_result"
    }
   ],
   "source": [
    "pred[0]"
   ]
  },
  {
   "cell_type": "code",
   "execution_count": 23,
   "id": "2834b5d4",
   "metadata": {},
   "outputs": [
    {
     "data": {
      "text/plain": [
       "array([[0, 1, 0, 0, 0, 0, 1, 0],\n",
       "       [0, 1, 0, 0, 0, 1, 0, 1],\n",
       "       [1, 0, 0, 0, 1, 0, 0, 0],\n",
       "       [1, 0, 0, 1, 0, 0, 0, 1]], dtype=int64)"
      ]
     },
     "execution_count": 23,
     "metadata": {},
     "output_type": "execute_result"
    }
   ],
   "source": [
    "y_train_2[0]"
   ]
  },
  {
   "cell_type": "code",
   "execution_count": 24,
   "id": "d4b582aa",
   "metadata": {},
   "outputs": [],
   "source": [
    "edges = [[1, 2], [1, 3], [1, 4], [2, 4], [2, 5], [3, 4], [3, 5], [4, 5]]"
   ]
  },
  {
   "cell_type": "code",
   "execution_count": 25,
   "id": "95838411",
   "metadata": {},
   "outputs": [],
   "source": [
    "import copy\n",
    "def cost_path(x,y):\n",
    "    cost = 0\n",
    "    path = []\n",
    "    for i in range(8):\n",
    "        if y[i]==1:\n",
    "            path.append(edges[i])\n",
    "            cost+= x[i]\n",
    "    if(len(path)!=0):\n",
    "        path_2 = copy.deepcopy(path)\n",
    "        path_nodes = [1]\n",
    "        if(path[0][0]!=1):\n",
    "            cost = 0\n",
    "        else:\n",
    "            path_nodes.append(path[0][1])\n",
    "            del path_2[0]\n",
    "            condition = True\n",
    "            while(len(path_2)!=0 and condition):\n",
    "                condition = False\n",
    "                for i in range(len(path_2)):\n",
    "                    if(path_nodes[-1] in path_2[i]):\n",
    "                        path_2[i].remove(path_nodes[-1])\n",
    "                        path_nodes.append(path_2[i][0])\n",
    "                        path_2.pop(i)\n",
    "                        condition = True\n",
    "                        break\n",
    "        if(path_nodes[-1]!=5 or len(path_2)!=0):\n",
    "            cost = 0\n",
    "    else:\n",
    "        cost = 0\n",
    "    return cost"
   ]
  },
  {
   "cell_type": "code",
   "execution_count": 26,
   "id": "b0fbc804",
   "metadata": {},
   "outputs": [
    {
     "data": {
      "text/plain": [
       "130"
      ]
     },
     "execution_count": 26,
     "metadata": {},
     "output_type": "execute_result"
    }
   ],
   "source": [
    "cost_path(X1[1],y_train[1])"
   ]
  },
  {
   "cell_type": "code",
   "execution_count": 27,
   "id": "b6e0b965",
   "metadata": {},
   "outputs": [
    {
     "name": "stdout",
     "output_type": "stream",
     "text": [
      "[1. 0. 0. 1. 0. 0. 0. 1.] 110\n",
      "[0. 0. 1. 0. 0. 1. 1. 0.] 150\n"
     ]
    },
    {
     "data": {
      "text/plain": [
       "93.63571428571429"
      ]
     },
     "execution_count": 27,
     "metadata": {},
     "output_type": "execute_result"
    }
   ],
   "source": [
    "accuracy = 0\n",
    "for i in range(pred.shape[0]):\n",
    "    output = copy.deepcopy(pred[i][3])\n",
    "    condition = True\n",
    "    for j in range(len(output)):\n",
    "        output[j] = round(output[j])\n",
    "    if(i%10000 == 0):\n",
    "        print(output, cost_path(X1[i],output))\n",
    "    if(cost_path(X1[i],output) != cost_path(X1[i],y_train_2[i][3])):\n",
    "        condition = False\n",
    "    if condition:\n",
    "        accuracy += 1\n",
    "accuracy / pred.shape[0] * 100"
   ]
  },
  {
   "cell_type": "code",
   "execution_count": 28,
   "id": "3f7012a5",
   "metadata": {},
   "outputs": [
    {
     "name": "stdout",
     "output_type": "stream",
     "text": [
      "188/188 [==============================] - 0s 1ms/step\n"
     ]
    }
   ],
   "source": [
    "pred_test=model.predict(X_test)"
   ]
  },
  {
   "cell_type": "code",
   "execution_count": 29,
   "id": "a59247fc",
   "metadata": {},
   "outputs": [
    {
     "data": {
      "text/plain": [
       "87.58333333333333"
      ]
     },
     "execution_count": 29,
     "metadata": {},
     "output_type": "execute_result"
    }
   ],
   "source": [
    "accuracy_test = 0\n",
    "for i in range(pred_test.shape[0]):\n",
    "    output = copy.deepcopy(pred_test[i][3])\n",
    "    condition = True\n",
    "    for j in range(len(output)):\n",
    "        output[j] = round(output[j])\n",
    "    if(cost_path(X2[i],output)!=cost_path(X2[i],y_test_2[i][3])):\n",
    "        condition = False\n",
    "    if condition:\n",
    "        accuracy_test += 1\n",
    "accuracy_test / pred_test.shape[0] * 100"
   ]
  },
  {
   "cell_type": "code",
   "execution_count": 30,
   "id": "78cac25e",
   "metadata": {},
   "outputs": [
    {
     "name": "stdout",
     "output_type": "stream",
     "text": [
      "Model: \"sequential\"\n",
      "_________________________________________________________________\n",
      " Layer (type)                Output Shape              Param #   \n",
      "=================================================================\n",
      " simple_rnn (SimpleRNN)      (None, 4, 64)             4672      \n",
      "                                                                 \n",
      " simple_rnn_1 (SimpleRNN)    (None, 4, 64)             8256      \n",
      "                                                                 \n",
      " time_distributed (TimeDistr  (None, 4, 8)             520       \n",
      " ibuted)                                                         \n",
      "                                                                 \n",
      "=================================================================\n",
      "Total params: 13,448\n",
      "Trainable params: 13,448\n",
      "Non-trainable params: 0\n",
      "_________________________________________________________________\n"
     ]
    }
   ],
   "source": [
    "model.summary()"
   ]
  },
  {
   "cell_type": "code",
   "execution_count": null,
   "id": "6868df3a",
   "metadata": {},
   "outputs": [],
   "source": []
  }
 ],
 "metadata": {
  "kernelspec": {
   "display_name": "Python 3 (ipykernel)",
   "language": "python",
   "name": "python3"
  },
  "language_info": {
   "codemirror_mode": {
    "name": "ipython",
    "version": 3
   },
   "file_extension": ".py",
   "mimetype": "text/x-python",
   "name": "python",
   "nbconvert_exporter": "python",
   "pygments_lexer": "ipython3",
   "version": "3.8.10"
  }
 },
 "nbformat": 4,
 "nbformat_minor": 5
}
