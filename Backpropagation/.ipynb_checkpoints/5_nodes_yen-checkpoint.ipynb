{
 "cells": [
  {
   "cell_type": "code",
   "execution_count": 1,
   "id": "6e0b208e",
   "metadata": {},
   "outputs": [
    {
     "data": {
      "text/html": [
       "<div>\n",
       "<style scoped>\n",
       "    .dataframe tbody tr th:only-of-type {\n",
       "        vertical-align: middle;\n",
       "    }\n",
       "\n",
       "    .dataframe tbody tr th {\n",
       "        vertical-align: top;\n",
       "    }\n",
       "\n",
       "    .dataframe thead th {\n",
       "        text-align: right;\n",
       "    }\n",
       "</style>\n",
       "<table border=\"1\" class=\"dataframe\">\n",
       "  <thead>\n",
       "    <tr style=\"text-align: right;\">\n",
       "      <th></th>\n",
       "      <th>X(1, 2)</th>\n",
       "      <th>X(1, 3)</th>\n",
       "      <th>X(1, 4)</th>\n",
       "      <th>X(2, 4)</th>\n",
       "      <th>X(2, 5)</th>\n",
       "      <th>X(3, 4)</th>\n",
       "      <th>X(3, 5)</th>\n",
       "      <th>X(4, 5)</th>\n",
       "      <th>Y1(1, 2)</th>\n",
       "      <th>Y1(1, 3)</th>\n",
       "      <th>...</th>\n",
       "      <th>Y3(3, 5)</th>\n",
       "      <th>Y3(4, 5)</th>\n",
       "      <th>Y4(1, 2)</th>\n",
       "      <th>Y4(1, 3)</th>\n",
       "      <th>Y4(1, 4)</th>\n",
       "      <th>Y4(2, 4)</th>\n",
       "      <th>Y4(2, 5)</th>\n",
       "      <th>Y4(3, 4)</th>\n",
       "      <th>Y4(3, 5)</th>\n",
       "      <th>Y4(4, 5)</th>\n",
       "    </tr>\n",
       "  </thead>\n",
       "  <tbody>\n",
       "    <tr>\n",
       "      <th>0</th>\n",
       "      <td>50</td>\n",
       "      <td>60</td>\n",
       "      <td>10</td>\n",
       "      <td>50</td>\n",
       "      <td>70</td>\n",
       "      <td>70</td>\n",
       "      <td>60</td>\n",
       "      <td>70</td>\n",
       "      <td>0</td>\n",
       "      <td>0</td>\n",
       "      <td>...</td>\n",
       "      <td>1</td>\n",
       "      <td>0</td>\n",
       "      <td>0</td>\n",
       "      <td>0</td>\n",
       "      <td>1</td>\n",
       "      <td>1</td>\n",
       "      <td>1</td>\n",
       "      <td>0</td>\n",
       "      <td>0</td>\n",
       "      <td>0</td>\n",
       "    </tr>\n",
       "    <tr>\n",
       "      <th>1</th>\n",
       "      <td>10</td>\n",
       "      <td>60</td>\n",
       "      <td>50</td>\n",
       "      <td>10</td>\n",
       "      <td>50</td>\n",
       "      <td>90</td>\n",
       "      <td>40</td>\n",
       "      <td>40</td>\n",
       "      <td>1</td>\n",
       "      <td>0</td>\n",
       "      <td>...</td>\n",
       "      <td>0</td>\n",
       "      <td>1</td>\n",
       "      <td>0</td>\n",
       "      <td>1</td>\n",
       "      <td>0</td>\n",
       "      <td>0</td>\n",
       "      <td>0</td>\n",
       "      <td>0</td>\n",
       "      <td>1</td>\n",
       "      <td>0</td>\n",
       "    </tr>\n",
       "    <tr>\n",
       "      <th>2</th>\n",
       "      <td>40</td>\n",
       "      <td>30</td>\n",
       "      <td>90</td>\n",
       "      <td>90</td>\n",
       "      <td>10</td>\n",
       "      <td>50</td>\n",
       "      <td>10</td>\n",
       "      <td>60</td>\n",
       "      <td>0</td>\n",
       "      <td>1</td>\n",
       "      <td>...</td>\n",
       "      <td>0</td>\n",
       "      <td>1</td>\n",
       "      <td>0</td>\n",
       "      <td>0</td>\n",
       "      <td>1</td>\n",
       "      <td>0</td>\n",
       "      <td>0</td>\n",
       "      <td>0</td>\n",
       "      <td>0</td>\n",
       "      <td>1</td>\n",
       "    </tr>\n",
       "    <tr>\n",
       "      <th>3</th>\n",
       "      <td>50</td>\n",
       "      <td>80</td>\n",
       "      <td>70</td>\n",
       "      <td>90</td>\n",
       "      <td>10</td>\n",
       "      <td>20</td>\n",
       "      <td>40</td>\n",
       "      <td>10</td>\n",
       "      <td>1</td>\n",
       "      <td>0</td>\n",
       "      <td>...</td>\n",
       "      <td>0</td>\n",
       "      <td>1</td>\n",
       "      <td>0</td>\n",
       "      <td>1</td>\n",
       "      <td>0</td>\n",
       "      <td>0</td>\n",
       "      <td>0</td>\n",
       "      <td>0</td>\n",
       "      <td>1</td>\n",
       "      <td>0</td>\n",
       "    </tr>\n",
       "    <tr>\n",
       "      <th>4</th>\n",
       "      <td>60</td>\n",
       "      <td>30</td>\n",
       "      <td>70</td>\n",
       "      <td>70</td>\n",
       "      <td>10</td>\n",
       "      <td>10</td>\n",
       "      <td>40</td>\n",
       "      <td>40</td>\n",
       "      <td>0</td>\n",
       "      <td>1</td>\n",
       "      <td>...</td>\n",
       "      <td>0</td>\n",
       "      <td>1</td>\n",
       "      <td>0</td>\n",
       "      <td>0</td>\n",
       "      <td>1</td>\n",
       "      <td>0</td>\n",
       "      <td>0</td>\n",
       "      <td>0</td>\n",
       "      <td>0</td>\n",
       "      <td>1</td>\n",
       "    </tr>\n",
       "  </tbody>\n",
       "</table>\n",
       "<p>5 rows × 40 columns</p>\n",
       "</div>"
      ],
      "text/plain": [
       "   X(1, 2)  X(1, 3)  X(1, 4)  X(2, 4)  X(2, 5)  X(3, 4)  X(3, 5)  X(4, 5)  \\\n",
       "0       50       60       10       50       70       70       60       70   \n",
       "1       10       60       50       10       50       90       40       40   \n",
       "2       40       30       90       90       10       50       10       60   \n",
       "3       50       80       70       90       10       20       40       10   \n",
       "4       60       30       70       70       10       10       40       40   \n",
       "\n",
       "   Y1(1, 2)  Y1(1, 3)  ...  Y3(3, 5)  Y3(4, 5)  Y4(1, 2)  Y4(1, 3)  Y4(1, 4)  \\\n",
       "0         0         0  ...         1         0         0         0         1   \n",
       "1         1         0  ...         0         1         0         1         0   \n",
       "2         0         1  ...         0         1         0         0         1   \n",
       "3         1         0  ...         0         1         0         1         0   \n",
       "4         0         1  ...         0         1         0         0         1   \n",
       "\n",
       "   Y4(2, 4)  Y4(2, 5)  Y4(3, 4)  Y4(3, 5)  Y4(4, 5)  \n",
       "0         1         1         0         0         0  \n",
       "1         0         0         0         1         0  \n",
       "2         0         0         0         0         1  \n",
       "3         0         0         0         1         0  \n",
       "4         0         0         0         0         1  \n",
       "\n",
       "[5 rows x 40 columns]"
      ]
     },
     "execution_count": 1,
     "metadata": {},
     "output_type": "execute_result"
    }
   ],
   "source": [
    "import numpy as np\n",
    "import pandas as pd\n",
    "#dataset import\n",
    "df = pd.read_csv(\"../Data/data_5_nodes_yen.csv\") #You need to change #directory accordingly\n",
    "df.head()"
   ]
  },
  {
   "cell_type": "code",
   "execution_count": 2,
   "id": "4fc511a4",
   "metadata": {},
   "outputs": [],
   "source": [
    "X = df.iloc[:,:8].values\n",
    "y = df.iloc[:,8:].values"
   ]
  },
  {
   "cell_type": "code",
   "execution_count": 3,
   "id": "9b16f10f",
   "metadata": {},
   "outputs": [
    {
     "data": {
      "text/plain": [
       "(10000, 8)"
      ]
     },
     "execution_count": 3,
     "metadata": {},
     "output_type": "execute_result"
    }
   ],
   "source": [
    "X.shape"
   ]
  },
  {
   "cell_type": "code",
   "execution_count": 4,
   "id": "b588da2e",
   "metadata": {},
   "outputs": [
    {
     "data": {
      "text/plain": [
       "(10000, 32)"
      ]
     },
     "execution_count": 4,
     "metadata": {},
     "output_type": "execute_result"
    }
   ],
   "source": [
    "y.shape"
   ]
  },
  {
   "cell_type": "code",
   "execution_count": 5,
   "id": "e0d7dfc9",
   "metadata": {},
   "outputs": [],
   "source": [
    "from sklearn.model_selection import train_test_split\n",
    "X1,X2,y_train,y_test = train_test_split(X,y,test_size = 0.1)"
   ]
  },
  {
   "cell_type": "code",
   "execution_count": 6,
   "id": "72c0fe51",
   "metadata": {},
   "outputs": [
    {
     "data": {
      "text/plain": [
       "array([20, 10, 40, 90, 80, 40, 30, 90], dtype=int64)"
      ]
     },
     "execution_count": 6,
     "metadata": {},
     "output_type": "execute_result"
    }
   ],
   "source": [
    "X2[1]"
   ]
  },
  {
   "cell_type": "code",
   "execution_count": 7,
   "id": "75cf1df7",
   "metadata": {},
   "outputs": [
    {
     "data": {
      "text/plain": [
       "array([0, 1, 0, 0, 0, 0, 1, 0, 1, 0, 0, 0, 1, 0, 0, 0, 0, 0, 1, 0, 0, 1,\n",
       "       1, 0, 0, 0, 1, 0, 0, 0, 0, 1], dtype=int64)"
      ]
     },
     "execution_count": 7,
     "metadata": {},
     "output_type": "execute_result"
    }
   ],
   "source": [
    "y_test[1]"
   ]
  },
  {
   "cell_type": "code",
   "execution_count": 8,
   "id": "a6a95eb2",
   "metadata": {},
   "outputs": [],
   "source": [
    "from sklearn.preprocessing import StandardScaler\n",
    "sc = StandardScaler()\n",
    "X_train = sc.fit_transform(X1)\n",
    "X_test= sc.fit_transform(X2)"
   ]
  },
  {
   "cell_type": "code",
   "execution_count": 9,
   "id": "ce578d21",
   "metadata": {},
   "outputs": [
    {
     "data": {
      "text/plain": [
       "array([20, 10, 40, 90, 80, 40, 30, 90], dtype=int64)"
      ]
     },
     "execution_count": 9,
     "metadata": {},
     "output_type": "execute_result"
    }
   ],
   "source": [
    "X2[1,:]"
   ]
  },
  {
   "cell_type": "code",
   "execution_count": 10,
   "id": "9481c5aa",
   "metadata": {},
   "outputs": [],
   "source": [
    "#Dependencies\n",
    "import keras\n",
    "from keras.models import Sequential\n",
    "from keras.layers import Dense,Dropout\n",
    "# Neural network\n",
    "model = Sequential()\n",
    "model.add(Dense(128, input_dim=8, activation=\"relu\"))\n",
    "model.add(Dense(128, activation=\"relu\"))\n",
    "model.add(Dense(128, activation=\"relu\"))\n",
    "model.add(Dense(32, activation=\"sigmoid\"))"
   ]
  },
  {
   "cell_type": "code",
   "execution_count": 11,
   "id": "52646bd6",
   "metadata": {},
   "outputs": [],
   "source": [
    "model.compile(loss='BinaryCrossentropy', optimizer='adam')"
   ]
  },
  {
   "cell_type": "code",
   "execution_count": 12,
   "id": "14f80e09",
   "metadata": {},
   "outputs": [
    {
     "name": "stdout",
     "output_type": "stream",
     "text": [
      "Epoch 1/100\n",
      "282/282 [==============================] - 1s 2ms/step - loss: 0.4586\n",
      "Epoch 2/100\n",
      "282/282 [==============================] - 1s 2ms/step - loss: 0.3645\n",
      "Epoch 3/100\n",
      "282/282 [==============================] - 0s 1ms/step - loss: 0.3224\n",
      "Epoch 4/100\n",
      "282/282 [==============================] - 0s 2ms/step - loss: 0.2900\n",
      "Epoch 5/100\n",
      "282/282 [==============================] - 0s 1ms/step - loss: 0.2658\n",
      "Epoch 6/100\n",
      "282/282 [==============================] - 0s 1ms/step - loss: 0.2455\n",
      "Epoch 7/100\n",
      "282/282 [==============================] - 0s 2ms/step - loss: 0.2285\n",
      "Epoch 8/100\n",
      "282/282 [==============================] - 0s 2ms/step - loss: 0.2139\n",
      "Epoch 9/100\n",
      "282/282 [==============================] - 0s 1ms/step - loss: 0.2011\n",
      "Epoch 10/100\n",
      "282/282 [==============================] - 0s 1ms/step - loss: 0.1891\n",
      "Epoch 11/100\n",
      "282/282 [==============================] - 0s 1ms/step - loss: 0.1803\n",
      "Epoch 12/100\n",
      "282/282 [==============================] - 0s 1ms/step - loss: 0.1721\n",
      "Epoch 13/100\n",
      "282/282 [==============================] - 0s 1ms/step - loss: 0.1646\n",
      "Epoch 14/100\n",
      "282/282 [==============================] - 0s 1ms/step - loss: 0.1580\n",
      "Epoch 15/100\n",
      "282/282 [==============================] - 0s 1ms/step - loss: 0.1525\n",
      "Epoch 16/100\n",
      "282/282 [==============================] - 0s 1ms/step - loss: 0.1478\n",
      "Epoch 17/100\n",
      "282/282 [==============================] - 0s 2ms/step - loss: 0.1446\n",
      "Epoch 18/100\n",
      "282/282 [==============================] - 0s 1ms/step - loss: 0.1369\n",
      "Epoch 19/100\n",
      "282/282 [==============================] - 0s 2ms/step - loss: 0.1336\n",
      "Epoch 20/100\n",
      "282/282 [==============================] - 1s 2ms/step - loss: 0.1298\n",
      "Epoch 21/100\n",
      "282/282 [==============================] - 1s 2ms/step - loss: 0.1260\n",
      "Epoch 22/100\n",
      "282/282 [==============================] - 0s 1ms/step - loss: 0.1233\n",
      "Epoch 23/100\n",
      "282/282 [==============================] - 1s 2ms/step - loss: 0.1193\n",
      "Epoch 24/100\n",
      "282/282 [==============================] - 1s 2ms/step - loss: 0.1183\n",
      "Epoch 25/100\n",
      "282/282 [==============================] - 0s 2ms/step - loss: 0.1132\n",
      "Epoch 26/100\n",
      "282/282 [==============================] - 0s 2ms/step - loss: 0.1115\n",
      "Epoch 27/100\n",
      "282/282 [==============================] - 0s 1ms/step - loss: 0.1088\n",
      "Epoch 28/100\n",
      "282/282 [==============================] - 1s 2ms/step - loss: 0.1051\n",
      "Epoch 29/100\n",
      "282/282 [==============================] - 0s 2ms/step - loss: 0.1035\n",
      "Epoch 30/100\n",
      "282/282 [==============================] - 0s 1ms/step - loss: 0.1012\n",
      "Epoch 31/100\n",
      "282/282 [==============================] - 0s 1ms/step - loss: 0.0993\n",
      "Epoch 32/100\n",
      "282/282 [==============================] - 0s 1ms/step - loss: 0.0978\n",
      "Epoch 33/100\n",
      "282/282 [==============================] - 0s 2ms/step - loss: 0.0960\n",
      "Epoch 34/100\n",
      "282/282 [==============================] - 0s 2ms/step - loss: 0.0947\n",
      "Epoch 35/100\n",
      "282/282 [==============================] - 0s 1ms/step - loss: 0.0918\n",
      "Epoch 36/100\n",
      "282/282 [==============================] - 0s 1ms/step - loss: 0.0906\n",
      "Epoch 37/100\n",
      "282/282 [==============================] - 0s 1ms/step - loss: 0.0888\n",
      "Epoch 38/100\n",
      "282/282 [==============================] - 0s 1ms/step - loss: 0.0883\n",
      "Epoch 39/100\n",
      "282/282 [==============================] - 0s 1ms/step - loss: 0.0874\n",
      "Epoch 40/100\n",
      "282/282 [==============================] - 0s 2ms/step - loss: 0.0825\n",
      "Epoch 41/100\n",
      "282/282 [==============================] - 0s 1ms/step - loss: 0.0809\n",
      "Epoch 42/100\n",
      "282/282 [==============================] - 0s 2ms/step - loss: 0.0821\n",
      "Epoch 43/100\n",
      "282/282 [==============================] - 0s 1ms/step - loss: 0.0792\n",
      "Epoch 44/100\n",
      "282/282 [==============================] - 0s 2ms/step - loss: 0.0768\n",
      "Epoch 45/100\n",
      "282/282 [==============================] - 0s 1ms/step - loss: 0.0776\n",
      "Epoch 46/100\n",
      "282/282 [==============================] - 0s 1ms/step - loss: 0.0754\n",
      "Epoch 47/100\n",
      "282/282 [==============================] - 0s 2ms/step - loss: 0.0748\n",
      "Epoch 48/100\n",
      "282/282 [==============================] - 0s 1ms/step - loss: 0.0759\n",
      "Epoch 49/100\n",
      "282/282 [==============================] - 0s 1ms/step - loss: 0.0717\n",
      "Epoch 50/100\n",
      "282/282 [==============================] - 0s 1ms/step - loss: 0.0708\n",
      "Epoch 51/100\n",
      "282/282 [==============================] - 0s 1ms/step - loss: 0.0694\n",
      "Epoch 52/100\n",
      "282/282 [==============================] - 0s 1ms/step - loss: 0.0675\n",
      "Epoch 53/100\n",
      "282/282 [==============================] - 0s 2ms/step - loss: 0.0709\n",
      "Epoch 54/100\n",
      "282/282 [==============================] - 0s 1ms/step - loss: 0.0658\n",
      "Epoch 55/100\n",
      "282/282 [==============================] - 0s 1ms/step - loss: 0.0652\n",
      "Epoch 56/100\n",
      "282/282 [==============================] - 0s 1ms/step - loss: 0.0669\n",
      "Epoch 57/100\n",
      "282/282 [==============================] - 0s 1ms/step - loss: 0.0658\n",
      "Epoch 58/100\n",
      "282/282 [==============================] - 0s 1ms/step - loss: 0.0611\n",
      "Epoch 59/100\n",
      "282/282 [==============================] - 0s 1ms/step - loss: 0.0609\n",
      "Epoch 60/100\n",
      "282/282 [==============================] - 0s 1ms/step - loss: 0.0591\n",
      "Epoch 61/100\n",
      "282/282 [==============================] - 0s 1ms/step - loss: 0.0597\n",
      "Epoch 62/100\n",
      "282/282 [==============================] - 0s 1ms/step - loss: 0.0593\n",
      "Epoch 63/100\n",
      "282/282 [==============================] - 0s 1ms/step - loss: 0.0600\n",
      "Epoch 64/100\n",
      "282/282 [==============================] - 0s 1ms/step - loss: 0.0606\n",
      "Epoch 65/100\n",
      "282/282 [==============================] - 1s 2ms/step - loss: 0.0558\n",
      "Epoch 66/100\n",
      "282/282 [==============================] - 0s 1ms/step - loss: 0.0568\n",
      "Epoch 67/100\n",
      "282/282 [==============================] - 0s 2ms/step - loss: 0.0551\n",
      "Epoch 68/100\n",
      "282/282 [==============================] - 0s 1ms/step - loss: 0.0529\n",
      "Epoch 69/100\n",
      "282/282 [==============================] - 0s 1ms/step - loss: 0.0536\n",
      "Epoch 70/100\n",
      "282/282 [==============================] - 1s 2ms/step - loss: 0.0542\n",
      "Epoch 71/100\n",
      "282/282 [==============================] - 0s 1ms/step - loss: 0.0550\n",
      "Epoch 72/100\n",
      "282/282 [==============================] - 0s 1ms/step - loss: 0.0516\n",
      "Epoch 73/100\n",
      "282/282 [==============================] - 0s 2ms/step - loss: 0.0511\n",
      "Epoch 74/100\n",
      "282/282 [==============================] - 0s 2ms/step - loss: 0.0504\n",
      "Epoch 75/100\n",
      "282/282 [==============================] - 1s 2ms/step - loss: 0.0502\n",
      "Epoch 76/100\n",
      "282/282 [==============================] - 0s 2ms/step - loss: 0.0490\n",
      "Epoch 77/100\n",
      "282/282 [==============================] - 0s 2ms/step - loss: 0.0489\n",
      "Epoch 78/100\n",
      "282/282 [==============================] - 0s 2ms/step - loss: 0.0509\n",
      "Epoch 79/100\n",
      "282/282 [==============================] - 0s 2ms/step - loss: 0.0544\n",
      "Epoch 80/100\n",
      "282/282 [==============================] - 0s 2ms/step - loss: 0.0455\n",
      "Epoch 81/100\n",
      "282/282 [==============================] - 1s 2ms/step - loss: 0.0460\n",
      "Epoch 82/100\n",
      "282/282 [==============================] - 0s 2ms/step - loss: 0.0439\n",
      "Epoch 83/100\n",
      "282/282 [==============================] - 0s 2ms/step - loss: 0.0447\n",
      "Epoch 84/100\n",
      "282/282 [==============================] - 0s 2ms/step - loss: 0.0437\n",
      "Epoch 85/100\n",
      "282/282 [==============================] - 0s 2ms/step - loss: 0.0455\n",
      "Epoch 86/100\n",
      "282/282 [==============================] - 1s 2ms/step - loss: 0.0442\n",
      "Epoch 87/100\n",
      "282/282 [==============================] - 1s 2ms/step - loss: 0.0438\n",
      "Epoch 88/100\n",
      "282/282 [==============================] - 0s 2ms/step - loss: 0.0418\n",
      "Epoch 89/100\n",
      "282/282 [==============================] - 0s 1ms/step - loss: 0.0500\n",
      "Epoch 90/100\n",
      "282/282 [==============================] - 0s 2ms/step - loss: 0.0412\n",
      "Epoch 91/100\n",
      "282/282 [==============================] - 1s 2ms/step - loss: 0.0417\n",
      "Epoch 92/100\n",
      "282/282 [==============================] - 1s 2ms/step - loss: 0.0433\n",
      "Epoch 93/100\n",
      "282/282 [==============================] - 0s 2ms/step - loss: 0.0454\n",
      "Epoch 94/100\n",
      "282/282 [==============================] - 0s 2ms/step - loss: 0.0389\n",
      "Epoch 95/100\n",
      "282/282 [==============================] - 0s 1ms/step - loss: 0.0377\n",
      "Epoch 96/100\n",
      "282/282 [==============================] - 1s 2ms/step - loss: 0.0367\n",
      "Epoch 97/100\n",
      "282/282 [==============================] - 0s 1ms/step - loss: 0.0386\n",
      "Epoch 98/100\n",
      "282/282 [==============================] - 0s 1ms/step - loss: 0.0388\n",
      "Epoch 99/100\n"
     ]
    },
    {
     "name": "stdout",
     "output_type": "stream",
     "text": [
      "282/282 [==============================] - 0s 1ms/step - loss: 0.0375\n",
      "Epoch 100/100\n",
      "282/282 [==============================] - 0s 2ms/step - loss: 0.0423\n"
     ]
    },
    {
     "data": {
      "text/plain": [
       "<keras.callbacks.History at 0x1a3cdb22850>"
      ]
     },
     "execution_count": 12,
     "metadata": {},
     "output_type": "execute_result"
    }
   ],
   "source": [
    "model.fit(X_train, y_train, epochs=100, batch_size=32)"
   ]
  },
  {
   "cell_type": "code",
   "execution_count": 13,
   "id": "31eb413d",
   "metadata": {},
   "outputs": [
    {
     "data": {
      "text/plain": [
       "4"
      ]
     },
     "execution_count": 13,
     "metadata": {},
     "output_type": "execute_result"
    }
   ],
   "source": [
    "len(model.layers)"
   ]
  },
  {
   "cell_type": "code",
   "execution_count": 14,
   "id": "2e5a66d7",
   "metadata": {},
   "outputs": [
    {
     "name": "stdout",
     "output_type": "stream",
     "text": [
      "282/282 [==============================] - 0s 956us/step\n"
     ]
    }
   ],
   "source": [
    "pred=model.predict(X_train)"
   ]
  },
  {
   "cell_type": "code",
   "execution_count": 15,
   "id": "5a0fafbc",
   "metadata": {},
   "outputs": [
    {
     "data": {
      "text/plain": [
       "(9000, 32)"
      ]
     },
     "execution_count": 15,
     "metadata": {},
     "output_type": "execute_result"
    }
   ],
   "source": [
    "pred.shape"
   ]
  },
  {
   "cell_type": "code",
   "execution_count": 16,
   "id": "6d1b1859",
   "metadata": {},
   "outputs": [
    {
     "data": {
      "text/plain": [
       "array([3.5763514e-27, 2.9827583e-25, 1.0000000e+00, 0.0000000e+00,\n",
       "       3.9612975e-30, 0.0000000e+00, 3.3000333e-28, 1.0000000e+00,\n",
       "       1.0000000e+00, 1.2472278e-17, 8.1852526e-13, 1.3106415e-35,\n",
       "       1.0000000e+00, 2.3782370e-23, 3.9803621e-18, 8.8482340e-11,\n",
       "       7.2424436e-06, 9.9960548e-01, 1.3353648e-04, 3.4986367e-10,\n",
       "       6.8920752e-04, 9.9971265e-01, 5.5573219e-03, 9.9690777e-01,\n",
       "       1.8566921e-07, 9.9888551e-01, 2.0346319e-02, 1.9080155e-06,\n",
       "       2.3953481e-07, 6.9496050e-02, 9.9991119e-01, 3.8918508e-03],\n",
       "      dtype=float32)"
      ]
     },
     "execution_count": 16,
     "metadata": {},
     "output_type": "execute_result"
    }
   ],
   "source": [
    "pred[0]"
   ]
  },
  {
   "cell_type": "code",
   "execution_count": 17,
   "id": "80c52c55",
   "metadata": {},
   "outputs": [],
   "source": [
    "pred = pred.reshape(9000,4,8)"
   ]
  },
  {
   "cell_type": "code",
   "execution_count": 18,
   "id": "2834b5d4",
   "metadata": {},
   "outputs": [],
   "source": [
    "y_train = y_train.reshape(9000,4,8)"
   ]
  },
  {
   "cell_type": "code",
   "execution_count": 19,
   "id": "e7f56f4b",
   "metadata": {},
   "outputs": [
    {
     "data": {
      "text/plain": [
       "array([1, 0, 0, 0, 1, 0, 0, 0], dtype=int64)"
      ]
     },
     "execution_count": 19,
     "metadata": {},
     "output_type": "execute_result"
    }
   ],
   "source": [
    "y_train[0][1]"
   ]
  },
  {
   "cell_type": "code",
   "execution_count": 20,
   "id": "d4b582aa",
   "metadata": {},
   "outputs": [],
   "source": [
    "edges = [[1, 2], [1, 3], [1, 4], [2, 4], [2, 5], [3, 4], [3, 5], [4, 5]]"
   ]
  },
  {
   "cell_type": "code",
   "execution_count": 21,
   "id": "95838411",
   "metadata": {},
   "outputs": [],
   "source": [
    "import copy\n",
    "def cost_path(x,y):\n",
    "    cost = 0\n",
    "    path = []\n",
    "    for i in range(8):\n",
    "        if y[i]==1:\n",
    "            path.append(edges[i])\n",
    "            cost+= x[i]\n",
    "    if(len(path)!=0):\n",
    "        path_2 = copy.deepcopy(path)\n",
    "        path_nodes = [1]\n",
    "        if(path[0][0]!=1):\n",
    "            cost = 0\n",
    "        else:\n",
    "            path_nodes.append(path[0][1])\n",
    "            del path_2[0]\n",
    "            condition = True\n",
    "            while(len(path_2)!=0 and condition):\n",
    "                condition = False\n",
    "                for i in range(len(path_2)):\n",
    "                    if(path_nodes[-1] in path_2[i]):\n",
    "                        path_2[i].remove(path_nodes[-1])\n",
    "                        path_nodes.append(path_2[i][0])\n",
    "                        path_2.pop(i)\n",
    "                        condition = True\n",
    "                        break\n",
    "        if(path_nodes[-1]!=5 or len(path_2)!=0):\n",
    "            cost = 0\n",
    "    else:\n",
    "        cost = 0\n",
    "    return cost"
   ]
  },
  {
   "cell_type": "code",
   "execution_count": 22,
   "id": "b0fbc804",
   "metadata": {},
   "outputs": [
    {
     "data": {
      "text/plain": [
       "120"
      ]
     },
     "execution_count": 22,
     "metadata": {},
     "output_type": "execute_result"
    }
   ],
   "source": [
    "cost_path(X1[1],y_train[1][3])"
   ]
  },
  {
   "cell_type": "code",
   "execution_count": 32,
   "id": "b6e0b965",
   "metadata": {},
   "outputs": [
    {
     "name": "stdout",
     "output_type": "stream",
     "text": [
      "[0. 1. 0. 0. 0. 0. 1. 0.] 150\n",
      "[0. 0. 1. 0. 0. 1. 1. 0.] 140\n",
      "[0. 0. 1. 0. 0. 1. 1. 0.] 100\n",
      "[0. 1. 0. 0. 0. 1. 1. 1.] 0\n",
      "[0. 0. 1. 1. 1. 0. 0. 0.] 100\n",
      "[0. 0. 1. 0. 0. 0. 0. 1.] 120\n",
      "[0. 1. 0. 0. 0. 0. 1. 0.] 110\n",
      "[0. 1. 0. 0. 0. 0. 1. 0.] 130\n",
      "[0. 0. 1. 1. 1. 0. 0. 0.] 140\n"
     ]
    },
    {
     "data": {
      "text/plain": [
       "78.21111111111111"
      ]
     },
     "execution_count": 32,
     "metadata": {},
     "output_type": "execute_result"
    }
   ],
   "source": [
    "accuracy = 0\n",
    "for i in range(pred.shape[0]):\n",
    "    output = copy.deepcopy(pred[i][3])\n",
    "    condition = True\n",
    "    for j in range(len(output)):\n",
    "        output[j] = round(output[j])\n",
    "    if(i%1000 == 0):\n",
    "        print(output, cost_path(X1[i],output))\n",
    "    if(cost_path(X1[i],output) != cost_path(X1[i],y_train[i][3])):\n",
    "        condition = False\n",
    "    if condition:\n",
    "        accuracy += 1\n",
    "accuracy / pred.shape[0] * 100"
   ]
  },
  {
   "cell_type": "code",
   "execution_count": 24,
   "id": "3f7012a5",
   "metadata": {},
   "outputs": [
    {
     "name": "stdout",
     "output_type": "stream",
     "text": [
      "32/32 [==============================] - 0s 683us/step\n"
     ]
    }
   ],
   "source": [
    "pred_test=model.predict(X_test)"
   ]
  },
  {
   "cell_type": "code",
   "execution_count": 25,
   "id": "da03305d",
   "metadata": {},
   "outputs": [],
   "source": [
    "pred_test = pred_test.reshape(1000,4,8)"
   ]
  },
  {
   "cell_type": "code",
   "execution_count": 26,
   "id": "9363163a",
   "metadata": {},
   "outputs": [],
   "source": [
    "y_test = y_test.reshape(1000,4,8)"
   ]
  },
  {
   "cell_type": "code",
   "execution_count": 33,
   "id": "a59247fc",
   "metadata": {},
   "outputs": [
    {
     "data": {
      "text/plain": [
       "66.5"
      ]
     },
     "execution_count": 33,
     "metadata": {},
     "output_type": "execute_result"
    }
   ],
   "source": [
    "accuracy_test = 0\n",
    "for i in range(pred_test.shape[0]):\n",
    "    output = copy.deepcopy(pred_test[i][3])\n",
    "    condition = True\n",
    "    for j in range(len(output)):\n",
    "        output[j] = round(output[j])\n",
    "    if(cost_path(X2[i],output)!=cost_path(X2[i],y_test[i][3])):\n",
    "        condition = False\n",
    "    if condition:\n",
    "        accuracy_test += 1\n",
    "accuracy_test / pred_test.shape[0] * 100"
   ]
  },
  {
   "cell_type": "code",
   "execution_count": 31,
   "id": "78cac25e",
   "metadata": {},
   "outputs": [
    {
     "name": "stdout",
     "output_type": "stream",
     "text": [
      "Model: \"sequential\"\n",
      "_________________________________________________________________\n",
      " Layer (type)                Output Shape              Param #   \n",
      "=================================================================\n",
      " dense (Dense)               (None, 128)               1152      \n",
      "                                                                 \n",
      " dense_1 (Dense)             (None, 128)               16512     \n",
      "                                                                 \n",
      " dense_2 (Dense)             (None, 128)               16512     \n",
      "                                                                 \n",
      " dense_3 (Dense)             (None, 32)                4128      \n",
      "                                                                 \n",
      "=================================================================\n",
      "Total params: 38,304\n",
      "Trainable params: 38,304\n",
      "Non-trainable params: 0\n",
      "_________________________________________________________________\n"
     ]
    }
   ],
   "source": [
    "model.summary()"
   ]
  },
  {
   "cell_type": "code",
   "execution_count": null,
   "id": "f23859dd",
   "metadata": {},
   "outputs": [],
   "source": []
  }
 ],
 "metadata": {
  "kernelspec": {
   "display_name": "Python 3 (ipykernel)",
   "language": "python",
   "name": "python3"
  },
  "language_info": {
   "codemirror_mode": {
    "name": "ipython",
    "version": 3
   },
   "file_extension": ".py",
   "mimetype": "text/x-python",
   "name": "python",
   "nbconvert_exporter": "python",
   "pygments_lexer": "ipython3",
   "version": "3.8.10"
  }
 },
 "nbformat": 4,
 "nbformat_minor": 5
}
