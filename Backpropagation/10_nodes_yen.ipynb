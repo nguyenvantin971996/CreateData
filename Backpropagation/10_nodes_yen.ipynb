{
 "cells": [
  {
   "cell_type": "code",
   "execution_count": 1,
   "id": "6e0b208e",
   "metadata": {},
   "outputs": [
    {
     "data": {
      "text/html": [
       "<div>\n",
       "<style scoped>\n",
       "    .dataframe tbody tr th:only-of-type {\n",
       "        vertical-align: middle;\n",
       "    }\n",
       "\n",
       "    .dataframe tbody tr th {\n",
       "        vertical-align: top;\n",
       "    }\n",
       "\n",
       "    .dataframe thead th {\n",
       "        text-align: right;\n",
       "    }\n",
       "</style>\n",
       "<table border=\"1\" class=\"dataframe\">\n",
       "  <thead>\n",
       "    <tr style=\"text-align: right;\">\n",
       "      <th></th>\n",
       "      <th>X(1, 2)</th>\n",
       "      <th>X(1, 5)</th>\n",
       "      <th>X(1, 8)</th>\n",
       "      <th>X(2, 3)</th>\n",
       "      <th>X(2, 8)</th>\n",
       "      <th>X(3, 4)</th>\n",
       "      <th>X(3, 8)</th>\n",
       "      <th>X(3, 9)</th>\n",
       "      <th>X(4, 9)</th>\n",
       "      <th>X(4, 10)</th>\n",
       "      <th>...</th>\n",
       "      <th>Y4(4, 10)</th>\n",
       "      <th>Y4(5, 6)</th>\n",
       "      <th>Y4(5, 8)</th>\n",
       "      <th>Y4(6, 7)</th>\n",
       "      <th>Y4(6, 8)</th>\n",
       "      <th>Y4(6, 9)</th>\n",
       "      <th>Y4(7, 9)</th>\n",
       "      <th>Y4(7, 10)</th>\n",
       "      <th>Y4(8, 9)</th>\n",
       "      <th>Y4(9, 10)</th>\n",
       "    </tr>\n",
       "  </thead>\n",
       "  <tbody>\n",
       "    <tr>\n",
       "      <th>0</th>\n",
       "      <td>60</td>\n",
       "      <td>60</td>\n",
       "      <td>10</td>\n",
       "      <td>70</td>\n",
       "      <td>80</td>\n",
       "      <td>60</td>\n",
       "      <td>60</td>\n",
       "      <td>80</td>\n",
       "      <td>90</td>\n",
       "      <td>50</td>\n",
       "      <td>...</td>\n",
       "      <td>1</td>\n",
       "      <td>0</td>\n",
       "      <td>0</td>\n",
       "      <td>0</td>\n",
       "      <td>0</td>\n",
       "      <td>0</td>\n",
       "      <td>0</td>\n",
       "      <td>0</td>\n",
       "      <td>1</td>\n",
       "      <td>0</td>\n",
       "    </tr>\n",
       "    <tr>\n",
       "      <th>1</th>\n",
       "      <td>10</td>\n",
       "      <td>80</td>\n",
       "      <td>20</td>\n",
       "      <td>50</td>\n",
       "      <td>30</td>\n",
       "      <td>40</td>\n",
       "      <td>60</td>\n",
       "      <td>30</td>\n",
       "      <td>90</td>\n",
       "      <td>40</td>\n",
       "      <td>...</td>\n",
       "      <td>0</td>\n",
       "      <td>0</td>\n",
       "      <td>0</td>\n",
       "      <td>0</td>\n",
       "      <td>0</td>\n",
       "      <td>0</td>\n",
       "      <td>0</td>\n",
       "      <td>0</td>\n",
       "      <td>0</td>\n",
       "      <td>1</td>\n",
       "    </tr>\n",
       "    <tr>\n",
       "      <th>2</th>\n",
       "      <td>10</td>\n",
       "      <td>90</td>\n",
       "      <td>80</td>\n",
       "      <td>40</td>\n",
       "      <td>70</td>\n",
       "      <td>80</td>\n",
       "      <td>40</td>\n",
       "      <td>80</td>\n",
       "      <td>80</td>\n",
       "      <td>70</td>\n",
       "      <td>...</td>\n",
       "      <td>0</td>\n",
       "      <td>0</td>\n",
       "      <td>1</td>\n",
       "      <td>0</td>\n",
       "      <td>0</td>\n",
       "      <td>0</td>\n",
       "      <td>0</td>\n",
       "      <td>0</td>\n",
       "      <td>1</td>\n",
       "      <td>1</td>\n",
       "    </tr>\n",
       "    <tr>\n",
       "      <th>3</th>\n",
       "      <td>50</td>\n",
       "      <td>60</td>\n",
       "      <td>30</td>\n",
       "      <td>90</td>\n",
       "      <td>40</td>\n",
       "      <td>40</td>\n",
       "      <td>50</td>\n",
       "      <td>60</td>\n",
       "      <td>20</td>\n",
       "      <td>20</td>\n",
       "      <td>...</td>\n",
       "      <td>1</td>\n",
       "      <td>1</td>\n",
       "      <td>0</td>\n",
       "      <td>0</td>\n",
       "      <td>0</td>\n",
       "      <td>1</td>\n",
       "      <td>0</td>\n",
       "      <td>0</td>\n",
       "      <td>0</td>\n",
       "      <td>0</td>\n",
       "    </tr>\n",
       "    <tr>\n",
       "      <th>4</th>\n",
       "      <td>50</td>\n",
       "      <td>50</td>\n",
       "      <td>20</td>\n",
       "      <td>10</td>\n",
       "      <td>80</td>\n",
       "      <td>60</td>\n",
       "      <td>70</td>\n",
       "      <td>10</td>\n",
       "      <td>60</td>\n",
       "      <td>40</td>\n",
       "      <td>...</td>\n",
       "      <td>1</td>\n",
       "      <td>0</td>\n",
       "      <td>0</td>\n",
       "      <td>0</td>\n",
       "      <td>0</td>\n",
       "      <td>0</td>\n",
       "      <td>0</td>\n",
       "      <td>0</td>\n",
       "      <td>0</td>\n",
       "      <td>0</td>\n",
       "    </tr>\n",
       "  </tbody>\n",
       "</table>\n",
       "<p>5 rows × 95 columns</p>\n",
       "</div>"
      ],
      "text/plain": [
       "   X(1, 2)  X(1, 5)  X(1, 8)  X(2, 3)  X(2, 8)  X(3, 4)  X(3, 8)  X(3, 9)  \\\n",
       "0       60       60       10       70       80       60       60       80   \n",
       "1       10       80       20       50       30       40       60       30   \n",
       "2       10       90       80       40       70       80       40       80   \n",
       "3       50       60       30       90       40       40       50       60   \n",
       "4       50       50       20       10       80       60       70       10   \n",
       "\n",
       "   X(4, 9)  X(4, 10)  ...  Y4(4, 10)  Y4(5, 6)  Y4(5, 8)  Y4(6, 7)  Y4(6, 8)  \\\n",
       "0       90        50  ...          1         0         0         0         0   \n",
       "1       90        40  ...          0         0         0         0         0   \n",
       "2       80        70  ...          0         0         1         0         0   \n",
       "3       20        20  ...          1         1         0         0         0   \n",
       "4       60        40  ...          1         0         0         0         0   \n",
       "\n",
       "   Y4(6, 9)  Y4(7, 9)  Y4(7, 10)  Y4(8, 9)  Y4(9, 10)  \n",
       "0         0         0          0         1          0  \n",
       "1         0         0          0         0          1  \n",
       "2         0         0          0         1          1  \n",
       "3         1         0          0         0          0  \n",
       "4         0         0          0         0          0  \n",
       "\n",
       "[5 rows x 95 columns]"
      ]
     },
     "execution_count": 1,
     "metadata": {},
     "output_type": "execute_result"
    }
   ],
   "source": [
    "import numpy as np\n",
    "import pandas as pd\n",
    "#dataset import\n",
    "df = pd.read_csv(\"../Data/data_10_nodes_yen.csv\") #You need to change #directory accordingly\n",
    "df.head()"
   ]
  },
  {
   "cell_type": "code",
   "execution_count": 2,
   "id": "4fc511a4",
   "metadata": {},
   "outputs": [],
   "source": [
    "X = df.iloc[:,:57].values\n",
    "y = df.iloc[:,57:76].values"
   ]
  },
  {
   "cell_type": "code",
   "execution_count": 3,
   "id": "9b16f10f",
   "metadata": {},
   "outputs": [
    {
     "data": {
      "text/plain": [
       "(200000, 57)"
      ]
     },
     "execution_count": 3,
     "metadata": {},
     "output_type": "execute_result"
    }
   ],
   "source": [
    "X.shape"
   ]
  },
  {
   "cell_type": "code",
   "execution_count": 4,
   "id": "b588da2e",
   "metadata": {},
   "outputs": [
    {
     "data": {
      "text/plain": [
       "(200000, 19)"
      ]
     },
     "execution_count": 4,
     "metadata": {},
     "output_type": "execute_result"
    }
   ],
   "source": [
    "y.shape"
   ]
  },
  {
   "cell_type": "code",
   "execution_count": 5,
   "id": "e0d7dfc9",
   "metadata": {},
   "outputs": [],
   "source": [
    "from sklearn.model_selection import train_test_split\n",
    "X1,X2,y_train,y_test = train_test_split(X,y,test_size = 0.1)"
   ]
  },
  {
   "cell_type": "code",
   "execution_count": 6,
   "id": "72c0fe51",
   "metadata": {},
   "outputs": [
    {
     "data": {
      "text/plain": [
       "array([60, 90, 90, 80, 60, 80, 50, 50, 70, 80, 10, 60, 70, 80, 90, 20, 10,\n",
       "       90, 40,  0,  1,  0,  0,  0,  0,  0,  0,  0,  0,  1,  0,  1,  0,  0,\n",
       "        0,  1,  0,  0,  0,  0,  1,  0,  0,  0,  0,  0,  0,  0,  0,  0,  0,\n",
       "        0,  0,  1,  1,  1,  0], dtype=int64)"
      ]
     },
     "execution_count": 6,
     "metadata": {},
     "output_type": "execute_result"
    }
   ],
   "source": [
    "X2[1]"
   ]
  },
  {
   "cell_type": "code",
   "execution_count": 7,
   "id": "75cf1df7",
   "metadata": {},
   "outputs": [
    {
     "data": {
      "text/plain": [
       "array([0, 1, 0, 0, 0, 0, 0, 0, 0, 0, 1, 0, 0, 0, 1, 1, 1, 0, 0],\n",
       "      dtype=int64)"
      ]
     },
     "execution_count": 7,
     "metadata": {},
     "output_type": "execute_result"
    }
   ],
   "source": [
    "y_test[1]"
   ]
  },
  {
   "cell_type": "code",
   "execution_count": 8,
   "id": "a6a95eb2",
   "metadata": {},
   "outputs": [],
   "source": [
    "from sklearn.preprocessing import StandardScaler\n",
    "sc = StandardScaler()\n",
    "X_train = sc.fit_transform(X1)\n",
    "X_test= sc.fit_transform(X2)"
   ]
  },
  {
   "cell_type": "code",
   "execution_count": 9,
   "id": "ce578d21",
   "metadata": {},
   "outputs": [
    {
     "data": {
      "text/plain": [
       "array([60, 90, 90, 80, 60, 80, 50, 50, 70, 80, 10, 60, 70, 80, 90, 20, 10,\n",
       "       90, 40,  0,  1,  0,  0,  0,  0,  0,  0,  0,  0,  1,  0,  1,  0,  0,\n",
       "        0,  1,  0,  0,  0,  0,  1,  0,  0,  0,  0,  0,  0,  0,  0,  0,  0,\n",
       "        0,  0,  1,  1,  1,  0], dtype=int64)"
      ]
     },
     "execution_count": 9,
     "metadata": {},
     "output_type": "execute_result"
    }
   ],
   "source": [
    "X2[1,:]"
   ]
  },
  {
   "cell_type": "code",
   "execution_count": 10,
   "id": "9481c5aa",
   "metadata": {},
   "outputs": [],
   "source": [
    "#Dependencies\n",
    "import keras\n",
    "from keras.models import Sequential\n",
    "from keras.layers import Dense,Dropout\n",
    "# Neural network\n",
    "model = Sequential()\n",
    "model.add(Dense(128, input_dim=57, activation=\"relu\"))\n",
    "# model.add(Dropout(0.2))\n",
    "model.add(Dense(128, activation=\"relu\"))\n",
    "# model.add(Dropout(0.2))\n",
    "model.add(Dense(19, activation=\"sigmoid\"))"
   ]
  },
  {
   "cell_type": "code",
   "execution_count": 11,
   "id": "52646bd6",
   "metadata": {},
   "outputs": [],
   "source": [
    "model.compile(loss='BinaryCrossentropy', optimizer='adam')"
   ]
  },
  {
   "cell_type": "code",
   "execution_count": 12,
   "id": "14f80e09",
   "metadata": {},
   "outputs": [
    {
     "name": "stdout",
     "output_type": "stream",
     "text": [
      "Epoch 1/100\n",
      "2813/2813 [==============================] - 7s 2ms/step - loss: 0.3177\n",
      "Epoch 2/100\n",
      "2813/2813 [==============================] - 6s 2ms/step - loss: 0.2547\n",
      "Epoch 3/100\n",
      "2813/2813 [==============================] - 6s 2ms/step - loss: 0.2293\n",
      "Epoch 4/100\n",
      "2813/2813 [==============================] - 6s 2ms/step - loss: 0.2120\n",
      "Epoch 5/100\n",
      "2813/2813 [==============================] - 7s 2ms/step - loss: 0.1991\n",
      "Epoch 6/100\n",
      "2813/2813 [==============================] - 8s 3ms/step - loss: 0.1896\n",
      "Epoch 7/100\n",
      "2813/2813 [==============================] - 7s 2ms/step - loss: 0.1819\n",
      "Epoch 8/100\n",
      "2813/2813 [==============================] - 7s 2ms/step - loss: 0.1753\n",
      "Epoch 9/100\n",
      "2813/2813 [==============================] - 7s 2ms/step - loss: 0.1695\n",
      "Epoch 10/100\n",
      "2813/2813 [==============================] - 9s 3ms/step - loss: 0.1645\n",
      "Epoch 11/100\n",
      "2813/2813 [==============================] - 9s 3ms/step - loss: 0.1598\n",
      "Epoch 12/100\n",
      "2813/2813 [==============================] - 7s 2ms/step - loss: 0.1554\n",
      "Epoch 13/100\n",
      "2813/2813 [==============================] - 5s 2ms/step - loss: 0.1519\n",
      "Epoch 14/100\n",
      "2813/2813 [==============================] - 4s 1ms/step - loss: 0.1488\n",
      "Epoch 15/100\n",
      "2813/2813 [==============================] - 4s 1ms/step - loss: 0.1456\n",
      "Epoch 16/100\n",
      "2813/2813 [==============================] - 4s 2ms/step - loss: 0.1432\n",
      "Epoch 17/100\n",
      "2813/2813 [==============================] - 5s 2ms/step - loss: 0.1410\n",
      "Epoch 18/100\n",
      "2813/2813 [==============================] - 5s 2ms/step - loss: 0.1388\n",
      "Epoch 19/100\n",
      "2813/2813 [==============================] - 4s 2ms/step - loss: 0.1367\n",
      "Epoch 20/100\n",
      "2813/2813 [==============================] - 4s 1ms/step - loss: 0.1350\n",
      "Epoch 21/100\n",
      "2813/2813 [==============================] - 4s 1ms/step - loss: 0.1334\n",
      "Epoch 22/100\n",
      "2813/2813 [==============================] - 4s 1ms/step - loss: 0.1316\n",
      "Epoch 23/100\n",
      "2813/2813 [==============================] - 6s 2ms/step - loss: 0.1302\n",
      "Epoch 24/100\n",
      "2813/2813 [==============================] - 4s 1ms/step - loss: 0.1289\n",
      "Epoch 25/100\n",
      "2813/2813 [==============================] - 4s 1ms/step - loss: 0.1272\n",
      "Epoch 26/100\n",
      "2813/2813 [==============================] - 5s 2ms/step - loss: 0.1260\n",
      "Epoch 27/100\n",
      "2813/2813 [==============================] - 6s 2ms/step - loss: 0.1252\n",
      "Epoch 28/100\n",
      "2813/2813 [==============================] - 4s 2ms/step - loss: 0.1236\n",
      "Epoch 29/100\n",
      "2813/2813 [==============================] - 6s 2ms/step - loss: 0.1225\n",
      "Epoch 30/100\n",
      "2813/2813 [==============================] - 7s 2ms/step - loss: 0.1218\n",
      "Epoch 31/100\n",
      "2813/2813 [==============================] - 5s 2ms/step - loss: 0.1204\n",
      "Epoch 32/100\n",
      "2813/2813 [==============================] - 5s 2ms/step - loss: 0.1198\n",
      "Epoch 33/100\n",
      "2813/2813 [==============================] - 5s 2ms/step - loss: 0.1187\n",
      "Epoch 34/100\n",
      "2813/2813 [==============================] - 5s 2ms/step - loss: 0.1180\n",
      "Epoch 35/100\n",
      "2813/2813 [==============================] - 6s 2ms/step - loss: 0.1171\n",
      "Epoch 36/100\n",
      "2813/2813 [==============================] - 6s 2ms/step - loss: 0.1162\n",
      "Epoch 37/100\n",
      "2813/2813 [==============================] - 4s 2ms/step - loss: 0.1154\n",
      "Epoch 38/100\n",
      "2813/2813 [==============================] - 4s 1ms/step - loss: 0.1146\n",
      "Epoch 39/100\n",
      "2813/2813 [==============================] - 4s 1ms/step - loss: 0.1140\n",
      "Epoch 40/100\n",
      "2813/2813 [==============================] - 4s 2ms/step - loss: 0.1132\n",
      "Epoch 41/100\n",
      "2813/2813 [==============================] - 4s 1ms/step - loss: 0.1127\n",
      "Epoch 42/100\n",
      "2813/2813 [==============================] - 4s 1ms/step - loss: 0.1119\n",
      "Epoch 43/100\n",
      "2813/2813 [==============================] - 4s 1ms/step - loss: 0.1112\n",
      "Epoch 44/100\n",
      "2813/2813 [==============================] - 4s 1ms/step - loss: 0.1107\n",
      "Epoch 45/100\n",
      "2813/2813 [==============================] - 4s 2ms/step - loss: 0.1099\n",
      "Epoch 46/100\n",
      "2813/2813 [==============================] - 5s 2ms/step - loss: 0.1095\n",
      "Epoch 47/100\n",
      "2813/2813 [==============================] - 4s 1ms/step - loss: 0.1087\n",
      "Epoch 48/100\n",
      "2813/2813 [==============================] - 4s 2ms/step - loss: 0.1083\n",
      "Epoch 49/100\n",
      "2813/2813 [==============================] - 5s 2ms/step - loss: 0.1077\n",
      "Epoch 50/100\n",
      "2813/2813 [==============================] - 5s 2ms/step - loss: 0.1069\n",
      "Epoch 51/100\n",
      "2813/2813 [==============================] - 5s 2ms/step - loss: 0.1065\n",
      "Epoch 52/100\n",
      "2813/2813 [==============================] - 6s 2ms/step - loss: 0.1058\n",
      "Epoch 53/100\n",
      "2813/2813 [==============================] - 6s 2ms/step - loss: 0.1054\n",
      "Epoch 54/100\n",
      "2813/2813 [==============================] - 6s 2ms/step - loss: 0.1050\n",
      "Epoch 55/100\n",
      "2813/2813 [==============================] - 6s 2ms/step - loss: 0.1044\n",
      "Epoch 56/100\n",
      "2813/2813 [==============================] - 5s 2ms/step - loss: 0.1039\n",
      "Epoch 57/100\n",
      "2813/2813 [==============================] - 7s 2ms/step - loss: 0.1035\n",
      "Epoch 58/100\n",
      "2813/2813 [==============================] - 4s 1ms/step - loss: 0.1029\n",
      "Epoch 59/100\n",
      "2813/2813 [==============================] - 4s 1ms/step - loss: 0.1028\n",
      "Epoch 60/100\n",
      "2813/2813 [==============================] - 4s 2ms/step - loss: 0.1021\n",
      "Epoch 61/100\n",
      "2813/2813 [==============================] - 4s 1ms/step - loss: 0.1015\n",
      "Epoch 62/100\n",
      "2813/2813 [==============================] - 4s 1ms/step - loss: 0.1012\n",
      "Epoch 63/100\n",
      "2813/2813 [==============================] - 4s 1ms/step - loss: 0.1007\n",
      "Epoch 64/100\n",
      "2813/2813 [==============================] - 5s 2ms/step - loss: 0.1003\n",
      "Epoch 65/100\n",
      "2813/2813 [==============================] - 7s 2ms/step - loss: 0.0996\n",
      "Epoch 66/100\n",
      "2813/2813 [==============================] - 6s 2ms/step - loss: 0.0993\n",
      "Epoch 67/100\n",
      "2813/2813 [==============================] - 5s 2ms/step - loss: 0.0990\n",
      "Epoch 68/100\n",
      "2813/2813 [==============================] - 5s 2ms/step - loss: 0.0984\n",
      "Epoch 69/100\n",
      "2813/2813 [==============================] - 5s 2ms/step - loss: 0.0983\n",
      "Epoch 70/100\n",
      "2813/2813 [==============================] - 6s 2ms/step - loss: 0.0978\n",
      "Epoch 71/100\n",
      "2813/2813 [==============================] - 6s 2ms/step - loss: 0.0975\n",
      "Epoch 72/100\n",
      "2813/2813 [==============================] - 7s 2ms/step - loss: 0.0970\n",
      "Epoch 73/100\n",
      "2813/2813 [==============================] - 7s 2ms/step - loss: 0.0968\n",
      "Epoch 74/100\n",
      "2813/2813 [==============================] - 5s 2ms/step - loss: 0.0961\n",
      "Epoch 75/100\n",
      "2813/2813 [==============================] - 5s 2ms/step - loss: 0.0960\n",
      "Epoch 76/100\n",
      "2813/2813 [==============================] - 7s 2ms/step - loss: 0.0954\n",
      "Epoch 77/100\n",
      "2813/2813 [==============================] - 5s 2ms/step - loss: 0.0950\n",
      "Epoch 78/100\n",
      "2813/2813 [==============================] - 5s 2ms/step - loss: 0.0949\n",
      "Epoch 79/100\n",
      "2813/2813 [==============================] - 5s 2ms/step - loss: 0.0946\n",
      "Epoch 80/100\n",
      "2813/2813 [==============================] - 5s 2ms/step - loss: 0.0945\n",
      "Epoch 81/100\n",
      "2813/2813 [==============================] - 5s 2ms/step - loss: 0.0939\n",
      "Epoch 82/100\n",
      "2813/2813 [==============================] - 5s 2ms/step - loss: 0.0937\n",
      "Epoch 83/100\n",
      "2813/2813 [==============================] - 5s 2ms/step - loss: 0.0933\n",
      "Epoch 84/100\n",
      "2813/2813 [==============================] - 5s 2ms/step - loss: 0.0931\n",
      "Epoch 85/100\n",
      "2813/2813 [==============================] - 6s 2ms/step - loss: 0.0927\n",
      "Epoch 86/100\n",
      "2813/2813 [==============================] - 6s 2ms/step - loss: 0.0923\n",
      "Epoch 87/100\n",
      "2813/2813 [==============================] - 4s 2ms/step - loss: 0.0922\n",
      "Epoch 88/100\n",
      "2813/2813 [==============================] - 6s 2ms/step - loss: 0.0920\n",
      "Epoch 89/100\n",
      "2813/2813 [==============================] - 5s 2ms/step - loss: 0.0915\n",
      "Epoch 90/100\n",
      "2813/2813 [==============================] - 5s 2ms/step - loss: 0.0917\n",
      "Epoch 91/100\n",
      "2813/2813 [==============================] - 5s 2ms/step - loss: 0.0909\n",
      "Epoch 92/100\n",
      "2813/2813 [==============================] - 5s 2ms/step - loss: 0.0910\n",
      "Epoch 93/100\n",
      "2813/2813 [==============================] - 5s 2ms/step - loss: 0.0906\n",
      "Epoch 94/100\n",
      "2813/2813 [==============================] - 5s 2ms/step - loss: 0.0907\n",
      "Epoch 95/100\n",
      "2813/2813 [==============================] - 5s 2ms/step - loss: 0.0902\n",
      "Epoch 96/100\n",
      "2813/2813 [==============================] - 5s 2ms/step - loss: 0.0897\n",
      "Epoch 97/100\n"
     ]
    },
    {
     "name": "stdout",
     "output_type": "stream",
     "text": [
      "2813/2813 [==============================] - 6s 2ms/step - loss: 0.0897\n",
      "Epoch 98/100\n",
      "2813/2813 [==============================] - 6s 2ms/step - loss: 0.0896\n",
      "Epoch 99/100\n",
      "2813/2813 [==============================] - 5s 2ms/step - loss: 0.0890\n",
      "Epoch 100/100\n",
      "2813/2813 [==============================] - 5s 2ms/step - loss: 0.0889\n"
     ]
    },
    {
     "data": {
      "text/plain": [
       "<keras.callbacks.History at 0x1f2a9f9cc40>"
      ]
     },
     "execution_count": 12,
     "metadata": {},
     "output_type": "execute_result"
    }
   ],
   "source": [
    "model.fit(X_train, y_train, epochs=100, batch_size=64)"
   ]
  },
  {
   "cell_type": "code",
   "execution_count": 13,
   "id": "33a57e47",
   "metadata": {},
   "outputs": [
    {
     "name": "stdout",
     "output_type": "stream",
     "text": [
      "625/625 [==============================] - 1s 1ms/step - loss: 0.1209\n"
     ]
    }
   ],
   "source": [
    "loss_and_metrics = model.evaluate(X_test, y_test)"
   ]
  },
  {
   "cell_type": "code",
   "execution_count": 14,
   "id": "ac70b6cb",
   "metadata": {},
   "outputs": [
    {
     "name": "stdout",
     "output_type": "stream",
     "text": [
      "5625/5625 [==============================] - 6s 1ms/step - loss: 0.0854\n"
     ]
    }
   ],
   "source": [
    "loss_and_metrics_2 = model.evaluate(X_train, y_train)"
   ]
  },
  {
   "cell_type": "code",
   "execution_count": 15,
   "id": "31eb413d",
   "metadata": {},
   "outputs": [
    {
     "data": {
      "text/plain": [
       "3"
      ]
     },
     "execution_count": 15,
     "metadata": {},
     "output_type": "execute_result"
    }
   ],
   "source": [
    "len(model.layers)"
   ]
  },
  {
   "cell_type": "code",
   "execution_count": 16,
   "id": "2e5a66d7",
   "metadata": {},
   "outputs": [
    {
     "name": "stdout",
     "output_type": "stream",
     "text": [
      "5625/5625 [==============================] - 6s 1ms/step\n"
     ]
    }
   ],
   "source": [
    "pred=model.predict(X_train)"
   ]
  },
  {
   "cell_type": "code",
   "execution_count": 17,
   "id": "5a0fafbc",
   "metadata": {},
   "outputs": [
    {
     "data": {
      "text/plain": [
       "180000"
      ]
     },
     "execution_count": 17,
     "metadata": {},
     "output_type": "execute_result"
    }
   ],
   "source": [
    "pred.shape[0]"
   ]
  },
  {
   "cell_type": "code",
   "execution_count": 18,
   "id": "6d1b1859",
   "metadata": {},
   "outputs": [
    {
     "data": {
      "text/plain": [
       "array([2.3697942e-02, 9.9398851e-01, 1.6315394e-06, 2.3048366e-05,\n",
       "       3.2735698e-02, 7.4398420e-05, 1.3003169e-04, 3.4493246e-06,\n",
       "       7.8124427e-03, 7.2246226e-03, 9.9117529e-01, 2.5719501e-05,\n",
       "       9.9996036e-01, 6.0411855e-03, 2.1031572e-07, 9.3112814e-01,\n",
       "       6.9626018e-02, 3.1883815e-07, 2.7969134e-01], dtype=float32)"
      ]
     },
     "execution_count": 18,
     "metadata": {},
     "output_type": "execute_result"
    }
   ],
   "source": [
    "pred[0]"
   ]
  },
  {
   "cell_type": "code",
   "execution_count": 19,
   "id": "2834b5d4",
   "metadata": {},
   "outputs": [
    {
     "data": {
      "text/plain": [
       "array([0, 1, 0, 0, 0, 0, 0, 0, 0, 0, 1, 0, 1, 0, 0, 1, 0, 0, 1],\n",
       "      dtype=int64)"
      ]
     },
     "execution_count": 19,
     "metadata": {},
     "output_type": "execute_result"
    }
   ],
   "source": [
    "y_train[0]"
   ]
  },
  {
   "cell_type": "code",
   "execution_count": 20,
   "id": "d4b582aa",
   "metadata": {},
   "outputs": [],
   "source": [
    "edges = [[1, 2], [1, 5], [1, 8], [2, 3], [2, 8], [3, 4], [3, 8], [3, 9], [4, 9], [4, 10], [5, 6], [5, 8], [6, 7], [6, 8], [6, 9], [7, 9], [7, 10], [8, 9],[9, 10]]"
   ]
  },
  {
   "cell_type": "code",
   "execution_count": 21,
   "id": "95838411",
   "metadata": {},
   "outputs": [],
   "source": [
    "import copy\n",
    "def cost_path(x,y):\n",
    "    cost = 0\n",
    "    path = []\n",
    "    for i in range(19):\n",
    "        if y[i]==1:\n",
    "            path.append(edges[i])\n",
    "            cost+= x[i]\n",
    "    if(len(path)!=0):\n",
    "        path_2 = copy.deepcopy(path)\n",
    "        path_nodes = [1]\n",
    "        if(path[0][0]!=1):\n",
    "            cost = 0\n",
    "        else:\n",
    "            path_nodes.append(path[0][1])\n",
    "            del path_2[0]\n",
    "            condition = True\n",
    "            while(len(path_2)!=0 and condition):\n",
    "                condition = False\n",
    "                for i in range(len(path_2)):\n",
    "                    if(path_nodes[-1] in path_2[i]):\n",
    "                        path_2[i].remove(path_nodes[-1])\n",
    "                        path_nodes.append(path_2[i][0])\n",
    "                        path_2.pop(i)\n",
    "                        condition = True\n",
    "                        break\n",
    "        if(path_nodes[-1]!=10 or len(path_2)!=0):\n",
    "            cost = 0\n",
    "    else:\n",
    "        cost = 0\n",
    "    return cost"
   ]
  },
  {
   "cell_type": "code",
   "execution_count": 22,
   "id": "b0fbc804",
   "metadata": {},
   "outputs": [
    {
     "data": {
      "text/plain": [
       "170"
      ]
     },
     "execution_count": 22,
     "metadata": {},
     "output_type": "execute_result"
    }
   ],
   "source": [
    "cost_path(X1[1],y_train[1])"
   ]
  },
  {
   "cell_type": "code",
   "execution_count": 23,
   "id": "b6e0b965",
   "metadata": {},
   "outputs": [
    {
     "name": "stdout",
     "output_type": "stream",
     "text": [
      "[0. 1. 0. 0. 0. 0. 0. 0. 0. 0. 1. 0. 1. 0. 0. 1. 0. 0. 0.] 0\n",
      "[0. 0. 1. 0. 0. 0. 1. 1. 0. 0. 0. 0. 0. 0. 0. 0. 0. 0. 1.] 140\n",
      "[0. 0. 1. 0. 0. 0. 0. 0. 0. 0. 0. 0. 0. 0. 0. 1. 1. 1. 0.] 170\n",
      "[1. 0. 0. 1. 0. 1. 0. 0. 0. 1. 0. 0. 0. 0. 0. 0. 0. 0. 0.] 180\n",
      "[0. 1. 0. 0. 0. 0. 0. 0. 0. 0. 1. 0. 1. 0. 0. 0. 1. 0. 0.] 140\n",
      "[0. 1. 0. 0. 0. 0. 0. 0. 0. 0. 1. 0. 0. 0. 1. 0. 0. 0. 1.] 160\n",
      "[0. 0. 1. 0. 0. 0. 0. 0. 0. 0. 0. 0. 0. 0. 0. 1. 1. 1. 0.] 110\n",
      "[1. 0. 0. 1. 0. 1. 0. 0. 0. 1. 0. 0. 0. 0. 0. 0. 0. 0. 0.] 140\n",
      "[0. 1. 0. 0. 0. 0. 0. 0. 0. 0. 0. 0. 0. 0. 0. 0. 0. 1. 1.] 0\n",
      "[0. 0. 1. 0. 0. 0. 0. 0. 1. 1. 0. 0. 0. 0. 0. 0. 0. 1. 0.] 150\n",
      "[0. 0. 1. 0. 0. 0. 0. 0. 0. 0. 0. 0. 0. 0. 0. 0. 0. 1. 1.] 160\n",
      "[0. 0. 1. 0. 0. 0. 0. 0. 0. 0. 0. 0. 0. 0. 0. 1. 1. 1. 0.] 110\n",
      "[1. 0. 0. 0. 1. 0. 0. 0. 0. 0. 0. 0. 0. 0. 0. 0. 0. 1. 1.] 110\n",
      "[1. 0. 0. 0. 1. 0. 0. 0. 0. 0. 0. 0. 0. 0. 0. 0. 0. 1. 1.] 120\n",
      "[0. 1. 0. 0. 0. 0. 0. 0. 0. 0. 0. 1. 0. 0. 0. 0. 0. 1. 1.] 180\n",
      "[1. 0. 0. 0. 1. 0. 0. 0. 0. 0. 0. 0. 0. 0. 0. 1. 1. 1. 0.] 150\n",
      "[0. 0. 1. 0. 0. 0. 0. 0. 0. 0. 0. 0. 0. 0. 0. 0. 0. 0. 1.] 0\n",
      "[0. 0. 1. 0. 0. 0. 0. 0. 0. 0. 0. 0. 0. 0. 0. 1. 1. 1. 0.] 140\n"
     ]
    },
    {
     "data": {
      "text/plain": [
       "78.66277777777778"
      ]
     },
     "execution_count": 23,
     "metadata": {},
     "output_type": "execute_result"
    }
   ],
   "source": [
    "accuracy = 0\n",
    "for i in range(pred.shape[0]):\n",
    "    output = copy.deepcopy(pred[i])\n",
    "    condition = True\n",
    "    for j in range(len(output)):\n",
    "        output[j] = round(output[j])\n",
    "    if(i%10000 == 0):\n",
    "        print(output, cost_path(X1[i],output))\n",
    "    if(cost_path(X1[i],output) != cost_path(X1[i],y_train[i])):\n",
    "        condition = False\n",
    "    if condition:\n",
    "        accuracy += 1\n",
    "accuracy / pred.shape[0] * 100"
   ]
  },
  {
   "cell_type": "code",
   "execution_count": 24,
   "id": "3f7012a5",
   "metadata": {},
   "outputs": [
    {
     "name": "stdout",
     "output_type": "stream",
     "text": [
      "625/625 [==============================] - 1s 2ms/step\n"
     ]
    }
   ],
   "source": [
    "pred_test=model.predict(X_test)"
   ]
  },
  {
   "cell_type": "code",
   "execution_count": 25,
   "id": "a59247fc",
   "metadata": {},
   "outputs": [
    {
     "data": {
      "text/plain": [
       "74.82"
      ]
     },
     "execution_count": 25,
     "metadata": {},
     "output_type": "execute_result"
    }
   ],
   "source": [
    "accuracy_test = 0\n",
    "for i in range(pred_test.shape[0]):\n",
    "    output = pred_test[i].copy()\n",
    "    condition = True\n",
    "    for j in range(len(output)):\n",
    "        output[j] = round(output[j])\n",
    "    if(cost_path(X2[i],output)!=cost_path(X2[i],y_test[i])):\n",
    "        condition = False\n",
    "    if condition:\n",
    "        accuracy_test += 1\n",
    "accuracy_test / pred_test.shape[0] * 100"
   ]
  },
  {
   "cell_type": "code",
   "execution_count": 26,
   "id": "78cac25e",
   "metadata": {},
   "outputs": [
    {
     "name": "stdout",
     "output_type": "stream",
     "text": [
      "Model: \"sequential\"\n",
      "_________________________________________________________________\n",
      " Layer (type)                Output Shape              Param #   \n",
      "=================================================================\n",
      " dense (Dense)               (None, 128)               7424      \n",
      "                                                                 \n",
      " dense_1 (Dense)             (None, 128)               16512     \n",
      "                                                                 \n",
      " dense_2 (Dense)             (None, 19)                2451      \n",
      "                                                                 \n",
      "=================================================================\n",
      "Total params: 26,387\n",
      "Trainable params: 26,387\n",
      "Non-trainable params: 0\n",
      "_________________________________________________________________\n"
     ]
    }
   ],
   "source": [
    "model.summary()"
   ]
  },
  {
   "cell_type": "code",
   "execution_count": null,
   "id": "f23859dd",
   "metadata": {},
   "outputs": [],
   "source": []
  }
 ],
 "metadata": {
  "kernelspec": {
   "display_name": "Python 3 (ipykernel)",
   "language": "python",
   "name": "python3"
  },
  "language_info": {
   "codemirror_mode": {
    "name": "ipython",
    "version": 3
   },
   "file_extension": ".py",
   "mimetype": "text/x-python",
   "name": "python",
   "nbconvert_exporter": "python",
   "pygments_lexer": "ipython3",
   "version": "3.8.10"
  }
 },
 "nbformat": 4,
 "nbformat_minor": 5
}
