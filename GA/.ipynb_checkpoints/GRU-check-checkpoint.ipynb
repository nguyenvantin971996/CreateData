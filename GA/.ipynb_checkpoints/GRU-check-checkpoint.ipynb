{
 "cells": [
  {
   "cell_type": "code",
   "execution_count": 1,
   "id": "a04769b0",
   "metadata": {},
   "outputs": [],
   "source": [
    "import tensorflow as tf\n",
    "import pandas as pd\n",
    "import numpy as np\n",
    "import matplotlib.pyplot as plt\n",
    "from keras.models import Sequential\n",
    "from keras.layers import Dense, GRU\n",
    "import copy\n",
    "import time\n",
    "from sklearn.preprocessing import StandardScaler\n",
    "import random"
   ]
  },
  {
   "cell_type": "code",
   "execution_count": 2,
   "id": "99f01815",
   "metadata": {},
   "outputs": [],
   "source": [
    "df = pd.read_csv(\"../Data/data_(8-8).csv\")\n",
    "sc = StandardScaler()"
   ]
  },
  {
   "cell_type": "code",
   "execution_count": 3,
   "id": "4788fc37",
   "metadata": {},
   "outputs": [],
   "source": [
    "X = df.iloc[:800, :8].values\n",
    "y = df.iloc[:800, 8:16].values\n",
    "X = sc.fit_transform(X)\n",
    "X_test = df.iloc[800:1000, :8].values\n",
    "y_test = df.iloc[800:1000, 8:16].values\n",
    "X_test = sc.fit_transform(X_test)"
   ]
  },
  {
   "cell_type": "code",
   "execution_count": 4,
   "id": "e7db708b",
   "metadata": {},
   "outputs": [],
   "source": [
    "X1= np.reshape(X, (X.shape[0],X.shape[1],1))\n",
    "y1= np.reshape(y, (y.shape[0], y.shape[1]))\n",
    "X2= np.reshape(X_test, (X_test.shape[0], X_test.shape[1], 1))\n",
    "y2= np.reshape(y_test, (y_test.shape[0], y_test.shape[1]))"
   ]
  },
  {
   "cell_type": "code",
   "execution_count": 5,
   "id": "3b37af2d",
   "metadata": {},
   "outputs": [
    {
     "name": "stdout",
     "output_type": "stream",
     "text": [
      "Model: \"sequential\"\n",
      "_________________________________________________________________\n",
      "Layer (type)                 Output Shape              Param #   \n",
      "=================================================================\n",
      "gru (GRU)                    (None, 24)                1944      \n",
      "_________________________________________________________________\n",
      "dense (Dense)                (None, 8)                 200       \n",
      "=================================================================\n",
      "Total params: 2,144\n",
      "Trainable params: 2,144\n",
      "Non-trainable params: 0\n",
      "_________________________________________________________________\n"
     ]
    }
   ],
   "source": [
    "model = Sequential()\n",
    "model.add(GRU(units=24, input_shape=(8,1), activation=\"tanh\"))\n",
    "model.add(Dense(8, activation=\"sigmoid\")) \n",
    "model.compile(loss='mse', optimizer='adam', metrics=['accuracy'])\n",
    "model.summary()"
   ]
  },
  {
   "cell_type": "code",
   "execution_count": 6,
   "id": "b93e8fe3",
   "metadata": {},
   "outputs": [
    {
     "name": "stdout",
     "output_type": "stream",
     "text": [
      "Epoch 1/100\n",
      "13/13 [==============================] - 2s 4ms/step - loss: 0.2478 - accuracy: 0.0338\n",
      "Epoch 2/100\n",
      "13/13 [==============================] - 0s 4ms/step - loss: 0.2386 - accuracy: 0.0950\n",
      "Epoch 3/100\n",
      "13/13 [==============================] - 0s 4ms/step - loss: 0.2262 - accuracy: 0.0850\n",
      "Epoch 4/100\n",
      "13/13 [==============================] - 0s 4ms/step - loss: 0.2072 - accuracy: 0.0150\n",
      "Epoch 5/100\n",
      "13/13 [==============================] - 0s 5ms/step - loss: 0.1837 - accuracy: 0.0000e+00\n",
      "Epoch 6/100\n",
      "13/13 [==============================] - 0s 6ms/step - loss: 0.1747 - accuracy: 0.0000e+00\n",
      "Epoch 7/100\n",
      "13/13 [==============================] - 0s 5ms/step - loss: 0.1716 - accuracy: 0.1425\n",
      "Epoch 8/100\n",
      "13/13 [==============================] - 0s 4ms/step - loss: 0.1699 - accuracy: 0.2562\n",
      "Epoch 9/100\n",
      "13/13 [==============================] - 0s 4ms/step - loss: 0.1686 - accuracy: 0.2438\n",
      "Epoch 10/100\n",
      "13/13 [==============================] - 0s 4ms/step - loss: 0.1672 - accuracy: 0.2237\n",
      "Epoch 11/100\n",
      "13/13 [==============================] - 0s 4ms/step - loss: 0.1658 - accuracy: 0.2163\n",
      "Epoch 12/100\n",
      "13/13 [==============================] - 0s 4ms/step - loss: 0.1641 - accuracy: 0.2050\n",
      "Epoch 13/100\n",
      "13/13 [==============================] - 0s 4ms/step - loss: 0.1623 - accuracy: 0.1800\n",
      "Epoch 14/100\n",
      "13/13 [==============================] - 0s 5ms/step - loss: 0.1604 - accuracy: 0.1762\n",
      "Epoch 15/100\n",
      "13/13 [==============================] - 0s 6ms/step - loss: 0.1585 - accuracy: 0.1688\n",
      "Epoch 16/100\n",
      "13/13 [==============================] - 0s 5ms/step - loss: 0.1566 - accuracy: 0.1375\n",
      "Epoch 17/100\n",
      "13/13 [==============================] - 0s 4ms/step - loss: 0.1548 - accuracy: 0.0988\n",
      "Epoch 18/100\n",
      "13/13 [==============================] - 0s 4ms/step - loss: 0.1530 - accuracy: 0.0725\n",
      "Epoch 19/100\n",
      "13/13 [==============================] - 0s 5ms/step - loss: 0.1513 - accuracy: 0.0913\n",
      "Epoch 20/100\n",
      "13/13 [==============================] - 0s 4ms/step - loss: 0.1500 - accuracy: 0.1100\n",
      "Epoch 21/100\n",
      "13/13 [==============================] - 0s 5ms/step - loss: 0.1485 - accuracy: 0.0875\n",
      "Epoch 22/100\n",
      "13/13 [==============================] - 0s 4ms/step - loss: 0.1473 - accuracy: 0.0637\n",
      "Epoch 23/100\n",
      "13/13 [==============================] - 0s 5ms/step - loss: 0.1461 - accuracy: 0.0712: 0s - loss: 0.1467 - accuracy: 0.06\n",
      "Epoch 24/100\n",
      "13/13 [==============================] - 0s 4ms/step - loss: 0.1448 - accuracy: 0.0850\n",
      "Epoch 25/100\n",
      "13/13 [==============================] - 0s 5ms/step - loss: 0.1434 - accuracy: 0.0938\n",
      "Epoch 26/100\n",
      "13/13 [==============================] - 0s 4ms/step - loss: 0.1417 - accuracy: 0.0988\n",
      "Epoch 27/100\n",
      "13/13 [==============================] - 0s 4ms/step - loss: 0.1394 - accuracy: 0.0962\n",
      "Epoch 28/100\n",
      "13/13 [==============================] - 0s 5ms/step - loss: 0.1362 - accuracy: 0.1088\n",
      "Epoch 29/100\n",
      "13/13 [==============================] - 0s 6ms/step - loss: 0.1320 - accuracy: 0.1138\n",
      "Epoch 30/100\n",
      "13/13 [==============================] - 0s 4ms/step - loss: 0.1263 - accuracy: 0.1163\n",
      "Epoch 31/100\n",
      "13/13 [==============================] - 0s 4ms/step - loss: 0.1203 - accuracy: 0.1375\n",
      "Epoch 32/100\n",
      "13/13 [==============================] - 0s 4ms/step - loss: 0.1149 - accuracy: 0.1675\n",
      "Epoch 33/100\n",
      "13/13 [==============================] - 0s 4ms/step - loss: 0.1100 - accuracy: 0.2138\n",
      "Epoch 34/100\n",
      "13/13 [==============================] - 0s 4ms/step - loss: 0.1060 - accuracy: 0.2725\n",
      "Epoch 35/100\n",
      "13/13 [==============================] - 0s 4ms/step - loss: 0.1026 - accuracy: 0.3375\n",
      "Epoch 36/100\n",
      "13/13 [==============================] - 0s 4ms/step - loss: 0.0995 - accuracy: 0.3675\n",
      "Epoch 37/100\n",
      "13/13 [==============================] - 0s 4ms/step - loss: 0.0971 - accuracy: 0.3438\n",
      "Epoch 38/100\n",
      "13/13 [==============================] - 0s 4ms/step - loss: 0.0950 - accuracy: 0.3688\n",
      "Epoch 39/100\n",
      "13/13 [==============================] - 0s 4ms/step - loss: 0.0930 - accuracy: 0.3900\n",
      "Epoch 40/100\n",
      "13/13 [==============================] - 0s 4ms/step - loss: 0.0909 - accuracy: 0.3825\n",
      "Epoch 41/100\n",
      "13/13 [==============================] - 0s 4ms/step - loss: 0.0891 - accuracy: 0.3900\n",
      "Epoch 42/100\n",
      "13/13 [==============================] - 0s 4ms/step - loss: 0.0876 - accuracy: 0.4212\n",
      "Epoch 43/100\n",
      "13/13 [==============================] - 0s 5ms/step - loss: 0.0857 - accuracy: 0.4475\n",
      "Epoch 44/100\n",
      "13/13 [==============================] - 0s 4ms/step - loss: 0.0844 - accuracy: 0.4600\n",
      "Epoch 45/100\n",
      "13/13 [==============================] - 0s 5ms/step - loss: 0.0830 - accuracy: 0.4600\n",
      "Epoch 46/100\n",
      "13/13 [==============================] - 0s 4ms/step - loss: 0.0816 - accuracy: 0.4775\n",
      "Epoch 47/100\n",
      "13/13 [==============================] - 0s 4ms/step - loss: 0.0800 - accuracy: 0.4925\n",
      "Epoch 48/100\n",
      "13/13 [==============================] - 0s 4ms/step - loss: 0.0789 - accuracy: 0.4725\n",
      "Epoch 49/100\n",
      "13/13 [==============================] - 0s 4ms/step - loss: 0.0777 - accuracy: 0.4900\n",
      "Epoch 50/100\n",
      "13/13 [==============================] - 0s 4ms/step - loss: 0.0760 - accuracy: 0.4925\n",
      "Epoch 51/100\n",
      "13/13 [==============================] - 0s 4ms/step - loss: 0.0750 - accuracy: 0.4875\n",
      "Epoch 52/100\n",
      "13/13 [==============================] - 0s 4ms/step - loss: 0.0738 - accuracy: 0.4850\n",
      "Epoch 53/100\n",
      "13/13 [==============================] - 0s 5ms/step - loss: 0.0725 - accuracy: 0.4675\n",
      "Epoch 54/100\n",
      "13/13 [==============================] - 0s 5ms/step - loss: 0.0711 - accuracy: 0.4588\n",
      "Epoch 55/100\n",
      "13/13 [==============================] - 0s 5ms/step - loss: 0.0698 - accuracy: 0.4625\n",
      "Epoch 56/100\n",
      "13/13 [==============================] - 0s 4ms/step - loss: 0.0690 - accuracy: 0.4613\n",
      "Epoch 57/100\n",
      "13/13 [==============================] - 0s 4ms/step - loss: 0.0678 - accuracy: 0.4750\n",
      "Epoch 58/100\n",
      "13/13 [==============================] - 0s 4ms/step - loss: 0.0670 - accuracy: 0.4575\n",
      "Epoch 59/100\n",
      "13/13 [==============================] - 0s 4ms/step - loss: 0.0655 - accuracy: 0.4475\n",
      "Epoch 60/100\n",
      "13/13 [==============================] - 0s 4ms/step - loss: 0.0644 - accuracy: 0.4487\n",
      "Epoch 61/100\n",
      "13/13 [==============================] - 0s 4ms/step - loss: 0.0633 - accuracy: 0.4462\n",
      "Epoch 62/100\n",
      "13/13 [==============================] - 0s 5ms/step - loss: 0.0620 - accuracy: 0.4363\n",
      "Epoch 63/100\n",
      "13/13 [==============================] - 0s 5ms/step - loss: 0.0614 - accuracy: 0.4263\n",
      "Epoch 64/100\n",
      "13/13 [==============================] - 0s 5ms/step - loss: 0.0607 - accuracy: 0.4238\n",
      "Epoch 65/100\n",
      "13/13 [==============================] - 0s 5ms/step - loss: 0.0594 - accuracy: 0.4200\n",
      "Epoch 66/100\n",
      "13/13 [==============================] - 0s 4ms/step - loss: 0.0588 - accuracy: 0.4100\n",
      "Epoch 67/100\n",
      "13/13 [==============================] - 0s 4ms/step - loss: 0.0580 - accuracy: 0.4050\n",
      "Epoch 68/100\n",
      "13/13 [==============================] - 0s 4ms/step - loss: 0.0582 - accuracy: 0.3975\n",
      "Epoch 69/100\n",
      "13/13 [==============================] - 0s 4ms/step - loss: 0.0570 - accuracy: 0.3900\n",
      "Epoch 70/100\n",
      "13/13 [==============================] - 0s 4ms/step - loss: 0.0559 - accuracy: 0.3862\n",
      "Epoch 71/100\n",
      "13/13 [==============================] - 0s 4ms/step - loss: 0.0552 - accuracy: 0.3887\n",
      "Epoch 72/100\n",
      "13/13 [==============================] - 0s 4ms/step - loss: 0.0548 - accuracy: 0.3825\n",
      "Epoch 73/100\n",
      "13/13 [==============================] - 0s 4ms/step - loss: 0.0540 - accuracy: 0.3825\n",
      "Epoch 74/100\n",
      "13/13 [==============================] - 0s 4ms/step - loss: 0.0533 - accuracy: 0.3837\n",
      "Epoch 75/100\n",
      "13/13 [==============================] - 0s 4ms/step - loss: 0.0531 - accuracy: 0.3663\n",
      "Epoch 76/100\n",
      "13/13 [==============================] - 0s 5ms/step - loss: 0.0525 - accuracy: 0.3562\n",
      "Epoch 77/100\n",
      "13/13 [==============================] - 0s 5ms/step - loss: 0.0519 - accuracy: 0.3575\n",
      "Epoch 78/100\n",
      "13/13 [==============================] - 0s 4ms/step - loss: 0.0513 - accuracy: 0.3638\n",
      "Epoch 79/100\n",
      "13/13 [==============================] - 0s 4ms/step - loss: 0.0509 - accuracy: 0.3663\n",
      "Epoch 80/100\n",
      "13/13 [==============================] - 0s 4ms/step - loss: 0.0503 - accuracy: 0.3650\n",
      "Epoch 81/100\n",
      "13/13 [==============================] - 0s 4ms/step - loss: 0.0501 - accuracy: 0.3587\n",
      "Epoch 82/100\n"
     ]
    },
    {
     "name": "stdout",
     "output_type": "stream",
     "text": [
      "13/13 [==============================] - 0s 4ms/step - loss: 0.0500 - accuracy: 0.3525\n",
      "Epoch 83/100\n",
      "13/13 [==============================] - 0s 4ms/step - loss: 0.0491 - accuracy: 0.3575\n",
      "Epoch 84/100\n",
      "13/13 [==============================] - 0s 4ms/step - loss: 0.0488 - accuracy: 0.3587\n",
      "Epoch 85/100\n",
      "13/13 [==============================] - 0s 4ms/step - loss: 0.0489 - accuracy: 0.3537\n",
      "Epoch 86/100\n",
      "13/13 [==============================] - 0s 4ms/step - loss: 0.0484 - accuracy: 0.3562\n",
      "Epoch 87/100\n",
      "13/13 [==============================] - 0s 4ms/step - loss: 0.0476 - accuracy: 0.3500\n",
      "Epoch 88/100\n",
      "13/13 [==============================] - 0s 4ms/step - loss: 0.0470 - accuracy: 0.3537\n",
      "Epoch 89/100\n",
      "13/13 [==============================] - 0s 4ms/step - loss: 0.0470 - accuracy: 0.3550\n",
      "Epoch 90/100\n",
      "13/13 [==============================] - 0s 5ms/step - loss: 0.0464 - accuracy: 0.3512\n",
      "Epoch 91/100\n",
      "13/13 [==============================] - 0s 5ms/step - loss: 0.0461 - accuracy: 0.3550\n",
      "Epoch 92/100\n",
      "13/13 [==============================] - 0s 5ms/step - loss: 0.0455 - accuracy: 0.3550\n",
      "Epoch 93/100\n",
      "13/13 [==============================] - 0s 4ms/step - loss: 0.0457 - accuracy: 0.3550\n",
      "Epoch 94/100\n",
      "13/13 [==============================] - 0s 4ms/step - loss: 0.0453 - accuracy: 0.3587\n",
      "Epoch 95/100\n",
      "13/13 [==============================] - 0s 4ms/step - loss: 0.0455 - accuracy: 0.3600\n",
      "Epoch 96/100\n",
      "13/13 [==============================] - 0s 4ms/step - loss: 0.0442 - accuracy: 0.3475\n",
      "Epoch 97/100\n",
      "13/13 [==============================] - 0s 4ms/step - loss: 0.0440 - accuracy: 0.3525\n",
      "Epoch 98/100\n",
      "13/13 [==============================] - 0s 4ms/step - loss: 0.0437 - accuracy: 0.3537\n",
      "Epoch 99/100\n",
      "13/13 [==============================] - 0s 4ms/step - loss: 0.0433 - accuracy: 0.3550\n",
      "Epoch 100/100\n",
      "13/13 [==============================] - 0s 4ms/step - loss: 0.0430 - accuracy: 0.3537\n"
     ]
    },
    {
     "data": {
      "text/plain": [
       "<keras.callbacks.History at 0x2b0dbf9cd30>"
      ]
     },
     "execution_count": 6,
     "metadata": {},
     "output_type": "execute_result"
    }
   ],
   "source": [
    "model.fit(X1, y1, epochs = 100,batch_size=64)"
   ]
  },
  {
   "cell_type": "code",
   "execution_count": 32,
   "id": "64281f54",
   "metadata": {},
   "outputs": [],
   "source": [
    "accuracy = 0\n",
    "for i in range(X1.shape[0]):\n",
    "    output = model.predict(X1[i:i+1,:,:]).reshape(-1)\n",
    "    condition = True\n",
    "    for j in range(len(output)):\n",
    "        output[j] = round(output[j])\n",
    "    for j in range(len(output)):\n",
    "        if(output[j]!=y1[i,j]):\n",
    "            condition = False\n",
    "            break\n",
    "    if condition:\n",
    "        accuracy += 1\n",
    "accuracy = accuracy / X1.shape[0] * 100"
   ]
  },
  {
   "cell_type": "code",
   "execution_count": 33,
   "id": "9ebb5b22",
   "metadata": {},
   "outputs": [
    {
     "data": {
      "text/plain": [
       "83.5"
      ]
     },
     "execution_count": 33,
     "metadata": {},
     "output_type": "execute_result"
    }
   ],
   "source": [
    "accuracy"
   ]
  },
  {
   "cell_type": "code",
   "execution_count": 34,
   "id": "0d75abe5",
   "metadata": {},
   "outputs": [],
   "source": [
    "accuracy_test = 0\n",
    "for i in range(X2.shape[0]):\n",
    "    output = model.predict(X2[i:i+1,:,:]).reshape(-1)\n",
    "    condition = True\n",
    "    for j in range(len(output)):\n",
    "        output[j] = round(output[j])\n",
    "    for j in range(len(output)):\n",
    "        if(output[j]!=y2[i,j]):\n",
    "            condition = False\n",
    "            break\n",
    "    if condition:\n",
    "        accuracy_test += 1\n",
    "accuracy_test = accuracy_test / X2.shape[0] * 100"
   ]
  },
  {
   "cell_type": "code",
   "execution_count": 35,
   "id": "9571e353",
   "metadata": {},
   "outputs": [
    {
     "data": {
      "text/plain": [
       "83.5"
      ]
     },
     "execution_count": 35,
     "metadata": {},
     "output_type": "execute_result"
    }
   ],
   "source": [
    "accuracy_test"
   ]
  },
  {
   "cell_type": "code",
   "execution_count": 36,
   "id": "2d6860c0",
   "metadata": {},
   "outputs": [],
   "source": [
    "units=24\n",
    "W = model.get_weights()[0]\n",
    "U = model.get_weights()[1]\n",
    "b = model.get_weights()[2]\n",
    "wy = model.get_weights()[3].T\n",
    "by = model.get_weights()[4]\n",
    "\n",
    "wz = W[:, :units]\n",
    "wr = W[:, units: units * 2]\n",
    "wh = W[:, units * 2: units * 3]\n",
    "\n",
    "uz = U[:, :units]\n",
    "ur = U[:, units: units * 2]\n",
    "uh = U[:, units * 2: units * 3]\n",
    "\n",
    "bwz = b[0:1,:units]\n",
    "bwr = b[0:1,units: units * 2]\n",
    "bwh = b[0:1,units * 2: units * 3]\n",
    "buz = b[1:2,:units]\n",
    "bur = b[1:2,units: units * 2]\n",
    "buh = b[1:2,units * 2: units * 3]"
   ]
  },
  {
   "cell_type": "code",
   "execution_count": 37,
   "id": "32b171c4",
   "metadata": {},
   "outputs": [
    {
     "data": {
      "text/plain": [
       "(8,)"
      ]
     },
     "execution_count": 37,
     "metadata": {},
     "output_type": "execute_result"
    }
   ],
   "source": [
    "by.shape"
   ]
  },
  {
   "cell_type": "code",
   "execution_count": 38,
   "id": "a4ee5230",
   "metadata": {},
   "outputs": [
    {
     "data": {
      "text/plain": [
       "array([[-0.55716854, -0.2407887 , -0.3579678 , -0.53846663, -0.11937902,\n",
       "        -0.47072354, -0.25911075, -0.401315  , -0.24627899, -0.21211413,\n",
       "        -0.6278655 , -0.7319144 , -0.25333947, -0.34698862, -0.6329625 ,\n",
       "        -0.32239702, -0.17472805, -0.43110535, -0.1683506 , -0.2729127 ,\n",
       "        -0.46602765, -0.45709682, -0.51483744, -0.359297  ]],\n",
       "      dtype=float32)"
      ]
     },
     "execution_count": 38,
     "metadata": {},
     "output_type": "execute_result"
    }
   ],
   "source": [
    "bwz"
   ]
  },
  {
   "cell_type": "code",
   "execution_count": 39,
   "id": "3247b4f5",
   "metadata": {},
   "outputs": [
    {
     "data": {
      "text/plain": [
       "array([[-0.55716854, -0.2407887 , -0.3579678 , -0.53846663, -0.11937902,\n",
       "        -0.47072354, -0.25911075, -0.401315  , -0.24627899, -0.21211413,\n",
       "        -0.6278655 , -0.7319144 , -0.25333947, -0.34698862, -0.6329625 ,\n",
       "        -0.32239702, -0.17472805, -0.43110535, -0.1683506 , -0.2729127 ,\n",
       "        -0.46602765, -0.45709682, -0.51483744, -0.359297  ]],\n",
       "      dtype=float32)"
      ]
     },
     "execution_count": 39,
     "metadata": {},
     "output_type": "execute_result"
    }
   ],
   "source": [
    "buz"
   ]
  },
  {
   "cell_type": "code",
   "execution_count": 40,
   "id": "7a413b7f",
   "metadata": {},
   "outputs": [
    {
     "data": {
      "text/plain": [
       "array([[-0.2917159 ,  0.04154516,  0.21379757,  0.19915025,  0.04538475,\n",
       "        -0.01674505, -0.01115116, -0.03157538,  0.05537773,  0.01483545,\n",
       "         0.03800354,  0.28794423, -0.00620494, -0.11556424,  0.21294677,\n",
       "        -0.12830324,  0.06937282,  0.04032767,  0.01789289, -0.10929766,\n",
       "        -0.16684502,  0.12641086,  0.13663368, -0.19650055]],\n",
       "      dtype=float32)"
      ]
     },
     "execution_count": 40,
     "metadata": {},
     "output_type": "execute_result"
    }
   ],
   "source": [
    "bwh"
   ]
  },
  {
   "cell_type": "code",
   "execution_count": 41,
   "id": "e586af1d",
   "metadata": {},
   "outputs": [
    {
     "data": {
      "text/plain": [
       "array([[-0.29842037,  0.04745157,  0.19814669,  0.20271772,  0.0144861 ,\n",
       "        -0.00300429,  0.02941675, -0.08641607,  0.07803257,  0.1795018 ,\n",
       "         0.05194721,  0.25725475, -0.00133649, -0.14373925,  0.24306545,\n",
       "        -0.21047455,  0.08404038,  0.03198704, -0.01868124, -0.12438022,\n",
       "        -0.1553798 ,  0.12901877,  0.09042829, -0.22344041]],\n",
       "      dtype=float32)"
      ]
     },
     "execution_count": 41,
     "metadata": {},
     "output_type": "execute_result"
    }
   ],
   "source": [
    "buh"
   ]
  },
  {
   "cell_type": "code",
   "execution_count": 42,
   "id": "acb544a9",
   "metadata": {},
   "outputs": [
    {
     "data": {
      "text/plain": [
       "(1, 24)"
      ]
     },
     "execution_count": 42,
     "metadata": {},
     "output_type": "execute_result"
    }
   ],
   "source": [
    "wz.shape"
   ]
  },
  {
   "cell_type": "code",
   "execution_count": 43,
   "id": "5b262c8f",
   "metadata": {},
   "outputs": [
    {
     "data": {
      "text/plain": [
       "(1, 24)"
      ]
     },
     "execution_count": 43,
     "metadata": {},
     "output_type": "execute_result"
    }
   ],
   "source": [
    "wr.shape"
   ]
  },
  {
   "cell_type": "code",
   "execution_count": 44,
   "id": "b6fa0725",
   "metadata": {},
   "outputs": [
    {
     "data": {
      "text/plain": [
       "(1, 24)"
      ]
     },
     "execution_count": 44,
     "metadata": {},
     "output_type": "execute_result"
    }
   ],
   "source": [
    "wh.shape"
   ]
  },
  {
   "cell_type": "code",
   "execution_count": 45,
   "id": "986cd97a",
   "metadata": {},
   "outputs": [
    {
     "data": {
      "text/plain": [
       "(8, 24)"
      ]
     },
     "execution_count": 45,
     "metadata": {},
     "output_type": "execute_result"
    }
   ],
   "source": [
    "wy.shape"
   ]
  },
  {
   "cell_type": "code",
   "execution_count": 46,
   "id": "cdc1e3cd",
   "metadata": {},
   "outputs": [
    {
     "data": {
      "text/plain": [
       "(24, 24)"
      ]
     },
     "execution_count": 46,
     "metadata": {},
     "output_type": "execute_result"
    }
   ],
   "source": [
    "uz.shape"
   ]
  },
  {
   "cell_type": "code",
   "execution_count": 47,
   "id": "b502dd47",
   "metadata": {},
   "outputs": [
    {
     "data": {
      "text/plain": [
       "(24, 24)"
      ]
     },
     "execution_count": 47,
     "metadata": {},
     "output_type": "execute_result"
    }
   ],
   "source": [
    "ur.shape"
   ]
  },
  {
   "cell_type": "code",
   "execution_count": 48,
   "id": "2c002ffd",
   "metadata": {},
   "outputs": [
    {
     "data": {
      "text/plain": [
       "(24, 24)"
      ]
     },
     "execution_count": 48,
     "metadata": {},
     "output_type": "execute_result"
    }
   ],
   "source": [
    "uh.shape"
   ]
  },
  {
   "cell_type": "code",
   "execution_count": 49,
   "id": "6e608df4",
   "metadata": {},
   "outputs": [],
   "source": [
    "x=X1[0]"
   ]
  },
  {
   "cell_type": "code",
   "execution_count": 50,
   "id": "e4db9c3a",
   "metadata": {},
   "outputs": [
    {
     "data": {
      "text/plain": [
       "(8, 1)"
      ]
     },
     "execution_count": 50,
     "metadata": {},
     "output_type": "execute_result"
    }
   ],
   "source": [
    "x.shape"
   ]
  },
  {
   "cell_type": "code",
   "execution_count": 51,
   "id": "78f24e5a",
   "metadata": {},
   "outputs": [],
   "source": [
    "xt=x[0].reshape(-1,1)"
   ]
  },
  {
   "cell_type": "code",
   "execution_count": 52,
   "id": "17c1f5dd",
   "metadata": {},
   "outputs": [
    {
     "data": {
      "text/plain": [
       "(1, 1)"
      ]
     },
     "execution_count": 52,
     "metadata": {},
     "output_type": "execute_result"
    }
   ],
   "source": [
    "xt.shape"
   ]
  },
  {
   "cell_type": "code",
   "execution_count": 53,
   "id": "ab784954",
   "metadata": {},
   "outputs": [],
   "source": [
    "from rnn_utils import *"
   ]
  },
  {
   "cell_type": "code",
   "execution_count": 54,
   "id": "b7e120ac",
   "metadata": {},
   "outputs": [],
   "source": [
    "h0 = np.zeros((24,1))"
   ]
  },
  {
   "cell_type": "code",
   "execution_count": 61,
   "id": "5ac2de0b",
   "metadata": {},
   "outputs": [],
   "source": [
    "h_next = h0\n",
    "for i in range(8):\n",
    "    zt = sigmoid(np.dot(wz.T, x[i].reshape(-1,1)) + bwz.T + np.dot(uz.T, h_next) + buz.T)\n",
    "    rt = sigmoid(np.dot(wr.T, x[i].reshape(-1,1)) + bwr.T + np.dot(ur.T, h_next) + bur.T)\n",
    "    nt = np.tanh(np.dot(wh.T, x[i].reshape(-1,1)) + bwh.T + rt*(np.dot(uh.T, h_next) + buh.T))\n",
    "    h_next = (1-zt)*nt + zt*h_next"
   ]
  },
  {
   "cell_type": "code",
   "execution_count": 62,
   "id": "ce7e68aa",
   "metadata": {},
   "outputs": [
    {
     "data": {
      "text/plain": [
       "(24, 1)"
      ]
     },
     "execution_count": 62,
     "metadata": {},
     "output_type": "execute_result"
    }
   ],
   "source": [
    "h_next.shape"
   ]
  },
  {
   "cell_type": "code",
   "execution_count": 63,
   "id": "6bf07a2e",
   "metadata": {},
   "outputs": [],
   "source": [
    "yt_pred = sigmoid(np.dot(wy, h_next) + by.reshape(-1,1))"
   ]
  },
  {
   "cell_type": "code",
   "execution_count": 64,
   "id": "79152f91",
   "metadata": {},
   "outputs": [
    {
     "data": {
      "text/plain": [
       "array([0.12594546, 0.06012547, 0.74261858, 0.0226774 , 0.14860165,\n",
       "       0.01659037, 0.0514808 , 0.71784677])"
      ]
     },
     "execution_count": 64,
     "metadata": {},
     "output_type": "execute_result"
    }
   ],
   "source": [
    "yt_pred.reshape(-1)"
   ]
  },
  {
   "cell_type": "code",
   "execution_count": 65,
   "id": "76011934",
   "metadata": {},
   "outputs": [
    {
     "data": {
      "text/plain": [
       "array([[0.12594551, 0.06012547, 0.7426185 , 0.02267742, 0.14860168,\n",
       "        0.01659039, 0.05148077, 0.71784663]], dtype=float32)"
      ]
     },
     "execution_count": 65,
     "metadata": {},
     "output_type": "execute_result"
    }
   ],
   "source": [
    "model.predict(X1[0:1,:,:])"
   ]
  },
  {
   "cell_type": "code",
   "execution_count": 66,
   "id": "c5e65da6",
   "metadata": {},
   "outputs": [
    {
     "data": {
      "text/plain": [
       "array([1, 0, 0, 0, 1, 0, 0, 0], dtype=int64)"
      ]
     },
     "execution_count": 66,
     "metadata": {},
     "output_type": "execute_result"
    }
   ],
   "source": [
    "y1[i]"
   ]
  },
  {
   "cell_type": "code",
   "execution_count": null,
   "id": "9583b419",
   "metadata": {},
   "outputs": [],
   "source": []
  }
 ],
 "metadata": {
  "kernelspec": {
   "display_name": "Python 3 (ipykernel)",
   "language": "python",
   "name": "python3"
  },
  "language_info": {
   "codemirror_mode": {
    "name": "ipython",
    "version": 3
   },
   "file_extension": ".py",
   "mimetype": "text/x-python",
   "name": "python",
   "nbconvert_exporter": "python",
   "pygments_lexer": "ipython3",
   "version": "3.8.10"
  }
 },
 "nbformat": 4,
 "nbformat_minor": 5
}
