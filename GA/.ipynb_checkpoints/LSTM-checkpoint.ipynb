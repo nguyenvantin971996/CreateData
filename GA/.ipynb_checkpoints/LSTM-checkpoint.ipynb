{
 "cells": [
  {
   "cell_type": "code",
   "execution_count": 24,
   "id": "13f76c9b",
   "metadata": {},
   "outputs": [],
   "source": [
    "import tensorflow as tf\n",
    "import pandas as pd\n",
    "import numpy as np\n",
    "import matplotlib.pyplot as plt\n",
    "from keras.models import Sequential\n",
    "from keras.layers import Dense, SimpleRNN, LSTM\n",
    "import copy\n",
    "import time\n",
    "from sklearn.preprocessing import StandardScaler\n",
    "import random\n",
    "from rnn_utils import *"
   ]
  },
  {
   "cell_type": "code",
   "execution_count": 2,
   "id": "30325fc2",
   "metadata": {},
   "outputs": [],
   "source": [
    "df = pd.read_csv(\"../Data/data_(8-8).csv\")\n",
    "sc = StandardScaler()"
   ]
  },
  {
   "cell_type": "code",
   "execution_count": 3,
   "id": "be3c0b6e",
   "metadata": {},
   "outputs": [],
   "source": [
    "X = df.iloc[:800, :8].values\n",
    "y = df.iloc[:800, 8:16].values\n",
    "X = sc.fit_transform(X)\n",
    "X_test = df.iloc[800:1000, :8].values\n",
    "y_test = df.iloc[800:1000, 8:16].values\n",
    "X_test = sc.fit_transform(X_test)"
   ]
  },
  {
   "cell_type": "code",
   "execution_count": 4,
   "id": "376a82a3",
   "metadata": {},
   "outputs": [
    {
     "data": {
      "text/plain": [
       "array([ 1.57075724, -0.39398662, -1.20823935,  0.75271354, -1.48352901,\n",
       "        0.36607149,  0.40065595,  0.72516916])"
      ]
     },
     "execution_count": 4,
     "metadata": {},
     "output_type": "execute_result"
    }
   ],
   "source": [
    "X[0,:]"
   ]
  },
  {
   "cell_type": "code",
   "execution_count": 5,
   "id": "481bcaba",
   "metadata": {},
   "outputs": [],
   "source": [
    "X1= np.reshape(X, (X.shape[0], X.shape[1], 1))\n",
    "y1= np.reshape(y, (y.shape[0], y.shape[1]))"
   ]
  },
  {
   "cell_type": "code",
   "execution_count": 6,
   "id": "7111089f",
   "metadata": {},
   "outputs": [],
   "source": [
    "X2= np.reshape(X_test, (X_test.shape[0], X_test.shape[1], 1))\n",
    "y2= np.reshape(y_test, (y_test.shape[0], y_test.shape[1]))"
   ]
  },
  {
   "cell_type": "code",
   "execution_count": 7,
   "id": "58fb6dc7",
   "metadata": {},
   "outputs": [
    {
     "data": {
      "text/plain": [
       "(800, 8, 1)"
      ]
     },
     "execution_count": 7,
     "metadata": {},
     "output_type": "execute_result"
    }
   ],
   "source": [
    "X1.shape"
   ]
  },
  {
   "cell_type": "code",
   "execution_count": 8,
   "id": "82ccb9ec",
   "metadata": {},
   "outputs": [
    {
     "data": {
      "text/plain": [
       "(800, 8)"
      ]
     },
     "execution_count": 8,
     "metadata": {},
     "output_type": "execute_result"
    }
   ],
   "source": [
    "y1.shape"
   ]
  },
  {
   "cell_type": "code",
   "execution_count": 9,
   "id": "157b4d58",
   "metadata": {},
   "outputs": [
    {
     "data": {
      "text/plain": [
       "array([[[ 1.57075724],\n",
       "        [-0.39398662],\n",
       "        [-1.20823935],\n",
       "        [ 0.75271354],\n",
       "        [-1.48352901],\n",
       "        [ 0.36607149],\n",
       "        [ 0.40065595],\n",
       "        [ 0.72516916]]])"
      ]
     },
     "execution_count": 9,
     "metadata": {},
     "output_type": "execute_result"
    }
   ],
   "source": [
    "X1[:1,:,:]"
   ]
  },
  {
   "cell_type": "code",
   "execution_count": 10,
   "id": "a2123c67",
   "metadata": {},
   "outputs": [
    {
     "name": "stdout",
     "output_type": "stream",
     "text": [
      "Model: \"sequential\"\n",
      "_________________________________________________________________\n",
      "Layer (type)                 Output Shape              Param #   \n",
      "=================================================================\n",
      "lstm (LSTM)                  (None, 24)                2496      \n",
      "_________________________________________________________________\n",
      "dense (Dense)                (None, 8)                 200       \n",
      "=================================================================\n",
      "Total params: 2,696\n",
      "Trainable params: 2,696\n",
      "Non-trainable params: 0\n",
      "_________________________________________________________________\n"
     ]
    }
   ],
   "source": [
    "model = Sequential()\n",
    "model.add(LSTM(units=24, input_shape=(8,1), activation=\"relu\"))\n",
    "model.add(Dense(8, activation=\"sigmoid\")) \n",
    "model.compile(loss='binary_crossentropy', optimizer='adam', metrics=['accuracy'])\n",
    "model.summary()"
   ]
  },
  {
   "cell_type": "code",
   "execution_count": 11,
   "id": "9272d009",
   "metadata": {},
   "outputs": [
    {
     "name": "stdout",
     "output_type": "stream",
     "text": [
      "Epoch 1/100\n",
      "13/13 [==============================] - 1s 4ms/step - loss: 0.6815 - accuracy: 0.1775\n",
      "Epoch 2/100\n",
      "13/13 [==============================] - 0s 3ms/step - loss: 0.6659 - accuracy: 0.1675\n",
      "Epoch 3/100\n",
      "13/13 [==============================] - 0s 4ms/step - loss: 0.6455 - accuracy: 0.1363\n",
      "Epoch 4/100\n",
      "13/13 [==============================] - 0s 4ms/step - loss: 0.6098 - accuracy: 0.1250\n",
      "Epoch 5/100\n",
      "13/13 [==============================] - 0s 4ms/step - loss: 0.5542 - accuracy: 0.2113\n",
      "Epoch 6/100\n",
      "13/13 [==============================] - 0s 4ms/step - loss: 0.5347 - accuracy: 0.2825\n",
      "Epoch 7/100\n",
      "13/13 [==============================] - 0s 4ms/step - loss: 0.5190 - accuracy: 0.2775\n",
      "Epoch 8/100\n",
      "13/13 [==============================] - 0s 3ms/step - loss: 0.5123 - accuracy: 0.2562\n",
      "Epoch 9/100\n",
      "13/13 [==============================] - 0s 4ms/step - loss: 0.5091 - accuracy: 0.2763\n",
      "Epoch 10/100\n",
      "13/13 [==============================] - 0s 4ms/step - loss: 0.5055 - accuracy: 0.2512\n",
      "Epoch 11/100\n",
      "13/13 [==============================] - 0s 4ms/step - loss: 0.5026 - accuracy: 0.2438\n",
      "Epoch 12/100\n",
      "13/13 [==============================] - 0s 3ms/step - loss: 0.4996 - accuracy: 0.2400\n",
      "Epoch 13/100\n",
      "13/13 [==============================] - 0s 4ms/step - loss: 0.4965 - accuracy: 0.2450\n",
      "Epoch 14/100\n",
      "13/13 [==============================] - 0s 4ms/step - loss: 0.4928 - accuracy: 0.2587\n",
      "Epoch 15/100\n",
      "13/13 [==============================] - 0s 4ms/step - loss: 0.4899 - accuracy: 0.2262\n",
      "Epoch 16/100\n",
      "13/13 [==============================] - 0s 3ms/step - loss: 0.4855 - accuracy: 0.2275\n",
      "Epoch 17/100\n",
      "13/13 [==============================] - 0s 4ms/step - loss: 0.4807 - accuracy: 0.2400\n",
      "Epoch 18/100\n",
      "13/13 [==============================] - 0s 4ms/step - loss: 0.4762 - accuracy: 0.2463\n",
      "Epoch 19/100\n",
      "13/13 [==============================] - 0s 4ms/step - loss: 0.4711 - accuracy: 0.2425\n",
      "Epoch 20/100\n",
      "13/13 [==============================] - 0s 4ms/step - loss: 0.4670 - accuracy: 0.2700\n",
      "Epoch 21/100\n",
      "13/13 [==============================] - 0s 3ms/step - loss: 0.4621 - accuracy: 0.2212\n",
      "Epoch 22/100\n",
      "13/13 [==============================] - 0s 3ms/step - loss: 0.4589 - accuracy: 0.2225\n",
      "Epoch 23/100\n",
      "13/13 [==============================] - 0s 4ms/step - loss: 0.4549 - accuracy: 0.1963\n",
      "Epoch 24/100\n",
      "13/13 [==============================] - 0s 4ms/step - loss: 0.4526 - accuracy: 0.1825\n",
      "Epoch 25/100\n",
      "13/13 [==============================] - 0s 3ms/step - loss: 0.4493 - accuracy: 0.1612\n",
      "Epoch 26/100\n",
      "13/13 [==============================] - 0s 4ms/step - loss: 0.4474 - accuracy: 0.1587\n",
      "Epoch 27/100\n",
      "13/13 [==============================] - 0s 4ms/step - loss: 0.4442 - accuracy: 0.1538\n",
      "Epoch 28/100\n",
      "13/13 [==============================] - 0s 4ms/step - loss: 0.4440 - accuracy: 0.1338\n",
      "Epoch 29/100\n",
      "13/13 [==============================] - 0s 5ms/step - loss: 0.4422 - accuracy: 0.1200\n",
      "Epoch 30/100\n",
      "13/13 [==============================] - 0s 4ms/step - loss: 0.4401 - accuracy: 0.1300\n",
      "Epoch 31/100\n",
      "13/13 [==============================] - 0s 4ms/step - loss: 0.4372 - accuracy: 0.1112\n",
      "Epoch 32/100\n",
      "13/13 [==============================] - 0s 4ms/step - loss: 0.4345 - accuracy: 0.1312\n",
      "Epoch 33/100\n",
      "13/13 [==============================] - 0s 4ms/step - loss: 0.4318 - accuracy: 0.1013\n",
      "Epoch 34/100\n",
      "13/13 [==============================] - 0s 4ms/step - loss: 0.4276 - accuracy: 0.1150\n",
      "Epoch 35/100\n",
      "13/13 [==============================] - 0s 4ms/step - loss: 0.4224 - accuracy: 0.1088\n",
      "Epoch 36/100\n",
      "13/13 [==============================] - 0s 4ms/step - loss: 0.4159 - accuracy: 0.1100\n",
      "Epoch 37/100\n",
      "13/13 [==============================] - 0s 3ms/step - loss: 0.4047 - accuracy: 0.1175\n",
      "Epoch 38/100\n",
      "13/13 [==============================] - 0s 4ms/step - loss: 0.3918 - accuracy: 0.1163\n",
      "Epoch 39/100\n",
      "13/13 [==============================] - 0s 4ms/step - loss: 0.3686 - accuracy: 0.1475\n",
      "Epoch 40/100\n",
      "13/13 [==============================] - 0s 5ms/step - loss: 0.3503 - accuracy: 0.1312\n",
      "Epoch 41/100\n",
      "13/13 [==============================] - 0s 4ms/step - loss: 0.3350 - accuracy: 0.1762\n",
      "Epoch 42/100\n",
      "13/13 [==============================] - 0s 5ms/step - loss: 0.3253 - accuracy: 0.1650\n",
      "Epoch 43/100\n",
      "13/13 [==============================] - 0s 4ms/step - loss: 0.3219 - accuracy: 0.1825\n",
      "Epoch 44/100\n",
      "13/13 [==============================] - 0s 4ms/step - loss: 0.3096 - accuracy: 0.1587\n",
      "Epoch 45/100\n",
      "13/13 [==============================] - 0s 3ms/step - loss: 0.3020 - accuracy: 0.1800\n",
      "Epoch 46/100\n",
      "13/13 [==============================] - 0s 4ms/step - loss: 0.3000 - accuracy: 0.1937\n",
      "Epoch 47/100\n",
      "13/13 [==============================] - 0s 4ms/step - loss: 0.2934 - accuracy: 0.1875\n",
      "Epoch 48/100\n",
      "13/13 [==============================] - 0s 4ms/step - loss: 0.2901 - accuracy: 0.1887\n",
      "Epoch 49/100\n",
      "13/13 [==============================] - 0s 4ms/step - loss: 0.2865 - accuracy: 0.2325\n",
      "Epoch 50/100\n",
      "13/13 [==============================] - 0s 4ms/step - loss: 0.2864 - accuracy: 0.2062\n",
      "Epoch 51/100\n",
      "13/13 [==============================] - 0s 3ms/step - loss: 0.2815 - accuracy: 0.1850\n",
      "Epoch 52/100\n",
      "13/13 [==============================] - 0s 4ms/step - loss: 0.2755 - accuracy: 0.2350\n",
      "Epoch 53/100\n",
      "13/13 [==============================] - 0s 4ms/step - loss: 0.2729 - accuracy: 0.2313\n",
      "Epoch 54/100\n",
      "13/13 [==============================] - 0s 4ms/step - loss: 0.2694 - accuracy: 0.2325\n",
      "Epoch 55/100\n",
      "13/13 [==============================] - 0s 4ms/step - loss: 0.2709 - accuracy: 0.2600\n",
      "Epoch 56/100\n",
      "13/13 [==============================] - 0s 4ms/step - loss: 0.2680 - accuracy: 0.2275\n",
      "Epoch 57/100\n",
      "13/13 [==============================] - 0s 3ms/step - loss: 0.2774 - accuracy: 0.2463\n",
      "Epoch 58/100\n",
      "13/13 [==============================] - 0s 3ms/step - loss: 0.2645 - accuracy: 0.2250\n",
      "Epoch 59/100\n",
      "13/13 [==============================] - 0s 3ms/step - loss: 0.2590 - accuracy: 0.2225\n",
      "Epoch 60/100\n",
      "13/13 [==============================] - 0s 3ms/step - loss: 0.2557 - accuracy: 0.2625\n",
      "Epoch 61/100\n",
      "13/13 [==============================] - 0s 3ms/step - loss: 0.2556 - accuracy: 0.2200\n",
      "Epoch 62/100\n",
      "13/13 [==============================] - 0s 3ms/step - loss: 0.2527 - accuracy: 0.2612\n",
      "Epoch 63/100\n",
      "13/13 [==============================] - 0s 3ms/step - loss: 0.2464 - accuracy: 0.2412\n",
      "Epoch 64/100\n",
      "13/13 [==============================] - 0s 3ms/step - loss: 0.2452 - accuracy: 0.2800\n",
      "Epoch 65/100\n",
      "13/13 [==============================] - 0s 4ms/step - loss: 0.2395 - accuracy: 0.2675\n",
      "Epoch 66/100\n",
      "13/13 [==============================] - 0s 3ms/step - loss: 0.2382 - accuracy: 0.2663\n",
      "Epoch 67/100\n",
      "13/13 [==============================] - 0s 4ms/step - loss: 0.2340 - accuracy: 0.3075\n",
      "Epoch 68/100\n",
      "13/13 [==============================] - 0s 5ms/step - loss: 0.2278 - accuracy: 0.2962\n",
      "Epoch 69/100\n",
      "13/13 [==============================] - 0s 3ms/step - loss: 0.2303 - accuracy: 0.2750\n",
      "Epoch 70/100\n",
      "13/13 [==============================] - 0s 3ms/step - loss: 0.2281 - accuracy: 0.3025\n",
      "Epoch 71/100\n",
      "13/13 [==============================] - 0s 3ms/step - loss: 0.2180 - accuracy: 0.3125\n",
      "Epoch 72/100\n",
      "13/13 [==============================] - 0s 4ms/step - loss: 0.2163 - accuracy: 0.3063\n",
      "Epoch 73/100\n",
      "13/13 [==============================] - 0s 4ms/step - loss: 0.2095 - accuracy: 0.2962\n",
      "Epoch 74/100\n",
      "13/13 [==============================] - 0s 3ms/step - loss: 0.2086 - accuracy: 0.3250\n",
      "Epoch 75/100\n",
      "13/13 [==============================] - 0s 3ms/step - loss: 0.2028 - accuracy: 0.2663\n",
      "Epoch 76/100\n",
      "13/13 [==============================] - 0s 4ms/step - loss: 0.1918 - accuracy: 0.3237\n",
      "Epoch 77/100\n",
      "13/13 [==============================] - 0s 3ms/step - loss: 0.1903 - accuracy: 0.3113\n",
      "Epoch 78/100\n",
      "13/13 [==============================] - 0s 4ms/step - loss: 0.1816 - accuracy: 0.3150\n",
      "Epoch 79/100\n",
      "13/13 [==============================] - 0s 4ms/step - loss: 0.1753 - accuracy: 0.2862\n",
      "Epoch 80/100\n",
      "13/13 [==============================] - 0s 3ms/step - loss: 0.1737 - accuracy: 0.3388\n",
      "Epoch 81/100\n",
      "13/13 [==============================] - 0s 3ms/step - loss: 0.1821 - accuracy: 0.3475\n",
      "Epoch 82/100\n",
      "13/13 [==============================] - 0s 3ms/step - loss: 0.1808 - accuracy: 0.3275\n",
      "Epoch 83/100\n"
     ]
    },
    {
     "name": "stdout",
     "output_type": "stream",
     "text": [
      "13/13 [==============================] - 0s 4ms/step - loss: 0.1712 - accuracy: 0.3400\n",
      "Epoch 84/100\n",
      "13/13 [==============================] - 0s 3ms/step - loss: 0.1606 - accuracy: 0.3550\n",
      "Epoch 85/100\n",
      "13/13 [==============================] - 0s 3ms/step - loss: 0.1605 - accuracy: 0.3762\n",
      "Epoch 86/100\n",
      "13/13 [==============================] - 0s 4ms/step - loss: 0.1591 - accuracy: 0.3400\n",
      "Epoch 87/100\n",
      "13/13 [==============================] - 0s 4ms/step - loss: 0.1611 - accuracy: 0.3787\n",
      "Epoch 88/100\n",
      "13/13 [==============================] - 0s 4ms/step - loss: 0.1504 - accuracy: 0.3713\n",
      "Epoch 89/100\n",
      "13/13 [==============================] - 0s 3ms/step - loss: 0.1560 - accuracy: 0.3575\n",
      "Epoch 90/100\n",
      "13/13 [==============================] - 0s 3ms/step - loss: 0.1492 - accuracy: 0.3675\n",
      "Epoch 91/100\n",
      "13/13 [==============================] - 0s 3ms/step - loss: 0.1489 - accuracy: 0.4187\n",
      "Epoch 92/100\n",
      "13/13 [==============================] - 0s 3ms/step - loss: 0.1515 - accuracy: 0.3350\n",
      "Epoch 93/100\n",
      "13/13 [==============================] - 0s 3ms/step - loss: 0.1511 - accuracy: 0.4500\n",
      "Epoch 94/100\n",
      "13/13 [==============================] - 0s 3ms/step - loss: 0.1479 - accuracy: 0.3875\n",
      "Epoch 95/100\n",
      "13/13 [==============================] - 0s 4ms/step - loss: 0.1447 - accuracy: 0.4112\n",
      "Epoch 96/100\n",
      "13/13 [==============================] - 0s 4ms/step - loss: 0.1399 - accuracy: 0.4275\n",
      "Epoch 97/100\n",
      "13/13 [==============================] - 0s 4ms/step - loss: 0.1354 - accuracy: 0.4200\n",
      "Epoch 98/100\n",
      "13/13 [==============================] - 0s 3ms/step - loss: 0.1414 - accuracy: 0.4087\n",
      "Epoch 99/100\n",
      "13/13 [==============================] - 0s 3ms/step - loss: 0.1390 - accuracy: 0.3825\n",
      "Epoch 100/100\n",
      "13/13 [==============================] - 0s 3ms/step - loss: 0.1330 - accuracy: 0.4288\n"
     ]
    },
    {
     "data": {
      "text/plain": [
       "<keras.callbacks.History at 0x22f5824d670>"
      ]
     },
     "execution_count": 11,
     "metadata": {},
     "output_type": "execute_result"
    }
   ],
   "source": [
    "model.fit(X1, y1, epochs = 100,batch_size=64)"
   ]
  },
  {
   "cell_type": "code",
   "execution_count": 12,
   "id": "2377d1ce",
   "metadata": {},
   "outputs": [],
   "source": [
    "accuracy = 0\n",
    "for i in range(X1.shape[0]):\n",
    "    output = model.predict(X1[i:i+1,:,:]).reshape(-1)\n",
    "    condition = True\n",
    "    for j in range(len(output)):\n",
    "        output[j] = round(output[j])\n",
    "    for j in range(len(output)):\n",
    "        if(output[j]!=y1[i,j]):\n",
    "            condition = False\n",
    "            break\n",
    "    if condition:\n",
    "        accuracy += 1\n",
    "accuracy = accuracy / X1.shape[0] * 100"
   ]
  },
  {
   "cell_type": "code",
   "execution_count": 13,
   "id": "16864b5a",
   "metadata": {},
   "outputs": [
    {
     "data": {
      "text/plain": [
       "79.125"
      ]
     },
     "execution_count": 13,
     "metadata": {},
     "output_type": "execute_result"
    }
   ],
   "source": [
    "accuracy"
   ]
  },
  {
   "cell_type": "code",
   "execution_count": 14,
   "id": "1016a5f3",
   "metadata": {},
   "outputs": [],
   "source": [
    "accuracy_test = 0\n",
    "for i in range(X2.shape[0]):\n",
    "    output = model.predict(X2[i:i+1,:,:]).reshape(-1)\n",
    "    condition = True\n",
    "    for j in range(len(output)):\n",
    "        output[j] = round(output[j])\n",
    "    for j in range(len(output)):\n",
    "        if(output[j]!=y2[i,j]):\n",
    "            condition = False\n",
    "            break\n",
    "    if condition:\n",
    "        accuracy_test += 1\n",
    "accuracy_test = accuracy_test / X2.shape[0] * 100"
   ]
  },
  {
   "cell_type": "code",
   "execution_count": 15,
   "id": "4898e4a1",
   "metadata": {},
   "outputs": [
    {
     "data": {
      "text/plain": [
       "75.0"
      ]
     },
     "execution_count": 15,
     "metadata": {},
     "output_type": "execute_result"
    }
   ],
   "source": [
    "accuracy_test"
   ]
  },
  {
   "cell_type": "code",
   "execution_count": 16,
   "id": "3ac8aa27",
   "metadata": {},
   "outputs": [
    {
     "name": "stdout",
     "output_type": "stream",
     "text": [
      "(1, 96) (24, 96) (96,) (24, 8) (8,)\n"
     ]
    }
   ],
   "source": [
    "print(model.get_weights()[0].shape,\n",
    "model.get_weights()[1].shape,\n",
    "model.get_weights()[2].shape,\n",
    "model.get_weights()[3].shape,\n",
    "model.get_weights()[4].shape)"
   ]
  }
 ],
 "metadata": {
  "kernelspec": {
   "display_name": "Python 3 (ipykernel)",
   "language": "python",
   "name": "python3"
  },
  "language_info": {
   "codemirror_mode": {
    "name": "ipython",
    "version": 3
   },
   "file_extension": ".py",
   "mimetype": "text/x-python",
   "name": "python",
   "nbconvert_exporter": "python",
   "pygments_lexer": "ipython3",
   "version": "3.8.10"
  }
 },
 "nbformat": 4,
 "nbformat_minor": 5
}
