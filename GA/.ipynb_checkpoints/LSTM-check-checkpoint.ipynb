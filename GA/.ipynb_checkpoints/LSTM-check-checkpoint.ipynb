{
 "cells": [
  {
   "cell_type": "code",
   "execution_count": 1,
   "id": "a04769b0",
   "metadata": {},
   "outputs": [],
   "source": [
    "import tensorflow as tf\n",
    "import pandas as pd\n",
    "import numpy as np\n",
    "import matplotlib.pyplot as plt\n",
    "from keras.models import Sequential\n",
    "from keras.layers import Dense, LSTM\n",
    "import copy\n",
    "import time\n",
    "from sklearn.preprocessing import StandardScaler\n",
    "import random"
   ]
  },
  {
   "cell_type": "code",
   "execution_count": 2,
   "id": "99f01815",
   "metadata": {},
   "outputs": [],
   "source": [
    "df = pd.read_csv(\"../Data/data_(8-8).csv\")\n",
    "sc = StandardScaler()"
   ]
  },
  {
   "cell_type": "code",
   "execution_count": 3,
   "id": "4788fc37",
   "metadata": {},
   "outputs": [],
   "source": [
    "X = df.iloc[:800, :8].values\n",
    "y = df.iloc[:800, 8:16].values\n",
    "X = sc.fit_transform(X)\n",
    "X_test = df.iloc[800:1000, :8].values\n",
    "y_test = df.iloc[800:1000, 8:16].values\n",
    "X_test = sc.fit_transform(X_test)"
   ]
  },
  {
   "cell_type": "code",
   "execution_count": 36,
   "id": "e7db708b",
   "metadata": {},
   "outputs": [],
   "source": [
    "X1= np.reshape(X, (X.shape[0],2, int(X.shape[1]/2)))\n",
    "y1= np.reshape(y, (y.shape[0], y.shape[1]))\n",
    "X2= np.reshape(X_test, (X_test.shape[0], X_test.shape[1], 1))\n",
    "y2= np.reshape(y_test, (y_test.shape[0], y_test.shape[1]))"
   ]
  },
  {
   "cell_type": "code",
   "execution_count": 39,
   "id": "3b37af2d",
   "metadata": {},
   "outputs": [
    {
     "name": "stdout",
     "output_type": "stream",
     "text": [
      "Model: \"sequential_2\"\n",
      "_________________________________________________________________\n",
      "Layer (type)                 Output Shape              Param #   \n",
      "=================================================================\n",
      "lstm_2 (LSTM)                (None, 24)                2784      \n",
      "_________________________________________________________________\n",
      "dense_2 (Dense)              (None, 8)                 200       \n",
      "=================================================================\n",
      "Total params: 2,984\n",
      "Trainable params: 2,984\n",
      "Non-trainable params: 0\n",
      "_________________________________________________________________\n"
     ]
    }
   ],
   "source": [
    "model = Sequential()\n",
    "model.add(LSTM(units=24, input_shape=(2,4), activation=\"tanh\"))\n",
    "model.add(Dense(8, activation=\"sigmoid\")) \n",
    "model.compile(loss='mse', optimizer='adam', metrics=['accuracy'])\n",
    "model.summary()"
   ]
  },
  {
   "cell_type": "code",
   "execution_count": 40,
   "id": "b93e8fe3",
   "metadata": {},
   "outputs": [
    {
     "name": "stdout",
     "output_type": "stream",
     "text": [
      "Epoch 1/100\n",
      "13/13 [==============================] - 1s 3ms/step - loss: 0.2452 - accuracy: 0.1875\n",
      "Epoch 2/100\n",
      "13/13 [==============================] - 0s 2ms/step - loss: 0.2389 - accuracy: 0.2962\n",
      "Epoch 3/100\n",
      "13/13 [==============================] - 0s 2ms/step - loss: 0.2325 - accuracy: 0.3887\n",
      "Epoch 4/100\n",
      "13/13 [==============================] - 0s 2ms/step - loss: 0.2256 - accuracy: 0.4150\n",
      "Epoch 5/100\n",
      "13/13 [==============================] - 0s 2ms/step - loss: 0.2180 - accuracy: 0.4200\n",
      "Epoch 6/100\n",
      "13/13 [==============================] - 0s 2ms/step - loss: 0.2095 - accuracy: 0.4200\n",
      "Epoch 7/100\n",
      "13/13 [==============================] - 0s 2ms/step - loss: 0.2001 - accuracy: 0.4112\n",
      "Epoch 8/100\n",
      "13/13 [==============================] - 0s 2ms/step - loss: 0.1897 - accuracy: 0.4100\n",
      "Epoch 9/100\n",
      "13/13 [==============================] - 0s 2ms/step - loss: 0.1786 - accuracy: 0.4112\n",
      "Epoch 10/100\n",
      "13/13 [==============================] - 0s 2ms/step - loss: 0.1673 - accuracy: 0.4162\n",
      "Epoch 11/100\n",
      "13/13 [==============================] - 0s 2ms/step - loss: 0.1566 - accuracy: 0.4238\n",
      "Epoch 12/100\n",
      "13/13 [==============================] - 0s 2ms/step - loss: 0.1465 - accuracy: 0.4288\n",
      "Epoch 13/100\n",
      "13/13 [==============================] - 0s 2ms/step - loss: 0.1378 - accuracy: 0.4375\n",
      "Epoch 14/100\n",
      "13/13 [==============================] - 0s 2ms/step - loss: 0.1301 - accuracy: 0.4512\n",
      "Epoch 15/100\n",
      "13/13 [==============================] - 0s 2ms/step - loss: 0.1235 - accuracy: 0.4625\n",
      "Epoch 16/100\n",
      "13/13 [==============================] - 0s 2ms/step - loss: 0.1174 - accuracy: 0.4700\n",
      "Epoch 17/100\n",
      "13/13 [==============================] - 0s 2ms/step - loss: 0.1118 - accuracy: 0.4900\n",
      "Epoch 18/100\n",
      "13/13 [==============================] - 0s 2ms/step - loss: 0.1067 - accuracy: 0.5025\n",
      "Epoch 19/100\n",
      "13/13 [==============================] - 0s 2ms/step - loss: 0.1016 - accuracy: 0.5125\n",
      "Epoch 20/100\n",
      "13/13 [==============================] - 0s 2ms/step - loss: 0.0970 - accuracy: 0.5275\n",
      "Epoch 21/100\n",
      "13/13 [==============================] - 0s 2ms/step - loss: 0.0926 - accuracy: 0.5275\n",
      "Epoch 22/100\n",
      "13/13 [==============================] - 0s 2ms/step - loss: 0.0886 - accuracy: 0.5437\n",
      "Epoch 23/100\n",
      "13/13 [==============================] - 0s 2ms/step - loss: 0.0847 - accuracy: 0.5475\n",
      "Epoch 24/100\n",
      "13/13 [==============================] - 0s 2ms/step - loss: 0.0813 - accuracy: 0.5487\n",
      "Epoch 25/100\n",
      "13/13 [==============================] - 0s 2ms/step - loss: 0.0781 - accuracy: 0.5612\n",
      "Epoch 26/100\n",
      "13/13 [==============================] - 0s 2ms/step - loss: 0.0752 - accuracy: 0.5775\n",
      "Epoch 27/100\n",
      "13/13 [==============================] - 0s 2ms/step - loss: 0.0726 - accuracy: 0.5813\n",
      "Epoch 28/100\n",
      "13/13 [==============================] - 0s 2ms/step - loss: 0.0702 - accuracy: 0.5863\n",
      "Epoch 29/100\n",
      "13/13 [==============================] - 0s 2ms/step - loss: 0.0681 - accuracy: 0.5913\n",
      "Epoch 30/100\n",
      "13/13 [==============================] - 0s 2ms/step - loss: 0.0661 - accuracy: 0.6025\n",
      "Epoch 31/100\n",
      "13/13 [==============================] - 0s 2ms/step - loss: 0.0643 - accuracy: 0.6050\n",
      "Epoch 32/100\n",
      "13/13 [==============================] - 0s 2ms/step - loss: 0.0626 - accuracy: 0.6087\n",
      "Epoch 33/100\n",
      "13/13 [==============================] - 0s 2ms/step - loss: 0.0611 - accuracy: 0.6062\n",
      "Epoch 34/100\n",
      "13/13 [==============================] - 0s 2ms/step - loss: 0.0597 - accuracy: 0.6125\n",
      "Epoch 35/100\n",
      "13/13 [==============================] - 0s 2ms/step - loss: 0.0583 - accuracy: 0.6137\n",
      "Epoch 36/100\n",
      "13/13 [==============================] - 0s 2ms/step - loss: 0.0571 - accuracy: 0.6150\n",
      "Epoch 37/100\n",
      "13/13 [==============================] - 0s 2ms/step - loss: 0.0559 - accuracy: 0.6175\n",
      "Epoch 38/100\n",
      "13/13 [==============================] - 0s 2ms/step - loss: 0.0548 - accuracy: 0.6187\n",
      "Epoch 39/100\n",
      "13/13 [==============================] - 0s 2ms/step - loss: 0.0538 - accuracy: 0.6162\n",
      "Epoch 40/100\n",
      "13/13 [==============================] - 0s 2ms/step - loss: 0.0529 - accuracy: 0.6263\n",
      "Epoch 41/100\n",
      "13/13 [==============================] - 0s 2ms/step - loss: 0.0520 - accuracy: 0.6237\n",
      "Epoch 42/100\n",
      "13/13 [==============================] - 0s 2ms/step - loss: 0.0512 - accuracy: 0.6175\n",
      "Epoch 43/100\n",
      "13/13 [==============================] - 0s 2ms/step - loss: 0.0503 - accuracy: 0.6250\n",
      "Epoch 44/100\n",
      "13/13 [==============================] - 0s 2ms/step - loss: 0.0496 - accuracy: 0.6237\n",
      "Epoch 45/100\n",
      "13/13 [==============================] - 0s 2ms/step - loss: 0.0489 - accuracy: 0.6237\n",
      "Epoch 46/100\n",
      "13/13 [==============================] - 0s 2ms/step - loss: 0.0482 - accuracy: 0.6200\n",
      "Epoch 47/100\n",
      "13/13 [==============================] - 0s 2ms/step - loss: 0.0476 - accuracy: 0.6162\n",
      "Epoch 48/100\n",
      "13/13 [==============================] - 0s 2ms/step - loss: 0.0469 - accuracy: 0.6175\n",
      "Epoch 49/100\n",
      "13/13 [==============================] - 0s 2ms/step - loss: 0.0464 - accuracy: 0.6225\n",
      "Epoch 50/100\n",
      "13/13 [==============================] - 0s 2ms/step - loss: 0.0458 - accuracy: 0.6225\n",
      "Epoch 51/100\n",
      "13/13 [==============================] - 0s 2ms/step - loss: 0.0453 - accuracy: 0.6200\n",
      "Epoch 52/100\n",
      "13/13 [==============================] - 0s 2ms/step - loss: 0.0447 - accuracy: 0.6200\n",
      "Epoch 53/100\n",
      "13/13 [==============================] - 0s 2ms/step - loss: 0.0443 - accuracy: 0.6225\n",
      "Epoch 54/100\n",
      "13/13 [==============================] - 0s 2ms/step - loss: 0.0438 - accuracy: 0.6150\n",
      "Epoch 55/100\n",
      "13/13 [==============================] - 0s 2ms/step - loss: 0.0433 - accuracy: 0.6100\n",
      "Epoch 56/100\n",
      "13/13 [==============================] - 0s 2ms/step - loss: 0.0429 - accuracy: 0.6137\n",
      "Epoch 57/100\n",
      "13/13 [==============================] - 0s 2ms/step - loss: 0.0424 - accuracy: 0.6125\n",
      "Epoch 58/100\n",
      "13/13 [==============================] - 0s 2ms/step - loss: 0.0420 - accuracy: 0.6125\n",
      "Epoch 59/100\n",
      "13/13 [==============================] - 0s 2ms/step - loss: 0.0416 - accuracy: 0.6125\n",
      "Epoch 60/100\n",
      "13/13 [==============================] - 0s 2ms/step - loss: 0.0412 - accuracy: 0.6112\n",
      "Epoch 61/100\n",
      "13/13 [==============================] - 0s 2ms/step - loss: 0.0409 - accuracy: 0.6137\n",
      "Epoch 62/100\n",
      "13/13 [==============================] - 0s 2ms/step - loss: 0.0405 - accuracy: 0.6137\n",
      "Epoch 63/100\n",
      "13/13 [==============================] - 0s 2ms/step - loss: 0.0402 - accuracy: 0.6087\n",
      "Epoch 64/100\n",
      "13/13 [==============================] - 0s 2ms/step - loss: 0.0398 - accuracy: 0.6062\n",
      "Epoch 65/100\n",
      "13/13 [==============================] - 0s 2ms/step - loss: 0.0394 - accuracy: 0.6087\n",
      "Epoch 66/100\n",
      "13/13 [==============================] - 0s 2ms/step - loss: 0.0391 - accuracy: 0.6075\n",
      "Epoch 67/100\n",
      "13/13 [==============================] - 0s 2ms/step - loss: 0.0389 - accuracy: 0.6075\n",
      "Epoch 68/100\n",
      "13/13 [==============================] - 0s 2ms/step - loss: 0.0385 - accuracy: 0.6125\n",
      "Epoch 69/100\n",
      "13/13 [==============================] - 0s 2ms/step - loss: 0.0382 - accuracy: 0.6112\n",
      "Epoch 70/100\n",
      "13/13 [==============================] - 0s 2ms/step - loss: 0.0379 - accuracy: 0.6112\n",
      "Epoch 71/100\n",
      "13/13 [==============================] - 0s 2ms/step - loss: 0.0376 - accuracy: 0.6112\n",
      "Epoch 72/100\n",
      "13/13 [==============================] - 0s 2ms/step - loss: 0.0374 - accuracy: 0.6112\n",
      "Epoch 73/100\n",
      "13/13 [==============================] - 0s 2ms/step - loss: 0.0371 - accuracy: 0.6125\n",
      "Epoch 74/100\n",
      "13/13 [==============================] - 0s 2ms/step - loss: 0.0368 - accuracy: 0.6137\n",
      "Epoch 75/100\n",
      "13/13 [==============================] - 0s 2ms/step - loss: 0.0365 - accuracy: 0.6162\n",
      "Epoch 76/100\n",
      "13/13 [==============================] - 0s 2ms/step - loss: 0.0363 - accuracy: 0.6125\n",
      "Epoch 77/100\n",
      "13/13 [==============================] - 0s 2ms/step - loss: 0.0360 - accuracy: 0.6162\n",
      "Epoch 78/100\n",
      "13/13 [==============================] - 0s 2ms/step - loss: 0.0358 - accuracy: 0.6200\n",
      "Epoch 79/100\n",
      "13/13 [==============================] - 0s 2ms/step - loss: 0.0355 - accuracy: 0.6150\n",
      "Epoch 80/100\n",
      "13/13 [==============================] - 0s 2ms/step - loss: 0.0353 - accuracy: 0.6212\n",
      "Epoch 81/100\n",
      "13/13 [==============================] - 0s 2ms/step - loss: 0.0350 - accuracy: 0.6187\n",
      "Epoch 82/100\n",
      "13/13 [==============================] - 0s 2ms/step - loss: 0.0348 - accuracy: 0.6175\n",
      "Epoch 83/100\n"
     ]
    },
    {
     "name": "stdout",
     "output_type": "stream",
     "text": [
      "13/13 [==============================] - 0s 2ms/step - loss: 0.0345 - accuracy: 0.6212\n",
      "Epoch 84/100\n",
      "13/13 [==============================] - 0s 2ms/step - loss: 0.0343 - accuracy: 0.6237\n",
      "Epoch 85/100\n",
      "13/13 [==============================] - 0s 2ms/step - loss: 0.0341 - accuracy: 0.6212\n",
      "Epoch 86/100\n",
      "13/13 [==============================] - 0s 2ms/step - loss: 0.0339 - accuracy: 0.6200\n",
      "Epoch 87/100\n",
      "13/13 [==============================] - 0s 2ms/step - loss: 0.0336 - accuracy: 0.6200\n",
      "Epoch 88/100\n",
      "13/13 [==============================] - 0s 2ms/step - loss: 0.0334 - accuracy: 0.6162\n",
      "Epoch 89/100\n",
      "13/13 [==============================] - 0s 2ms/step - loss: 0.0332 - accuracy: 0.6187\n",
      "Epoch 90/100\n",
      "13/13 [==============================] - 0s 2ms/step - loss: 0.0330 - accuracy: 0.6175\n",
      "Epoch 91/100\n",
      "13/13 [==============================] - 0s 2ms/step - loss: 0.0328 - accuracy: 0.6150\n",
      "Epoch 92/100\n",
      "13/13 [==============================] - 0s 2ms/step - loss: 0.0326 - accuracy: 0.6175\n",
      "Epoch 93/100\n",
      "13/13 [==============================] - 0s 2ms/step - loss: 0.0324 - accuracy: 0.6187\n",
      "Epoch 94/100\n",
      "13/13 [==============================] - 0s 2ms/step - loss: 0.0322 - accuracy: 0.6150\n",
      "Epoch 95/100\n",
      "13/13 [==============================] - 0s 2ms/step - loss: 0.0319 - accuracy: 0.6137\n",
      "Epoch 96/100\n",
      "13/13 [==============================] - 0s 2ms/step - loss: 0.0317 - accuracy: 0.6112\n",
      "Epoch 97/100\n",
      "13/13 [==============================] - 0s 2ms/step - loss: 0.0316 - accuracy: 0.6125\n",
      "Epoch 98/100\n",
      "13/13 [==============================] - 0s 2ms/step - loss: 0.0314 - accuracy: 0.6112\n",
      "Epoch 99/100\n",
      "13/13 [==============================] - 0s 2ms/step - loss: 0.0312 - accuracy: 0.6175\n",
      "Epoch 100/100\n",
      "13/13 [==============================] - 0s 2ms/step - loss: 0.0310 - accuracy: 0.6150\n"
     ]
    },
    {
     "data": {
      "text/plain": [
       "<keras.callbacks.History at 0x2b632e3d310>"
      ]
     },
     "execution_count": 40,
     "metadata": {},
     "output_type": "execute_result"
    }
   ],
   "source": [
    "model.fit(X1, y1, epochs = 100,batch_size=64)"
   ]
  },
  {
   "cell_type": "code",
   "execution_count": 41,
   "id": "04dbf91d",
   "metadata": {},
   "outputs": [],
   "source": [
    "units=24"
   ]
  },
  {
   "cell_type": "code",
   "execution_count": 42,
   "id": "2d6860c0",
   "metadata": {},
   "outputs": [],
   "source": [
    "W = model.get_weights()[0]\n",
    "U = model.get_weights()[1]\n",
    "b = model.get_weights()[2]\n",
    "Wy = model.get_weights()[3].T\n",
    "by = model.get_weights()[4]\n",
    "\n",
    "W_i = W[:, :units]\n",
    "W_f = W[:, units: units * 2]\n",
    "W_c = W[:, units * 2: units * 3]\n",
    "W_o = W[:, units * 3:]\n",
    "\n",
    "U_i = U[:, :units]\n",
    "U_f = U[:, units: units * 2]\n",
    "U_c = U[:, units * 2: units * 3]\n",
    "U_o = U[:, units * 3:]\n",
    "\n",
    "bi = b[:units]\n",
    "bf = b[units: units * 2]\n",
    "bc = b[units * 2: units * 3]\n",
    "bo = b[units * 3:]"
   ]
  },
  {
   "cell_type": "code",
   "execution_count": 43,
   "id": "baef804c",
   "metadata": {},
   "outputs": [
    {
     "data": {
      "text/plain": [
       "(4, 24)"
      ]
     },
     "execution_count": 43,
     "metadata": {},
     "output_type": "execute_result"
    }
   ],
   "source": [
    "W_i.shape"
   ]
  },
  {
   "cell_type": "code",
   "execution_count": 44,
   "id": "f697b5de",
   "metadata": {},
   "outputs": [
    {
     "data": {
      "text/plain": [
       "(24, 24)"
      ]
     },
     "execution_count": 44,
     "metadata": {},
     "output_type": "execute_result"
    }
   ],
   "source": [
    "U_i.shape"
   ]
  },
  {
   "cell_type": "code",
   "execution_count": 45,
   "id": "a4ee5230",
   "metadata": {},
   "outputs": [
    {
     "data": {
      "text/plain": [
       "(24,)"
      ]
     },
     "execution_count": 45,
     "metadata": {},
     "output_type": "execute_result"
    }
   ],
   "source": [
    "bi.shape"
   ]
  },
  {
   "cell_type": "code",
   "execution_count": 89,
   "id": "629510e0",
   "metadata": {},
   "outputs": [
    {
     "data": {
      "text/plain": [
       "(24, 1)"
      ]
     },
     "execution_count": 89,
     "metadata": {},
     "output_type": "execute_result"
    }
   ],
   "source": [
    "bi.reshape(-1,1).shape"
   ]
  },
  {
   "cell_type": "code",
   "execution_count": 47,
   "id": "08972d18",
   "metadata": {},
   "outputs": [],
   "source": [
    "Wi = np.concatenate((U_i.T, W_i.T), axis=1)\n",
    "Wf = np.concatenate((U_f.T, W_f.T), axis=1)\n",
    "Wc = np.concatenate((U_c.T, W_c.T), axis=1)\n",
    "Wo = np.concatenate((U_o.T, W_o.T), axis=1)"
   ]
  },
  {
   "cell_type": "code",
   "execution_count": 48,
   "id": "4a5be1c5",
   "metadata": {},
   "outputs": [
    {
     "data": {
      "text/plain": [
       "(24, 28)"
      ]
     },
     "execution_count": 48,
     "metadata": {},
     "output_type": "execute_result"
    }
   ],
   "source": [
    "Wi.shape"
   ]
  },
  {
   "cell_type": "code",
   "execution_count": 49,
   "id": "56b2e6dd",
   "metadata": {},
   "outputs": [
    {
     "data": {
      "text/plain": [
       "(24, 28)"
      ]
     },
     "execution_count": 49,
     "metadata": {},
     "output_type": "execute_result"
    }
   ],
   "source": [
    "Wf.shape"
   ]
  },
  {
   "cell_type": "code",
   "execution_count": 50,
   "id": "4aac3e8c",
   "metadata": {},
   "outputs": [
    {
     "data": {
      "text/plain": [
       "(24, 28)"
      ]
     },
     "execution_count": 50,
     "metadata": {},
     "output_type": "execute_result"
    }
   ],
   "source": [
    "Wc.shape"
   ]
  },
  {
   "cell_type": "code",
   "execution_count": 51,
   "id": "e45efed6",
   "metadata": {},
   "outputs": [
    {
     "data": {
      "text/plain": [
       "(24, 28)"
      ]
     },
     "execution_count": 51,
     "metadata": {},
     "output_type": "execute_result"
    }
   ],
   "source": [
    "Wo.shape"
   ]
  },
  {
   "cell_type": "code",
   "execution_count": 52,
   "id": "a0422767",
   "metadata": {},
   "outputs": [
    {
     "data": {
      "text/plain": [
       "(8, 24)"
      ]
     },
     "execution_count": 52,
     "metadata": {},
     "output_type": "execute_result"
    }
   ],
   "source": [
    "Wy.shape"
   ]
  },
  {
   "cell_type": "code",
   "execution_count": 53,
   "id": "6e608df4",
   "metadata": {},
   "outputs": [],
   "source": [
    "x=X1[0]"
   ]
  },
  {
   "cell_type": "code",
   "execution_count": 54,
   "id": "e4db9c3a",
   "metadata": {},
   "outputs": [
    {
     "data": {
      "text/plain": [
       "(2, 4)"
      ]
     },
     "execution_count": 54,
     "metadata": {},
     "output_type": "execute_result"
    }
   ],
   "source": [
    "x.shape"
   ]
  },
  {
   "cell_type": "code",
   "execution_count": 74,
   "id": "78f24e5a",
   "metadata": {},
   "outputs": [],
   "source": [
    "xt=x[0].reshape(-1,1)"
   ]
  },
  {
   "cell_type": "code",
   "execution_count": 75,
   "id": "17c1f5dd",
   "metadata": {},
   "outputs": [
    {
     "data": {
      "text/plain": [
       "(4, 1)"
      ]
     },
     "execution_count": 75,
     "metadata": {},
     "output_type": "execute_result"
    }
   ],
   "source": [
    "xt.shape"
   ]
  },
  {
   "cell_type": "code",
   "execution_count": 76,
   "id": "ab784954",
   "metadata": {},
   "outputs": [],
   "source": [
    "from rnn_utils import *"
   ]
  },
  {
   "cell_type": "code",
   "execution_count": 77,
   "id": "b7e120ac",
   "metadata": {},
   "outputs": [],
   "source": [
    "a_prev = np.zeros((24,1))\n",
    "c_prev = np.zeros((24,1))"
   ]
  },
  {
   "cell_type": "code",
   "execution_count": 78,
   "id": "c24ab08e",
   "metadata": {},
   "outputs": [],
   "source": [
    "n_x, m = xt.shape\n",
    "n_y, n_a = Wy.shape"
   ]
  },
  {
   "cell_type": "code",
   "execution_count": 80,
   "id": "5ac2de0b",
   "metadata": {},
   "outputs": [],
   "source": [
    "c_next = c_prev\n",
    "a_next = a_prev\n",
    "for i in range(2):\n",
    "    concat = np.zeros((n_a + n_x, m))\n",
    "    concat[: n_a, :] = a_next\n",
    "    concat[n_a :, :] = x[i].reshape(-1,1)\n",
    "    ft = sigmoid(np.dot(Wf, concat) + bf.reshape(-1,1))\n",
    "    it = sigmoid(np.dot(Wi, concat) + bi.reshape(-1,1))\n",
    "    cct = np.tanh(np.dot(Wc, concat) + bc.reshape(-1,1))\n",
    "    c_next = ft * c_next + it * cct\n",
    "    ot = sigmoid(np.dot(Wo, concat) + bo.reshape(-1,1))\n",
    "    a_next = ot * np.tanh(c_next)"
   ]
  },
  {
   "cell_type": "code",
   "execution_count": 81,
   "id": "d1d6a4d0",
   "metadata": {},
   "outputs": [
    {
     "data": {
      "text/plain": [
       "(24, 1)"
      ]
     },
     "execution_count": 81,
     "metadata": {},
     "output_type": "execute_result"
    }
   ],
   "source": [
    "a_next.shape"
   ]
  },
  {
   "cell_type": "code",
   "execution_count": 82,
   "id": "73125580",
   "metadata": {},
   "outputs": [],
   "source": [
    "\n",
    "# Compute prediction of the LSTM cell (≈1 line)\n",
    "yt_pred = sigmoid(np.dot(Wy, a_next) + by.reshape(-1,1))"
   ]
  },
  {
   "cell_type": "code",
   "execution_count": 92,
   "id": "79152f91",
   "metadata": {},
   "outputs": [
    {
     "data": {
      "text/plain": [
       "array([0.20390019, 0.04551166, 0.72710706, 0.04300485, 0.28760855,\n",
       "       0.06351687, 0.10023416, 0.51070848])"
      ]
     },
     "execution_count": 92,
     "metadata": {},
     "output_type": "execute_result"
    }
   ],
   "source": [
    "yt_pred.reshape(-1)"
   ]
  },
  {
   "cell_type": "code",
   "execution_count": 84,
   "id": "76011934",
   "metadata": {},
   "outputs": [
    {
     "data": {
      "text/plain": [
       "array([[0.20390019, 0.04551166, 0.7271069 , 0.04300481, 0.28760862,\n",
       "        0.06351683, 0.10023412, 0.51070833]], dtype=float32)"
      ]
     },
     "execution_count": 84,
     "metadata": {},
     "output_type": "execute_result"
    }
   ],
   "source": [
    "model.predict(X1[0:1,:,:])"
   ]
  },
  {
   "cell_type": "code",
   "execution_count": 85,
   "id": "2a0d3a5d",
   "metadata": {},
   "outputs": [],
   "source": [
    "bh = np.random.randn(24, 1)"
   ]
  },
  {
   "cell_type": "code",
   "execution_count": 86,
   "id": "0a9402f8",
   "metadata": {},
   "outputs": [],
   "source": [
    "bh=bh.reshape(-1)"
   ]
  },
  {
   "cell_type": "code",
   "execution_count": 87,
   "id": "734fa2e7",
   "metadata": {},
   "outputs": [
    {
     "data": {
      "text/plain": [
       "(24,)"
      ]
     },
     "execution_count": 87,
     "metadata": {},
     "output_type": "execute_result"
    }
   ],
   "source": [
    "bh.shape"
   ]
  },
  {
   "cell_type": "code",
   "execution_count": 91,
   "id": "bcfbf799",
   "metadata": {},
   "outputs": [
    {
     "data": {
      "text/plain": [
       "array([0, 1, 0, 0, 0, 0, 1, 0], dtype=int64)"
      ]
     },
     "execution_count": 91,
     "metadata": {},
     "output_type": "execute_result"
    }
   ],
   "source": [
    "y1[i]"
   ]
  },
  {
   "cell_type": "code",
   "execution_count": null,
   "id": "abe30b4a",
   "metadata": {},
   "outputs": [],
   "source": []
  }
 ],
 "metadata": {
  "kernelspec": {
   "display_name": "Python 3 (ipykernel)",
   "language": "python",
   "name": "python3"
  },
  "language_info": {
   "codemirror_mode": {
    "name": "ipython",
    "version": 3
   },
   "file_extension": ".py",
   "mimetype": "text/x-python",
   "name": "python",
   "nbconvert_exporter": "python",
   "pygments_lexer": "ipython3",
   "version": "3.8.10"
  }
 },
 "nbformat": 4,
 "nbformat_minor": 5
}
