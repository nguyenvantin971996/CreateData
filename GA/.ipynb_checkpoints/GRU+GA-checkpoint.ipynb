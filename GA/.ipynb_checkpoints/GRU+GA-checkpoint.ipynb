{
 "cells": [
  {
   "cell_type": "code",
   "execution_count": 1,
   "id": "13f76c9b",
   "metadata": {},
   "outputs": [],
   "source": [
    "import tensorflow as tf\n",
    "import pandas as pd\n",
    "import numpy as np\n",
    "import matplotlib.pyplot as plt\n",
    "from keras.models import Sequential\n",
    "from keras.layers import Dense, SimpleRNN, LSTM, GRU\n",
    "import copy\n",
    "import time\n",
    "from sklearn.preprocessing import StandardScaler\n",
    "import random"
   ]
  },
  {
   "cell_type": "code",
   "execution_count": 2,
   "id": "30325fc2",
   "metadata": {},
   "outputs": [],
   "source": [
    "df = pd.read_csv(\"../Data/data_(8-8).csv\")\n",
    "sc = StandardScaler()"
   ]
  },
  {
   "cell_type": "code",
   "execution_count": 3,
   "id": "be3c0b6e",
   "metadata": {},
   "outputs": [],
   "source": [
    "X = df.iloc[:800, :8].values\n",
    "y = df.iloc[:800, 8:16].values\n",
    "X = sc.fit_transform(X)\n",
    "X_test = df.iloc[800:1000, :8].values\n",
    "y_test = df.iloc[800:1000, 8:16].values\n",
    "X_test = sc.fit_transform(X_test)"
   ]
  },
  {
   "cell_type": "code",
   "execution_count": 4,
   "id": "171bbd4d",
   "metadata": {},
   "outputs": [
    {
     "data": {
      "text/plain": [
       "array([ 1.57075724, -0.39398662, -1.20823935,  0.75271354, -1.48352901,\n",
       "        0.36607149,  0.40065595,  0.72516916])"
      ]
     },
     "execution_count": 4,
     "metadata": {},
     "output_type": "execute_result"
    }
   ],
   "source": [
    "X[0,:]"
   ]
  },
  {
   "cell_type": "code",
   "execution_count": 5,
   "id": "481bcaba",
   "metadata": {},
   "outputs": [],
   "source": [
    "X1= np.reshape(X, (X.shape[0], X.shape[1], 1))\n",
    "y1= np.reshape(y, (y.shape[0], y.shape[1]))"
   ]
  },
  {
   "cell_type": "code",
   "execution_count": 6,
   "id": "1d6d848f",
   "metadata": {},
   "outputs": [],
   "source": [
    "X2= np.reshape(X_test, (X_test.shape[0], X_test.shape[1], 1))\n",
    "y2= np.reshape(y_test, (y_test.shape[0], y_test.shape[1]))"
   ]
  },
  {
   "cell_type": "code",
   "execution_count": 7,
   "id": "58fb6dc7",
   "metadata": {},
   "outputs": [
    {
     "data": {
      "text/plain": [
       "(800, 8, 1)"
      ]
     },
     "execution_count": 7,
     "metadata": {},
     "output_type": "execute_result"
    }
   ],
   "source": [
    "X1.shape"
   ]
  },
  {
   "cell_type": "code",
   "execution_count": 8,
   "id": "82ccb9ec",
   "metadata": {},
   "outputs": [
    {
     "data": {
      "text/plain": [
       "(800, 8)"
      ]
     },
     "execution_count": 8,
     "metadata": {},
     "output_type": "execute_result"
    }
   ],
   "source": [
    "y1.shape"
   ]
  },
  {
   "cell_type": "code",
   "execution_count": 9,
   "id": "157b4d58",
   "metadata": {},
   "outputs": [
    {
     "data": {
      "text/plain": [
       "array([[[ 1.57075724],\n",
       "        [-0.39398662],\n",
       "        [-1.20823935],\n",
       "        [ 0.75271354],\n",
       "        [-1.48352901],\n",
       "        [ 0.36607149],\n",
       "        [ 0.40065595],\n",
       "        [ 0.72516916]]])"
      ]
     },
     "execution_count": 9,
     "metadata": {},
     "output_type": "execute_result"
    }
   ],
   "source": [
    "X1[:1,:,:]"
   ]
  },
  {
   "cell_type": "code",
   "execution_count": 10,
   "id": "a2123c67",
   "metadata": {},
   "outputs": [
    {
     "name": "stdout",
     "output_type": "stream",
     "text": [
      "Model: \"sequential\"\n",
      "_________________________________________________________________\n",
      "Layer (type)                 Output Shape              Param #   \n",
      "=================================================================\n",
      "gru (GRU)                    (None, 32)                3360      \n",
      "_________________________________________________________________\n",
      "dense (Dense)                (None, 8)                 264       \n",
      "=================================================================\n",
      "Total params: 3,624\n",
      "Trainable params: 3,624\n",
      "Non-trainable params: 0\n",
      "_________________________________________________________________\n"
     ]
    }
   ],
   "source": [
    "model = Sequential()\n",
    "model.add(GRU(units=32, input_shape=(8,1), activation=\"relu\"))\n",
    "model.add(Dense(8, activation=\"sigmoid\")) \n",
    "model.compile(loss='binary_crossentropy', optimizer='adam', metrics=['accuracy'])\n",
    "model.summary()"
   ]
  },
  {
   "cell_type": "code",
   "execution_count": 11,
   "id": "9272d009",
   "metadata": {},
   "outputs": [
    {
     "name": "stdout",
     "output_type": "stream",
     "text": [
      "Epoch 1/100\n",
      "13/13 [==============================] - 1s 3ms/step - loss: 0.6884 - accuracy: 0.0475 \n",
      "Epoch 2/100\n",
      "13/13 [==============================] - 0s 4ms/step - loss: 0.6663 - accuracy: 0.0725\n",
      "Epoch 3/100\n",
      "13/13 [==============================] - 0s 4ms/step - loss: 0.6395 - accuracy: 0.0475\n",
      "Epoch 4/100\n",
      "13/13 [==============================] - 0s 4ms/step - loss: 0.6005 - accuracy: 0.0650\n",
      "Epoch 5/100\n",
      "13/13 [==============================] - 0s 4ms/step - loss: 0.5487 - accuracy: 0.1125\n",
      "Epoch 6/100\n",
      "13/13 [==============================] - 0s 4ms/step - loss: 0.5241 - accuracy: 0.2025\n",
      "Epoch 7/100\n",
      "13/13 [==============================] - 0s 4ms/step - loss: 0.5069 - accuracy: 0.2438\n",
      "Epoch 8/100\n",
      "13/13 [==============================] - 0s 4ms/step - loss: 0.4980 - accuracy: 0.2500\n",
      "Epoch 9/100\n",
      "13/13 [==============================] - 0s 4ms/step - loss: 0.4913 - accuracy: 0.1513\n",
      "Epoch 10/100\n",
      "13/13 [==============================] - 0s 4ms/step - loss: 0.4865 - accuracy: 0.1075\n",
      "Epoch 11/100\n",
      "13/13 [==============================] - 0s 4ms/step - loss: 0.4793 - accuracy: 0.1513\n",
      "Epoch 12/100\n",
      "13/13 [==============================] - 0s 3ms/step - loss: 0.4728 - accuracy: 0.1300\n",
      "Epoch 13/100\n",
      "13/13 [==============================] - 0s 4ms/step - loss: 0.4677 - accuracy: 0.1450\n",
      "Epoch 14/100\n",
      "13/13 [==============================] - 0s 4ms/step - loss: 0.4619 - accuracy: 0.1550\n",
      "Epoch 15/100\n",
      "13/13 [==============================] - 0s 4ms/step - loss: 0.4568 - accuracy: 0.1363\n",
      "Epoch 16/100\n",
      "13/13 [==============================] - 0s 4ms/step - loss: 0.4519 - accuracy: 0.1275\n",
      "Epoch 17/100\n",
      "13/13 [==============================] - 0s 4ms/step - loss: 0.4475 - accuracy: 0.1275\n",
      "Epoch 18/100\n",
      "13/13 [==============================] - 0s 4ms/step - loss: 0.4404 - accuracy: 0.1250\n",
      "Epoch 19/100\n",
      "13/13 [==============================] - 0s 4ms/step - loss: 0.4320 - accuracy: 0.1088\n",
      "Epoch 20/100\n",
      "13/13 [==============================] - 0s 4ms/step - loss: 0.4219 - accuracy: 0.1762\n",
      "Epoch 21/100\n",
      "13/13 [==============================] - 0s 4ms/step - loss: 0.4080 - accuracy: 0.1725\n",
      "Epoch 22/100\n",
      "13/13 [==============================] - 0s 4ms/step - loss: 0.3944 - accuracy: 0.1950\n",
      "Epoch 23/100\n",
      "13/13 [==============================] - 0s 4ms/step - loss: 0.3809 - accuracy: 0.1513\n",
      "Epoch 24/100\n",
      "13/13 [==============================] - 0s 4ms/step - loss: 0.3594 - accuracy: 0.2175\n",
      "Epoch 25/100\n",
      "13/13 [==============================] - 0s 4ms/step - loss: 0.3347 - accuracy: 0.2087\n",
      "Epoch 26/100\n",
      "13/13 [==============================] - 0s 4ms/step - loss: 0.3121 - accuracy: 0.2350\n",
      "Epoch 27/100\n",
      "13/13 [==============================] - 0s 4ms/step - loss: 0.2866 - accuracy: 0.3150\n",
      "Epoch 28/100\n",
      "13/13 [==============================] - 0s 4ms/step - loss: 0.2680 - accuracy: 0.3388\n",
      "Epoch 29/100\n",
      "13/13 [==============================] - 0s 4ms/step - loss: 0.2501 - accuracy: 0.3950\n",
      "Epoch 30/100\n",
      "13/13 [==============================] - 0s 4ms/step - loss: 0.2301 - accuracy: 0.4350\n",
      "Epoch 31/100\n",
      "13/13 [==============================] - 0s 4ms/step - loss: 0.2123 - accuracy: 0.4650\n",
      "Epoch 32/100\n",
      "13/13 [==============================] - 0s 4ms/step - loss: 0.1975 - accuracy: 0.4688\n",
      "Epoch 33/100\n",
      "13/13 [==============================] - 0s 4ms/step - loss: 0.1913 - accuracy: 0.5075\n",
      "Epoch 34/100\n",
      "13/13 [==============================] - 0s 4ms/step - loss: 0.1814 - accuracy: 0.4525\n",
      "Epoch 35/100\n",
      "13/13 [==============================] - 0s 4ms/step - loss: 0.1762 - accuracy: 0.4837\n",
      "Epoch 36/100\n",
      "13/13 [==============================] - 0s 4ms/step - loss: 0.1731 - accuracy: 0.5038\n",
      "Epoch 37/100\n",
      "13/13 [==============================] - 0s 4ms/step - loss: 0.1730 - accuracy: 0.4800\n",
      "Epoch 38/100\n",
      "13/13 [==============================] - 0s 4ms/step - loss: 0.1639 - accuracy: 0.4762\n",
      "Epoch 39/100\n",
      "13/13 [==============================] - 0s 4ms/step - loss: 0.1592 - accuracy: 0.4925\n",
      "Epoch 40/100\n",
      "13/13 [==============================] - 0s 4ms/step - loss: 0.1568 - accuracy: 0.4762\n",
      "Epoch 41/100\n",
      "13/13 [==============================] - 0s 4ms/step - loss: 0.1513 - accuracy: 0.4812\n",
      "Epoch 42/100\n",
      "13/13 [==============================] - 0s 4ms/step - loss: 0.1492 - accuracy: 0.4913\n",
      "Epoch 43/100\n",
      "13/13 [==============================] - 0s 4ms/step - loss: 0.1494 - accuracy: 0.4837\n",
      "Epoch 44/100\n",
      "13/13 [==============================] - 0s 4ms/step - loss: 0.1458 - accuracy: 0.5225\n",
      "Epoch 45/100\n",
      "13/13 [==============================] - 0s 4ms/step - loss: 0.1455 - accuracy: 0.4837\n",
      "Epoch 46/100\n",
      "13/13 [==============================] - 0s 4ms/step - loss: 0.1411 - accuracy: 0.4975\n",
      "Epoch 47/100\n",
      "13/13 [==============================] - 0s 4ms/step - loss: 0.1396 - accuracy: 0.5025\n",
      "Epoch 48/100\n",
      "13/13 [==============================] - 0s 4ms/step - loss: 0.1394 - accuracy: 0.5138\n",
      "Epoch 49/100\n",
      "13/13 [==============================] - 0s 4ms/step - loss: 0.1363 - accuracy: 0.5175\n",
      "Epoch 50/100\n",
      "13/13 [==============================] - 0s 4ms/step - loss: 0.1352 - accuracy: 0.5000\n",
      "Epoch 51/100\n",
      "13/13 [==============================] - 0s 4ms/step - loss: 0.1321 - accuracy: 0.5213\n",
      "Epoch 52/100\n",
      "13/13 [==============================] - 0s 4ms/step - loss: 0.1333 - accuracy: 0.5562\n",
      "Epoch 53/100\n",
      "13/13 [==============================] - 0s 4ms/step - loss: 0.1329 - accuracy: 0.5088\n",
      "Epoch 54/100\n",
      "13/13 [==============================] - 0s 4ms/step - loss: 0.1276 - accuracy: 0.5188\n",
      "Epoch 55/100\n",
      "13/13 [==============================] - 0s 4ms/step - loss: 0.1283 - accuracy: 0.5475\n",
      "Epoch 56/100\n",
      "13/13 [==============================] - 0s 3ms/step - loss: 0.1338 - accuracy: 0.5088\n",
      "Epoch 57/100\n",
      "13/13 [==============================] - 0s 4ms/step - loss: 0.1288 - accuracy: 0.5525\n",
      "Epoch 58/100\n",
      "13/13 [==============================] - ETA: 0s - loss: 0.1431 - accuracy: 0.51 - 0s 4ms/step - loss: 0.1231 - accuracy: 0.5238\n",
      "Epoch 59/100\n",
      "13/13 [==============================] - 0s 4ms/step - loss: 0.1194 - accuracy: 0.5475\n",
      "Epoch 60/100\n",
      "13/13 [==============================] - 0s 4ms/step - loss: 0.1187 - accuracy: 0.5412\n",
      "Epoch 61/100\n",
      "13/13 [==============================] - 0s 3ms/step - loss: 0.1166 - accuracy: 0.5100\n",
      "Epoch 62/100\n",
      "13/13 [==============================] - 0s 3ms/step - loss: 0.1170 - accuracy: 0.5663\n",
      "Epoch 63/100\n",
      "13/13 [==============================] - 0s 4ms/step - loss: 0.1245 - accuracy: 0.5063\n",
      "Epoch 64/100\n",
      "13/13 [==============================] - 0s 4ms/step - loss: 0.1131 - accuracy: 0.5350\n",
      "Epoch 65/100\n",
      "13/13 [==============================] - 0s 3ms/step - loss: 0.1134 - accuracy: 0.5375\n",
      "Epoch 66/100\n",
      "13/13 [==============================] - 0s 3ms/step - loss: 0.1103 - accuracy: 0.5213\n",
      "Epoch 67/100\n",
      "13/13 [==============================] - 0s 4ms/step - loss: 0.1101 - accuracy: 0.5375\n",
      "Epoch 68/100\n",
      "13/13 [==============================] - 0s 4ms/step - loss: 0.1133 - accuracy: 0.5387\n",
      "Epoch 69/100\n",
      "13/13 [==============================] - 0s 4ms/step - loss: 0.1092 - accuracy: 0.5400\n",
      "Epoch 70/100\n",
      "13/13 [==============================] - 0s 4ms/step - loss: 0.1059 - accuracy: 0.5125\n",
      "Epoch 71/100\n",
      "13/13 [==============================] - 0s 3ms/step - loss: 0.1035 - accuracy: 0.5813\n",
      "Epoch 72/100\n",
      "13/13 [==============================] - 0s 4ms/step - loss: 0.1035 - accuracy: 0.5163\n",
      "Epoch 73/100\n",
      "13/13 [==============================] - 0s 4ms/step - loss: 0.1043 - accuracy: 0.5238\n",
      "Epoch 74/100\n",
      "13/13 [==============================] - 0s 3ms/step - loss: 0.1024 - accuracy: 0.5312\n",
      "Epoch 75/100\n",
      "13/13 [==============================] - 0s 4ms/step - loss: 0.1032 - accuracy: 0.5163\n",
      "Epoch 76/100\n",
      "13/13 [==============================] - 0s 4ms/step - loss: 0.1004 - accuracy: 0.5500\n",
      "Epoch 77/100\n",
      "13/13 [==============================] - 0s 4ms/step - loss: 0.0986 - accuracy: 0.5050\n",
      "Epoch 78/100\n",
      "13/13 [==============================] - 0s 3ms/step - loss: 0.1019 - accuracy: 0.5550\n",
      "Epoch 79/100\n",
      "13/13 [==============================] - 0s 4ms/step - loss: 0.0955 - accuracy: 0.5038\n",
      "Epoch 80/100\n",
      "13/13 [==============================] - 0s 4ms/step - loss: 0.0983 - accuracy: 0.5587\n",
      "Epoch 81/100\n",
      "13/13 [==============================] - 0s 4ms/step - loss: 0.1001 - accuracy: 0.4938\n",
      "Epoch 82/100\n"
     ]
    },
    {
     "name": "stdout",
     "output_type": "stream",
     "text": [
      "13/13 [==============================] - 0s 4ms/step - loss: 0.0931 - accuracy: 0.5638\n",
      "Epoch 83/100\n",
      "13/13 [==============================] - 0s 3ms/step - loss: 0.0955 - accuracy: 0.5163\n",
      "Epoch 84/100\n",
      "13/13 [==============================] - 0s 4ms/step - loss: 0.0923 - accuracy: 0.5400\n",
      "Epoch 85/100\n",
      "13/13 [==============================] - 0s 4ms/step - loss: 0.0905 - accuracy: 0.5075\n",
      "Epoch 86/100\n",
      "13/13 [==============================] - 0s 3ms/step - loss: 0.0903 - accuracy: 0.5188\n",
      "Epoch 87/100\n",
      "13/13 [==============================] - 0s 4ms/step - loss: 0.0879 - accuracy: 0.5462\n",
      "Epoch 88/100\n",
      "13/13 [==============================] - 0s 4ms/step - loss: 0.0868 - accuracy: 0.5213\n",
      "Epoch 89/100\n",
      "13/13 [==============================] - 0s 4ms/step - loss: 0.0911 - accuracy: 0.5325\n",
      "Epoch 90/100\n",
      "13/13 [==============================] - 0s 4ms/step - loss: 0.0852 - accuracy: 0.5213\n",
      "Epoch 91/100\n",
      "13/13 [==============================] - 0s 4ms/step - loss: 0.0877 - accuracy: 0.5250\n",
      "Epoch 92/100\n",
      "13/13 [==============================] - 0s 3ms/step - loss: 0.0879 - accuracy: 0.5600\n",
      "Epoch 93/100\n",
      "13/13 [==============================] - 0s 4ms/step - loss: 0.0866 - accuracy: 0.5100\n",
      "Epoch 94/100\n",
      "13/13 [==============================] - 0s 4ms/step - loss: 0.0873 - accuracy: 0.5425\n",
      "Epoch 95/100\n",
      "13/13 [==============================] - 0s 4ms/step - loss: 0.0826 - accuracy: 0.5250\n",
      "Epoch 96/100\n",
      "13/13 [==============================] - 0s 3ms/step - loss: 0.0805 - accuracy: 0.5175\n",
      "Epoch 97/100\n",
      "13/13 [==============================] - 0s 4ms/step - loss: 0.0821 - accuracy: 0.5088\n",
      "Epoch 98/100\n",
      "13/13 [==============================] - 0s 4ms/step - loss: 0.0809 - accuracy: 0.5462\n",
      "Epoch 99/100\n",
      "13/13 [==============================] - 0s 4ms/step - loss: 0.0792 - accuracy: 0.5225\n",
      "Epoch 100/100\n",
      "13/13 [==============================] - 0s 4ms/step - loss: 0.0780 - accuracy: 0.5000\n"
     ]
    },
    {
     "data": {
      "text/plain": [
       "<keras.callbacks.History at 0x26bd7a34dc0>"
      ]
     },
     "execution_count": 11,
     "metadata": {},
     "output_type": "execute_result"
    }
   ],
   "source": [
    "model.fit(X1, y1, epochs = 100,batch_size=64)"
   ]
  },
  {
   "cell_type": "code",
   "execution_count": 12,
   "id": "2377d1ce",
   "metadata": {},
   "outputs": [],
   "source": [
    "accuracy = 0\n",
    "for i in range(X1.shape[0]):\n",
    "    output = model.predict(X1[i:i+1,:,:]).reshape(-1)\n",
    "    condition = True\n",
    "    for j in range(len(output)):\n",
    "        output[j] = round(output[j])\n",
    "    for j in range(len(output)):\n",
    "        if(output[j]!=y1[i,j]):\n",
    "            condition = False\n",
    "            break\n",
    "    if condition:\n",
    "        accuracy += 1\n",
    "accuracy = accuracy / X1.shape[0] * 100"
   ]
  },
  {
   "cell_type": "code",
   "execution_count": 13,
   "id": "16864b5a",
   "metadata": {},
   "outputs": [
    {
     "data": {
      "text/plain": [
       "87.75"
      ]
     },
     "execution_count": 13,
     "metadata": {},
     "output_type": "execute_result"
    }
   ],
   "source": [
    "accuracy"
   ]
  },
  {
   "cell_type": "code",
   "execution_count": 14,
   "id": "c5f18e02",
   "metadata": {},
   "outputs": [],
   "source": [
    "accuracy_test = 0\n",
    "for i in range(X2.shape[0]):\n",
    "    output = model.predict(X2[i:i+1,:,:]).reshape(-1)\n",
    "    condition = True\n",
    "    for j in range(len(output)):\n",
    "        output[j] = round(output[j])\n",
    "    for j in range(len(output)):\n",
    "        if(output[j]!=y2[i,j]):\n",
    "            condition = False\n",
    "            break\n",
    "    if condition:\n",
    "        accuracy_test += 1\n",
    "accuracy_test = accuracy_test / X2.shape[0] * 100"
   ]
  },
  {
   "cell_type": "code",
   "execution_count": 15,
   "id": "53180e1c",
   "metadata": {},
   "outputs": [
    {
     "data": {
      "text/plain": [
       "78.5"
      ]
     },
     "execution_count": 15,
     "metadata": {},
     "output_type": "execute_result"
    }
   ],
   "source": [
    "accuracy_test"
   ]
  },
  {
   "cell_type": "code",
   "execution_count": 16,
   "id": "3ac8aa27",
   "metadata": {},
   "outputs": [
    {
     "name": "stdout",
     "output_type": "stream",
     "text": [
      "(1, 96) (32, 96) (2, 96) (32, 8) (8,)\n"
     ]
    }
   ],
   "source": [
    "print(model.get_weights()[0].shape,\n",
    "model.get_weights()[1].shape,\n",
    "model.get_weights()[2].shape,\n",
    "model.get_weights()[3].shape,\n",
    "model.get_weights()[4].shape)"
   ]
  },
  {
   "cell_type": "code",
   "execution_count": null,
   "id": "2ffd6570",
   "metadata": {},
   "outputs": [],
   "source": []
  }
 ],
 "metadata": {
  "kernelspec": {
   "display_name": "Python 3 (ipykernel)",
   "language": "python",
   "name": "python3"
  },
  "language_info": {
   "codemirror_mode": {
    "name": "ipython",
    "version": 3
   },
   "file_extension": ".py",
   "mimetype": "text/x-python",
   "name": "python",
   "nbconvert_exporter": "python",
   "pygments_lexer": "ipython3",
   "version": "3.8.10"
  }
 },
 "nbformat": 4,
 "nbformat_minor": 5
}
