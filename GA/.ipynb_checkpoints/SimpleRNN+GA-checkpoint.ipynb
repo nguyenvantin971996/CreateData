{
 "cells": [
  {
   "cell_type": "code",
   "execution_count": 1,
   "id": "13f76c9b",
   "metadata": {},
   "outputs": [],
   "source": [
    "import tensorflow as tf\n",
    "import pandas as pd\n",
    "import numpy as np\n",
    "import matplotlib.pyplot as plt\n",
    "from keras.models import Sequential\n",
    "from keras.layers import Dense, SimpleRNN\n",
    "import copy\n",
    "import time\n",
    "from sklearn.preprocessing import StandardScaler\n",
    "import random"
   ]
  },
  {
   "cell_type": "code",
   "execution_count": 2,
   "id": "30325fc2",
   "metadata": {},
   "outputs": [],
   "source": [
    "df = pd.read_csv(\"../Data/data_(8-8).csv\")\n",
    "sc = StandardScaler()"
   ]
  },
  {
   "cell_type": "code",
   "execution_count": 3,
   "id": "be3c0b6e",
   "metadata": {},
   "outputs": [],
   "source": [
    "X = df.iloc[:800, :8].values\n",
    "y = df.iloc[:800, 8:16].values\n",
    "X = sc.fit_transform(X)\n",
    "X_test = df.iloc[800:1000, :8].values\n",
    "y_test = df.iloc[800:1000, 8:16].values\n",
    "X_test = sc.fit_transform(X_test)"
   ]
  },
  {
   "cell_type": "code",
   "execution_count": 23,
   "id": "cfd83d70",
   "metadata": {},
   "outputs": [
    {
     "data": {
      "text/plain": [
       "array([ 1.57075724, -0.39398662, -1.20823935,  0.75271354, -1.48352901,\n",
       "        0.36607149,  0.40065595,  0.72516916])"
      ]
     },
     "execution_count": 23,
     "metadata": {},
     "output_type": "execute_result"
    }
   ],
   "source": [
    "X[0,:]"
   ]
  },
  {
   "cell_type": "code",
   "execution_count": 5,
   "id": "481bcaba",
   "metadata": {},
   "outputs": [],
   "source": [
    "X1= np.reshape(X, (X.shape[0], X.shape[1], 1))\n",
    "y1= np.reshape(y, (y.shape[0], y.shape[1]))"
   ]
  },
  {
   "cell_type": "code",
   "execution_count": 60,
   "id": "9e8ef0c5",
   "metadata": {},
   "outputs": [],
   "source": [
    "X2= np.reshape(X_test, (X_test.shape[0], X_test.shape[1], 1))\n",
    "y2= np.reshape(y_test, (y_test.shape[0], y_test.shape[1]))"
   ]
  },
  {
   "cell_type": "code",
   "execution_count": 6,
   "id": "58fb6dc7",
   "metadata": {},
   "outputs": [
    {
     "data": {
      "text/plain": [
       "(800, 8, 1)"
      ]
     },
     "execution_count": 6,
     "metadata": {},
     "output_type": "execute_result"
    }
   ],
   "source": [
    "X1.shape"
   ]
  },
  {
   "cell_type": "code",
   "execution_count": 7,
   "id": "82ccb9ec",
   "metadata": {},
   "outputs": [
    {
     "data": {
      "text/plain": [
       "(800, 8)"
      ]
     },
     "execution_count": 7,
     "metadata": {},
     "output_type": "execute_result"
    }
   ],
   "source": [
    "y1.shape"
   ]
  },
  {
   "cell_type": "code",
   "execution_count": 8,
   "id": "157b4d58",
   "metadata": {},
   "outputs": [
    {
     "data": {
      "text/plain": [
       "array([[[ 1.57075724],\n",
       "        [-0.39398662],\n",
       "        [-1.20823935],\n",
       "        [ 0.75271354],\n",
       "        [-1.48352901],\n",
       "        [ 0.36607149],\n",
       "        [ 0.40065595],\n",
       "        [ 0.72516916]]])"
      ]
     },
     "execution_count": 8,
     "metadata": {},
     "output_type": "execute_result"
    }
   ],
   "source": [
    "X1[:1,:,:]"
   ]
  },
  {
   "cell_type": "code",
   "execution_count": 85,
   "id": "a2123c67",
   "metadata": {},
   "outputs": [
    {
     "name": "stdout",
     "output_type": "stream",
     "text": [
      "Model: \"sequential_6\"\n",
      "_________________________________________________________________\n",
      "Layer (type)                 Output Shape              Param #   \n",
      "=================================================================\n",
      "simple_rnn_6 (SimpleRNN)     (None, 32)                1088      \n",
      "_________________________________________________________________\n",
      "dense_6 (Dense)              (None, 8)                 264       \n",
      "=================================================================\n",
      "Total params: 1,352\n",
      "Trainable params: 1,352\n",
      "Non-trainable params: 0\n",
      "_________________________________________________________________\n"
     ]
    }
   ],
   "source": [
    "model = Sequential()\n",
    "model.add(SimpleRNN(units=32, input_shape=(8,1), activation=\"relu\"))\n",
    "model.add(Dense(8, activation=\"sigmoid\")) \n",
    "model.compile(loss='binary_crossentropy', optimizer='adam', metrics=['accuracy'])\n",
    "model.summary()"
   ]
  },
  {
   "cell_type": "code",
   "execution_count": 86,
   "id": "9272d009",
   "metadata": {},
   "outputs": [
    {
     "name": "stdout",
     "output_type": "stream",
     "text": [
      "Epoch 1/100\n",
      "13/13 [==============================] - 1s 3ms/step - loss: 0.7006 - accuracy: 0.0600\n",
      "Epoch 2/100\n",
      "13/13 [==============================] - 0s 3ms/step - loss: 0.6715 - accuracy: 0.0625\n",
      "Epoch 3/100\n",
      "13/13 [==============================] - 0s 2ms/step - loss: 0.6359 - accuracy: 0.0188\n",
      "Epoch 4/100\n",
      "13/13 [==============================] - 0s 2ms/step - loss: 0.5760 - accuracy: 0.0012\n",
      "Epoch 5/100\n",
      "13/13 [==============================] - 0s 2ms/step - loss: 0.5075 - accuracy: 0.0750\n",
      "Epoch 6/100\n",
      "13/13 [==============================] - 0s 2ms/step - loss: 0.4647 - accuracy: 0.2850\n",
      "Epoch 7/100\n",
      "13/13 [==============================] - 0s 3ms/step - loss: 0.4302 - accuracy: 0.3850\n",
      "Epoch 8/100\n",
      "13/13 [==============================] - 0s 3ms/step - loss: 0.3888 - accuracy: 0.4263\n",
      "Epoch 9/100\n",
      "13/13 [==============================] - 0s 3ms/step - loss: 0.3400 - accuracy: 0.4875\n",
      "Epoch 10/100\n",
      "13/13 [==============================] - 0s 3ms/step - loss: 0.3028 - accuracy: 0.5400\n",
      "Epoch 11/100\n",
      "13/13 [==============================] - 0s 3ms/step - loss: 0.2789 - accuracy: 0.5487\n",
      "Epoch 12/100\n",
      "13/13 [==============================] - 0s 3ms/step - loss: 0.2615 - accuracy: 0.6012\n",
      "Epoch 13/100\n",
      "13/13 [==============================] - 0s 3ms/step - loss: 0.2490 - accuracy: 0.5650\n",
      "Epoch 14/100\n",
      "13/13 [==============================] - 0s 2ms/step - loss: 0.2403 - accuracy: 0.6562\n",
      "Epoch 15/100\n",
      "13/13 [==============================] - 0s 2ms/step - loss: 0.2311 - accuracy: 0.6300\n",
      "Epoch 16/100\n",
      "13/13 [==============================] - 0s 3ms/step - loss: 0.2257 - accuracy: 0.6425\n",
      "Epoch 17/100\n",
      "13/13 [==============================] - 0s 2ms/step - loss: 0.2188 - accuracy: 0.6525\n",
      "Epoch 18/100\n",
      "13/13 [==============================] - 0s 3ms/step - loss: 0.2145 - accuracy: 0.6712\n",
      "Epoch 19/100\n",
      "13/13 [==============================] - 0s 3ms/step - loss: 0.2100 - accuracy: 0.7088\n",
      "Epoch 20/100\n",
      "13/13 [==============================] - 0s 2ms/step - loss: 0.2048 - accuracy: 0.6687\n",
      "Epoch 21/100\n",
      "13/13 [==============================] - 0s 2ms/step - loss: 0.2009 - accuracy: 0.6587\n",
      "Epoch 22/100\n",
      "13/13 [==============================] - 0s 2ms/step - loss: 0.1993 - accuracy: 0.6800\n",
      "Epoch 23/100\n",
      "13/13 [==============================] - 0s 2ms/step - loss: 0.1937 - accuracy: 0.6388\n",
      "Epoch 24/100\n",
      "13/13 [==============================] - 0s 2ms/step - loss: 0.1919 - accuracy: 0.6700\n",
      "Epoch 25/100\n",
      "13/13 [==============================] - 0s 2ms/step - loss: 0.1895 - accuracy: 0.6988\n",
      "Epoch 26/100\n",
      "13/13 [==============================] - 0s 2ms/step - loss: 0.1867 - accuracy: 0.6275\n",
      "Epoch 27/100\n",
      "13/13 [==============================] - 0s 2ms/step - loss: 0.1839 - accuracy: 0.6662\n",
      "Epoch 28/100\n",
      "13/13 [==============================] - 0s 3ms/step - loss: 0.1817 - accuracy: 0.6787\n",
      "Epoch 29/100\n",
      "13/13 [==============================] - 0s 2ms/step - loss: 0.1795 - accuracy: 0.6450\n",
      "Epoch 30/100\n",
      "13/13 [==============================] - 0s 2ms/step - loss: 0.1772 - accuracy: 0.6525\n",
      "Epoch 31/100\n",
      "13/13 [==============================] - 0s 2ms/step - loss: 0.1747 - accuracy: 0.6288\n",
      "Epoch 32/100\n",
      "13/13 [==============================] - 0s 2ms/step - loss: 0.1749 - accuracy: 0.6363\n",
      "Epoch 33/100\n",
      "13/13 [==============================] - 0s 2ms/step - loss: 0.1730 - accuracy: 0.6625\n",
      "Epoch 34/100\n",
      "13/13 [==============================] - 0s 2ms/step - loss: 0.1692 - accuracy: 0.6200\n",
      "Epoch 35/100\n",
      "13/13 [==============================] - 0s 3ms/step - loss: 0.1677 - accuracy: 0.6775\n",
      "Epoch 36/100\n",
      "13/13 [==============================] - 0s 2ms/step - loss: 0.1657 - accuracy: 0.6175\n",
      "Epoch 37/100\n",
      "13/13 [==============================] - 0s 2ms/step - loss: 0.1649 - accuracy: 0.6875\n",
      "Epoch 38/100\n",
      "13/13 [==============================] - 0s 2ms/step - loss: 0.1634 - accuracy: 0.6025\n",
      "Epoch 39/100\n",
      "13/13 [==============================] - 0s 2ms/step - loss: 0.1617 - accuracy: 0.6712\n",
      "Epoch 40/100\n",
      "13/13 [==============================] - 0s 2ms/step - loss: 0.1603 - accuracy: 0.6225\n",
      "Epoch 41/100\n",
      "13/13 [==============================] - 0s 2ms/step - loss: 0.1595 - accuracy: 0.6438\n",
      "Epoch 42/100\n",
      "13/13 [==============================] - 0s 2ms/step - loss: 0.1594 - accuracy: 0.6550\n",
      "Epoch 43/100\n",
      "13/13 [==============================] - 0s 2ms/step - loss: 0.1566 - accuracy: 0.6187\n",
      "Epoch 44/100\n",
      "13/13 [==============================] - 0s 2ms/step - loss: 0.1553 - accuracy: 0.6413\n",
      "Epoch 45/100\n",
      "13/13 [==============================] - 0s 3ms/step - loss: 0.1516 - accuracy: 0.6525\n",
      "Epoch 46/100\n",
      "13/13 [==============================] - 0s 2ms/step - loss: 0.1519 - accuracy: 0.6325\n",
      "Epoch 47/100\n",
      "13/13 [==============================] - 0s 2ms/step - loss: 0.1515 - accuracy: 0.6513\n",
      "Epoch 48/100\n",
      "13/13 [==============================] - 0s 2ms/step - loss: 0.1499 - accuracy: 0.6212\n",
      "Epoch 49/100\n",
      "13/13 [==============================] - 0s 2ms/step - loss: 0.1505 - accuracy: 0.6237\n",
      "Epoch 50/100\n",
      "13/13 [==============================] - 0s 2ms/step - loss: 0.1484 - accuracy: 0.6087\n",
      "Epoch 51/100\n",
      "13/13 [==============================] - 0s 2ms/step - loss: 0.1466 - accuracy: 0.6200\n",
      "Epoch 52/100\n",
      "13/13 [==============================] - 0s 2ms/step - loss: 0.1442 - accuracy: 0.6463\n",
      "Epoch 53/100\n",
      "13/13 [==============================] - 0s 2ms/step - loss: 0.1430 - accuracy: 0.6037\n",
      "Epoch 54/100\n",
      "13/13 [==============================] - 0s 3ms/step - loss: 0.1426 - accuracy: 0.6187\n",
      "Epoch 55/100\n",
      "13/13 [==============================] - 0s 2ms/step - loss: 0.1417 - accuracy: 0.6313\n",
      "Epoch 56/100\n",
      "13/13 [==============================] - 0s 2ms/step - loss: 0.1416 - accuracy: 0.6200\n",
      "Epoch 57/100\n",
      "13/13 [==============================] - 0s 2ms/step - loss: 0.1414 - accuracy: 0.6112\n",
      "Epoch 58/100\n",
      "13/13 [==============================] - 0s 2ms/step - loss: 0.1380 - accuracy: 0.6438\n",
      "Epoch 59/100\n",
      "13/13 [==============================] - 0s 2ms/step - loss: 0.1396 - accuracy: 0.6212\n",
      "Epoch 60/100\n",
      "13/13 [==============================] - 0s 2ms/step - loss: 0.1375 - accuracy: 0.5950\n",
      "Epoch 61/100\n",
      "13/13 [==============================] - 0s 2ms/step - loss: 0.1368 - accuracy: 0.6300\n",
      "Epoch 62/100\n",
      "13/13 [==============================] - 0s 2ms/step - loss: 0.1351 - accuracy: 0.6112\n",
      "Epoch 63/100\n",
      "13/13 [==============================] - 0s 2ms/step - loss: 0.1349 - accuracy: 0.6000\n",
      "Epoch 64/100\n",
      "13/13 [==============================] - 0s 2ms/step - loss: 0.1342 - accuracy: 0.5938\n",
      "Epoch 65/100\n",
      "13/13 [==============================] - 0s 2ms/step - loss: 0.1327 - accuracy: 0.6500\n",
      "Epoch 66/100\n",
      "13/13 [==============================] - 0s 2ms/step - loss: 0.1324 - accuracy: 0.6000\n",
      "Epoch 67/100\n",
      "13/13 [==============================] - 0s 2ms/step - loss: 0.1311 - accuracy: 0.5938\n",
      "Epoch 68/100\n",
      "13/13 [==============================] - 0s 2ms/step - loss: 0.1291 - accuracy: 0.6338\n",
      "Epoch 69/100\n",
      "13/13 [==============================] - 0s 2ms/step - loss: 0.1301 - accuracy: 0.5888\n",
      "Epoch 70/100\n",
      "13/13 [==============================] - 0s 2ms/step - loss: 0.1278 - accuracy: 0.6200\n",
      "Epoch 71/100\n",
      "13/13 [==============================] - 0s 2ms/step - loss: 0.1260 - accuracy: 0.6150\n",
      "Epoch 72/100\n",
      "13/13 [==============================] - 0s 2ms/step - loss: 0.1249 - accuracy: 0.5962\n",
      "Epoch 73/100\n",
      "13/13 [==============================] - 0s 2ms/step - loss: 0.1256 - accuracy: 0.6162\n",
      "Epoch 74/100\n",
      "13/13 [==============================] - 0s 2ms/step - loss: 0.1255 - accuracy: 0.5987\n",
      "Epoch 75/100\n",
      "13/13 [==============================] - 0s 2ms/step - loss: 0.1240 - accuracy: 0.5913\n",
      "Epoch 76/100\n",
      "13/13 [==============================] - 0s 2ms/step - loss: 0.1229 - accuracy: 0.5875\n",
      "Epoch 77/100\n",
      "13/13 [==============================] - 0s 2ms/step - loss: 0.1221 - accuracy: 0.6175\n",
      "Epoch 78/100\n",
      "13/13 [==============================] - 0s 2ms/step - loss: 0.1219 - accuracy: 0.5925\n",
      "Epoch 79/100\n",
      "13/13 [==============================] - 0s 2ms/step - loss: 0.1200 - accuracy: 0.6275\n",
      "Epoch 80/100\n",
      "13/13 [==============================] - 0s 2ms/step - loss: 0.1207 - accuracy: 0.5575\n",
      "Epoch 81/100\n",
      "13/13 [==============================] - 0s 2ms/step - loss: 0.1205 - accuracy: 0.6375\n",
      "Epoch 82/100\n",
      "13/13 [==============================] - 0s 2ms/step - loss: 0.1191 - accuracy: 0.5888\n",
      "Epoch 83/100\n"
     ]
    },
    {
     "name": "stdout",
     "output_type": "stream",
     "text": [
      "13/13 [==============================] - 0s 2ms/step - loss: 0.1190 - accuracy: 0.5813\n",
      "Epoch 84/100\n",
      "13/13 [==============================] - 0s 2ms/step - loss: 0.1186 - accuracy: 0.5987\n",
      "Epoch 85/100\n",
      "13/13 [==============================] - 0s 2ms/step - loss: 0.1173 - accuracy: 0.5813\n",
      "Epoch 86/100\n",
      "13/13 [==============================] - 0s 2ms/step - loss: 0.1164 - accuracy: 0.5875\n",
      "Epoch 87/100\n",
      "13/13 [==============================] - 0s 2ms/step - loss: 0.1139 - accuracy: 0.5788\n",
      "Epoch 88/100\n",
      "13/13 [==============================] - 0s 2ms/step - loss: 0.1136 - accuracy: 0.5938\n",
      "Epoch 89/100\n",
      "13/13 [==============================] - 0s 2ms/step - loss: 0.1154 - accuracy: 0.5863\n",
      "Epoch 90/100\n",
      "13/13 [==============================] - 0s 3ms/step - loss: 0.1122 - accuracy: 0.6050\n",
      "Epoch 91/100\n",
      "13/13 [==============================] - 0s 3ms/step - loss: 0.1136 - accuracy: 0.5800\n",
      "Epoch 92/100\n",
      "13/13 [==============================] - ETA: 0s - loss: 0.1131 - accuracy: 0.59 - 0s 3ms/step - loss: 0.1130 - accuracy: 0.5888\n",
      "Epoch 93/100\n",
      "13/13 [==============================] - 0s 3ms/step - loss: 0.1109 - accuracy: 0.5750\n",
      "Epoch 94/100\n",
      "13/13 [==============================] - 0s 3ms/step - loss: 0.1126 - accuracy: 0.5713\n",
      "Epoch 95/100\n",
      "13/13 [==============================] - 0s 2ms/step - loss: 0.1105 - accuracy: 0.6200\n",
      "Epoch 96/100\n",
      "13/13 [==============================] - 0s 3ms/step - loss: 0.1112 - accuracy: 0.5375\n",
      "Epoch 97/100\n",
      "13/13 [==============================] - 0s 2ms/step - loss: 0.1073 - accuracy: 0.5875\n",
      "Epoch 98/100\n",
      "13/13 [==============================] - 0s 2ms/step - loss: 0.1084 - accuracy: 0.5612\n",
      "Epoch 99/100\n",
      "13/13 [==============================] - 0s 2ms/step - loss: 0.1081 - accuracy: 0.5713\n",
      "Epoch 100/100\n",
      "13/13 [==============================] - 0s 3ms/step - loss: 0.1076 - accuracy: 0.5850\n"
     ]
    },
    {
     "data": {
      "text/plain": [
       "<keras.callbacks.History at 0x16d3e17b700>"
      ]
     },
     "execution_count": 86,
     "metadata": {},
     "output_type": "execute_result"
    }
   ],
   "source": [
    "model.fit(X1, y1, epochs = 100,batch_size=64)"
   ]
  },
  {
   "cell_type": "code",
   "execution_count": 87,
   "id": "2377d1ce",
   "metadata": {},
   "outputs": [],
   "source": [
    "accuracy = 0\n",
    "for i in range(X1.shape[0]):\n",
    "    output = model.predict(X1[i:i+1,:,:]).reshape(-1)\n",
    "    condition = True\n",
    "    for j in range(len(output)):\n",
    "        output[j] = round(output[j])\n",
    "    for j in range(len(output)):\n",
    "        if(output[j]!=y1[i,j]):\n",
    "            condition = False\n",
    "            break\n",
    "    if condition:\n",
    "        accuracy += 1\n",
    "accuracy = accuracy / X1.shape[0] * 100"
   ]
  },
  {
   "cell_type": "code",
   "execution_count": 88,
   "id": "16864b5a",
   "metadata": {},
   "outputs": [
    {
     "data": {
      "text/plain": [
       "83.125"
      ]
     },
     "execution_count": 88,
     "metadata": {},
     "output_type": "execute_result"
    }
   ],
   "source": [
    "accuracy"
   ]
  },
  {
   "cell_type": "code",
   "execution_count": 89,
   "id": "59fa9062",
   "metadata": {},
   "outputs": [],
   "source": [
    "accuracy_test = 0\n",
    "for i in range(X2.shape[0]):\n",
    "    output = model.predict(X2[i:i+1,:,:]).reshape(-1)\n",
    "    condition = True\n",
    "    for j in range(len(output)):\n",
    "        output[j] = round(output[j])\n",
    "    for j in range(len(output)):\n",
    "        if(output[j]!=y2[i,j]):\n",
    "            condition = False\n",
    "            break\n",
    "    if condition:\n",
    "        accuracy_test += 1\n",
    "accuracy_test = accuracy_test / X2.shape[0] * 100"
   ]
  },
  {
   "cell_type": "code",
   "execution_count": 90,
   "id": "424280eb",
   "metadata": {},
   "outputs": [
    {
     "data": {
      "text/plain": [
       "75.5"
      ]
     },
     "execution_count": 90,
     "metadata": {},
     "output_type": "execute_result"
    }
   ],
   "source": [
    "accuracy_test"
   ]
  },
  {
   "cell_type": "code",
   "execution_count": 91,
   "id": "3ac8aa27",
   "metadata": {},
   "outputs": [
    {
     "name": "stdout",
     "output_type": "stream",
     "text": [
      "(1, 32) (32, 32) (32,) (32, 8) (8,)\n"
     ]
    }
   ],
   "source": [
    "print(model.get_weights()[0].shape,\n",
    "model.get_weights()[1].shape,\n",
    "model.get_weights()[2].shape,\n",
    "model.get_weights()[3].shape,\n",
    "model.get_weights()[4].shape)"
   ]
  },
  {
   "cell_type": "code",
   "execution_count": null,
   "id": "2976823d",
   "metadata": {},
   "outputs": [],
   "source": []
  }
 ],
 "metadata": {
  "kernelspec": {
   "display_name": "Python 3 (ipykernel)",
   "language": "python",
   "name": "python3"
  },
  "language_info": {
   "codemirror_mode": {
    "name": "ipython",
    "version": 3
   },
   "file_extension": ".py",
   "mimetype": "text/x-python",
   "name": "python",
   "nbconvert_exporter": "python",
   "pygments_lexer": "ipython3",
   "version": "3.8.10"
  }
 },
 "nbformat": 4,
 "nbformat_minor": 5
}
