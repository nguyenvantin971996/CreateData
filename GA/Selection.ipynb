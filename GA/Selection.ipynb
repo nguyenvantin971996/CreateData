{
 "cells": [
  {
   "cell_type": "code",
   "execution_count": null,
   "id": "b10be10c",
   "metadata": {},
   "outputs": [],
   "source": [
    "def Selection(self):\n",
    "        self.children_population_weights.clear()\n",
    "        t = []\n",
    "        for i in range(self.N):\n",
    "            selected_index = np.random.randint(0,len(self.population))\n",
    "            for ix in np.random.randint(0,len(self.population),self.Ts-1):\n",
    "                if(self.population[ix].fitness < self.population[selected_index].fitness):\n",
    "                    selected_index = ix\n",
    "            t.append(self.population[selected_index].fitness)\n",
    "            self.children_population_weights.append(self.population[selected_index].get_weights())\n",
    "        for i in range(self.N):\n",
    "            self.population[i].set_weights(self.children_population_weights[i])\n",
    "            self.population[i].fitness = t[i]"
   ]
  }
 ],
 "metadata": {
  "kernelspec": {
   "display_name": "Python 3 (ipykernel)",
   "language": "python",
   "name": "python3"
  },
  "language_info": {
   "codemirror_mode": {
    "name": "ipython",
    "version": 3
   },
   "file_extension": ".py",
   "mimetype": "text/x-python",
   "name": "python",
   "nbconvert_exporter": "python",
   "pygments_lexer": "ipython3",
   "version": "3.8.10"
  }
 },
 "nbformat": 4,
 "nbformat_minor": 5
}
