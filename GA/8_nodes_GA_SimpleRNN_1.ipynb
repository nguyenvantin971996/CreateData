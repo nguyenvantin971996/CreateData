{
 "cells": [
  {
   "cell_type": "code",
   "execution_count": 2,
   "metadata": {},
   "outputs": [
    {
     "data": {
      "text/html": [
       "<div>\n",
       "<style scoped>\n",
       "    .dataframe tbody tr th:only-of-type {\n",
       "        vertical-align: middle;\n",
       "    }\n",
       "\n",
       "    .dataframe tbody tr th {\n",
       "        vertical-align: top;\n",
       "    }\n",
       "\n",
       "    .dataframe thead th {\n",
       "        text-align: right;\n",
       "    }\n",
       "</style>\n",
       "<table border=\"1\" class=\"dataframe\">\n",
       "  <thead>\n",
       "    <tr style=\"text-align: right;\">\n",
       "      <th></th>\n",
       "      <th>X(1, 2)</th>\n",
       "      <th>X(1, 3)</th>\n",
       "      <th>X(2, 4)</th>\n",
       "      <th>X(2, 5)</th>\n",
       "      <th>X(3, 4)</th>\n",
       "      <th>X(3, 7)</th>\n",
       "      <th>X(4, 6)</th>\n",
       "      <th>X(5, 6)</th>\n",
       "      <th>X(5, 8)</th>\n",
       "      <th>X(6, 7)</th>\n",
       "      <th>...</th>\n",
       "      <th>Y4(1, 3)</th>\n",
       "      <th>Y4(2, 4)</th>\n",
       "      <th>Y4(2, 5)</th>\n",
       "      <th>Y4(3, 4)</th>\n",
       "      <th>Y4(3, 7)</th>\n",
       "      <th>Y4(4, 6)</th>\n",
       "      <th>Y4(5, 6)</th>\n",
       "      <th>Y4(5, 8)</th>\n",
       "      <th>Y4(6, 7)</th>\n",
       "      <th>Y4(7, 8)</th>\n",
       "    </tr>\n",
       "  </thead>\n",
       "  <tbody>\n",
       "    <tr>\n",
       "      <th>0</th>\n",
       "      <td>10</td>\n",
       "      <td>40</td>\n",
       "      <td>30</td>\n",
       "      <td>50</td>\n",
       "      <td>30</td>\n",
       "      <td>20</td>\n",
       "      <td>20</td>\n",
       "      <td>10</td>\n",
       "      <td>90</td>\n",
       "      <td>70</td>\n",
       "      <td>...</td>\n",
       "      <td>0</td>\n",
       "      <td>1</td>\n",
       "      <td>0</td>\n",
       "      <td>0</td>\n",
       "      <td>0</td>\n",
       "      <td>1</td>\n",
       "      <td>0</td>\n",
       "      <td>0</td>\n",
       "      <td>1</td>\n",
       "      <td>1</td>\n",
       "    </tr>\n",
       "    <tr>\n",
       "      <th>1</th>\n",
       "      <td>90</td>\n",
       "      <td>50</td>\n",
       "      <td>50</td>\n",
       "      <td>30</td>\n",
       "      <td>30</td>\n",
       "      <td>80</td>\n",
       "      <td>80</td>\n",
       "      <td>30</td>\n",
       "      <td>30</td>\n",
       "      <td>80</td>\n",
       "      <td>...</td>\n",
       "      <td>1</td>\n",
       "      <td>0</td>\n",
       "      <td>0</td>\n",
       "      <td>1</td>\n",
       "      <td>0</td>\n",
       "      <td>1</td>\n",
       "      <td>1</td>\n",
       "      <td>1</td>\n",
       "      <td>0</td>\n",
       "      <td>0</td>\n",
       "    </tr>\n",
       "    <tr>\n",
       "      <th>2</th>\n",
       "      <td>10</td>\n",
       "      <td>60</td>\n",
       "      <td>80</td>\n",
       "      <td>50</td>\n",
       "      <td>40</td>\n",
       "      <td>50</td>\n",
       "      <td>30</td>\n",
       "      <td>90</td>\n",
       "      <td>80</td>\n",
       "      <td>30</td>\n",
       "      <td>...</td>\n",
       "      <td>1</td>\n",
       "      <td>0</td>\n",
       "      <td>0</td>\n",
       "      <td>1</td>\n",
       "      <td>0</td>\n",
       "      <td>1</td>\n",
       "      <td>0</td>\n",
       "      <td>0</td>\n",
       "      <td>1</td>\n",
       "      <td>1</td>\n",
       "    </tr>\n",
       "    <tr>\n",
       "      <th>3</th>\n",
       "      <td>80</td>\n",
       "      <td>20</td>\n",
       "      <td>40</td>\n",
       "      <td>60</td>\n",
       "      <td>50</td>\n",
       "      <td>80</td>\n",
       "      <td>90</td>\n",
       "      <td>60</td>\n",
       "      <td>80</td>\n",
       "      <td>80</td>\n",
       "      <td>...</td>\n",
       "      <td>1</td>\n",
       "      <td>0</td>\n",
       "      <td>0</td>\n",
       "      <td>1</td>\n",
       "      <td>0</td>\n",
       "      <td>1</td>\n",
       "      <td>1</td>\n",
       "      <td>1</td>\n",
       "      <td>0</td>\n",
       "      <td>0</td>\n",
       "    </tr>\n",
       "    <tr>\n",
       "      <th>4</th>\n",
       "      <td>20</td>\n",
       "      <td>70</td>\n",
       "      <td>50</td>\n",
       "      <td>40</td>\n",
       "      <td>20</td>\n",
       "      <td>70</td>\n",
       "      <td>80</td>\n",
       "      <td>80</td>\n",
       "      <td>10</td>\n",
       "      <td>10</td>\n",
       "      <td>...</td>\n",
       "      <td>0</td>\n",
       "      <td>1</td>\n",
       "      <td>0</td>\n",
       "      <td>0</td>\n",
       "      <td>0</td>\n",
       "      <td>1</td>\n",
       "      <td>1</td>\n",
       "      <td>1</td>\n",
       "      <td>0</td>\n",
       "      <td>0</td>\n",
       "    </tr>\n",
       "  </tbody>\n",
       "</table>\n",
       "<p>5 rows × 55 columns</p>\n",
       "</div>"
      ],
      "text/plain": [
       "   X(1, 2)  X(1, 3)  X(2, 4)  X(2, 5)  X(3, 4)  X(3, 7)  X(4, 6)  X(5, 6)  \\\n",
       "0       10       40       30       50       30       20       20       10   \n",
       "1       90       50       50       30       30       80       80       30   \n",
       "2       10       60       80       50       40       50       30       90   \n",
       "3       80       20       40       60       50       80       90       60   \n",
       "4       20       70       50       40       20       70       80       80   \n",
       "\n",
       "   X(5, 8)  X(6, 7)  ...  Y4(1, 3)  Y4(2, 4)  Y4(2, 5)  Y4(3, 4)  Y4(3, 7)  \\\n",
       "0       90       70  ...         0         1         0         0         0   \n",
       "1       30       80  ...         1         0         0         1         0   \n",
       "2       80       30  ...         1         0         0         1         0   \n",
       "3       80       80  ...         1         0         0         1         0   \n",
       "4       10       10  ...         0         1         0         0         0   \n",
       "\n",
       "   Y4(4, 6)  Y4(5, 6)  Y4(5, 8)  Y4(6, 7)  Y4(7, 8)  \n",
       "0         1         0         0         1         1  \n",
       "1         1         1         1         0         0  \n",
       "2         1         0         0         1         1  \n",
       "3         1         1         1         0         0  \n",
       "4         1         1         1         0         0  \n",
       "\n",
       "[5 rows x 55 columns]"
      ]
     },
     "execution_count": 2,
     "metadata": {},
     "output_type": "execute_result"
    }
   ],
   "source": [
    "import keras\n",
    "from keras.models import Sequential\n",
    "from keras.layers import Dense,Dropout,TimeDistributed,SimpleRNN\n",
    "import numpy as np\n",
    "import pandas as pd\n",
    "import copy\n",
    "df = pd.read_csv(\"../Data/data_8_nodes_yen.csv\") #You need to change #directory accordingly\n",
    "df.head()"
   ]
  },
  {
   "cell_type": "code",
   "execution_count": 2,
   "metadata": {},
   "outputs": [],
   "source": [
    "edges = [[1, 2], [1, 3], [2, 4], [2, 5], [3, 4], [3, 7], [4, 6], [5, 6], [5, 8], [6, 7], [7, 8]]"
   ]
  },
  {
   "cell_type": "code",
   "execution_count": 3,
   "metadata": {},
   "outputs": [],
   "source": [
    "number_edges = 11\n",
    "number_steps = 4\n",
    "start_node = 1\n",
    "end_node = 8"
   ]
  },
  {
   "cell_type": "code",
   "execution_count": 4,
   "metadata": {},
   "outputs": [],
   "source": [
    "X = df.iloc[:,:number_edges].values\n",
    "y = df.iloc[:,number_edges:].values"
   ]
  },
  {
   "cell_type": "code",
   "execution_count": 5,
   "metadata": {},
   "outputs": [
    {
     "data": {
      "text/plain": [
       "(100000, 11)"
      ]
     },
     "execution_count": 5,
     "metadata": {},
     "output_type": "execute_result"
    }
   ],
   "source": [
    "X.shape"
   ]
  },
  {
   "cell_type": "code",
   "execution_count": 6,
   "metadata": {},
   "outputs": [
    {
     "data": {
      "text/plain": [
       "(100000, 44)"
      ]
     },
     "execution_count": 6,
     "metadata": {},
     "output_type": "execute_result"
    }
   ],
   "source": [
    "y.shape"
   ]
  },
  {
   "cell_type": "code",
   "execution_count": 7,
   "metadata": {},
   "outputs": [],
   "source": [
    "from sklearn.model_selection import train_test_split\n",
    "X1,X2,y_train,y_test = train_test_split(X,y,test_size = 0.1)"
   ]
  },
  {
   "cell_type": "code",
   "execution_count": 8,
   "metadata": {},
   "outputs": [
    {
     "data": {
      "text/plain": [
       "array([30, 80, 20, 80, 80, 70, 60, 30, 40, 20, 50], dtype=int64)"
      ]
     },
     "execution_count": 8,
     "metadata": {},
     "output_type": "execute_result"
    }
   ],
   "source": [
    "X2[1]"
   ]
  },
  {
   "cell_type": "code",
   "execution_count": 9,
   "metadata": {},
   "outputs": [
    {
     "data": {
      "text/plain": [
       "array([1, 0, 0, 1, 0, 0, 0, 0, 1, 0, 0, 1, 0, 1, 0, 0, 0, 1, 0, 0, 1, 1,\n",
       "       1, 0, 1, 0, 0, 0, 1, 1, 1, 0, 0, 0, 1, 0, 0, 0, 1, 0, 0, 0, 0, 1],\n",
       "      dtype=int64)"
      ]
     },
     "execution_count": 9,
     "metadata": {},
     "output_type": "execute_result"
    }
   ],
   "source": [
    "y_test[1]"
   ]
  },
  {
   "cell_type": "code",
   "execution_count": 10,
   "metadata": {},
   "outputs": [],
   "source": [
    "from sklearn.preprocessing import StandardScaler\n",
    "sc = StandardScaler()\n",
    "X_train = sc.fit_transform(X1)\n",
    "X_test= sc.fit_transform(X2)"
   ]
  },
  {
   "cell_type": "code",
   "execution_count": 11,
   "metadata": {},
   "outputs": [
    {
     "data": {
      "text/plain": [
       "(90000, 4, 11)"
      ]
     },
     "execution_count": 11,
     "metadata": {},
     "output_type": "execute_result"
    }
   ],
   "source": [
    "X_train = np.repeat(X_train[:, np.newaxis, : ], number_steps, axis=1)\n",
    "X_train.shape"
   ]
  },
  {
   "cell_type": "code",
   "execution_count": 12,
   "metadata": {},
   "outputs": [
    {
     "data": {
      "text/plain": [
       "(10000, 4, 11)"
      ]
     },
     "execution_count": 12,
     "metadata": {},
     "output_type": "execute_result"
    }
   ],
   "source": [
    "X_test = np.repeat(X_test[:, np.newaxis, : ], number_steps, axis=1)\n",
    "X_test.shape"
   ]
  },
  {
   "cell_type": "code",
   "execution_count": 13,
   "metadata": {},
   "outputs": [
    {
     "data": {
      "text/plain": [
       "array([0, 1, 0, 0, 0, 1, 0, 0, 0, 0, 1, 1, 0, 0, 1, 0, 0, 0, 0, 1, 0, 0,\n",
       "       0, 1, 0, 0, 1, 0, 1, 0, 0, 1, 1, 1, 0, 1, 0, 1, 1, 0, 0, 0, 0, 1],\n",
       "      dtype=int64)"
      ]
     },
     "execution_count": 13,
     "metadata": {},
     "output_type": "execute_result"
    }
   ],
   "source": [
    "y_train[0]"
   ]
  },
  {
   "cell_type": "code",
   "execution_count": 14,
   "metadata": {},
   "outputs": [
    {
     "data": {
      "text/plain": [
       "(90000, 4, 11)"
      ]
     },
     "execution_count": 14,
     "metadata": {},
     "output_type": "execute_result"
    }
   ],
   "source": [
    "y_train_2 = np.reshape(y_train,(y_train.shape[0], number_steps, number_edges))\n",
    "y_train_2.shape"
   ]
  },
  {
   "cell_type": "code",
   "execution_count": 15,
   "metadata": {},
   "outputs": [
    {
     "data": {
      "text/plain": [
       "array([[0, 1, 0, 0, 0, 1, 0, 0, 0, 0, 1],\n",
       "       [1, 0, 0, 1, 0, 0, 0, 0, 1, 0, 0],\n",
       "       [0, 1, 0, 0, 1, 0, 1, 0, 0, 1, 1],\n",
       "       [1, 0, 1, 0, 1, 1, 0, 0, 0, 0, 1]], dtype=int64)"
      ]
     },
     "execution_count": 15,
     "metadata": {},
     "output_type": "execute_result"
    }
   ],
   "source": [
    "y_train_2[0]"
   ]
  },
  {
   "cell_type": "code",
   "execution_count": 16,
   "metadata": {},
   "outputs": [
    {
     "data": {
      "text/plain": [
       "(10000, 4, 11)"
      ]
     },
     "execution_count": 16,
     "metadata": {},
     "output_type": "execute_result"
    }
   ],
   "source": [
    "y_test_2 = np.reshape(y_test,(y_test.shape[0], number_steps, number_edges))\n",
    "y_test_2.shape"
   ]
  },
  {
   "cell_type": "code",
   "execution_count": 17,
   "metadata": {},
   "outputs": [
    {
     "data": {
      "text/plain": [
       "array([30, 80, 20, 80, 80, 70, 60, 30, 40, 20, 50], dtype=int64)"
      ]
     },
     "execution_count": 17,
     "metadata": {},
     "output_type": "execute_result"
    }
   ],
   "source": [
    "X2[1,:]"
   ]
  },
  {
   "cell_type": "code",
   "execution_count": 18,
   "metadata": {},
   "outputs": [],
   "source": [
    "class Network:\n",
    "    def __init__(self):\n",
    "        self.model = Sequential()\n",
    "        self.model.add(SimpleRNN(16, input_shape=(number_steps, number_edges), \n",
    "                            return_sequences=True))\n",
    "#         model.add(SimpleRNN(64, return_sequences=True))\n",
    "        self.model.add(TimeDistributed(Dense(number_edges, activation='sigmoid')))\n",
    "        self.model.compile(loss='BinaryCrossentropy', optimizer='adam')\n",
    "        self.fitness = float('inf')\n",
    "\n",
    "    def train(self):\n",
    "        self.model.fit(X_train, y_train_2, epochs=100, batch_size=64)\n",
    "    \n",
    "    def evaluate(self):\n",
    "        loss = self.model.evaluate(X_train, y_train_2)\n",
    "        return loss\n",
    "    \n",
    "    def set_weights(self, weights):\n",
    "        self.model.set_weights(weights) \n",
    "    \n",
    "    def get_weights(self):\n",
    "        return self.model.get_weights()\n",
    "    \n",
    "    def architecture(self):\n",
    "        self.model.summary()"
   ]
  },
  {
   "cell_type": "code",
   "execution_count": 19,
   "metadata": {},
   "outputs": [],
   "source": [
    "class GeneticAlgorithm:\n",
    "    def __init__(self, N, Max, Pc, Pm, Ts):\n",
    "        self.N = N\n",
    "        self.Max = Max\n",
    "        self.Pm = Pm\n",
    "        self.Pc = Pc\n",
    "        self.population = [Network() for i in range(self.N)]\n",
    "        self.best = Network()\n",
    "        self.Ts = Ts\n",
    "        self.children_population_weights = []\n",
    "    \n",
    "    def Train_generation(self):\n",
    "        i =  0\n",
    "        for member in self.population:\n",
    "            print(\"Train for member: \",i)\n",
    "            i+=1\n",
    "            member.train()\n",
    "            \n",
    "    def Train_best(self):\n",
    "        self.best.train()\n",
    "        \n",
    "    def Calculate_fitness(self):\n",
    "        for i in range(len(self.population)):\n",
    "            self.population[i].fitness = self.population[i].evaluate()\n",
    "        \n",
    "#    trao doi cheo 1 thanh phan weights\n",
    "    def Crossover(self):\n",
    "        self.children_population_weights.clear()\n",
    "        for i in range(0,self.N,2):\n",
    "            father = np.random.randint(0,self.N)\n",
    "            mother = np.random.randint(0,self.N)\n",
    "            father_weights = self.population[father].get_weights()\n",
    "            mother_weights = self.population[mother].get_weights()\n",
    "            if np.random.uniform(0,1) < self.Pc:           \n",
    "                mid_point = np.random.choice([i for i in range(len(father_weights))])\n",
    "                temp = copy.deepcopy(father_weights[mid_point])\n",
    "                father_weights[mid_point] = copy.deepcopy(mother_weights[mid_point])\n",
    "                mother_weights[mid_point] = copy.deepcopy(temp)\n",
    "                self.children_population_weights.append(father_weights)\n",
    "                self.children_population_weights.append(mother_weights)\n",
    "            else:\n",
    "                self.children_population_weights.append(father_weights)\n",
    "                self.children_population_weights.append(mother_weights)\n",
    "        for i in range(len(self.children_population_weights)):\n",
    "            self.population = [Network() for i in range(len(self.children_population_weights))]\n",
    "            self.population[i].set_weights(self.children_population_weights[i])\n",
    "        \n",
    "#     mutation 1 thanh phan weight\n",
    "    def Mutation(self):\n",
    "        for member in self.population:\n",
    "            if np.random.uniform(0,1) < self.Pm:\n",
    "                old_weight = member.get_weights()\n",
    "                i = np.random.randint(0,len(old_weight))\n",
    "                sigma = old_weight[i].std()\n",
    "                addition = np.random.normal(0, sigma, size=old_weight[i].shape)\n",
    "                old_weight[i] = old_weight[i] + addition\n",
    "                member.set_weights(old_weight)\n",
    "    \n",
    "    def Selection(self):\n",
    "        self.children_population_weights.clear()\n",
    "        t = []\n",
    "        for i in range(self.N):\n",
    "            selected_index = np.random.randint(0,len(self.population))\n",
    "            for ix in np.random.randint(0,len(self.population),self.Ts-1):\n",
    "                if(self.population[ix].fitness < self.population[selected_index].fitness):\n",
    "                    selected_index = ix\n",
    "            t.append(self.population[selected_index].fitness)\n",
    "            self.children_population_weights.append(self.population[selected_index].get_weights())\n",
    "        for i in range(self.N):\n",
    "            self.population[i].set_weights(self.children_population_weights[i])\n",
    "            self.population[i].fitness = t[i]\n",
    "    \n",
    "    def GetBest(self):\n",
    "        self.population.sort(key=lambda x: x.fitness)\n",
    "        if self.population[0].fitness < self.best.fitness:\n",
    "            self.best.set_weights(self.population[0].get_weights())\n",
    "            self.best.fitness = self.population[0].fitness\n",
    "\n",
    "    def Do(self):\n",
    "        for i in range(self.Max):\n",
    "            self.Crossover()\n",
    "            self.Mutation()\n",
    "            self.Calculate_fitness()\n",
    "            self.Selection()\n",
    "            self.GetBest()\n",
    "            print(\"best fitness:\",self.best.fitness)\n",
    "            print(\"i = \",i)\n",
    "        self.Train_best()"
   ]
  },
  {
   "cell_type": "code",
   "execution_count": 20,
   "metadata": {},
   "outputs": [],
   "source": [
    "N = 5\n",
    "Max = 10\n",
    "Pc = 0.5\n",
    "Pm = 0.05\n",
    "Ts = 2"
   ]
  },
  {
   "cell_type": "code",
   "execution_count": 21,
   "metadata": {},
   "outputs": [
    {
     "name": "stdout",
     "output_type": "stream",
     "text": [
      "2813/2813 [==============================] - 5s 2ms/step - loss: 0.7166\n",
      "2813/2813 [==============================] - 5s 2ms/step - loss: 0.7395\n",
      "2813/2813 [==============================] - 5s 2ms/step - loss: 0.7788\n",
      "2813/2813 [==============================] - 5s 2ms/step - loss: 0.7486\n",
      "2813/2813 [==============================] - 5s 2ms/step - loss: 0.7340\n",
      "2813/2813 [==============================] - 5s 2ms/step - loss: 0.7502\n",
      "best fitness: 0.7165676355361938\n",
      "i =  0\n",
      "2813/2813 [==============================] - 5s 2ms/step - loss: 0.7468\n",
      "2813/2813 [==============================] - 5s 2ms/step - loss: 0.7437\n",
      "2813/2813 [==============================] - 5s 2ms/step - loss: 0.7634\n",
      "2813/2813 [==============================] - 5s 2ms/step - loss: 0.7566\n",
      "2813/2813 [==============================] - 5s 2ms/step - loss: 0.7474\n",
      "2813/2813 [==============================] - 5s 2ms/step - loss: 0.7395\n",
      "best fitness: 0.7165676355361938\n",
      "i =  1\n",
      "2813/2813 [==============================] - 5s 2ms/step - loss: 0.7581\n",
      "2813/2813 [==============================] - 5s 2ms/step - loss: 0.7562\n",
      "2813/2813 [==============================] - 5s 2ms/step - loss: 0.7613\n",
      "2813/2813 [==============================] - 5s 2ms/step - loss: 0.7793\n",
      "2813/2813 [==============================] - 5s 2ms/step - loss: 0.7531\n",
      "2813/2813 [==============================] - 5s 2ms/step - loss: 0.7395\n",
      "best fitness: 0.7165676355361938\n",
      "i =  2\n",
      "2813/2813 [==============================] - 5s 2ms/step - loss: 0.7342\n",
      "2813/2813 [==============================] - 5s 2ms/step - loss: 0.7541\n",
      "2813/2813 [==============================] - 5s 2ms/step - loss: 0.7185\n",
      "2813/2813 [==============================] - 5s 2ms/step - loss: 0.7524\n",
      "2813/2813 [==============================] - 5s 2ms/step - loss: 0.7456\n",
      "2813/2813 [==============================] - 5s 2ms/step - loss: 0.7395\n",
      "best fitness: 0.7165676355361938\n",
      "i =  3\n",
      "2813/2813 [==============================] - 5s 2ms/step - loss: 0.7552\n",
      "2813/2813 [==============================] - 5s 2ms/step - loss: 0.7407\n",
      "2813/2813 [==============================] - 5s 2ms/step - loss: 0.7585\n",
      "2813/2813 [==============================] - 5s 2ms/step - loss: 0.7386\n",
      "2813/2813 [==============================] - 5s 2ms/step - loss: 0.7447\n",
      "2813/2813 [==============================] - 5s 2ms/step - loss: 0.7395\n",
      "best fitness: 0.7165676355361938\n",
      "i =  4\n",
      "2813/2813 [==============================] - 5s 2ms/step - loss: 0.7492\n",
      "2813/2813 [==============================] - 5s 2ms/step - loss: 0.7481\n",
      "2813/2813 [==============================] - 5s 2ms/step - loss: 0.7559\n",
      "2813/2813 [==============================] - 5s 2ms/step - loss: 0.7497\n",
      "2813/2813 [==============================] - 5s 2ms/step - loss: 0.7571\n",
      "2813/2813 [==============================] - 5s 2ms/step - loss: 0.7351\n",
      "best fitness: 0.7165676355361938\n",
      "i =  5\n",
      "2813/2813 [==============================] - 5s 2ms/step - loss: 0.7407\n",
      "2813/2813 [==============================] - 5s 2ms/step - loss: 0.7565\n",
      "2813/2813 [==============================] - 5s 2ms/step - loss: 0.7443\n",
      "2813/2813 [==============================] - 5s 2ms/step - loss: 0.7119\n",
      "2813/2813 [==============================] - 5s 2ms/step - loss: 0.7370\n",
      "2813/2813 [==============================] - 5s 2ms/step - loss: 0.7492\n",
      "best fitness: 0.7165676355361938\n",
      "i =  6\n",
      "2813/2813 [==============================] - 5s 2ms/step - loss: 0.7870\n",
      "2813/2813 [==============================] - 5s 2ms/step - loss: 0.7501\n",
      "2813/2813 [==============================] - 5s 2ms/step - loss: 0.7276\n",
      "2813/2813 [==============================] - 5s 2ms/step - loss: 0.7551\n",
      "2813/2813 [==============================] - 5s 2ms/step - loss: 0.7659\n",
      "2813/2813 [==============================] - 5s 2ms/step - loss: 0.7370\n",
      "best fitness: 0.7165676355361938\n",
      "i =  7\n",
      "2813/2813 [==============================] - 5s 2ms/step - loss: 0.7530\n",
      "2813/2813 [==============================] - 5s 2ms/step - loss: 0.7570\n",
      "2813/2813 [==============================] - 5s 2ms/step - loss: 0.7731\n",
      "2813/2813 [==============================] - 5s 2ms/step - loss: 0.7273\n",
      "2813/2813 [==============================] - 5s 2ms/step - loss: 0.7598\n",
      "2813/2813 [==============================] - 5s 2ms/step - loss: 0.7322\n",
      "best fitness: 0.7165676355361938\n",
      "i =  8\n",
      "2813/2813 [==============================] - 5s 2ms/step - loss: 0.7353\n",
      "2813/2813 [==============================] - 5s 2ms/step - loss: 0.7617\n",
      "2813/2813 [==============================] - 5s 2ms/step - loss: 0.7631\n",
      "2813/2813 [==============================] - 5s 2ms/step - loss: 0.7588\n",
      "2813/2813 [==============================] - 5s 2ms/step - loss: 0.7358\n",
      "2813/2813 [==============================] - 5s 2ms/step - loss: 0.7363\n",
      "best fitness: 0.7165676355361938\n",
      "i =  9\n",
      "Epoch 1/100\n",
      "1407/1407 [==============================] - 4s 2ms/step - loss: 0.5005\n",
      "Epoch 2/100\n",
      "1407/1407 [==============================] - 3s 2ms/step - loss: 0.4001\n",
      "Epoch 3/100\n",
      "1407/1407 [==============================] - 3s 2ms/step - loss: 0.3781\n",
      "Epoch 4/100\n",
      "1407/1407 [==============================] - 3s 2ms/step - loss: 0.3670\n",
      "Epoch 5/100\n",
      "1407/1407 [==============================] - 3s 2ms/step - loss: 0.3602\n",
      "Epoch 6/100\n",
      "1407/1407 [==============================] - 3s 2ms/step - loss: 0.3554\n",
      "Epoch 7/100\n",
      "1407/1407 [==============================] - 3s 2ms/step - loss: 0.3517\n",
      "Epoch 8/100\n",
      "1407/1407 [==============================] - 3s 2ms/step - loss: 0.3484\n",
      "Epoch 9/100\n",
      "1407/1407 [==============================] - 4s 3ms/step - loss: 0.3456\n",
      "Epoch 10/100\n",
      "1407/1407 [==============================] - 4s 3ms/step - loss: 0.3433\n",
      "Epoch 11/100\n",
      "1407/1407 [==============================] - 4s 3ms/step - loss: 0.3411\n",
      "Epoch 12/100\n",
      "1407/1407 [==============================] - 3s 2ms/step - loss: 0.3389\n",
      "Epoch 13/100\n",
      "1407/1407 [==============================] - 4s 3ms/step - loss: 0.3369\n",
      "Epoch 14/100\n",
      "1407/1407 [==============================] - 4s 3ms/step - loss: 0.3349\n",
      "Epoch 15/100\n",
      "1407/1407 [==============================] - 5s 3ms/step - loss: 0.3331\n",
      "Epoch 16/100\n",
      "1407/1407 [==============================] - 4s 3ms/step - loss: 0.3315\n",
      "Epoch 17/100\n",
      "1407/1407 [==============================] - 4s 3ms/step - loss: 0.3298\n",
      "Epoch 18/100\n",
      "1407/1407 [==============================] - 3s 2ms/step - loss: 0.3281\n",
      "Epoch 19/100\n",
      "1407/1407 [==============================] - 3s 2ms/step - loss: 0.3265\n",
      "Epoch 20/100\n",
      "1407/1407 [==============================] - 3s 2ms/step - loss: 0.3247\n",
      "Epoch 21/100\n",
      "1407/1407 [==============================] - 4s 3ms/step - loss: 0.3230\n",
      "Epoch 22/100\n",
      "1407/1407 [==============================] - 3s 2ms/step - loss: 0.3213\n",
      "Epoch 23/100\n",
      "1407/1407 [==============================] - 3s 2ms/step - loss: 0.3198\n",
      "Epoch 24/100\n",
      "1407/1407 [==============================] - 4s 2ms/step - loss: 0.3184\n",
      "Epoch 25/100\n",
      "1407/1407 [==============================] - 4s 3ms/step - loss: 0.3171\n",
      "Epoch 26/100\n",
      "1407/1407 [==============================] - 4s 3ms/step - loss: 0.3160\n",
      "Epoch 27/100\n",
      "1407/1407 [==============================] - 3s 2ms/step - loss: 0.3149\n",
      "Epoch 28/100\n",
      "1407/1407 [==============================] - 3s 2ms/step - loss: 0.3140\n",
      "Epoch 29/100\n",
      "1407/1407 [==============================] - 4s 3ms/step - loss: 0.3131\n",
      "Epoch 30/100\n",
      "1407/1407 [==============================] - 3s 2ms/step - loss: 0.3122\n",
      "Epoch 31/100\n",
      "1407/1407 [==============================] - 3s 2ms/step - loss: 0.3115\n",
      "Epoch 32/100\n",
      "1407/1407 [==============================] - 3s 2ms/step - loss: 0.3108\n",
      "Epoch 33/100\n",
      "1407/1407 [==============================] - 4s 3ms/step - loss: 0.3101\n",
      "Epoch 34/100\n",
      "1407/1407 [==============================] - 4s 3ms/step - loss: 0.3093\n",
      "Epoch 35/100\n",
      "1407/1407 [==============================] - 4s 3ms/step - loss: 0.3086\n",
      "Epoch 36/100\n",
      "1407/1407 [==============================] - 3s 2ms/step - loss: 0.3079\n",
      "Epoch 37/100\n",
      "1407/1407 [==============================] - 3s 2ms/step - loss: 0.3071\n",
      "Epoch 38/100\n",
      "1407/1407 [==============================] - 3s 2ms/step - loss: 0.3063\n",
      "Epoch 39/100\n",
      "1407/1407 [==============================] - 4s 2ms/step - loss: 0.3056\n",
      "Epoch 40/100\n",
      "1407/1407 [==============================] - 3s 2ms/step - loss: 0.3047\n",
      "Epoch 41/100\n",
      "1407/1407 [==============================] - 3s 2ms/step - loss: 0.3038\n"
     ]
    },
    {
     "name": "stdout",
     "output_type": "stream",
     "text": [
      "Epoch 42/100\n",
      "1407/1407 [==============================] - 3s 2ms/step - loss: 0.3030\n",
      "Epoch 43/100\n",
      "1407/1407 [==============================] - 3s 2ms/step - loss: 0.3023\n",
      "Epoch 44/100\n",
      "1407/1407 [==============================] - 3s 2ms/step - loss: 0.3015\n",
      "Epoch 45/100\n",
      "1407/1407 [==============================] - 3s 2ms/step - loss: 0.3010\n",
      "Epoch 46/100\n",
      "1407/1407 [==============================] - 3s 2ms/step - loss: 0.3003\n",
      "Epoch 47/100\n",
      "1407/1407 [==============================] - 4s 3ms/step - loss: 0.2996\n",
      "Epoch 48/100\n",
      "1407/1407 [==============================] - 3s 2ms/step - loss: 0.2990\n",
      "Epoch 49/100\n",
      "1407/1407 [==============================] - 3s 2ms/step - loss: 0.2985\n",
      "Epoch 50/100\n",
      "1407/1407 [==============================] - 3s 2ms/step - loss: 0.2980\n",
      "Epoch 51/100\n",
      "1407/1407 [==============================] - 3s 2ms/step - loss: 0.2974\n",
      "Epoch 52/100\n",
      "1407/1407 [==============================] - 4s 2ms/step - loss: 0.2969\n",
      "Epoch 53/100\n",
      "1407/1407 [==============================] - 3s 2ms/step - loss: 0.2964\n",
      "Epoch 54/100\n",
      "1407/1407 [==============================] - 3s 2ms/step - loss: 0.2959\n",
      "Epoch 55/100\n",
      "1407/1407 [==============================] - 3s 2ms/step - loss: 0.2954\n",
      "Epoch 56/100\n",
      "1407/1407 [==============================] - 3s 2ms/step - loss: 0.2951\n",
      "Epoch 57/100\n",
      "1407/1407 [==============================] - 3s 2ms/step - loss: 0.2946\n",
      "Epoch 58/100\n",
      "1407/1407 [==============================] - 3s 2ms/step - loss: 0.2943\n",
      "Epoch 59/100\n",
      "1407/1407 [==============================] - 3s 2ms/step - loss: 0.2940\n",
      "Epoch 60/100\n",
      "1407/1407 [==============================] - 3s 2ms/step - loss: 0.2938\n",
      "Epoch 61/100\n",
      "1407/1407 [==============================] - 3s 2ms/step - loss: 0.2934\n",
      "Epoch 62/100\n",
      "1407/1407 [==============================] - 4s 3ms/step - loss: 0.2932\n",
      "Epoch 63/100\n",
      "1407/1407 [==============================] - 4s 2ms/step - loss: 0.2930\n",
      "Epoch 64/100\n",
      "1407/1407 [==============================] - 3s 2ms/step - loss: 0.2928\n",
      "Epoch 65/100\n",
      "1407/1407 [==============================] - 3s 2ms/step - loss: 0.2924\n",
      "Epoch 66/100\n",
      "1407/1407 [==============================] - 4s 3ms/step - loss: 0.2923\n",
      "Epoch 67/100\n",
      "1407/1407 [==============================] - 4s 2ms/step - loss: 0.2920\n",
      "Epoch 68/100\n",
      "1407/1407 [==============================] - 3s 2ms/step - loss: 0.2918\n",
      "Epoch 69/100\n",
      "1407/1407 [==============================] - 3s 2ms/step - loss: 0.2917\n",
      "Epoch 70/100\n",
      "1407/1407 [==============================] - 3s 2ms/step - loss: 0.2915\n",
      "Epoch 71/100\n",
      "1407/1407 [==============================] - 3s 2ms/step - loss: 0.2913\n",
      "Epoch 72/100\n",
      "1407/1407 [==============================] - 3s 2ms/step - loss: 0.2911\n",
      "Epoch 73/100\n",
      "1407/1407 [==============================] - 3s 2ms/step - loss: 0.2908\n",
      "Epoch 74/100\n",
      "1407/1407 [==============================] - 3s 2ms/step - loss: 0.2906\n",
      "Epoch 75/100\n",
      "1407/1407 [==============================] - 3s 2ms/step - loss: 0.2905\n",
      "Epoch 76/100\n",
      "1407/1407 [==============================] - 3s 2ms/step - loss: 0.2902\n",
      "Epoch 77/100\n",
      "1407/1407 [==============================] - 3s 2ms/step - loss: 0.2900\n",
      "Epoch 78/100\n",
      "1407/1407 [==============================] - 3s 2ms/step - loss: 0.2899\n",
      "Epoch 79/100\n",
      "1407/1407 [==============================] - 4s 3ms/step - loss: 0.2896\n",
      "Epoch 80/100\n",
      "1407/1407 [==============================] - 3s 2ms/step - loss: 0.2893\n",
      "Epoch 81/100\n",
      "1407/1407 [==============================] - 3s 2ms/step - loss: 0.2892\n",
      "Epoch 82/100\n",
      "1407/1407 [==============================] - 3s 2ms/step - loss: 0.2890\n",
      "Epoch 83/100\n",
      "1407/1407 [==============================] - 3s 2ms/step - loss: 0.2888\n",
      "Epoch 84/100\n",
      "1407/1407 [==============================] - 3s 2ms/step - loss: 0.2886\n",
      "Epoch 85/100\n",
      "1407/1407 [==============================] - 3s 2ms/step - loss: 0.2884\n",
      "Epoch 86/100\n",
      "1407/1407 [==============================] - 4s 3ms/step - loss: 0.2882\n",
      "Epoch 87/100\n",
      "1407/1407 [==============================] - 5s 4ms/step - loss: 0.2880\n",
      "Epoch 88/100\n",
      "1407/1407 [==============================] - 5s 4ms/step - loss: 0.2878\n",
      "Epoch 89/100\n",
      "1407/1407 [==============================] - 4s 3ms/step - loss: 0.2876\n",
      "Epoch 90/100\n",
      "1407/1407 [==============================] - 4s 3ms/step - loss: 0.2874\n",
      "Epoch 91/100\n",
      "1407/1407 [==============================] - 3s 2ms/step - loss: 0.2871\n",
      "Epoch 92/100\n",
      "1407/1407 [==============================] - 3s 2ms/step - loss: 0.2871\n",
      "Epoch 93/100\n",
      "1407/1407 [==============================] - 4s 3ms/step - loss: 0.2868\n",
      "Epoch 94/100\n",
      "1407/1407 [==============================] - 3s 2ms/step - loss: 0.2866\n",
      "Epoch 95/100\n",
      "1407/1407 [==============================] - 3s 2ms/step - loss: 0.2864\n",
      "Epoch 96/100\n",
      "1407/1407 [==============================] - 3s 2ms/step - loss: 0.2862\n",
      "Epoch 97/100\n",
      "1407/1407 [==============================] - 3s 2ms/step - loss: 0.2860\n",
      "Epoch 98/100\n",
      "1407/1407 [==============================] - 3s 2ms/step - loss: 0.2858\n",
      "Epoch 99/100\n",
      "1407/1407 [==============================] - 3s 2ms/step - loss: 0.2856\n",
      "Epoch 100/100\n",
      "1407/1407 [==============================] - 3s 2ms/step - loss: 0.2855\n"
     ]
    }
   ],
   "source": [
    "GA = GeneticAlgorithm(N, Max, Pc, Pm, Ts)\n",
    "GA.Do()"
   ]
  },
  {
   "cell_type": "code",
   "execution_count": null,
   "metadata": {},
   "outputs": [],
   "source": []
  }
 ],
 "metadata": {
  "kernelspec": {
   "display_name": "Python 3 (ipykernel)",
   "language": "python",
   "name": "python3"
  },
  "language_info": {
   "codemirror_mode": {
    "name": "ipython",
    "version": 3
   },
   "file_extension": ".py",
   "mimetype": "text/x-python",
   "name": "python",
   "nbconvert_exporter": "python",
   "pygments_lexer": "ipython3",
   "version": "3.8.10"
  }
 },
 "nbformat": 4,
 "nbformat_minor": 2
}
